{
  "cells": [
    {
      "cell_type": "markdown",
      "metadata": {
        "id": "view-in-github",
        "colab_type": "text"
      },
      "source": [
        "<a href=\"https://colab.research.google.com/github/archivesunleashed/notebooks/blob/main/PySpark%20Examples/aut_pyspark.ipynb\" target=\"_parent\"><img src=\"https://colab.research.google.com/assets/colab-badge.svg\" alt=\"Open In Colab\"/></a>"
      ]
    },
    {
      "cell_type": "markdown",
      "metadata": {
        "id": "GkPhOw8fslFL"
      },
      "source": [
        "# Working with AUT and PySpark"
      ]
    },
    {
      "cell_type": "markdown",
      "metadata": {
        "id": "El8PD9awsppz"
      },
      "source": [
        "## Environment"
      ]
    },
    {
      "cell_type": "markdown",
      "metadata": {
        "id": "QhI9p5mRsx1f"
      },
      "source": [
        "## Setup PySpark\n",
        "\n",
        "The following commands download and install PySpark.\n"
      ]
    },
    {
      "cell_type": "code",
      "execution_count": 1,
      "metadata": {
        "id": "goue9Wuy4Jdr"
      },
      "outputs": [],
      "source": [
        "%%capture\n",
        "\n",
        "!wget \"https://github.com/archivesunleashed/aut/releases/download/aut-1.1.0/aut-1.1.0.zip\"\n",
        "!wget \"https://github.com/archivesunleashed/aut/releases/download/aut-1.1.0/aut-1.1.0-fatjar.jar\""
      ]
    },
    {
      "cell_type": "code",
      "execution_count": 4,
      "metadata": {
        "colab": {
          "base_uri": "https://localhost:8080/"
        },
        "id": "jX92o_3K9FVj",
        "outputId": "7240daae-351e-4f84-88c9-88ed2e50f232"
      },
      "outputs": [
        {
          "output_type": "stream",
          "name": "stdout",
          "text": [
            "aut-1.1.0-fatjar.jar  sample_data\t\t spark-3.1.1-bin-hadoop2.7.tgz\n",
            "aut-1.1.0.zip\t      spark-3.1.1-bin-hadoop2.7\n"
          ]
        }
      ],
      "source": [
        "!ls"
      ]
    },
    {
      "cell_type": "code",
      "execution_count": 3,
      "metadata": {
        "id": "pmbFuSz5szQ1"
      },
      "outputs": [],
      "source": [
        "%%capture\n",
        "\n",
        "!apt-get update\n",
        "!apt-get install -y openjdk-11-jdk-headless -qq \n",
        "!apt-get install maven -qq\n",
        "\n",
        "!curl -L \"https://archive.apache.org/dist/spark/spark-3.1.1/spark-3.1.1-bin-hadoop2.7.tgz\" > spark-3.1.1-bin-hadoop2.7.tgz\n",
        "!tar -xvf spark-3.1.1-bin-hadoop2.7.tgz\n",
        "!pip install -q findspark"
      ]
    },
    {
      "cell_type": "code",
      "execution_count": 5,
      "metadata": {
        "id": "iWySNZFls542"
      },
      "outputs": [],
      "source": [
        "import os\n",
        "os.environ[\"JAVA_HOME\"] = \"/usr/lib/jvm/java-1.11.0-openjdk-amd64\"\n",
        "os.environ[\"SPARK_HOME\"] = \"/content/spark-3.1.1-bin-hadoop2.7\"\n",
        "os.environ['PYSPARK_SUBMIT_ARGS'] = '--jars aut-1.1.0-fatjar.jar --py-files aut-1.1.0.zip pyspark-shell'"
      ]
    },
    {
      "cell_type": "code",
      "execution_count": 6,
      "metadata": {
        "id": "giGxwK0as6BN"
      },
      "outputs": [],
      "source": [
        "import findspark\n",
        "findspark.init()\n",
        "import pyspark\n",
        "sc = pyspark.SparkContext()\n",
        "from pyspark.sql import SQLContext\n",
        "sqlContext = SQLContext(sc)"
      ]
    },
    {
      "cell_type": "markdown",
      "metadata": {
        "id": "tjpj2PyttClF"
      },
      "source": [
        "## Data\n",
        "\n",
        "This directory contains sample data that you might want to use with the Archives Unleashed Toolkit. The ARC and WARC file are drawn from the Canadian Political Parties & Political Interest Groups Archive-It Collection, collected by the University of Toronto. We are grateful that they've provided this material to us.\n",
        "\n",
        "If you use their material, please cite it as (in this case if a website):\n",
        "\n",
        "    University of Toronto Libraries, Canadian Political Parties and Interest Groups, Archive-It Collection 227, Canadian Action Party, http://wayback.archive-it.org/227/20051004191340/http://canadianactionparty.ca/Default2.asp\n"
      ]
    },
    {
      "cell_type": "code",
      "execution_count": 7,
      "metadata": {
        "id": "AB47vlXOtAzM"
      },
      "outputs": [],
      "source": [
        "%%capture\n",
        "!mkdir data\n",
        "!wget \"https://github.com/archivesunleashed/aut-resources/blob/master/Sample-Data/ARCHIVEIT-227-UOFTORONTO-CANPOLPINT-20060622205612-00009-crawling025.archive.org.arc.gz?raw=true\" -O data/ARCHIVEIT-227-UOFTORONTO-CANPOLPINT-20060622205612-00009-crawling025.archive.org.arc.gz\n",
        "!wget \"https://github.com/archivesunleashed/aut-resources/blob/master/Sample-Data/ARCHIVEIT-227-QUARTERLY-XUGECV-20091218231727-00039-crawling06.us.archive.org-8091.warc.gz?raw=true\" -O data/ARCHIVEIT-227-QUARTERLY-XUGECV-20091218231727-00039-crawling06.us.archive.org-8091.warc.gz"
      ]
    },
    {
      "cell_type": "code",
      "execution_count": 8,
      "metadata": {
        "colab": {
          "base_uri": "https://localhost:8080/"
        },
        "id": "BVHxIDQbtDIp",
        "outputId": "2068c16d-1ca7-4803-cbca-958908cff9ba"
      },
      "outputs": [
        {
          "output_type": "stream",
          "name": "stdout",
          "text": [
            "ARCHIVEIT-227-QUARTERLY-XUGECV-20091218231727-00039-crawling06.us.archive.org-8091.warc.gz\n",
            "ARCHIVEIT-227-UOFTORONTO-CANPOLPINT-20060622205612-00009-crawling025.archive.org.arc.gz\n"
          ]
        }
      ],
      "source": [
        "!ls data"
      ]
    },
    {
      "cell_type": "code",
      "execution_count": 24,
      "metadata": {
        "id": "cKf6SOu69vDi"
      },
      "outputs": [],
      "source": [
        "from aut import *\n",
        "from pyspark.sql.functions import col, desc"
      ]
    },
    {
      "cell_type": "code",
      "execution_count": 10,
      "metadata": {
        "id": "c5wnsqQG9wXh"
      },
      "outputs": [],
      "source": [
        "archive = WebArchive(sc, sqlContext, \"data\")"
      ]
    },
    {
      "cell_type": "code",
      "execution_count": 11,
      "metadata": {
        "colab": {
          "base_uri": "https://localhost:8080/"
        },
        "id": "pED7i5LwABDU",
        "outputId": "ddacf8e1-be09-433a-e521-b4c6a1b170cd"
      },
      "outputs": [
        {
          "output_type": "stream",
          "name": "stdout",
          "text": [
            "+--------------+--------------------+--------------------+--------------------+--------------------+--------+--------------------+\n",
            "|    crawl_date|              domain|                 url|mime_type_web_server|      mime_type_tika|language|             content|\n",
            "+--------------+--------------------+--------------------+--------------------+--------------------+--------+--------------------+\n",
            "|20060622205609|              gca.ca|http://www.gca.ca...|           text/html|           text/html|      en|Green Communities...|\n",
            "|20060622205609|         ppforum.com|http://www.ppforu...|           text/html|           text/html|      en|Speeches - Public...|\n",
            "|20060622205609|  communist-party.ca|http://communist-...|           text/html|           text/html|      en|Calendar CPC Comi...|\n",
            "|20060622205610|     canadafirst.net|http://www.canada...|           text/html|           text/html|      en|TERRORIST DESTINA...|\n",
            "|20060622205610|             web.net|http://www.web.ne...|           text/html|           text/html|      en|Meeting with edit...|\n",
            "|20060622205610|             ccsd.ca|http://www.ccsd.c...|           text/html|           text/html|      fr|Conseil canadien ...|\n",
            "|20060622205610|policyalternative...|http://www.policy...|           text/html|           text/html|      en|Canadian Centre f...|\n",
            "|20060622205609|              afn.ca|http://www.afn.ca...|           text/html|           text/html|      en|Assembly of First...|\n",
            "|20060622205609|       greenparty.ca|http://greenparty...|           text/html|application/xhtml...|      en|Green Party of Ca...|\n",
            "|20060622205612|       equalvoice.ca|http://www.equalv...|           text/html|           text/html|      en|Equal Voice - Wha...|\n",
            "+--------------+--------------------+--------------------+--------------------+--------------------+--------+--------------------+\n",
            "only showing top 10 rows\n",
            "\n"
          ]
        }
      ],
      "source": [
        "webpages = archive.webpages()\n",
        "webpages.show(10, True)"
      ]
    },
    {
      "cell_type": "code",
      "execution_count": 27,
      "metadata": {
        "colab": {
          "base_uri": "https://localhost:8080/"
        },
        "id": "ORPMV0_PAOzf",
        "outputId": "c82bf413-9cb4-45df-978a-8cada34cceb4"
      },
      "outputs": [
        {
          "output_type": "stream",
          "name": "stdout",
          "text": [
            "+--------------+--------------------+--------------------+------+\n",
            "|    crawl_date|                 src|                dest|anchor|\n",
            "+--------------+--------------------+--------------------+------+\n",
            "|20060622205609|http://www.gca.ca...|http://www.gca.ca...|      |\n",
            "|20060622205609|http://www.gca.ca...|http://www.gca.ca...|      |\n",
            "|20060622205609|http://www.gca.ca...|http://www.gca.ca...|      |\n",
            "|20060622205609|http://www.gca.ca...|http://www.gca.ca...|      |\n",
            "|20060622205609|http://www.gca.ca...|http://www.gca.ca...|      |\n",
            "|20060622205609|http://www.gca.ca...|http://www.gca.ca...|      |\n",
            "|20060622205609|http://www.gca.ca...|http://www.gca.ca...|      |\n",
            "|20060622205609|http://www.gca.ca...|http://www.gca.ca...|      |\n",
            "|20060622205609|http://www.gca.ca...|http://www.gca.ca...|      |\n",
            "|20060622205609|http://www.gca.ca...|http://www.gca.ca...|      |\n",
            "+--------------+--------------------+--------------------+------+\n",
            "only showing top 10 rows\n",
            "\n"
          ]
        }
      ],
      "source": [
        "webgraph = archive.webgraph()\n",
        "webgraph.show(10, True)"
      ]
    },
    {
      "cell_type": "code",
      "execution_count": 14,
      "metadata": {
        "colab": {
          "base_uri": "https://localhost:8080/"
        },
        "id": "IQ_IvDGaApQt",
        "outputId": "230ece93-74a4-4f92-89a9-6d318660e8e9"
      },
      "outputs": [
        {
          "output_type": "stream",
          "name": "stdout",
          "text": [
            "+--------------+--------------------+--------------------+---------+--------------------+--------------+-----+------+--------------------+--------------------+--------------------+\n",
            "|    crawl_date|                 url|            filename|extension|mime_type_web_server|mime_type_tika|width|height|                 md5|                sha1|               bytes|\n",
            "+--------------+--------------------+--------------------+---------+--------------------+--------------+-----+------+--------------------+--------------------+--------------------+\n",
            "|20060622205609|http://coat.ncf.c...|         smith_a.jpg|      jpg|          image/jpeg|    image/jpeg|  211|   316|f74e58e4d894d7825...|1def0d1954d7e88cc...|/9j/4AAQSkZJRgABA...|\n",
            "|20060622205610|http://cpcml.ca/i...|060501JakartaIndo...|      jpg|          image/jpeg|    image/jpeg|  550|   336|10bb4e6a8a6425f56...|5ee9c80690172e05b...|/9j/4AAQSkZJRgABA...|\n",
            "|20060622205610|http://liberal.ca...|           35082.jpg|      jpg|          image/jpeg|    image/jpeg|  150|   214|53b8c09d4036562ab...|66890088455fa1317...|/9j/4AAQSkZJRgABA...|\n",
            "|20060622205610|http://www.ndp.ca...|OntarioTeam2-1024...|      jpg|          image/jpeg|    image/jpeg| 1024|   768|e0dd5b24660f21650...|abec5df51316bc69f...|/9j/4AAQSkZJRgABA...|\n",
            "|20060622205610|http://www.herita...|          yk_arm.gif|      gif|           image/gif|     image/gif|   82|   100|99cb9f66ac7932ee3...|b6d69101746c00c3e...|R0lGODlhUgBkAPcAA...|\n",
            "|20060622205610|http://agoracosmo...|     action_plan.jpg|      jpg|          image/jpeg|    image/jpeg|  130|   126|368fbfa64a7712255...|e7c0a4bac36f01a12...|/9j/4AAQSkZJRgABA...|\n",
            "|20060622205611|http://blocquebec...|    ass_emploi_2.gif|      gif|           image/gif|     image/gif|  545|    28|c3efedc0b5b26b6a6...|3a2383724543b1e2d...|R0lGODlhIQIcAPcAA...|\n",
            "|20060622205609|http://www.fin.gc...|     careers_02e.gif|      gif|           image/gif|     image/gif|   90|    25|77637c3e69c55c06b...|5a794f7e05e36ad15...|R0lGODlhWgAZAPcAA...|\n",
            "|20060622205613|http://www.canadi...|      dad_kids_L.jpg|      jpg|          image/jpeg|    image/jpeg|  180|   120|8ba99d546805fa5bd...|71de1655b92079635...|/9j/4AAQSkZJRgABA...|\n",
            "|20060622205614|http://www.herita...|         yk_flag.gif|      gif|           image/gif|     image/gif|  199|   100|4e1ab5e34d0a38631...|a9e7a3609038d0a2e...|R0lGODlhxwBkAPcAA...|\n",
            "+--------------+--------------------+--------------------+---------+--------------------+--------------+-----+------+--------------------+--------------------+--------------------+\n",
            "only showing top 10 rows\n",
            "\n"
          ]
        }
      ],
      "source": [
        "images = archive.images()\n",
        "images.show(10, True)"
      ]
    },
    {
      "cell_type": "code",
      "execution_count": 15,
      "metadata": {
        "colab": {
          "base_uri": "https://localhost:8080/"
        },
        "id": "LklbvcR_AvUW",
        "outputId": "ed2bfe3e-23b4-430e-99c6-7685fa6c5dda"
      },
      "outputs": [
        {
          "output_type": "stream",
          "name": "stdout",
          "text": [
            "+--------------+--------------------+--------------------+--------------------+\n",
            "|    crawl_date|                 src|           image_url|            alt_text|\n",
            "+--------------+--------------------+--------------------+--------------------+\n",
            "|20060622205609|http://www.gca.ca...|http://www.gca.ca...|Picture of the Gr...|\n",
            "|20060622205609|http://www.gca.ca...|http://www.gca.ca...|                    |\n",
            "|20060622205609|http://www.gca.ca...|http://www.gca.ca...|          Contact Us|\n",
            "|20060622205609|http://www.gca.ca...|http://www.gca.ca...|            Site Map|\n",
            "|20060622205609|http://www.gca.ca...|http://www.gca.ca...|      Privacy Policy|\n",
            "|20060622205609|http://www.gca.ca...|http://www.gca.ca...|                    |\n",
            "|20060622205609|http://www.gca.ca...|http://www.gca.ca...|                    |\n",
            "|20060622205609|http://www.gca.ca...|http://www.gca.ca...|                    |\n",
            "|20060622205609|http://www.gca.ca...|http://www.gca.ca...|   About Our Members|\n",
            "|20060622205609|http://www.gca.ca...|http://www.gca.ca...|            About Us|\n",
            "+--------------+--------------------+--------------------+--------------------+\n",
            "only showing top 10 rows\n",
            "\n"
          ]
        }
      ],
      "source": [
        "image_links = archive.imagegraph()\n",
        "image_links.show(10, True)"
      ]
    },
    {
      "cell_type": "code",
      "execution_count": 16,
      "metadata": {
        "colab": {
          "base_uri": "https://localhost:8080/"
        },
        "id": "7sDZpGHzA19m",
        "outputId": "ac11606c-cad8-49b4-8286-c803256f50a2"
      },
      "outputs": [
        {
          "output_type": "stream",
          "name": "stdout",
          "text": [
            "+--------------+--------------------+--------------------+---------+--------------------+---------------+--------------------+--------------------+--------------------+\n",
            "|    crawl_date|                 url|            filename|extension|mime_type_web_server| mime_type_tika|                 md5|                sha1|               bytes|\n",
            "+--------------+--------------------+--------------------+---------+--------------------+---------------+--------------------+--------------------+--------------------+\n",
            "|20060622205611|http://partimarij...|Massicotti_Affida...|      pdf|     application/pdf|application/pdf|4daa676e867d0ac65...|5d7c895db1b592aaa...|JVBERi0xLjIKJSDi4...|\n",
            "|20060622205613|http://www.web.ne...|      securityqs.PDF|      pdf|     application/pdf|application/pdf|eadd48d19fd55e103...|2ab70423309828af9...|JVBERi0xLjIgDQol4...|\n",
            "|20060622205615|http://partimarij...|           Ewing.pdf|      pdf|     application/pdf|application/pdf|8e43fec319e76e0f5...|930cd5ecf521b2b8f...|JVBERi0xLjIKJSDi4...|\n",
            "|20060622205614|http://www.libera...|           35050.pdf|      pdf|     application/pdf|application/pdf|d81be8c5e5305a3a0...|c5dcc3ecfae8823ff...|JVBERi0xLjQNJeLjz...|\n",
            "|20060622205621|http://www.web.ne...|ConfrontingMyths.pdf|      pdf|     application/pdf|application/pdf|81aac5dcd9da83763...|b3b2d23c4e76b1705...|JVBERi0xLjQNJeLjz...|\n",
            "|20060622205622|http://www.ppforu...|science_cohort_re...|      pdf|     application/pdf|application/pdf|e542a274868147014...|bc7eaad7b47d32785...|JVBERi0xLjINJeLjz...|\n",
            "|20060622205625|http://www.web.ne...|  rapportnov2004.pdf|      pdf|     application/pdf|application/pdf|9bfd3bba5576e77f7...|bbad6d21e52b849b4...|JVBERi0xLjUNJeLjz...|\n",
            "|20060622205626|http://www.ppforu...|nwmo_report_final...|      pdf|     application/pdf|application/pdf|e13d66039e73300aa...|4618fbf2a6b9dcc03...|JVBERi0xLjINJeLjz...|\n",
            "|20060622205623|http://www.libera...|           35002.pdf|      pdf|     application/pdf|application/pdf|b0595da30caaa0c35...|dbca484df2a672092...|JVBERi0xLjQNJeLjz...|\n",
            "|20060622205627|http://www.web.ne...|      Securiteqs.PDF|      pdf|     application/pdf|application/pdf|a79ca783b207979f9...|cb2a7e97cf5fff312...|JVBERi0xLjIgDQol4...|\n",
            "+--------------+--------------------+--------------------+---------+--------------------+---------------+--------------------+--------------------+--------------------+\n",
            "only showing top 10 rows\n",
            "\n"
          ]
        }
      ],
      "source": [
        "pdfs = archive.pdfs()\n",
        "pdfs.show(10, True)"
      ]
    },
    {
      "cell_type": "code",
      "execution_count": 17,
      "metadata": {
        "colab": {
          "base_uri": "https://localhost:8080/"
        },
        "id": "gIXiWnowA6C-",
        "outputId": "5abc57fd-e105-4e8e-ba19-f534a513e4e3"
      },
      "outputs": [
        {
          "output_type": "stream",
          "name": "stdout",
          "text": [
            "+--------------+--------------------+--------------+---------+--------------------+--------------------+--------------------+--------------------+--------------------+\n",
            "|    crawl_date|                 url|      filename|extension|mime_type_web_server|      mime_type_tika|                 md5|                sha1|               bytes|\n",
            "+--------------+--------------------+--------------+---------+--------------------+--------------------+--------------------+--------------------+--------------------+\n",
            "|20060622205553|http://www.canadi...|   COLLINS1.RA|       ra|   audio/x-realaudio|audio/x-pn-realaudio|0128cb24f439f13a7...|ff1f9fdc00805d8fe...|LnJh/QAEAAAucmE0A...|\n",
            "|20060622204615|http://www.animal...|2006-01-13.mp3|      mp3|          audio/mpeg|          audio/mpeg|e4b3825ea1ecae26d...|990919d05d6cd4bdb...|//NAxAkWuVKkX9gQA...|\n",
            "+--------------+--------------------+--------------+---------+--------------------+--------------------+--------------------+--------------------+--------------------+\n",
            "\n"
          ]
        }
      ],
      "source": [
        "audio = archive.audio()\n",
        "audio.show(10, True)"
      ]
    },
    {
      "cell_type": "code",
      "execution_count": 18,
      "metadata": {
        "colab": {
          "base_uri": "https://localhost:8080/"
        },
        "id": "9RvBcPOPA-eT",
        "outputId": "419049c1-475c-4c65-93c3-b792cfcf1756"
      },
      "outputs": [
        {
          "output_type": "stream",
          "name": "stdout",
          "text": [
            "+--------------+--------------------+--------------------+---------+--------------------+--------------+--------------------+--------------------+--------------------+\n",
            "|    crawl_date|                 url|            filename|extension|mime_type_web_server|mime_type_tika|                 md5|                sha1|               bytes|\n",
            "+--------------+--------------------+--------------------+---------+--------------------+--------------+--------------------+--------------------+--------------------+\n",
            "|20060622205625|http://www.bloc.o...|            bloc.wmv|      wmv|      video/x-ms-wmv|video/x-ms-wmv|fc16dd3c9c289a7ce...|1a77f9f3d9b18d31a...|MCaydY5mzxGm2QCqA...|\n",
            "|20060622205657|http://www.noshar...|       HomaCBClQ.WMV|      wmv|          text/plain|video/x-ms-wmv|ef89c319f8ccd119a...|46e34725a78df33d0...|MCaydY5mzxGm2QCqA...|\n",
            "|20060622205643|http://www.bloc.o...|        16juin02.wmv|      wmv|      video/x-ms-wmv|video/x-ms-wmv|5b49c2b15ec631516...|b9ea03cbf9b3dcf96...|MCaydY5mzxGm2QCqA...|\n",
            "|20060622205706|http://www.conser...|20060411-videogut...|      flv|          text/plain|   video/x-flv|dbba9d1c0b2604e1c...|0c65be85e1fcfb89f...|RkxWAQUAAAAJAAAAA...|\n",
            "|20060622205711|http://www.noshar...|           Aug12.wmv|      wmv|          text/plain|video/x-ms-wmv|07ab22f7cdc3db4e7...|34c5e5dc596500477...|MCaydY5mzxGm2QCqA...|\n",
            "|20091219001045|http://v2.cache7....|       videoplayback|      flv|         video/x-flv|   video/x-flv|670586aafcb4824b5...|07e88d18aea50510d...|RkxWAQUAAAAJAAAAA...|\n",
            "+--------------+--------------------+--------------------+---------+--------------------+--------------+--------------------+--------------------+--------------------+\n",
            "\n"
          ]
        }
      ],
      "source": [
        "video = archive.video()\n",
        "video.show(10, True)"
      ]
    },
    {
      "cell_type": "code",
      "execution_count": 19,
      "metadata": {
        "colab": {
          "base_uri": "https://localhost:8080/"
        },
        "id": "ama3TJnPBC2D",
        "outputId": "209d8789-df7c-4b07-c865-08581468751a"
      },
      "outputs": [
        {
          "output_type": "stream",
          "name": "stdout",
          "text": [
            "+----------+---+--------+---------+--------------------+--------------+---+----+-----+\n",
            "|crawl_date|url|filename|extension|mime_type_web_server|mime_type_tika|md5|sha1|bytes|\n",
            "+----------+---+--------+---------+--------------------+--------------+---+----+-----+\n",
            "+----------+---+--------+---------+--------------------+--------------+---+----+-----+\n",
            "\n"
          ]
        }
      ],
      "source": [
        "spreadsheets = archive.spreadsheets()\n",
        "spreadsheets.show(10, True)"
      ]
    },
    {
      "cell_type": "code",
      "execution_count": 20,
      "metadata": {
        "colab": {
          "base_uri": "https://localhost:8080/"
        },
        "id": "1cIN-aG6BHNe",
        "outputId": "b42b8955-6fb0-4402-8bbb-dbdda011c5fb"
      },
      "outputs": [
        {
          "output_type": "stream",
          "name": "stdout",
          "text": [
            "+--------------+--------------------+--------+---------+--------------------+--------------------+--------------------+--------------------+--------------------+\n",
            "|    crawl_date|                 url|filename|extension|mime_type_web_server|      mime_type_tika|                 md5|                sha1|               bytes|\n",
            "+--------------+--------------------+--------+---------+--------------------+--------------------+--------------------+--------------------+--------------------+\n",
            "|20060622205642|http://www.afn.ca...| aig.pps|      pps|application/vnd.m...|application/vnd.m...|f38d64504487dd373...|b7d60930a981e2bc2...|0M8R4KGxGuEAAAAAA...|\n",
            "+--------------+--------------------+--------+---------+--------------------+--------------------+--------------------+--------------------+--------------------+\n",
            "\n"
          ]
        }
      ],
      "source": [
        "presentation_program_files = archive.presentation_program()\n",
        "presentation_program_files.show(10, True)"
      ]
    },
    {
      "cell_type": "code",
      "execution_count": 21,
      "metadata": {
        "colab": {
          "base_uri": "https://localhost:8080/"
        },
        "id": "eqgZ2AEiBPg7",
        "outputId": "61976475-5b1c-434b-eb30-7126a3cc2c69"
      },
      "outputs": [
        {
          "output_type": "stream",
          "name": "stdout",
          "text": [
            "+--------------+--------------------+--------------------+---------+--------------------+------------------+--------------------+--------------------+--------------------+\n",
            "|    crawl_date|                 url|            filename|extension|mime_type_web_server|    mime_type_tika|                 md5|                sha1|               bytes|\n",
            "+--------------+--------------------+--------------------+---------+--------------------+------------------+--------------------+--------------------+--------------------+\n",
            "|20060622205609|http://canadianac...|Some_facts_about_...|      doc|  application/msword|application/msword|f35c8570d81a0f4f5...|64378b21c8ea6bce5...|0M8R4KGxGuEAAAAAA...|\n",
            "|20060622205609|http://www.nawl.c...|Pub_Brief_Antiter...|      doc|  application/msword|application/msword|b0528837322957073...|35f8fdc77d6e92b40...|0M8R4KGxGuEAAAAAA...|\n",
            "|20060622205629|http://www.equalv...|       layton-en.doc|      doc|  application/msword|application/msword|3c28c798bfcc25ffe...|f9a0f96ab31de9cdd...|0M8R4KGxGuEAAAAAA...|\n",
            "|20060622205636|http://www.nawl.c...|PRESS_MDStatement...|      doc|  application/msword|application/msword|90b8e4d39a6064042...|0689aa7e30c4bae4b...|0M8R4KGxGuEAAAAAA...|\n",
            "|20060622205706|http://www.nawl.c...|     PE_NAPE_eng.doc|      doc|  application/msword|application/msword|5a89970a7d73535e3...|4d10adca44da9274a...|0M8R4KGxGuEAAAAAA...|\n",
            "|20060622205709|http://www.nawl.c...|PE_Call-Action_en...|      rtf|            text/rtf|   application/rtf|0731efc1a7f99c353...|b071f83583ba93741...|e1xydGYxXGFuc2lcY...|\n",
            "|20060622205711|http://www.nawl.c...|PE_LetterPM_Dec04...|      doc|  application/msword|application/msword|2a5cb54b9f9fa3042...|0f959f7817feb086b...|0M8R4KGxGuEAAAAAA...|\n",
            "+--------------+--------------------+--------------------+---------+--------------------+------------------+--------------------+--------------------+--------------------+\n",
            "\n"
          ]
        }
      ],
      "source": [
        "word_processor_files = archive.word_processor()\n",
        "word_processor_files.show(10, True)"
      ]
    },
    {
      "cell_type": "code",
      "execution_count": 25,
      "metadata": {
        "colab": {
          "base_uri": "https://localhost:8080/"
        },
        "id": "0qom-M8HBUxZ",
        "outputId": "7f86265b-db9a-4672-f560-fed98c8a5ee1"
      },
      "outputs": [
        {
          "output_type": "stream",
          "name": "stdout",
          "text": [
            "+--------------------+-----+\n",
            "|              domain|count|\n",
            "+--------------------+-----+\n",
            "|       equalvoice.ca| 4280|\n",
            "|          liberal.ca| 1981|\n",
            "|     davidsuzuki.org|  619|\n",
            "|policyalternative...|  588|\n",
            "|       greenparty.ca|  535|\n",
            "|         fairvote.ca|  442|\n",
            "|              ndp.ca|  416|\n",
            "|     canadiancrc.com|   89|\n",
            "|  communist-party.ca|   39|\n",
            "|             ccsd.ca|   22|\n",
            "+--------------------+-----+\n",
            "only showing top 10 rows\n",
            "\n"
          ]
        }
      ],
      "source": [
        "# Domain frequency.\n",
        "webpages.groupBy(\"domain\") \\\n",
        "  .count() \\\n",
        "  .sort(col(\"count\")\\\n",
        "  .desc()) \\\n",
        "  .show(10, True)"
      ]
    },
    {
      "cell_type": "code",
      "source": [
        "# Domain graph.\n",
        "webgraph.groupBy(\"crawl_date\", remove_prefix_www(extract_domain(\"src\")).alias(\"src_domain\"), remove_prefix_www(extract_domain(\"dest\")).alias(\"dest_domain\"))\\\n",
        "  .count()\\\n",
        "  .filter((col(\"dest_domain\").isNotNull()) & (col(\"dest_domain\") !=\"\"))\\\n",
        "  .filter((col(\"src_domain\").isNotNull()) & (col(\"src_domain\") !=\"\"))\\\n",
        "  .filter(col(\"count\") > 5)\\\n",
        "  .orderBy(desc(\"count\"))\\\n",
        "  .show(10, True)"
      ],
      "metadata": {
        "id": "1EVcndNj5OWT",
        "outputId": "09fbb06f-a225-4578-8497-e0cfb9f47922",
        "colab": {
          "base_uri": "https://localhost:8080/"
        }
      },
      "execution_count": 28,
      "outputs": [
        {
          "output_type": "stream",
          "name": "stdout",
          "text": [
            "+--------------+--------------------+--------------------+-----+\n",
            "|    crawl_date|          src_domain|         dest_domain|count|\n",
            "+--------------+--------------------+--------------------+-----+\n",
            "|20091219001507|     davidsuzuki.org|     davidsuzuki.org|  428|\n",
            "|20091219002507|       greenparty.ca|       greenparty.ca|  362|\n",
            "|20091219002455|       greenparty.ca|       greenparty.ca|  358|\n",
            "|20091218232854|       greenparty.ca|       greenparty.ca|  335|\n",
            "|20091218231758|     canadiancrc.com|     canadiancrc.com|  321|\n",
            "|20091219002518|       greenparty.ca|       greenparty.ca|  319|\n",
            "|20091218232549|       greenparty.ca|       greenparty.ca|  318|\n",
            "|20091219002433|       greenparty.ca|       greenparty.ca|  316|\n",
            "|20091218235854|       greenparty.ca|       greenparty.ca|  276|\n",
            "|20091219002742|policyalternative...|policyalternative...|  238|\n",
            "+--------------+--------------------+--------------------+-----+\n",
            "only showing top 10 rows\n",
            "\n"
          ]
        }
      ]
    },
    {
      "cell_type": "code",
      "source": [
        "css = archive.css()\n",
        "css.show(10, True)"
      ],
      "metadata": {
        "id": "vWVtn7Le5YUd",
        "outputId": "2b1825cb-c138-4d5b-cfcd-3ef3703478d4",
        "colab": {
          "base_uri": "https://localhost:8080/"
        }
      },
      "execution_count": 35,
      "outputs": [
        {
          "output_type": "stream",
          "name": "stdout",
          "text": [
            "+--------------+--------------------+--------------------+---------+--------------------+--------------+--------------------+--------------------+--------------------+\n",
            "|    crawl_date|                 url|            filename|extension|mime_type_web_server|mime_type_tika|                 md5|                sha1|             content|\n",
            "+--------------+--------------------+--------------------+---------+--------------------+--------------+--------------------+--------------------+--------------------+\n",
            "|20091218231950|http://greenparty...|css_d9b2f523c9c09...|      css|            text/css|    text/plain|717c98cca6f312506...|c5c52ff9828b704ac...|#aggregator .feed...|\n",
            "|20091218234334|https://greenpart...|css_d9b2f523c9c09...|      css|            text/css|    text/plain|717c98cca6f312506...|c5c52ff9828b704ac...|#aggregator .feed...|\n",
            "|20091219001031|http://www.e-acti...|action.retrievefi...|      css|            text/css|           N/A|d41d8cd98f00b204e...|da39a3ee5e6b4b0d3...|                    |\n",
            "|20091219001317|http://www.davids...|   donationpages.css|      css|            text/css|           N/A|d41d8cd98f00b204e...|da39a3ee5e6b4b0d3...|                    |\n",
            "+--------------+--------------------+--------------------+---------+--------------------+--------------+--------------------+--------------------+--------------------+\n",
            "\n"
          ]
        }
      ]
    },
    {
      "cell_type": "code",
      "source": [
        "html = archive.html()\n",
        "html.show(10, True)"
      ],
      "metadata": {
        "id": "W8v6fg9D5S1m",
        "outputId": "298e258d-4f32-4908-9f2e-41abe7ebd4de",
        "colab": {
          "base_uri": "https://localhost:8080/"
        }
      },
      "execution_count": 30,
      "outputs": [
        {
          "output_type": "stream",
          "name": "stdout",
          "text": [
            "+--------------+--------------------+--------------------+---------+--------------------+--------------+--------------------+--------------------+--------------------+\n",
            "|    crawl_date|                 url|            filename|extension|mime_type_web_server|mime_type_tika|                 md5|                sha1|             content|\n",
            "+--------------+--------------------+--------------------+---------+--------------------+--------------+--------------------+--------------------+--------------------+\n",
            "|20060622205609|http://www.gca.ca...|                    |     html|           text/html|     text/html|fb08072dfaeea19c3...|fe9980d9295bec0c2...|\n",
            "<!DOCTYPE HTML P...|\n",
            "|20060622205609|http://www.ppforu...|           index.asp|     html|           text/html|     text/html|7539b526a63262d46...|ebf13d3760939af03...|\r\n",
            "<!DOCTYPE HTML ...|\n",
            "|20060622205609|http://www.noshar...|        image010.gif|     html|           text/html|     text/html|bf8c38affb7d0285a...|838c195afb085a1a1...|<HTML>\n",
            "<HEAD>\n",
            "<TI...|\n",
            "|20060622205609|http://www.canadi...|            n1kd.cfm|     html|           text/html|     text/html|1be9c0e8f810441c9...|64c7904fb07689127...|\r\n",
            "<html>\r\n",
            "<head>\r...|\n",
            "|20060622205609|http://communist-...|        cal_week.php|     html|           text/html|     text/html|2338787183fcfcf9f...|3d4fdb7e4451fba29...|<html>\n",
            "<head>\n",
            "  <...|\n",
            "|20060622205609|http://www.conser...|                    |     html|           text/html|           N/A|d41d8cd98f00b204e...|da39a3ee5e6b4b0d3...|                    |\n",
            "|20060622205610|http://www.canada...|canada_terrorist_...|     html|           text/html|     text/html|d08b8f78d9ef8438a...|8b047450a6c7ac799...|<!DOCTYPE HTML PU...|\n",
            "|20060622205610|http://www.web.ne...|     edboardmtg.html|     html|           text/html|     text/html|0d67c4e68f3400de7...|97d6c33d7e3036dd7...|<!DOCTYPE html PU...|\n",
            "|20060622205610|http://westernblo...|         privmsg.php|     html|           text/html|           N/A|d41d8cd98f00b204e...|da39a3ee5e6b4b0d3...|                    |\n",
            "|20060622205610|http://www.ccsd.c...|                    |     html|           text/html|     text/html|4e1fa95665047b59c...|70c544645a4cecba6...|<!DOCTYPE HTML PU...|\n",
            "+--------------+--------------------+--------------------+---------+--------------------+--------------+--------------------+--------------------+--------------------+\n",
            "only showing top 10 rows\n",
            "\n"
          ]
        }
      ]
    },
    {
      "cell_type": "code",
      "source": [
        "js = archive.js()\n",
        "js.show(10, True)"
      ],
      "metadata": {
        "id": "rAOc1nuB5nxD",
        "outputId": "541c9aee-d124-40b0-f1fc-aa8576fb6d84",
        "colab": {
          "base_uri": "https://localhost:8080/"
        }
      },
      "execution_count": 31,
      "outputs": [
        {
          "output_type": "stream",
          "name": "stdout",
          "text": [
            "+--------------+--------------------+--------------------+---------+--------------------+--------------+--------------------+--------------------+--------------------+\n",
            "|    crawl_date|                 url|            filename|extension|mime_type_web_server|mime_type_tika|                 md5|                sha1|             content|\n",
            "+--------------+--------------------+--------------------+---------+--------------------+--------------+--------------------+--------------------+--------------------+\n",
            "|20091218234450|https://greenpart...|js_1504f0e5300da6...|       js|application/javas...|    text/plain|96cb75df55b03398f...|ee81d43ef27acec8c...|// $Id: jquery.js...|\n",
            "+--------------+--------------------+--------------------+---------+--------------------+--------------+--------------------+--------------------+--------------------+\n",
            "\n"
          ]
        }
      ]
    },
    {
      "cell_type": "code",
      "source": [
        "json = archive.json()\n",
        "json.show(10, True)"
      ],
      "metadata": {
        "id": "dq-WoRln5n4h",
        "outputId": "29c6a362-eb5c-4c4c-a3fa-c9c0a3364717",
        "colab": {
          "base_uri": "https://localhost:8080/"
        }
      },
      "execution_count": 32,
      "outputs": [
        {
          "output_type": "stream",
          "name": "stdout",
          "text": [
            "+----------+---+--------+---------+--------------------+--------------+---+----+-------+\n",
            "|crawl_date|url|filename|extension|mime_type_web_server|mime_type_tika|md5|sha1|content|\n",
            "+----------+---+--------+---------+--------------------+--------------+---+----+-------+\n",
            "+----------+---+--------+---------+--------------------+--------------+---+----+-------+\n",
            "\n"
          ]
        }
      ]
    },
    {
      "cell_type": "code",
      "source": [
        "plain_text = archive.plain_text()\n",
        "plain_text.show(10, True)"
      ],
      "metadata": {
        "id": "McVnviX85n-S",
        "outputId": "982e73c0-76ed-43b0-b9bc-789bb2e7197d",
        "colab": {
          "base_uri": "https://localhost:8080/"
        }
      },
      "execution_count": 33,
      "outputs": [
        {
          "output_type": "stream",
          "name": "stdout",
          "text": [
            "+--------------+--------------------+----------+---------+--------------------+--------------+--------------------+--------------------+--------------------+\n",
            "|    crawl_date|                 url|  filename|extension|mime_type_web_server|mime_type_tika|                 md5|                sha1|             content|\n",
            "+--------------+--------------------+----------+---------+--------------------+--------------+--------------------+--------------------+--------------------+\n",
            "|20060622205620|http://agoracosmo...|  html.mes|      txt|          text/plain|    text/plain|7dee99acd58abc66c...|096c51df2828f49b8...|<br>\r\n",
            "<p><font fa...|\n",
            "|20060622205627|http://agoracosmo...| html.mes1|      txt|          text/plain|    text/plain|58c9b7de5042206c3...|ede3e2b202a8f61d5...|<br>\r\n",
            "<p><font fa...|\n",
            "|20060622205649|http://www.energi...|robots.txt|      txt|          text/plain|    text/plain|fb52df01c5bbd18a9...|ba580ace2af16f6b2...|User-agent: *\n",
            "Dis...|\n",
            "|20091219001445|http://www.cbs.co...|robots.txt|      txt|          text/plain|    text/plain|125e4e40ba374f767...|7581388710778025b...|User-agent: *\n",
            "Dis...|\n",
            "+--------------+--------------------+----------+---------+--------------------+--------------+--------------------+--------------------+--------------------+\n",
            "\n"
          ]
        }
      ]
    },
    {
      "cell_type": "code",
      "source": [
        "xml = archive.xml()\n",
        "xml.show(10, True)"
      ],
      "metadata": {
        "id": "oCYbl7Ej5oEu",
        "outputId": "ccd8d45e-1bde-4c20-846e-dcc1f1b2d83d",
        "colab": {
          "base_uri": "https://localhost:8080/"
        }
      },
      "execution_count": 34,
      "outputs": [
        {
          "output_type": "stream",
          "name": "stdout",
          "text": [
            "+--------------+--------------------+----------+---------+--------------------+-------------------+--------------------+--------------------+--------------------+\n",
            "|    crawl_date|                 url|  filename|extension|mime_type_web_server|     mime_type_tika|                 md5|                sha1|             content|\n",
            "+--------------+--------------------+----------+---------+--------------------+-------------------+--------------------+--------------------+--------------------+\n",
            "|20091218232000|http://greenparty...|      feed|      rss| application/rss+xml|application/rss+xml|076ce8e27c439c53d...|f0eda8d70e33176f6...|<?xml version=\"1....|\n",
            "|20091218232159|http://greenparty...|      feed|      rss| application/rss+xml|application/rss+xml|fe5a4834dab62aaa2...|78c8e57a25e77db94...|<?xml version=\"1....|\n",
            "|20091218232233|http://greenparty...|2009-12-26|      rss| application/rss+xml|application/rss+xml|988c1b22efc385d49...|6e8d46808344e2b01...|<?xml version=\"1....|\n",
            "|20091218232355|http://greenparty...|   2009-12|      rss| application/rss+xml|application/rss+xml|c752f98d782562be5...|76f0c005ffcfeb9a6...|<?xml version=\"1....|\n",
            "|20091218232441|http://greenparty...|   2009-12|      rss| application/rss+xml|application/rss+xml|27ebd06a70225aa0c...|9a58cba212f78bcbb...|<?xml version=\"1....|\n",
            "|20091218232526|http://greenparty...|   2009-12|      rss| application/rss+xml|application/rss+xml|b5aca0aa69e46cb3b...|3bad1da86bd57b2af...|<?xml version=\"1....|\n",
            "|20091218232612|http://greenparty...|   2009-12|      rss| application/rss+xml|application/rss+xml|dbd7e4bfed7763d7c...|7e9f70db20fb17317...|<?xml version=\"1....|\n",
            "|20091218232733|http://greenparty...|   2009-12|      rss| application/rss+xml|application/rss+xml|2f726fe1bbc3322d8...|f2703b4eb25426182...|<?xml version=\"1....|\n",
            "|20091218232843|http://greenparty...|   2009-12|      rss| application/rss+xml|application/rss+xml|a81786cfac25a6cf3...|783be5b02fdd71b2d...|<?xml version=\"1....|\n",
            "|20091218232917|http://greenparty...|   2009-12|      rss| application/rss+xml|application/rss+xml|cbfc844cd6c9a1ba6...|f2fa3878ca7140af0...|<?xml version=\"1....|\n",
            "+--------------+--------------------+----------+---------+--------------------+-------------------+--------------------+--------------------+--------------------+\n",
            "only showing top 10 rows\n",
            "\n"
          ]
        }
      ]
    }
  ],
  "metadata": {
    "colab": {
      "name": "aut_pyspark.ipynb",
      "provenance": [],
      "authorship_tag": "ABX9TyMnzc5m1Zd2v4ql2k6nlXGS",
      "include_colab_link": true
    },
    "kernelspec": {
      "display_name": "Python 3 (ipykernel)",
      "language": "python",
      "name": "python3"
    },
    "language_info": {
      "codemirror_mode": {
        "name": "ipython",
        "version": 3
      },
      "file_extension": ".py",
      "mimetype": "text/x-python",
      "name": "python",
      "nbconvert_exporter": "python",
      "pygments_lexer": "ipython3",
      "version": "3.9.9"
    }
  },
  "nbformat": 4,
  "nbformat_minor": 0
}