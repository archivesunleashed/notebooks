{
 "cells": [
  {
   "cell_type": "markdown",
   "metadata": {},
   "source": [
    "# AUT PySpark Documentation Examples"
   ]
  },
  {
   "cell_type": "markdown",
   "metadata": {},
   "source": [
    "Import `aut` Python libraries."
   ]
  },
  {
   "cell_type": "code",
   "execution_count": 1,
   "metadata": {},
   "outputs": [],
   "source": [
    "from aut import *\n",
    "from pyspark.sql.functions import col, desc, explode"
   ]
  },
  {
   "cell_type": "markdown",
   "metadata": {},
   "source": [
    "Let's create a variable for our W/ARCs."
   ]
  },
  {
   "cell_type": "code",
   "execution_count": 2,
   "metadata": {},
   "outputs": [],
   "source": [
    "warcs = \"/home/nruest/Projects/au/sample-data/geocities\""
   ]
  },
  {
   "cell_type": "markdown",
   "metadata": {},
   "source": [
    "# `.all()`"
   ]
  },
  {
   "cell_type": "markdown",
   "metadata": {},
   "source": [
    "`.all()` schema"
   ]
  },
  {
   "cell_type": "code",
   "execution_count": 3,
   "metadata": {},
   "outputs": [
    {
     "data": {
      "text/plain": [
       "<bound method DataFrame.printSchema of DataFrame[crawl_date: string, domain: string, url: string, mime_type_web_server: string, mime_type_tika: string, content: string, bytes: binary, http_status_code: string, archive_filename: string]>"
      ]
     },
     "execution_count": 3,
     "metadata": {},
     "output_type": "execute_result"
    }
   ],
   "source": [
    "WebArchive(sc, sqlContext, warcs)\\\n",
    "  .all()\\\n",
    "  .printSchema"
   ]
  },
  {
   "cell_type": "markdown",
   "metadata": {},
   "source": [
    "We're going to use some of the base DataFrames frequently, so we'll create a variable te reference them."
   ]
  },
  {
   "cell_type": "code",
   "execution_count": 4,
   "metadata": {},
   "outputs": [],
   "source": [
    "all = WebArchive(sc, sqlContext, warcs)\\\n",
    "        .all()"
   ]
  },
  {
   "cell_type": "markdown",
   "metadata": {},
   "source": [
    "Select `url` and `http_status_code`, and show 10 with non-truncated columns."
   ]
  },
  {
   "cell_type": "code",
   "execution_count": 5,
   "metadata": {},
   "outputs": [
    {
     "name": "stdout",
     "output_type": "stream",
     "text": [
      "[2022-05-28T15:24:32.937Z - 00000 - HdfsIO] Opening file file:/home/nruest/Projects/au/sample-data/geocities/GEOCITIES-20091027143512-00103-ia400108.us.archive.org.warc.gz (Offset: 0, length: 0, decompress: false, strategy: BlockWise [dynamic])\n"
     ]
    },
    {
     "name": "stderr",
     "output_type": "stream",
     "text": [
      "22/05/28 11:24:33 WARN PDFParser: J2KImageReader not loaded. JPEG2000 files will not be processed.\n",
      "See https://pdfbox.apache.org/2.0/dependencies.html#jai-image-io\n",
      "for optional dependencies.\n",
      "\n",
      "22/05/28 11:24:33 WARN TesseractOCRParser: Tesseract OCR is installed and will be automatically applied to image files unless\n",
      "you've excluded the TesseractOCRParser from the default parser.\n",
      "Tesseract may dramatically slow down content extraction (TIKA-2359).\n",
      "As of Tika 1.15 (and prior versions), Tesseract is automatically called.\n",
      "In future versions of Tika, users may need to turn the TesseractOCRParser on via TikaConfig.\n",
      "22/05/28 11:24:33 WARN SQLite3Parser: org.xerial's sqlite-jdbc is not loaded.\n",
      "Please provide the jar on your classpath to parse sqlite files.\n",
      "See tika-parsers/pom.xml for the correct version.\n"
     ]
    },
    {
     "name": "stdout",
     "output_type": "stream",
     "text": [
      "+------------------------------------------------------------------------------+----------------+\n",
      "|url                                                                           |http_status_code|\n",
      "+------------------------------------------------------------------------------+----------------+\n",
      "|http://geocities.com/matt_tvet/images/bodyboardhowto_08.gif                   |200             |\n",
      "|http://geocities.com/casastanca/_derived/products.htm_cmp_citrus010_vbtn_a.gif|200             |\n",
      "|http://geocities.com/glamshotsph/glampics/n_julian1.jpg                       |503             |\n",
      "|http://geocities.com/area51/chamber/9963/Images/choc1.jpg                     |200             |\n",
      "|http://geocities.com/heigl_2k/img/thumbs/?N=D                                 |200             |\n",
      "|http://geocities.com/~jask16/weapons/naval.html                               |200             |\n",
      "|http://geocities.com/adams_wedding/images/Thumbnails/0087.jpg                 |200             |\n",
      "|http://geocities.com/lsbyam/cap/Folder5_hippare_evo5.jpg                      |503             |\n",
      "|http://geocities.com/Wellesley/4130/sur.html                                  |200             |\n",
      "|http://geocities.com/kcwylie/newyears_1.gif                                   |200             |\n",
      "+------------------------------------------------------------------------------+----------------+\n",
      "only showing top 10 rows\n",
      "\n"
     ]
    },
    {
     "name": "stderr",
     "output_type": "stream",
     "text": [
      "\r",
      "                                                                                \r"
     ]
    }
   ],
   "source": [
    "all.select(\"url\", \"http_status_code\")\\\n",
    "  .show(10, False)"
   ]
  },
  {
   "cell_type": "markdown",
   "metadata": {},
   "source": [
    "Select `url` and `archive_filename`, and show 10 with truncated columns."
   ]
  },
  {
   "cell_type": "code",
   "execution_count": 6,
   "metadata": {},
   "outputs": [
    {
     "name": "stdout",
     "output_type": "stream",
     "text": [
      "[2022-05-28T15:24:34.584Z - 00001 - HdfsIO] Opening file file:/home/nruest/Projects/au/sample-data/geocities/GEOCITIES-20091027143512-00103-ia400108.us.archive.org.warc.gz (Offset: 0, length: 0, decompress: false, strategy: BlockWise [dynamic])\n",
      "+--------------------+--------------------+\n",
      "|                 url|    archive_filename|\n",
      "+--------------------+--------------------+\n",
      "|http://geocities....|GEOCITIES-2009102...|\n",
      "|http://geocities....|GEOCITIES-2009102...|\n",
      "|http://geocities....|GEOCITIES-2009102...|\n",
      "|http://geocities....|GEOCITIES-2009102...|\n",
      "|http://geocities....|GEOCITIES-2009102...|\n",
      "|http://geocities....|GEOCITIES-2009102...|\n",
      "|http://geocities....|GEOCITIES-2009102...|\n",
      "|http://geocities....|GEOCITIES-2009102...|\n",
      "|http://geocities....|GEOCITIES-2009102...|\n",
      "|http://geocities....|GEOCITIES-2009102...|\n",
      "+--------------------+--------------------+\n",
      "only showing top 10 rows\n",
      "\n"
     ]
    }
   ],
   "source": [
    "all.select(\"url\", \"archive_filename\")\\\n",
    "  .show(10, True)"
   ]
  },
  {
   "cell_type": "markdown",
   "metadata": {},
   "source": [
    "Select crawl date, MIME Type, bytes, and demonstrate how to apply a \"[User Defined Functions](https://docs.databricks.com/spark/latest/spark-sql/udf-scala.html)\" to a column. In this case, `detect_mime_type_tika()` detects the [MIME type](https://en.wikipedia.org/wiki/MIME) from the [Base64](https://en.wikipedia.org/wiki/Base64) encoded bytes column using [Apache Tika](https://tika.apache.org/)."
   ]
  },
  {
   "cell_type": "code",
   "execution_count": 7,
   "metadata": {},
   "outputs": [
    {
     "name": "stdout",
     "output_type": "stream",
     "text": [
      "[2022-05-28T15:24:34.933Z - 00002 - HdfsIO] Opening file file:/home/nruest/Projects/au/sample-data/geocities/GEOCITIES-20091027143512-00103-ia400108.us.archive.org.warc.gz (Offset: 0, length: 0, decompress: false, strategy: BlockWise [dynamic])\n",
      "+--------------+----------+--------------+\n",
      "|    crawl_date|  udf_tika|mime_type_tika|\n",
      "+--------------+----------+--------------+\n",
      "|20091027143512| image/gif|     image/gif|\n",
      "|20091027143512| image/gif|     image/gif|\n",
      "|20091027143512| text/html|     text/html|\n",
      "|20091027143512|image/jpeg|    image/jpeg|\n",
      "|20091027143512| text/html|     text/html|\n",
      "|20091027143512| text/html|     text/html|\n",
      "|20091027143511|image/jpeg|    image/jpeg|\n",
      "|20091027143512| text/html|     text/html|\n",
      "|20091027143512| text/html|     text/html|\n",
      "|20091027143511| image/gif|     image/gif|\n",
      "+--------------+----------+--------------+\n",
      "only showing top 10 rows\n",
      "\n"
     ]
    }
   ],
   "source": [
    "all.select(\"crawl_date\", detect_mime_type_tika(\"bytes\").alias(\"udf_tika\"), \"mime_type_tika\")\\\n",
    "  .show(10, True)"
   ]
  },
  {
   "cell_type": "markdown",
   "metadata": {},
   "source": [
    "Select content, and remove HTTP Headers, and HTML."
   ]
  },
  {
   "cell_type": "code",
   "execution_count": 8,
   "metadata": {},
   "outputs": [
    {
     "name": "stdout",
     "output_type": "stream",
     "text": [
      "[2022-05-28T15:24:35.480Z - 00003 - HdfsIO] Opening file file:/home/nruest/Projects/au/sample-data/geocities/GEOCITIES-20091027143512-00103-ia400108.us.archive.org.warc.gz (Offset: 0, length: 0, decompress: false, strategy: BlockWise [dynamic])\n",
      "+--------------------+\n",
      "|             content|\n",
      "+--------------------+\n",
      "|Index of /heigl_2...|\n",
      "|Naval Missles Ant...|\n",
      "|Diana Bellessi's ...|\n",
      "|KELSO COMMUNITY A...|\n",
      "|The Star Sapphire...|\n",
      "|Index of /vandenf...|\n",
      "|Diana Bellessi's ...|\n",
      "|Index of /kkrhyth...|\n",
      "|Index of /guinncj...|\n",
      "|The Clinical Psyc...|\n",
      "+--------------------+\n",
      "only showing top 10 rows\n",
      "\n"
     ]
    }
   ],
   "source": [
    "all.filter(\"crawl_date is not NULL\")\\\n",
    "  .filter(~(col(\"url\").rlike(\".*robots\\\\.txt$\")) & (col(\"mime_type_web_server\").rlike(\"text/html\") | col(\"mime_type_web_server\").rlike(\"application/xhtml+xml\") | col(\"url\").rlike(\"(?i).*htm$\") | col(\"url\").rlike(\"(?i).*html$\")))\\\n",
    "  .filter(col(\"http_status_code\") == 200)\\\n",
    "  .select(remove_html(remove_http_header(\"content\")).alias(\"content\"))\\\n",
    "  .show(10, True)"
   ]
  },
  {
   "cell_type": "markdown",
   "metadata": {},
   "source": [
    "Select crawl date, domain, url, and content. Remove HTTP Headers, and remove boilerplate from content."
   ]
  },
  {
   "cell_type": "code",
   "execution_count": 9,
   "metadata": {},
   "outputs": [
    {
     "name": "stdout",
     "output_type": "stream",
     "text": [
      "[2022-05-28T15:24:35.896Z - 00004 - HdfsIO] Opening file file:/home/nruest/Projects/au/sample-data/geocities/GEOCITIES-20091027143512-00103-ia400108.us.archive.org.warc.gz (Offset: 0, length: 0, decompress: false, strategy: BlockWise [dynamic])\n",
      "+--------------+-------------+--------------------+--------------------+\n",
      "|    crawl_date|       domain|                 url|             content|\n",
      "+--------------+-------------+--------------------+--------------------+\n",
      "|20091027143512|geocities.com|http://geocities....|                    |\n",
      "|20091027143512|geocities.com|http://geocities....|AGM-84 Harpoon A ...|\n",
      "|20091027143512|geocities.com|http://geocities....|enlazado el ojo a...|\n",
      "|20091027143512|geocities.com|http://geocities....|                 ...|\n",
      "|20091027143512|geocities.com|http://geocities....|;         Pater e...|\n",
      "|20091027143512|geocities.com|http://geocities....|                    |\n",
      "|20091027143512|geocities.com|http://geocities....|                    |\n",
      "|20091027143512|geocities.com|http://geocities....|                    |\n",
      "|20091027143512|geocities.com|http://geocities....|                    |\n",
      "|20091027143512|geocities.com|http://geocities....|  There are   psy...|\n",
      "+--------------+-------------+--------------------+--------------------+\n",
      "only showing top 10 rows\n",
      "\n"
     ]
    }
   ],
   "source": [
    "all.filter(\"crawl_date is not NULL\")\\\n",
    "  .filter(~(col(\"url\").rlike(\".*robots\\\\.txt$\")) & (col(\"mime_type_web_server\").rlike(\"text/html\") | col(\"mime_type_web_server\").rlike(\"application/xhtml+xml\") | col(\"url\").rlike(\"(?i).*htm$\") | col(\"url\").rlike(\"(?i).*html$\")))\\\n",
    "  .filter(col(\"http_status_code\") == 200)\\\n",
    "  .select(\"crawl_date\", \"domain\", \"url\", extract_boilerplate(\"content\").alias(\"content\"))\\\n",
    "  .show(10, True)"
   ]
  },
  {
   "cell_type": "markdown",
   "metadata": {},
   "source": [
    "Select mimetypes, url, and filter out images."
   ]
  },
  {
   "cell_type": "code",
   "execution_count": 10,
   "metadata": {
    "scrolled": true
   },
   "outputs": [
    {
     "name": "stdout",
     "output_type": "stream",
     "text": [
      "[2022-05-28T15:24:36.239Z - 00005 - HdfsIO] Opening file file:/home/nruest/Projects/au/sample-data/geocities/GEOCITIES-20091027143512-00103-ia400108.us.archive.org.warc.gz (Offset: 0, length: 0, decompress: false, strategy: BlockWise [dynamic])\n",
      "+--------------+--------------------+-------------------------------------------------------------------------------------+\n",
      "|mime_type_tika|mime_type_web_server|url                                                                                  |\n",
      "+--------------+--------------------+-------------------------------------------------------------------------------------+\n",
      "|text/html     |text/html           |http://geocities.com/glamshotsph/glampics/n_julian1.jpg                              |\n",
      "|text/html     |text/html           |http://geocities.com/heigl_2k/img/thumbs/?N=D                                        |\n",
      "|text/html     |text/html           |http://geocities.com/~jask16/weapons/naval.html                                      |\n",
      "|text/html     |text/html           |http://geocities.com/lsbyam/cap/Folder5_hippare_evo5.jpg                             |\n",
      "|text/html     |text/html           |http://geocities.com/Wellesley/4130/sur.html                                         |\n",
      "|text/html     |text/html           |http://geocities.com/kelsoonbutler/boardDocs/BoardMeetingMinutes_AGM_March12_2002.htm|\n",
      "|text/html     |text/html           |http://geocities.com/ianaxir/star_sapphire.htm                                       |\n",
      "|text/html     |text/html           |http://geocities.com/vandenfromcamden/LJPics/cat/                                    |\n",
      "|text/html     |text/html           |http://geocities.com/chasenzahl/Results-2007/Lakewood.pdf                            |\n",
      "|text/html     |text/html           |http://geocities.com/lsbyam/cap/Folder5_believe_CDNeo_1.jpg                          |\n",
      "+--------------+--------------------+-------------------------------------------------------------------------------------+\n",
      "only showing top 10 rows\n",
      "\n"
     ]
    }
   ],
   "source": [
    "all.select(\"mime_type_tika\", \"mime_type_web_server\", \"url\")\\\n",
    "  .filter(~col(\"mime_type_tika\").like(\"image/%\") | ~col(\"mime_type_web_server\").like(\"image/%\"))\\\n",
    "  .show(10, False)"
   ]
  },
  {
   "cell_type": "markdown",
   "metadata": {},
   "source": [
    "Filter out urls that match a pattern, then select the source and detination urls from the results using a few UDFs."
   ]
  },
  {
   "cell_type": "code",
   "execution_count": 11,
   "metadata": {},
   "outputs": [
    {
     "name": "stdout",
     "output_type": "stream",
     "text": [
      "[2022-05-28T15:24:37.100Z - 00007 - HdfsIO] Opening file file:/home/nruest/Projects/au/sample-data/geocities/GEOCITIES-20091027143243-00104-ia400105.us.archive.org.warc.gz (Offset: 0, length: 0, decompress: false, strategy: BlockWise [dynamic])\n",
      "[2022-05-28T15:24:37.100Z - 00006 - HdfsIO] Opening file file:/home/nruest/Projects/au/sample-data/geocities/GEOCITIES-20091027143512-00103-ia400108.us.archive.org.warc.gz (Offset: 0, length: 0, decompress: false, strategy: BlockWise [dynamic])\n",
      "[2022-05-28T15:24:37.102Z - 00008 - HdfsIO] Opening file file:/home/nruest/Projects/au/sample-data/geocities/GEOCITIES-20091027143856-00108-ia400107.us.archive.org.warc.gz (Offset: 0, length: 0, decompress: false, strategy: BlockWise [dynamic])\n",
      "[2022-05-28T15:24:37.102Z - 00010 - HdfsIO] Opening file file:/home/nruest/Projects/au/sample-data/geocities/GEOCITIES-20091027142649-00105-ia400111.us.archive.org.warc.gz (Offset: 0, length: 0, decompress: false, strategy: BlockWise [dynamic])\n",
      "[2022-05-28T15:24:37.102Z - 00015 - HdfsIO] Opening file file:/home/nruest/Projects/au/sample-data/geocities/GEOCITIES-20091027143300-00114-ia400112.us.archive.org.warc.gz (Offset: 0, length: 0, decompress: false, strategy: BlockWise [dynamic])\n",
      "[2022-05-28T15:24:37.102Z - 00013 - HdfsIO] Opening file file:/home/nruest/Projects/au/sample-data/geocities/GEOCITIES-20091027143451-00102-ia400108.us.archive.org.warc.gz (Offset: 0, length: 0, decompress: false, strategy: BlockWise [dynamic])\n",
      "[2022-05-28T15:24:37.104Z - 00014 - HdfsIO] Opening file file:/home/nruest/Projects/au/sample-data/geocities/GEOCITIES-20091027142731-00177-ia400130.us.archive.org.warc.gz (Offset: 0, length: 0, decompress: false, strategy: BlockWise [dynamic])\n",
      "[2022-05-28T15:24:37.105Z - 00011 - HdfsIO] Opening file file:/home/nruest/Projects/au/sample-data/geocities/GEOCITIES-20091027143340-00105-ia400105.us.archive.org.warc.gz (Offset: 0, length: 0, decompress: false, strategy: BlockWise [dynamic])\n",
      "[2022-05-28T15:24:37.106Z - 00012 - HdfsIO] Opening file file:/home/nruest/Projects/au/sample-data/geocities/GEOCITIES-20091027143841-00136-ia400104.us.archive.org.warc.gz (Offset: 0, length: 0, decompress: false, strategy: BlockWise [dynamic])\n",
      "[2022-05-28T15:24:37.108Z - 00009 - HdfsIO] Opening file file:/home/nruest/Projects/au/sample-data/geocities/GEOCITIES-20091027143351-00117-ia400103.us.archive.org.warc.gz (Offset: 0, length: 0, decompress: false, strategy: BlockWise [dynamic])\n"
     ]
    },
    {
     "name": "stderr",
     "output_type": "stream",
     "text": [
      "                                                                                \r"
     ]
    },
    {
     "name": "stdout",
     "output_type": "stream",
     "text": [
      "+-------------+---------------+-----+\n",
      "|src          |dest           |count|\n",
      "+-------------+---------------+-----+\n",
      "|geocities.com|perfectdrug.net|1    |\n",
      "|geocities.com|eatsushi.com   |1    |\n",
      "|geocities.com|sushilinks.com |1    |\n",
      "|geocities.com|sushifaq.com   |1    |\n",
      "|geocities.com|geocities.com  |190  |\n",
      "+-------------+---------------+-----+\n",
      "\n"
     ]
    }
   ],
   "source": [
    "url_pattern = \"%http://geocities.com/babiekaos/%\"\n",
    "\n",
    "all.filter(\"crawl_date is not NULL\")\\\n",
    "  .filter(~(col(\"url\").rlike(\".*robots\\\\.txt$\")) & (col(\"mime_type_web_server\").rlike(\"text/html\") | col(\"mime_type_web_server\").rlike(\"application/xhtml+xml\") | col(\"url\").rlike(\"(?i).*htm$\") | col(\"url\").rlike(\"(?i).*html$\")))\\\n",
    "  .filter(col(\"http_status_code\") == 200)\\\n",
    "  .filter(col(\"url\").like(url_pattern))\\\n",
    "  .select(explode(extract_links(\"url\", \"content\")).alias(\"links\"))\\\n",
    "  .select(remove_prefix_www(extract_domain(col(\"links._1\"))).alias(\"src\"), remove_prefix_www(extract_domain(col(\"links._2\"))).alias(\"dest\"))\\\n",
    "  .groupBy(\"src\", \"dest\")\\\n",
    "  .count()\\\n",
    "  .show(10, False)"
   ]
  },
  {
   "cell_type": "markdown",
   "metadata": {},
   "source": [
    "Select source and domain urls, with a count, where the content contains \"radio\"."
   ]
  },
  {
   "cell_type": "code",
   "execution_count": 12,
   "metadata": {},
   "outputs": [
    {
     "name": "stdout",
     "output_type": "stream",
     "text": [
      "[2022-05-28T15:29:13.991Z - 00219 - HdfsIO] Opening file file:/home/nruest/Projects/au/sample-data/geocities/GEOCITIES-20091027143351-00117-ia400103.us.archive.org.warc.gz (Offset: 0, length: 0, decompress: false, strategy: BlockWise [dynamic])\n",
      "[2022-05-28T15:29:13.991Z - 00224 - HdfsIO] Opening file file:/home/nruest/Projects/au/sample-data/geocities/GEOCITIES-20091027142731-00177-ia400130.us.archive.org.warc.gz (Offset: 0, length: 0, decompress: false, strategy: BlockWise [dynamic])\n",
      "[2022-05-28T15:29:14.006Z - 00218 - HdfsIO] Opening file file:/home/nruest/Projects/au/sample-data/geocities/GEOCITIES-20091027143856-00108-ia400107.us.archive.org.warc.gz (Offset: 0, length: 0, decompress: false, strategy: BlockWise [dynamic])\n",
      "[2022-05-28T15:29:14.009Z - 00225 - HdfsIO] Opening file file:/home/nruest/Projects/au/sample-data/geocities/GEOCITIES-20091027143300-00114-ia400112.us.archive.org.warc.gz (Offset: 0, length: 0, decompress: false, strategy: BlockWise [dynamic])\n",
      "[2022-05-28T15:29:14.085Z - 00221 - HdfsIO] Opening file file:/home/nruest/Projects/au/sample-data/geocities/GEOCITIES-20091027143340-00105-ia400105.us.archive.org.warc.gz (Offset: 0, length: 0, decompress: false, strategy: BlockWise [dynamic])\n",
      "[2022-05-28T15:29:14.142Z - 00216 - HdfsIO] Opening file file:/home/nruest/Projects/au/sample-data/geocities/GEOCITIES-20091027143512-00103-ia400108.us.archive.org.warc.gz (Offset: 0, length: 0, decompress: false, strategy: BlockWise [dynamic])\n",
      "[2022-05-28T15:29:14.142Z - 00217 - HdfsIO] Opening file file:/home/nruest/Projects/au/sample-data/geocities/GEOCITIES-20091027143243-00104-ia400105.us.archive.org.warc.gz (Offset: 0, length: 0, decompress: false, strategy: BlockWise [dynamic])\n",
      "[2022-05-28T15:29:14.142Z - 00223 - HdfsIO] Opening file file:/home/nruest/Projects/au/sample-data/geocities/GEOCITIES-20091027143451-00102-ia400108.us.archive.org.warc.gz (Offset: 0, length: 0, decompress: false, strategy: BlockWise [dynamic])\n",
      "[2022-05-28T15:29:14.149Z - 00222 - HdfsIO] Opening file file:/home/nruest/Projects/au/sample-data/geocities/GEOCITIES-20091027143841-00136-ia400104.us.archive.org.warc.gz (Offset: 0, length: 0, decompress: false, strategy: BlockWise [dynamic])\n",
      "[2022-05-28T15:29:14.156Z - 00220 - HdfsIO] Opening file file:/home/nruest/Projects/au/sample-data/geocities/GEOCITIES-20091027142649-00105-ia400111.us.archive.org.warc.gz (Offset: 0, length: 0, decompress: false, strategy: BlockWise [dynamic])\n"
     ]
    },
    {
     "name": "stderr",
     "output_type": "stream",
     "text": [
      "[Stage 16:===================================================>     (9 + 1) / 10]\r"
     ]
    },
    {
     "name": "stdout",
     "output_type": "stream",
     "text": [
      "+----------------+--------------------+-----+\n",
      "|             src|                dest|count|\n",
      "+----------------+--------------------+-----+\n",
      "|   geocities.com|   idmg.blogspot.com|    9|\n",
      "|   geocities.com|         atspace.com|   14|\n",
      "|   geocities.com|             utm.edu|    8|\n",
      "|saibabalinks.org|    saibabalinks.org|   80|\n",
      "|   geocities.com|     worldscouts.net|    6|\n",
      "|   geocities.com|       terravista.pt|   15|\n",
      "|   geocities.com|              cbc.ca|   19|\n",
      "|   geocities.com|provincia.venezia.it|    6|\n",
      "|   geocities.com|              rai.it|   25|\n",
      "|   geocities.com|            astra.lu|    9|\n",
      "+----------------+--------------------+-----+\n",
      "only showing top 10 rows\n",
      "\n"
     ]
    },
    {
     "name": "stderr",
     "output_type": "stream",
     "text": [
      "\r",
      "                                                                                \r"
     ]
    }
   ],
   "source": [
    "content = \"%radio%\"\n",
    "\n",
    "all.filter(\"crawl_date is not NULL\")\\\n",
    "  .filter(~(col(\"url\").rlike(\".*robots\\\\.txt$\")) & (col(\"mime_type_web_server\").rlike(\"text/html\") | col(\"mime_type_web_server\").rlike(\"application/xhtml+xml\") | col(\"url\").rlike(\"(?i).*htm$\") | col(\"url\").rlike(\"(?i).*html$\")))\\\n",
    "  .filter(col(\"http_status_code\") == 200)\\\n",
    "  .filter(col(\"content\").like(content))\\\n",
    "  .select(explode(extract_links(\"url\", \"content\")).alias(\"links\"))\\\n",
    "  .select(remove_prefix_www(extract_domain(col(\"links._1\"))).alias(\"src\"), remove_prefix_www(extract_domain(col(\"links._2\"))).alias(\"dest\"))\\\n",
    "  .groupBy(\"src\", \"dest\")\\\n",
    "  .count()\\\n",
    "  .filter(col(\"count\") > 5)\\\n",
    "  .show(10, True)"
   ]
  },
  {
   "cell_type": "markdown",
   "metadata": {},
   "source": [
    "Demonstrate `extract_links()` UDF on the url and content columns."
   ]
  },
  {
   "cell_type": "code",
   "execution_count": 13,
   "metadata": {},
   "outputs": [
    {
     "name": "stdout",
     "output_type": "stream",
     "text": [
      "[2022-05-28T15:34:01.467Z - 00229 - HdfsIO] Opening file file:/home/nruest/Projects/au/sample-data/geocities/GEOCITIES-20091027143512-00103-ia400108.us.archive.org.warc.gz (Offset: 0, length: 0, decompress: false, strategy: BlockWise [dynamic])\n",
      "+----------------------------------------------------------------------------------------------------------------+\n",
      "|links                                                                                                           |\n",
      "+----------------------------------------------------------------------------------------------------------------+\n",
      "|{http://geocities.com/heigl_2k/img/thumbs/?N=D, http://geocities.com/heigl_2k/img/thumbs/?N=A, Name}            |\n",
      "|{http://geocities.com/heigl_2k/img/thumbs/?N=D, http://geocities.com/heigl_2k/img/thumbs/?M=A, Last modified}   |\n",
      "|{http://geocities.com/heigl_2k/img/thumbs/?N=D, http://geocities.com/heigl_2k/img/thumbs/?S=A, Size}            |\n",
      "|{http://geocities.com/heigl_2k/img/thumbs/?N=D, http://geocities.com/heigl_2k/img/thumbs/?D=A, Description}     |\n",
      "|{http://geocities.com/heigl_2k/img/thumbs/?N=D, http://geocities.com/heigl_2k/img/, Parent Directory}           |\n",
      "|{http://geocities.com/heigl_2k/img/thumbs/?N=D, http://geocities.com/heigl_2k/img/thumbs/heigl9.jpg, heigl9.jpg}|\n",
      "|{http://geocities.com/heigl_2k/img/thumbs/?N=D, http://geocities.com/heigl_2k/img/thumbs/heigl8.jpg, heigl8.jpg}|\n",
      "|{http://geocities.com/heigl_2k/img/thumbs/?N=D, http://geocities.com/heigl_2k/img/thumbs/heigl7.jpg, heigl7.jpg}|\n",
      "|{http://geocities.com/heigl_2k/img/thumbs/?N=D, http://geocities.com/heigl_2k/img/thumbs/heigl6.jpg, heigl6.jpg}|\n",
      "|{http://geocities.com/heigl_2k/img/thumbs/?N=D, http://geocities.com/heigl_2k/img/thumbs/heigl5.jpg, heigl5.jpg}|\n",
      "+----------------------------------------------------------------------------------------------------------------+\n",
      "only showing top 10 rows\n",
      "\n"
     ]
    }
   ],
   "source": [
    "all.filter(\"crawl_date is not NULL\")\\\n",
    "  .filter(~(col(\"url\").rlike(\".*robots\\\\.txt$\")) & (col(\"mime_type_web_server\").rlike(\"text/html\") | col(\"mime_type_web_server\").rlike(\"application/xhtml+xml\") | col(\"url\").rlike(\"(?i).*htm$\") | col(\"url\").rlike(\"(?i).*html$\")))\\\n",
    "  .filter(col(\"http_status_code\") == 200)\\\n",
    "  .select(explode(extract_links(\"url\", \"content\")).alias(\"links\"))\\\n",
    "  .show(10, False)"
   ]
  },
  {
   "cell_type": "markdown",
   "metadata": {},
   "source": [
    "Demonstrate `extract_image_links()` UDF on the url and content columns."
   ]
  },
  {
   "cell_type": "code",
   "execution_count": 14,
   "metadata": {},
   "outputs": [
    {
     "name": "stdout",
     "output_type": "stream",
     "text": [
      "[2022-05-28T15:34:01.928Z - 00230 - HdfsIO] Opening file file:/home/nruest/Projects/au/sample-data/geocities/GEOCITIES-20091027143512-00103-ia400108.us.archive.org.warc.gz (Offset: 0, length: 0, decompress: false, strategy: BlockWise [dynamic])\n",
      "+---------------------------------------------------------------------------------------------+\n",
      "|image_links                                                                                  |\n",
      "+---------------------------------------------------------------------------------------------+\n",
      "|{http://geocities.com/heigl_2k/img/thumbs/?N=D, http://geocities.com/icons/blank.gif,      } |\n",
      "|{http://geocities.com/heigl_2k/img/thumbs/?N=D, http://geocities.com/icons/back.gif, [DIR]}  |\n",
      "|{http://geocities.com/heigl_2k/img/thumbs/?N=D, http://geocities.com/icons/image2.gif, [IMG]}|\n",
      "|{http://geocities.com/heigl_2k/img/thumbs/?N=D, http://geocities.com/icons/image2.gif, [IMG]}|\n",
      "|{http://geocities.com/heigl_2k/img/thumbs/?N=D, http://geocities.com/icons/image2.gif, [IMG]}|\n",
      "|{http://geocities.com/heigl_2k/img/thumbs/?N=D, http://geocities.com/icons/image2.gif, [IMG]}|\n",
      "|{http://geocities.com/heigl_2k/img/thumbs/?N=D, http://geocities.com/icons/image2.gif, [IMG]}|\n",
      "|{http://geocities.com/heigl_2k/img/thumbs/?N=D, http://geocities.com/icons/image2.gif, [IMG]}|\n",
      "|{http://geocities.com/heigl_2k/img/thumbs/?N=D, http://geocities.com/icons/image2.gif, [IMG]}|\n",
      "|{http://geocities.com/heigl_2k/img/thumbs/?N=D, http://geocities.com/icons/image2.gif, [IMG]}|\n",
      "+---------------------------------------------------------------------------------------------+\n",
      "only showing top 10 rows\n",
      "\n"
     ]
    }
   ],
   "source": [
    "all.filter(\"crawl_date is not NULL\")\\\n",
    "  .filter(~(col(\"url\").rlike(\".*robots\\\\.txt$\")) & (col(\"mime_type_web_server\").rlike(\"text/html\") | col(\"mime_type_web_server\").rlike(\"application/xhtml+xml\") | col(\"url\").rlike(\"(?i).*htm$\") | col(\"url\").rlike(\"(?i).*html$\")))\\\n",
    "  .filter(col(\"http_status_code\") == 200)\\\n",
    "  .select(explode(extract_image_links(\"url\", \"content\")).alias(\"image_links\"))\\\n",
    "  .show(10, False)"
   ]
  },
  {
   "cell_type": "markdown",
   "metadata": {},
   "source": [
    "## `.webgraph()`"
   ]
  },
  {
   "cell_type": "markdown",
   "metadata": {},
   "source": [
    "`.webgraph()` schema"
   ]
  },
  {
   "cell_type": "code",
   "execution_count": 15,
   "metadata": {},
   "outputs": [
    {
     "data": {
      "text/plain": [
       "<bound method DataFrame.printSchema of DataFrame[crawl_date: string, src: string, dest: string, anchor: string]>"
      ]
     },
     "execution_count": 15,
     "metadata": {},
     "output_type": "execute_result"
    }
   ],
   "source": [
    "WebArchive(sc, sqlContext, warcs)\\\n",
    "  .webgraph()\\\n",
    "  .printSchema"
   ]
  },
  {
   "cell_type": "code",
   "execution_count": 16,
   "metadata": {},
   "outputs": [],
   "source": [
    "webgraph = WebArchive(sc, sqlContext, warcs)\\\n",
    "             .webgraph()"
   ]
  },
  {
   "cell_type": "markdown",
   "metadata": {},
   "source": [
    "Select source and destination urls, count their ocurrances, and filter out counts less than 5."
   ]
  },
  {
   "cell_type": "code",
   "execution_count": 17,
   "metadata": {},
   "outputs": [
    {
     "name": "stdout",
     "output_type": "stream",
     "text": [
      "[2022-05-28T15:34:02.762Z - 00240 - HdfsIO] Opening file file:/home/nruest/Projects/au/sample-data/geocities/GEOCITIES-20091027143300-00114-ia400112.us.archive.org.warc.gz (Offset: 0, length: 0, decompress: false, strategy: BlockWise [dynamic])\n",
      "[2022-05-28T15:34:02.764Z - 00235 - HdfsIO] Opening file file:/home/nruest/Projects/au/sample-data/geocities/GEOCITIES-20091027142649-00105-ia400111.us.archive.org.warc.gz (Offset: 0, length: 0, decompress: false, strategy: BlockWise [dynamic])\n",
      "[2022-05-28T15:34:02.764Z - 00238 - HdfsIO] Opening file file:/home/nruest/Projects/au/sample-data/geocities/GEOCITIES-20091027143451-00102-ia400108.us.archive.org.warc.gz (Offset: 0, length: 0, decompress: false, strategy: BlockWise [dynamic])\n",
      "[2022-05-28T15:34:02.766Z - 00233 - HdfsIO] Opening file file:/home/nruest/Projects/au/sample-data/geocities/GEOCITIES-20091027143856-00108-ia400107.us.archive.org.warc.gz (Offset: 0, length: 0, decompress: false, strategy: BlockWise [dynamic])\n",
      "[2022-05-28T15:34:02.769Z - 00239 - HdfsIO] Opening file file:/home/nruest/Projects/au/sample-data/geocities/GEOCITIES-20091027142731-00177-ia400130.us.archive.org.warc.gz (Offset: 0, length: 0, decompress: false, strategy: BlockWise [dynamic])\n",
      "[2022-05-28T15:34:02.775Z - 00234 - HdfsIO] Opening file file:/home/nruest/Projects/au/sample-data/geocities/GEOCITIES-20091027143351-00117-ia400103.us.archive.org.warc.gz (Offset: 0, length: 0, decompress: false, strategy: BlockWise [dynamic])\n",
      "[2022-05-28T15:34:02.896Z - 00232 - HdfsIO] Opening file file:/home/nruest/Projects/au/sample-data/geocities/GEOCITIES-20091027143243-00104-ia400105.us.archive.org.warc.gz (Offset: 0, length: 0, decompress: false, strategy: BlockWise [dynamic])\n",
      "[2022-05-28T15:34:02.918Z - 00237 - HdfsIO] Opening file file:/home/nruest/Projects/au/sample-data/geocities/GEOCITIES-20091027143841-00136-ia400104.us.archive.org.warc.gz (Offset: 0, length: 0, decompress: false, strategy: BlockWise [dynamic])\n",
      "[2022-05-28T15:34:02.920Z - 00236 - HdfsIO] Opening file file:/home/nruest/Projects/au/sample-data/geocities/GEOCITIES-20091027143340-00105-ia400105.us.archive.org.warc.gz (Offset: 0, length: 0, decompress: false, strategy: BlockWise [dynamic])\n",
      "[2022-05-28T15:34:03.143Z - 00231 - HdfsIO] Opening file file:/home/nruest/Projects/au/sample-data/geocities/GEOCITIES-20091027143512-00103-ia400108.us.archive.org.warc.gz (Offset: 0, length: 0, decompress: false, strategy: BlockWise [dynamic])\n"
     ]
    },
    {
     "name": "stderr",
     "output_type": "stream",
     "text": [
      "[Stage 22:===================================================>     (9 + 1) / 10]\r"
     ]
    },
    {
     "name": "stdout",
     "output_type": "stream",
     "text": [
      "+-------------+--------------------+-----+\n",
      "|          src|                dest|count|\n",
      "+-------------+--------------------+-----+\n",
      "|geocities.com|       manager.co.th|   36|\n",
      "|geocities.com|      siamrath.co.th|   35|\n",
      "|geocities.com|          bsdc.or.th|   34|\n",
      "|geocities.com|Ladies-of-the-Hea...|   10|\n",
      "|geocities.com| realitypornpass.com|   91|\n",
      "|geocities.com|     ttrehber.gov.tr|    6|\n",
      "|geocities.com|            mail.com|   38|\n",
      "|geocities.com|      198.65.147.231|   14|\n",
      "|geocities.com|              ed.gov|    8|\n",
      "|geocities.com|    kodakgallery.com|   44|\n",
      "+-------------+--------------------+-----+\n",
      "only showing top 10 rows\n",
      "\n"
     ]
    },
    {
     "name": "stderr",
     "output_type": "stream",
     "text": [
      "\r",
      "                                                                                \r"
     ]
    }
   ],
   "source": [
    "webgraph.groupBy(extract_domain(\"src\").alias(\"src\"), extract_domain(\"dest\").alias(\"dest\"))\\\n",
    "  .count()\\\n",
    "  .filter(col(\"count\") > 5)\\\n",
    "  .show(10, True)"
   ]
  },
  {
   "cell_type": "markdown",
   "metadata": {},
   "source": [
    "Similar to the above example, select source and destination urls, and additionally apply UDFs that extract the domain from the URL, and remove the `www` prefix."
   ]
  },
  {
   "cell_type": "code",
   "execution_count": 18,
   "metadata": {},
   "outputs": [
    {
     "name": "stdout",
     "output_type": "stream",
     "text": [
      "[2022-05-28T15:36:41.980Z - 00245 - HdfsIO] Opening file file:/home/nruest/Projects/au/sample-data/geocities/GEOCITIES-20091027143351-00117-ia400103.us.archive.org.warc.gz (Offset: 0, length: 0, decompress: false, strategy: BlockWise [dynamic])\n",
      "[2022-05-28T15:36:41.980Z - 00251 - HdfsIO] Opening file file:/home/nruest/Projects/au/sample-data/geocities/GEOCITIES-20091027143300-00114-ia400112.us.archive.org.warc.gz (Offset: 0, length: 0, decompress: false, strategy: BlockWise [dynamic])\n",
      "[2022-05-28T15:36:41.980Z - 00246 - HdfsIO] Opening file file:/home/nruest/Projects/au/sample-data/geocities/GEOCITIES-20091027142649-00105-ia400111.us.archive.org.warc.gz (Offset: 0, length: 0, decompress: false, strategy: BlockWise [dynamic])\n",
      "[2022-05-28T15:36:41.980Z - 00243 - HdfsIO] Opening file file:/home/nruest/Projects/au/sample-data/geocities/GEOCITIES-20091027143243-00104-ia400105.us.archive.org.warc.gz (Offset: 0, length: 0, decompress: false, strategy: BlockWise [dynamic])\n",
      "[2022-05-28T15:36:41.980Z - 00247 - HdfsIO] Opening file file:/home/nruest/Projects/au/sample-data/geocities/GEOCITIES-20091027143340-00105-ia400105.us.archive.org.warc.gz (Offset: 0, length: 0, decompress: false, strategy: BlockWise [dynamic])\n",
      "[2022-05-28T15:36:41.980Z - 00248 - HdfsIO] Opening file file:/home/nruest/Projects/au/sample-data/geocities/GEOCITIES-20091027143841-00136-ia400104.us.archive.org.warc.gz (Offset: 0, length: 0, decompress: false, strategy: BlockWise [dynamic])\n",
      "[2022-05-28T15:36:41.980Z - 00250 - HdfsIO] Opening file file:/home/nruest/Projects/au/sample-data/geocities/GEOCITIES-20091027142731-00177-ia400130.us.archive.org.warc.gz (Offset: 0, length: 0, decompress: false, strategy: BlockWise [dynamic])\n",
      "[2022-05-28T15:36:41.994Z - 00242 - HdfsIO] Opening file file:/home/nruest/Projects/au/sample-data/geocities/GEOCITIES-20091027143512-00103-ia400108.us.archive.org.warc.gz (Offset: 0, length: 0, decompress: false, strategy: BlockWise [dynamic])\n",
      "[2022-05-28T15:36:41.980Z - 00249 - HdfsIO] Opening file file:/home/nruest/Projects/au/sample-data/geocities/GEOCITIES-20091027143451-00102-ia400108.us.archive.org.warc.gz (Offset: 0, length: 0, decompress: false, strategy: BlockWise [dynamic])\n",
      "[2022-05-28T15:36:41.995Z - 00244 - HdfsIO] Opening file file:/home/nruest/Projects/au/sample-data/geocities/GEOCITIES-20091027143856-00108-ia400107.us.archive.org.warc.gz (Offset: 0, length: 0, decompress: false, strategy: BlockWise [dynamic])\n"
     ]
    },
    {
     "name": "stderr",
     "output_type": "stream",
     "text": [
      "[Stage 24:===================================================>     (9 + 1) / 10]\r"
     ]
    },
    {
     "name": "stdout",
     "output_type": "stream",
     "text": [
      "+--------------+-------------+-------------+-----+\n",
      "|    crawl_date|          src|         dest|count|\n",
      "+--------------+-------------+-------------+-----+\n",
      "|20091027143537|geocities.com|          com|    8|\n",
      "|20091027143540|geocities.com|             |   11|\n",
      "|20091027143618|geocities.com|             |    8|\n",
      "|20091027143716|geocities.com|             |   21|\n",
      "|20091027144043|geocities.com|    yahoo.com|    6|\n",
      "|20091027144420|geocities.com|geocities.com|  918|\n",
      "|20091027144511|geocities.com|    qksrv.net|   63|\n",
      "|20091027144611|geocities.com|             |   24|\n",
      "|20091027144707|geocities.com|   expage.com|   42|\n",
      "|20091027144918|geocities.com|    uinet.org|    8|\n",
      "+--------------+-------------+-------------+-----+\n",
      "only showing top 10 rows\n",
      "\n"
     ]
    },
    {
     "name": "stderr",
     "output_type": "stream",
     "text": [
      "\r",
      "                                                                                \r"
     ]
    }
   ],
   "source": [
    "webgraph.groupBy(\"crawl_date\", remove_prefix_www(extract_domain(\"src\")).alias(\"src\"), remove_prefix_www(extract_domain(\"dest\")).alias(\"dest\"))\\\n",
    "  .count()\\\n",
    "  .filter(col(\"count\") > 5)\\\n",
    "  .show(10, True)"
   ]
  },
  {
   "cell_type": "markdown",
   "metadata": {},
   "source": [
    "## `.webpages()`"
   ]
  },
  {
   "cell_type": "markdown",
   "metadata": {},
   "source": [
    "`.webpages()` schema"
   ]
  },
  {
   "cell_type": "code",
   "execution_count": 19,
   "metadata": {},
   "outputs": [
    {
     "data": {
      "text/plain": [
       "<bound method DataFrame.printSchema of DataFrame[crawl_date: string, domain: string, url: string, mime_type_web_server: string, mime_type_tika: string, language: string, content: string]>"
      ]
     },
     "execution_count": 19,
     "metadata": {},
     "output_type": "execute_result"
    }
   ],
   "source": [
    "WebArchive(sc, sqlContext, warcs)\\\n",
    "  .webpages()\\\n",
    "  .printSchema"
   ]
  },
  {
   "cell_type": "code",
   "execution_count": 20,
   "metadata": {},
   "outputs": [],
   "source": [
    "webpages = WebArchive(sc, sqlContext, warcs)\\\n",
    "             .webpages()"
   ]
  },
  {
   "cell_type": "markdown",
   "metadata": {},
   "source": [
    "Select crawl date, domain, url, and content by using two UDFs: `extract_domain()`, and `remove_html()`."
   ]
  },
  {
   "cell_type": "code",
   "execution_count": 21,
   "metadata": {},
   "outputs": [
    {
     "name": "stdout",
     "output_type": "stream",
     "text": [
      "[2022-05-28T15:39:25.558Z - 00253 - HdfsIO] Opening file file:/home/nruest/Projects/au/sample-data/geocities/GEOCITIES-20091027143512-00103-ia400108.us.archive.org.warc.gz (Offset: 0, length: 0, decompress: false, strategy: BlockWise [dynamic])\n",
      "+--------------+-------------+--------------------+--------------------+\n",
      "|    crawl_date|       domain|                 url|             content|\n",
      "+--------------+-------------+--------------------+--------------------+\n",
      "|20091027143512|geocities.com|http://geocities....|Index of /heigl_2...|\n",
      "|20091027143512|geocities.com|http://geocities....|Naval Missles Ant...|\n",
      "|20091027143512|geocities.com|http://geocities....|Diana Bellessi's ...|\n",
      "|20091027143512|geocities.com|http://geocities....|KELSO COMMUNITY A...|\n",
      "|20091027143512|geocities.com|http://geocities....|The Star Sapphire...|\n",
      "|20091027143512|geocities.com|http://geocities....|Index of /vandenf...|\n",
      "|20091027143512|geocities.com|http://geocities....|Diana Bellessi's ...|\n",
      "|20091027143512|geocities.com|http://geocities....|Index of /kkrhyth...|\n",
      "|20091027143512|geocities.com|http://geocities....|Index of /guinncj...|\n",
      "|20091027143512|geocities.com|http://geocities....|The Clinical Psyc...|\n",
      "+--------------+-------------+--------------------+--------------------+\n",
      "only showing top 10 rows\n",
      "\n"
     ]
    },
    {
     "name": "stderr",
     "output_type": "stream",
     "text": [
      "\r",
      "[Stage 26:>                                                         (0 + 1) / 1]\r",
      "\r",
      "                                                                                \r"
     ]
    }
   ],
   "source": [
    "webpages.select(\"crawl_date\", \"domain\", \"url\", \"content\")\\\n",
    "  .show(10, True)"
   ]
  },
  {
   "cell_type": "markdown",
   "metadata": {},
   "source": [
    "Select crawl date, domain, url, and content where domain is NOT `geocities.com`."
   ]
  },
  {
   "cell_type": "code",
   "execution_count": 22,
   "metadata": {},
   "outputs": [
    {
     "name": "stdout",
     "output_type": "stream",
     "text": [
      "[2022-05-28T15:39:26.333Z - 00254 - HdfsIO] Opening file file:/home/nruest/Projects/au/sample-data/geocities/GEOCITIES-20091027143512-00103-ia400108.us.archive.org.warc.gz (Offset: 0, length: 0, decompress: false, strategy: BlockWise [dynamic])\n"
     ]
    },
    {
     "name": "stderr",
     "output_type": "stream",
     "text": [
      "\r",
      "[Stage 27:>                                                         (0 + 1) / 1]\r"
     ]
    },
    {
     "name": "stdout",
     "output_type": "stream",
     "text": [
      "+--------------+-----------------+--------------------+--------------------+\n",
      "|    crawl_date|           domain|                 url|             content|\n",
      "+--------------+-----------------+--------------------+--------------------+\n",
      "|20091027143552|     bravenet.com|http://pub12.brav...|ref=document.refe...|\n",
      "|20091027143813|  warpedspace.org|http://warpedspac...|aa_Ocean -- Tesse...|\n",
      "|20091027144101|       weather.bg|http://weather.bg...|Bulgarian weather...|\n",
      "|20091027144158|         hello.to|http://hello.to/juju|                HEHE|\n",
      "|20091027145038|sandyhartwell.com|http://lolitanu-e...|lolitanu-eng.lesb...|\n",
      "|20091027145045|sandyhartwell.com|http://buttsex-en...|buttsex-eng.swex....|\n",
      "|20091027145045|sandyhartwell.com|http://littleloli...|littlelolita-eng....|\n",
      "|20091027145047|      webring.com|http://webspace.w...|Harry Farjeon wor...|\n",
      "|20091027145048|sandyhartwell.com|http://divisio9n-...|divisio9n-of-corp...|\n",
      "|20091027145046|sandyhartwell.com|http://sex3-eng.n...|sex3-eng.net.sand...|\n",
      "|20091027145049|      webring.com|http://webspace.w...|Harry Farjeon lif...|\n",
      "|20091027145052|      webring.com|http://webspace.w...|Harry Farjeon Har...|\n",
      "|20091027145051|sandyhartwell.com|http://asianbsex-...|asianbsex-jpg.san...|\n",
      "|20091027145114|sandyhartwell.com|http://horn-eng.s...|horn-eng.sexsex.s...|\n",
      "|20091027145112|sandyhartwell.com|http://bilder-sex...|bilder-sextv.sand...|\n",
      "|20091027145121|sandyhartwell.com|http://gay-eng.se...|gay-eng.sexsex.sa...|\n",
      "|20091027145150|sandyhartwell.com|http://stop-unwan...|stop-unwanted-pgo...|\n",
      "|20091027145202|sandyhartwell.com|http://j-hate-thi...|j-hate-this-fucki...|\n",
      "|20091027145207|         icoc.org|http://www.icoc.o...|www.icoc.orgimage...|\n",
      "|20091027145235|sandyhartwell.com|http://nude-tyhai...|nude-tyhai-girls....|\n",
      "+--------------+-----------------+--------------------+--------------------+\n",
      "only showing top 20 rows\n",
      "\n"
     ]
    },
    {
     "name": "stderr",
     "output_type": "stream",
     "text": [
      "\r",
      "                                                                                \r"
     ]
    }
   ],
   "source": [
    "domains = [\"geocities.com\"]\n",
    "\n",
    "webpages.select(\"crawl_date\", \"domain\", \"url\", \"content\")\\\n",
    "  .filter(~col(\"domain\").isin(domains))\\\n",
    "  .show(20, True)"
   ]
  },
  {
   "cell_type": "markdown",
   "metadata": {},
   "source": [
    "Select crawl date, domain, and url where url matches the pattern `%http://geocities.com/cancmay%`."
   ]
  },
  {
   "cell_type": "code",
   "execution_count": 23,
   "metadata": {},
   "outputs": [
    {
     "name": "stdout",
     "output_type": "stream",
     "text": [
      "[2022-05-28T15:40:05.516Z - 00255 - HdfsIO] Opening file file:/home/nruest/Projects/au/sample-data/geocities/GEOCITIES-20091027143512-00103-ia400108.us.archive.org.warc.gz (Offset: 0, length: 0, decompress: false, strategy: BlockWise [dynamic])\n"
     ]
    },
    {
     "name": "stderr",
     "output_type": "stream",
     "text": [
      "                                                                                \r"
     ]
    },
    {
     "name": "stdout",
     "output_type": "stream",
     "text": [
      "[2022-05-28T15:41:12.849Z - 00257 - HdfsIO] Opening file file:/home/nruest/Projects/au/sample-data/geocities/GEOCITIES-20091027143856-00108-ia400107.us.archive.org.warc.gz (Offset: 0, length: 0, decompress: false, strategy: BlockWise [dynamic])\n",
      "[2022-05-28T15:41:12.849Z - 00259 - HdfsIO] Opening file file:/home/nruest/Projects/au/sample-data/geocities/GEOCITIES-20091027142649-00105-ia400111.us.archive.org.warc.gz (Offset: 0, length: 0, decompress: false, strategy: BlockWise [dynamic])\n",
      "[2022-05-28T15:41:12.849Z - 00258 - HdfsIO] Opening file file:/home/nruest/Projects/au/sample-data/geocities/GEOCITIES-20091027143351-00117-ia400103.us.archive.org.warc.gz (Offset: 0, length: 0, decompress: false, strategy: BlockWise [dynamic])\n",
      "[2022-05-28T15:41:12.849Z - 00256 - HdfsIO] Opening file file:/home/nruest/Projects/au/sample-data/geocities/GEOCITIES-20091027143243-00104-ia400105.us.archive.org.warc.gz (Offset: 0, length: 0, decompress: false, strategy: BlockWise [dynamic])\n"
     ]
    },
    {
     "name": "stderr",
     "output_type": "stream",
     "text": [
      "[Stage 29:===========================================>              (3 + 1) / 4]\r"
     ]
    },
    {
     "name": "stdout",
     "output_type": "stream",
     "text": [
      "+--------------+-------------+-----------------------------------------------------------+\n",
      "|crawl_date    |domain       |url                                                        |\n",
      "+--------------+-------------+-----------------------------------------------------------+\n",
      "|20091027143245|geocities.com|http://geocities.com/cancmay/m/make-it-with-you.html       |\n",
      "|20091027143246|geocities.com|http://geocities.com/cancmay/m/?N=D                        |\n",
      "|20091027143246|geocities.com|http://geocities.com/cancmay/m/my-girl.html                |\n",
      "|20091027143246|geocities.com|http://geocities.com/cancmay/m/my-oh-my.html               |\n",
      "|20091027143247|geocities.com|http://geocities.com/cancmay/m/my-happy-ending.html        |\n",
      "|20091027143248|geocities.com|http://geocities.com/cancmay/m/my-funny-valentine.html     |\n",
      "|20091027143249|geocities.com|http://geocities.com/cancmay/m/mambo-italiano.html         |\n",
      "|20091027143249|geocities.com|http://geocities.com/cancmay/m/man-i-feel-like-a-woman.html|\n",
      "|20091027143250|geocities.com|http://geocities.com/cancmay/m/merry-go-round.html         |\n",
      "|20091027143250|geocities.com|http://geocities.com/cancmay/m/macarena.html               |\n",
      "|20091027143251|geocities.com|http://geocities.com/cancmay/m/michico-latino.html         |\n",
      "|20091027143252|geocities.com|http://geocities.com/cancmay/m/my-love.html                |\n",
      "|20091027143252|geocities.com|http://geocities.com/cancmay/m/muskrat-love.html           |\n",
      "|20091027143253|geocities.com|http://geocities.com/cancmay/m/m.html                      |\n",
      "|20091027143254|geocities.com|http://geocities.com/cancmay/m/melody-of-you.html          |\n",
      "|20091027143254|geocities.com|http://geocities.com/cancmay/m/money-money-money.html      |\n",
      "|20091027143255|geocities.com|http://geocities.com/cancmay/m/music.html                  |\n",
      "|20091027143255|geocities.com|http://geocities.com/cancmay/m/my-way.html                 |\n",
      "|20091027143257|geocities.com|http://geocities.com/cancmay/n/nowhere-man.html            |\n",
      "|20091027143257|geocities.com|http://geocities.com/cancmay/n/not-a-second-time.html      |\n",
      "+--------------+-------------+-----------------------------------------------------------+\n",
      "only showing top 20 rows\n",
      "\n"
     ]
    },
    {
     "name": "stderr",
     "output_type": "stream",
     "text": [
      "\r",
      "                                                                                \r"
     ]
    }
   ],
   "source": [
    "url_pattern = \"%http://geocities.com/cancmay%\"\n",
    "\n",
    "webpages.select(\"crawl_date\", \"domain\", \"url\")\\\n",
    "  .filter(col(\"url\").like(url_pattern))\\\n",
    "  .show(20, False)"
   ]
  },
  {
   "cell_type": "markdown",
   "metadata": {},
   "source": [
    "Select crawl date, domain, url, and content from only September or October 2009."
   ]
  },
  {
   "cell_type": "code",
   "execution_count": 24,
   "metadata": {},
   "outputs": [
    {
     "name": "stdout",
     "output_type": "stream",
     "text": [
      "[2022-05-28T15:42:48.866Z - 00260 - HdfsIO] Opening file file:/home/nruest/Projects/au/sample-data/geocities/GEOCITIES-20091027143512-00103-ia400108.us.archive.org.warc.gz (Offset: 0, length: 0, decompress: false, strategy: BlockWise [dynamic])\n",
      "+--------------+-------------+--------------------+--------------------+\n",
      "|    crawl_date|       domain|                 url|             content|\n",
      "+--------------+-------------+--------------------+--------------------+\n",
      "|20091027143512|geocities.com|http://geocities....|Index of /heigl_2...|\n",
      "|20091027143512|geocities.com|http://geocities....|Naval Missles Ant...|\n",
      "|20091027143512|geocities.com|http://geocities....|Diana Bellessi's ...|\n",
      "|20091027143512|geocities.com|http://geocities....|KELSO COMMUNITY A...|\n",
      "|20091027143512|geocities.com|http://geocities....|The Star Sapphire...|\n",
      "|20091027143512|geocities.com|http://geocities....|Index of /vandenf...|\n",
      "|20091027143512|geocities.com|http://geocities....|Diana Bellessi's ...|\n",
      "|20091027143512|geocities.com|http://geocities....|Index of /kkrhyth...|\n",
      "|20091027143512|geocities.com|http://geocities....|Index of /guinncj...|\n",
      "|20091027143512|geocities.com|http://geocities....|The Clinical Psyc...|\n",
      "|20091027143513|geocities.com|http://geocities....|Index of /brokenk...|\n",
      "|20091027143511|geocities.com|http://geocities....|·íÒà¹ÕÂºÈÔÉÂìà¡èÒ...|\n",
      "|20091027143513|geocities.com|http://geocities....|Index of /casasta...|\n",
      "|20091027143513|geocities.com|http://geocities....|Index of /badwick...|\n",
      "|20091027143513|geocities.com|http://geocities....|The Clinical Psyc...|\n",
      "|20091027143513|geocities.com|http://geocities....|Index of /onlyfor...|\n",
      "|20091027143513|geocities.com|http://geocities....|KC.page Click on ...|\n",
      "|20091027143514|geocities.com|http://geocities....|Diana Bellessi's ...|\n",
      "|20091027143513|geocities.com|http://geocities....|KELSO COMMUNITY A...|\n",
      "|20091027143514|geocities.com|http://geocities....|There Stood The B...|\n",
      "+--------------+-------------+--------------------+--------------------+\n",
      "only showing top 20 rows\n",
      "\n"
     ]
    }
   ],
   "source": [
    "dates = \"2009[10][09]\\d\\d\"\n",
    " \n",
    "webpages.select(\"crawl_date\", \"domain\", \"url\", \"content\")\\\n",
    "  .filter(col(\"crawl_date\").rlike(dates))\\\n",
    "  .show(20, True)"
   ]
  },
  {
   "cell_type": "markdown",
   "metadata": {},
   "source": [
    "Select crawl date, domain, url, and content where content has \"radio\" in it."
   ]
  },
  {
   "cell_type": "code",
   "execution_count": 25,
   "metadata": {},
   "outputs": [
    {
     "name": "stdout",
     "output_type": "stream",
     "text": [
      "[2022-05-28T15:42:49.100Z - 00261 - HdfsIO] Opening file file:/home/nruest/Projects/au/sample-data/geocities/GEOCITIES-20091027143512-00103-ia400108.us.archive.org.warc.gz (Offset: 0, length: 0, decompress: false, strategy: BlockWise [dynamic])\n"
     ]
    },
    {
     "name": "stderr",
     "output_type": "stream",
     "text": [
      "\r",
      "[Stage 31:>                                                         (0 + 1) / 1]\r"
     ]
    },
    {
     "name": "stdout",
     "output_type": "stream",
     "text": [
      "+--------------+-------------+--------------------+--------------------+\n",
      "|    crawl_date|       domain|                 url|             content|\n",
      "+--------------+-------------+--------------------+--------------------+\n",
      "|20091027143513|geocities.com|http://geocities....|The Clinical Psyc...|\n",
      "|20091027143530|geocities.com|http://geocities....|HUMAN SOUNDS SNOR...|\n",
      "|20091027143540|geocities.com|http://geocities....|Index of /vilsono...|\n",
      "|20091027143540|geocities.com|http://geocities....|Estafas esotérica...|\n",
      "|20091027143601|geocities.com|http://www.geocit...|Short Articles Ab...|\n",
      "|20091027143603|geocities.com|http://www.geocit...|Shoulder Separati...|\n",
      "|20091027143609|geocities.com|http://geocities....|DAVID BANNER adop...|\n",
      "|20091027143622|geocities.com|http://geocities....|New Page 1 By Stu...|\n",
      "|20091027143624|geocities.com|http://geocities....|Titre: Forever Lo...|\n",
      "|20091027143628|geocities.com|http://geocities....|Index of /vilsono...|\n",
      "+--------------+-------------+--------------------+--------------------+\n",
      "only showing top 10 rows\n",
      "\n"
     ]
    },
    {
     "name": "stderr",
     "output_type": "stream",
     "text": [
      "\r",
      "                                                                                \r"
     ]
    }
   ],
   "source": [
    "content = \"%radio%\"\n",
    "\n",
    "webpages.select(\"crawl_date\", \"domain\", \"url\", \"content\")\\\n",
    "  .filter(col(\"content\").like(content))\\\n",
    "  .show(10, True)"
   ]
  },
  {
   "cell_type": "markdown",
   "metadata": {},
   "source": [
    "Select crawl date, domain, url, and content where the domain is `geocities.com`, and the language is french."
   ]
  },
  {
   "cell_type": "code",
   "execution_count": 26,
   "metadata": {},
   "outputs": [
    {
     "name": "stdout",
     "output_type": "stream",
     "text": [
      "[2022-05-28T15:42:52.732Z - 00262 - HdfsIO] Opening file file:/home/nruest/Projects/au/sample-data/geocities/GEOCITIES-20091027143512-00103-ia400108.us.archive.org.warc.gz (Offset: 0, length: 0, decompress: false, strategy: BlockWise [dynamic])\n"
     ]
    },
    {
     "name": "stderr",
     "output_type": "stream",
     "text": [
      "\r",
      "[Stage 32:>                                                         (0 + 1) / 1]\r"
     ]
    },
    {
     "name": "stdout",
     "output_type": "stream",
     "text": [
      "+--------------+-------------+--------------------+--------------------+\n",
      "|    crawl_date|       domain|                 url|             content|\n",
      "+--------------+-------------+--------------------+--------------------+\n",
      "|20091027143526|geocities.com|http://geocities....|  lisa's page -blue-|\n",
      "|20091027143532|geocities.com|http://geocities....|              Quotes|\n",
      "|20091027143533|geocities.com|http://www.geocit...|           June June|\n",
      "|20091027143534|geocities.com|http://geocities....|Titre : Titre : C...|\n",
      "|20091027143536|geocities.com|http://geocities....|Titre: Une nuit m...|\n",
      "|20091027143537|geocities.com|http://geocities....|Titre : Sasoi ni ...|\n",
      "|20091027143539|geocities.com|http://geocities....|Titre : Titre : U...|\n",
      "|20091027143540|geocities.com|http://geocities....|Auteur : Larva Ti...|\n",
      "|20091027143542|geocities.com|http://geocities....|Titre : Tsuki to ...|\n",
      "|20091027143550|geocities.com|http://geocities....|For the first tim...|\n",
      "|20091027143552|geocities.com|http://geocities....|Titre : Say Anyth...|\n",
      "|20091027143555|geocities.com|http://geocities....|Titre: Fushigi na...|\n",
      "|20091027143609|geocities.com|http://geocities....|Titre : Titre : S...|\n",
      "|20091027143610|geocities.com|http://geocities....|Principles of lus...|\n",
      "|20091027143613|geocities.com|http://geocities....|Titre: Shiru Yuru...|\n",
      "|20091027143620|geocities.com|http://geocities....|Titre : Silence m...|\n",
      "|20091027143622|geocities.com|http://www.geocit...|       femaletrouble|\n",
      "|20091027143624|geocities.com|http://geocities....|Titre: Forever Lo...|\n",
      "|20091027143634|geocities.com|http://geocities....|Titre : Tame ni I...|\n",
      "|20091027143636|geocities.com|http://geocities....|Titre: Retrouvail...|\n",
      "+--------------+-------------+--------------------+--------------------+\n",
      "only showing top 20 rows\n",
      "\n"
     ]
    },
    {
     "name": "stderr",
     "output_type": "stream",
     "text": [
      "\r",
      "                                                                                \r"
     ]
    }
   ],
   "source": [
    "domains = [\"geocities.com\"]\n",
    "languages = [\"fr\"]\n",
    "\n",
    "webpages.select(\"crawl_date\", \"domain\", \"url\", \"content\")\\\n",
    "  .filter(col(\"domain\").isin(domains))\\\n",
    "  .filter(col(\"language\").isin(languages))\\\n",
    "  .show(20, True)"
   ]
  },
  {
   "cell_type": "markdown",
   "metadata": {},
   "source": [
    "Select urls that match a regex pattern."
   ]
  },
  {
   "cell_type": "code",
   "execution_count": 27,
   "metadata": {},
   "outputs": [
    {
     "name": "stdout",
     "output_type": "stream",
     "text": [
      "[2022-05-28T15:42:55.833Z - 00263 - HdfsIO] Opening file file:/home/nruest/Projects/au/sample-data/geocities/GEOCITIES-20091027143512-00103-ia400108.us.archive.org.warc.gz (Offset: 0, length: 0, decompress: false, strategy: BlockWise [dynamic])\n",
      "+-------------------------------------------------------------------------------------+\n",
      "|url                                                                                  |\n",
      "+-------------------------------------------------------------------------------------+\n",
      "|http://geocities.com/heigl_2k/img/thumbs/?N=D                                        |\n",
      "|http://geocities.com/~jask16/weapons/naval.html                                      |\n",
      "|http://geocities.com/Wellesley/4130/sur.html                                         |\n",
      "|http://geocities.com/kelsoonbutler/boardDocs/BoardMeetingMinutes_AGM_March12_2002.htm|\n",
      "|http://geocities.com/ianaxir/star_sapphire.htm                                       |\n",
      "|http://geocities.com/vandenfromcamden/LJPics/cat/                                    |\n",
      "|http://geocities.com/Wellesley/4130/eroica.html                                      |\n",
      "|http://geocities.com/kkrhythm/kyotei/photo/?M=A                                      |\n",
      "|http://geocities.com/guinncj/images/?D=A                                             |\n",
      "|http://geocities.com/docmarck2000/orientation.htm                                    |\n",
      "+-------------------------------------------------------------------------------------+\n",
      "only showing top 10 rows\n",
      "\n"
     ]
    }
   ],
   "source": [
    "url_pattern = \"http://[^/]+/[^/]+/\"\n",
    "\n",
    "webpages.select(\"url\")\\\n",
    "  .filter(col(\"url\").rlike(url_pattern))\\\n",
    "  .show(10, False)\n"
   ]
  },
  {
   "cell_type": "markdown",
   "metadata": {},
   "source": [
    "Show top 10 domains."
   ]
  },
  {
   "cell_type": "code",
   "execution_count": 28,
   "metadata": {},
   "outputs": [
    {
     "name": "stdout",
     "output_type": "stream",
     "text": [
      "[2022-05-28T15:42:56.092Z - 00268 - HdfsIO] Opening file file:/home/nruest/Projects/au/sample-data/geocities/GEOCITIES-20091027142649-00105-ia400111.us.archive.org.warc.gz (Offset: 0, length: 0, decompress: false, strategy: BlockWise [dynamic])\n",
      "[2022-05-28T15:42:56.092Z - 00264 - HdfsIO] Opening file file:/home/nruest/Projects/au/sample-data/geocities/GEOCITIES-20091027143512-00103-ia400108.us.archive.org.warc.gz (Offset: 0, length: 0, decompress: false, strategy: BlockWise [dynamic])\n",
      "[2022-05-28T15:42:56.092Z - 00272 - HdfsIO] Opening file file:/home/nruest/Projects/au/sample-data/geocities/GEOCITIES-20091027142731-00177-ia400130.us.archive.org.warc.gz (Offset: 0, length: 0, decompress: false, strategy: BlockWise [dynamic])\n",
      "[2022-05-28T15:42:56.092Z - 00265 - HdfsIO] Opening file file:/home/nruest/Projects/au/sample-data/geocities/GEOCITIES-20091027143243-00104-ia400105.us.archive.org.warc.gz (Offset: 0, length: 0, decompress: false, strategy: BlockWise [dynamic])\n",
      "[2022-05-28T15:42:56.092Z - 00273 - HdfsIO] Opening file file:/home/nruest/Projects/au/sample-data/geocities/GEOCITIES-20091027143300-00114-ia400112.us.archive.org.warc.gz (Offset: 0, length: 0, decompress: false, strategy: BlockWise [dynamic])\n",
      "[2022-05-28T15:42:56.092Z - 00270 - HdfsIO] Opening file file:/home/nruest/Projects/au/sample-data/geocities/GEOCITIES-20091027143841-00136-ia400104.us.archive.org.warc.gz (Offset: 0, length: 0, decompress: false, strategy: BlockWise [dynamic])\n",
      "[2022-05-28T15:42:56.092Z - 00269 - HdfsIO] Opening file file:/home/nruest/Projects/au/sample-data/geocities/GEOCITIES-20091027143340-00105-ia400105.us.archive.org.warc.gz (Offset: 0, length: 0, decompress: false, strategy: BlockWise [dynamic])\n",
      "[2022-05-28T15:42:56.099Z - 00267 - HdfsIO] Opening file file:/home/nruest/Projects/au/sample-data/geocities/GEOCITIES-20091027143351-00117-ia400103.us.archive.org.warc.gz (Offset: 0, length: 0, decompress: false, strategy: BlockWise [dynamic])\n",
      "[2022-05-28T15:42:56.099Z - 00271 - HdfsIO] Opening file file:/home/nruest/Projects/au/sample-data/geocities/GEOCITIES-20091027143451-00102-ia400108.us.archive.org.warc.gz (Offset: 0, length: 0, decompress: false, strategy: BlockWise [dynamic])\n",
      "[2022-05-28T15:42:56.100Z - 00266 - HdfsIO] Opening file file:/home/nruest/Projects/au/sample-data/geocities/GEOCITIES-20091027143856-00108-ia400107.us.archive.org.warc.gz (Offset: 0, length: 0, decompress: false, strategy: BlockWise [dynamic])\n"
     ]
    },
    {
     "name": "stderr",
     "output_type": "stream",
     "text": [
      "[Stage 34:===================================================>     (9 + 1) / 10]\r"
     ]
    },
    {
     "name": "stdout",
     "output_type": "stream",
     "text": [
      "+-----------------------+------+\n",
      "|domain                 |count |\n",
      "+-----------------------+------+\n",
      "|geocities.com          |123347|\n",
      "|infocastfn.com         |430   |\n",
      "|amazon.com             |205   |\n",
      "|bagus.com              |133   |\n",
      "|globalimagegallery.com |130   |\n",
      "|yahoo.com              |127   |\n",
      "|physforum.com          |124   |\n",
      "|viewonbuddhism.org     |122   |\n",
      "|internetarchaeology.org|121   |\n",
      "|tvoe.tv                |108   |\n",
      "+-----------------------+------+\n",
      "only showing top 10 rows\n",
      "\n"
     ]
    },
    {
     "name": "stderr",
     "output_type": "stream",
     "text": [
      "\r",
      "[Stage 35:==============================================>      (177 + 14) / 200]\r",
      "\r",
      "                                                                                \r"
     ]
    }
   ],
   "source": [
    "webpages.groupBy(\"domain\")\\\n",
    "  .count()\\\n",
    "  .sort(desc(\"count\"))\\\n",
    "  .show(10, False)\n"
   ]
  },
  {
   "cell_type": "markdown",
   "metadata": {},
   "source": [
    "Demonstrate `detect_language()` UDF on content."
   ]
  },
  {
   "cell_type": "code",
   "execution_count": 29,
   "metadata": {},
   "outputs": [
    {
     "name": "stdout",
     "output_type": "stream",
     "text": [
      "[2022-05-28T15:47:05.559Z - 00474 - HdfsIO] Opening file file:/home/nruest/Projects/au/sample-data/geocities/GEOCITIES-20091027143512-00103-ia400108.us.archive.org.warc.gz (Offset: 0, length: 0, decompress: false, strategy: BlockWise [dynamic])\n",
      "+--------------+------------+--------+\n",
      "|    crawl_date|udf_language|language|\n",
      "+--------------+------------+--------+\n",
      "|20091027143512|          nl|      nl|\n",
      "|20091027143512|          en|      en|\n",
      "|20091027143512|          es|      es|\n",
      "|20091027143512|          en|      en|\n",
      "|20091027143512|          en|      en|\n",
      "|20091027143512|          en|      en|\n",
      "|20091027143512|          en|      en|\n",
      "|20091027143512|          hr|      hr|\n",
      "|20091027143512|          en|      en|\n",
      "|20091027143512|          en|      en|\n",
      "+--------------+------------+--------+\n",
      "only showing top 10 rows\n",
      "\n"
     ]
    }
   ],
   "source": [
    "webpages.select(\"crawl_date\", detect_language(\"content\").alias(\"udf_language\"), \"language\")\\\n",
    "  .show(10, True)"
   ]
  },
  {
   "cell_type": "markdown",
   "metadata": {},
   "source": [
    "Select crawl date, domain, url, and language where the language is either Spanish or French."
   ]
  },
  {
   "cell_type": "code",
   "execution_count": 30,
   "metadata": {},
   "outputs": [
    {
     "name": "stdout",
     "output_type": "stream",
     "text": [
      "[2022-05-28T15:47:05.950Z - 00475 - HdfsIO] Opening file file:/home/nruest/Projects/au/sample-data/geocities/GEOCITIES-20091027143512-00103-ia400108.us.archive.org.warc.gz (Offset: 0, length: 0, decompress: false, strategy: BlockWise [dynamic])\n"
     ]
    },
    {
     "name": "stderr",
     "output_type": "stream",
     "text": [
      "\r",
      "[Stage 37:>                                                         (0 + 1) / 1]\r"
     ]
    },
    {
     "name": "stdout",
     "output_type": "stream",
     "text": [
      "+--------------+-------------+--------------------+--------+\n",
      "|    crawl_date|       domain|                 url|language|\n",
      "+--------------+-------------+--------------------+--------+\n",
      "|20091027143512|geocities.com|http://geocities....|      es|\n",
      "|20091027143515|geocities.com|http://geocities....|      es|\n",
      "|20091027143518|geocities.com|http://geocities....|      es|\n",
      "|20091027143519|geocities.com|http://geocities....|      es|\n",
      "|20091027143522|geocities.com|http://geocities....|      es|\n",
      "|20091027143523|geocities.com|http://geocities....|      es|\n",
      "|20091027143524|geocities.com|http://geocities....|      es|\n",
      "|20091027143526|geocities.com|http://geocities....|      fr|\n",
      "|20091027143526|geocities.com|http://geocities....|      es|\n",
      "|20091027143529|geocities.com|http://geocities....|      es|\n",
      "|20091027143532|geocities.com|http://geocities....|      fr|\n",
      "|20091027143532|geocities.com|http://geocities....|      es|\n",
      "|20091027143533|geocities.com|http://www.geocit...|      fr|\n",
      "|20091027143534|geocities.com|http://geocities....|      fr|\n",
      "|20091027143534|geocities.com|http://geocities....|      es|\n",
      "|20091027143536|geocities.com|http://geocities....|      fr|\n",
      "|20091027143537|geocities.com|http://geocities....|      fr|\n",
      "|20091027143539|geocities.com|http://geocities....|      fr|\n",
      "|20091027143539|geocities.com|http://geocities....|      es|\n",
      "|20091027143540|geocities.com|http://geocities....|      es|\n",
      "|20091027143540|geocities.com|http://geocities....|      fr|\n",
      "|20091027143541|geocities.com|http://geocities....|      es|\n",
      "|20091027143542|geocities.com|http://geocities....|      es|\n",
      "|20091027143542|geocities.com|http://geocities....|      fr|\n",
      "|20091027143543|geocities.com|http://geocities....|      es|\n",
      "|20091027143544|geocities.com|http://geocities....|      es|\n",
      "|20091027143546|geocities.com|http://geocities....|      es|\n",
      "|20091027143547|geocities.com|http://geocities....|      es|\n",
      "|20091027143550|geocities.com|http://www.geocit...|      es|\n",
      "|20091027143550|geocities.com|http://geocities....|      fr|\n",
      "|20091027143552|geocities.com|http://geocities....|      fr|\n",
      "|20091027143553|geocities.com|http://geocities....|      es|\n",
      "|20091027143554|geocities.com|http://geocities....|      es|\n",
      "|20091027143555|geocities.com|http://www.geocit...|      es|\n",
      "|20091027143555|geocities.com|http://geocities....|      fr|\n",
      "|20091027143556|geocities.com|http://geocities....|      es|\n",
      "|20091027143559|geocities.com|http://geocities....|      es|\n",
      "|20091027143600|geocities.com|http://geocities....|      es|\n",
      "|20091027143601|geocities.com|http://geocities....|      es|\n",
      "|20091027143608|geocities.com|http://geocities....|      es|\n",
      "|20091027143609|geocities.com|http://geocities....|      fr|\n",
      "|20091027143609|geocities.com|http://geocities....|      es|\n",
      "|20091027143610|geocities.com|http://geocities....|      es|\n",
      "|20091027143611|geocities.com|http://geocities....|      es|\n",
      "|20091027143611|geocities.com|http://geocities....|      es|\n",
      "|20091027143612|geocities.com|http://geocities....|      es|\n",
      "|20091027143610|geocities.com|http://geocities....|      fr|\n",
      "|20091027143613|geocities.com|http://geocities....|      fr|\n",
      "|20091027143616|geocities.com|http://geocities....|      es|\n",
      "|20091027143620|geocities.com|http://geocities....|      fr|\n",
      "+--------------+-------------+--------------------+--------+\n",
      "only showing top 50 rows\n",
      "\n"
     ]
    },
    {
     "name": "stderr",
     "output_type": "stream",
     "text": [
      "\r",
      "                                                                                \r"
     ]
    }
   ],
   "source": [
    "languages = [\"es\", \"fr\"]\n",
    "\n",
    "webpages.filter(col(\"language\").isin(languages))\\\n",
    "  .select(\"crawl_date\", \"domain\", \"url\", \"language\")\\\n",
    "  .show(50, True)"
   ]
  },
  {
   "cell_type": "markdown",
   "metadata": {},
   "source": [
    "Select crawl date, domain, url, and language where the language is *not* either Spanish or French."
   ]
  },
  {
   "cell_type": "code",
   "execution_count": 31,
   "metadata": {},
   "outputs": [
    {
     "name": "stdout",
     "output_type": "stream",
     "text": [
      "[2022-05-28T15:47:09.932Z - 00476 - HdfsIO] Opening file file:/home/nruest/Projects/au/sample-data/geocities/GEOCITIES-20091027143512-00103-ia400108.us.archive.org.warc.gz (Offset: 0, length: 0, decompress: false, strategy: BlockWise [dynamic])\n",
      "+--------------+-------------+--------------------+--------+\n",
      "|    crawl_date|       domain|                 url|language|\n",
      "+--------------+-------------+--------------------+--------+\n",
      "|20091027143512|geocities.com|http://geocities....|      nl|\n",
      "|20091027143512|geocities.com|http://geocities....|      en|\n",
      "|20091027143512|geocities.com|http://geocities....|      en|\n",
      "|20091027143512|geocities.com|http://geocities....|      en|\n",
      "|20091027143512|geocities.com|http://geocities....|      en|\n",
      "|20091027143512|geocities.com|http://geocities....|      en|\n",
      "|20091027143512|geocities.com|http://geocities....|      hr|\n",
      "|20091027143512|geocities.com|http://geocities....|      en|\n",
      "|20091027143512|geocities.com|http://geocities....|      en|\n",
      "|20091027143513|geocities.com|http://geocities....|      en|\n",
      "|20091027143511|geocities.com|http://geocities....|      vi|\n",
      "|20091027143513|geocities.com|http://geocities....|      en|\n",
      "|20091027143513|geocities.com|http://geocities....|      en|\n",
      "|20091027143513|geocities.com|http://geocities....|      en|\n",
      "|20091027143513|geocities.com|http://geocities....|      en|\n",
      "|20091027143513|geocities.com|http://geocities....|      en|\n",
      "|20091027143514|geocities.com|http://geocities....|      en|\n",
      "|20091027143513|geocities.com|http://geocities....|      en|\n",
      "|20091027143514|geocities.com|http://geocities....|      en|\n",
      "|20091027143514|geocities.com|http://geocities....|      en|\n",
      "|20091027143514|geocities.com|http://geocities....|      tl|\n",
      "|20091027143514|geocities.com|http://geocities....|      en|\n",
      "|20091027143514|geocities.com|http://www.geocit...|      en|\n",
      "|20091027143514|geocities.com|http://geocities....|      en|\n",
      "|20091027143514|geocities.com|http://geocities....|      en|\n",
      "|20091027143515|geocities.com|http://geocities....|      en|\n",
      "|20091027143514|geocities.com|http://geocities....|      en|\n",
      "|20091027143515|geocities.com|http://geocities....|      en|\n",
      "|20091027143515|geocities.com|http://geocities....|      en|\n",
      "|20091027143515|geocities.com|http://geocities....|      en|\n",
      "|20091027143516|geocities.com|http://geocities....|      tl|\n",
      "|20091027143515|geocities.com|http://geocities....|      en|\n",
      "|20091027143516|geocities.com|http://geocities....|      en|\n",
      "|20091027143516|geocities.com|http://geocities....|      so|\n",
      "|20091027143516|geocities.com|http://geocities....|      mt|\n",
      "|20091027143516|geocities.com|http://geocities....|      en|\n",
      "|20091027143516|geocities.com|http://geocities....|      en|\n",
      "|20091027143516|geocities.com|http://geocities....|      en|\n",
      "|20091027143517|geocities.com|http://geocities....|      en|\n",
      "|20091027143515|geocities.com|http://geocities....|      vi|\n",
      "|20091027143516|geocities.com|http://geocities....|      en|\n",
      "|20091027143517|geocities.com|http://geocities....|      en|\n",
      "|20091027143516|geocities.com|http://geocities....|      en|\n",
      "|20091027143517|geocities.com|http://geocities....|      en|\n",
      "|20091027143517|geocities.com|http://geocities....|      en|\n",
      "|20091027143517|geocities.com|http://geocities....|      sw|\n",
      "|20091027143517|geocities.com|http://geocities....|      en|\n",
      "|20091027143518|geocities.com|http://geocities....|      en|\n",
      "|20091027143518|geocities.com|http://geocities....|      en|\n",
      "|20091027143518|geocities.com|http://geocities....|      en|\n",
      "+--------------+-------------+--------------------+--------+\n",
      "only showing top 50 rows\n",
      "\n"
     ]
    },
    {
     "name": "stderr",
     "output_type": "stream",
     "text": [
      "\r",
      "[Stage 38:>                                                         (0 + 1) / 1]\r",
      "\r",
      "                                                                                \r"
     ]
    }
   ],
   "source": [
    "languages = [\"es\", \"fr\"]\n",
    "\n",
    "webpages.filter(~col(\"language\").isin(languages))\\\n",
    "  .select(\"crawl_date\", \"domain\", \"url\", \"language\")\\\n",
    "  .show(50, True)"
   ]
  },
  {
   "cell_type": "markdown",
   "metadata": {},
   "source": [
    "Select url, where the domain is either guggenheim.org or msnbc.com."
   ]
  },
  {
   "cell_type": "code",
   "execution_count": 32,
   "metadata": {},
   "outputs": [
    {
     "name": "stdout",
     "output_type": "stream",
     "text": [
      "[2022-05-28T15:47:10.673Z - 00477 - HdfsIO] Opening file file:/home/nruest/Projects/au/sample-data/geocities/GEOCITIES-20091027143512-00103-ia400108.us.archive.org.warc.gz (Offset: 0, length: 0, decompress: false, strategy: BlockWise [dynamic])\n"
     ]
    },
    {
     "name": "stderr",
     "output_type": "stream",
     "text": [
      "                                                                                \r"
     ]
    },
    {
     "name": "stdout",
     "output_type": "stream",
     "text": [
      "[2022-05-28T15:48:09.310Z - 00478 - HdfsIO] Opening file file:/home/nruest/Projects/au/sample-data/geocities/GEOCITIES-20091027143243-00104-ia400105.us.archive.org.warc.gz (Offset: 0, length: 0, decompress: false, strategy: BlockWise [dynamic])\n",
      "[2022-05-28T15:48:09.310Z - 00481 - HdfsIO] Opening file file:/home/nruest/Projects/au/sample-data/geocities/GEOCITIES-20091027142649-00105-ia400111.us.archive.org.warc.gz (Offset: 0, length: 0, decompress: false, strategy: BlockWise [dynamic])\n",
      "[2022-05-28T15:48:09.310Z - 00480 - HdfsIO] Opening file file:/home/nruest/Projects/au/sample-data/geocities/GEOCITIES-20091027143351-00117-ia400103.us.archive.org.warc.gz (Offset: 0, length: 0, decompress: false, strategy: BlockWise [dynamic])\n",
      "[2022-05-28T15:48:09.310Z - 00479 - HdfsIO] Opening file file:/home/nruest/Projects/au/sample-data/geocities/GEOCITIES-20091027143856-00108-ia400107.us.archive.org.warc.gz (Offset: 0, length: 0, decompress: false, strategy: BlockWise [dynamic])\n"
     ]
    },
    {
     "name": "stderr",
     "output_type": "stream",
     "text": [
      "                                                                                \r"
     ]
    },
    {
     "name": "stdout",
     "output_type": "stream",
     "text": [
      "[2022-05-28T15:50:13.179Z - 00485 - HdfsIO] Opening file file:/home/nruest/Projects/au/sample-data/geocities/GEOCITIES-20091027142731-00177-ia400130.us.archive.org.warc.gz (Offset: 0, length: 0, decompress: false, strategy: BlockWise [dynamic])\n",
      "[2022-05-28T15:50:13.179Z - 00483 - HdfsIO] Opening file file:/home/nruest/Projects/au/sample-data/geocities/GEOCITIES-20091027143841-00136-ia400104.us.archive.org.warc.gz (Offset: 0, length: 0, decompress: false, strategy: BlockWise [dynamic])\n",
      "[2022-05-28T15:50:13.180Z - 00484 - HdfsIO] Opening file file:/home/nruest/Projects/au/sample-data/geocities/GEOCITIES-20091027143451-00102-ia400108.us.archive.org.warc.gz (Offset: 0, length: 0, decompress: false, strategy: BlockWise [dynamic])\n",
      "[2022-05-28T15:50:13.180Z - 00482 - HdfsIO] Opening file file:/home/nruest/Projects/au/sample-data/geocities/GEOCITIES-20091027143340-00105-ia400105.us.archive.org.warc.gz (Offset: 0, length: 0, decompress: false, strategy: BlockWise [dynamic])\n",
      "[2022-05-28T15:50:13.181Z - 00486 - HdfsIO] Opening file file:/home/nruest/Projects/au/sample-data/geocities/GEOCITIES-20091027143300-00114-ia400112.us.archive.org.warc.gz (Offset: 0, length: 0, decompress: false, strategy: BlockWise [dynamic])\n"
     ]
    },
    {
     "name": "stderr",
     "output_type": "stream",
     "text": [
      "[Stage 41:==============================================>           (4 + 1) / 5]\r"
     ]
    },
    {
     "name": "stdout",
     "output_type": "stream",
     "text": [
      "+--------------+\n",
      "|domain        |\n",
      "+--------------+\n",
      "|msnbc.com     |\n",
      "|msnbc.com     |\n",
      "|msnbc.com     |\n",
      "|guggenheim.org|\n",
      "+--------------+\n",
      "\n"
     ]
    },
    {
     "name": "stderr",
     "output_type": "stream",
     "text": [
      "\r",
      "                                                                                \r"
     ]
    }
   ],
   "source": [
    "domains = [\"guggenheim.org\", \"msnbc.com\"]\n",
    " \n",
    "webpages.select(\"domain\")\\\n",
    "  .filter(col(\"domain\").isin(domains))\\\n",
    "  .show(10, False)"
   ]
  }
 ],
 "metadata": {
  "kernelspec": {
   "display_name": "Python 3 (ipykernel)",
   "language": "python",
   "name": "python3"
  },
  "language_info": {
   "codemirror_mode": {
    "name": "ipython",
    "version": 3
   },
   "file_extension": ".py",
   "mimetype": "text/x-python",
   "name": "python",
   "nbconvert_exporter": "python",
   "pygments_lexer": "ipython3",
   "version": "3.9.9"
  }
 },
 "nbformat": 4,
 "nbformat_minor": 2
}
