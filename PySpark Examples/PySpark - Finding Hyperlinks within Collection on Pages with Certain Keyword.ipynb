{
 "cells": [
  {
   "cell_type": "code",
   "execution_count": 1,
   "metadata": {},
   "outputs": [],
   "source": [
    "from aut import *\n",
    "from pyspark.sql.functions import col, explode_outer"
   ]
  },
  {
   "cell_type": "code",
   "execution_count": 2,
   "metadata": {},
   "outputs": [],
   "source": [
    "webpages = WebArchive(sc, sqlContext, \"/home/nruest/Projects/au/sample-data/geocities\") \\\n",
    "  .all() \\\n",
    "  .filter(\"crawl_date is not NULL\")\\\n",
    "  .filter(~(col(\"url\").rlike(\".*robots\\\\.txt$\")) & (col(\"mime_type_web_server\").rlike(\"text/html\") | col(\"mime_type_web_server\").rlike(\"application/xhtml+xml\") | col(\"url\").rlike(\"(?i).*htm$\") | col(\"url\").rlike(\"(?i).*html$\")))\\\n",
    "  .filter(col(\"http_status_code\") == 200)\\\n",
    "  .select(\"domain\", \"url\", \"crawl_date\", explode_outer(extract_links(\"url\", \"raw_content\")).alias(\"link\")) \\\n",
    "  .filter(col(\"raw_content\").like(\"%food%\")) \\\n",
    "  .select(\"url\", \"domain\", \"crawl_date\", col(\"link._1\").alias(\"destination_page\"))"
   ]
  },
  {
   "cell_type": "code",
   "execution_count": 3,
   "metadata": {},
   "outputs": [
    {
     "name": "stdout",
     "output_type": "stream",
     "text": [
      "[2022-05-29T22:12:01.819Z - 00000 - HdfsIO] Opening file file:/home/nruest/Projects/au/sample-data/geocities/GEOCITIES-20091027143512-00103-ia400108.us.archive.org.warc.gz (Offset: 0, length: 0, decompress: false, strategy: BlockWise [dynamic])\n"
     ]
    },
    {
     "name": "stderr",
     "output_type": "stream",
     "text": [
      "22/05/29 18:12:02 WARN PDFParser: J2KImageReader not loaded. JPEG2000 files will not be processed.\n",
      "See https://pdfbox.apache.org/2.0/dependencies.html#jai-image-io\n",
      "for optional dependencies.\n",
      "\n",
      "22/05/29 18:12:02 WARN TesseractOCRParser: Tesseract OCR is installed and will be automatically applied to image files unless\n",
      "you've excluded the TesseractOCRParser from the default parser.\n",
      "Tesseract may dramatically slow down content extraction (TIKA-2359).\n",
      "As of Tika 1.15 (and prior versions), Tesseract is automatically called.\n",
      "In future versions of Tika, users may need to turn the TesseractOCRParser on via TikaConfig.\n",
      "22/05/29 18:12:02 WARN SQLite3Parser: org.xerial's sqlite-jdbc is not loaded.\n",
      "Please provide the jar on your classpath to parse sqlite files.\n",
      "See tika-parsers/pom.xml for the correct version.\n"
     ]
    },
    {
     "name": "stdout",
     "output_type": "stream",
     "text": [
      "+-------------------------------------------------------------------------------------+-------------+--------------+--------------------------------------------+\n",
      "|url                                                                                  |domain       |crawl_date    |destination_page                            |\n",
      "+-------------------------------------------------------------------------------------+-------------+--------------+--------------------------------------------+\n",
      "|http://geocities.com/kelsoonbutler/boardDocs/BoardMeetingMinutes_AGM_March12_2002.htm|geocities.com|20091027143512|null                                        |\n",
      "|http://geocities.com/krooyaimaha/health5.htm                                         |geocities.com|20091027143546|http://geocities.com/krooyaimaha/health5.htm|\n",
      "|http://geocities.com/krooyaimaha/health5.htm                                         |geocities.com|20091027143546|http://geocities.com/krooyaimaha/health5.htm|\n",
      "|http://geocities.com/krooyaimaha/health5.htm                                         |geocities.com|20091027143546|http://geocities.com/krooyaimaha/health5.htm|\n",
      "|http://geocities.com/krooyaimaha/health5.htm                                         |geocities.com|20091027143546|http://geocities.com/krooyaimaha/health5.htm|\n",
      "+-------------------------------------------------------------------------------------+-------------+--------------+--------------------------------------------+\n",
      "only showing top 5 rows\n",
      "\n"
     ]
    },
    {
     "name": "stderr",
     "output_type": "stream",
     "text": [
      "\r",
      "                                                                                \r"
     ]
    }
   ],
   "source": [
    "webpages.show(5, False)"
   ]
  }
 ],
 "metadata": {
  "kernelspec": {
   "display_name": "Python 3 (ipykernel)",
   "language": "python",
   "name": "python3"
  },
  "language_info": {
   "codemirror_mode": {
    "name": "ipython",
    "version": 3
   },
   "file_extension": ".py",
   "mimetype": "text/x-python",
   "name": "python",
   "nbconvert_exporter": "python",
   "pygments_lexer": "ipython3",
   "version": "3.9.9"
  }
 },
 "nbformat": 4,
 "nbformat_minor": 2
}
