{
 "cells": [
  {
   "cell_type": "code",
   "execution_count": 1,
   "metadata": {},
   "outputs": [],
   "source": [
    "from aut import *\n",
    "from pyspark.sql.functions import col, desc"
   ]
  },
  {
   "cell_type": "code",
   "execution_count": 2,
   "metadata": {},
   "outputs": [],
   "source": [
    "# Web archive collection; web pages.\n",
    "webpages = WebArchive(sc, sqlContext, \"/home/nruest/Projects/au/sample-data/geocities\").webpages()"
   ]
  },
  {
   "cell_type": "code",
   "execution_count": 3,
   "metadata": {},
   "outputs": [],
   "source": [
    "# Web archive collection; web graph.\n",
    "webgraph = WebArchive(sc, sqlContext, \"/home/nruest/Projects/au/sample-data/geocities\").webgraph()"
   ]
  },
  {
   "cell_type": "code",
   "execution_count": 4,
   "metadata": {},
   "outputs": [
    {
     "name": "stdout",
     "output_type": "stream",
     "text": [
      "[2022-05-28T20:17:58.285Z - 00009 - HdfsIO] Opening file file:/home/nruest/Projects/au/sample-data/geocities/GEOCITIES-20091027143300-00114-ia400112.us.archive.org.warc.gz (Offset: 0, length: 0, decompress: false, strategy: BlockWise [dynamic])\n",
      "[2022-05-28T20:17:58.285Z - 00003 - HdfsIO] Opening file file:/home/nruest/Projects/au/sample-data/geocities/GEOCITIES-20091027143351-00117-ia400103.us.archive.org.warc.gz (Offset: 0, length: 0, decompress: false, strategy: BlockWise [dynamic])\n",
      "[2022-05-28T20:17:58.285Z - 00005 - HdfsIO] Opening file file:/home/nruest/Projects/au/sample-data/geocities/GEOCITIES-20091027143340-00105-ia400105.us.archive.org.warc.gz (Offset: 0, length: 0, decompress: false, strategy: BlockWise [dynamic])\n",
      "[2022-05-28T20:17:58.285Z - 00002 - HdfsIO] Opening file file:/home/nruest/Projects/au/sample-data/geocities/GEOCITIES-20091027143856-00108-ia400107.us.archive.org.warc.gz (Offset: 0, length: 0, decompress: false, strategy: BlockWise [dynamic])\n",
      "[2022-05-28T20:17:58.285Z - 00008 - HdfsIO] Opening file file:/home/nruest/Projects/au/sample-data/geocities/GEOCITIES-20091027142731-00177-ia400130.us.archive.org.warc.gz (Offset: 0, length: 0, decompress: false, strategy: BlockWise [dynamic])\n",
      "[2022-05-28T20:17:58.285Z - 00006 - HdfsIO] Opening file file:/home/nruest/Projects/au/sample-data/geocities/GEOCITIES-20091027143841-00136-ia400104.us.archive.org.warc.gz (Offset: 0, length: 0, decompress: false, strategy: BlockWise [dynamic])\n",
      "[2022-05-28T20:17:58.285Z - 00004 - HdfsIO] Opening file file:/home/nruest/Projects/au/sample-data/geocities/GEOCITIES-20091027142649-00105-ia400111.us.archive.org.warc.gz (Offset: 0, length: 0, decompress: false, strategy: BlockWise [dynamic])\n",
      "[2022-05-28T20:17:58.285Z - 00001 - HdfsIO] Opening file file:/home/nruest/Projects/au/sample-data/geocities/GEOCITIES-20091027143243-00104-ia400105.us.archive.org.warc.gz (Offset: 0, length: 0, decompress: false, strategy: BlockWise [dynamic])\n",
      "[2022-05-28T20:17:58.285Z - 00000 - HdfsIO] Opening file file:/home/nruest/Projects/au/sample-data/geocities/GEOCITIES-20091027143512-00103-ia400108.us.archive.org.warc.gz (Offset: 0, length: 0, decompress: false, strategy: BlockWise [dynamic])\n",
      "[2022-05-28T20:17:58.285Z - 00007 - HdfsIO] Opening file file:/home/nruest/Projects/au/sample-data/geocities/GEOCITIES-20091027143451-00102-ia400108.us.archive.org.warc.gz (Offset: 0, length: 0, decompress: false, strategy: BlockWise [dynamic])\n"
     ]
    },
    {
     "name": "stderr",
     "output_type": "stream",
     "text": [
      "22/05/28 16:17:59 WARN PDFParser: J2KImageReader not loaded. JPEG2000 files will not be processed.\n",
      "See https://pdfbox.apache.org/2.0/dependencies.html#jai-image-io\n",
      "for optional dependencies.\n",
      "\n",
      "22/05/28 16:17:59 WARN TesseractOCRParser: Tesseract OCR is installed and will be automatically applied to image files unless\n",
      "you've excluded the TesseractOCRParser from the default parser.\n",
      "Tesseract may dramatically slow down content extraction (TIKA-2359).\n",
      "As of Tika 1.15 (and prior versions), Tesseract is automatically called.\n",
      "In future versions of Tika, users may need to turn the TesseractOCRParser on via TikaConfig.\n",
      "22/05/28 16:17:59 WARN SQLite3Parser: org.xerial's sqlite-jdbc is not loaded.\n",
      "Please provide the jar on your classpath to parse sqlite files.\n",
      "See tika-parsers/pom.xml for the correct version.\n",
      "                                                                                \r"
     ]
    }
   ],
   "source": [
    "# Domain frequency file.\n",
    "webpages.groupBy(\"domain\")\\\n",
    "  .count()\\\n",
    "  .sort(col(\"count\")\\\n",
    "  .desc())\\\n",
    "  .write\\\n",
    "  .option(\"timestampFormat\", \"yyyy/MM/dd HH:mm:ss ZZ\")\\\n",
    "  .format(\"csv\")\\\n",
    "  .option(\"escape\", \"\\\"\")\\\n",
    "  .option(\"encoding\", \"utf-8\")\\\n",
    "  .save(\"all-domains\")"
   ]
  },
  {
   "cell_type": "code",
   "execution_count": 5,
   "metadata": {},
   "outputs": [
    {
     "name": "stdout",
     "output_type": "stream",
     "text": [
      "[2022-05-28T20:22:47.865Z - 00439 - HdfsIO] Opening file file:/home/nruest/Projects/au/sample-data/geocities/GEOCITIES-20091027142731-00177-ia400130.us.archive.org.warc.gz (Offset: 0, length: 0, decompress: false, strategy: BlockWise [dynamic])\n",
      "[2022-05-28T20:22:47.868Z - 00432 - HdfsIO] Opening file file:/home/nruest/Projects/au/sample-data/geocities/GEOCITIES-20091027143243-00104-ia400105.us.archive.org.warc.gz (Offset: 0, length: 0, decompress: false, strategy: BlockWise [dynamic])\n",
      "[2022-05-28T20:22:47.867Z - 00434 - HdfsIO] Opening file file:/home/nruest/Projects/au/sample-data/geocities/GEOCITIES-20091027143351-00117-ia400103.us.archive.org.warc.gz (Offset: 0, length: 0, decompress: false, strategy: BlockWise [dynamic])\n",
      "[2022-05-28T20:22:47.866Z - 00435 - HdfsIO] Opening file file:/home/nruest/Projects/au/sample-data/geocities/GEOCITIES-20091027142649-00105-ia400111.us.archive.org.warc.gz (Offset: 0, length: 0, decompress: false, strategy: BlockWise [dynamic])\n",
      "[2022-05-28T20:22:47.869Z - 00433 - HdfsIO] Opening file file:/home/nruest/Projects/au/sample-data/geocities/GEOCITIES-20091027143856-00108-ia400107.us.archive.org.warc.gz (Offset: 0, length: 0, decompress: false, strategy: BlockWise [dynamic])\n",
      "[2022-05-28T20:22:47.868Z - 00438 - HdfsIO] Opening file file:/home/nruest/Projects/au/sample-data/geocities/GEOCITIES-20091027143451-00102-ia400108.us.archive.org.warc.gz (Offset: 0, length: 0, decompress: false, strategy: BlockWise [dynamic])\n",
      "[2022-05-28T20:22:47.877Z - 00440 - HdfsIO] Opening file file:/home/nruest/Projects/au/sample-data/geocities/GEOCITIES-20091027143300-00114-ia400112.us.archive.org.warc.gz (Offset: 0, length: 0, decompress: false, strategy: BlockWise [dynamic])\n",
      "[2022-05-28T20:22:47.877Z - 00436 - HdfsIO] Opening file file:/home/nruest/Projects/au/sample-data/geocities/GEOCITIES-20091027143340-00105-ia400105.us.archive.org.warc.gz (Offset: 0, length: 0, decompress: false, strategy: BlockWise [dynamic])\n",
      "[2022-05-28T20:22:47.890Z - 00437 - HdfsIO] Opening file file:/home/nruest/Projects/au/sample-data/geocities/GEOCITIES-20091027143841-00136-ia400104.us.archive.org.warc.gz (Offset: 0, length: 0, decompress: false, strategy: BlockWise [dynamic])\n"
     ]
    },
    {
     "name": "stderr",
     "output_type": "stream",
     "text": [
      "\r",
      "[Stage 5:>                                                        (0 + 10) / 10]\r"
     ]
    },
    {
     "name": "stdout",
     "output_type": "stream",
     "text": [
      "[2022-05-28T20:22:49.243Z - 00431 - HdfsIO] Opening file file:/home/nruest/Projects/au/sample-data/geocities/GEOCITIES-20091027143512-00103-ia400108.us.archive.org.warc.gz (Offset: 0, length: 0, decompress: false, strategy: BlockWise [dynamic])\n"
     ]
    },
    {
     "name": "stderr",
     "output_type": "stream",
     "text": [
      "                                                                                \r"
     ]
    }
   ],
   "source": [
    "# Full-text.\n",
    "webpages.write\\\n",
    "  .option(\"timestampFormat\", \"yyyy/MM/dd HH:mm:ss ZZ\")\\\n",
    "  .format(\"csv\")\\\n",
    "  .option(\"escape\", \"\\\"\")\\\n",
    "  .option(\"encoding\", \"utf-8\")\\\n",
    "  .save(\"full-text\")"
   ]
  },
  {
   "cell_type": "code",
   "execution_count": 6,
   "metadata": {},
   "outputs": [],
   "source": [
    "# Create DataFrame for GraphML output\n",
    "graph = webgraph.groupBy(\"crawl_date\", remove_prefix_www(extract_domain(\"src\")).alias(\"src_domain\"), remove_prefix_www(extract_domain(\"dest\")).alias(\"dest_domain\"))\\\n",
    "          .count()\\\n",
    "          .filter((col(\"dest_domain\").isNotNull()) & (col(\"dest_domain\") !=\"\"))\\\n",
    "          .filter((col(\"src_domain\").isNotNull()) & (col(\"src_domain\") !=\"\"))\\\n",
    "          .filter(col(\"count\") > 5)\\\n",
    "          .orderBy(desc(\"count\"))"
   ]
  },
  {
   "cell_type": "code",
   "execution_count": 7,
   "metadata": {},
   "outputs": [
    {
     "name": "stdout",
     "output_type": "stream",
     "text": [
      "[2022-05-28T20:27:28.329Z - 00449 - HdfsIO] Opening file file:/home/nruest/Projects/au/sample-data/geocities/GEOCITIES-20091027142731-00177-ia400130.us.archive.org.warc.gz (Offset: 0, length: 0, decompress: false, strategy: BlockWise [dynamic])\n",
      "[2022-05-28T20:27:28.329Z - 00445 - HdfsIO] Opening file file:/home/nruest/Projects/au/sample-data/geocities/GEOCITIES-20091027142649-00105-ia400111.us.archive.org.warc.gz (Offset: 0, length: 0, decompress: false, strategy: BlockWise [dynamic])\n",
      "[2022-05-28T20:27:28.329Z - 00446 - HdfsIO] Opening file file:/home/nruest/Projects/au/sample-data/geocities/GEOCITIES-20091027143340-00105-ia400105.us.archive.org.warc.gz (Offset: 0, length: 0, decompress: false, strategy: BlockWise [dynamic])\n",
      "[2022-05-28T20:27:28.329Z - 00447 - HdfsIO] Opening file file:/home/nruest/Projects/au/sample-data/geocities/GEOCITIES-20091027143841-00136-ia400104.us.archive.org.warc.gz (Offset: 0, length: 0, decompress: false, strategy: BlockWise [dynamic])\n",
      "[2022-05-28T20:27:28.329Z - 00441 - HdfsIO] Opening file file:/home/nruest/Projects/au/sample-data/geocities/GEOCITIES-20091027143512-00103-ia400108.us.archive.org.warc.gz (Offset: 0, length: 0, decompress: false, strategy: BlockWise [dynamic])\n",
      "[2022-05-28T20:27:28.329Z - 00444 - HdfsIO] Opening file file:/home/nruest/Projects/au/sample-data/geocities/GEOCITIES-20091027143351-00117-ia400103.us.archive.org.warc.gz (Offset: 0, length: 0, decompress: false, strategy: BlockWise [dynamic])\n",
      "[2022-05-28T20:27:28.330Z - 00450 - HdfsIO] Opening file file:/home/nruest/Projects/au/sample-data/geocities/GEOCITIES-20091027143300-00114-ia400112.us.archive.org.warc.gz (Offset: 0, length: 0, decompress: false, strategy: BlockWise [dynamic])\n",
      "[2022-05-28T20:27:28.329Z - 00448 - HdfsIO] Opening file file:/home/nruest/Projects/au/sample-data/geocities/GEOCITIES-20091027143451-00102-ia400108.us.archive.org.warc.gz (Offset: 0, length: 0, decompress: false, strategy: BlockWise [dynamic])\n",
      "[2022-05-28T20:27:28.332Z - 00443 - HdfsIO] Opening file file:/home/nruest/Projects/au/sample-data/geocities/GEOCITIES-20091027143856-00108-ia400107.us.archive.org.warc.gz (Offset: 0, length: 0, decompress: false, strategy: BlockWise [dynamic])\n",
      "[2022-05-28T20:27:28.332Z - 00442 - HdfsIO] Opening file file:/home/nruest/Projects/au/sample-data/geocities/GEOCITIES-20091027143243-00104-ia400105.us.archive.org.warc.gz (Offset: 0, length: 0, decompress: false, strategy: BlockWise [dynamic])\n"
     ]
    },
    {
     "name": "stderr",
     "output_type": "stream",
     "text": [
      "                                                                                \r"
     ]
    }
   ],
   "source": [
    "# Write the GraphML out to a file.\n",
    "WriteGraphML(graph.collect(), \"test.graphml\")"
   ]
  },
  {
   "cell_type": "code",
   "execution_count": 8,
   "metadata": {},
   "outputs": [],
   "source": [
    "# Write the GEXF out to a file.\n",
    "\n",
    "# Not part of auk standard derivative process,\n",
    "# but apart of https://github.com/archivesunleashed/aut/pull/466 testing.\n",
    "\n",
    "WriteGEXF(graph.collect(), \"test.gexf\")"
   ]
  }
 ],
 "metadata": {
  "kernelspec": {
   "display_name": "Python 3 (ipykernel)",
   "language": "python",
   "name": "python3"
  },
  "language_info": {
   "codemirror_mode": {
    "name": "ipython",
    "version": 3
   },
   "file_extension": ".py",
   "mimetype": "text/x-python",
   "name": "python",
   "nbconvert_exporter": "python",
   "pygments_lexer": "ipython3",
   "version": "3.9.9"
  }
 },
 "nbformat": 4,
 "nbformat_minor": 2
}
