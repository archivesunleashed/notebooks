{
  "nbformat": 4,
  "nbformat_minor": 0,
  "metadata": {
    "colab": {
      "provenance": [],
      "include_colab_link": true
    },
    "kernelspec": {
      "name": "python3",
      "display_name": "Python 3"
    },
    "language_info": {
      "name": "python"
    }
  },
  "cells": [
    {
      "cell_type": "markdown",
      "metadata": {
        "id": "view-in-github",
        "colab_type": "text"
      },
      "source": [
        "<a href=\"https://colab.research.google.com/github/archivesunleashed/notebooks/blob/main/arch/powerpoint-information.ipynb\" target=\"_parent\"><img src=\"https://colab.research.google.com/assets/colab-badge.svg\" alt=\"Open In Colab\"/></a>"
      ]
    },
    {
      "cell_type": "markdown",
      "source": [
        "# PowerPoint (e.g., .ppt, .odp, .key) Information Dataset Exploration\n",
        "\n",
        "We're going to take a look at a few examples of how we can explore the PowerPoint (e.g., .ppt, .odp, .key) Information dataset. \n",
        "\n",
        "The first thing we need to do is enter the URL for our PowerPoint (e.g., .ppt, .odp, .key) Information dataset in the cell below. You can get this by right clicking the Download icon, and selecting \"Copy Link\"."
      ],
      "metadata": {
        "id": "vAyuRQ2PJIdc"
      }
    },
    {
      "cell_type": "code",
      "source": [
        "dataset = 'https://webdata.archive-it.org/ait/files/download/ARCHIVEIT-14489/PresentationProgramInformationExtraction/powerpoint-information.csv.gz?access=SEC4D2NNIXOIHMKOTE7MQHPEAHD4GGFD' #@param {type:\"string\"}\n",
        "print(dataset)"
      ],
      "metadata": {
        "colab": {
          "base_uri": "https://localhost:8080/"
        },
        "cellView": "form",
        "id": "RfhJiesWVpAf",
        "outputId": "d7bc9693-ab71-4f09-8b57-378be117d5ca"
      },
      "execution_count": 1,
      "outputs": [
        {
          "output_type": "stream",
          "name": "stdout",
          "text": [
            "https://webdata.archive-it.org/ait/files/download/ARCHIVEIT-14489/PresentationProgramInformationExtraction/powerpoint-information.csv.gz?access=SEC4D2NNIXOIHMKOTE7MQHPEAHD4GGFD\n"
          ]
        }
      ]
    },
    {
      "cell_type": "markdown",
      "source": [
        "## pandas\n",
        "\n",
        "Next, we'll setup our environment so we can load our PowerPoint (e.g., .ppt, .odp, .key) Information dataset into [pandas](https://pandas.pydata.org) DataFrames. If you're unfamiliar with DataFrames, but you've worked with PowerPoint files before, you should feel comfortable pretty quick."
      ],
      "metadata": {
        "id": "Z14F2cIWJVW0"
      }
    },
    {
      "cell_type": "code",
      "execution_count": 2,
      "metadata": {
        "id": "Chh6tt3HHF1s"
      },
      "outputs": [],
      "source": [
        "import pandas as pd"
      ]
    },
    {
      "cell_type": "markdown",
      "source": [
        "## Data Table Display\n",
        "\n",
        "Colab includes an extension that renders pandas DataFrames into interactive displays that can be filtered, sorted, and explored dynamically. This can be very useful for taking a look at what each DataFrame provides, and doing some intital filtering!\n",
        "\n",
        "Data table display for pandas DataFrames can be enabled by running:\n",
        "```python\n",
        "%load_ext google.colab.data_table\n",
        "```\n",
        "and disabled by running\n",
        "```python\n",
        "%unload_ext google.colab.data_table\n",
        "```"
      ],
      "metadata": {
        "id": "sH81XCf3I3xY"
      }
    },
    {
      "cell_type": "code",
      "source": [
        "%load_ext google.colab.data_table"
      ],
      "metadata": {
        "id": "-qyCnbvBI7n6"
      },
      "execution_count": 3,
      "outputs": []
    },
    {
      "cell_type": "markdown",
      "source": [
        "## Loading our ARCH Dataset as a DataFrame\n",
        "\n",
        "---\n",
        "\n",
        "\n",
        "Next, we'll create pandas DataFrame from our dataset, and show a preview of it using the Data Table Display."
      ],
      "metadata": {
        "id": "6prR7j1zI_D5"
      }
    },
    {
      "cell_type": "code",
      "source": [
        "powerpoint = pd.read_csv(dataset, compression='gzip')\n",
        "powerpoint"
      ],
      "metadata": {
        "colab": {
          "base_uri": "https://localhost:8080/",
          "height": 1068
        },
        "id": "YL0LQaUNHRKx",
        "outputId": "815cf277-5c6e-4ba3-b4a8-96a6510144d8"
      },
      "execution_count": 4,
      "outputs": [
        {
          "output_type": "execute_result",
          "data": {
            "text/plain": [
              "        crawl_date                                                url  \\\n",
              "0   20200630100515  https://sosp19.rcs.uwaterloo.ca/slides/aghayev...   \n",
              "1   20200701163007  http://mirror.csclub.uwaterloo.ca/csclub/CSCta...   \n",
              "2   20200703065633  http://compneuro.uwaterloo.ca/files/2010-Symbo...   \n",
              "3   20200716082844  https://crysp.uwaterloo.ca/courses/cs489/F07-l...   \n",
              "4   20200716082912  https://crysp.uwaterloo.ca/courses/cs489/F07-l...   \n",
              "5   20200716082939  https://crysp.uwaterloo.ca/courses/cs489/F07-l...   \n",
              "6   20200716083014  https://crysp.uwaterloo.ca/courses/cs489/F07-l...   \n",
              "7   20200716083330  https://crysp.uwaterloo.ca/courses/cs489/F07-l...   \n",
              "8   20200716083403  https://crysp.uwaterloo.ca/courses/cs489/F07-l...   \n",
              "9   20200716083453  https://crysp.uwaterloo.ca/courses/cs489/F07-l...   \n",
              "10  20200716083548  https://crysp.uwaterloo.ca/courses/cs489/F07-l...   \n",
              "11  20200716083639  https://crysp.uwaterloo.ca/courses/cs489/F07-l...   \n",
              "12  20200716083723  https://crysp.uwaterloo.ca/courses/cs489/F07-l...   \n",
              "13  20200716083759  https://crysp.uwaterloo.ca/courses/cs489/F07-l...   \n",
              "14  20200716083831  https://crysp.uwaterloo.ca/courses/cs489/F07-l...   \n",
              "15  20200716083925  https://crysp.uwaterloo.ca/courses/cs489/F07-l...   \n",
              "16  20200716084032  https://crysp.uwaterloo.ca/courses/cs489/F07-l...   \n",
              "17  20200716084150  https://crysp.uwaterloo.ca/courses/cs489/F07-l...   \n",
              "18  20200716084248  https://crysp.uwaterloo.ca/courses/cs489/F07-l...   \n",
              "19  20200716111053  https://crysp.uwaterloo.ca/courses/cs489/F07-l...   \n",
              "20  20200716131946  https://crysp.uwaterloo.ca/courses/cs489/F07-l...   \n",
              "21  20200716131955  https://crysp.uwaterloo.ca/courses/cs489/F07-l...   \n",
              "22  20200716132017  https://crysp.uwaterloo.ca/courses/cs489/F07-l...   \n",
              "23  20200716132047  https://crysp.uwaterloo.ca/courses/cs489/F07-l...   \n",
              "24  20200716132140  https://crysp.uwaterloo.ca/courses/cs489/F07-l...   \n",
              "25  20200716132213  https://crysp.uwaterloo.ca/courses/cs489/F07-l...   \n",
              "26  20200716132231  https://crysp.uwaterloo.ca/courses/cs489/F07-l...   \n",
              "27  20210102160118  http://compneuro.uwaterloo.ca/files/2010-Symbo...   \n",
              "\n",
              "                           filename extension  \\\n",
              "0                       aghayev.odp       odp   \n",
              "1                  CSCtalkMar06.odp       odp   \n",
              "2   2010-SymbolicReasoning-talk.odp       odp   \n",
              "3                     lecture01.odp       odp   \n",
              "4                     lecture02.odp       odp   \n",
              "5                     lecture03.odp       odp   \n",
              "6                     lecture04.odp       odp   \n",
              "7                     lecture05.odp       odp   \n",
              "8                     lecture06.odp       odp   \n",
              "9                     lecture07.odp       odp   \n",
              "10                    lecture08.odp       odp   \n",
              "11                    lecture09.odp       odp   \n",
              "12                    lecture10.odp       odp   \n",
              "13                    lecture11.odp       odp   \n",
              "14                    lecture12.odp       odp   \n",
              "15                    lecture13.odp       odp   \n",
              "16                    lecture14.odp       odp   \n",
              "17                    lecture15.odp       odp   \n",
              "18                    lecture16.odp       odp   \n",
              "19                    lecture17.odp       odp   \n",
              "20                    lecture18.odp       odp   \n",
              "21                    lecture19.odp       odp   \n",
              "22                    lecture20.odp       odp   \n",
              "23                    lecture21.odp       odp   \n",
              "24                    lecture22.odp       odp   \n",
              "25                    lecture23.odp       odp   \n",
              "26                    lecture24.odp       odp   \n",
              "27  2010-SymbolicReasoning-talk.odp       odp   \n",
              "\n",
              "                               mime_type_web_server  \\\n",
              "0   application/vnd.oasis.opendocument.presentation   \n",
              "1                                        text/plain   \n",
              "2   application/vnd.oasis.opendocument.presentation   \n",
              "3   application/vnd.oasis.opendocument.presentation   \n",
              "4   application/vnd.oasis.opendocument.presentation   \n",
              "5   application/vnd.oasis.opendocument.presentation   \n",
              "6   application/vnd.oasis.opendocument.presentation   \n",
              "7   application/vnd.oasis.opendocument.presentation   \n",
              "8   application/vnd.oasis.opendocument.presentation   \n",
              "9   application/vnd.oasis.opendocument.presentation   \n",
              "10  application/vnd.oasis.opendocument.presentation   \n",
              "11  application/vnd.oasis.opendocument.presentation   \n",
              "12  application/vnd.oasis.opendocument.presentation   \n",
              "13  application/vnd.oasis.opendocument.presentation   \n",
              "14  application/vnd.oasis.opendocument.presentation   \n",
              "15  application/vnd.oasis.opendocument.presentation   \n",
              "16  application/vnd.oasis.opendocument.presentation   \n",
              "17  application/vnd.oasis.opendocument.presentation   \n",
              "18  application/vnd.oasis.opendocument.presentation   \n",
              "19  application/vnd.oasis.opendocument.presentation   \n",
              "20  application/vnd.oasis.opendocument.presentation   \n",
              "21  application/vnd.oasis.opendocument.presentation   \n",
              "22  application/vnd.oasis.opendocument.presentation   \n",
              "23  application/vnd.oasis.opendocument.presentation   \n",
              "24  application/vnd.oasis.opendocument.presentation   \n",
              "25  application/vnd.oasis.opendocument.presentation   \n",
              "26  application/vnd.oasis.opendocument.presentation   \n",
              "27  application/vnd.oasis.opendocument.presentation   \n",
              "\n",
              "                                     mime_type_tika  \\\n",
              "0   application/vnd.oasis.opendocument.presentation   \n",
              "1   application/vnd.oasis.opendocument.presentation   \n",
              "2   application/vnd.oasis.opendocument.presentation   \n",
              "3   application/vnd.oasis.opendocument.presentation   \n",
              "4   application/vnd.oasis.opendocument.presentation   \n",
              "5   application/vnd.oasis.opendocument.presentation   \n",
              "6   application/vnd.oasis.opendocument.presentation   \n",
              "7   application/vnd.oasis.opendocument.presentation   \n",
              "8   application/vnd.oasis.opendocument.presentation   \n",
              "9   application/vnd.oasis.opendocument.presentation   \n",
              "10  application/vnd.oasis.opendocument.presentation   \n",
              "11  application/vnd.oasis.opendocument.presentation   \n",
              "12  application/vnd.oasis.opendocument.presentation   \n",
              "13  application/vnd.oasis.opendocument.presentation   \n",
              "14  application/vnd.oasis.opendocument.presentation   \n",
              "15  application/vnd.oasis.opendocument.presentation   \n",
              "16  application/vnd.oasis.opendocument.presentation   \n",
              "17  application/vnd.oasis.opendocument.presentation   \n",
              "18  application/vnd.oasis.opendocument.presentation   \n",
              "19  application/vnd.oasis.opendocument.presentation   \n",
              "20  application/vnd.oasis.opendocument.presentation   \n",
              "21  application/vnd.oasis.opendocument.presentation   \n",
              "22  application/vnd.oasis.opendocument.presentation   \n",
              "23  application/vnd.oasis.opendocument.presentation   \n",
              "24  application/vnd.oasis.opendocument.presentation   \n",
              "25  application/vnd.oasis.opendocument.presentation   \n",
              "26  application/vnd.oasis.opendocument.presentation   \n",
              "27  application/vnd.oasis.opendocument.presentation   \n",
              "\n",
              "                                 md5                                      sha1  \n",
              "0   251ef42a95ac46bc244cc6890a52e5e0  f8fdc8e66b1c549e71792bcb44410d591bf27e3a  \n",
              "1   d7a85d97add0d9eb9e5e499de57cdce5  b76280ccae619259a2d195cb8bad4fa25cc17055  \n",
              "2   0fc5903baf19cc206070f227cc8d97a0  7a198a6d23f33b635fd3685596740ae3a75fdd2d  \n",
              "3   69b9751e5d53e61560542c649ed6d800  3869e96c0cfe1b6b29618515fc8054afdc9144ce  \n",
              "4   af4f046972338538919befc61dd4b841  caed1d01f4af5901b358f7df1f0aea1ec9a4ed02  \n",
              "5   6dfecd5e9e83a392d7e7d27de011164b  3f6dfdbc43f730e8dcf85dd8b7db4392642ec1db  \n",
              "6   16130ef8fe11c0f59f5b8445f8de73a5  99001b57945fd91fbc5644015c272bd78290a4c1  \n",
              "7   72d442efb006ecbb5371f799b34e7dad  e1d19676a1d6e97cb04a0590e35bd4962a6d405c  \n",
              "8   0bfa3d7cbd48a943a52f3737d9e8e39d  5490c797680199deb4f254d88295e19cae08099d  \n",
              "9   615c543e8bae683d3704796cf8876e6c  8f2afeaa973a1dce3482df67f8853e6c60b991f2  \n",
              "10  c2c9e21dadfd2f763991a8b27b66cf16  bc39b2b604f54d2dc4dd234378766461a2872c8f  \n",
              "11  634b9229bc707d5720032b7e4ed95f68  56500ed334bbcc34181bd087530df8e13f26f30d  \n",
              "12  17faf7026b9c829f6bc6df8a2db9e755  3f1f64cda2fb6e7f53fe91bd32daf3e5ef987ed0  \n",
              "13  17fd81148f859eecd067d1f54b6eb6b3  29d30c70fb889296031d32a8f0440993c11cb002  \n",
              "14  f31988ac5277a88e47b335344d73620e  d975eac237c7f7c84df3d3165f1fd34f443093ef  \n",
              "15  baef27d187b5d517ffe7035d6434d3cd  114597f5a7d1822e21e238aec03c05183dfbcb86  \n",
              "16  c65ffe2b41b102cb3a8513939975e146  d86eb673c115ed6c1352630b0a02363a35f0ee87  \n",
              "17  0b8b7cf4d0be820bf4b46ae52e2903b0  9d7bed651036c0cc5599c3609082d0317d66864e  \n",
              "18  28b81476e4424c958d1c6f805ac359a1  77aa7803a54fb05fbaf438a76fd19efa2411d08c  \n",
              "19  3d6fcc24d89e4aa5440d4bca11f38b2c  f843004197c745af93c5a0ec7bf2f146b872b91d  \n",
              "20  17afee10ca6497b79922dda21049cacd  a795ddadbc7cb90fa86dadfa0819211550ff56b6  \n",
              "21  27434cc3adabd36899e5928ce83222aa  3aa7fa51ad63cd4d02a12efb7878a2718e819aee  \n",
              "22  20323cd7630e202723b2a1eae06750c7  ab27745479580da8c087ce946ff38b629d0cf0ad  \n",
              "23  bdb5e154b3cc360570b5595e23028603  6dee8a6c3fe2257ff392f5aa319b4a50bf4a8a10  \n",
              "24  4f65db6d4ad9cc86524e66a98baf508c  73966cbaefbeed6d285a1bf06f87d29ad5eba0b7  \n",
              "25  4f328a0227a1106761ed4d6b57a0ac62  78c01cc6488b1e7342265494f6468b68cc329b0c  \n",
              "26  d7b6b6a9b2e81062531f100818cf684a  fd08db993f52126370148f6777608786bc1090b7  \n",
              "27  0fc5903baf19cc206070f227cc8d97a0  7a198a6d23f33b635fd3685596740ae3a75fdd2d  "
            ],
            "text/html": [
              "\n",
              "  <div id=\"df-26649768-0ca1-4e09-912f-e538083fb435\">\n",
              "    <div class=\"colab-df-container\">\n",
              "      <div>\n",
              "<style scoped>\n",
              "    .dataframe tbody tr th:only-of-type {\n",
              "        vertical-align: middle;\n",
              "    }\n",
              "\n",
              "    .dataframe tbody tr th {\n",
              "        vertical-align: top;\n",
              "    }\n",
              "\n",
              "    .dataframe thead th {\n",
              "        text-align: right;\n",
              "    }\n",
              "</style>\n",
              "<table border=\"1\" class=\"dataframe\">\n",
              "  <thead>\n",
              "    <tr style=\"text-align: right;\">\n",
              "      <th></th>\n",
              "      <th>crawl_date</th>\n",
              "      <th>url</th>\n",
              "      <th>filename</th>\n",
              "      <th>extension</th>\n",
              "      <th>mime_type_web_server</th>\n",
              "      <th>mime_type_tika</th>\n",
              "      <th>md5</th>\n",
              "      <th>sha1</th>\n",
              "    </tr>\n",
              "  </thead>\n",
              "  <tbody>\n",
              "    <tr>\n",
              "      <th>0</th>\n",
              "      <td>20200630100515</td>\n",
              "      <td>https://sosp19.rcs.uwaterloo.ca/slides/aghayev...</td>\n",
              "      <td>aghayev.odp</td>\n",
              "      <td>odp</td>\n",
              "      <td>application/vnd.oasis.opendocument.presentation</td>\n",
              "      <td>application/vnd.oasis.opendocument.presentation</td>\n",
              "      <td>251ef42a95ac46bc244cc6890a52e5e0</td>\n",
              "      <td>f8fdc8e66b1c549e71792bcb44410d591bf27e3a</td>\n",
              "    </tr>\n",
              "    <tr>\n",
              "      <th>1</th>\n",
              "      <td>20200701163007</td>\n",
              "      <td>http://mirror.csclub.uwaterloo.ca/csclub/CSCta...</td>\n",
              "      <td>CSCtalkMar06.odp</td>\n",
              "      <td>odp</td>\n",
              "      <td>text/plain</td>\n",
              "      <td>application/vnd.oasis.opendocument.presentation</td>\n",
              "      <td>d7a85d97add0d9eb9e5e499de57cdce5</td>\n",
              "      <td>b76280ccae619259a2d195cb8bad4fa25cc17055</td>\n",
              "    </tr>\n",
              "    <tr>\n",
              "      <th>2</th>\n",
              "      <td>20200703065633</td>\n",
              "      <td>http://compneuro.uwaterloo.ca/files/2010-Symbo...</td>\n",
              "      <td>2010-SymbolicReasoning-talk.odp</td>\n",
              "      <td>odp</td>\n",
              "      <td>application/vnd.oasis.opendocument.presentation</td>\n",
              "      <td>application/vnd.oasis.opendocument.presentation</td>\n",
              "      <td>0fc5903baf19cc206070f227cc8d97a0</td>\n",
              "      <td>7a198a6d23f33b635fd3685596740ae3a75fdd2d</td>\n",
              "    </tr>\n",
              "    <tr>\n",
              "      <th>3</th>\n",
              "      <td>20200716082844</td>\n",
              "      <td>https://crysp.uwaterloo.ca/courses/cs489/F07-l...</td>\n",
              "      <td>lecture01.odp</td>\n",
              "      <td>odp</td>\n",
              "      <td>application/vnd.oasis.opendocument.presentation</td>\n",
              "      <td>application/vnd.oasis.opendocument.presentation</td>\n",
              "      <td>69b9751e5d53e61560542c649ed6d800</td>\n",
              "      <td>3869e96c0cfe1b6b29618515fc8054afdc9144ce</td>\n",
              "    </tr>\n",
              "    <tr>\n",
              "      <th>4</th>\n",
              "      <td>20200716082912</td>\n",
              "      <td>https://crysp.uwaterloo.ca/courses/cs489/F07-l...</td>\n",
              "      <td>lecture02.odp</td>\n",
              "      <td>odp</td>\n",
              "      <td>application/vnd.oasis.opendocument.presentation</td>\n",
              "      <td>application/vnd.oasis.opendocument.presentation</td>\n",
              "      <td>af4f046972338538919befc61dd4b841</td>\n",
              "      <td>caed1d01f4af5901b358f7df1f0aea1ec9a4ed02</td>\n",
              "    </tr>\n",
              "    <tr>\n",
              "      <th>5</th>\n",
              "      <td>20200716082939</td>\n",
              "      <td>https://crysp.uwaterloo.ca/courses/cs489/F07-l...</td>\n",
              "      <td>lecture03.odp</td>\n",
              "      <td>odp</td>\n",
              "      <td>application/vnd.oasis.opendocument.presentation</td>\n",
              "      <td>application/vnd.oasis.opendocument.presentation</td>\n",
              "      <td>6dfecd5e9e83a392d7e7d27de011164b</td>\n",
              "      <td>3f6dfdbc43f730e8dcf85dd8b7db4392642ec1db</td>\n",
              "    </tr>\n",
              "    <tr>\n",
              "      <th>6</th>\n",
              "      <td>20200716083014</td>\n",
              "      <td>https://crysp.uwaterloo.ca/courses/cs489/F07-l...</td>\n",
              "      <td>lecture04.odp</td>\n",
              "      <td>odp</td>\n",
              "      <td>application/vnd.oasis.opendocument.presentation</td>\n",
              "      <td>application/vnd.oasis.opendocument.presentation</td>\n",
              "      <td>16130ef8fe11c0f59f5b8445f8de73a5</td>\n",
              "      <td>99001b57945fd91fbc5644015c272bd78290a4c1</td>\n",
              "    </tr>\n",
              "    <tr>\n",
              "      <th>7</th>\n",
              "      <td>20200716083330</td>\n",
              "      <td>https://crysp.uwaterloo.ca/courses/cs489/F07-l...</td>\n",
              "      <td>lecture05.odp</td>\n",
              "      <td>odp</td>\n",
              "      <td>application/vnd.oasis.opendocument.presentation</td>\n",
              "      <td>application/vnd.oasis.opendocument.presentation</td>\n",
              "      <td>72d442efb006ecbb5371f799b34e7dad</td>\n",
              "      <td>e1d19676a1d6e97cb04a0590e35bd4962a6d405c</td>\n",
              "    </tr>\n",
              "    <tr>\n",
              "      <th>8</th>\n",
              "      <td>20200716083403</td>\n",
              "      <td>https://crysp.uwaterloo.ca/courses/cs489/F07-l...</td>\n",
              "      <td>lecture06.odp</td>\n",
              "      <td>odp</td>\n",
              "      <td>application/vnd.oasis.opendocument.presentation</td>\n",
              "      <td>application/vnd.oasis.opendocument.presentation</td>\n",
              "      <td>0bfa3d7cbd48a943a52f3737d9e8e39d</td>\n",
              "      <td>5490c797680199deb4f254d88295e19cae08099d</td>\n",
              "    </tr>\n",
              "    <tr>\n",
              "      <th>9</th>\n",
              "      <td>20200716083453</td>\n",
              "      <td>https://crysp.uwaterloo.ca/courses/cs489/F07-l...</td>\n",
              "      <td>lecture07.odp</td>\n",
              "      <td>odp</td>\n",
              "      <td>application/vnd.oasis.opendocument.presentation</td>\n",
              "      <td>application/vnd.oasis.opendocument.presentation</td>\n",
              "      <td>615c543e8bae683d3704796cf8876e6c</td>\n",
              "      <td>8f2afeaa973a1dce3482df67f8853e6c60b991f2</td>\n",
              "    </tr>\n",
              "    <tr>\n",
              "      <th>10</th>\n",
              "      <td>20200716083548</td>\n",
              "      <td>https://crysp.uwaterloo.ca/courses/cs489/F07-l...</td>\n",
              "      <td>lecture08.odp</td>\n",
              "      <td>odp</td>\n",
              "      <td>application/vnd.oasis.opendocument.presentation</td>\n",
              "      <td>application/vnd.oasis.opendocument.presentation</td>\n",
              "      <td>c2c9e21dadfd2f763991a8b27b66cf16</td>\n",
              "      <td>bc39b2b604f54d2dc4dd234378766461a2872c8f</td>\n",
              "    </tr>\n",
              "    <tr>\n",
              "      <th>11</th>\n",
              "      <td>20200716083639</td>\n",
              "      <td>https://crysp.uwaterloo.ca/courses/cs489/F07-l...</td>\n",
              "      <td>lecture09.odp</td>\n",
              "      <td>odp</td>\n",
              "      <td>application/vnd.oasis.opendocument.presentation</td>\n",
              "      <td>application/vnd.oasis.opendocument.presentation</td>\n",
              "      <td>634b9229bc707d5720032b7e4ed95f68</td>\n",
              "      <td>56500ed334bbcc34181bd087530df8e13f26f30d</td>\n",
              "    </tr>\n",
              "    <tr>\n",
              "      <th>12</th>\n",
              "      <td>20200716083723</td>\n",
              "      <td>https://crysp.uwaterloo.ca/courses/cs489/F07-l...</td>\n",
              "      <td>lecture10.odp</td>\n",
              "      <td>odp</td>\n",
              "      <td>application/vnd.oasis.opendocument.presentation</td>\n",
              "      <td>application/vnd.oasis.opendocument.presentation</td>\n",
              "      <td>17faf7026b9c829f6bc6df8a2db9e755</td>\n",
              "      <td>3f1f64cda2fb6e7f53fe91bd32daf3e5ef987ed0</td>\n",
              "    </tr>\n",
              "    <tr>\n",
              "      <th>13</th>\n",
              "      <td>20200716083759</td>\n",
              "      <td>https://crysp.uwaterloo.ca/courses/cs489/F07-l...</td>\n",
              "      <td>lecture11.odp</td>\n",
              "      <td>odp</td>\n",
              "      <td>application/vnd.oasis.opendocument.presentation</td>\n",
              "      <td>application/vnd.oasis.opendocument.presentation</td>\n",
              "      <td>17fd81148f859eecd067d1f54b6eb6b3</td>\n",
              "      <td>29d30c70fb889296031d32a8f0440993c11cb002</td>\n",
              "    </tr>\n",
              "    <tr>\n",
              "      <th>14</th>\n",
              "      <td>20200716083831</td>\n",
              "      <td>https://crysp.uwaterloo.ca/courses/cs489/F07-l...</td>\n",
              "      <td>lecture12.odp</td>\n",
              "      <td>odp</td>\n",
              "      <td>application/vnd.oasis.opendocument.presentation</td>\n",
              "      <td>application/vnd.oasis.opendocument.presentation</td>\n",
              "      <td>f31988ac5277a88e47b335344d73620e</td>\n",
              "      <td>d975eac237c7f7c84df3d3165f1fd34f443093ef</td>\n",
              "    </tr>\n",
              "    <tr>\n",
              "      <th>15</th>\n",
              "      <td>20200716083925</td>\n",
              "      <td>https://crysp.uwaterloo.ca/courses/cs489/F07-l...</td>\n",
              "      <td>lecture13.odp</td>\n",
              "      <td>odp</td>\n",
              "      <td>application/vnd.oasis.opendocument.presentation</td>\n",
              "      <td>application/vnd.oasis.opendocument.presentation</td>\n",
              "      <td>baef27d187b5d517ffe7035d6434d3cd</td>\n",
              "      <td>114597f5a7d1822e21e238aec03c05183dfbcb86</td>\n",
              "    </tr>\n",
              "    <tr>\n",
              "      <th>16</th>\n",
              "      <td>20200716084032</td>\n",
              "      <td>https://crysp.uwaterloo.ca/courses/cs489/F07-l...</td>\n",
              "      <td>lecture14.odp</td>\n",
              "      <td>odp</td>\n",
              "      <td>application/vnd.oasis.opendocument.presentation</td>\n",
              "      <td>application/vnd.oasis.opendocument.presentation</td>\n",
              "      <td>c65ffe2b41b102cb3a8513939975e146</td>\n",
              "      <td>d86eb673c115ed6c1352630b0a02363a35f0ee87</td>\n",
              "    </tr>\n",
              "    <tr>\n",
              "      <th>17</th>\n",
              "      <td>20200716084150</td>\n",
              "      <td>https://crysp.uwaterloo.ca/courses/cs489/F07-l...</td>\n",
              "      <td>lecture15.odp</td>\n",
              "      <td>odp</td>\n",
              "      <td>application/vnd.oasis.opendocument.presentation</td>\n",
              "      <td>application/vnd.oasis.opendocument.presentation</td>\n",
              "      <td>0b8b7cf4d0be820bf4b46ae52e2903b0</td>\n",
              "      <td>9d7bed651036c0cc5599c3609082d0317d66864e</td>\n",
              "    </tr>\n",
              "    <tr>\n",
              "      <th>18</th>\n",
              "      <td>20200716084248</td>\n",
              "      <td>https://crysp.uwaterloo.ca/courses/cs489/F07-l...</td>\n",
              "      <td>lecture16.odp</td>\n",
              "      <td>odp</td>\n",
              "      <td>application/vnd.oasis.opendocument.presentation</td>\n",
              "      <td>application/vnd.oasis.opendocument.presentation</td>\n",
              "      <td>28b81476e4424c958d1c6f805ac359a1</td>\n",
              "      <td>77aa7803a54fb05fbaf438a76fd19efa2411d08c</td>\n",
              "    </tr>\n",
              "    <tr>\n",
              "      <th>19</th>\n",
              "      <td>20200716111053</td>\n",
              "      <td>https://crysp.uwaterloo.ca/courses/cs489/F07-l...</td>\n",
              "      <td>lecture17.odp</td>\n",
              "      <td>odp</td>\n",
              "      <td>application/vnd.oasis.opendocument.presentation</td>\n",
              "      <td>application/vnd.oasis.opendocument.presentation</td>\n",
              "      <td>3d6fcc24d89e4aa5440d4bca11f38b2c</td>\n",
              "      <td>f843004197c745af93c5a0ec7bf2f146b872b91d</td>\n",
              "    </tr>\n",
              "    <tr>\n",
              "      <th>20</th>\n",
              "      <td>20200716131946</td>\n",
              "      <td>https://crysp.uwaterloo.ca/courses/cs489/F07-l...</td>\n",
              "      <td>lecture18.odp</td>\n",
              "      <td>odp</td>\n",
              "      <td>application/vnd.oasis.opendocument.presentation</td>\n",
              "      <td>application/vnd.oasis.opendocument.presentation</td>\n",
              "      <td>17afee10ca6497b79922dda21049cacd</td>\n",
              "      <td>a795ddadbc7cb90fa86dadfa0819211550ff56b6</td>\n",
              "    </tr>\n",
              "    <tr>\n",
              "      <th>21</th>\n",
              "      <td>20200716131955</td>\n",
              "      <td>https://crysp.uwaterloo.ca/courses/cs489/F07-l...</td>\n",
              "      <td>lecture19.odp</td>\n",
              "      <td>odp</td>\n",
              "      <td>application/vnd.oasis.opendocument.presentation</td>\n",
              "      <td>application/vnd.oasis.opendocument.presentation</td>\n",
              "      <td>27434cc3adabd36899e5928ce83222aa</td>\n",
              "      <td>3aa7fa51ad63cd4d02a12efb7878a2718e819aee</td>\n",
              "    </tr>\n",
              "    <tr>\n",
              "      <th>22</th>\n",
              "      <td>20200716132017</td>\n",
              "      <td>https://crysp.uwaterloo.ca/courses/cs489/F07-l...</td>\n",
              "      <td>lecture20.odp</td>\n",
              "      <td>odp</td>\n",
              "      <td>application/vnd.oasis.opendocument.presentation</td>\n",
              "      <td>application/vnd.oasis.opendocument.presentation</td>\n",
              "      <td>20323cd7630e202723b2a1eae06750c7</td>\n",
              "      <td>ab27745479580da8c087ce946ff38b629d0cf0ad</td>\n",
              "    </tr>\n",
              "    <tr>\n",
              "      <th>23</th>\n",
              "      <td>20200716132047</td>\n",
              "      <td>https://crysp.uwaterloo.ca/courses/cs489/F07-l...</td>\n",
              "      <td>lecture21.odp</td>\n",
              "      <td>odp</td>\n",
              "      <td>application/vnd.oasis.opendocument.presentation</td>\n",
              "      <td>application/vnd.oasis.opendocument.presentation</td>\n",
              "      <td>bdb5e154b3cc360570b5595e23028603</td>\n",
              "      <td>6dee8a6c3fe2257ff392f5aa319b4a50bf4a8a10</td>\n",
              "    </tr>\n",
              "    <tr>\n",
              "      <th>24</th>\n",
              "      <td>20200716132140</td>\n",
              "      <td>https://crysp.uwaterloo.ca/courses/cs489/F07-l...</td>\n",
              "      <td>lecture22.odp</td>\n",
              "      <td>odp</td>\n",
              "      <td>application/vnd.oasis.opendocument.presentation</td>\n",
              "      <td>application/vnd.oasis.opendocument.presentation</td>\n",
              "      <td>4f65db6d4ad9cc86524e66a98baf508c</td>\n",
              "      <td>73966cbaefbeed6d285a1bf06f87d29ad5eba0b7</td>\n",
              "    </tr>\n",
              "    <tr>\n",
              "      <th>25</th>\n",
              "      <td>20200716132213</td>\n",
              "      <td>https://crysp.uwaterloo.ca/courses/cs489/F07-l...</td>\n",
              "      <td>lecture23.odp</td>\n",
              "      <td>odp</td>\n",
              "      <td>application/vnd.oasis.opendocument.presentation</td>\n",
              "      <td>application/vnd.oasis.opendocument.presentation</td>\n",
              "      <td>4f328a0227a1106761ed4d6b57a0ac62</td>\n",
              "      <td>78c01cc6488b1e7342265494f6468b68cc329b0c</td>\n",
              "    </tr>\n",
              "    <tr>\n",
              "      <th>26</th>\n",
              "      <td>20200716132231</td>\n",
              "      <td>https://crysp.uwaterloo.ca/courses/cs489/F07-l...</td>\n",
              "      <td>lecture24.odp</td>\n",
              "      <td>odp</td>\n",
              "      <td>application/vnd.oasis.opendocument.presentation</td>\n",
              "      <td>application/vnd.oasis.opendocument.presentation</td>\n",
              "      <td>d7b6b6a9b2e81062531f100818cf684a</td>\n",
              "      <td>fd08db993f52126370148f6777608786bc1090b7</td>\n",
              "    </tr>\n",
              "    <tr>\n",
              "      <th>27</th>\n",
              "      <td>20210102160118</td>\n",
              "      <td>http://compneuro.uwaterloo.ca/files/2010-Symbo...</td>\n",
              "      <td>2010-SymbolicReasoning-talk.odp</td>\n",
              "      <td>odp</td>\n",
              "      <td>application/vnd.oasis.opendocument.presentation</td>\n",
              "      <td>application/vnd.oasis.opendocument.presentation</td>\n",
              "      <td>0fc5903baf19cc206070f227cc8d97a0</td>\n",
              "      <td>7a198a6d23f33b635fd3685596740ae3a75fdd2d</td>\n",
              "    </tr>\n",
              "  </tbody>\n",
              "</table>\n",
              "</div>\n",
              "      <button class=\"colab-df-convert\" onclick=\"convertToInteractive('df-26649768-0ca1-4e09-912f-e538083fb435')\"\n",
              "              title=\"Convert this dataframe to an interactive table.\"\n",
              "              style=\"display:none;\">\n",
              "        \n",
              "  <svg xmlns=\"http://www.w3.org/2000/svg\" height=\"24px\"viewBox=\"0 0 24 24\"\n",
              "       width=\"24px\">\n",
              "    <path d=\"M0 0h24v24H0V0z\" fill=\"none\"/>\n",
              "    <path d=\"M18.56 5.44l.94 2.06.94-2.06 2.06-.94-2.06-.94-.94-2.06-.94 2.06-2.06.94zm-11 1L8.5 8.5l.94-2.06 2.06-.94-2.06-.94L8.5 2.5l-.94 2.06-2.06.94zm10 10l.94 2.06.94-2.06 2.06-.94-2.06-.94-.94-2.06-.94 2.06-2.06.94z\"/><path d=\"M17.41 7.96l-1.37-1.37c-.4-.4-.92-.59-1.43-.59-.52 0-1.04.2-1.43.59L10.3 9.45l-7.72 7.72c-.78.78-.78 2.05 0 2.83L4 21.41c.39.39.9.59 1.41.59.51 0 1.02-.2 1.41-.59l7.78-7.78 2.81-2.81c.8-.78.8-2.07 0-2.86zM5.41 20L4 18.59l7.72-7.72 1.47 1.35L5.41 20z\"/>\n",
              "  </svg>\n",
              "      </button>\n",
              "      \n",
              "  <style>\n",
              "    .colab-df-container {\n",
              "      display:flex;\n",
              "      flex-wrap:wrap;\n",
              "      gap: 12px;\n",
              "    }\n",
              "\n",
              "    .colab-df-convert {\n",
              "      background-color: #E8F0FE;\n",
              "      border: none;\n",
              "      border-radius: 50%;\n",
              "      cursor: pointer;\n",
              "      display: none;\n",
              "      fill: #1967D2;\n",
              "      height: 32px;\n",
              "      padding: 0 0 0 0;\n",
              "      width: 32px;\n",
              "    }\n",
              "\n",
              "    .colab-df-convert:hover {\n",
              "      background-color: #E2EBFA;\n",
              "      box-shadow: 0px 1px 2px rgba(60, 64, 67, 0.3), 0px 1px 3px 1px rgba(60, 64, 67, 0.15);\n",
              "      fill: #174EA6;\n",
              "    }\n",
              "\n",
              "    [theme=dark] .colab-df-convert {\n",
              "      background-color: #3B4455;\n",
              "      fill: #D2E3FC;\n",
              "    }\n",
              "\n",
              "    [theme=dark] .colab-df-convert:hover {\n",
              "      background-color: #434B5C;\n",
              "      box-shadow: 0px 1px 3px 1px rgba(0, 0, 0, 0.15);\n",
              "      filter: drop-shadow(0px 1px 2px rgba(0, 0, 0, 0.3));\n",
              "      fill: #FFFFFF;\n",
              "    }\n",
              "  </style>\n",
              "\n",
              "      <script>\n",
              "        const buttonEl =\n",
              "          document.querySelector('#df-26649768-0ca1-4e09-912f-e538083fb435 button.colab-df-convert');\n",
              "        buttonEl.style.display =\n",
              "          google.colab.kernel.accessAllowed ? 'block' : 'none';\n",
              "\n",
              "        async function convertToInteractive(key) {\n",
              "          const element = document.querySelector('#df-26649768-0ca1-4e09-912f-e538083fb435');\n",
              "          const dataTable =\n",
              "            await google.colab.kernel.invokeFunction('convertToInteractive',\n",
              "                                                     [key], {});\n",
              "          if (!dataTable) return;\n",
              "\n",
              "          const docLinkHtml = 'Like what you see? Visit the ' +\n",
              "            '<a target=\"_blank\" href=https://colab.research.google.com/notebooks/data_table.ipynb>data table notebook</a>'\n",
              "            + ' to learn more about interactive tables.';\n",
              "          element.innerHTML = '';\n",
              "          dataTable['output_type'] = 'display_data';\n",
              "          await google.colab.output.renderOutput(dataTable, element);\n",
              "          const docLink = document.createElement('div');\n",
              "          docLink.innerHTML = docLinkHtml;\n",
              "          element.appendChild(docLink);\n",
              "        }\n",
              "      </script>\n",
              "    </div>\n",
              "  </div>\n",
              "  "
            ],
            "application/vnd.google.colaboratory.module+javascript": "\n      import \"https://ssl.gstatic.com/colaboratory/data_table/a8bd4d5e58f96183/data_table.js\";\n\n      window.createDataTable({\n        data: [[{\n            'v': 0,\n            'f': \"0\",\n        },\n{\n            'v': 20200630100515,\n            'f': \"20200630100515\",\n        },\n\"https://sosp19.rcs.uwaterloo.ca/slides/aghayev.odp\",\n\"aghayev.odp\",\n\"odp\",\n\"application/vnd.oasis.opendocument.presentation\",\n\"application/vnd.oasis.opendocument.presentation\",\n\"251ef42a95ac46bc244cc6890a52e5e0\",\n\"f8fdc8e66b1c549e71792bcb44410d591bf27e3a\"],\n [{\n            'v': 1,\n            'f': \"1\",\n        },\n{\n            'v': 20200701163007,\n            'f': \"20200701163007\",\n        },\n\"http://mirror.csclub.uwaterloo.ca/csclub/CSCtalkMar06.odp\",\n\"CSCtalkMar06.odp\",\n\"odp\",\n\"text/plain\",\n\"application/vnd.oasis.opendocument.presentation\",\n\"d7a85d97add0d9eb9e5e499de57cdce5\",\n\"b76280ccae619259a2d195cb8bad4fa25cc17055\"],\n [{\n            'v': 2,\n            'f': \"2\",\n        },\n{\n            'v': 20200703065633,\n            'f': \"20200703065633\",\n        },\n\"http://compneuro.uwaterloo.ca/files/2010-SymbolicReasoning-talk.odp\",\n\"2010-SymbolicReasoning-talk.odp\",\n\"odp\",\n\"application/vnd.oasis.opendocument.presentation\",\n\"application/vnd.oasis.opendocument.presentation\",\n\"0fc5903baf19cc206070f227cc8d97a0\",\n\"7a198a6d23f33b635fd3685596740ae3a75fdd2d\"],\n [{\n            'v': 3,\n            'f': \"3\",\n        },\n{\n            'v': 20200716082844,\n            'f': \"20200716082844\",\n        },\n\"https://crysp.uwaterloo.ca/courses/cs489/F07-lectures/lecture01.odp\",\n\"lecture01.odp\",\n\"odp\",\n\"application/vnd.oasis.opendocument.presentation\",\n\"application/vnd.oasis.opendocument.presentation\",\n\"69b9751e5d53e61560542c649ed6d800\",\n\"3869e96c0cfe1b6b29618515fc8054afdc9144ce\"],\n [{\n            'v': 4,\n            'f': \"4\",\n        },\n{\n            'v': 20200716082912,\n            'f': \"20200716082912\",\n        },\n\"https://crysp.uwaterloo.ca/courses/cs489/F07-lectures/lecture02.odp\",\n\"lecture02.odp\",\n\"odp\",\n\"application/vnd.oasis.opendocument.presentation\",\n\"application/vnd.oasis.opendocument.presentation\",\n\"af4f046972338538919befc61dd4b841\",\n\"caed1d01f4af5901b358f7df1f0aea1ec9a4ed02\"],\n [{\n            'v': 5,\n            'f': \"5\",\n        },\n{\n            'v': 20200716082939,\n            'f': \"20200716082939\",\n        },\n\"https://crysp.uwaterloo.ca/courses/cs489/F07-lectures/lecture03.odp\",\n\"lecture03.odp\",\n\"odp\",\n\"application/vnd.oasis.opendocument.presentation\",\n\"application/vnd.oasis.opendocument.presentation\",\n\"6dfecd5e9e83a392d7e7d27de011164b\",\n\"3f6dfdbc43f730e8dcf85dd8b7db4392642ec1db\"],\n [{\n            'v': 6,\n            'f': \"6\",\n        },\n{\n            'v': 20200716083014,\n            'f': \"20200716083014\",\n        },\n\"https://crysp.uwaterloo.ca/courses/cs489/F07-lectures/lecture04.odp\",\n\"lecture04.odp\",\n\"odp\",\n\"application/vnd.oasis.opendocument.presentation\",\n\"application/vnd.oasis.opendocument.presentation\",\n\"16130ef8fe11c0f59f5b8445f8de73a5\",\n\"99001b57945fd91fbc5644015c272bd78290a4c1\"],\n [{\n            'v': 7,\n            'f': \"7\",\n        },\n{\n            'v': 20200716083330,\n            'f': \"20200716083330\",\n        },\n\"https://crysp.uwaterloo.ca/courses/cs489/F07-lectures/lecture05.odp\",\n\"lecture05.odp\",\n\"odp\",\n\"application/vnd.oasis.opendocument.presentation\",\n\"application/vnd.oasis.opendocument.presentation\",\n\"72d442efb006ecbb5371f799b34e7dad\",\n\"e1d19676a1d6e97cb04a0590e35bd4962a6d405c\"],\n [{\n            'v': 8,\n            'f': \"8\",\n        },\n{\n            'v': 20200716083403,\n            'f': \"20200716083403\",\n        },\n\"https://crysp.uwaterloo.ca/courses/cs489/F07-lectures/lecture06.odp\",\n\"lecture06.odp\",\n\"odp\",\n\"application/vnd.oasis.opendocument.presentation\",\n\"application/vnd.oasis.opendocument.presentation\",\n\"0bfa3d7cbd48a943a52f3737d9e8e39d\",\n\"5490c797680199deb4f254d88295e19cae08099d\"],\n [{\n            'v': 9,\n            'f': \"9\",\n        },\n{\n            'v': 20200716083453,\n            'f': \"20200716083453\",\n        },\n\"https://crysp.uwaterloo.ca/courses/cs489/F07-lectures/lecture07.odp\",\n\"lecture07.odp\",\n\"odp\",\n\"application/vnd.oasis.opendocument.presentation\",\n\"application/vnd.oasis.opendocument.presentation\",\n\"615c543e8bae683d3704796cf8876e6c\",\n\"8f2afeaa973a1dce3482df67f8853e6c60b991f2\"],\n [{\n            'v': 10,\n            'f': \"10\",\n        },\n{\n            'v': 20200716083548,\n            'f': \"20200716083548\",\n        },\n\"https://crysp.uwaterloo.ca/courses/cs489/F07-lectures/lecture08.odp\",\n\"lecture08.odp\",\n\"odp\",\n\"application/vnd.oasis.opendocument.presentation\",\n\"application/vnd.oasis.opendocument.presentation\",\n\"c2c9e21dadfd2f763991a8b27b66cf16\",\n\"bc39b2b604f54d2dc4dd234378766461a2872c8f\"],\n [{\n            'v': 11,\n            'f': \"11\",\n        },\n{\n            'v': 20200716083639,\n            'f': \"20200716083639\",\n        },\n\"https://crysp.uwaterloo.ca/courses/cs489/F07-lectures/lecture09.odp\",\n\"lecture09.odp\",\n\"odp\",\n\"application/vnd.oasis.opendocument.presentation\",\n\"application/vnd.oasis.opendocument.presentation\",\n\"634b9229bc707d5720032b7e4ed95f68\",\n\"56500ed334bbcc34181bd087530df8e13f26f30d\"],\n [{\n            'v': 12,\n            'f': \"12\",\n        },\n{\n            'v': 20200716083723,\n            'f': \"20200716083723\",\n        },\n\"https://crysp.uwaterloo.ca/courses/cs489/F07-lectures/lecture10.odp\",\n\"lecture10.odp\",\n\"odp\",\n\"application/vnd.oasis.opendocument.presentation\",\n\"application/vnd.oasis.opendocument.presentation\",\n\"17faf7026b9c829f6bc6df8a2db9e755\",\n\"3f1f64cda2fb6e7f53fe91bd32daf3e5ef987ed0\"],\n [{\n            'v': 13,\n            'f': \"13\",\n        },\n{\n            'v': 20200716083759,\n            'f': \"20200716083759\",\n        },\n\"https://crysp.uwaterloo.ca/courses/cs489/F07-lectures/lecture11.odp\",\n\"lecture11.odp\",\n\"odp\",\n\"application/vnd.oasis.opendocument.presentation\",\n\"application/vnd.oasis.opendocument.presentation\",\n\"17fd81148f859eecd067d1f54b6eb6b3\",\n\"29d30c70fb889296031d32a8f0440993c11cb002\"],\n [{\n            'v': 14,\n            'f': \"14\",\n        },\n{\n            'v': 20200716083831,\n            'f': \"20200716083831\",\n        },\n\"https://crysp.uwaterloo.ca/courses/cs489/F07-lectures/lecture12.odp\",\n\"lecture12.odp\",\n\"odp\",\n\"application/vnd.oasis.opendocument.presentation\",\n\"application/vnd.oasis.opendocument.presentation\",\n\"f31988ac5277a88e47b335344d73620e\",\n\"d975eac237c7f7c84df3d3165f1fd34f443093ef\"],\n [{\n            'v': 15,\n            'f': \"15\",\n        },\n{\n            'v': 20200716083925,\n            'f': \"20200716083925\",\n        },\n\"https://crysp.uwaterloo.ca/courses/cs489/F07-lectures/lecture13.odp\",\n\"lecture13.odp\",\n\"odp\",\n\"application/vnd.oasis.opendocument.presentation\",\n\"application/vnd.oasis.opendocument.presentation\",\n\"baef27d187b5d517ffe7035d6434d3cd\",\n\"114597f5a7d1822e21e238aec03c05183dfbcb86\"],\n [{\n            'v': 16,\n            'f': \"16\",\n        },\n{\n            'v': 20200716084032,\n            'f': \"20200716084032\",\n        },\n\"https://crysp.uwaterloo.ca/courses/cs489/F07-lectures/lecture14.odp\",\n\"lecture14.odp\",\n\"odp\",\n\"application/vnd.oasis.opendocument.presentation\",\n\"application/vnd.oasis.opendocument.presentation\",\n\"c65ffe2b41b102cb3a8513939975e146\",\n\"d86eb673c115ed6c1352630b0a02363a35f0ee87\"],\n [{\n            'v': 17,\n            'f': \"17\",\n        },\n{\n            'v': 20200716084150,\n            'f': \"20200716084150\",\n        },\n\"https://crysp.uwaterloo.ca/courses/cs489/F07-lectures/lecture15.odp\",\n\"lecture15.odp\",\n\"odp\",\n\"application/vnd.oasis.opendocument.presentation\",\n\"application/vnd.oasis.opendocument.presentation\",\n\"0b8b7cf4d0be820bf4b46ae52e2903b0\",\n\"9d7bed651036c0cc5599c3609082d0317d66864e\"],\n [{\n            'v': 18,\n            'f': \"18\",\n        },\n{\n            'v': 20200716084248,\n            'f': \"20200716084248\",\n        },\n\"https://crysp.uwaterloo.ca/courses/cs489/F07-lectures/lecture16.odp\",\n\"lecture16.odp\",\n\"odp\",\n\"application/vnd.oasis.opendocument.presentation\",\n\"application/vnd.oasis.opendocument.presentation\",\n\"28b81476e4424c958d1c6f805ac359a1\",\n\"77aa7803a54fb05fbaf438a76fd19efa2411d08c\"],\n [{\n            'v': 19,\n            'f': \"19\",\n        },\n{\n            'v': 20200716111053,\n            'f': \"20200716111053\",\n        },\n\"https://crysp.uwaterloo.ca/courses/cs489/F07-lectures/lecture17.odp\",\n\"lecture17.odp\",\n\"odp\",\n\"application/vnd.oasis.opendocument.presentation\",\n\"application/vnd.oasis.opendocument.presentation\",\n\"3d6fcc24d89e4aa5440d4bca11f38b2c\",\n\"f843004197c745af93c5a0ec7bf2f146b872b91d\"],\n [{\n            'v': 20,\n            'f': \"20\",\n        },\n{\n            'v': 20200716131946,\n            'f': \"20200716131946\",\n        },\n\"https://crysp.uwaterloo.ca/courses/cs489/F07-lectures/lecture18.odp\",\n\"lecture18.odp\",\n\"odp\",\n\"application/vnd.oasis.opendocument.presentation\",\n\"application/vnd.oasis.opendocument.presentation\",\n\"17afee10ca6497b79922dda21049cacd\",\n\"a795ddadbc7cb90fa86dadfa0819211550ff56b6\"],\n [{\n            'v': 21,\n            'f': \"21\",\n        },\n{\n            'v': 20200716131955,\n            'f': \"20200716131955\",\n        },\n\"https://crysp.uwaterloo.ca/courses/cs489/F07-lectures/lecture19.odp\",\n\"lecture19.odp\",\n\"odp\",\n\"application/vnd.oasis.opendocument.presentation\",\n\"application/vnd.oasis.opendocument.presentation\",\n\"27434cc3adabd36899e5928ce83222aa\",\n\"3aa7fa51ad63cd4d02a12efb7878a2718e819aee\"],\n [{\n            'v': 22,\n            'f': \"22\",\n        },\n{\n            'v': 20200716132017,\n            'f': \"20200716132017\",\n        },\n\"https://crysp.uwaterloo.ca/courses/cs489/F07-lectures/lecture20.odp\",\n\"lecture20.odp\",\n\"odp\",\n\"application/vnd.oasis.opendocument.presentation\",\n\"application/vnd.oasis.opendocument.presentation\",\n\"20323cd7630e202723b2a1eae06750c7\",\n\"ab27745479580da8c087ce946ff38b629d0cf0ad\"],\n [{\n            'v': 23,\n            'f': \"23\",\n        },\n{\n            'v': 20200716132047,\n            'f': \"20200716132047\",\n        },\n\"https://crysp.uwaterloo.ca/courses/cs489/F07-lectures/lecture21.odp\",\n\"lecture21.odp\",\n\"odp\",\n\"application/vnd.oasis.opendocument.presentation\",\n\"application/vnd.oasis.opendocument.presentation\",\n\"bdb5e154b3cc360570b5595e23028603\",\n\"6dee8a6c3fe2257ff392f5aa319b4a50bf4a8a10\"],\n [{\n            'v': 24,\n            'f': \"24\",\n        },\n{\n            'v': 20200716132140,\n            'f': \"20200716132140\",\n        },\n\"https://crysp.uwaterloo.ca/courses/cs489/F07-lectures/lecture22.odp\",\n\"lecture22.odp\",\n\"odp\",\n\"application/vnd.oasis.opendocument.presentation\",\n\"application/vnd.oasis.opendocument.presentation\",\n\"4f65db6d4ad9cc86524e66a98baf508c\",\n\"73966cbaefbeed6d285a1bf06f87d29ad5eba0b7\"],\n [{\n            'v': 25,\n            'f': \"25\",\n        },\n{\n            'v': 20200716132213,\n            'f': \"20200716132213\",\n        },\n\"https://crysp.uwaterloo.ca/courses/cs489/F07-lectures/lecture23.odp\",\n\"lecture23.odp\",\n\"odp\",\n\"application/vnd.oasis.opendocument.presentation\",\n\"application/vnd.oasis.opendocument.presentation\",\n\"4f328a0227a1106761ed4d6b57a0ac62\",\n\"78c01cc6488b1e7342265494f6468b68cc329b0c\"],\n [{\n            'v': 26,\n            'f': \"26\",\n        },\n{\n            'v': 20200716132231,\n            'f': \"20200716132231\",\n        },\n\"https://crysp.uwaterloo.ca/courses/cs489/F07-lectures/lecture24.odp\",\n\"lecture24.odp\",\n\"odp\",\n\"application/vnd.oasis.opendocument.presentation\",\n\"application/vnd.oasis.opendocument.presentation\",\n\"d7b6b6a9b2e81062531f100818cf684a\",\n\"fd08db993f52126370148f6777608786bc1090b7\"],\n [{\n            'v': 27,\n            'f': \"27\",\n        },\n{\n            'v': 20210102160118,\n            'f': \"20210102160118\",\n        },\n\"http://compneuro.uwaterloo.ca/files/2010-SymbolicReasoning-talk.odp\",\n\"2010-SymbolicReasoning-talk.odp\",\n\"odp\",\n\"application/vnd.oasis.opendocument.presentation\",\n\"application/vnd.oasis.opendocument.presentation\",\n\"0fc5903baf19cc206070f227cc8d97a0\",\n\"7a198a6d23f33b635fd3685596740ae3a75fdd2d\"]],\n        columns: [[\"number\", \"index\"], [\"number\", \"crawl_date\"], [\"string\", \"url\"], [\"string\", \"filename\"], [\"string\", \"extension\"], [\"string\", \"mime_type_web_server\"], [\"string\", \"mime_type_tika\"], [\"string\", \"md5\"], [\"string\", \"sha1\"]],\n        columnOptions: [{\"width\": \"1px\", \"className\": \"index_column\"}],\n        rowsPerPage: 25,\n        helpUrl: \"https://colab.research.google.com/notebooks/data_table.ipynb\",\n        suppressOutputScrolling: true,\n        minimumWidth: undefined,\n      });\n    "
          },
          "metadata": {},
          "execution_count": 4
        }
      ]
    },
    {
      "cell_type": "markdown",
      "metadata": {
        "id": "3HPwOCNAvqMe"
      },
      "source": [
        "# Data Analysis\n",
        "\n",
        "Now that we have all of our datasets loaded up, we can begin to work with them!"
      ]
    },
    {
      "cell_type": "markdown",
      "metadata": {
        "id": "J6Pkg0prv3BE"
      },
      "source": [
        "## Counting total files, and unique files\n",
        "\n",
        "Let's take a quick look at how to count items in DataFrames, and use total and unique files as an example to work with.\n",
        "\n",
        "It's definitely work checking out the [pandas documentation](https://pandas.pydata.org/docs/index.html). There are a lot of good examples available, along with a robust [API reference](https://pandas.pydata.org/docs/reference/index.html#api)."
      ]
    },
    {
      "cell_type": "markdown",
      "metadata": {
        "id": "DFX4Gl3wv7bi"
      },
      "source": [
        "\n",
        "### How many PowerPoint files are in this collection?\n",
        "\n",
        "We can take our `powerpoint` variable and try a couple of functions to get the same answer.\n",
        "\n",
        "1.   `len(powerpoint.index)`\n",
        "  * Get the length of the DataFrame's index.\n",
        "2.   `powerpoint.shape[0]`\n",
        "  * Get the shape or dimensionality of the DataFrame, and take the first item in the tuple.\n",
        "3.  `powerpoint.count()`\n",
        "  * Count the number of rows for each column.\n",
        "\n"
      ]
    },
    {
      "cell_type": "code",
      "metadata": {
        "colab": {
          "base_uri": "https://localhost:8080/"
        },
        "id": "HTv8Oet3jiTH",
        "outputId": "a3cbd18a-687d-40b1-f4ed-b430b7c2d531"
      },
      "source": [
        "len(powerpoint.index)"
      ],
      "execution_count": 5,
      "outputs": [
        {
          "output_type": "execute_result",
          "data": {
            "text/plain": [
              "28"
            ]
          },
          "metadata": {},
          "execution_count": 5
        }
      ]
    },
    {
      "cell_type": "code",
      "metadata": {
        "colab": {
          "base_uri": "https://localhost:8080/"
        },
        "id": "6rYEERnTjifk",
        "outputId": "99ab6b13-3e84-4fbd-9317-e05007d71a0a"
      },
      "source": [
        "powerpoint.shape[0]"
      ],
      "execution_count": 6,
      "outputs": [
        {
          "output_type": "execute_result",
          "data": {
            "text/plain": [
              "28"
            ]
          },
          "metadata": {},
          "execution_count": 6
        }
      ]
    },
    {
      "cell_type": "code",
      "metadata": {
        "colab": {
          "base_uri": "https://localhost:8080/"
        },
        "id": "bn-1v127aKIG",
        "outputId": "d689feed-c6a8-49d1-a3f6-b83779fe3d8b"
      },
      "source": [
        "powerpoint.count()"
      ],
      "execution_count": 7,
      "outputs": [
        {
          "output_type": "execute_result",
          "data": {
            "text/plain": [
              "crawl_date              28\n",
              "url                     28\n",
              "filename                28\n",
              "extension               28\n",
              "mime_type_web_server    28\n",
              "mime_type_tika          28\n",
              "md5                     28\n",
              "sha1                    28\n",
              "dtype: int64"
            ]
          },
          "metadata": {},
          "execution_count": 7
        }
      ]
    },
    {
      "cell_type": "markdown",
      "metadata": {
        "id": "38veKiPhwKo4"
      },
      "source": [
        "### How many unique PowerPoint files are in the collection?\n",
        "\n",
        " We can see if a PowerPoint file is unique or not by computing an [MD5 hash](https://en.wikipedia.org/wiki/MD5#MD5_hashes) of it, and comparing them. The exact same PowerPoint file might have a filename of `example.ppt` or `foo.ppt`. If the hash is computed for each, we can see that even with different file names, they are actually the same PowerPoint file. So, since we have both a `MD5` and `SHA1` hash column available in our DataFrame, we can just find the unique values, and count them!\n",
        "\n",
        "\n"
      ]
    },
    {
      "cell_type": "code",
      "metadata": {
        "colab": {
          "base_uri": "https://localhost:8080/"
        },
        "id": "WesM3kQowM5B",
        "outputId": "d386236a-cade-4e60-ed57-0278be7665e2"
      },
      "source": [
        "len(powerpoint.md5.unique())"
      ],
      "execution_count": 8,
      "outputs": [
        {
          "output_type": "execute_result",
          "data": {
            "text/plain": [
              "27"
            ]
          },
          "metadata": {},
          "execution_count": 8
        }
      ]
    },
    {
      "cell_type": "markdown",
      "metadata": {
        "id": "ZIXkI0-1wWQf"
      },
      "source": [
        "### What are the top 10 most occurring PowerPoint files in the collection?\n",
        "\n",
        "Here we can take advantage of [`value_counts()`](https://pandas.pydata.org/docs/reference/api/pandas.DataFrame.value_counts.html) to provide us with a list of MD5 hashes and their respective counts."
      ]
    },
    {
      "cell_type": "code",
      "metadata": {
        "colab": {
          "base_uri": "https://localhost:8080/"
        },
        "id": "8Ts03OFyjPIM",
        "outputId": "2b8a9678-ade3-4621-c0a2-dafbca3eb2ff"
      },
      "source": [
        "powerpoint[\"md5\"].value_counts().head(10)"
      ],
      "execution_count": 9,
      "outputs": [
        {
          "output_type": "execute_result",
          "data": {
            "text/plain": [
              "0fc5903baf19cc206070f227cc8d97a0    2\n",
              "251ef42a95ac46bc244cc6890a52e5e0    1\n",
              "f31988ac5277a88e47b335344d73620e    1\n",
              "4f328a0227a1106761ed4d6b57a0ac62    1\n",
              "4f65db6d4ad9cc86524e66a98baf508c    1\n",
              "bdb5e154b3cc360570b5595e23028603    1\n",
              "20323cd7630e202723b2a1eae06750c7    1\n",
              "27434cc3adabd36899e5928ce83222aa    1\n",
              "17afee10ca6497b79922dda21049cacd    1\n",
              "3d6fcc24d89e4aa5440d4bca11f38b2c    1\n",
              "Name: md5, dtype: int64"
            ]
          },
          "metadata": {},
          "execution_count": 9
        }
      ]
    },
    {
      "cell_type": "markdown",
      "metadata": {
        "id": "FG7pGZUEwlaI"
      },
      "source": [
        "\n",
        "### What's the information around all of the occurances of `0fc5903baf19cc206070f227cc8d97a0`?\n",
        "\n",
        "What, you mean you don't know what `0fc5903baf19cc206070f227cc8d97a0` means? \n",
        "\n",
        "Let's find those powerpoint files in the DataFrame. We can here see some of the filenames used and information about the files.\n"
      ]
    },
    {
      "cell_type": "code",
      "metadata": {
        "colab": {
          "base_uri": "https://localhost:8080/",
          "height": 203
        },
        "id": "msmmm65lkSIK",
        "outputId": "924018a7-9945-45c3-c705-136a5bb87296"
      },
      "source": [
        "powerpoint.loc[powerpoint[\"md5\"] == \"0fc5903baf19cc206070f227cc8d97a0\"]"
      ],
      "execution_count": 10,
      "outputs": [
        {
          "output_type": "execute_result",
          "data": {
            "text/plain": [
              "        crawl_date                                                url  \\\n",
              "2   20200703065633  http://compneuro.uwaterloo.ca/files/2010-Symbo...   \n",
              "27  20210102160118  http://compneuro.uwaterloo.ca/files/2010-Symbo...   \n",
              "\n",
              "                           filename extension  \\\n",
              "2   2010-SymbolicReasoning-talk.odp       odp   \n",
              "27  2010-SymbolicReasoning-talk.odp       odp   \n",
              "\n",
              "                               mime_type_web_server  \\\n",
              "2   application/vnd.oasis.opendocument.presentation   \n",
              "27  application/vnd.oasis.opendocument.presentation   \n",
              "\n",
              "                                     mime_type_tika  \\\n",
              "2   application/vnd.oasis.opendocument.presentation   \n",
              "27  application/vnd.oasis.opendocument.presentation   \n",
              "\n",
              "                                 md5                                      sha1  \n",
              "2   0fc5903baf19cc206070f227cc8d97a0  7a198a6d23f33b635fd3685596740ae3a75fdd2d  \n",
              "27  0fc5903baf19cc206070f227cc8d97a0  7a198a6d23f33b635fd3685596740ae3a75fdd2d  "
            ],
            "text/html": [
              "\n",
              "  <div id=\"df-7769cb26-e1d4-48ce-838e-63ea168f9381\">\n",
              "    <div class=\"colab-df-container\">\n",
              "      <div>\n",
              "<style scoped>\n",
              "    .dataframe tbody tr th:only-of-type {\n",
              "        vertical-align: middle;\n",
              "    }\n",
              "\n",
              "    .dataframe tbody tr th {\n",
              "        vertical-align: top;\n",
              "    }\n",
              "\n",
              "    .dataframe thead th {\n",
              "        text-align: right;\n",
              "    }\n",
              "</style>\n",
              "<table border=\"1\" class=\"dataframe\">\n",
              "  <thead>\n",
              "    <tr style=\"text-align: right;\">\n",
              "      <th></th>\n",
              "      <th>crawl_date</th>\n",
              "      <th>url</th>\n",
              "      <th>filename</th>\n",
              "      <th>extension</th>\n",
              "      <th>mime_type_web_server</th>\n",
              "      <th>mime_type_tika</th>\n",
              "      <th>md5</th>\n",
              "      <th>sha1</th>\n",
              "    </tr>\n",
              "  </thead>\n",
              "  <tbody>\n",
              "    <tr>\n",
              "      <th>2</th>\n",
              "      <td>20200703065633</td>\n",
              "      <td>http://compneuro.uwaterloo.ca/files/2010-Symbo...</td>\n",
              "      <td>2010-SymbolicReasoning-talk.odp</td>\n",
              "      <td>odp</td>\n",
              "      <td>application/vnd.oasis.opendocument.presentation</td>\n",
              "      <td>application/vnd.oasis.opendocument.presentation</td>\n",
              "      <td>0fc5903baf19cc206070f227cc8d97a0</td>\n",
              "      <td>7a198a6d23f33b635fd3685596740ae3a75fdd2d</td>\n",
              "    </tr>\n",
              "    <tr>\n",
              "      <th>27</th>\n",
              "      <td>20210102160118</td>\n",
              "      <td>http://compneuro.uwaterloo.ca/files/2010-Symbo...</td>\n",
              "      <td>2010-SymbolicReasoning-talk.odp</td>\n",
              "      <td>odp</td>\n",
              "      <td>application/vnd.oasis.opendocument.presentation</td>\n",
              "      <td>application/vnd.oasis.opendocument.presentation</td>\n",
              "      <td>0fc5903baf19cc206070f227cc8d97a0</td>\n",
              "      <td>7a198a6d23f33b635fd3685596740ae3a75fdd2d</td>\n",
              "    </tr>\n",
              "  </tbody>\n",
              "</table>\n",
              "</div>\n",
              "      <button class=\"colab-df-convert\" onclick=\"convertToInteractive('df-7769cb26-e1d4-48ce-838e-63ea168f9381')\"\n",
              "              title=\"Convert this dataframe to an interactive table.\"\n",
              "              style=\"display:none;\">\n",
              "        \n",
              "  <svg xmlns=\"http://www.w3.org/2000/svg\" height=\"24px\"viewBox=\"0 0 24 24\"\n",
              "       width=\"24px\">\n",
              "    <path d=\"M0 0h24v24H0V0z\" fill=\"none\"/>\n",
              "    <path d=\"M18.56 5.44l.94 2.06.94-2.06 2.06-.94-2.06-.94-.94-2.06-.94 2.06-2.06.94zm-11 1L8.5 8.5l.94-2.06 2.06-.94-2.06-.94L8.5 2.5l-.94 2.06-2.06.94zm10 10l.94 2.06.94-2.06 2.06-.94-2.06-.94-.94-2.06-.94 2.06-2.06.94z\"/><path d=\"M17.41 7.96l-1.37-1.37c-.4-.4-.92-.59-1.43-.59-.52 0-1.04.2-1.43.59L10.3 9.45l-7.72 7.72c-.78.78-.78 2.05 0 2.83L4 21.41c.39.39.9.59 1.41.59.51 0 1.02-.2 1.41-.59l7.78-7.78 2.81-2.81c.8-.78.8-2.07 0-2.86zM5.41 20L4 18.59l7.72-7.72 1.47 1.35L5.41 20z\"/>\n",
              "  </svg>\n",
              "      </button>\n",
              "      \n",
              "  <style>\n",
              "    .colab-df-container {\n",
              "      display:flex;\n",
              "      flex-wrap:wrap;\n",
              "      gap: 12px;\n",
              "    }\n",
              "\n",
              "    .colab-df-convert {\n",
              "      background-color: #E8F0FE;\n",
              "      border: none;\n",
              "      border-radius: 50%;\n",
              "      cursor: pointer;\n",
              "      display: none;\n",
              "      fill: #1967D2;\n",
              "      height: 32px;\n",
              "      padding: 0 0 0 0;\n",
              "      width: 32px;\n",
              "    }\n",
              "\n",
              "    .colab-df-convert:hover {\n",
              "      background-color: #E2EBFA;\n",
              "      box-shadow: 0px 1px 2px rgba(60, 64, 67, 0.3), 0px 1px 3px 1px rgba(60, 64, 67, 0.15);\n",
              "      fill: #174EA6;\n",
              "    }\n",
              "\n",
              "    [theme=dark] .colab-df-convert {\n",
              "      background-color: #3B4455;\n",
              "      fill: #D2E3FC;\n",
              "    }\n",
              "\n",
              "    [theme=dark] .colab-df-convert:hover {\n",
              "      background-color: #434B5C;\n",
              "      box-shadow: 0px 1px 3px 1px rgba(0, 0, 0, 0.15);\n",
              "      filter: drop-shadow(0px 1px 2px rgba(0, 0, 0, 0.3));\n",
              "      fill: #FFFFFF;\n",
              "    }\n",
              "  </style>\n",
              "\n",
              "      <script>\n",
              "        const buttonEl =\n",
              "          document.querySelector('#df-7769cb26-e1d4-48ce-838e-63ea168f9381 button.colab-df-convert');\n",
              "        buttonEl.style.display =\n",
              "          google.colab.kernel.accessAllowed ? 'block' : 'none';\n",
              "\n",
              "        async function convertToInteractive(key) {\n",
              "          const element = document.querySelector('#df-7769cb26-e1d4-48ce-838e-63ea168f9381');\n",
              "          const dataTable =\n",
              "            await google.colab.kernel.invokeFunction('convertToInteractive',\n",
              "                                                     [key], {});\n",
              "          if (!dataTable) return;\n",
              "\n",
              "          const docLinkHtml = 'Like what you see? Visit the ' +\n",
              "            '<a target=\"_blank\" href=https://colab.research.google.com/notebooks/data_table.ipynb>data table notebook</a>'\n",
              "            + ' to learn more about interactive tables.';\n",
              "          element.innerHTML = '';\n",
              "          dataTable['output_type'] = 'display_data';\n",
              "          await google.colab.output.renderOutput(dataTable, element);\n",
              "          const docLink = document.createElement('div');\n",
              "          docLink.innerHTML = docLinkHtml;\n",
              "          element.appendChild(docLink);\n",
              "        }\n",
              "      </script>\n",
              "    </div>\n",
              "  </div>\n",
              "  "
            ],
            "application/vnd.google.colaboratory.module+javascript": "\n      import \"https://ssl.gstatic.com/colaboratory/data_table/a8bd4d5e58f96183/data_table.js\";\n\n      window.createDataTable({\n        data: [[{\n            'v': 2,\n            'f': \"2\",\n        },\n{\n            'v': 20200703065633,\n            'f': \"20200703065633\",\n        },\n\"http://compneuro.uwaterloo.ca/files/2010-SymbolicReasoning-talk.odp\",\n\"2010-SymbolicReasoning-talk.odp\",\n\"odp\",\n\"application/vnd.oasis.opendocument.presentation\",\n\"application/vnd.oasis.opendocument.presentation\",\n\"0fc5903baf19cc206070f227cc8d97a0\",\n\"7a198a6d23f33b635fd3685596740ae3a75fdd2d\"],\n [{\n            'v': 27,\n            'f': \"27\",\n        },\n{\n            'v': 20210102160118,\n            'f': \"20210102160118\",\n        },\n\"http://compneuro.uwaterloo.ca/files/2010-SymbolicReasoning-talk.odp\",\n\"2010-SymbolicReasoning-talk.odp\",\n\"odp\",\n\"application/vnd.oasis.opendocument.presentation\",\n\"application/vnd.oasis.opendocument.presentation\",\n\"0fc5903baf19cc206070f227cc8d97a0\",\n\"7a198a6d23f33b635fd3685596740ae3a75fdd2d\"]],\n        columns: [[\"number\", \"index\"], [\"number\", \"crawl_date\"], [\"string\", \"url\"], [\"string\", \"filename\"], [\"string\", \"extension\"], [\"string\", \"mime_type_web_server\"], [\"string\", \"mime_type_tika\"], [\"string\", \"md5\"], [\"string\", \"sha1\"]],\n        columnOptions: [{\"width\": \"1px\", \"className\": \"index_column\"}],\n        rowsPerPage: 25,\n        helpUrl: \"https://colab.research.google.com/notebooks/data_table.ipynb\",\n        suppressOutputScrolling: true,\n        minimumWidth: undefined,\n      });\n    "
          },
          "metadata": {},
          "execution_count": 10
        }
      ]
    },
    {
      "cell_type": "markdown",
      "metadata": {
        "id": "GbLLZW2awzCv"
      },
      "source": [
        "### What are the top 10 most occuring filenames in the collection?\n",
        "\n",
        "Note that this is of course different than the MD5 results up above. Here we are focusing _just_ on filename. So `2010-SymbolicReasoning-talk.odp` for example, might actually be referring to different PowerPoint files who happen to have the same name.\n",
        "\n",
        "Here we can use `value_counts()` again, but this time we'll create a variable for the top filenames so we can use it later.\n",
        "\n"
      ]
    },
    {
      "cell_type": "code",
      "metadata": {
        "colab": {
          "base_uri": "https://localhost:8080/"
        },
        "id": "pQaw54ACkwdZ",
        "outputId": "dcd5b895-2c56-4968-9b8c-590cb64cddcb"
      },
      "source": [
        "top_filenames = powerpoint[\"filename\"].value_counts().head(10)\n",
        "top_filenames"
      ],
      "execution_count": 11,
      "outputs": [
        {
          "output_type": "execute_result",
          "data": {
            "text/plain": [
              "2010-SymbolicReasoning-talk.odp    2\n",
              "aghayev.odp                        1\n",
              "lecture12.odp                      1\n",
              "lecture23.odp                      1\n",
              "lecture22.odp                      1\n",
              "lecture21.odp                      1\n",
              "lecture20.odp                      1\n",
              "lecture19.odp                      1\n",
              "lecture18.odp                      1\n",
              "lecture17.odp                      1\n",
              "Name: filename, dtype: int64"
            ]
          },
          "metadata": {},
          "execution_count": 11
        }
      ]
    },
    {
      "cell_type": "markdown",
      "metadata": {
        "id": "Z7F3re20BQRI"
      },
      "source": [
        "### Let's create our first graph!\n",
        "\n",
        "We'll first plot the data with the pandas [plot](https://pandas.pydata.org/docs/reference/api/pandas.Series.plot.html) functionality, and then with [Altair](https://altair-viz.github.io/)."
      ]
    },
    {
      "cell_type": "code",
      "metadata": {
        "colab": {
          "base_uri": "https://localhost:8080/",
          "height": 814
        },
        "id": "sRvlstfsBWEZ",
        "outputId": "625b8fc3-484b-4a55-d29d-88c05f422cca"
      },
      "source": [
        "top_filenames_chart = top_filenames.plot.bar(figsize=(25, 10))\n",
        "\n",
        "top_filenames_chart.set_title(\"Top Filenames\", fontsize=22)\n",
        "top_filenames_chart.set_xlabel(\"Filename\", fontsize=20)\n",
        "top_filenames_chart.set_ylabel(\"Count\", fontsize=20)"
      ],
      "execution_count": 12,
      "outputs": [
        {
          "output_type": "execute_result",
          "data": {
            "text/plain": [
              "Text(0, 0.5, 'Count')"
            ]
          },
          "metadata": {},
          "execution_count": 12
        },
        {
          "output_type": "display_data",
          "data": {
            "text/plain": [
              "<Figure size 1800x720 with 1 Axes>"
            ],
            "image/png": "[encoded data removed]"
          },
          "metadata": {
            "needs_background": "light"
          }
        }
      ]
    },
    {
      "cell_type": "markdown",
      "metadata": {
        "id": "pQgeOObvgLvK"
      },
      "source": [
        "Now let's setup [Altair](https://altair-viz.github.io/), and plot the data. Altair is useful for creating vizualizations since they can be easily exported as a PNG or SVG."
      ]
    },
    {
      "cell_type": "code",
      "metadata": {
        "id": "Q7Z4J6qjWaVM"
      },
      "source": [
        "import altair as alt"
      ],
      "execution_count": 13,
      "outputs": []
    },
    {
      "cell_type": "code",
      "metadata": {
        "colab": {
          "base_uri": "https://localhost:8080/",
          "height": 952
        },
        "id": "s0xwvILYWkgg",
        "outputId": "49129336-5dba-4ec5-d798-18f06eae16b1"
      },
      "source": [
        "top_filenames_altair = (\n",
        "    powerpoint[\"filename\"]\n",
        "    .value_counts()\n",
        "    .head(10)\n",
        "    .rename_axis(\"Filename\")\n",
        "    .reset_index(name=\"Count\")\n",
        ")\n",
        "\n",
        "filenames_bar = (\n",
        "    alt.Chart(top_filenames_altair)\n",
        "    .mark_bar()\n",
        "    .encode(x=alt.X(\"Filename:O\", sort=\"-y\"), y=alt.Y(\"Count:Q\"))\n",
        ")\n",
        "\n",
        "filenames_rule = (\n",
        "    alt.Chart(top_filenames_altair).mark_rule(color=\"red\").encode(y=\"mean(Count):Q\")\n",
        ")\n",
        "\n",
        "\n",
        "filenames_text = filenames_bar.mark_text(align=\"center\", baseline=\"bottom\").encode(\n",
        "    text=\"Count:Q\"\n",
        ")\n",
        "\n",
        "(filenames_bar + filenames_rule + filenames_text).properties(\n",
        "    width=1400, height=700, title=\"Top Filenames\"\n",
        ")"
      ],
      "execution_count": 14,
      "outputs": [
        {
          "output_type": "execute_result",
          "data": {
            "text/html": [
              "\n",
              "<div id=\"altair-viz-c940963faaf7482a8a33b83ece6f5169\"></div>\n",
              "<script type=\"text/javascript\">\n",
              "  var VEGA_DEBUG = (typeof VEGA_DEBUG == \"undefined\") ? {} : VEGA_DEBUG;\n",
              "  (function(spec, embedOpt){\n",
              "    let outputDiv = document.currentScript.previousElementSibling;\n",
              "    if (outputDiv.id !== \"altair-viz-c940963faaf7482a8a33b83ece6f5169\") {\n",
              "      outputDiv = document.getElementById(\"altair-viz-c940963faaf7482a8a33b83ece6f5169\");\n",
              "    }\n",
              "    const paths = {\n",
              "      \"vega\": \"https://cdn.jsdelivr.net/npm//vega@5?noext\",\n",
              "      \"vega-lib\": \"https://cdn.jsdelivr.net/npm//vega-lib?noext\",\n",
              "      \"vega-lite\": \"https://cdn.jsdelivr.net/npm//vega-lite@4.17.0?noext\",\n",
              "      \"vega-embed\": \"https://cdn.jsdelivr.net/npm//vega-embed@6?noext\",\n",
              "    };\n",
              "\n",
              "    function maybeLoadScript(lib, version) {\n",
              "      var key = `${lib.replace(\"-\", \"\")}_version`;\n",
              "      return (VEGA_DEBUG[key] == version) ?\n",
              "        Promise.resolve(paths[lib]) :\n",
              "        new Promise(function(resolve, reject) {\n",
              "          var s = document.createElement('script');\n",
              "          document.getElementsByTagName(\"head\")[0].appendChild(s);\n",
              "          s.async = true;\n",
              "          s.onload = () => {\n",
              "            VEGA_DEBUG[key] = version;\n",
              "            return resolve(paths[lib]);\n",
              "          };\n",
              "          s.onerror = () => reject(`Error loading script: ${paths[lib]}`);\n",
              "          s.src = paths[lib];\n",
              "        });\n",
              "    }\n",
              "\n",
              "    function showError(err) {\n",
              "      outputDiv.innerHTML = `<div class=\"error\" style=\"color:red;\">${err}</div>`;\n",
              "      throw err;\n",
              "    }\n",
              "\n",
              "    function displayChart(vegaEmbed) {\n",
              "      vegaEmbed(outputDiv, spec, embedOpt)\n",
              "        .catch(err => showError(`Javascript Error: ${err.message}<br>This usually means there's a typo in your chart specification. See the javascript console for the full traceback.`));\n",
              "    }\n",
              "\n",
              "    if(typeof define === \"function\" && define.amd) {\n",
              "      requirejs.config({paths});\n",
              "      require([\"vega-embed\"], displayChart, err => showError(`Error loading script: ${err.message}`));\n",
              "    } else {\n",
              "      maybeLoadScript(\"vega\", \"5\")\n",
              "        .then(() => maybeLoadScript(\"vega-lite\", \"4.17.0\"))\n",
              "        .then(() => maybeLoadScript(\"vega-embed\", \"6\"))\n",
              "        .catch(showError)\n",
              "        .then(() => displayChart(vegaEmbed));\n",
              "    }\n",
              "  })({\"config\": {\"view\": {\"continuousWidth\": 400, \"continuousHeight\": 300}}, \"layer\": [{\"mark\": \"bar\", \"encoding\": {\"x\": {\"field\": \"Filename\", \"sort\": \"-y\", \"type\": \"ordinal\"}, \"y\": {\"field\": \"Count\", \"type\": \"quantitative\"}}}, {\"mark\": {\"type\": \"rule\", \"color\": \"red\"}, \"encoding\": {\"y\": {\"aggregate\": \"mean\", \"field\": \"Count\", \"type\": \"quantitative\"}}}, {\"mark\": {\"type\": \"text\", \"align\": \"center\", \"baseline\": \"bottom\"}, \"encoding\": {\"text\": {\"field\": \"Count\", \"type\": \"quantitative\"}, \"x\": {\"field\": \"Filename\", \"sort\": \"-y\", \"type\": \"ordinal\"}, \"y\": {\"field\": \"Count\", \"type\": \"quantitative\"}}}], \"data\": {\"name\": \"data-83d158f3c6607af2f6e9048be6329bdd\"}, \"height\": 700, \"title\": \"Top Filenames\", \"width\": 1400, \"$schema\": \"https://vega.github.io/schema/vega-lite/v4.17.0.json\", \"datasets\": {\"data-83d158f3c6607af2f6e9048be6329bdd\": [{\"Filename\": \"2010-SymbolicReasoning-talk.odp\", \"Count\": 2}, {\"Filename\": \"aghayev.odp\", \"Count\": 1}, {\"Filename\": \"lecture12.odp\", \"Count\": 1}, {\"Filename\": \"lecture23.odp\", \"Count\": 1}, {\"Filename\": \"lecture22.odp\", \"Count\": 1}, {\"Filename\": \"lecture21.odp\", \"Count\": 1}, {\"Filename\": \"lecture20.odp\", \"Count\": 1}, {\"Filename\": \"lecture19.odp\", \"Count\": 1}, {\"Filename\": \"lecture18.odp\", \"Count\": 1}, {\"Filename\": \"lecture17.odp\", \"Count\": 1}]}}, {\"mode\": \"vega-lite\"});\n",
              "</script>"
            ],
            "text/plain": [
              "alt.LayerChart(...)"
            ]
          },
          "metadata": {},
          "execution_count": 14
        }
      ]
    },
    {
      "cell_type": "markdown",
      "metadata": {
        "id": "BneaN9cgGoly"
      },
      "source": [
        "### How about a file format distribution?\n",
        "\n",
        "What _kind_ of PowerPoint files are present? We can discover this by checking their \"media type\", or [MIME type](https://en.wikipedia.org/wiki/Media_type). \n",
        "\n",
        "\n",
        "\n",
        "\n"
      ]
    },
    {
      "cell_type": "code",
      "metadata": {
        "colab": {
          "base_uri": "https://localhost:8080/",
          "height": 953
        },
        "id": "RDd-J8D-GwDk",
        "outputId": "8cf5c0e3-5e2d-4048-e24f-efcab742f275"
      },
      "source": [
        "powerpoint_mime_types = (\n",
        "    powerpoint[\"mime_type_web_server\"]\n",
        "    .value_counts()\n",
        "    .head(5)\n",
        "    .rename_axis(\"MIME Type\")\n",
        "    .reset_index(name=\"Count\")\n",
        ")\n",
        "\n",
        "powerpoint_mimes_bar = (\n",
        "    alt.Chart(powerpoint_mime_types)\n",
        "    .mark_bar()\n",
        "    .encode(x=alt.X(\"MIME Type:O\", sort=\"-y\"), y=alt.Y(\"Count:Q\"))\n",
        ")\n",
        "\n",
        "powerpoint_mime_rule = (\n",
        "    alt.Chart(powerpoint_mime_types).mark_rule(color=\"red\").encode(y=\"mean(Count):Q\")\n",
        ")\n",
        "\n",
        "powerpoint_mime_text = powerpoint_mimes_bar.mark_text(align=\"center\", baseline=\"bottom\").encode(\n",
        "    text=\"Count:Q\"\n",
        ")\n",
        "\n",
        "(powerpoint_mimes_bar + powerpoint_mime_rule + powerpoint_mime_text).properties(\n",
        "    width=1400, height=700, title=\"PowerPoint (e.g., .ppt, .odp, .key) File Format Distribution\"\n",
        ")"
      ],
      "execution_count": 15,
      "outputs": [
        {
          "output_type": "execute_result",
          "data": {
            "text/html": [
              "\n",
              "<div id=\"altair-viz-9bea9710696d4a3588a1981a7e78ae84\"></div>\n",
              "<script type=\"text/javascript\">\n",
              "  var VEGA_DEBUG = (typeof VEGA_DEBUG == \"undefined\") ? {} : VEGA_DEBUG;\n",
              "  (function(spec, embedOpt){\n",
              "    let outputDiv = document.currentScript.previousElementSibling;\n",
              "    if (outputDiv.id !== \"altair-viz-9bea9710696d4a3588a1981a7e78ae84\") {\n",
              "      outputDiv = document.getElementById(\"altair-viz-9bea9710696d4a3588a1981a7e78ae84\");\n",
              "    }\n",
              "    const paths = {\n",
              "      \"vega\": \"https://cdn.jsdelivr.net/npm//vega@5?noext\",\n",
              "      \"vega-lib\": \"https://cdn.jsdelivr.net/npm//vega-lib?noext\",\n",
              "      \"vega-lite\": \"https://cdn.jsdelivr.net/npm//vega-lite@4.17.0?noext\",\n",
              "      \"vega-embed\": \"https://cdn.jsdelivr.net/npm//vega-embed@6?noext\",\n",
              "    };\n",
              "\n",
              "    function maybeLoadScript(lib, version) {\n",
              "      var key = `${lib.replace(\"-\", \"\")}_version`;\n",
              "      return (VEGA_DEBUG[key] == version) ?\n",
              "        Promise.resolve(paths[lib]) :\n",
              "        new Promise(function(resolve, reject) {\n",
              "          var s = document.createElement('script');\n",
              "          document.getElementsByTagName(\"head\")[0].appendChild(s);\n",
              "          s.async = true;\n",
              "          s.onload = () => {\n",
              "            VEGA_DEBUG[key] = version;\n",
              "            return resolve(paths[lib]);\n",
              "          };\n",
              "          s.onerror = () => reject(`Error loading script: ${paths[lib]}`);\n",
              "          s.src = paths[lib];\n",
              "        });\n",
              "    }\n",
              "\n",
              "    function showError(err) {\n",
              "      outputDiv.innerHTML = `<div class=\"error\" style=\"color:red;\">${err}</div>`;\n",
              "      throw err;\n",
              "    }\n",
              "\n",
              "    function displayChart(vegaEmbed) {\n",
              "      vegaEmbed(outputDiv, spec, embedOpt)\n",
              "        .catch(err => showError(`Javascript Error: ${err.message}<br>This usually means there's a typo in your chart specification. See the javascript console for the full traceback.`));\n",
              "    }\n",
              "\n",
              "    if(typeof define === \"function\" && define.amd) {\n",
              "      requirejs.config({paths});\n",
              "      require([\"vega-embed\"], displayChart, err => showError(`Error loading script: ${err.message}`));\n",
              "    } else {\n",
              "      maybeLoadScript(\"vega\", \"5\")\n",
              "        .then(() => maybeLoadScript(\"vega-lite\", \"4.17.0\"))\n",
              "        .then(() => maybeLoadScript(\"vega-embed\", \"6\"))\n",
              "        .catch(showError)\n",
              "        .then(() => displayChart(vegaEmbed));\n",
              "    }\n",
              "  })({\"config\": {\"view\": {\"continuousWidth\": 400, \"continuousHeight\": 300}}, \"layer\": [{\"mark\": \"bar\", \"encoding\": {\"x\": {\"field\": \"MIME Type\", \"sort\": \"-y\", \"type\": \"ordinal\"}, \"y\": {\"field\": \"Count\", \"type\": \"quantitative\"}}}, {\"mark\": {\"type\": \"rule\", \"color\": \"red\"}, \"encoding\": {\"y\": {\"aggregate\": \"mean\", \"field\": \"Count\", \"type\": \"quantitative\"}}}, {\"mark\": {\"type\": \"text\", \"align\": \"center\", \"baseline\": \"bottom\"}, \"encoding\": {\"text\": {\"field\": \"Count\", \"type\": \"quantitative\"}, \"x\": {\"field\": \"MIME Type\", \"sort\": \"-y\", \"type\": \"ordinal\"}, \"y\": {\"field\": \"Count\", \"type\": \"quantitative\"}}}], \"data\": {\"name\": \"data-c15920bd5029c52c987b24f770357f48\"}, \"height\": 700, \"title\": \"PowerPoint (e.g., .ppt, .odp, .key) File Format Distribution\", \"width\": 1400, \"$schema\": \"https://vega.github.io/schema/vega-lite/v4.17.0.json\", \"datasets\": {\"data-c15920bd5029c52c987b24f770357f48\": [{\"MIME Type\": \"application/vnd.oasis.opendocument.presentation\", \"Count\": 27}, {\"MIME Type\": \"text/plain\", \"Count\": 1}]}}, {\"mode\": \"vega-lite\"});\n",
              "</script>"
            ],
            "text/plain": [
              "alt.LayerChart(...)"
            ]
          },
          "metadata": {},
          "execution_count": 15
        }
      ]
    },
    {
      "cell_type": "markdown",
      "metadata": {
        "id": "QUJR-jjqNxCL"
      },
      "source": [
        "### How do I get the actual PowerPoint file?\n",
        "\n",
        "...or, how do I get to the actual binary files described by each file format information derivative?\n",
        "\n",
        "There are a few options!\n",
        "\n",
        "1. `wget` or `curl` from the live URL, or a replay URL\n",
        "  * Live web URL\n",
        "    * `wget` or `curl` the value of the `url` column\n",
        "  * Replay web URL\n",
        "    * `wget` or `curl` the value of the `crawl_date` and `url` column using the following pattern:\n",
        "      * `https://web.archive.org/web/` + `crawl_date` + `/` + `url`\n",
        "        * https://web.archive.org/web/20120119124734/http://www.archive.org/images/glogo.png\n",
        "      * `http://wayback.archive-it.org/14462/` + `crawl_date` + `/` + `url`\n",
        "        * https://wayback.archive-it.org/14462/20210524212740/https://ruebot.net/visualization/elxn42/featured_hu33a17dfb90e2c5ed77f783db14a6e53a_5126291_550x0_resize_q90_box_2.png\n",
        "2. Use a scripting language, such as Python\n",
        "  * Make use of the `url` and `filename` columns (and `crawl_date` if you want to use the replay URL)\n",
        "  * `import requests`\n",
        "  * `requests.get(url, allow_redirects=True)`\n",
        "  * `open('filename', 'wb').write(r.content)`\n",
        "3. Use the [Archives Unleashed Toolkit](https://aut.docs.archivesunleashed.org/docs/extract-binary) (if you have access to the W/ARC files)."
      ]
    },
    {
      "cell_type": "markdown",
      "source": [
        "If you wanted to download the PowerPoint files using the replay URL, below is a method for doing so.\n",
        "\n",
        "First, you'll want to setup a replay url base url. Here we'll use the Archive-It Wayback instance for the collection."
      ],
      "metadata": {
        "id": "8yoFE2xLAlwk"
      }
    },
    {
      "cell_type": "code",
      "source": [
        "wayback_url = 'http://wayback.archive-it.org/89/'"
      ],
      "metadata": {
        "id": "RxrOHn_2AicZ"
      },
      "execution_count": 16,
      "outputs": []
    },
    {
      "cell_type": "markdown",
      "source": [
        "Next we'll create a new column using a lambda function. If you're familiar with working in PowerPoints, what we're doing here is basically concatenating some column values together and creating a new column."
      ],
      "metadata": {
        "id": "jCTmrEBGA-Yd"
      }
    },
    {
      "cell_type": "code",
      "source": [
        "powerpoint['replay_url'] = powerpoint.apply(lambda row: str(wayback_url + str(row['crawl_date']) + \"/\" + row['url']), axis=1)"
      ],
      "metadata": {
        "id": "p5HoWxkFA6C8"
      },
      "execution_count": 17,
      "outputs": []
    },
    {
      "cell_type": "markdown",
      "source": [
        "Then we can export that new column we created out to a file, so we can use it with `wget` to download all the powerpoint files!"
      ],
      "metadata": {
        "id": "q87tSYyIBIiZ"
      }
    },
    {
      "cell_type": "code",
      "source": [
        "powerpoint['replay_url'].head().to_csv('89_powerpoint_urls.txt', index=False, header=False)"
      ],
      "metadata": {
        "id": "wyhpsf9wBN1a"
      },
      "execution_count": 18,
      "outputs": []
    },
    {
      "cell_type": "markdown",
      "source": [
        "Finally, we can pass the file to `wget` to use as a download list. You can also speed this process up using `xargs` or `parallel`."
      ],
      "metadata": {
        "id": "81a3q7feu5Ji"
      }
    },
    {
      "cell_type": "code",
      "source": [
        "!wget --random-wait -i 89_powerpoint_urls.txt"
      ],
      "metadata": {
        "colab": {
          "base_uri": "https://localhost:8080/"
        },
        "id": "D_p4qGKoBRaZ",
        "outputId": "653884da-f321-49b5-c16d-15e0da61cf3a"
      },
      "execution_count": 19,
      "outputs": [
        {
          "output_type": "stream",
          "name": "stdout",
          "text": [
            "--2022-11-24 17:59:22--  http://wayback.archive-it.org/89/20200630100515/https://sosp19.rcs.uwaterloo.ca/slides/aghayev.odp\n",
            "Resolving wayback.archive-it.org (wayback.archive-it.org)... 207.241.232.8, 207.241.225.8\n",
            "Connecting to wayback.archive-it.org (wayback.archive-it.org)|207.241.232.8|:80... connected.\n",
            "HTTP request sent, awaiting response... 200 OK\n",
            "Length: unspecified [text/html]\n",
            "Saving to: ‘aghayev.odp.1’\n",
            "\n",
            "\raghayev.odp.1           [<=>                 ]       0  --.-KB/s               \raghayev.odp.1           [ <=>                ]   4.50K  --.-KB/s    in 0s      \n",
            "\n",
            "2022-11-24 17:59:22 (15.8 MB/s) - ‘aghayev.odp.1’ saved [4613]\n",
            "\n",
            "--2022-11-24 17:59:22--  http://wayback.archive-it.org/89/20200701163007/http://mirror.csclub.uwaterloo.ca/csclub/CSCtalkMar06.odp\n",
            "Reusing existing connection to wayback.archive-it.org:80.\n",
            "HTTP request sent, awaiting response... 200 OK\n",
            "Length: unspecified [text/html]\n",
            "Saving to: ‘CSCtalkMar06.odp.1’\n",
            "\n",
            "CSCtalkMar06.odp.1      [ <=>                ]   4.50K  --.-KB/s    in 0s      \n",
            "\n",
            "2022-11-24 17:59:22 (10.8 MB/s) - ‘CSCtalkMar06.odp.1’ saved [4613]\n",
            "\n",
            "--2022-11-24 17:59:22--  http://wayback.archive-it.org/89/20200703065633/http://compneuro.uwaterloo.ca/files/2010-SymbolicReasoning-talk.odp\n",
            "Reusing existing connection to wayback.archive-it.org:80.\n",
            "HTTP request sent, awaiting response... 200 OK\n",
            "Length: unspecified [text/html]\n",
            "Saving to: ‘2010-SymbolicReasoning-talk.odp.2’\n",
            "\n",
            "2010-SymbolicReason     [ <=>                ]   4.50K  --.-KB/s    in 0.001s  \n",
            "\n",
            "2022-11-24 17:59:22 (6.20 MB/s) - ‘2010-SymbolicReasoning-talk.odp.2’ saved [4613]\n",
            "\n",
            "--2022-11-24 17:59:22--  http://wayback.archive-it.org/89/20200716082844/https://crysp.uwaterloo.ca/courses/cs489/F07-lectures/lecture01.odp\n",
            "Reusing existing connection to wayback.archive-it.org:80.\n",
            "HTTP request sent, awaiting response... 200 OK\n",
            "Length: unspecified [text/html]\n",
            "Saving to: ‘lecture01.odp.1’\n",
            "\n",
            "lecture01.odp.1         [ <=>                ]   4.50K  --.-KB/s    in 0.001s  \n",
            "\n",
            "2022-11-24 17:59:22 (6.12 MB/s) - ‘lecture01.odp.1’ saved [4613]\n",
            "\n",
            "--2022-11-24 17:59:22--  http://wayback.archive-it.org/89/20200716082912/https://crysp.uwaterloo.ca/courses/cs489/F07-lectures/lecture02.odp\n",
            "Reusing existing connection to wayback.archive-it.org:80.\n",
            "HTTP request sent, awaiting response... 200 OK\n",
            "Length: unspecified [text/html]\n",
            "Saving to: ‘lecture02.odp.1’\n",
            "\n",
            "lecture02.odp.1         [ <=>                ]   4.50K  --.-KB/s    in 0s      \n",
            "\n",
            "2022-11-24 17:59:22 (16.2 MB/s) - ‘lecture02.odp.1’ saved [4613]\n",
            "\n",
            "FINISHED --2022-11-24 17:59:22--\n",
            "Total wall clock time: 0.5s\n",
            "Downloaded: 5 files, 23K in 0.002s (9.22 MB/s)\n"
          ]
        }
      ]
    }
  ]
}