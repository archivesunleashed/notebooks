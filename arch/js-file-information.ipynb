{
  "nbformat": 4,
  "nbformat_minor": 0,
  "metadata": {
    "colab": {
      "provenance": [],
      "include_colab_link": true
    },
    "kernelspec": {
      "name": "python3",
      "display_name": "Python 3"
    },
    "language_info": {
      "name": "python"
    }
  },
  "cells": [
    {
      "cell_type": "markdown",
      "metadata": {
        "id": "view-in-github",
        "colab_type": "text"
      },
      "source": [
        "<a href=\"https://colab.research.google.com/github/archivesunleashed/notebooks/blob/main/arch/js-file-information.ipynb\" target=\"_parent\"><img src=\"https://colab.research.google.com/assets/colab-badge.svg\" alt=\"Open In Colab\"/></a>"
      ]
    },
    {
      "cell_type": "markdown",
      "source": [
        "# JavaScript Information Dataset Exploration\n",
        "\n",
        "We're going to take a look at a few examples of how we can explore the JavaScript Information dataset. \n",
        "\n",
        "The first thing we need to do is enter the URL for our JavaScript Information dataset in the cell below. You can get this by right clicking the Download icon, and selecting \"Copy Link\"."
      ],
      "metadata": {
        "id": "vAyuRQ2PJIdc"
      }
    },
    {
      "cell_type": "code",
      "source": [
        "dataset = 'https://webdata.archive-it.org/ait/files/download/ARCHIVEIT-14489/TextFilesInformationExtraction/js-file-information.csv.gz?access=5HRFUFL7GEBOUJNPPBBYUHIHPS3N2AY3' #@param {type:\"string\"}\n",
        "print(dataset)"
      ],
      "metadata": {
        "colab": {
          "base_uri": "https://localhost:8080/"
        },
        "cellView": "form",
        "id": "RfhJiesWVpAf",
        "outputId": "7cc724c3-05b2-46ff-d647-a1e3bedd18d7"
      },
      "execution_count": 1,
      "outputs": [
        {
          "output_type": "stream",
          "name": "stdout",
          "text": [
            "https://webdata.archive-it.org/ait/files/download/ARCHIVEIT-14489/TextFilesInformationExtraction/js-file-information.csv.gz?access=5HRFUFL7GEBOUJNPPBBYUHIHPS3N2AY3\n"
          ]
        }
      ]
    },
    {
      "cell_type": "markdown",
      "source": [
        "## pandas\n",
        "\n",
        "Next, we'll setup our environment so we can load our JavaScript Information dataset into [pandas](https://pandas.pydata.org) DataFrames. If you're unfamiliar with DataFrames, but you've worked with spreadsheets before, you should feel comfortable pretty quick."
      ],
      "metadata": {
        "id": "Z14F2cIWJVW0"
      }
    },
    {
      "cell_type": "code",
      "execution_count": 2,
      "metadata": {
        "id": "Chh6tt3HHF1s"
      },
      "outputs": [],
      "source": [
        "import pandas as pd"
      ]
    },
    {
      "cell_type": "markdown",
      "source": [
        "## Data Table Display\n",
        "\n",
        "Colab includes an extension that renders pandas DataFrames into interactive displays that can be filtered, sorted, and explored dynamically. This can be very useful for taking a look at what each DataFrame provides, and doing some intital filtering!\n",
        "\n",
        "Data table display for pandas DataFrames can be enabled by running:\n",
        "```python\n",
        "%load_ext google.colab.data_table\n",
        "```\n",
        "and disabled by running\n",
        "```python\n",
        "%unload_ext google.colab.data_table\n",
        "```"
      ],
      "metadata": {
        "id": "sH81XCf3I3xY"
      }
    },
    {
      "cell_type": "code",
      "source": [
        "%load_ext google.colab.data_table"
      ],
      "metadata": {
        "id": "-qyCnbvBI7n6"
      },
      "execution_count": 3,
      "outputs": []
    },
    {
      "cell_type": "markdown",
      "source": [
        "## Loading our ARCH Dataset as a DataFrame\n",
        "\n",
        "---\n",
        "\n",
        "\n",
        "Next, we'll create pandas DataFrame from our dataset, and show a preview of it using the Data Table Display."
      ],
      "metadata": {
        "id": "6prR7j1zI_D5"
      }
    },
    {
      "cell_type": "code",
      "source": [
        "js = pd.read_csv(dataset, compression='gzip')\n",
        "js"
      ],
      "metadata": {
        "colab": {
          "base_uri": "https://localhost:8080/",
          "height": 696
        },
        "id": "YL0LQaUNHRKx",
        "outputId": "c2a936da-e495-454a-ac06-416664503bd6"
      },
      "execution_count": 4,
      "outputs": [
        {
          "output_type": "stream",
          "name": "stdout",
          "text": [
            "Warning: total number of rows (82370) exceeds max_rows (20000). Falling back to pandas display.\n"
          ]
        },
        {
          "output_type": "execute_result",
          "data": {
            "text/plain": [
              "           crawl_date                                                url  \\\n",
              "0      20200629191711  https://cdnjs.cloudflare.com/ajax/libs/flexsli...   \n",
              "1      20200629191711  https://www.ualberta.ca/_assets/javascript/fra...   \n",
              "2      20200629191716  https://cdnjs.cloudflare.com/ajax/libs/moderni...   \n",
              "3      20200629191723  https://static.hotjar.com/c/hotjar-875447.js?sv=7   \n",
              "4      20200629191725      https://live.clive.cloud/page-views/track/162   \n",
              "...               ...                                                ...   \n",
              "82365  20220704155139  https://www.uwo.ca/pridelib/_system/fancybox/j...   \n",
              "82366  20220704155148  https://www.uwo.ca/pridelib/_system/fancybox/j...   \n",
              "82367  20220704155252  https://www.uwo.ca/pridelib/_system/prideFancy...   \n",
              "82368  20220704155337  https://www.uwo.ca/pridelib/_system/tweet/jque...   \n",
              "82369  20220704155414  https://www.uwo.ca/pridelib/_system/prideTweet.js   \n",
              "\n",
              "                            filename extension    mime_type_web_server  \\\n",
              "0           jquery.flexslider.min.js       txt  application/javascript   \n",
              "1                       framework.js       txt  application/javascript   \n",
              "2                   modernizr.min.js       txt  application/javascript   \n",
              "3                   hotjar-875447.js       txt  application/javascript   \n",
              "4                                162       txt         text/javascript   \n",
              "...                              ...       ...                     ...   \n",
              "82365  jquery.fancybox-1.3.4.pack.js        js  application/javascript   \n",
              "82366      jquery.easing-1.3.pack.js        js  application/javascript   \n",
              "82367               prideFancyBox.js        js  application/javascript   \n",
              "82368                jquery.tweet.js        js  application/javascript   \n",
              "82369                  prideTweet.js        js  application/javascript   \n",
              "\n",
              "      mime_type_tika                               md5  \\\n",
              "0         text/plain  638613469a2770a690bd8aa1929f9a91   \n",
              "1         text/plain  548b9e4fe3240bc9cff03b5cdbe73dab   \n",
              "2         text/plain  65f1d21d5fcc9d21da758adababd0c3c   \n",
              "3         text/plain  86415f23047868b8fd17af0d05d3e9a9   \n",
              "4         text/plain  23e816f42c090db5fe61c631fc3b6920   \n",
              "...              ...                               ...   \n",
              "82365            NaN  d41d8cd98f00b204e9800998ecf8427e   \n",
              "82366            NaN  d41d8cd98f00b204e9800998ecf8427e   \n",
              "82367            NaN  d41d8cd98f00b204e9800998ecf8427e   \n",
              "82368            NaN  d41d8cd98f00b204e9800998ecf8427e   \n",
              "82369            NaN  d41d8cd98f00b204e9800998ecf8427e   \n",
              "\n",
              "                                           sha1  \\\n",
              "0      aefa4fb28d6ab0b09a5cd62f57225742f15aaed2   \n",
              "1      529ea3622901bf33f7a9f201dd1aff3adb746798   \n",
              "2      e0661d07d64c00008bc9d013d16eec0a0f156dc7   \n",
              "3      d55723e82468c8111f821cb37562333e09a8e159   \n",
              "4      8ef02cb36a192dd576e1f6f39f9fc881c230ab91   \n",
              "...                                         ...   \n",
              "82365  da39a3ee5e6b4b0d3255bfef95601890afd80709   \n",
              "82366  da39a3ee5e6b4b0d3255bfef95601890afd80709   \n",
              "82367  da39a3ee5e6b4b0d3255bfef95601890afd80709   \n",
              "82368  da39a3ee5e6b4b0d3255bfef95601890afd80709   \n",
              "82369  da39a3ee5e6b4b0d3255bfef95601890afd80709   \n",
              "\n",
              "                                                 content  \n",
              "0      !function(b){var a=!0;b.flexslider=function(p,...  \n",
              "1      var framework=function(modules){var installedM...  \n",
              "2      window.Modernizr=function(e,t,n){function r(e)...  \n",
              "3      window.hjSiteSettings = window.hjSiteSettings ...  \n",
              "4      (function() {\\n        \\n      function determ...  \n",
              "...                                                  ...  \n",
              "82365                                                NaN  \n",
              "82366                                                NaN  \n",
              "82367                                                NaN  \n",
              "82368                                                NaN  \n",
              "82369                                                NaN  \n",
              "\n",
              "[82370 rows x 9 columns]"
            ],
            "text/html": [
              "\n",
              "  <div id=\"df-e0447628-a29b-41b0-9a71-f731f4c424b6\">\n",
              "    <div class=\"colab-df-container\">\n",
              "      <div>\n",
              "<style scoped>\n",
              "    .dataframe tbody tr th:only-of-type {\n",
              "        vertical-align: middle;\n",
              "    }\n",
              "\n",
              "    .dataframe tbody tr th {\n",
              "        vertical-align: top;\n",
              "    }\n",
              "\n",
              "    .dataframe thead th {\n",
              "        text-align: right;\n",
              "    }\n",
              "</style>\n",
              "<table border=\"1\" class=\"dataframe\">\n",
              "  <thead>\n",
              "    <tr style=\"text-align: right;\">\n",
              "      <th></th>\n",
              "      <th>crawl_date</th>\n",
              "      <th>url</th>\n",
              "      <th>filename</th>\n",
              "      <th>extension</th>\n",
              "      <th>mime_type_web_server</th>\n",
              "      <th>mime_type_tika</th>\n",
              "      <th>md5</th>\n",
              "      <th>sha1</th>\n",
              "      <th>content</th>\n",
              "    </tr>\n",
              "  </thead>\n",
              "  <tbody>\n",
              "    <tr>\n",
              "      <th>0</th>\n",
              "      <td>20200629191711</td>\n",
              "      <td>https://cdnjs.cloudflare.com/ajax/libs/flexsli...</td>\n",
              "      <td>jquery.flexslider.min.js</td>\n",
              "      <td>txt</td>\n",
              "      <td>application/javascript</td>\n",
              "      <td>text/plain</td>\n",
              "      <td>638613469a2770a690bd8aa1929f9a91</td>\n",
              "      <td>aefa4fb28d6ab0b09a5cd62f57225742f15aaed2</td>\n",
              "      <td>!function(b){var a=!0;b.flexslider=function(p,...</td>\n",
              "    </tr>\n",
              "    <tr>\n",
              "      <th>1</th>\n",
              "      <td>20200629191711</td>\n",
              "      <td>https://www.ualberta.ca/_assets/javascript/fra...</td>\n",
              "      <td>framework.js</td>\n",
              "      <td>txt</td>\n",
              "      <td>application/javascript</td>\n",
              "      <td>text/plain</td>\n",
              "      <td>548b9e4fe3240bc9cff03b5cdbe73dab</td>\n",
              "      <td>529ea3622901bf33f7a9f201dd1aff3adb746798</td>\n",
              "      <td>var framework=function(modules){var installedM...</td>\n",
              "    </tr>\n",
              "    <tr>\n",
              "      <th>2</th>\n",
              "      <td>20200629191716</td>\n",
              "      <td>https://cdnjs.cloudflare.com/ajax/libs/moderni...</td>\n",
              "      <td>modernizr.min.js</td>\n",
              "      <td>txt</td>\n",
              "      <td>application/javascript</td>\n",
              "      <td>text/plain</td>\n",
              "      <td>65f1d21d5fcc9d21da758adababd0c3c</td>\n",
              "      <td>e0661d07d64c00008bc9d013d16eec0a0f156dc7</td>\n",
              "      <td>window.Modernizr=function(e,t,n){function r(e)...</td>\n",
              "    </tr>\n",
              "    <tr>\n",
              "      <th>3</th>\n",
              "      <td>20200629191723</td>\n",
              "      <td>https://static.hotjar.com/c/hotjar-875447.js?sv=7</td>\n",
              "      <td>hotjar-875447.js</td>\n",
              "      <td>txt</td>\n",
              "      <td>application/javascript</td>\n",
              "      <td>text/plain</td>\n",
              "      <td>86415f23047868b8fd17af0d05d3e9a9</td>\n",
              "      <td>d55723e82468c8111f821cb37562333e09a8e159</td>\n",
              "      <td>window.hjSiteSettings = window.hjSiteSettings ...</td>\n",
              "    </tr>\n",
              "    <tr>\n",
              "      <th>4</th>\n",
              "      <td>20200629191725</td>\n",
              "      <td>https://live.clive.cloud/page-views/track/162</td>\n",
              "      <td>162</td>\n",
              "      <td>txt</td>\n",
              "      <td>text/javascript</td>\n",
              "      <td>text/plain</td>\n",
              "      <td>23e816f42c090db5fe61c631fc3b6920</td>\n",
              "      <td>8ef02cb36a192dd576e1f6f39f9fc881c230ab91</td>\n",
              "      <td>(function() {\\n        \\n      function determ...</td>\n",
              "    </tr>\n",
              "    <tr>\n",
              "      <th>...</th>\n",
              "      <td>...</td>\n",
              "      <td>...</td>\n",
              "      <td>...</td>\n",
              "      <td>...</td>\n",
              "      <td>...</td>\n",
              "      <td>...</td>\n",
              "      <td>...</td>\n",
              "      <td>...</td>\n",
              "      <td>...</td>\n",
              "    </tr>\n",
              "    <tr>\n",
              "      <th>82365</th>\n",
              "      <td>20220704155139</td>\n",
              "      <td>https://www.uwo.ca/pridelib/_system/fancybox/j...</td>\n",
              "      <td>jquery.fancybox-1.3.4.pack.js</td>\n",
              "      <td>js</td>\n",
              "      <td>application/javascript</td>\n",
              "      <td>NaN</td>\n",
              "      <td>d41d8cd98f00b204e9800998ecf8427e</td>\n",
              "      <td>da39a3ee5e6b4b0d3255bfef95601890afd80709</td>\n",
              "      <td>NaN</td>\n",
              "    </tr>\n",
              "    <tr>\n",
              "      <th>82366</th>\n",
              "      <td>20220704155148</td>\n",
              "      <td>https://www.uwo.ca/pridelib/_system/fancybox/j...</td>\n",
              "      <td>jquery.easing-1.3.pack.js</td>\n",
              "      <td>js</td>\n",
              "      <td>application/javascript</td>\n",
              "      <td>NaN</td>\n",
              "      <td>d41d8cd98f00b204e9800998ecf8427e</td>\n",
              "      <td>da39a3ee5e6b4b0d3255bfef95601890afd80709</td>\n",
              "      <td>NaN</td>\n",
              "    </tr>\n",
              "    <tr>\n",
              "      <th>82367</th>\n",
              "      <td>20220704155252</td>\n",
              "      <td>https://www.uwo.ca/pridelib/_system/prideFancy...</td>\n",
              "      <td>prideFancyBox.js</td>\n",
              "      <td>js</td>\n",
              "      <td>application/javascript</td>\n",
              "      <td>NaN</td>\n",
              "      <td>d41d8cd98f00b204e9800998ecf8427e</td>\n",
              "      <td>da39a3ee5e6b4b0d3255bfef95601890afd80709</td>\n",
              "      <td>NaN</td>\n",
              "    </tr>\n",
              "    <tr>\n",
              "      <th>82368</th>\n",
              "      <td>20220704155337</td>\n",
              "      <td>https://www.uwo.ca/pridelib/_system/tweet/jque...</td>\n",
              "      <td>jquery.tweet.js</td>\n",
              "      <td>js</td>\n",
              "      <td>application/javascript</td>\n",
              "      <td>NaN</td>\n",
              "      <td>d41d8cd98f00b204e9800998ecf8427e</td>\n",
              "      <td>da39a3ee5e6b4b0d3255bfef95601890afd80709</td>\n",
              "      <td>NaN</td>\n",
              "    </tr>\n",
              "    <tr>\n",
              "      <th>82369</th>\n",
              "      <td>20220704155414</td>\n",
              "      <td>https://www.uwo.ca/pridelib/_system/prideTweet.js</td>\n",
              "      <td>prideTweet.js</td>\n",
              "      <td>js</td>\n",
              "      <td>application/javascript</td>\n",
              "      <td>NaN</td>\n",
              "      <td>d41d8cd98f00b204e9800998ecf8427e</td>\n",
              "      <td>da39a3ee5e6b4b0d3255bfef95601890afd80709</td>\n",
              "      <td>NaN</td>\n",
              "    </tr>\n",
              "  </tbody>\n",
              "</table>\n",
              "<p>82370 rows × 9 columns</p>\n",
              "</div>\n",
              "      <button class=\"colab-df-convert\" onclick=\"convertToInteractive('df-e0447628-a29b-41b0-9a71-f731f4c424b6')\"\n",
              "              title=\"Convert this dataframe to an interactive table.\"\n",
              "              style=\"display:none;\">\n",
              "        \n",
              "  <svg xmlns=\"http://www.w3.org/2000/svg\" height=\"24px\"viewBox=\"0 0 24 24\"\n",
              "       width=\"24px\">\n",
              "    <path d=\"M0 0h24v24H0V0z\" fill=\"none\"/>\n",
              "    <path d=\"M18.56 5.44l.94 2.06.94-2.06 2.06-.94-2.06-.94-.94-2.06-.94 2.06-2.06.94zm-11 1L8.5 8.5l.94-2.06 2.06-.94-2.06-.94L8.5 2.5l-.94 2.06-2.06.94zm10 10l.94 2.06.94-2.06 2.06-.94-2.06-.94-.94-2.06-.94 2.06-2.06.94z\"/><path d=\"M17.41 7.96l-1.37-1.37c-.4-.4-.92-.59-1.43-.59-.52 0-1.04.2-1.43.59L10.3 9.45l-7.72 7.72c-.78.78-.78 2.05 0 2.83L4 21.41c.39.39.9.59 1.41.59.51 0 1.02-.2 1.41-.59l7.78-7.78 2.81-2.81c.8-.78.8-2.07 0-2.86zM5.41 20L4 18.59l7.72-7.72 1.47 1.35L5.41 20z\"/>\n",
              "  </svg>\n",
              "      </button>\n",
              "      \n",
              "  <style>\n",
              "    .colab-df-container {\n",
              "      display:flex;\n",
              "      flex-wrap:wrap;\n",
              "      gap: 12px;\n",
              "    }\n",
              "\n",
              "    .colab-df-convert {\n",
              "      background-color: #E8F0FE;\n",
              "      border: none;\n",
              "      border-radius: 50%;\n",
              "      cursor: pointer;\n",
              "      display: none;\n",
              "      fill: #1967D2;\n",
              "      height: 32px;\n",
              "      padding: 0 0 0 0;\n",
              "      width: 32px;\n",
              "    }\n",
              "\n",
              "    .colab-df-convert:hover {\n",
              "      background-color: #E2EBFA;\n",
              "      box-shadow: 0px 1px 2px rgba(60, 64, 67, 0.3), 0px 1px 3px 1px rgba(60, 64, 67, 0.15);\n",
              "      fill: #174EA6;\n",
              "    }\n",
              "\n",
              "    [theme=dark] .colab-df-convert {\n",
              "      background-color: #3B4455;\n",
              "      fill: #D2E3FC;\n",
              "    }\n",
              "\n",
              "    [theme=dark] .colab-df-convert:hover {\n",
              "      background-color: #434B5C;\n",
              "      box-shadow: 0px 1px 3px 1px rgba(0, 0, 0, 0.15);\n",
              "      filter: drop-shadow(0px 1px 2px rgba(0, 0, 0, 0.3));\n",
              "      fill: #FFFFFF;\n",
              "    }\n",
              "  </style>\n",
              "\n",
              "      <script>\n",
              "        const buttonEl =\n",
              "          document.querySelector('#df-e0447628-a29b-41b0-9a71-f731f4c424b6 button.colab-df-convert');\n",
              "        buttonEl.style.display =\n",
              "          google.colab.kernel.accessAllowed ? 'block' : 'none';\n",
              "\n",
              "        async function convertToInteractive(key) {\n",
              "          const element = document.querySelector('#df-e0447628-a29b-41b0-9a71-f731f4c424b6');\n",
              "          const dataTable =\n",
              "            await google.colab.kernel.invokeFunction('convertToInteractive',\n",
              "                                                     [key], {});\n",
              "          if (!dataTable) return;\n",
              "\n",
              "          const docLinkHtml = 'Like what you see? Visit the ' +\n",
              "            '<a target=\"_blank\" href=https://colab.research.google.com/notebooks/data_table.ipynb>data table notebook</a>'\n",
              "            + ' to learn more about interactive tables.';\n",
              "          element.innerHTML = '';\n",
              "          dataTable['output_type'] = 'display_data';\n",
              "          await google.colab.output.renderOutput(dataTable, element);\n",
              "          const docLink = document.createElement('div');\n",
              "          docLink.innerHTML = docLinkHtml;\n",
              "          element.appendChild(docLink);\n",
              "        }\n",
              "      </script>\n",
              "    </div>\n",
              "  </div>\n",
              "  "
            ]
          },
          "metadata": {},
          "execution_count": 4
        }
      ]
    },
    {
      "cell_type": "markdown",
      "metadata": {
        "id": "3HPwOCNAvqMe"
      },
      "source": [
        "# Data Analysis\n",
        "\n",
        "Now that we have all of our datasets loaded up, we can begin to work with them!"
      ]
    },
    {
      "cell_type": "markdown",
      "metadata": {
        "id": "J6Pkg0prv3BE"
      },
      "source": [
        "## Counting total files, and unique files\n",
        "\n",
        "Let's take a quick look at how to count items in DataFrames, and use total and unique files as an example to work with.\n",
        "\n",
        "It's definitely work checking out the [pandas documentation](https://pandas.pydata.org/docs/index.html). There are a lot of good examples available, along with a robust [API reference](https://pandas.pydata.org/docs/reference/index.html#api)."
      ]
    },
    {
      "cell_type": "markdown",
      "metadata": {
        "id": "DFX4Gl3wv7bi"
      },
      "source": [
        "\n",
        "### How many js files are in this collection?\n",
        "\n",
        "We can take our `js` variable and try a couple of functions to get the same answer.\n",
        "\n",
        "1.   `len(js.index)`\n",
        "  * Get the length of the DataFrame's index.\n",
        "2.   `js.shape[0]`\n",
        "  * Get the shape or dimensionality of the DataFrame, and take the first item in the tuple.\n",
        "3.  `js.count()`\n",
        "  * Count the number of rows for each column.\n",
        "\n"
      ]
    },
    {
      "cell_type": "code",
      "metadata": {
        "colab": {
          "base_uri": "https://localhost:8080/"
        },
        "id": "HTv8Oet3jiTH",
        "outputId": "1d7adf52-754f-4822-b128-955b90a4ecf7"
      },
      "source": [
        "len(js.index)"
      ],
      "execution_count": 5,
      "outputs": [
        {
          "output_type": "execute_result",
          "data": {
            "text/plain": [
              "82370"
            ]
          },
          "metadata": {},
          "execution_count": 5
        }
      ]
    },
    {
      "cell_type": "code",
      "metadata": {
        "colab": {
          "base_uri": "https://localhost:8080/"
        },
        "id": "6rYEERnTjifk",
        "outputId": "583d91ca-210a-4b2b-c8fb-4eadc5752c0d"
      },
      "source": [
        "js.shape[0]"
      ],
      "execution_count": 6,
      "outputs": [
        {
          "output_type": "execute_result",
          "data": {
            "text/plain": [
              "82370"
            ]
          },
          "metadata": {},
          "execution_count": 6
        }
      ]
    },
    {
      "cell_type": "code",
      "metadata": {
        "colab": {
          "base_uri": "https://localhost:8080/"
        },
        "id": "bn-1v127aKIG",
        "outputId": "e2de022b-c8b5-4893-9c58-84f8db3d2a7a"
      },
      "source": [
        "js.count()"
      ],
      "execution_count": 7,
      "outputs": [
        {
          "output_type": "execute_result",
          "data": {
            "text/plain": [
              "crawl_date              82370\n",
              "url                     82370\n",
              "filename                77266\n",
              "extension               82370\n",
              "mime_type_web_server    82370\n",
              "mime_type_tika          20656\n",
              "md5                     82370\n",
              "sha1                    82370\n",
              "content                 20656\n",
              "dtype: int64"
            ]
          },
          "metadata": {},
          "execution_count": 7
        }
      ]
    },
    {
      "cell_type": "markdown",
      "metadata": {
        "id": "38veKiPhwKo4"
      },
      "source": [
        "### How many unique js files are in the collection?\n",
        "\n",
        " We can see if a js file is unique or not by computing an [MD5 hash](https://en.wikipedia.org/wiki/MD5#MD5_hashes) of it, and comparing them. The exact same js file might have a filename of `example.js` or `foo.js`. If the hash is computed for each, we can see that even with different file names, they are actually the same js file. So, since we have both a `MD5` and `SHA1` hash column available in our DataFrame, we can just find the unique values, and count them!\n",
        "\n",
        "\n"
      ]
    },
    {
      "cell_type": "code",
      "metadata": {
        "colab": {
          "base_uri": "https://localhost:8080/"
        },
        "id": "WesM3kQowM5B",
        "outputId": "be5080ac-4e3a-4a58-9e5e-90358c5c9644"
      },
      "source": [
        "len(js.md5.unique())"
      ],
      "execution_count": 8,
      "outputs": [
        {
          "output_type": "execute_result",
          "data": {
            "text/plain": [
              "18241"
            ]
          },
          "metadata": {},
          "execution_count": 8
        }
      ]
    },
    {
      "cell_type": "markdown",
      "metadata": {
        "id": "ZIXkI0-1wWQf"
      },
      "source": [
        "### What are the top 10 most occurring js files in the collection?\n",
        "\n",
        "Here we can take advantage of [`value_counts()`](https://pandas.pydata.org/docs/reference/api/pandas.DataFrame.value_counts.html) to provide us with a list of MD5 hashes, and their respective counts."
      ]
    },
    {
      "cell_type": "code",
      "metadata": {
        "colab": {
          "base_uri": "https://localhost:8080/"
        },
        "id": "8Ts03OFyjPIM",
        "outputId": "4673ab8a-5783-47eb-a9b2-624aa9b4952e"
      },
      "source": [
        "js[\"md5\"].value_counts().head(10)"
      ],
      "execution_count": 9,
      "outputs": [
        {
          "output_type": "execute_result",
          "data": {
            "text/plain": [
              "d41d8cd98f00b204e9800998ecf8427e    61714\n",
              "4f252523d4af0b478c810c2547a63e19        9\n",
              "48fef07f46323cff810469b9160ad31e        8\n",
              "8ed6038a5dbf62380de72a681340afd3        8\n",
              "2c9ea1a0e8cf2d4cf4548eec26340c03        7\n",
              "cceebad9bbb56917e310d1a7369f267b        7\n",
              "49edccea2e7ba985cadc9ba0531cbed1        7\n",
              "7121994eec5320fbe6586463bf9651c2        7\n",
              "a4065c93addf975e695586c24a20bda8        7\n",
              "ec33f485ba2d4767dae9d112b78f8b02        7\n",
              "Name: md5, dtype: int64"
            ]
          },
          "metadata": {},
          "execution_count": 9
        }
      ]
    },
    {
      "cell_type": "markdown",
      "metadata": {
        "id": "FG7pGZUEwlaI"
      },
      "source": [
        "\n",
        "### What's the information around all of the occurances of `d41d8cd98f00b204e9800998ecf8427e`?\n",
        "\n",
        "What, you mean you don't know what `d41d8cd98f00b204e9800998ecf8427e` means? \n",
        "\n",
        "Let's find those js files in the DataFrame. We can here see some of the filenames used, its dimensions, and its URL.\n"
      ]
    },
    {
      "cell_type": "code",
      "metadata": {
        "colab": {
          "base_uri": "https://localhost:8080/",
          "height": 659
        },
        "id": "msmmm65lkSIK",
        "outputId": "5ee0d0da-1c76-434d-b2bf-2b24fd543709"
      },
      "source": [
        "js.loc[js[\"md5\"] == \"d41d8cd98f00b204e9800998ecf8427e\"]"
      ],
      "execution_count": 10,
      "outputs": [
        {
          "output_type": "stream",
          "name": "stdout",
          "text": [
            "Warning: total number of rows (61714) exceeds max_rows (20000). Falling back to pandas display.\n"
          ]
        },
        {
          "output_type": "execute_result",
          "data": {
            "text/plain": [
              "           crawl_date                                                url  \\\n",
              "15     20200629213602  https://oss.maxcdn.com/html5shiv/3.7.3/html5sh...   \n",
              "88     20200630234502  https://cdn.ok.ubc.ca/_ubc_clf/_clf7_assets/sc...   \n",
              "90     20200701002135  https://ok.ubc.ca/wp-includes/js/jquery/jquery...   \n",
              "91     20200701002140  https://ok.ubc.ca/wp-includes/js/jquery/jquery...   \n",
              "128    20200703105118  https://www.ubc.ca/stories/2015-summer/_assets...   \n",
              "...               ...                                                ...   \n",
              "82365  20220704155139  https://www.uwo.ca/pridelib/_system/fancybox/j...   \n",
              "82366  20220704155148  https://www.uwo.ca/pridelib/_system/fancybox/j...   \n",
              "82367  20220704155252  https://www.uwo.ca/pridelib/_system/prideFancy...   \n",
              "82368  20220704155337  https://www.uwo.ca/pridelib/_system/tweet/jque...   \n",
              "82369  20220704155414  https://www.uwo.ca/pridelib/_system/prideTweet.js   \n",
              "\n",
              "                            filename extension    mime_type_web_server  \\\n",
              "15                  html5shiv.min.js        js  application/javascript   \n",
              "88                 getEmAdvisory.php       php         text/javascript   \n",
              "90                         jquery.js        js  application/javascript   \n",
              "91             jquery-migrate.min.js        js  application/javascript   \n",
              "128                    share-this.js        js  application/javascript   \n",
              "...                              ...       ...                     ...   \n",
              "82365  jquery.fancybox-1.3.4.pack.js        js  application/javascript   \n",
              "82366      jquery.easing-1.3.pack.js        js  application/javascript   \n",
              "82367               prideFancyBox.js        js  application/javascript   \n",
              "82368                jquery.tweet.js        js  application/javascript   \n",
              "82369                  prideTweet.js        js  application/javascript   \n",
              "\n",
              "      mime_type_tika                               md5  \\\n",
              "15               NaN  d41d8cd98f00b204e9800998ecf8427e   \n",
              "88               NaN  d41d8cd98f00b204e9800998ecf8427e   \n",
              "90               NaN  d41d8cd98f00b204e9800998ecf8427e   \n",
              "91               NaN  d41d8cd98f00b204e9800998ecf8427e   \n",
              "128              NaN  d41d8cd98f00b204e9800998ecf8427e   \n",
              "...              ...                               ...   \n",
              "82365            NaN  d41d8cd98f00b204e9800998ecf8427e   \n",
              "82366            NaN  d41d8cd98f00b204e9800998ecf8427e   \n",
              "82367            NaN  d41d8cd98f00b204e9800998ecf8427e   \n",
              "82368            NaN  d41d8cd98f00b204e9800998ecf8427e   \n",
              "82369            NaN  d41d8cd98f00b204e9800998ecf8427e   \n",
              "\n",
              "                                           sha1 content  \n",
              "15     da39a3ee5e6b4b0d3255bfef95601890afd80709     NaN  \n",
              "88     da39a3ee5e6b4b0d3255bfef95601890afd80709     NaN  \n",
              "90     da39a3ee5e6b4b0d3255bfef95601890afd80709     NaN  \n",
              "91     da39a3ee5e6b4b0d3255bfef95601890afd80709     NaN  \n",
              "128    da39a3ee5e6b4b0d3255bfef95601890afd80709     NaN  \n",
              "...                                         ...     ...  \n",
              "82365  da39a3ee5e6b4b0d3255bfef95601890afd80709     NaN  \n",
              "82366  da39a3ee5e6b4b0d3255bfef95601890afd80709     NaN  \n",
              "82367  da39a3ee5e6b4b0d3255bfef95601890afd80709     NaN  \n",
              "82368  da39a3ee5e6b4b0d3255bfef95601890afd80709     NaN  \n",
              "82369  da39a3ee5e6b4b0d3255bfef95601890afd80709     NaN  \n",
              "\n",
              "[61714 rows x 9 columns]"
            ],
            "text/html": [
              "\n",
              "  <div id=\"df-7f97c40f-19b6-40cd-b663-a221f60f6048\">\n",
              "    <div class=\"colab-df-container\">\n",
              "      <div>\n",
              "<style scoped>\n",
              "    .dataframe tbody tr th:only-of-type {\n",
              "        vertical-align: middle;\n",
              "    }\n",
              "\n",
              "    .dataframe tbody tr th {\n",
              "        vertical-align: top;\n",
              "    }\n",
              "\n",
              "    .dataframe thead th {\n",
              "        text-align: right;\n",
              "    }\n",
              "</style>\n",
              "<table border=\"1\" class=\"dataframe\">\n",
              "  <thead>\n",
              "    <tr style=\"text-align: right;\">\n",
              "      <th></th>\n",
              "      <th>crawl_date</th>\n",
              "      <th>url</th>\n",
              "      <th>filename</th>\n",
              "      <th>extension</th>\n",
              "      <th>mime_type_web_server</th>\n",
              "      <th>mime_type_tika</th>\n",
              "      <th>md5</th>\n",
              "      <th>sha1</th>\n",
              "      <th>content</th>\n",
              "    </tr>\n",
              "  </thead>\n",
              "  <tbody>\n",
              "    <tr>\n",
              "      <th>15</th>\n",
              "      <td>20200629213602</td>\n",
              "      <td>https://oss.maxcdn.com/html5shiv/3.7.3/html5sh...</td>\n",
              "      <td>html5shiv.min.js</td>\n",
              "      <td>js</td>\n",
              "      <td>application/javascript</td>\n",
              "      <td>NaN</td>\n",
              "      <td>d41d8cd98f00b204e9800998ecf8427e</td>\n",
              "      <td>da39a3ee5e6b4b0d3255bfef95601890afd80709</td>\n",
              "      <td>NaN</td>\n",
              "    </tr>\n",
              "    <tr>\n",
              "      <th>88</th>\n",
              "      <td>20200630234502</td>\n",
              "      <td>https://cdn.ok.ubc.ca/_ubc_clf/_clf7_assets/sc...</td>\n",
              "      <td>getEmAdvisory.php</td>\n",
              "      <td>php</td>\n",
              "      <td>text/javascript</td>\n",
              "      <td>NaN</td>\n",
              "      <td>d41d8cd98f00b204e9800998ecf8427e</td>\n",
              "      <td>da39a3ee5e6b4b0d3255bfef95601890afd80709</td>\n",
              "      <td>NaN</td>\n",
              "    </tr>\n",
              "    <tr>\n",
              "      <th>90</th>\n",
              "      <td>20200701002135</td>\n",
              "      <td>https://ok.ubc.ca/wp-includes/js/jquery/jquery...</td>\n",
              "      <td>jquery.js</td>\n",
              "      <td>js</td>\n",
              "      <td>application/javascript</td>\n",
              "      <td>NaN</td>\n",
              "      <td>d41d8cd98f00b204e9800998ecf8427e</td>\n",
              "      <td>da39a3ee5e6b4b0d3255bfef95601890afd80709</td>\n",
              "      <td>NaN</td>\n",
              "    </tr>\n",
              "    <tr>\n",
              "      <th>91</th>\n",
              "      <td>20200701002140</td>\n",
              "      <td>https://ok.ubc.ca/wp-includes/js/jquery/jquery...</td>\n",
              "      <td>jquery-migrate.min.js</td>\n",
              "      <td>js</td>\n",
              "      <td>application/javascript</td>\n",
              "      <td>NaN</td>\n",
              "      <td>d41d8cd98f00b204e9800998ecf8427e</td>\n",
              "      <td>da39a3ee5e6b4b0d3255bfef95601890afd80709</td>\n",
              "      <td>NaN</td>\n",
              "    </tr>\n",
              "    <tr>\n",
              "      <th>128</th>\n",
              "      <td>20200703105118</td>\n",
              "      <td>https://www.ubc.ca/stories/2015-summer/_assets...</td>\n",
              "      <td>share-this.js</td>\n",
              "      <td>js</td>\n",
              "      <td>application/javascript</td>\n",
              "      <td>NaN</td>\n",
              "      <td>d41d8cd98f00b204e9800998ecf8427e</td>\n",
              "      <td>da39a3ee5e6b4b0d3255bfef95601890afd80709</td>\n",
              "      <td>NaN</td>\n",
              "    </tr>\n",
              "    <tr>\n",
              "      <th>...</th>\n",
              "      <td>...</td>\n",
              "      <td>...</td>\n",
              "      <td>...</td>\n",
              "      <td>...</td>\n",
              "      <td>...</td>\n",
              "      <td>...</td>\n",
              "      <td>...</td>\n",
              "      <td>...</td>\n",
              "      <td>...</td>\n",
              "    </tr>\n",
              "    <tr>\n",
              "      <th>82365</th>\n",
              "      <td>20220704155139</td>\n",
              "      <td>https://www.uwo.ca/pridelib/_system/fancybox/j...</td>\n",
              "      <td>jquery.fancybox-1.3.4.pack.js</td>\n",
              "      <td>js</td>\n",
              "      <td>application/javascript</td>\n",
              "      <td>NaN</td>\n",
              "      <td>d41d8cd98f00b204e9800998ecf8427e</td>\n",
              "      <td>da39a3ee5e6b4b0d3255bfef95601890afd80709</td>\n",
              "      <td>NaN</td>\n",
              "    </tr>\n",
              "    <tr>\n",
              "      <th>82366</th>\n",
              "      <td>20220704155148</td>\n",
              "      <td>https://www.uwo.ca/pridelib/_system/fancybox/j...</td>\n",
              "      <td>jquery.easing-1.3.pack.js</td>\n",
              "      <td>js</td>\n",
              "      <td>application/javascript</td>\n",
              "      <td>NaN</td>\n",
              "      <td>d41d8cd98f00b204e9800998ecf8427e</td>\n",
              "      <td>da39a3ee5e6b4b0d3255bfef95601890afd80709</td>\n",
              "      <td>NaN</td>\n",
              "    </tr>\n",
              "    <tr>\n",
              "      <th>82367</th>\n",
              "      <td>20220704155252</td>\n",
              "      <td>https://www.uwo.ca/pridelib/_system/prideFancy...</td>\n",
              "      <td>prideFancyBox.js</td>\n",
              "      <td>js</td>\n",
              "      <td>application/javascript</td>\n",
              "      <td>NaN</td>\n",
              "      <td>d41d8cd98f00b204e9800998ecf8427e</td>\n",
              "      <td>da39a3ee5e6b4b0d3255bfef95601890afd80709</td>\n",
              "      <td>NaN</td>\n",
              "    </tr>\n",
              "    <tr>\n",
              "      <th>82368</th>\n",
              "      <td>20220704155337</td>\n",
              "      <td>https://www.uwo.ca/pridelib/_system/tweet/jque...</td>\n",
              "      <td>jquery.tweet.js</td>\n",
              "      <td>js</td>\n",
              "      <td>application/javascript</td>\n",
              "      <td>NaN</td>\n",
              "      <td>d41d8cd98f00b204e9800998ecf8427e</td>\n",
              "      <td>da39a3ee5e6b4b0d3255bfef95601890afd80709</td>\n",
              "      <td>NaN</td>\n",
              "    </tr>\n",
              "    <tr>\n",
              "      <th>82369</th>\n",
              "      <td>20220704155414</td>\n",
              "      <td>https://www.uwo.ca/pridelib/_system/prideTweet.js</td>\n",
              "      <td>prideTweet.js</td>\n",
              "      <td>js</td>\n",
              "      <td>application/javascript</td>\n",
              "      <td>NaN</td>\n",
              "      <td>d41d8cd98f00b204e9800998ecf8427e</td>\n",
              "      <td>da39a3ee5e6b4b0d3255bfef95601890afd80709</td>\n",
              "      <td>NaN</td>\n",
              "    </tr>\n",
              "  </tbody>\n",
              "</table>\n",
              "<p>61714 rows × 9 columns</p>\n",
              "</div>\n",
              "      <button class=\"colab-df-convert\" onclick=\"convertToInteractive('df-7f97c40f-19b6-40cd-b663-a221f60f6048')\"\n",
              "              title=\"Convert this dataframe to an interactive table.\"\n",
              "              style=\"display:none;\">\n",
              "        \n",
              "  <svg xmlns=\"http://www.w3.org/2000/svg\" height=\"24px\"viewBox=\"0 0 24 24\"\n",
              "       width=\"24px\">\n",
              "    <path d=\"M0 0h24v24H0V0z\" fill=\"none\"/>\n",
              "    <path d=\"M18.56 5.44l.94 2.06.94-2.06 2.06-.94-2.06-.94-.94-2.06-.94 2.06-2.06.94zm-11 1L8.5 8.5l.94-2.06 2.06-.94-2.06-.94L8.5 2.5l-.94 2.06-2.06.94zm10 10l.94 2.06.94-2.06 2.06-.94-2.06-.94-.94-2.06-.94 2.06-2.06.94z\"/><path d=\"M17.41 7.96l-1.37-1.37c-.4-.4-.92-.59-1.43-.59-.52 0-1.04.2-1.43.59L10.3 9.45l-7.72 7.72c-.78.78-.78 2.05 0 2.83L4 21.41c.39.39.9.59 1.41.59.51 0 1.02-.2 1.41-.59l7.78-7.78 2.81-2.81c.8-.78.8-2.07 0-2.86zM5.41 20L4 18.59l7.72-7.72 1.47 1.35L5.41 20z\"/>\n",
              "  </svg>\n",
              "      </button>\n",
              "      \n",
              "  <style>\n",
              "    .colab-df-container {\n",
              "      display:flex;\n",
              "      flex-wrap:wrap;\n",
              "      gap: 12px;\n",
              "    }\n",
              "\n",
              "    .colab-df-convert {\n",
              "      background-color: #E8F0FE;\n",
              "      border: none;\n",
              "      border-radius: 50%;\n",
              "      cursor: pointer;\n",
              "      display: none;\n",
              "      fill: #1967D2;\n",
              "      height: 32px;\n",
              "      padding: 0 0 0 0;\n",
              "      width: 32px;\n",
              "    }\n",
              "\n",
              "    .colab-df-convert:hover {\n",
              "      background-color: #E2EBFA;\n",
              "      box-shadow: 0px 1px 2px rgba(60, 64, 67, 0.3), 0px 1px 3px 1px rgba(60, 64, 67, 0.15);\n",
              "      fill: #174EA6;\n",
              "    }\n",
              "\n",
              "    [theme=dark] .colab-df-convert {\n",
              "      background-color: #3B4455;\n",
              "      fill: #D2E3FC;\n",
              "    }\n",
              "\n",
              "    [theme=dark] .colab-df-convert:hover {\n",
              "      background-color: #434B5C;\n",
              "      box-shadow: 0px 1px 3px 1px rgba(0, 0, 0, 0.15);\n",
              "      filter: drop-shadow(0px 1px 2px rgba(0, 0, 0, 0.3));\n",
              "      fill: #FFFFFF;\n",
              "    }\n",
              "  </style>\n",
              "\n",
              "      <script>\n",
              "        const buttonEl =\n",
              "          document.querySelector('#df-7f97c40f-19b6-40cd-b663-a221f60f6048 button.colab-df-convert');\n",
              "        buttonEl.style.display =\n",
              "          google.colab.kernel.accessAllowed ? 'block' : 'none';\n",
              "\n",
              "        async function convertToInteractive(key) {\n",
              "          const element = document.querySelector('#df-7f97c40f-19b6-40cd-b663-a221f60f6048');\n",
              "          const dataTable =\n",
              "            await google.colab.kernel.invokeFunction('convertToInteractive',\n",
              "                                                     [key], {});\n",
              "          if (!dataTable) return;\n",
              "\n",
              "          const docLinkHtml = 'Like what you see? Visit the ' +\n",
              "            '<a target=\"_blank\" href=https://colab.research.google.com/notebooks/data_table.ipynb>data table notebook</a>'\n",
              "            + ' to learn more about interactive tables.';\n",
              "          element.innerHTML = '';\n",
              "          dataTable['output_type'] = 'display_data';\n",
              "          await google.colab.output.renderOutput(dataTable, element);\n",
              "          const docLink = document.createElement('div');\n",
              "          docLink.innerHTML = docLinkHtml;\n",
              "          element.appendChild(docLink);\n",
              "        }\n",
              "      </script>\n",
              "    </div>\n",
              "  </div>\n",
              "  "
            ]
          },
          "metadata": {},
          "execution_count": 10
        }
      ]
    },
    {
      "cell_type": "markdown",
      "metadata": {
        "id": "GbLLZW2awzCv"
      },
      "source": [
        "### What are the top 10 most occuring filenames in the collection?\n",
        "\n",
        "Note that this is of course different than the MD5 results up above. Here we are focusing _just_ on filename. So `script.min.js ` for example, might actually be referring to different js files who happen to have the same name.\n",
        "\n",
        "Here we can use `value_counts()` again, but this time we'll create a variable for the top filenames so we can use it later.\n",
        "\n"
      ]
    },
    {
      "cell_type": "code",
      "metadata": {
        "colab": {
          "base_uri": "https://localhost:8080/"
        },
        "id": "pQaw54ACkwdZ",
        "outputId": "7e94752c-4ed3-41cb-8762-0c971c7d7d7e"
      },
      "source": [
        "top_filenames = js[\"filename\"].value_counts().head(10)\n",
        "top_filenames"
      ],
      "execution_count": 11,
      "outputs": [
        {
          "output_type": "execute_result",
          "data": {
            "text/plain": [
              "script.min.js         3007\n",
              "jquery.min.js          893\n",
              "drupal.js              678\n",
              "js                     581\n",
              "jquery.once.js         550\n",
              "app.js                 538\n",
              "jquery.js              498\n",
              "superfish.js           491\n",
              "bootstrap.min.js       470\n",
              "ScriptResource.axd     467\n",
              "Name: filename, dtype: int64"
            ]
          },
          "metadata": {},
          "execution_count": 11
        }
      ]
    },
    {
      "cell_type": "markdown",
      "metadata": {
        "id": "Z7F3re20BQRI"
      },
      "source": [
        "### Let's create our first graph!\n",
        "\n",
        "We'll first plot the data with the pandas [plot](https://pandas.pydata.org/docs/reference/api/pandas.Series.plot.html) functionality, and then with [Altair](https://altair-viz.github.io/)."
      ]
    },
    {
      "cell_type": "code",
      "metadata": {
        "colab": {
          "base_uri": "https://localhost:8080/",
          "height": 740
        },
        "id": "sRvlstfsBWEZ",
        "outputId": "b7c69798-598d-427c-8445-f0399131d3ed"
      },
      "source": [
        "top_filenames_chart = top_filenames.plot.bar(figsize=(25, 10))\n",
        "\n",
        "top_filenames_chart.set_title(\"Top Filenames\", fontsize=22)\n",
        "top_filenames_chart.set_xlabel(\"Filename\", fontsize=20)\n",
        "top_filenames_chart.set_ylabel(\"Count\", fontsize=20)"
      ],
      "execution_count": 12,
      "outputs": [
        {
          "output_type": "execute_result",
          "data": {
            "text/plain": [
              "Text(0, 0.5, 'Count')"
            ]
          },
          "metadata": {},
          "execution_count": 12
        },
        {
          "output_type": "display_data",
          "data": {
            "text/plain": [
              "<Figure size 1800x720 with 1 Axes>"
            ],
            "image/png": "[encoded data removed]"
          },
          "metadata": {
            "needs_background": "light"
          }
        }
      ]
    },
    {
      "cell_type": "markdown",
      "metadata": {
        "id": "pQgeOObvgLvK"
      },
      "source": [
        "Now let's setup [Altair](https://altair-viz.github.io/), and plot the data. Altair is useful for creating vizualizations since they can be easily exported as a PNG or SVG."
      ]
    },
    {
      "cell_type": "code",
      "metadata": {
        "id": "Q7Z4J6qjWaVM"
      },
      "source": [
        "import altair as alt"
      ],
      "execution_count": 13,
      "outputs": []
    },
    {
      "cell_type": "code",
      "metadata": {
        "colab": {
          "base_uri": "https://localhost:8080/",
          "height": 867
        },
        "id": "s0xwvILYWkgg",
        "outputId": "adde14e3-f60f-445c-c65e-577139e8886a"
      },
      "source": [
        "top_filenames_altair = (\n",
        "    js[\"filename\"]\n",
        "    .value_counts()\n",
        "    .head(10)\n",
        "    .rename_axis(\"Filename\")\n",
        "    .reset_index(name=\"Count\")\n",
        ")\n",
        "\n",
        "filenames_bar = (\n",
        "    alt.Chart(top_filenames_altair)\n",
        "    .mark_bar()\n",
        "    .encode(x=alt.X(\"Filename:O\", sort=\"-y\"), y=alt.Y(\"Count:Q\"))\n",
        ")\n",
        "\n",
        "filenames_rule = (\n",
        "    alt.Chart(top_filenames_altair).mark_rule(color=\"red\").encode(y=\"mean(Count):Q\")\n",
        ")\n",
        "\n",
        "\n",
        "filenames_text = filenames_bar.mark_text(align=\"center\", baseline=\"bottom\").encode(\n",
        "    text=\"Count:Q\"\n",
        ")\n",
        "\n",
        "(filenames_bar + filenames_rule + filenames_text).properties(\n",
        "    width=1400, height=700, title=\"Top Filenames\"\n",
        ")"
      ],
      "execution_count": 14,
      "outputs": [
        {
          "output_type": "execute_result",
          "data": {
            "text/html": [
              "\n",
              "<div id=\"altair-viz-46506c946c4145e49127ac6f95793e7d\"></div>\n",
              "<script type=\"text/javascript\">\n",
              "  var VEGA_DEBUG = (typeof VEGA_DEBUG == \"undefined\") ? {} : VEGA_DEBUG;\n",
              "  (function(spec, embedOpt){\n",
              "    let outputDiv = document.currentScript.previousElementSibling;\n",
              "    if (outputDiv.id !== \"altair-viz-46506c946c4145e49127ac6f95793e7d\") {\n",
              "      outputDiv = document.getElementById(\"altair-viz-46506c946c4145e49127ac6f95793e7d\");\n",
              "    }\n",
              "    const paths = {\n",
              "      \"vega\": \"https://cdn.jsdelivr.net/npm//vega@5?noext\",\n",
              "      \"vega-lib\": \"https://cdn.jsdelivr.net/npm//vega-lib?noext\",\n",
              "      \"vega-lite\": \"https://cdn.jsdelivr.net/npm//vega-lite@4.17.0?noext\",\n",
              "      \"vega-embed\": \"https://cdn.jsdelivr.net/npm//vega-embed@6?noext\",\n",
              "    };\n",
              "\n",
              "    function maybeLoadScript(lib, version) {\n",
              "      var key = `${lib.replace(\"-\", \"\")}_version`;\n",
              "      return (VEGA_DEBUG[key] == version) ?\n",
              "        Promise.resolve(paths[lib]) :\n",
              "        new Promise(function(resolve, reject) {\n",
              "          var s = document.createElement('script');\n",
              "          document.getElementsByTagName(\"head\")[0].appendChild(s);\n",
              "          s.async = true;\n",
              "          s.onload = () => {\n",
              "            VEGA_DEBUG[key] = version;\n",
              "            return resolve(paths[lib]);\n",
              "          };\n",
              "          s.onerror = () => reject(`Error loading script: ${paths[lib]}`);\n",
              "          s.src = paths[lib];\n",
              "        });\n",
              "    }\n",
              "\n",
              "    function showError(err) {\n",
              "      outputDiv.innerHTML = `<div class=\"error\" style=\"color:red;\">${err}</div>`;\n",
              "      throw err;\n",
              "    }\n",
              "\n",
              "    function displayChart(vegaEmbed) {\n",
              "      vegaEmbed(outputDiv, spec, embedOpt)\n",
              "        .catch(err => showError(`Javascript Error: ${err.message}<br>This usually means there's a typo in your chart specification. See the javascript console for the full traceback.`));\n",
              "    }\n",
              "\n",
              "    if(typeof define === \"function\" && define.amd) {\n",
              "      requirejs.config({paths});\n",
              "      require([\"vega-embed\"], displayChart, err => showError(`Error loading script: ${err.message}`));\n",
              "    } else {\n",
              "      maybeLoadScript(\"vega\", \"5\")\n",
              "        .then(() => maybeLoadScript(\"vega-lite\", \"4.17.0\"))\n",
              "        .then(() => maybeLoadScript(\"vega-embed\", \"6\"))\n",
              "        .catch(showError)\n",
              "        .then(() => displayChart(vegaEmbed));\n",
              "    }\n",
              "  })({\"config\": {\"view\": {\"continuousWidth\": 400, \"continuousHeight\": 300}}, \"layer\": [{\"mark\": \"bar\", \"encoding\": {\"x\": {\"field\": \"Filename\", \"sort\": \"-y\", \"type\": \"ordinal\"}, \"y\": {\"field\": \"Count\", \"type\": \"quantitative\"}}}, {\"mark\": {\"type\": \"rule\", \"color\": \"red\"}, \"encoding\": {\"y\": {\"aggregate\": \"mean\", \"field\": \"Count\", \"type\": \"quantitative\"}}}, {\"mark\": {\"type\": \"text\", \"align\": \"center\", \"baseline\": \"bottom\"}, \"encoding\": {\"text\": {\"field\": \"Count\", \"type\": \"quantitative\"}, \"x\": {\"field\": \"Filename\", \"sort\": \"-y\", \"type\": \"ordinal\"}, \"y\": {\"field\": \"Count\", \"type\": \"quantitative\"}}}], \"data\": {\"name\": \"data-6627e5e98a6e3c57348069a4d8357437\"}, \"height\": 700, \"title\": \"Top Filenames\", \"width\": 1400, \"$schema\": \"https://vega.github.io/schema/vega-lite/v4.17.0.json\", \"datasets\": {\"data-6627e5e98a6e3c57348069a4d8357437\": [{\"Filename\": \"script.min.js\", \"Count\": 3007}, {\"Filename\": \"jquery.min.js\", \"Count\": 893}, {\"Filename\": \"drupal.js\", \"Count\": 678}, {\"Filename\": \"js\", \"Count\": 581}, {\"Filename\": \"jquery.once.js\", \"Count\": 550}, {\"Filename\": \"app.js\", \"Count\": 538}, {\"Filename\": \"jquery.js\", \"Count\": 498}, {\"Filename\": \"superfish.js\", \"Count\": 491}, {\"Filename\": \"bootstrap.min.js\", \"Count\": 470}, {\"Filename\": \"ScriptResource.axd\", \"Count\": 467}]}}, {\"mode\": \"vega-lite\"});\n",
              "</script>"
            ],
            "text/plain": [
              "alt.LayerChart(...)"
            ]
          },
          "metadata": {},
          "execution_count": 14
        }
      ]
    },
    {
      "cell_type": "markdown",
      "metadata": {
        "id": "BneaN9cgGoly"
      },
      "source": [
        "### How about a file format distribution?\n",
        "\n",
        "What _kind_ of js files are present? We can discover this by checking their \"media type\", or [MIME type](https://en.wikipedia.org/wiki/Media_type). \n",
        "\n",
        "\n",
        "\n",
        "\n"
      ]
    },
    {
      "cell_type": "code",
      "metadata": {
        "colab": {
          "base_uri": "https://localhost:8080/",
          "height": 858
        },
        "id": "RDd-J8D-GwDk",
        "outputId": "3324d94f-0ecf-40df-faa4-b666e1f9cf6b"
      },
      "source": [
        "js_mime_types = (\n",
        "    js[\"mime_type_tika\"]\n",
        "    .value_counts()\n",
        "    .head(5)\n",
        "    .rename_axis(\"MIME Type\")\n",
        "    .reset_index(name=\"Count\")\n",
        ")\n",
        "\n",
        "js_mimes_bar = (\n",
        "    alt.Chart(js_mime_types)\n",
        "    .mark_bar()\n",
        "    .encode(x=alt.X(\"MIME Type:O\", sort=\"-y\"), y=alt.Y(\"Count:Q\"))\n",
        ")\n",
        "\n",
        "js_mime_rule = (\n",
        "    alt.Chart(js_mime_types).mark_rule(color=\"red\").encode(y=\"mean(Count):Q\")\n",
        ")\n",
        "\n",
        "js_mime_text = js_mimes_bar.mark_text(align=\"center\", baseline=\"bottom\").encode(\n",
        "    text=\"Count:Q\"\n",
        ")\n",
        "\n",
        "(js_mimes_bar + js_mime_rule + js_mime_text).properties(\n",
        "    width=1400, height=700, title=\"JavaScript File Format Distribution\"\n",
        ")"
      ],
      "execution_count": 15,
      "outputs": [
        {
          "output_type": "execute_result",
          "data": {
            "text/html": [
              "\n",
              "<div id=\"altair-viz-4eb213842acb4bac929ed3adb138cb52\"></div>\n",
              "<script type=\"text/javascript\">\n",
              "  var VEGA_DEBUG = (typeof VEGA_DEBUG == \"undefined\") ? {} : VEGA_DEBUG;\n",
              "  (function(spec, embedOpt){\n",
              "    let outputDiv = document.currentScript.previousElementSibling;\n",
              "    if (outputDiv.id !== \"altair-viz-4eb213842acb4bac929ed3adb138cb52\") {\n",
              "      outputDiv = document.getElementById(\"altair-viz-4eb213842acb4bac929ed3adb138cb52\");\n",
              "    }\n",
              "    const paths = {\n",
              "      \"vega\": \"https://cdn.jsdelivr.net/npm//vega@5?noext\",\n",
              "      \"vega-lib\": \"https://cdn.jsdelivr.net/npm//vega-lib?noext\",\n",
              "      \"vega-lite\": \"https://cdn.jsdelivr.net/npm//vega-lite@4.17.0?noext\",\n",
              "      \"vega-embed\": \"https://cdn.jsdelivr.net/npm//vega-embed@6?noext\",\n",
              "    };\n",
              "\n",
              "    function maybeLoadScript(lib, version) {\n",
              "      var key = `${lib.replace(\"-\", \"\")}_version`;\n",
              "      return (VEGA_DEBUG[key] == version) ?\n",
              "        Promise.resolve(paths[lib]) :\n",
              "        new Promise(function(resolve, reject) {\n",
              "          var s = document.createElement('script');\n",
              "          document.getElementsByTagName(\"head\")[0].appendChild(s);\n",
              "          s.async = true;\n",
              "          s.onload = () => {\n",
              "            VEGA_DEBUG[key] = version;\n",
              "            return resolve(paths[lib]);\n",
              "          };\n",
              "          s.onerror = () => reject(`Error loading script: ${paths[lib]}`);\n",
              "          s.src = paths[lib];\n",
              "        });\n",
              "    }\n",
              "\n",
              "    function showError(err) {\n",
              "      outputDiv.innerHTML = `<div class=\"error\" style=\"color:red;\">${err}</div>`;\n",
              "      throw err;\n",
              "    }\n",
              "\n",
              "    function displayChart(vegaEmbed) {\n",
              "      vegaEmbed(outputDiv, spec, embedOpt)\n",
              "        .catch(err => showError(`Javascript Error: ${err.message}<br>This usually means there's a typo in your chart specification. See the javascript console for the full traceback.`));\n",
              "    }\n",
              "\n",
              "    if(typeof define === \"function\" && define.amd) {\n",
              "      requirejs.config({paths});\n",
              "      require([\"vega-embed\"], displayChart, err => showError(`Error loading script: ${err.message}`));\n",
              "    } else {\n",
              "      maybeLoadScript(\"vega\", \"5\")\n",
              "        .then(() => maybeLoadScript(\"vega-lite\", \"4.17.0\"))\n",
              "        .then(() => maybeLoadScript(\"vega-embed\", \"6\"))\n",
              "        .catch(showError)\n",
              "        .then(() => displayChart(vegaEmbed));\n",
              "    }\n",
              "  })({\"config\": {\"view\": {\"continuousWidth\": 400, \"continuousHeight\": 300}}, \"layer\": [{\"mark\": \"bar\", \"encoding\": {\"x\": {\"field\": \"MIME Type\", \"sort\": \"-y\", \"type\": \"ordinal\"}, \"y\": {\"field\": \"Count\", \"type\": \"quantitative\"}}}, {\"mark\": {\"type\": \"rule\", \"color\": \"red\"}, \"encoding\": {\"y\": {\"aggregate\": \"mean\", \"field\": \"Count\", \"type\": \"quantitative\"}}}, {\"mark\": {\"type\": \"text\", \"align\": \"center\", \"baseline\": \"bottom\"}, \"encoding\": {\"text\": {\"field\": \"Count\", \"type\": \"quantitative\"}, \"x\": {\"field\": \"MIME Type\", \"sort\": \"-y\", \"type\": \"ordinal\"}, \"y\": {\"field\": \"Count\", \"type\": \"quantitative\"}}}], \"data\": {\"name\": \"data-1f82f342736aaccef59e4a2c957072eb\"}, \"height\": 700, \"title\": \"JavaScript File Format Distribution\", \"width\": 1400, \"$schema\": \"https://vega.github.io/schema/vega-lite/v4.17.0.json\", \"datasets\": {\"data-1f82f342736aaccef59e4a2c957072eb\": [{\"MIME Type\": \"text/plain\", \"Count\": 20023}, {\"MIME Type\": \"text/x-matlab\", \"Count\": 439}, {\"MIME Type\": \"text/html\", \"Count\": 146}, {\"MIME Type\": \"application/x-elc\", \"Count\": 47}, {\"MIME Type\": \"message/rfc822\", \"Count\": 1}]}}, {\"mode\": \"vega-lite\"});\n",
              "</script>"
            ],
            "text/plain": [
              "alt.LayerChart(...)"
            ]
          },
          "metadata": {},
          "execution_count": 15
        }
      ]
    },
    {
      "cell_type": "markdown",
      "metadata": {
        "id": "QUJR-jjqNxCL"
      },
      "source": [
        "### How do I get the actual js?\n",
        "\n",
        "...or, how do I get to the actual binary files described by each file format information derivative?\n",
        "\n",
        "There are a few options!\n",
        "\n",
        "1. `wget` or `curl` from the live URL, or a replay URL\n",
        "  * Live web URL\n",
        "    * `wget` or `curl` the value of the `url` column\n",
        "  * Replay web URL\n",
        "    * `wget` or `curl` the value of the `crawl_date` and `url` column using the following pattern:\n",
        "      * `https://web.archive.org/web/` + `crawl_date` + `/` + `url`\n",
        "        * https://web.archive.org/web/20120119124734/http://www.archive.org/images/glogo.png\n",
        "      * `http://wayback.archive-it.org/14462/` + `crawl_date` + `/` + `url`\n",
        "        * https://wayback.archive-it.org/14462/20210524212740/https://ruebot.net/visualization/elxn42/featured_hu33a17dfb90e2c5ed77f783db14a6e53a_5126291_550x0_resize_q90_box_2.png\n",
        "2. Use a scripting language, such as Python\n",
        "  * Make use of the `url` and `filename` columns (and `crawl_date` if you want to use the replay URL)\n",
        "  * `import requests`\n",
        "  * `requests.get(url, allow_redirects=True)`\n",
        "  * `open('filename', 'wb').write(r.content)`\n",
        "3. Use the [Archives Unleashed Toolkit](https://aut.docs.archivesunleashed.org/docs/extract-binary) (if you have access to the W/ARC files)."
      ]
    },
    {
      "cell_type": "markdown",
      "source": [
        "If you wanted to download the js files using the replay URL, below is a method for doing so.\n",
        "\n",
        "First, you'll want to setup a replay url base url. Here we'll use the Archive-It Wayback instance for the collection."
      ],
      "metadata": {
        "id": "8yoFE2xLAlwk"
      }
    },
    {
      "cell_type": "code",
      "source": [
        "wayback_url = 'http://wayback.archive-it.org/89/'"
      ],
      "metadata": {
        "id": "RxrOHn_2AicZ"
      },
      "execution_count": 16,
      "outputs": []
    },
    {
      "cell_type": "markdown",
      "source": [
        "Next we'll create a new column using a lambda function. If you're familiar working with spreadsheets, what we're doing here is basically concatenating some column values together and creating a new column."
      ],
      "metadata": {
        "id": "jCTmrEBGA-Yd"
      }
    },
    {
      "cell_type": "code",
      "source": [
        "js['replay_url'] = js.apply(lambda row: str(wayback_url + str(row['crawl_date']) + \"/\" + row['url']), axis=1)"
      ],
      "metadata": {
        "id": "p5HoWxkFA6C8"
      },
      "execution_count": 17,
      "outputs": []
    },
    {
      "cell_type": "markdown",
      "source": [
        "Then we can export that new column we created out to a file, so we can use it with `wget` to download all the js files!"
      ],
      "metadata": {
        "id": "q87tSYyIBIiZ"
      }
    },
    {
      "cell_type": "code",
      "source": [
        "js['replay_url'].head().to_csv('89_js_urls.txt', index=False, header=False)"
      ],
      "metadata": {
        "id": "wyhpsf9wBN1a"
      },
      "execution_count": 18,
      "outputs": []
    },
    {
      "cell_type": "markdown",
      "source": [
        "Finally, we can pass the file to `wget` to use as a download list. You can also speed this process up using `xargs` or `parallel`."
      ],
      "metadata": {
        "id": "81a3q7feu5Ji"
      }
    },
    {
      "cell_type": "code",
      "source": [
        "!wget --random-wait -i 89_js_urls.txt"
      ],
      "metadata": {
        "colab": {
          "base_uri": "https://localhost:8080/"
        },
        "id": "D_p4qGKoBRaZ",
        "outputId": "9e3d5558-a80a-441b-e0be-0ca352c3bff8"
      },
      "execution_count": 19,
      "outputs": [
        {
          "output_type": "stream",
          "name": "stdout",
          "text": [
            "--2022-11-24 19:35:30--  http://wayback.archive-it.org/89/20200629191711/https://cdnjs.cloudflare.com/ajax/libs/flexslider/2.7.2/jquery.flexslider.min.js\n",
            "Resolving wayback.archive-it.org (wayback.archive-it.org)... 207.241.232.8, 207.241.225.8\n",
            "Connecting to wayback.archive-it.org (wayback.archive-it.org)|207.241.232.8|:80... connected.\n",
            "HTTP request sent, awaiting response... 200 OK\n",
            "Length: unspecified [text/html]\n",
            "Saving to: ‘jquery.flexslider.min.js’\n",
            "\n",
            "jquery.flexslider.m     [ <=>                ]   4.50K  --.-KB/s    in 0s      \n",
            "\n",
            "2022-11-24 19:35:30 (13.7 MB/s) - ‘jquery.flexslider.min.js’ saved [4613]\n",
            "\n",
            "--2022-11-24 19:35:30--  http://wayback.archive-it.org/89/20200629191711/https://www.ualberta.ca/_assets/javascript/framework.js\n",
            "Reusing existing connection to wayback.archive-it.org:80.\n",
            "HTTP request sent, awaiting response... 200 OK\n",
            "Length: unspecified [text/html]\n",
            "Saving to: ‘framework.js’\n",
            "\n",
            "framework.js            [ <=>                ]   4.50K  --.-KB/s    in 0s      \n",
            "\n",
            "2022-11-24 19:35:30 (9.79 MB/s) - ‘framework.js’ saved [4613]\n",
            "\n",
            "--2022-11-24 19:35:30--  http://wayback.archive-it.org/89/20200629191716/https://cdnjs.cloudflare.com/ajax/libs/modernizr/2.8.3/modernizr.min.js\n",
            "Reusing existing connection to wayback.archive-it.org:80.\n",
            "HTTP request sent, awaiting response... 200 OK\n",
            "Length: unspecified [text/html]\n",
            "Saving to: ‘modernizr.min.js’\n",
            "\n",
            "modernizr.min.js        [ <=>                ]   4.50K  --.-KB/s    in 0s      \n",
            "\n",
            "2022-11-24 19:35:30 (8.84 MB/s) - ‘modernizr.min.js’ saved [4613]\n",
            "\n",
            "--2022-11-24 19:35:30--  http://wayback.archive-it.org/89/20200629191723/https://static.hotjar.com/c/hotjar-875447.js?sv=7\n",
            "Reusing existing connection to wayback.archive-it.org:80.\n",
            "HTTP request sent, awaiting response... 200 OK\n",
            "Length: unspecified [text/html]\n",
            "Saving to: ‘hotjar-875447.js?sv=7’\n",
            "\n",
            "hotjar-875447.js?sv     [ <=>                ]   4.50K  --.-KB/s    in 0s      \n",
            "\n",
            "2022-11-24 19:35:31 (9.86 MB/s) - ‘hotjar-875447.js?sv=7’ saved [4613]\n",
            "\n",
            "--2022-11-24 19:35:31--  http://wayback.archive-it.org/89/20200629191725/https://live.clive.cloud/page-views/track/162\n",
            "Reusing existing connection to wayback.archive-it.org:80.\n",
            "HTTP request sent, awaiting response... 200 OK\n",
            "Length: unspecified [text/html]\n",
            "Saving to: ‘162’\n",
            "\n",
            "162                     [ <=>                ]   4.50K  --.-KB/s    in 0.001s  \n",
            "\n",
            "2022-11-24 19:35:34 (8.10 MB/s) - ‘162’ saved [4613]\n",
            "\n",
            "FINISHED --2022-11-24 19:35:34--\n",
            "Total wall clock time: 4.3s\n",
            "Downloaded: 5 files, 23K in 0.002s (9.74 MB/s)\n"
          ]
        }
      ]
    }
  ]
}