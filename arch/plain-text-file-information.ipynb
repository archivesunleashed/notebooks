{
  "nbformat": 4,
  "nbformat_minor": 0,
  "metadata": {
    "colab": {
      "provenance": [],
      "include_colab_link": true
    },
    "kernelspec": {
      "name": "python3",
      "display_name": "Python 3"
    },
    "language_info": {
      "name": "python"
    }
  },
  "cells": [
    {
      "cell_type": "markdown",
      "metadata": {
        "id": "view-in-github",
        "colab_type": "text"
      },
      "source": [
        "<a href=\"https://colab.research.google.com/github/archivesunleashed/notebooks/blob/main/arch/plain-text-file-information.ipynb\" target=\"_parent\"><img src=\"https://colab.research.google.com/assets/colab-badge.svg\" alt=\"Open In Colab\"/></a>"
      ]
    },
    {
      "cell_type": "markdown",
      "source": [
        "# Plain Text Information Dataset Exploration\n",
        "\n",
        "We're going to take a look at a few examples of how we can explore the Plain Text Information dataset. \n",
        "\n",
        "The first thing we need to do is enter the URL for our Plain Text Information dataset in the cell below. You can get this by right clicking the Download icon, and selecting \"Copy Link\"."
      ],
      "metadata": {
        "id": "vAyuRQ2PJIdc"
      }
    },
    {
      "cell_type": "code",
      "source": [
        "dataset = 'https://webdata.archive-it.org/ait/files/download/ARCHIVEIT-14489/TextFilesInformationExtraction/plain-text-file-information.csv.gz?access=EU3YV6KHNYNDTQ6XGAPHZG34NONNSPN7' #@param {type:\"string\"}\n",
        "print(dataset)"
      ],
      "metadata": {
        "colab": {
          "base_uri": "https://localhost:8080/"
        },
        "cellView": "form",
        "id": "RfhJiesWVpAf",
        "outputId": "f8d4be3c-7edc-4324-8854-645d0b3de2ca"
      },
      "execution_count": 1,
      "outputs": [
        {
          "output_type": "stream",
          "name": "stdout",
          "text": [
            "https://webdata.archive-it.org/ait/files/download/ARCHIVEIT-14489/TextFilesInformationExtraction/plain-text-file-information.csv.gz?access=EU3YV6KHNYNDTQ6XGAPHZG34NONNSPN7\n"
          ]
        }
      ]
    },
    {
      "cell_type": "markdown",
      "source": [
        "## pandas\n",
        "\n",
        "Next, we'll setup our environment so we can load our Plain Text Information dataset into [pandas](https://pandas.pydata.org) DataFrames. If you're unfamiliar with DataFrames, but you've worked with plain text before, you should feel comfortable pretty quick."
      ],
      "metadata": {
        "id": "Z14F2cIWJVW0"
      }
    },
    {
      "cell_type": "code",
      "execution_count": 2,
      "metadata": {
        "id": "Chh6tt3HHF1s"
      },
      "outputs": [],
      "source": [
        "import pandas as pd"
      ]
    },
    {
      "cell_type": "markdown",
      "source": [
        "## Data Table Display\n",
        "\n",
        "Colab includes an extension that renders pandas DataFrames into interactive displays that can be filtered, sorted, and explored dynamically. This can be very useful for taking a look at what each DataFrame provides, and doing some intital filtering!\n",
        "\n",
        "Data table display for pandas dataframes can be enabled by running:\n",
        "```python\n",
        "%load_ext google.colab.data_table\n",
        "```\n",
        "and disabled by running\n",
        "```python\n",
        "%unload_ext google.colab.data_table\n",
        "```"
      ],
      "metadata": {
        "id": "sH81XCf3I3xY"
      }
    },
    {
      "cell_type": "code",
      "source": [
        "%load_ext google.colab.data_table"
      ],
      "metadata": {
        "id": "-qyCnbvBI7n6"
      },
      "execution_count": 3,
      "outputs": []
    },
    {
      "cell_type": "markdown",
      "source": [
        "## Loading our ARCH Dataset as a DataFrame\n",
        "\n",
        "---\n",
        "\n",
        "\n",
        "Next, we'll create pandas DataFrame from our dataset, and show a preview of it using the Data Table Display."
      ],
      "metadata": {
        "id": "6prR7j1zI_D5"
      }
    },
    {
      "cell_type": "code",
      "source": [
        "plain_text = pd.read_csv(dataset, compression='gzip')\n",
        "plain_text"
      ],
      "metadata": {
        "colab": {
          "base_uri": "https://localhost:8080/",
          "height": 607
        },
        "id": "YL0LQaUNHRKx",
        "outputId": "0030349f-a2fe-4109-e15d-6441ef786334"
      },
      "execution_count": 4,
      "outputs": [
        {
          "output_type": "stream",
          "name": "stdout",
          "text": [
            "Warning: total number of rows (40801) exceeds max_rows (20000). Falling back to pandas display.\n"
          ]
        },
        {
          "output_type": "execute_result",
          "data": {
            "text/plain": [
              "           crawl_date                                          url  \\\n",
              "0      20200629191639           https://www.ualberta.ca/robots.txt   \n",
              "1      20200629191729           https://code.jquery.com/robots.txt   \n",
              "2      20200629191803    https://cloudfront.ualberta.ca/robots.txt   \n",
              "3      20200629193131       http://feeds.feedburner.com/robots.txt   \n",
              "4      20200629213436          https://apps.ualberta.ca/robots.txt   \n",
              "...               ...                                          ...   \n",
              "40796  20220702192341             http://www.google.com/robots.txt   \n",
              "40797  20220702230032                https://www.uwo.ca/robots.txt   \n",
              "40798  20220703072533                    https://uwo.ca/robots.txt   \n",
              "40799  20220703120206  https://www.google-analytics.com/robots.txt   \n",
              "40800  20220703232635                https://www.uwo.ca/robots.txt   \n",
              "\n",
              "         filename extension mime_type_web_server  mime_type_tika  \\\n",
              "0      robots.txt       eml           text/plain  message/rfc822   \n",
              "1      robots.txt       txt           text/plain      text/plain   \n",
              "2      robots.txt       txt           text/plain      text/plain   \n",
              "3      robots.txt       txt           text/plain      text/plain   \n",
              "4      robots.txt       txt           text/plain      text/plain   \n",
              "...           ...       ...                  ...             ...   \n",
              "40796  robots.txt       txt           text/plain      text/plain   \n",
              "40797  robots.txt       txt           text/plain             NaN   \n",
              "40798  robots.txt       txt           text/plain             NaN   \n",
              "40799  robots.txt       txt           text/plain             NaN   \n",
              "40800  robots.txt       txt           text/plain             NaN   \n",
              "\n",
              "                                    md5  \\\n",
              "0      94a881233d217b7cacb4130efb7a72f7   \n",
              "1      21ea2dba7fbd0eebea9d4a73701a71c0   \n",
              "2      564086741af04a27a837567d7733bbbf   \n",
              "3      7ef28ba52a7c3d04f85556189927c5e9   \n",
              "4      7f14758bc11ba0b09f25fa0ebd6be1e0   \n",
              "...                                 ...   \n",
              "40796  b3375e3308859be561e01733c48fd54b   \n",
              "40797  d41d8cd98f00b204e9800998ecf8427e   \n",
              "40798  d41d8cd98f00b204e9800998ecf8427e   \n",
              "40799  d41d8cd98f00b204e9800998ecf8427e   \n",
              "40800  d41d8cd98f00b204e9800998ecf8427e   \n",
              "\n",
              "                                           sha1  \\\n",
              "0      b2bc2c5967735caf53793689c15c33f3fe01ba15   \n",
              "1      ecb4e0f96af90eeff2cd0b6ab693d9087b58e268   \n",
              "2      48dfe448ecf1970b8f06df0ee170e57f21b2608f   \n",
              "3      b7c8b329d7d7e23504fb5a4496767e20afd1c028   \n",
              "4      1835286935f2d846fb461bb603d42166f783ff1f   \n",
              "...                                         ...   \n",
              "40796  0bf933c19cb94c3be02a24a804cad0a58ad015fe   \n",
              "40797  da39a3ee5e6b4b0d3255bfef95601890afd80709   \n",
              "40798  da39a3ee5e6b4b0d3255bfef95601890afd80709   \n",
              "40799  da39a3ee5e6b4b0d3255bfef95601890afd80709   \n",
              "40800  da39a3ee5e6b4b0d3255bfef95601890afd80709   \n",
              "\n",
              "                                                 content  \n",
              "0      User-Agent: *\\r\\nDisallow: /Components/\\r\\nDis...  \n",
              "1      User-agent: *\\nDisallow: /wp-admin/\\nAllow: /w...  \n",
              "2      User-agent: *\\nAllow: /design/\\r\\nAllow: /-/me...  \n",
              "3                          User-agent: *\\nDisallow: /~a/  \n",
              "4           ﻿User-agent: *\\nDisallow: /catalogue/archive  \n",
              "...                                                  ...  \n",
              "40796  User-agent: *\\nDisallow: /search\\nAllow: /sear...  \n",
              "40797                                                NaN  \n",
              "40798                                                NaN  \n",
              "40799                                                NaN  \n",
              "40800                                                NaN  \n",
              "\n",
              "[40801 rows x 9 columns]"
            ],
            "text/html": [
              "\n",
              "  <div id=\"df-37a43d97-389b-42dd-81f4-a1ff86a26c4f\">\n",
              "    <div class=\"colab-df-container\">\n",
              "      <div>\n",
              "<style scoped>\n",
              "    .dataframe tbody tr th:only-of-type {\n",
              "        vertical-align: middle;\n",
              "    }\n",
              "\n",
              "    .dataframe tbody tr th {\n",
              "        vertical-align: top;\n",
              "    }\n",
              "\n",
              "    .dataframe thead th {\n",
              "        text-align: right;\n",
              "    }\n",
              "</style>\n",
              "<table border=\"1\" class=\"dataframe\">\n",
              "  <thead>\n",
              "    <tr style=\"text-align: right;\">\n",
              "      <th></th>\n",
              "      <th>crawl_date</th>\n",
              "      <th>url</th>\n",
              "      <th>filename</th>\n",
              "      <th>extension</th>\n",
              "      <th>mime_type_web_server</th>\n",
              "      <th>mime_type_tika</th>\n",
              "      <th>md5</th>\n",
              "      <th>sha1</th>\n",
              "      <th>content</th>\n",
              "    </tr>\n",
              "  </thead>\n",
              "  <tbody>\n",
              "    <tr>\n",
              "      <th>0</th>\n",
              "      <td>20200629191639</td>\n",
              "      <td>https://www.ualberta.ca/robots.txt</td>\n",
              "      <td>robots.txt</td>\n",
              "      <td>eml</td>\n",
              "      <td>text/plain</td>\n",
              "      <td>message/rfc822</td>\n",
              "      <td>94a881233d217b7cacb4130efb7a72f7</td>\n",
              "      <td>b2bc2c5967735caf53793689c15c33f3fe01ba15</td>\n",
              "      <td>User-Agent: *\\r\\nDisallow: /Components/\\r\\nDis...</td>\n",
              "    </tr>\n",
              "    <tr>\n",
              "      <th>1</th>\n",
              "      <td>20200629191729</td>\n",
              "      <td>https://code.jquery.com/robots.txt</td>\n",
              "      <td>robots.txt</td>\n",
              "      <td>txt</td>\n",
              "      <td>text/plain</td>\n",
              "      <td>text/plain</td>\n",
              "      <td>21ea2dba7fbd0eebea9d4a73701a71c0</td>\n",
              "      <td>ecb4e0f96af90eeff2cd0b6ab693d9087b58e268</td>\n",
              "      <td>User-agent: *\\nDisallow: /wp-admin/\\nAllow: /w...</td>\n",
              "    </tr>\n",
              "    <tr>\n",
              "      <th>2</th>\n",
              "      <td>20200629191803</td>\n",
              "      <td>https://cloudfront.ualberta.ca/robots.txt</td>\n",
              "      <td>robots.txt</td>\n",
              "      <td>txt</td>\n",
              "      <td>text/plain</td>\n",
              "      <td>text/plain</td>\n",
              "      <td>564086741af04a27a837567d7733bbbf</td>\n",
              "      <td>48dfe448ecf1970b8f06df0ee170e57f21b2608f</td>\n",
              "      <td>User-agent: *\\nAllow: /design/\\r\\nAllow: /-/me...</td>\n",
              "    </tr>\n",
              "    <tr>\n",
              "      <th>3</th>\n",
              "      <td>20200629193131</td>\n",
              "      <td>http://feeds.feedburner.com/robots.txt</td>\n",
              "      <td>robots.txt</td>\n",
              "      <td>txt</td>\n",
              "      <td>text/plain</td>\n",
              "      <td>text/plain</td>\n",
              "      <td>7ef28ba52a7c3d04f85556189927c5e9</td>\n",
              "      <td>b7c8b329d7d7e23504fb5a4496767e20afd1c028</td>\n",
              "      <td>User-agent: *\\nDisallow: /~a/</td>\n",
              "    </tr>\n",
              "    <tr>\n",
              "      <th>4</th>\n",
              "      <td>20200629213436</td>\n",
              "      <td>https://apps.ualberta.ca/robots.txt</td>\n",
              "      <td>robots.txt</td>\n",
              "      <td>txt</td>\n",
              "      <td>text/plain</td>\n",
              "      <td>text/plain</td>\n",
              "      <td>7f14758bc11ba0b09f25fa0ebd6be1e0</td>\n",
              "      <td>1835286935f2d846fb461bb603d42166f783ff1f</td>\n",
              "      <td>﻿User-agent: *\\nDisallow: /catalogue/archive</td>\n",
              "    </tr>\n",
              "    <tr>\n",
              "      <th>...</th>\n",
              "      <td>...</td>\n",
              "      <td>...</td>\n",
              "      <td>...</td>\n",
              "      <td>...</td>\n",
              "      <td>...</td>\n",
              "      <td>...</td>\n",
              "      <td>...</td>\n",
              "      <td>...</td>\n",
              "      <td>...</td>\n",
              "    </tr>\n",
              "    <tr>\n",
              "      <th>40796</th>\n",
              "      <td>20220702192341</td>\n",
              "      <td>http://www.google.com/robots.txt</td>\n",
              "      <td>robots.txt</td>\n",
              "      <td>txt</td>\n",
              "      <td>text/plain</td>\n",
              "      <td>text/plain</td>\n",
              "      <td>b3375e3308859be561e01733c48fd54b</td>\n",
              "      <td>0bf933c19cb94c3be02a24a804cad0a58ad015fe</td>\n",
              "      <td>User-agent: *\\nDisallow: /search\\nAllow: /sear...</td>\n",
              "    </tr>\n",
              "    <tr>\n",
              "      <th>40797</th>\n",
              "      <td>20220702230032</td>\n",
              "      <td>https://www.uwo.ca/robots.txt</td>\n",
              "      <td>robots.txt</td>\n",
              "      <td>txt</td>\n",
              "      <td>text/plain</td>\n",
              "      <td>NaN</td>\n",
              "      <td>d41d8cd98f00b204e9800998ecf8427e</td>\n",
              "      <td>da39a3ee5e6b4b0d3255bfef95601890afd80709</td>\n",
              "      <td>NaN</td>\n",
              "    </tr>\n",
              "    <tr>\n",
              "      <th>40798</th>\n",
              "      <td>20220703072533</td>\n",
              "      <td>https://uwo.ca/robots.txt</td>\n",
              "      <td>robots.txt</td>\n",
              "      <td>txt</td>\n",
              "      <td>text/plain</td>\n",
              "      <td>NaN</td>\n",
              "      <td>d41d8cd98f00b204e9800998ecf8427e</td>\n",
              "      <td>da39a3ee5e6b4b0d3255bfef95601890afd80709</td>\n",
              "      <td>NaN</td>\n",
              "    </tr>\n",
              "    <tr>\n",
              "      <th>40799</th>\n",
              "      <td>20220703120206</td>\n",
              "      <td>https://www.google-analytics.com/robots.txt</td>\n",
              "      <td>robots.txt</td>\n",
              "      <td>txt</td>\n",
              "      <td>text/plain</td>\n",
              "      <td>NaN</td>\n",
              "      <td>d41d8cd98f00b204e9800998ecf8427e</td>\n",
              "      <td>da39a3ee5e6b4b0d3255bfef95601890afd80709</td>\n",
              "      <td>NaN</td>\n",
              "    </tr>\n",
              "    <tr>\n",
              "      <th>40800</th>\n",
              "      <td>20220703232635</td>\n",
              "      <td>https://www.uwo.ca/robots.txt</td>\n",
              "      <td>robots.txt</td>\n",
              "      <td>txt</td>\n",
              "      <td>text/plain</td>\n",
              "      <td>NaN</td>\n",
              "      <td>d41d8cd98f00b204e9800998ecf8427e</td>\n",
              "      <td>da39a3ee5e6b4b0d3255bfef95601890afd80709</td>\n",
              "      <td>NaN</td>\n",
              "    </tr>\n",
              "  </tbody>\n",
              "</table>\n",
              "<p>40801 rows × 9 columns</p>\n",
              "</div>\n",
              "      <button class=\"colab-df-convert\" onclick=\"convertToInteractive('df-37a43d97-389b-42dd-81f4-a1ff86a26c4f')\"\n",
              "              title=\"Convert this dataframe to an interactive table.\"\n",
              "              style=\"display:none;\">\n",
              "        \n",
              "  <svg xmlns=\"http://www.w3.org/2000/svg\" height=\"24px\"viewBox=\"0 0 24 24\"\n",
              "       width=\"24px\">\n",
              "    <path d=\"M0 0h24v24H0V0z\" fill=\"none\"/>\n",
              "    <path d=\"M18.56 5.44l.94 2.06.94-2.06 2.06-.94-2.06-.94-.94-2.06-.94 2.06-2.06.94zm-11 1L8.5 8.5l.94-2.06 2.06-.94-2.06-.94L8.5 2.5l-.94 2.06-2.06.94zm10 10l.94 2.06.94-2.06 2.06-.94-2.06-.94-.94-2.06-.94 2.06-2.06.94z\"/><path d=\"M17.41 7.96l-1.37-1.37c-.4-.4-.92-.59-1.43-.59-.52 0-1.04.2-1.43.59L10.3 9.45l-7.72 7.72c-.78.78-.78 2.05 0 2.83L4 21.41c.39.39.9.59 1.41.59.51 0 1.02-.2 1.41-.59l7.78-7.78 2.81-2.81c.8-.78.8-2.07 0-2.86zM5.41 20L4 18.59l7.72-7.72 1.47 1.35L5.41 20z\"/>\n",
              "  </svg>\n",
              "      </button>\n",
              "      \n",
              "  <style>\n",
              "    .colab-df-container {\n",
              "      display:flex;\n",
              "      flex-wrap:wrap;\n",
              "      gap: 12px;\n",
              "    }\n",
              "\n",
              "    .colab-df-convert {\n",
              "      background-color: #E8F0FE;\n",
              "      border: none;\n",
              "      border-radius: 50%;\n",
              "      cursor: pointer;\n",
              "      display: none;\n",
              "      fill: #1967D2;\n",
              "      height: 32px;\n",
              "      padding: 0 0 0 0;\n",
              "      width: 32px;\n",
              "    }\n",
              "\n",
              "    .colab-df-convert:hover {\n",
              "      background-color: #E2EBFA;\n",
              "      box-shadow: 0px 1px 2px rgba(60, 64, 67, 0.3), 0px 1px 3px 1px rgba(60, 64, 67, 0.15);\n",
              "      fill: #174EA6;\n",
              "    }\n",
              "\n",
              "    [theme=dark] .colab-df-convert {\n",
              "      background-color: #3B4455;\n",
              "      fill: #D2E3FC;\n",
              "    }\n",
              "\n",
              "    [theme=dark] .colab-df-convert:hover {\n",
              "      background-color: #434B5C;\n",
              "      box-shadow: 0px 1px 3px 1px rgba(0, 0, 0, 0.15);\n",
              "      filter: drop-shadow(0px 1px 2px rgba(0, 0, 0, 0.3));\n",
              "      fill: #FFFFFF;\n",
              "    }\n",
              "  </style>\n",
              "\n",
              "      <script>\n",
              "        const buttonEl =\n",
              "          document.querySelector('#df-37a43d97-389b-42dd-81f4-a1ff86a26c4f button.colab-df-convert');\n",
              "        buttonEl.style.display =\n",
              "          google.colab.kernel.accessAllowed ? 'block' : 'none';\n",
              "\n",
              "        async function convertToInteractive(key) {\n",
              "          const element = document.querySelector('#df-37a43d97-389b-42dd-81f4-a1ff86a26c4f');\n",
              "          const dataTable =\n",
              "            await google.colab.kernel.invokeFunction('convertToInteractive',\n",
              "                                                     [key], {});\n",
              "          if (!dataTable) return;\n",
              "\n",
              "          const docLinkHtml = 'Like what you see? Visit the ' +\n",
              "            '<a target=\"_blank\" href=https://colab.research.google.com/notebooks/data_table.ipynb>data table notebook</a>'\n",
              "            + ' to learn more about interactive tables.';\n",
              "          element.innerHTML = '';\n",
              "          dataTable['output_type'] = 'display_data';\n",
              "          await google.colab.output.renderOutput(dataTable, element);\n",
              "          const docLink = document.createElement('div');\n",
              "          docLink.innerHTML = docLinkHtml;\n",
              "          element.appendChild(docLink);\n",
              "        }\n",
              "      </script>\n",
              "    </div>\n",
              "  </div>\n",
              "  "
            ]
          },
          "metadata": {},
          "execution_count": 4
        }
      ]
    },
    {
      "cell_type": "markdown",
      "metadata": {
        "id": "3HPwOCNAvqMe"
      },
      "source": [
        "# Data Analysis\n",
        "\n",
        "Now that we have all of our datasets loaded up, we can begin to work with them!"
      ]
    },
    {
      "cell_type": "markdown",
      "metadata": {
        "id": "J6Pkg0prv3BE"
      },
      "source": [
        "## Counting total files, and unique files\n",
        "\n",
        "Let's take a quick look at how to count items in DataFrames, and use total and unique files as an example to work with.\n",
        "\n",
        "It's definitely work checking out the [pandas documentation](https://pandas.pydata.org/docs/index.html). There are a lot of good examples available, along with a robust [API reference](https://pandas.pydata.org/docs/reference/index.html#api)."
      ]
    },
    {
      "cell_type": "markdown",
      "metadata": {
        "id": "DFX4Gl3wv7bi"
      },
      "source": [
        "\n",
        "### How many plain text files are in this collection?\n",
        "\n",
        "We can take our `plain text` variable try a couple of functions to get the same answer.\n",
        "\n",
        "1.   `len(plain text.index)`\n",
        "  * Get the length of the DataFrame's index.\n",
        "2.   `plain text.shape[0]`\n",
        "  * Get the shape or dimensionality of the DataFrame, and take the first item in the tuple.\n",
        "3.  `plain text.count()`\n",
        "  * Count the number of rows for each column.\n",
        "\n"
      ]
    },
    {
      "cell_type": "code",
      "metadata": {
        "colab": {
          "base_uri": "https://localhost:8080/"
        },
        "id": "HTv8Oet3jiTH",
        "outputId": "6b79406f-37cd-4cad-c3ad-1a340d2505d8"
      },
      "source": [
        "len(plain_text.index)"
      ],
      "execution_count": 5,
      "outputs": [
        {
          "output_type": "execute_result",
          "data": {
            "text/plain": [
              "40801"
            ]
          },
          "metadata": {},
          "execution_count": 5
        }
      ]
    },
    {
      "cell_type": "code",
      "metadata": {
        "colab": {
          "base_uri": "https://localhost:8080/"
        },
        "id": "6rYEERnTjifk",
        "outputId": "8eeb3f85-fe96-4bb0-b6cb-d4f74cc37b03"
      },
      "source": [
        "plain_text.shape[0]"
      ],
      "execution_count": 6,
      "outputs": [
        {
          "output_type": "execute_result",
          "data": {
            "text/plain": [
              "40801"
            ]
          },
          "metadata": {},
          "execution_count": 6
        }
      ]
    },
    {
      "cell_type": "code",
      "metadata": {
        "colab": {
          "base_uri": "https://localhost:8080/"
        },
        "id": "bn-1v127aKIG",
        "outputId": "d2d520d7-fd70-4cbc-e74b-59dc8a02b90a"
      },
      "source": [
        "plain_text.count()"
      ],
      "execution_count": 7,
      "outputs": [
        {
          "output_type": "execute_result",
          "data": {
            "text/plain": [
              "crawl_date              40673\n",
              "url                     40622\n",
              "filename                40587\n",
              "extension               40622\n",
              "mime_type_web_server    40622\n",
              "mime_type_tika          16815\n",
              "md5                     40622\n",
              "sha1                    40622\n",
              "content                 16815\n",
              "dtype: int64"
            ]
          },
          "metadata": {},
          "execution_count": 7
        }
      ]
    },
    {
      "cell_type": "markdown",
      "metadata": {
        "id": "38veKiPhwKo4"
      },
      "source": [
        "### How many unique plain text files are in the collection?\n",
        "\n",
        " We can see if an plain text files is unique or not by computing an [MD5 hash](https://en.wikipedia.org/wiki/MD5#MD5_hashes) of it, and comparing them. The exact same plain text file might have a filename of `example.jpg` or `foo.jpg`. If the hash is computed for each, we can see that even with different file names, they are actually the same plain text file. So, since we have both a `MD5` and `SHA1` hash column available in our DataFrame, we can just find the unique values, and count them!\n",
        "\n",
        "\n"
      ]
    },
    {
      "cell_type": "code",
      "metadata": {
        "colab": {
          "base_uri": "https://localhost:8080/"
        },
        "id": "WesM3kQowM5B",
        "outputId": "1bb6cfa1-dd83-4977-c628-95387b29de18"
      },
      "source": [
        "len(plain_text.md5.unique())"
      ],
      "execution_count": 8,
      "outputs": [
        {
          "output_type": "execute_result",
          "data": {
            "text/plain": [
              "15801"
            ]
          },
          "metadata": {},
          "execution_count": 8
        }
      ]
    },
    {
      "cell_type": "markdown",
      "metadata": {
        "id": "ZIXkI0-1wWQf"
      },
      "source": [
        "### What are the top 10 most occurring plain text files in the collection?\n",
        "\n",
        "Here we can take advantage of [`value_counts()`](https://pandas.pydata.org/docs/reference/api/pandas.DataFrame.value_counts.html) to provide us with a list of MD5 hashes, and their respective counts."
      ]
    },
    {
      "cell_type": "code",
      "metadata": {
        "colab": {
          "base_uri": "https://localhost:8080/"
        },
        "id": "8Ts03OFyjPIM",
        "outputId": "c8b3982c-da46-47d3-a6f3-abebd5aa91bd"
      },
      "source": [
        "plain_text[\"md5\"].value_counts().head(10)"
      ],
      "execution_count": 9,
      "outputs": [
        {
          "output_type": "execute_result",
          "data": {
            "text/plain": [
              "d41d8cd98f00b204e9800998ecf8427e    23807\n",
              "f71d20196d4caf35b6a670db8c70b03d       16\n",
              "d3b8d8cde26b65f660ff8f8b0879ee94       15\n",
              "21ea2dba7fbd0eebea9d4a73701a71c0       14\n",
              "a8644bee1eb0e268930450ebd2da94a7       11\n",
              "96a33c0a63ffe7fd681d419ca495f7d1       10\n",
              "22aa23a69764a92ed7ee0f2ed3ace4eb       10\n",
              "ce7b19ac9a36535608fdcb41a64510ca       10\n",
              "301f7ecc36e969e649a9152bc9e24172        8\n",
              "97161b1fa79bb875345826d2720d677f        8\n",
              "Name: md5, dtype: int64"
            ]
          },
          "metadata": {},
          "execution_count": 9
        }
      ]
    },
    {
      "cell_type": "markdown",
      "metadata": {
        "id": "FG7pGZUEwlaI"
      },
      "source": [
        "\n",
        "### What's the information around all of the occurances of `d41d8cd98f00b204e9800998ecf8427e`?\n",
        "\n",
        "What, you mean you don't know what `d41d8cd98f00b204e9800998ecf8427e` means? \n",
        "\n",
        "Let's find those plain text files in the DataFrame. We can here see some of the filenames used and information about them.\n"
      ]
    },
    {
      "cell_type": "code",
      "metadata": {
        "colab": {
          "base_uri": "https://localhost:8080/",
          "height": 441
        },
        "id": "msmmm65lkSIK",
        "outputId": "a5729448-1810-44c0-cc48-7276e39493ef"
      },
      "source": [
        "plain_text.loc[plain_text[\"md5\"] == \"d41d8cd98f00b204e9800998ecf8427e\"]"
      ],
      "execution_count": 10,
      "outputs": [
        {
          "output_type": "stream",
          "name": "stdout",
          "text": [
            "Warning: total number of rows (23807) exceeds max_rows (20000). Falling back to pandas display.\n"
          ]
        },
        {
          "output_type": "execute_result",
          "data": {
            "text/plain": [
              "           crawl_date                                            url  \\\n",
              "12     20200630192843             https://www.ualberta.ca/robots.txt   \n",
              "13     20200630222426  http://www.gradstudies.ualberta.ca/robots.txt   \n",
              "14     20200701151236      https://cloudfront.ualberta.ca/robots.txt   \n",
              "15     20200701195549             https://www.ualberta.ca/robots.txt   \n",
              "16     20200702173313      https://cloudfront.ualberta.ca/robots.txt   \n",
              "...               ...                                            ...   \n",
              "40795  20220702120220                     http://tndms.ca/robots.txt   \n",
              "40797  20220702230032                  https://www.uwo.ca/robots.txt   \n",
              "40798  20220703072533                      https://uwo.ca/robots.txt   \n",
              "40799  20220703120206    https://www.google-analytics.com/robots.txt   \n",
              "40800  20220703232635                  https://www.uwo.ca/robots.txt   \n",
              "\n",
              "         filename extension mime_type_web_server mime_type_tika  \\\n",
              "12     robots.txt       txt           text/plain            NaN   \n",
              "13     robots.txt       txt           text/plain            NaN   \n",
              "14     robots.txt       txt           text/plain            NaN   \n",
              "15     robots.txt       txt           text/plain            NaN   \n",
              "16     robots.txt       txt           text/plain            NaN   \n",
              "...           ...       ...                  ...            ...   \n",
              "40795  robots.txt       txt           text/plain            NaN   \n",
              "40797  robots.txt       txt           text/plain            NaN   \n",
              "40798  robots.txt       txt           text/plain            NaN   \n",
              "40799  robots.txt       txt           text/plain            NaN   \n",
              "40800  robots.txt       txt           text/plain            NaN   \n",
              "\n",
              "                                    md5  \\\n",
              "12     d41d8cd98f00b204e9800998ecf8427e   \n",
              "13     d41d8cd98f00b204e9800998ecf8427e   \n",
              "14     d41d8cd98f00b204e9800998ecf8427e   \n",
              "15     d41d8cd98f00b204e9800998ecf8427e   \n",
              "16     d41d8cd98f00b204e9800998ecf8427e   \n",
              "...                                 ...   \n",
              "40795  d41d8cd98f00b204e9800998ecf8427e   \n",
              "40797  d41d8cd98f00b204e9800998ecf8427e   \n",
              "40798  d41d8cd98f00b204e9800998ecf8427e   \n",
              "40799  d41d8cd98f00b204e9800998ecf8427e   \n",
              "40800  d41d8cd98f00b204e9800998ecf8427e   \n",
              "\n",
              "                                           sha1 content  \n",
              "12     da39a3ee5e6b4b0d3255bfef95601890afd80709     NaN  \n",
              "13     da39a3ee5e6b4b0d3255bfef95601890afd80709     NaN  \n",
              "14     da39a3ee5e6b4b0d3255bfef95601890afd80709     NaN  \n",
              "15     da39a3ee5e6b4b0d3255bfef95601890afd80709     NaN  \n",
              "16     da39a3ee5e6b4b0d3255bfef95601890afd80709     NaN  \n",
              "...                                         ...     ...  \n",
              "40795  da39a3ee5e6b4b0d3255bfef95601890afd80709     NaN  \n",
              "40797  da39a3ee5e6b4b0d3255bfef95601890afd80709     NaN  \n",
              "40798  da39a3ee5e6b4b0d3255bfef95601890afd80709     NaN  \n",
              "40799  da39a3ee5e6b4b0d3255bfef95601890afd80709     NaN  \n",
              "40800  da39a3ee5e6b4b0d3255bfef95601890afd80709     NaN  \n",
              "\n",
              "[23807 rows x 9 columns]"
            ],
            "text/html": [
              "\n",
              "  <div id=\"df-c8efa193-dfed-4e2e-bf94-907244a65d1b\">\n",
              "    <div class=\"colab-df-container\">\n",
              "      <div>\n",
              "<style scoped>\n",
              "    .dataframe tbody tr th:only-of-type {\n",
              "        vertical-align: middle;\n",
              "    }\n",
              "\n",
              "    .dataframe tbody tr th {\n",
              "        vertical-align: top;\n",
              "    }\n",
              "\n",
              "    .dataframe thead th {\n",
              "        text-align: right;\n",
              "    }\n",
              "</style>\n",
              "<table border=\"1\" class=\"dataframe\">\n",
              "  <thead>\n",
              "    <tr style=\"text-align: right;\">\n",
              "      <th></th>\n",
              "      <th>crawl_date</th>\n",
              "      <th>url</th>\n",
              "      <th>filename</th>\n",
              "      <th>extension</th>\n",
              "      <th>mime_type_web_server</th>\n",
              "      <th>mime_type_tika</th>\n",
              "      <th>md5</th>\n",
              "      <th>sha1</th>\n",
              "      <th>content</th>\n",
              "    </tr>\n",
              "  </thead>\n",
              "  <tbody>\n",
              "    <tr>\n",
              "      <th>12</th>\n",
              "      <td>20200630192843</td>\n",
              "      <td>https://www.ualberta.ca/robots.txt</td>\n",
              "      <td>robots.txt</td>\n",
              "      <td>txt</td>\n",
              "      <td>text/plain</td>\n",
              "      <td>NaN</td>\n",
              "      <td>d41d8cd98f00b204e9800998ecf8427e</td>\n",
              "      <td>da39a3ee5e6b4b0d3255bfef95601890afd80709</td>\n",
              "      <td>NaN</td>\n",
              "    </tr>\n",
              "    <tr>\n",
              "      <th>13</th>\n",
              "      <td>20200630222426</td>\n",
              "      <td>http://www.gradstudies.ualberta.ca/robots.txt</td>\n",
              "      <td>robots.txt</td>\n",
              "      <td>txt</td>\n",
              "      <td>text/plain</td>\n",
              "      <td>NaN</td>\n",
              "      <td>d41d8cd98f00b204e9800998ecf8427e</td>\n",
              "      <td>da39a3ee5e6b4b0d3255bfef95601890afd80709</td>\n",
              "      <td>NaN</td>\n",
              "    </tr>\n",
              "    <tr>\n",
              "      <th>14</th>\n",
              "      <td>20200701151236</td>\n",
              "      <td>https://cloudfront.ualberta.ca/robots.txt</td>\n",
              "      <td>robots.txt</td>\n",
              "      <td>txt</td>\n",
              "      <td>text/plain</td>\n",
              "      <td>NaN</td>\n",
              "      <td>d41d8cd98f00b204e9800998ecf8427e</td>\n",
              "      <td>da39a3ee5e6b4b0d3255bfef95601890afd80709</td>\n",
              "      <td>NaN</td>\n",
              "    </tr>\n",
              "    <tr>\n",
              "      <th>15</th>\n",
              "      <td>20200701195549</td>\n",
              "      <td>https://www.ualberta.ca/robots.txt</td>\n",
              "      <td>robots.txt</td>\n",
              "      <td>txt</td>\n",
              "      <td>text/plain</td>\n",
              "      <td>NaN</td>\n",
              "      <td>d41d8cd98f00b204e9800998ecf8427e</td>\n",
              "      <td>da39a3ee5e6b4b0d3255bfef95601890afd80709</td>\n",
              "      <td>NaN</td>\n",
              "    </tr>\n",
              "    <tr>\n",
              "      <th>16</th>\n",
              "      <td>20200702173313</td>\n",
              "      <td>https://cloudfront.ualberta.ca/robots.txt</td>\n",
              "      <td>robots.txt</td>\n",
              "      <td>txt</td>\n",
              "      <td>text/plain</td>\n",
              "      <td>NaN</td>\n",
              "      <td>d41d8cd98f00b204e9800998ecf8427e</td>\n",
              "      <td>da39a3ee5e6b4b0d3255bfef95601890afd80709</td>\n",
              "      <td>NaN</td>\n",
              "    </tr>\n",
              "    <tr>\n",
              "      <th>...</th>\n",
              "      <td>...</td>\n",
              "      <td>...</td>\n",
              "      <td>...</td>\n",
              "      <td>...</td>\n",
              "      <td>...</td>\n",
              "      <td>...</td>\n",
              "      <td>...</td>\n",
              "      <td>...</td>\n",
              "      <td>...</td>\n",
              "    </tr>\n",
              "    <tr>\n",
              "      <th>40795</th>\n",
              "      <td>20220702120220</td>\n",
              "      <td>http://tndms.ca/robots.txt</td>\n",
              "      <td>robots.txt</td>\n",
              "      <td>txt</td>\n",
              "      <td>text/plain</td>\n",
              "      <td>NaN</td>\n",
              "      <td>d41d8cd98f00b204e9800998ecf8427e</td>\n",
              "      <td>da39a3ee5e6b4b0d3255bfef95601890afd80709</td>\n",
              "      <td>NaN</td>\n",
              "    </tr>\n",
              "    <tr>\n",
              "      <th>40797</th>\n",
              "      <td>20220702230032</td>\n",
              "      <td>https://www.uwo.ca/robots.txt</td>\n",
              "      <td>robots.txt</td>\n",
              "      <td>txt</td>\n",
              "      <td>text/plain</td>\n",
              "      <td>NaN</td>\n",
              "      <td>d41d8cd98f00b204e9800998ecf8427e</td>\n",
              "      <td>da39a3ee5e6b4b0d3255bfef95601890afd80709</td>\n",
              "      <td>NaN</td>\n",
              "    </tr>\n",
              "    <tr>\n",
              "      <th>40798</th>\n",
              "      <td>20220703072533</td>\n",
              "      <td>https://uwo.ca/robots.txt</td>\n",
              "      <td>robots.txt</td>\n",
              "      <td>txt</td>\n",
              "      <td>text/plain</td>\n",
              "      <td>NaN</td>\n",
              "      <td>d41d8cd98f00b204e9800998ecf8427e</td>\n",
              "      <td>da39a3ee5e6b4b0d3255bfef95601890afd80709</td>\n",
              "      <td>NaN</td>\n",
              "    </tr>\n",
              "    <tr>\n",
              "      <th>40799</th>\n",
              "      <td>20220703120206</td>\n",
              "      <td>https://www.google-analytics.com/robots.txt</td>\n",
              "      <td>robots.txt</td>\n",
              "      <td>txt</td>\n",
              "      <td>text/plain</td>\n",
              "      <td>NaN</td>\n",
              "      <td>d41d8cd98f00b204e9800998ecf8427e</td>\n",
              "      <td>da39a3ee5e6b4b0d3255bfef95601890afd80709</td>\n",
              "      <td>NaN</td>\n",
              "    </tr>\n",
              "    <tr>\n",
              "      <th>40800</th>\n",
              "      <td>20220703232635</td>\n",
              "      <td>https://www.uwo.ca/robots.txt</td>\n",
              "      <td>robots.txt</td>\n",
              "      <td>txt</td>\n",
              "      <td>text/plain</td>\n",
              "      <td>NaN</td>\n",
              "      <td>d41d8cd98f00b204e9800998ecf8427e</td>\n",
              "      <td>da39a3ee5e6b4b0d3255bfef95601890afd80709</td>\n",
              "      <td>NaN</td>\n",
              "    </tr>\n",
              "  </tbody>\n",
              "</table>\n",
              "<p>23807 rows × 9 columns</p>\n",
              "</div>\n",
              "      <button class=\"colab-df-convert\" onclick=\"convertToInteractive('df-c8efa193-dfed-4e2e-bf94-907244a65d1b')\"\n",
              "              title=\"Convert this dataframe to an interactive table.\"\n",
              "              style=\"display:none;\">\n",
              "        \n",
              "  <svg xmlns=\"http://www.w3.org/2000/svg\" height=\"24px\"viewBox=\"0 0 24 24\"\n",
              "       width=\"24px\">\n",
              "    <path d=\"M0 0h24v24H0V0z\" fill=\"none\"/>\n",
              "    <path d=\"M18.56 5.44l.94 2.06.94-2.06 2.06-.94-2.06-.94-.94-2.06-.94 2.06-2.06.94zm-11 1L8.5 8.5l.94-2.06 2.06-.94-2.06-.94L8.5 2.5l-.94 2.06-2.06.94zm10 10l.94 2.06.94-2.06 2.06-.94-2.06-.94-.94-2.06-.94 2.06-2.06.94z\"/><path d=\"M17.41 7.96l-1.37-1.37c-.4-.4-.92-.59-1.43-.59-.52 0-1.04.2-1.43.59L10.3 9.45l-7.72 7.72c-.78.78-.78 2.05 0 2.83L4 21.41c.39.39.9.59 1.41.59.51 0 1.02-.2 1.41-.59l7.78-7.78 2.81-2.81c.8-.78.8-2.07 0-2.86zM5.41 20L4 18.59l7.72-7.72 1.47 1.35L5.41 20z\"/>\n",
              "  </svg>\n",
              "      </button>\n",
              "      \n",
              "  <style>\n",
              "    .colab-df-container {\n",
              "      display:flex;\n",
              "      flex-wrap:wrap;\n",
              "      gap: 12px;\n",
              "    }\n",
              "\n",
              "    .colab-df-convert {\n",
              "      background-color: #E8F0FE;\n",
              "      border: none;\n",
              "      border-radius: 50%;\n",
              "      cursor: pointer;\n",
              "      display: none;\n",
              "      fill: #1967D2;\n",
              "      height: 32px;\n",
              "      padding: 0 0 0 0;\n",
              "      width: 32px;\n",
              "    }\n",
              "\n",
              "    .colab-df-convert:hover {\n",
              "      background-color: #E2EBFA;\n",
              "      box-shadow: 0px 1px 2px rgba(60, 64, 67, 0.3), 0px 1px 3px 1px rgba(60, 64, 67, 0.15);\n",
              "      fill: #174EA6;\n",
              "    }\n",
              "\n",
              "    [theme=dark] .colab-df-convert {\n",
              "      background-color: #3B4455;\n",
              "      fill: #D2E3FC;\n",
              "    }\n",
              "\n",
              "    [theme=dark] .colab-df-convert:hover {\n",
              "      background-color: #434B5C;\n",
              "      box-shadow: 0px 1px 3px 1px rgba(0, 0, 0, 0.15);\n",
              "      filter: drop-shadow(0px 1px 2px rgba(0, 0, 0, 0.3));\n",
              "      fill: #FFFFFF;\n",
              "    }\n",
              "  </style>\n",
              "\n",
              "      <script>\n",
              "        const buttonEl =\n",
              "          document.querySelector('#df-c8efa193-dfed-4e2e-bf94-907244a65d1b button.colab-df-convert');\n",
              "        buttonEl.style.display =\n",
              "          google.colab.kernel.accessAllowed ? 'block' : 'none';\n",
              "\n",
              "        async function convertToInteractive(key) {\n",
              "          const element = document.querySelector('#df-c8efa193-dfed-4e2e-bf94-907244a65d1b');\n",
              "          const dataTable =\n",
              "            await google.colab.kernel.invokeFunction('convertToInteractive',\n",
              "                                                     [key], {});\n",
              "          if (!dataTable) return;\n",
              "\n",
              "          const docLinkHtml = 'Like what you see? Visit the ' +\n",
              "            '<a target=\"_blank\" href=https://colab.research.google.com/notebooks/data_table.ipynb>data table notebook</a>'\n",
              "            + ' to learn more about interactive tables.';\n",
              "          element.innerHTML = '';\n",
              "          dataTable['output_type'] = 'display_data';\n",
              "          await google.colab.output.renderOutput(dataTable, element);\n",
              "          const docLink = document.createElement('div');\n",
              "          docLink.innerHTML = docLinkHtml;\n",
              "          element.appendChild(docLink);\n",
              "        }\n",
              "      </script>\n",
              "    </div>\n",
              "  </div>\n",
              "  "
            ]
          },
          "metadata": {},
          "execution_count": 10
        }
      ]
    },
    {
      "cell_type": "markdown",
      "metadata": {
        "id": "GbLLZW2awzCv"
      },
      "source": [
        "### What are the top 10 most occuring filenames in the collection?\n",
        "\n",
        "Note that this is of course different than the MD5 results up above. Here we are focusing _just_ on filename. So `robots.txt` for example, might actually be referring to different plain text files who happen to have the same name.\n",
        "\n",
        "Here we can use `value_counts()` again, but this time we'll create a variable for the top filenames so we can use it later.\n",
        "\n"
      ]
    },
    {
      "cell_type": "code",
      "metadata": {
        "colab": {
          "base_uri": "https://localhost:8080/"
        },
        "id": "pQaw54ACkwdZ",
        "outputId": "2a3edaf2-7c7b-4312-fd36-644edd7d10c3"
      },
      "source": [
        "top_filenames = plain_text[\"filename\"].value_counts().head(10)\n",
        "top_filenames"
      ],
      "execution_count": 11,
      "outputs": [
        {
          "output_type": "execute_result",
          "data": {
            "text/plain": [
              "robots.txt                            13960\n",
              "Release                                1152\n",
              "Packages                                892\n",
              "Packages.gz                             890\n",
              "site.webmanifest                        191\n",
              "Sources.gz                              164\n",
              "glyphicons-halflings-regular.woff2      133\n",
              "proximanova-light-webfont.woff2         122\n",
              "proximanova-regular-webfont.woff2       122\n",
              "proximanova-semibold-webfont.woff2      122\n",
              "Name: filename, dtype: int64"
            ]
          },
          "metadata": {},
          "execution_count": 11
        }
      ]
    },
    {
      "cell_type": "markdown",
      "metadata": {
        "id": "Z7F3re20BQRI"
      },
      "source": [
        "### Let's create our first graph!\n",
        "\n",
        "We'll plot the data first with pandas [plot](https://pandas.pydata.org/docs/reference/api/pandas.Series.plot.html) functionality, and then plot the data with [Altair](https://altair-viz.github.io/)."
      ]
    },
    {
      "cell_type": "code",
      "metadata": {
        "colab": {
          "base_uri": "https://localhost:8080/",
          "height": 832
        },
        "id": "sRvlstfsBWEZ",
        "outputId": "5fed09e2-1f26-4e86-c3df-9af1e06ebd94"
      },
      "source": [
        "top_filenames_chart = top_filenames.plot.bar(figsize=(25, 10))\n",
        "\n",
        "top_filenames_chart.set_title(\"Top Filenames\", fontsize=22)\n",
        "top_filenames_chart.set_xlabel(\"Filename\", fontsize=20)\n",
        "top_filenames_chart.set_ylabel(\"Count\", fontsize=20)"
      ],
      "execution_count": 12,
      "outputs": [
        {
          "output_type": "execute_result",
          "data": {
            "text/plain": [
              "Text(0, 0.5, 'Count')"
            ]
          },
          "metadata": {},
          "execution_count": 12
        },
        {
          "output_type": "display_data",
          "data": {
            "text/plain": [
              "<Figure size 1800x720 with 1 Axes>"
            ],
            "image/png": "[encoded data removed]"
          },
          "metadata": {
            "needs_background": "light"
          }
        }
      ]
    },
    {
      "cell_type": "markdown",
      "metadata": {
        "id": "pQgeOObvgLvK"
      },
      "source": [
        "Now let's setup [Altair](https://altair-viz.github.io/), and plot the data with Altair. Altair is useful for creating vizualizations since they can be easily exported as a PNG or SVG."
      ]
    },
    {
      "cell_type": "code",
      "metadata": {
        "id": "Q7Z4J6qjWaVM"
      },
      "source": [
        "import altair as alt"
      ],
      "execution_count": 13,
      "outputs": []
    },
    {
      "cell_type": "code",
      "metadata": {
        "colab": {
          "base_uri": "https://localhost:8080/",
          "height": 959
        },
        "id": "s0xwvILYWkgg",
        "outputId": "6f69ca73-d29f-4088-fbca-c5675d35a045"
      },
      "source": [
        "top_filenames_altair = (\n",
        "    plain_text[\"filename\"]\n",
        "    .value_counts()\n",
        "    .head(10)\n",
        "    .rename_axis(\"Filename\")\n",
        "    .reset_index(name=\"Count\")\n",
        ")\n",
        "\n",
        "filenames_bar = (\n",
        "    alt.Chart(top_filenames_altair)\n",
        "    .mark_bar()\n",
        "    .encode(x=alt.X(\"Filename:O\", sort=\"-y\"), y=alt.Y(\"Count:Q\"))\n",
        ")\n",
        "\n",
        "filenames_rule = (\n",
        "    alt.Chart(top_filenames_altair).mark_rule(color=\"red\").encode(y=\"mean(Count):Q\")\n",
        ")\n",
        "\n",
        "\n",
        "filenames_text = filenames_bar.mark_text(align=\"center\", baseline=\"bottom\").encode(\n",
        "    text=\"Count:Q\"\n",
        ")\n",
        "\n",
        "(filenames_bar + filenames_rule + filenames_text).properties(\n",
        "    width=1400, height=700, title=\"Top Filenames\"\n",
        ")"
      ],
      "execution_count": 14,
      "outputs": [
        {
          "output_type": "execute_result",
          "data": {
            "text/html": [
              "\n",
              "<div id=\"altair-viz-4ab25510ac6945848f82848685de2914\"></div>\n",
              "<script type=\"text/javascript\">\n",
              "  var VEGA_DEBUG = (typeof VEGA_DEBUG == \"undefined\") ? {} : VEGA_DEBUG;\n",
              "  (function(spec, embedOpt){\n",
              "    let outputDiv = document.currentScript.previousElementSibling;\n",
              "    if (outputDiv.id !== \"altair-viz-4ab25510ac6945848f82848685de2914\") {\n",
              "      outputDiv = document.getElementById(\"altair-viz-4ab25510ac6945848f82848685de2914\");\n",
              "    }\n",
              "    const paths = {\n",
              "      \"vega\": \"https://cdn.jsdelivr.net/npm//vega@5?noext\",\n",
              "      \"vega-lib\": \"https://cdn.jsdelivr.net/npm//vega-lib?noext\",\n",
              "      \"vega-lite\": \"https://cdn.jsdelivr.net/npm//vega-lite@4.17.0?noext\",\n",
              "      \"vega-embed\": \"https://cdn.jsdelivr.net/npm//vega-embed@6?noext\",\n",
              "    };\n",
              "\n",
              "    function maybeLoadScript(lib, version) {\n",
              "      var key = `${lib.replace(\"-\", \"\")}_version`;\n",
              "      return (VEGA_DEBUG[key] == version) ?\n",
              "        Promise.resolve(paths[lib]) :\n",
              "        new Promise(function(resolve, reject) {\n",
              "          var s = document.createElement('script');\n",
              "          document.getElementsByTagName(\"head\")[0].appendChild(s);\n",
              "          s.async = true;\n",
              "          s.onload = () => {\n",
              "            VEGA_DEBUG[key] = version;\n",
              "            return resolve(paths[lib]);\n",
              "          };\n",
              "          s.onerror = () => reject(`Error loading script: ${paths[lib]}`);\n",
              "          s.src = paths[lib];\n",
              "        });\n",
              "    }\n",
              "\n",
              "    function showError(err) {\n",
              "      outputDiv.innerHTML = `<div class=\"error\" style=\"color:red;\">${err}</div>`;\n",
              "      throw err;\n",
              "    }\n",
              "\n",
              "    function displayChart(vegaEmbed) {\n",
              "      vegaEmbed(outputDiv, spec, embedOpt)\n",
              "        .catch(err => showError(`Javascript Error: ${err.message}<br>This usually means there's a typo in your chart specification. See the javascript console for the full traceback.`));\n",
              "    }\n",
              "\n",
              "    if(typeof define === \"function\" && define.amd) {\n",
              "      requirejs.config({paths});\n",
              "      require([\"vega-embed\"], displayChart, err => showError(`Error loading script: ${err.message}`));\n",
              "    } else {\n",
              "      maybeLoadScript(\"vega\", \"5\")\n",
              "        .then(() => maybeLoadScript(\"vega-lite\", \"4.17.0\"))\n",
              "        .then(() => maybeLoadScript(\"vega-embed\", \"6\"))\n",
              "        .catch(showError)\n",
              "        .then(() => displayChart(vegaEmbed));\n",
              "    }\n",
              "  })({\"config\": {\"view\": {\"continuousWidth\": 400, \"continuousHeight\": 300}}, \"layer\": [{\"mark\": \"bar\", \"encoding\": {\"x\": {\"field\": \"Filename\", \"sort\": \"-y\", \"type\": \"ordinal\"}, \"y\": {\"field\": \"Count\", \"type\": \"quantitative\"}}}, {\"mark\": {\"type\": \"rule\", \"color\": \"red\"}, \"encoding\": {\"y\": {\"aggregate\": \"mean\", \"field\": \"Count\", \"type\": \"quantitative\"}}}, {\"mark\": {\"type\": \"text\", \"align\": \"center\", \"baseline\": \"bottom\"}, \"encoding\": {\"text\": {\"field\": \"Count\", \"type\": \"quantitative\"}, \"x\": {\"field\": \"Filename\", \"sort\": \"-y\", \"type\": \"ordinal\"}, \"y\": {\"field\": \"Count\", \"type\": \"quantitative\"}}}], \"data\": {\"name\": \"data-ca665bd8f7bb0a744895726c6f223a9d\"}, \"height\": 700, \"title\": \"Top Filenames\", \"width\": 1400, \"$schema\": \"https://vega.github.io/schema/vega-lite/v4.17.0.json\", \"datasets\": {\"data-ca665bd8f7bb0a744895726c6f223a9d\": [{\"Filename\": \"robots.txt\", \"Count\": 13960}, {\"Filename\": \"Release\", \"Count\": 1152}, {\"Filename\": \"Packages\", \"Count\": 892}, {\"Filename\": \"Packages.gz\", \"Count\": 890}, {\"Filename\": \"site.webmanifest\", \"Count\": 191}, {\"Filename\": \"Sources.gz\", \"Count\": 164}, {\"Filename\": \"glyphicons-halflings-regular.woff2\", \"Count\": 133}, {\"Filename\": \"proximanova-light-webfont.woff2\", \"Count\": 122}, {\"Filename\": \"proximanova-regular-webfont.woff2\", \"Count\": 122}, {\"Filename\": \"proximanova-semibold-webfont.woff2\", \"Count\": 122}]}}, {\"mode\": \"vega-lite\"});\n",
              "</script>"
            ],
            "text/plain": [
              "alt.LayerChart(...)"
            ]
          },
          "metadata": {},
          "execution_count": 14
        }
      ]
    },
    {
      "cell_type": "markdown",
      "metadata": {
        "id": "BneaN9cgGoly"
      },
      "source": [
        "### How about a file format distribution?\n",
        "\n",
        "What _kind_ of plain text files are present? We can discover this by checking their \"media type\", or [MIME type](https://en.wikipedia.org/wiki/Media_type). \n",
        "\n",
        "\n",
        "\n",
        "\n"
      ]
    },
    {
      "cell_type": "code",
      "metadata": {
        "colab": {
          "base_uri": "https://localhost:8080/",
          "height": 917
        },
        "id": "RDd-J8D-GwDk",
        "outputId": "077a73f7-6774-47fc-b79a-9bdcffce15e7"
      },
      "source": [
        "plain_text_mime_types = (\n",
        "    plain_text[\"mime_type_tika\"]\n",
        "    .value_counts()\n",
        "    .head(5)\n",
        "    .rename_axis(\"MIME Type\")\n",
        "    .reset_index(name=\"Count\")\n",
        ")\n",
        "\n",
        "plain_text_mimes_bar = (\n",
        "    alt.Chart(plain_text_mime_types)\n",
        "    .mark_bar()\n",
        "    .encode(x=alt.X(\"MIME Type:O\", sort=\"-y\"), y=alt.Y(\"Count:Q\"))\n",
        ")\n",
        "\n",
        "plain_text_mime_rule = (\n",
        "    alt.Chart(plain_text_mime_types).mark_rule(color=\"red\").encode(y=\"mean(Count):Q\")\n",
        ")\n",
        "\n",
        "plain_text_mime_text = plain_text_mimes_bar.mark_text(align=\"center\", baseline=\"bottom\").encode(\n",
        "    text=\"Count:Q\"\n",
        ")\n",
        "\n",
        "(plain_text_mimes_bar + plain_text_mime_rule + plain_text_mime_text).properties(\n",
        "    width=1400, height=700, title=\"plain_text File Format Distribution\"\n",
        ")"
      ],
      "execution_count": 15,
      "outputs": [
        {
          "output_type": "execute_result",
          "data": {
            "text/html": [
              "\n",
              "<div id=\"altair-viz-0b7792c555eb4983bffc8ec8eeefbb68\"></div>\n",
              "<script type=\"text/javascript\">\n",
              "  var VEGA_DEBUG = (typeof VEGA_DEBUG == \"undefined\") ? {} : VEGA_DEBUG;\n",
              "  (function(spec, embedOpt){\n",
              "    let outputDiv = document.currentScript.previousElementSibling;\n",
              "    if (outputDiv.id !== \"altair-viz-0b7792c555eb4983bffc8ec8eeefbb68\") {\n",
              "      outputDiv = document.getElementById(\"altair-viz-0b7792c555eb4983bffc8ec8eeefbb68\");\n",
              "    }\n",
              "    const paths = {\n",
              "      \"vega\": \"https://cdn.jsdelivr.net/npm//vega@5?noext\",\n",
              "      \"vega-lib\": \"https://cdn.jsdelivr.net/npm//vega-lib?noext\",\n",
              "      \"vega-lite\": \"https://cdn.jsdelivr.net/npm//vega-lite@4.17.0?noext\",\n",
              "      \"vega-embed\": \"https://cdn.jsdelivr.net/npm//vega-embed@6?noext\",\n",
              "    };\n",
              "\n",
              "    function maybeLoadScript(lib, version) {\n",
              "      var key = `${lib.replace(\"-\", \"\")}_version`;\n",
              "      return (VEGA_DEBUG[key] == version) ?\n",
              "        Promise.resolve(paths[lib]) :\n",
              "        new Promise(function(resolve, reject) {\n",
              "          var s = document.createElement('script');\n",
              "          document.getElementsByTagName(\"head\")[0].appendChild(s);\n",
              "          s.async = true;\n",
              "          s.onload = () => {\n",
              "            VEGA_DEBUG[key] = version;\n",
              "            return resolve(paths[lib]);\n",
              "          };\n",
              "          s.onerror = () => reject(`Error loading script: ${paths[lib]}`);\n",
              "          s.src = paths[lib];\n",
              "        });\n",
              "    }\n",
              "\n",
              "    function showError(err) {\n",
              "      outputDiv.innerHTML = `<div class=\"error\" style=\"color:red;\">${err}</div>`;\n",
              "      throw err;\n",
              "    }\n",
              "\n",
              "    function displayChart(vegaEmbed) {\n",
              "      vegaEmbed(outputDiv, spec, embedOpt)\n",
              "        .catch(err => showError(`Javascript Error: ${err.message}<br>This usually means there's a typo in your chart specification. See the javascript console for the full traceback.`));\n",
              "    }\n",
              "\n",
              "    if(typeof define === \"function\" && define.amd) {\n",
              "      requirejs.config({paths});\n",
              "      require([\"vega-embed\"], displayChart, err => showError(`Error loading script: ${err.message}`));\n",
              "    } else {\n",
              "      maybeLoadScript(\"vega\", \"5\")\n",
              "        .then(() => maybeLoadScript(\"vega-lite\", \"4.17.0\"))\n",
              "        .then(() => maybeLoadScript(\"vega-embed\", \"6\"))\n",
              "        .catch(showError)\n",
              "        .then(() => displayChart(vegaEmbed));\n",
              "    }\n",
              "  })({\"config\": {\"view\": {\"continuousWidth\": 400, \"continuousHeight\": 300}}, \"layer\": [{\"mark\": \"bar\", \"encoding\": {\"x\": {\"field\": \"MIME Type\", \"sort\": \"-y\", \"type\": \"ordinal\"}, \"y\": {\"field\": \"Count\", \"type\": \"quantitative\"}}}, {\"mark\": {\"type\": \"rule\", \"color\": \"red\"}, \"encoding\": {\"y\": {\"aggregate\": \"mean\", \"field\": \"Count\", \"type\": \"quantitative\"}}}, {\"mark\": {\"type\": \"text\", \"align\": \"center\", \"baseline\": \"bottom\"}, \"encoding\": {\"text\": {\"field\": \"Count\", \"type\": \"quantitative\"}, \"x\": {\"field\": \"MIME Type\", \"sort\": \"-y\", \"type\": \"ordinal\"}, \"y\": {\"field\": \"Count\", \"type\": \"quantitative\"}}}], \"data\": {\"name\": \"data-b8ec37e9f39665790724c02f3fb264ec\"}, \"height\": 700, \"title\": \"plain_text File Format Distribution\", \"width\": 1400, \"$schema\": \"https://vega.github.io/schema/vega-lite/v4.17.0.json\", \"datasets\": {\"data-b8ec37e9f39665790724c02f3fb264ec\": [{\"MIME Type\": \"text/plain\", \"Count\": 7900}, {\"MIME Type\": \"image/webp\", \"Count\": 5331}, {\"MIME Type\": \"text/x-matlab\", \"Count\": 852}, {\"MIME Type\": \"application/xml\", \"Count\": 787}, {\"MIME Type\": \"application/x-bibtex-text-file\", \"Count\": 564}]}}, {\"mode\": \"vega-lite\"});\n",
              "</script>"
            ],
            "text/plain": [
              "alt.LayerChart(...)"
            ]
          },
          "metadata": {},
          "execution_count": 15
        }
      ]
    },
    {
      "cell_type": "markdown",
      "metadata": {
        "id": "QUJR-jjqNxCL"
      },
      "source": [
        "### How do I get the actual plain text?\n",
        "\n",
        "...or, how do I get to the actual binary files described by each file format information derivative?\n",
        "\n",
        "There are a few options!\n",
        "\n",
        "1. `wget` or `curl` from the live URL, or a replay URL\n",
        "  * Live web URL\n",
        "    * `wget` or `curl` the value of the `url` column\n",
        "  * Replay web URL\n",
        "    * `wget` or `curl` the value of the `crawl_date` and `url` column using the following pattern:\n",
        "      * `https://web.archive.org/web/` + `crawl_date` + `/` + `url`\n",
        "        * https://web.archive.org/web/20120119124734/http://www.archive.org/images/glogo.png\n",
        "      * `http://wayback.archive-it.org/14462/` + `crawl_date` + `/` + `url`\n",
        "        * https://wayback.archive-it.org/14462/20210524212740/https://ruebot.net/visualization/elxn42/featured_hu33a17dfb90e2c5ed77f783db14a6e53a_5126291_550x0_resize_q90_box_2.png\n",
        "2. Use a scripting language, such as Python\n",
        "  * Make use of the `url` and `filename` columns (and `crawl_date` if you want to use the replay URL)\n",
        "  * `import requests`\n",
        "  * `requests.get(url, allow_redirects=True)`\n",
        "  * `open('filename', 'wb').write(r.content)`\n",
        "3. Use the [Archives Unleashed Toolkit](https://aut.docs.archivesunleashed.org/docs/extract-binary) (if you have access to the W/ARC files)."
      ]
    },
    {
      "cell_type": "markdown",
      "source": [
        "If you wanted to download the plain text files using the replay URL, below a method for doing so.\n",
        "\n",
        "First, you'll want to setup a replay url base url. Here we'll use the Archive-It Wayback instance for the collection."
      ],
      "metadata": {
        "id": "8yoFE2xLAlwk"
      }
    },
    {
      "cell_type": "code",
      "source": [
        "wayback_url = 'http://wayback.archive-it.org/14489/'"
      ],
      "metadata": {
        "id": "RxrOHn_2AicZ"
      },
      "execution_count": 16,
      "outputs": []
    },
    {
      "cell_type": "markdown",
      "source": [
        "Next we'll create a new column using a lambda function. If you're familiar with working in plain texts, what we're doing here is basically concatenating some column values together and creating a new column."
      ],
      "metadata": {
        "id": "jCTmrEBGA-Yd"
      }
    },
    {
      "cell_type": "code",
      "source": [
        "plain_text['replay_url'] = plain_text.apply(lambda row: str(wayback_url + str(row['crawl_date']) + \"/\" + str(row['url'])), axis=1)"
      ],
      "metadata": {
        "id": "p5HoWxkFA6C8"
      },
      "execution_count": 17,
      "outputs": []
    },
    {
      "cell_type": "markdown",
      "source": [
        "Then we can export that new column we created out to a file, so we can use it with `wget` to download all the plain text files!"
      ],
      "metadata": {
        "id": "q87tSYyIBIiZ"
      }
    },
    {
      "cell_type": "code",
      "source": [
        "plain_text['replay_url'].head().to_csv('14489_plain_text_urls.txt', index=False, header=False)"
      ],
      "metadata": {
        "id": "wyhpsf9wBN1a"
      },
      "execution_count": 18,
      "outputs": []
    },
    {
      "cell_type": "markdown",
      "source": [
        "Finally, we can pass the file to `wget` to use as a download list. You can also speed this process up using `xargs` or `parallel`."
      ],
      "metadata": {
        "id": "81a3q7feu5Ji"
      }
    },
    {
      "cell_type": "code",
      "source": [
        "!wget --random-wait -i 14489_plain_text_urls.txt"
      ],
      "metadata": {
        "colab": {
          "base_uri": "https://localhost:8080/"
        },
        "id": "D_p4qGKoBRaZ",
        "outputId": "233f1bea-62f1-4eb3-eb69-09c7058a0c26"
      },
      "execution_count": 19,
      "outputs": [
        {
          "output_type": "stream",
          "name": "stdout",
          "text": [
            "--2022-11-24 20:56:27--  http://wayback.archive-it.org/14489/20200629191639/https://www.ualberta.ca/robots.txt\n",
            "Resolving wayback.archive-it.org (wayback.archive-it.org)... 207.241.232.8, 207.241.225.8\n",
            "Connecting to wayback.archive-it.org (wayback.archive-it.org)|207.241.232.8|:80... connected.\n",
            "HTTP request sent, awaiting response... 200 OK\n",
            "Length: 132 [text/plain]\n",
            "Saving to: ‘robots.txt’\n",
            "\n",
            "robots.txt          100%[===================>]     132  --.-KB/s    in 0s      \n",
            "\n",
            "2022-11-24 20:56:28 (36.1 MB/s) - ‘robots.txt’ saved [132/132]\n",
            "\n",
            "--2022-11-24 20:56:28--  http://wayback.archive-it.org/14489/20200629191729/https://code.jquery.com/robots.txt\n",
            "Reusing existing connection to wayback.archive-it.org:80.\n",
            "HTTP request sent, awaiting response... 200 OK\n",
            "Length: 67 [text/plain]\n",
            "Saving to: ‘robots.txt.1’\n",
            "\n",
            "robots.txt.1        100%[===================>]      67  --.-KB/s    in 0s      \n",
            "\n",
            "2022-11-24 20:56:33 (5.88 MB/s) - ‘robots.txt.1’ saved [67/67]\n",
            "\n",
            "--2022-11-24 20:56:33--  http://wayback.archive-it.org/14489/20200629191803/https://cloudfront.ualberta.ca/robots.txt\n",
            "Reusing existing connection to wayback.archive-it.org:80.\n",
            "HTTP request sent, awaiting response... 200 OK\n",
            "Length: 77 [text/plain]\n",
            "Saving to: ‘robots.txt.2’\n",
            "\n",
            "robots.txt.2        100%[===================>]      77  --.-KB/s    in 0s      \n",
            "\n",
            "2022-11-24 20:56:33 (12.0 MB/s) - ‘robots.txt.2’ saved [77/77]\n",
            "\n",
            "--2022-11-24 20:56:33--  http://wayback.archive-it.org/14489/20200629193131/http://feeds.feedburner.com/robots.txt\n",
            "Reusing existing connection to wayback.archive-it.org:80.\n",
            "HTTP request sent, awaiting response... 200 OK\n",
            "Length: unspecified [text/plain]\n",
            "Saving to: ‘robots.txt.3’\n",
            "\n",
            "robots.txt.3            [ <=>                ]      29  --.-KB/s    in 0s      \n",
            "\n",
            "2022-11-24 20:56:35 (2.67 MB/s) - ‘robots.txt.3’ saved [29]\n",
            "\n",
            "--2022-11-24 20:56:35--  http://wayback.archive-it.org/14489/20200629213436/https://apps.ualberta.ca/robots.txt\n",
            "Reusing existing connection to wayback.archive-it.org:80.\n",
            "HTTP request sent, awaiting response... 200 OK\n",
            "Length: 45 [text/plain]\n",
            "Saving to: ‘robots.txt.4’\n",
            "\n",
            "robots.txt.4        100%[===================>]      45  --.-KB/s    in 0s      \n",
            "\n",
            "2022-11-24 20:56:35 (5.91 MB/s) - ‘robots.txt.4’ saved [45/45]\n",
            "\n",
            "FINISHED --2022-11-24 20:56:35--\n",
            "Total wall clock time: 7.8s\n",
            "Downloaded: 5 files, 350 in 0s (8.76 MB/s)\n"
          ]
        }
      ]
    }
  ]
}