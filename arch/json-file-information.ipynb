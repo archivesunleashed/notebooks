{
  "nbformat": 4,
  "nbformat_minor": 0,
  "metadata": {
    "colab": {
      "provenance": [],
      "include_colab_link": true
    },
    "kernelspec": {
      "name": "python3",
      "display_name": "Python 3"
    },
    "language_info": {
      "name": "python"
    }
  },
  "cells": [
    {
      "cell_type": "markdown",
      "metadata": {
        "id": "view-in-github",
        "colab_type": "text"
      },
      "source": [
        "<a href=\"https://colab.research.google.com/github/archivesunleashed/notebooks/blob/main/arch/json-file-information.ipynb\" target=\"_parent\"><img src=\"https://colab.research.google.com/assets/colab-badge.svg\" alt=\"Open In Colab\"/></a>"
      ]
    },
    {
      "cell_type": "markdown",
      "source": [
        "# JSON Information Dataset Exploration\n",
        "\n",
        "We're going to take a look at a few examples of how we can explore the JSON Information dataset. \n",
        "\n",
        "The first thing we need to do is enter the URL for our JSON Information dataset in the cell below. You can get this by right clicking the Download icon, and selecting \"Copy Link\"."
      ],
      "metadata": {
        "id": "vAyuRQ2PJIdc"
      }
    },
    {
      "cell_type": "code",
      "source": [
        "dataset = 'https://webdata.archive-it.org/ait/files/download/ARCHIVEIT-14489/TextFilesInformationExtraction/json-file-information.csv.gz?access=55SB7FN2YVCZUHZ4G32HSZ4OUUXQRPOZ' #@param {type:\"string\"}\n",
        "print(dataset)"
      ],
      "metadata": {
        "colab": {
          "base_uri": "https://localhost:8080/"
        },
        "cellView": "form",
        "id": "RfhJiesWVpAf",
        "outputId": "67472059-8869-4a7c-c8bb-01ab9c96d323"
      },
      "execution_count": 1,
      "outputs": [
        {
          "output_type": "stream",
          "name": "stdout",
          "text": [
            "https://webdata.archive-it.org/ait/files/download/ARCHIVEIT-14489/TextFilesInformationExtraction/json-file-information.csv.gz?access=55SB7FN2YVCZUHZ4G32HSZ4OUUXQRPOZ\n"
          ]
        }
      ]
    },
    {
      "cell_type": "markdown",
      "source": [
        "## pandas\n",
        "\n",
        "Next, we'll setup our environment so we can load our JSON Information dataset into [pandas](https://pandas.pydata.org) DataFrames. If you're unfamiliar with DataFrames, but you've worked with JSON before, you should feel comfortable pretty quick."
      ],
      "metadata": {
        "id": "Z14F2cIWJVW0"
      }
    },
    {
      "cell_type": "code",
      "execution_count": 2,
      "metadata": {
        "id": "Chh6tt3HHF1s"
      },
      "outputs": [],
      "source": [
        "import pandas as pd"
      ]
    },
    {
      "cell_type": "markdown",
      "source": [
        "## Data Table Display\n",
        "\n",
        "Colab includes an extension that renders pandas DataFrames into interactive displays that can be filtered, sorted, and explored dynamically. This can be very useful for taking a look at what each DataFrame provides, and doing some intital filtering!\n",
        "\n",
        "Data table display for pandas dataframes can be enabled by running:\n",
        "```python\n",
        "%load_ext google.colab.data_table\n",
        "```\n",
        "and disabled by running\n",
        "```python\n",
        "%unload_ext google.colab.data_table\n",
        "```"
      ],
      "metadata": {
        "id": "sH81XCf3I3xY"
      }
    },
    {
      "cell_type": "code",
      "source": [
        "%load_ext google.colab.data_table"
      ],
      "metadata": {
        "id": "-qyCnbvBI7n6"
      },
      "execution_count": 3,
      "outputs": []
    },
    {
      "cell_type": "markdown",
      "source": [
        "## Loading our ARCH Dataset as a DataFrame\n",
        "\n",
        "---\n",
        "\n",
        "\n",
        "Next, we'll create pandas DataFrame from our dataset, and show a preview of it using the Data Table Display."
      ],
      "metadata": {
        "id": "6prR7j1zI_D5"
      }
    },
    {
      "cell_type": "code",
      "source": [
        "json = pd.read_csv(dataset, compression='gzip')\n",
        "json"
      ],
      "metadata": {
        "colab": {
          "base_uri": "https://localhost:8080/",
          "height": 679
        },
        "id": "YL0LQaUNHRKx",
        "outputId": "b6cbb5fb-c318-4d3c-aec9-03393f9bc0a6"
      },
      "execution_count": 4,
      "outputs": [
        {
          "output_type": "stream",
          "name": "stdout",
          "text": [
            "Warning: total number of rows (67777) exceeds max_rows (20000). Falling back to pandas display.\n"
          ]
        },
        {
          "output_type": "execute_result",
          "data": {
            "text/plain": [
              "           crawl_date                                                url  \\\n",
              "0      20200629191723  https://api.ualberta.cloud/news?feed=http%3A%2...   \n",
              "1      20200629191731  https://api.ualberta.cloud/news?feed=http%3A%2...   \n",
              "2      20200629191731  https://live.clive.cloud/page-views/162/visito...   \n",
              "3      20200629192519  https://www.ualberta.ca/_emergency/emergency-m...   \n",
              "4      20200629192600  https://www.ualberta.ca/api/twitter/ualberta?c...   \n",
              "...               ...                                                ...   \n",
              "67772  20220704195148  https://mathnews.uwaterloo.ca/wp-json/wp/v2/ta...   \n",
              "67773  20220704195428  https://mathnews.uwaterloo.ca/wp-json/wp/v2/po...   \n",
              "67774  20220704195637  https://mathnews.uwaterloo.ca/wp-json/oembed/1...   \n",
              "67775  20220704200319  https://mathnews.uwaterloo.ca/wp-json/wp/v2/ta...   \n",
              "67776  20220629193316          https://hn.inspectlet.com/ginit/281162446   \n",
              "\n",
              "                     filename extension mime_type_web_server mime_type_tika  \\\n",
              "0                        news       txt     application/json     text/plain   \n",
              "1                        news       txt     application/json     text/plain   \n",
              "2                    register       txt     application/json     text/plain   \n",
              "3      emergency-message.json       txt     application/json     text/plain   \n",
              "4                    ualberta       txt     application/json     text/plain   \n",
              "...                       ...       ...                  ...            ...   \n",
              "67772                     255       txt     application/json     text/plain   \n",
              "67773                   13404       txt     application/json     text/plain   \n",
              "67774                   embed       txt     application/json     text/plain   \n",
              "67775                     254       txt     application/json     text/plain   \n",
              "67776               281162446       txt     application/json     text/plain   \n",
              "\n",
              "                                    md5  \\\n",
              "0      bc08cb947075f3431ecfaffa1049d7bd   \n",
              "1      76a508c5d60b18499d89ed4225c12805   \n",
              "2      6ebb9dbd1430ce0ae59e5eb4bc6df643   \n",
              "3      ede9208596933d7d68ce430f2a41eed4   \n",
              "4      29644a7f57e55fc2514d8c9c3e1cb004   \n",
              "...                                 ...   \n",
              "67772  70451eb928d75f50b20a005c84723754   \n",
              "67773  f2e20bd5c62bbb6379cce72c20c48c17   \n",
              "67774  f6597e3d54973f35e598ee9fae20f097   \n",
              "67775  1fca280e7e0bbefd4863de960e04d2df   \n",
              "67776  dae6182e6253e84ca88fdae0e0914344   \n",
              "\n",
              "                                           sha1  \\\n",
              "0      4ee6b136cdc399b5d7e47711a54194bfe7cc64fb   \n",
              "1      e2b55aa9b8de854edfb6bfbbe7617e08fbc072e0   \n",
              "2      c307fcccd580f818cbce86b89f84f4a256075e01   \n",
              "3      4ed4fd7ced06b3c18d30505b7557aa74388627e9   \n",
              "4      0d013d3cf48dc57bf210a03a060df5497c289b82   \n",
              "...                                         ...   \n",
              "67772  2ed136229c813bd7e5bc334073344758a896ff17   \n",
              "67773  b53020d04bec5ebf91ad62279cebd3621bc64996   \n",
              "67774  1530ae9abe7a251c821bfc6433e4001d42f4a20a   \n",
              "67775  2af84c213b4a291da953cfda4253f6124317bef3   \n",
              "67776  1aab7841f85d2cf4be71aad06e42abb769dea670   \n",
              "\n",
              "                                                 content  \n",
              "0      {\"Authors\":null,\"BaseUri\":null,\"Categories\":nu...  \n",
              "1      {\"Authors\":null,\"BaseUri\":null,\"Categories\":nu...  \n",
              "2               {\"success\":false,\"message\":\"No referer\"}  \n",
              "3      {\"message\": \"<h4 class=\\\"d-inline-block mr-2\\\"...  \n",
              "4      {\"ScreenName\":\"ualberta\",\"Followers\":87166,\"Tw...  \n",
              "...                                                  ...  \n",
              "67772  {\"id\":255,\"count\":1,\"description\":\"\",\"link\":\"h...  \n",
              "67773  {\"id\":13404,\"date\":\"2019-03-15T00:00:41\",\"date...  \n",
              "67774  {\"version\":\"1.0\",\"provider_name\":\"mathNEWS\",\"p...  \n",
              "67775  {\"id\":254,\"count\":1,\"description\":\"\",\"link\":\"h...  \n",
              "67776                    {\"noinspectlet\":\"refreshcache\"}  \n",
              "\n",
              "[67777 rows x 9 columns]"
            ],
            "text/html": [
              "\n",
              "  <div id=\"df-5b5cc03c-34f5-4067-82db-7d421170f133\">\n",
              "    <div class=\"colab-df-container\">\n",
              "      <div>\n",
              "<style scoped>\n",
              "    .dataframe tbody tr th:only-of-type {\n",
              "        vertical-align: middle;\n",
              "    }\n",
              "\n",
              "    .dataframe tbody tr th {\n",
              "        vertical-align: top;\n",
              "    }\n",
              "\n",
              "    .dataframe thead th {\n",
              "        text-align: right;\n",
              "    }\n",
              "</style>\n",
              "<table border=\"1\" class=\"dataframe\">\n",
              "  <thead>\n",
              "    <tr style=\"text-align: right;\">\n",
              "      <th></th>\n",
              "      <th>crawl_date</th>\n",
              "      <th>url</th>\n",
              "      <th>filename</th>\n",
              "      <th>extension</th>\n",
              "      <th>mime_type_web_server</th>\n",
              "      <th>mime_type_tika</th>\n",
              "      <th>md5</th>\n",
              "      <th>sha1</th>\n",
              "      <th>content</th>\n",
              "    </tr>\n",
              "  </thead>\n",
              "  <tbody>\n",
              "    <tr>\n",
              "      <th>0</th>\n",
              "      <td>20200629191723</td>\n",
              "      <td>https://api.ualberta.cloud/news?feed=http%3A%2...</td>\n",
              "      <td>news</td>\n",
              "      <td>txt</td>\n",
              "      <td>application/json</td>\n",
              "      <td>text/plain</td>\n",
              "      <td>bc08cb947075f3431ecfaffa1049d7bd</td>\n",
              "      <td>4ee6b136cdc399b5d7e47711a54194bfe7cc64fb</td>\n",
              "      <td>{\"Authors\":null,\"BaseUri\":null,\"Categories\":nu...</td>\n",
              "    </tr>\n",
              "    <tr>\n",
              "      <th>1</th>\n",
              "      <td>20200629191731</td>\n",
              "      <td>https://api.ualberta.cloud/news?feed=http%3A%2...</td>\n",
              "      <td>news</td>\n",
              "      <td>txt</td>\n",
              "      <td>application/json</td>\n",
              "      <td>text/plain</td>\n",
              "      <td>76a508c5d60b18499d89ed4225c12805</td>\n",
              "      <td>e2b55aa9b8de854edfb6bfbbe7617e08fbc072e0</td>\n",
              "      <td>{\"Authors\":null,\"BaseUri\":null,\"Categories\":nu...</td>\n",
              "    </tr>\n",
              "    <tr>\n",
              "      <th>2</th>\n",
              "      <td>20200629191731</td>\n",
              "      <td>https://live.clive.cloud/page-views/162/visito...</td>\n",
              "      <td>register</td>\n",
              "      <td>txt</td>\n",
              "      <td>application/json</td>\n",
              "      <td>text/plain</td>\n",
              "      <td>6ebb9dbd1430ce0ae59e5eb4bc6df643</td>\n",
              "      <td>c307fcccd580f818cbce86b89f84f4a256075e01</td>\n",
              "      <td>{\"success\":false,\"message\":\"No referer\"}</td>\n",
              "    </tr>\n",
              "    <tr>\n",
              "      <th>3</th>\n",
              "      <td>20200629192519</td>\n",
              "      <td>https://www.ualberta.ca/_emergency/emergency-m...</td>\n",
              "      <td>emergency-message.json</td>\n",
              "      <td>txt</td>\n",
              "      <td>application/json</td>\n",
              "      <td>text/plain</td>\n",
              "      <td>ede9208596933d7d68ce430f2a41eed4</td>\n",
              "      <td>4ed4fd7ced06b3c18d30505b7557aa74388627e9</td>\n",
              "      <td>{\"message\": \"&lt;h4 class=\\\"d-inline-block mr-2\\\"...</td>\n",
              "    </tr>\n",
              "    <tr>\n",
              "      <th>4</th>\n",
              "      <td>20200629192600</td>\n",
              "      <td>https://www.ualberta.ca/api/twitter/ualberta?c...</td>\n",
              "      <td>ualberta</td>\n",
              "      <td>txt</td>\n",
              "      <td>application/json</td>\n",
              "      <td>text/plain</td>\n",
              "      <td>29644a7f57e55fc2514d8c9c3e1cb004</td>\n",
              "      <td>0d013d3cf48dc57bf210a03a060df5497c289b82</td>\n",
              "      <td>{\"ScreenName\":\"ualberta\",\"Followers\":87166,\"Tw...</td>\n",
              "    </tr>\n",
              "    <tr>\n",
              "      <th>...</th>\n",
              "      <td>...</td>\n",
              "      <td>...</td>\n",
              "      <td>...</td>\n",
              "      <td>...</td>\n",
              "      <td>...</td>\n",
              "      <td>...</td>\n",
              "      <td>...</td>\n",
              "      <td>...</td>\n",
              "      <td>...</td>\n",
              "    </tr>\n",
              "    <tr>\n",
              "      <th>67772</th>\n",
              "      <td>20220704195148</td>\n",
              "      <td>https://mathnews.uwaterloo.ca/wp-json/wp/v2/ta...</td>\n",
              "      <td>255</td>\n",
              "      <td>txt</td>\n",
              "      <td>application/json</td>\n",
              "      <td>text/plain</td>\n",
              "      <td>70451eb928d75f50b20a005c84723754</td>\n",
              "      <td>2ed136229c813bd7e5bc334073344758a896ff17</td>\n",
              "      <td>{\"id\":255,\"count\":1,\"description\":\"\",\"link\":\"h...</td>\n",
              "    </tr>\n",
              "    <tr>\n",
              "      <th>67773</th>\n",
              "      <td>20220704195428</td>\n",
              "      <td>https://mathnews.uwaterloo.ca/wp-json/wp/v2/po...</td>\n",
              "      <td>13404</td>\n",
              "      <td>txt</td>\n",
              "      <td>application/json</td>\n",
              "      <td>text/plain</td>\n",
              "      <td>f2e20bd5c62bbb6379cce72c20c48c17</td>\n",
              "      <td>b53020d04bec5ebf91ad62279cebd3621bc64996</td>\n",
              "      <td>{\"id\":13404,\"date\":\"2019-03-15T00:00:41\",\"date...</td>\n",
              "    </tr>\n",
              "    <tr>\n",
              "      <th>67774</th>\n",
              "      <td>20220704195637</td>\n",
              "      <td>https://mathnews.uwaterloo.ca/wp-json/oembed/1...</td>\n",
              "      <td>embed</td>\n",
              "      <td>txt</td>\n",
              "      <td>application/json</td>\n",
              "      <td>text/plain</td>\n",
              "      <td>f6597e3d54973f35e598ee9fae20f097</td>\n",
              "      <td>1530ae9abe7a251c821bfc6433e4001d42f4a20a</td>\n",
              "      <td>{\"version\":\"1.0\",\"provider_name\":\"mathNEWS\",\"p...</td>\n",
              "    </tr>\n",
              "    <tr>\n",
              "      <th>67775</th>\n",
              "      <td>20220704200319</td>\n",
              "      <td>https://mathnews.uwaterloo.ca/wp-json/wp/v2/ta...</td>\n",
              "      <td>254</td>\n",
              "      <td>txt</td>\n",
              "      <td>application/json</td>\n",
              "      <td>text/plain</td>\n",
              "      <td>1fca280e7e0bbefd4863de960e04d2df</td>\n",
              "      <td>2af84c213b4a291da953cfda4253f6124317bef3</td>\n",
              "      <td>{\"id\":254,\"count\":1,\"description\":\"\",\"link\":\"h...</td>\n",
              "    </tr>\n",
              "    <tr>\n",
              "      <th>67776</th>\n",
              "      <td>20220629193316</td>\n",
              "      <td>https://hn.inspectlet.com/ginit/281162446</td>\n",
              "      <td>281162446</td>\n",
              "      <td>txt</td>\n",
              "      <td>application/json</td>\n",
              "      <td>text/plain</td>\n",
              "      <td>dae6182e6253e84ca88fdae0e0914344</td>\n",
              "      <td>1aab7841f85d2cf4be71aad06e42abb769dea670</td>\n",
              "      <td>{\"noinspectlet\":\"refreshcache\"}</td>\n",
              "    </tr>\n",
              "  </tbody>\n",
              "</table>\n",
              "<p>67777 rows × 9 columns</p>\n",
              "</div>\n",
              "      <button class=\"colab-df-convert\" onclick=\"convertToInteractive('df-5b5cc03c-34f5-4067-82db-7d421170f133')\"\n",
              "              title=\"Convert this dataframe to an interactive table.\"\n",
              "              style=\"display:none;\">\n",
              "        \n",
              "  <svg xmlns=\"http://www.w3.org/2000/svg\" height=\"24px\"viewBox=\"0 0 24 24\"\n",
              "       width=\"24px\">\n",
              "    <path d=\"M0 0h24v24H0V0z\" fill=\"none\"/>\n",
              "    <path d=\"M18.56 5.44l.94 2.06.94-2.06 2.06-.94-2.06-.94-.94-2.06-.94 2.06-2.06.94zm-11 1L8.5 8.5l.94-2.06 2.06-.94-2.06-.94L8.5 2.5l-.94 2.06-2.06.94zm10 10l.94 2.06.94-2.06 2.06-.94-2.06-.94-.94-2.06-.94 2.06-2.06.94z\"/><path d=\"M17.41 7.96l-1.37-1.37c-.4-.4-.92-.59-1.43-.59-.52 0-1.04.2-1.43.59L10.3 9.45l-7.72 7.72c-.78.78-.78 2.05 0 2.83L4 21.41c.39.39.9.59 1.41.59.51 0 1.02-.2 1.41-.59l7.78-7.78 2.81-2.81c.8-.78.8-2.07 0-2.86zM5.41 20L4 18.59l7.72-7.72 1.47 1.35L5.41 20z\"/>\n",
              "  </svg>\n",
              "      </button>\n",
              "      \n",
              "  <style>\n",
              "    .colab-df-container {\n",
              "      display:flex;\n",
              "      flex-wrap:wrap;\n",
              "      gap: 12px;\n",
              "    }\n",
              "\n",
              "    .colab-df-convert {\n",
              "      background-color: #E8F0FE;\n",
              "      border: none;\n",
              "      border-radius: 50%;\n",
              "      cursor: pointer;\n",
              "      display: none;\n",
              "      fill: #1967D2;\n",
              "      height: 32px;\n",
              "      padding: 0 0 0 0;\n",
              "      width: 32px;\n",
              "    }\n",
              "\n",
              "    .colab-df-convert:hover {\n",
              "      background-color: #E2EBFA;\n",
              "      box-shadow: 0px 1px 2px rgba(60, 64, 67, 0.3), 0px 1px 3px 1px rgba(60, 64, 67, 0.15);\n",
              "      fill: #174EA6;\n",
              "    }\n",
              "\n",
              "    [theme=dark] .colab-df-convert {\n",
              "      background-color: #3B4455;\n",
              "      fill: #D2E3FC;\n",
              "    }\n",
              "\n",
              "    [theme=dark] .colab-df-convert:hover {\n",
              "      background-color: #434B5C;\n",
              "      box-shadow: 0px 1px 3px 1px rgba(0, 0, 0, 0.15);\n",
              "      filter: drop-shadow(0px 1px 2px rgba(0, 0, 0, 0.3));\n",
              "      fill: #FFFFFF;\n",
              "    }\n",
              "  </style>\n",
              "\n",
              "      <script>\n",
              "        const buttonEl =\n",
              "          document.querySelector('#df-5b5cc03c-34f5-4067-82db-7d421170f133 button.colab-df-convert');\n",
              "        buttonEl.style.display =\n",
              "          google.colab.kernel.accessAllowed ? 'block' : 'none';\n",
              "\n",
              "        async function convertToInteractive(key) {\n",
              "          const element = document.querySelector('#df-5b5cc03c-34f5-4067-82db-7d421170f133');\n",
              "          const dataTable =\n",
              "            await google.colab.kernel.invokeFunction('convertToInteractive',\n",
              "                                                     [key], {});\n",
              "          if (!dataTable) return;\n",
              "\n",
              "          const docLinkHtml = 'Like what you see? Visit the ' +\n",
              "            '<a target=\"_blank\" href=https://colab.research.google.com/notebooks/data_table.ipynb>data table notebook</a>'\n",
              "            + ' to learn more about interactive tables.';\n",
              "          element.innerHTML = '';\n",
              "          dataTable['output_type'] = 'display_data';\n",
              "          await google.colab.output.renderOutput(dataTable, element);\n",
              "          const docLink = document.createElement('div');\n",
              "          docLink.innerHTML = docLinkHtml;\n",
              "          element.appendChild(docLink);\n",
              "        }\n",
              "      </script>\n",
              "    </div>\n",
              "  </div>\n",
              "  "
            ]
          },
          "metadata": {},
          "execution_count": 4
        }
      ]
    },
    {
      "cell_type": "markdown",
      "metadata": {
        "id": "3HPwOCNAvqMe"
      },
      "source": [
        "# Data Analysis\n",
        "\n",
        "Now that we have all of our datasets loaded up, we can begin to work with them!"
      ]
    },
    {
      "cell_type": "markdown",
      "metadata": {
        "id": "J6Pkg0prv3BE"
      },
      "source": [
        "## Counting total files, and unique files\n",
        "\n",
        "Let's take a quick look at how to count items in DataFrames, and use total and unique files as an example to work with.\n",
        "\n",
        "It's definitely work checking out the [pandas documentation](https://pandas.pydata.org/docs/index.html). There are a lot of good examples available, along with a robust [API reference](https://pandas.pydata.org/docs/reference/index.html#api)."
      ]
    },
    {
      "cell_type": "markdown",
      "metadata": {
        "id": "DFX4Gl3wv7bi"
      },
      "source": [
        "\n",
        "### How many json files are in this collection?\n",
        "\n",
        "We can take our `json` variable try a couple of functions to get the same answer.\n",
        "\n",
        "1.   `len(json.index)`\n",
        "  * Get the length of the DataFrame's index.\n",
        "2.   `json.shape[0]`\n",
        "  * Get the shape or dimensionality of the DataFrame, and take the first item in the tuple.\n",
        "3.  `json.count()`\n",
        "  * Count the number of rows for each column.\n",
        "\n"
      ]
    },
    {
      "cell_type": "code",
      "metadata": {
        "colab": {
          "base_uri": "https://localhost:8080/"
        },
        "id": "HTv8Oet3jiTH",
        "outputId": "963cd7b8-67a3-4be5-fb9f-2923df033e01"
      },
      "source": [
        "len(json.index)"
      ],
      "execution_count": 5,
      "outputs": [
        {
          "output_type": "execute_result",
          "data": {
            "text/plain": [
              "67777"
            ]
          },
          "metadata": {},
          "execution_count": 5
        }
      ]
    },
    {
      "cell_type": "code",
      "metadata": {
        "colab": {
          "base_uri": "https://localhost:8080/"
        },
        "id": "6rYEERnTjifk",
        "outputId": "a13e709c-0e94-4f3e-919f-0a2919be8bb8"
      },
      "source": [
        "json.shape[0]"
      ],
      "execution_count": 6,
      "outputs": [
        {
          "output_type": "execute_result",
          "data": {
            "text/plain": [
              "67777"
            ]
          },
          "metadata": {},
          "execution_count": 6
        }
      ]
    },
    {
      "cell_type": "code",
      "metadata": {
        "colab": {
          "base_uri": "https://localhost:8080/"
        },
        "id": "bn-1v127aKIG",
        "outputId": "06bb07bb-b1fc-42f3-86f1-1b5157cd9764"
      },
      "source": [
        "json.count()"
      ],
      "execution_count": 7,
      "outputs": [
        {
          "output_type": "execute_result",
          "data": {
            "text/plain": [
              "crawl_date              67777\n",
              "url                     67777\n",
              "filename                60564\n",
              "extension               67777\n",
              "mime_type_web_server    67777\n",
              "mime_type_tika          37787\n",
              "md5                     67777\n",
              "sha1                    67777\n",
              "content                 37787\n",
              "dtype: int64"
            ]
          },
          "metadata": {},
          "execution_count": 7
        }
      ]
    },
    {
      "cell_type": "markdown",
      "metadata": {
        "id": "38veKiPhwKo4"
      },
      "source": [
        "### How many unique json files are in the collection?\n",
        "\n",
        " We can see if an json files is unique or not by computing an [MD5 hash](https://en.wikipedia.org/wiki/MD5#MD5_hashes) of it, and comparing them. The exact same json file might have a filename of `example.jpg` or `foo.jpg`. If the hash is computed for each, we can see that even with different file names, they are actually the same json file. So, since we have both a `MD5` and `SHA1` hash column available in our DataFrame, we can just find the unique values, and count them!\n",
        "\n",
        "\n"
      ]
    },
    {
      "cell_type": "code",
      "metadata": {
        "colab": {
          "base_uri": "https://localhost:8080/"
        },
        "id": "WesM3kQowM5B",
        "outputId": "938d1fbb-e508-4232-e431-5bdb228745eb"
      },
      "source": [
        "len(json.md5.unique())"
      ],
      "execution_count": 8,
      "outputs": [
        {
          "output_type": "execute_result",
          "data": {
            "text/plain": [
              "36999"
            ]
          },
          "metadata": {},
          "execution_count": 8
        }
      ]
    },
    {
      "cell_type": "markdown",
      "metadata": {
        "id": "ZIXkI0-1wWQf"
      },
      "source": [
        "### What are the top 10 most occurring json files in the collection?\n",
        "\n",
        "Here we can take advantage of [`value_counts()`](https://pandas.pydata.org/docs/reference/api/pandas.DataFrame.value_counts.html) to provide us with a list of MD5 hashes, and their respective counts."
      ]
    },
    {
      "cell_type": "code",
      "metadata": {
        "colab": {
          "base_uri": "https://localhost:8080/"
        },
        "id": "8Ts03OFyjPIM",
        "outputId": "48e85917-2373-4d93-8979-461c8b44116b"
      },
      "source": [
        "json[\"md5\"].value_counts().head(10)"
      ],
      "execution_count": 9,
      "outputs": [
        {
          "output_type": "execute_result",
          "data": {
            "text/plain": [
              "d41d8cd98f00b204e9800998ecf8427e    29990\n",
              "d751713988987e9331980363e24189ce        9\n",
              "99914b932bd37a50b983c5e7c90ae93b        3\n",
              "84b4f4805ed723df479dd089028725e2        2\n",
              "aa2b863419e53e7113af1db86f795c18        2\n",
              "85a645a8bc98520c67cdc0807f53f445        2\n",
              "9249078298bef88f5c84061e97ab1a38        2\n",
              "03c9c3df91b3cfcbfc2fe454ff148539        2\n",
              "8638563604634f6fb81bdc70c5c892f7        2\n",
              "256136f133e5954eb8e36f75bdd32a79        2\n",
              "Name: md5, dtype: int64"
            ]
          },
          "metadata": {},
          "execution_count": 9
        }
      ]
    },
    {
      "cell_type": "markdown",
      "metadata": {
        "id": "FG7pGZUEwlaI"
      },
      "source": [
        "\n",
        "### What's the information around all of the occurances of `d41d8cd98f00b204e9800998ecf8427e`?\n",
        "\n",
        "What, you mean you don't know what `d41d8cd98f00b204e9800998ecf8427e` means? \n",
        "\n",
        "Let's find those json files in the DataFrame. We can here see some of the filenames used, it's dimensions, and it's URL.\n"
      ]
    },
    {
      "cell_type": "code",
      "metadata": {
        "colab": {
          "base_uri": "https://localhost:8080/",
          "height": 641
        },
        "id": "msmmm65lkSIK",
        "outputId": "42054a41-4116-4b93-f2d3-9497ac88998d"
      },
      "source": [
        "json.loc[json[\"md5\"] == \"d41d8cd98f00b204e9800998ecf8427e\"]"
      ],
      "execution_count": 10,
      "outputs": [
        {
          "output_type": "stream",
          "name": "stdout",
          "text": [
            "Warning: total number of rows (29990) exceeds max_rows (20000). Falling back to pandas display.\n"
          ]
        },
        {
          "output_type": "execute_result",
          "data": {
            "text/plain": [
              "           crawl_date                                                url  \\\n",
              "8      20200630031113  https://www.ualberta.ca/_emergency/emergency-m...   \n",
              "10     20200630151722    https://www.ualberta.ca/api/mediagallery/folder   \n",
              "14     20200630151815           https://www.ualberta.ca/api/camps/search   \n",
              "21     20200706143310  https://www.ualberta.ca/api/givingfaculties/fa...   \n",
              "23     20200706143316  https://www.ualberta.ca/api/givingprojects/pri...   \n",
              "...               ...                                                ...   \n",
              "67742  20220704150326  http://iwarrior.uwaterloo.ca/wp-json/wp/v2/tag...   \n",
              "67743  20220704150856  https://mathsoc.uwaterloo.ca/wp-json/wp/v2/tri...   \n",
              "67747  20220704151138  https://mathsoc.uwaterloo.ca/wp-json/wp/v2/ava...   \n",
              "67748  20220704151259  https://mathsoc.uwaterloo.ca/wp-json/wp/v2/ava...   \n",
              "67750  20220704151553   https://mathsoc.uwaterloo.ca/wp-json/wp/v2/types   \n",
              "\n",
              "                     filename extension mime_type_web_server mime_type_tika  \\\n",
              "8      emergency-message.json      json     application/json            NaN   \n",
              "10                     folder   unknown     application/json            NaN   \n",
              "14                     search   unknown     application/json            NaN   \n",
              "21                  faculties   unknown     application/json            NaN   \n",
              "23                 priorities   unknown     application/json            NaN   \n",
              "...                       ...       ...                  ...            ...   \n",
              "67742                     252   unknown     application/json            NaN   \n",
              "67743         tribe_organizer   unknown     application/json            NaN   \n",
              "67747         avada_portfolio   unknown     application/json            NaN   \n",
              "67748               avada_faq   unknown     application/json            NaN   \n",
              "67750                   types   unknown     application/json            NaN   \n",
              "\n",
              "                                    md5  \\\n",
              "8      d41d8cd98f00b204e9800998ecf8427e   \n",
              "10     d41d8cd98f00b204e9800998ecf8427e   \n",
              "14     d41d8cd98f00b204e9800998ecf8427e   \n",
              "21     d41d8cd98f00b204e9800998ecf8427e   \n",
              "23     d41d8cd98f00b204e9800998ecf8427e   \n",
              "...                                 ...   \n",
              "67742  d41d8cd98f00b204e9800998ecf8427e   \n",
              "67743  d41d8cd98f00b204e9800998ecf8427e   \n",
              "67747  d41d8cd98f00b204e9800998ecf8427e   \n",
              "67748  d41d8cd98f00b204e9800998ecf8427e   \n",
              "67750  d41d8cd98f00b204e9800998ecf8427e   \n",
              "\n",
              "                                           sha1 content  \n",
              "8      da39a3ee5e6b4b0d3255bfef95601890afd80709     NaN  \n",
              "10     da39a3ee5e6b4b0d3255bfef95601890afd80709     NaN  \n",
              "14     da39a3ee5e6b4b0d3255bfef95601890afd80709     NaN  \n",
              "21     da39a3ee5e6b4b0d3255bfef95601890afd80709     NaN  \n",
              "23     da39a3ee5e6b4b0d3255bfef95601890afd80709     NaN  \n",
              "...                                         ...     ...  \n",
              "67742  da39a3ee5e6b4b0d3255bfef95601890afd80709     NaN  \n",
              "67743  da39a3ee5e6b4b0d3255bfef95601890afd80709     NaN  \n",
              "67747  da39a3ee5e6b4b0d3255bfef95601890afd80709     NaN  \n",
              "67748  da39a3ee5e6b4b0d3255bfef95601890afd80709     NaN  \n",
              "67750  da39a3ee5e6b4b0d3255bfef95601890afd80709     NaN  \n",
              "\n",
              "[29990 rows x 9 columns]"
            ],
            "text/html": [
              "\n",
              "  <div id=\"df-460c4bb6-c516-4602-8784-24058c36edae\">\n",
              "    <div class=\"colab-df-container\">\n",
              "      <div>\n",
              "<style scoped>\n",
              "    .dataframe tbody tr th:only-of-type {\n",
              "        vertical-align: middle;\n",
              "    }\n",
              "\n",
              "    .dataframe tbody tr th {\n",
              "        vertical-align: top;\n",
              "    }\n",
              "\n",
              "    .dataframe thead th {\n",
              "        text-align: right;\n",
              "    }\n",
              "</style>\n",
              "<table border=\"1\" class=\"dataframe\">\n",
              "  <thead>\n",
              "    <tr style=\"text-align: right;\">\n",
              "      <th></th>\n",
              "      <th>crawl_date</th>\n",
              "      <th>url</th>\n",
              "      <th>filename</th>\n",
              "      <th>extension</th>\n",
              "      <th>mime_type_web_server</th>\n",
              "      <th>mime_type_tika</th>\n",
              "      <th>md5</th>\n",
              "      <th>sha1</th>\n",
              "      <th>content</th>\n",
              "    </tr>\n",
              "  </thead>\n",
              "  <tbody>\n",
              "    <tr>\n",
              "      <th>8</th>\n",
              "      <td>20200630031113</td>\n",
              "      <td>https://www.ualberta.ca/_emergency/emergency-m...</td>\n",
              "      <td>emergency-message.json</td>\n",
              "      <td>json</td>\n",
              "      <td>application/json</td>\n",
              "      <td>NaN</td>\n",
              "      <td>d41d8cd98f00b204e9800998ecf8427e</td>\n",
              "      <td>da39a3ee5e6b4b0d3255bfef95601890afd80709</td>\n",
              "      <td>NaN</td>\n",
              "    </tr>\n",
              "    <tr>\n",
              "      <th>10</th>\n",
              "      <td>20200630151722</td>\n",
              "      <td>https://www.ualberta.ca/api/mediagallery/folder</td>\n",
              "      <td>folder</td>\n",
              "      <td>unknown</td>\n",
              "      <td>application/json</td>\n",
              "      <td>NaN</td>\n",
              "      <td>d41d8cd98f00b204e9800998ecf8427e</td>\n",
              "      <td>da39a3ee5e6b4b0d3255bfef95601890afd80709</td>\n",
              "      <td>NaN</td>\n",
              "    </tr>\n",
              "    <tr>\n",
              "      <th>14</th>\n",
              "      <td>20200630151815</td>\n",
              "      <td>https://www.ualberta.ca/api/camps/search</td>\n",
              "      <td>search</td>\n",
              "      <td>unknown</td>\n",
              "      <td>application/json</td>\n",
              "      <td>NaN</td>\n",
              "      <td>d41d8cd98f00b204e9800998ecf8427e</td>\n",
              "      <td>da39a3ee5e6b4b0d3255bfef95601890afd80709</td>\n",
              "      <td>NaN</td>\n",
              "    </tr>\n",
              "    <tr>\n",
              "      <th>21</th>\n",
              "      <td>20200706143310</td>\n",
              "      <td>https://www.ualberta.ca/api/givingfaculties/fa...</td>\n",
              "      <td>faculties</td>\n",
              "      <td>unknown</td>\n",
              "      <td>application/json</td>\n",
              "      <td>NaN</td>\n",
              "      <td>d41d8cd98f00b204e9800998ecf8427e</td>\n",
              "      <td>da39a3ee5e6b4b0d3255bfef95601890afd80709</td>\n",
              "      <td>NaN</td>\n",
              "    </tr>\n",
              "    <tr>\n",
              "      <th>23</th>\n",
              "      <td>20200706143316</td>\n",
              "      <td>https://www.ualberta.ca/api/givingprojects/pri...</td>\n",
              "      <td>priorities</td>\n",
              "      <td>unknown</td>\n",
              "      <td>application/json</td>\n",
              "      <td>NaN</td>\n",
              "      <td>d41d8cd98f00b204e9800998ecf8427e</td>\n",
              "      <td>da39a3ee5e6b4b0d3255bfef95601890afd80709</td>\n",
              "      <td>NaN</td>\n",
              "    </tr>\n",
              "    <tr>\n",
              "      <th>...</th>\n",
              "      <td>...</td>\n",
              "      <td>...</td>\n",
              "      <td>...</td>\n",
              "      <td>...</td>\n",
              "      <td>...</td>\n",
              "      <td>...</td>\n",
              "      <td>...</td>\n",
              "      <td>...</td>\n",
              "      <td>...</td>\n",
              "    </tr>\n",
              "    <tr>\n",
              "      <th>67742</th>\n",
              "      <td>20220704150326</td>\n",
              "      <td>http://iwarrior.uwaterloo.ca/wp-json/wp/v2/tag...</td>\n",
              "      <td>252</td>\n",
              "      <td>unknown</td>\n",
              "      <td>application/json</td>\n",
              "      <td>NaN</td>\n",
              "      <td>d41d8cd98f00b204e9800998ecf8427e</td>\n",
              "      <td>da39a3ee5e6b4b0d3255bfef95601890afd80709</td>\n",
              "      <td>NaN</td>\n",
              "    </tr>\n",
              "    <tr>\n",
              "      <th>67743</th>\n",
              "      <td>20220704150856</td>\n",
              "      <td>https://mathsoc.uwaterloo.ca/wp-json/wp/v2/tri...</td>\n",
              "      <td>tribe_organizer</td>\n",
              "      <td>unknown</td>\n",
              "      <td>application/json</td>\n",
              "      <td>NaN</td>\n",
              "      <td>d41d8cd98f00b204e9800998ecf8427e</td>\n",
              "      <td>da39a3ee5e6b4b0d3255bfef95601890afd80709</td>\n",
              "      <td>NaN</td>\n",
              "    </tr>\n",
              "    <tr>\n",
              "      <th>67747</th>\n",
              "      <td>20220704151138</td>\n",
              "      <td>https://mathsoc.uwaterloo.ca/wp-json/wp/v2/ava...</td>\n",
              "      <td>avada_portfolio</td>\n",
              "      <td>unknown</td>\n",
              "      <td>application/json</td>\n",
              "      <td>NaN</td>\n",
              "      <td>d41d8cd98f00b204e9800998ecf8427e</td>\n",
              "      <td>da39a3ee5e6b4b0d3255bfef95601890afd80709</td>\n",
              "      <td>NaN</td>\n",
              "    </tr>\n",
              "    <tr>\n",
              "      <th>67748</th>\n",
              "      <td>20220704151259</td>\n",
              "      <td>https://mathsoc.uwaterloo.ca/wp-json/wp/v2/ava...</td>\n",
              "      <td>avada_faq</td>\n",
              "      <td>unknown</td>\n",
              "      <td>application/json</td>\n",
              "      <td>NaN</td>\n",
              "      <td>d41d8cd98f00b204e9800998ecf8427e</td>\n",
              "      <td>da39a3ee5e6b4b0d3255bfef95601890afd80709</td>\n",
              "      <td>NaN</td>\n",
              "    </tr>\n",
              "    <tr>\n",
              "      <th>67750</th>\n",
              "      <td>20220704151553</td>\n",
              "      <td>https://mathsoc.uwaterloo.ca/wp-json/wp/v2/types</td>\n",
              "      <td>types</td>\n",
              "      <td>unknown</td>\n",
              "      <td>application/json</td>\n",
              "      <td>NaN</td>\n",
              "      <td>d41d8cd98f00b204e9800998ecf8427e</td>\n",
              "      <td>da39a3ee5e6b4b0d3255bfef95601890afd80709</td>\n",
              "      <td>NaN</td>\n",
              "    </tr>\n",
              "  </tbody>\n",
              "</table>\n",
              "<p>29990 rows × 9 columns</p>\n",
              "</div>\n",
              "      <button class=\"colab-df-convert\" onclick=\"convertToInteractive('df-460c4bb6-c516-4602-8784-24058c36edae')\"\n",
              "              title=\"Convert this dataframe to an interactive table.\"\n",
              "              style=\"display:none;\">\n",
              "        \n",
              "  <svg xmlns=\"http://www.w3.org/2000/svg\" height=\"24px\"viewBox=\"0 0 24 24\"\n",
              "       width=\"24px\">\n",
              "    <path d=\"M0 0h24v24H0V0z\" fill=\"none\"/>\n",
              "    <path d=\"M18.56 5.44l.94 2.06.94-2.06 2.06-.94-2.06-.94-.94-2.06-.94 2.06-2.06.94zm-11 1L8.5 8.5l.94-2.06 2.06-.94-2.06-.94L8.5 2.5l-.94 2.06-2.06.94zm10 10l.94 2.06.94-2.06 2.06-.94-2.06-.94-.94-2.06-.94 2.06-2.06.94z\"/><path d=\"M17.41 7.96l-1.37-1.37c-.4-.4-.92-.59-1.43-.59-.52 0-1.04.2-1.43.59L10.3 9.45l-7.72 7.72c-.78.78-.78 2.05 0 2.83L4 21.41c.39.39.9.59 1.41.59.51 0 1.02-.2 1.41-.59l7.78-7.78 2.81-2.81c.8-.78.8-2.07 0-2.86zM5.41 20L4 18.59l7.72-7.72 1.47 1.35L5.41 20z\"/>\n",
              "  </svg>\n",
              "      </button>\n",
              "      \n",
              "  <style>\n",
              "    .colab-df-container {\n",
              "      display:flex;\n",
              "      flex-wrap:wrap;\n",
              "      gap: 12px;\n",
              "    }\n",
              "\n",
              "    .colab-df-convert {\n",
              "      background-color: #E8F0FE;\n",
              "      border: none;\n",
              "      border-radius: 50%;\n",
              "      cursor: pointer;\n",
              "      display: none;\n",
              "      fill: #1967D2;\n",
              "      height: 32px;\n",
              "      padding: 0 0 0 0;\n",
              "      width: 32px;\n",
              "    }\n",
              "\n",
              "    .colab-df-convert:hover {\n",
              "      background-color: #E2EBFA;\n",
              "      box-shadow: 0px 1px 2px rgba(60, 64, 67, 0.3), 0px 1px 3px 1px rgba(60, 64, 67, 0.15);\n",
              "      fill: #174EA6;\n",
              "    }\n",
              "\n",
              "    [theme=dark] .colab-df-convert {\n",
              "      background-color: #3B4455;\n",
              "      fill: #D2E3FC;\n",
              "    }\n",
              "\n",
              "    [theme=dark] .colab-df-convert:hover {\n",
              "      background-color: #434B5C;\n",
              "      box-shadow: 0px 1px 3px 1px rgba(0, 0, 0, 0.15);\n",
              "      filter: drop-shadow(0px 1px 2px rgba(0, 0, 0, 0.3));\n",
              "      fill: #FFFFFF;\n",
              "    }\n",
              "  </style>\n",
              "\n",
              "      <script>\n",
              "        const buttonEl =\n",
              "          document.querySelector('#df-460c4bb6-c516-4602-8784-24058c36edae button.colab-df-convert');\n",
              "        buttonEl.style.display =\n",
              "          google.colab.kernel.accessAllowed ? 'block' : 'none';\n",
              "\n",
              "        async function convertToInteractive(key) {\n",
              "          const element = document.querySelector('#df-460c4bb6-c516-4602-8784-24058c36edae');\n",
              "          const dataTable =\n",
              "            await google.colab.kernel.invokeFunction('convertToInteractive',\n",
              "                                                     [key], {});\n",
              "          if (!dataTable) return;\n",
              "\n",
              "          const docLinkHtml = 'Like what you see? Visit the ' +\n",
              "            '<a target=\"_blank\" href=https://colab.research.google.com/notebooks/data_table.ipynb>data table notebook</a>'\n",
              "            + ' to learn more about interactive tables.';\n",
              "          element.innerHTML = '';\n",
              "          dataTable['output_type'] = 'display_data';\n",
              "          await google.colab.output.renderOutput(dataTable, element);\n",
              "          const docLink = document.createElement('div');\n",
              "          docLink.innerHTML = docLinkHtml;\n",
              "          element.appendChild(docLink);\n",
              "        }\n",
              "      </script>\n",
              "    </div>\n",
              "  </div>\n",
              "  "
            ]
          },
          "metadata": {},
          "execution_count": 10
        }
      ]
    },
    {
      "cell_type": "markdown",
      "metadata": {
        "id": "GbLLZW2awzCv"
      },
      "source": [
        "### What are the top 10 most occuring filenames in the collection?\n",
        "\n",
        "Note that this is of course different than the MD5 results up above. Here we are focusing _just_ on filename. So `embed` for example, might actually be referring to different json files who happen to have the same name.\n",
        "\n",
        "Here we can use `value_counts()` again, but this time we'll create a variable for the top filenames so we can use it later.\n",
        "\n"
      ]
    },
    {
      "cell_type": "code",
      "metadata": {
        "colab": {
          "base_uri": "https://localhost:8080/"
        },
        "id": "pQaw54ACkwdZ",
        "outputId": "5bf5d378-5c1c-4322-b600-effecc91f9d0"
      },
      "source": [
        "top_filenames = json[\"filename\"].value_counts().head(10)\n",
        "top_filenames"
      ],
      "execution_count": 11,
      "outputs": [
        {
          "output_type": "execute_result",
          "data": {
            "text/plain": [
              "embed         17607\n",
              "index.php      8515\n",
              "comments       5630\n",
              "media          3546\n",
              "posts          1383\n",
              "categories     1293\n",
              "tags           1270\n",
              "v1              743\n",
              "browse          724\n",
              "pages           363\n",
              "Name: filename, dtype: int64"
            ]
          },
          "metadata": {},
          "execution_count": 11
        }
      ]
    },
    {
      "cell_type": "markdown",
      "metadata": {
        "id": "Z7F3re20BQRI"
      },
      "source": [
        "### Let's create our first graph!\n",
        "\n",
        "We'll plot the data first with pandas [plot](https://pandas.pydata.org/docs/reference/api/pandas.Series.plot.html) functionality, and then plot the data with [Altair](https://altair-viz.github.io/)."
      ]
    },
    {
      "cell_type": "code",
      "metadata": {
        "colab": {
          "base_uri": "https://localhost:8080/",
          "height": 696
        },
        "id": "sRvlstfsBWEZ",
        "outputId": "e53fe864-a19c-4ed3-c81d-5a73f0837ef1"
      },
      "source": [
        "top_filenames_chart = top_filenames.plot.bar(figsize=(25, 10))\n",
        "\n",
        "top_filenames_chart.set_title(\"Top Filenames\", fontsize=22)\n",
        "top_filenames_chart.set_xlabel(\"Filename\", fontsize=20)\n",
        "top_filenames_chart.set_ylabel(\"Count\", fontsize=20)"
      ],
      "execution_count": 12,
      "outputs": [
        {
          "output_type": "execute_result",
          "data": {
            "text/plain": [
              "Text(0, 0.5, 'Count')"
            ]
          },
          "metadata": {},
          "execution_count": 12
        },
        {
          "output_type": "display_data",
          "data": {
            "text/plain": [
              "<Figure size 1800x720 with 1 Axes>"
            ],
            "image/png": "[encoded data removed]"
          },
          "metadata": {
            "needs_background": "light"
          }
        }
      ]
    },
    {
      "cell_type": "markdown",
      "metadata": {
        "id": "pQgeOObvgLvK"
      },
      "source": [
        "Now let's setup [Altair](https://altair-viz.github.io/), and plot the data with Altair. Altair is useful for creating vizualizations since they can be easily exported as a PNG or SVG."
      ]
    },
    {
      "cell_type": "code",
      "metadata": {
        "id": "Q7Z4J6qjWaVM"
      },
      "source": [
        "import altair as alt"
      ],
      "execution_count": 13,
      "outputs": []
    },
    {
      "cell_type": "code",
      "metadata": {
        "colab": {
          "base_uri": "https://localhost:8080/",
          "height": 828
        },
        "id": "s0xwvILYWkgg",
        "outputId": "47d95b19-d011-4934-a992-178367ce0adc"
      },
      "source": [
        "top_filenames_altair = (\n",
        "    json[\"filename\"]\n",
        "    .value_counts()\n",
        "    .head(10)\n",
        "    .rename_axis(\"Filename\")\n",
        "    .reset_index(name=\"Count\")\n",
        ")\n",
        "\n",
        "filenames_bar = (\n",
        "    alt.Chart(top_filenames_altair)\n",
        "    .mark_bar()\n",
        "    .encode(x=alt.X(\"Filename:O\", sort=\"-y\"), y=alt.Y(\"Count:Q\"))\n",
        ")\n",
        "\n",
        "filenames_rule = (\n",
        "    alt.Chart(top_filenames_altair).mark_rule(color=\"red\").encode(y=\"mean(Count):Q\")\n",
        ")\n",
        "\n",
        "\n",
        "filenames_text = filenames_bar.mark_text(align=\"center\", baseline=\"bottom\").encode(\n",
        "    text=\"Count:Q\"\n",
        ")\n",
        "\n",
        "(filenames_bar + filenames_rule + filenames_text).properties(\n",
        "    width=1400, height=700, title=\"Top Filenames\"\n",
        ")"
      ],
      "execution_count": 14,
      "outputs": [
        {
          "output_type": "execute_result",
          "data": {
            "text/html": [
              "\n",
              "<div id=\"altair-viz-2122e6a38a0041dead1cf90351b66eee\"></div>\n",
              "<script type=\"text/javascript\">\n",
              "  var VEGA_DEBUG = (typeof VEGA_DEBUG == \"undefined\") ? {} : VEGA_DEBUG;\n",
              "  (function(spec, embedOpt){\n",
              "    let outputDiv = document.currentScript.previousElementSibling;\n",
              "    if (outputDiv.id !== \"altair-viz-2122e6a38a0041dead1cf90351b66eee\") {\n",
              "      outputDiv = document.getElementById(\"altair-viz-2122e6a38a0041dead1cf90351b66eee\");\n",
              "    }\n",
              "    const paths = {\n",
              "      \"vega\": \"https://cdn.jsdelivr.net/npm//vega@5?noext\",\n",
              "      \"vega-lib\": \"https://cdn.jsdelivr.net/npm//vega-lib?noext\",\n",
              "      \"vega-lite\": \"https://cdn.jsdelivr.net/npm//vega-lite@4.17.0?noext\",\n",
              "      \"vega-embed\": \"https://cdn.jsdelivr.net/npm//vega-embed@6?noext\",\n",
              "    };\n",
              "\n",
              "    function maybeLoadScript(lib, version) {\n",
              "      var key = `${lib.replace(\"-\", \"\")}_version`;\n",
              "      return (VEGA_DEBUG[key] == version) ?\n",
              "        Promise.resolve(paths[lib]) :\n",
              "        new Promise(function(resolve, reject) {\n",
              "          var s = document.createElement('script');\n",
              "          document.getElementsByTagName(\"head\")[0].appendChild(s);\n",
              "          s.async = true;\n",
              "          s.onload = () => {\n",
              "            VEGA_DEBUG[key] = version;\n",
              "            return resolve(paths[lib]);\n",
              "          };\n",
              "          s.onerror = () => reject(`Error loading script: ${paths[lib]}`);\n",
              "          s.src = paths[lib];\n",
              "        });\n",
              "    }\n",
              "\n",
              "    function showError(err) {\n",
              "      outputDiv.innerHTML = `<div class=\"error\" style=\"color:red;\">${err}</div>`;\n",
              "      throw err;\n",
              "    }\n",
              "\n",
              "    function displayChart(vegaEmbed) {\n",
              "      vegaEmbed(outputDiv, spec, embedOpt)\n",
              "        .catch(err => showError(`Javascript Error: ${err.message}<br>This usually means there's a typo in your chart specification. See the javascript console for the full traceback.`));\n",
              "    }\n",
              "\n",
              "    if(typeof define === \"function\" && define.amd) {\n",
              "      requirejs.config({paths});\n",
              "      require([\"vega-embed\"], displayChart, err => showError(`Error loading script: ${err.message}`));\n",
              "    } else {\n",
              "      maybeLoadScript(\"vega\", \"5\")\n",
              "        .then(() => maybeLoadScript(\"vega-lite\", \"4.17.0\"))\n",
              "        .then(() => maybeLoadScript(\"vega-embed\", \"6\"))\n",
              "        .catch(showError)\n",
              "        .then(() => displayChart(vegaEmbed));\n",
              "    }\n",
              "  })({\"config\": {\"view\": {\"continuousWidth\": 400, \"continuousHeight\": 300}}, \"layer\": [{\"mark\": \"bar\", \"encoding\": {\"x\": {\"field\": \"Filename\", \"sort\": \"-y\", \"type\": \"ordinal\"}, \"y\": {\"field\": \"Count\", \"type\": \"quantitative\"}}}, {\"mark\": {\"type\": \"rule\", \"color\": \"red\"}, \"encoding\": {\"y\": {\"aggregate\": \"mean\", \"field\": \"Count\", \"type\": \"quantitative\"}}}, {\"mark\": {\"type\": \"text\", \"align\": \"center\", \"baseline\": \"bottom\"}, \"encoding\": {\"text\": {\"field\": \"Count\", \"type\": \"quantitative\"}, \"x\": {\"field\": \"Filename\", \"sort\": \"-y\", \"type\": \"ordinal\"}, \"y\": {\"field\": \"Count\", \"type\": \"quantitative\"}}}], \"data\": {\"name\": \"data-6bdb068e6c05b32605abf79798e0d071\"}, \"height\": 700, \"title\": \"Top Filenames\", \"width\": 1400, \"$schema\": \"https://vega.github.io/schema/vega-lite/v4.17.0.json\", \"datasets\": {\"data-6bdb068e6c05b32605abf79798e0d071\": [{\"Filename\": \"embed\", \"Count\": 17607}, {\"Filename\": \"index.php\", \"Count\": 8515}, {\"Filename\": \"comments\", \"Count\": 5630}, {\"Filename\": \"media\", \"Count\": 3546}, {\"Filename\": \"posts\", \"Count\": 1383}, {\"Filename\": \"categories\", \"Count\": 1293}, {\"Filename\": \"tags\", \"Count\": 1270}, {\"Filename\": \"v1\", \"Count\": 743}, {\"Filename\": \"browse\", \"Count\": 724}, {\"Filename\": \"pages\", \"Count\": 363}]}}, {\"mode\": \"vega-lite\"});\n",
              "</script>"
            ],
            "text/plain": [
              "alt.LayerChart(...)"
            ]
          },
          "metadata": {},
          "execution_count": 14
        }
      ]
    },
    {
      "cell_type": "markdown",
      "metadata": {
        "id": "BneaN9cgGoly"
      },
      "source": [
        "### How about a file format distribution?\n",
        "\n",
        "What _kind_ of json files are present? We can discover this by checking their \"media type\", or [MIME type](https://en.wikipedia.org/wiki/Media_type). \n",
        "\n",
        "\n",
        "\n",
        "\n"
      ]
    },
    {
      "cell_type": "code",
      "metadata": {
        "colab": {
          "base_uri": "https://localhost:8080/",
          "height": 823
        },
        "id": "RDd-J8D-GwDk",
        "outputId": "b9752e90-8c8e-4199-ce52-ab0019403f75"
      },
      "source": [
        "json_mime_types = (\n",
        "    json[\"mime_type_tika\"]\n",
        "    .value_counts()\n",
        "    .head(5)\n",
        "    .rename_axis(\"MIME Type\")\n",
        "    .reset_index(name=\"Count\")\n",
        ")\n",
        "\n",
        "json_mimes_bar = (\n",
        "    alt.Chart(json_mime_types)\n",
        "    .mark_bar()\n",
        "    .encode(x=alt.X(\"MIME Type:O\", sort=\"-y\"), y=alt.Y(\"Count:Q\"))\n",
        ")\n",
        "\n",
        "json_mime_rule = (\n",
        "    alt.Chart(json_mime_types).mark_rule(color=\"red\").encode(y=\"mean(Count):Q\")\n",
        ")\n",
        "\n",
        "json_mime_text = json_mimes_bar.mark_text(align=\"center\", baseline=\"bottom\").encode(\n",
        "    text=\"Count:Q\"\n",
        ")\n",
        "\n",
        "(json_mimes_bar + json_mime_rule + json_mime_text).properties(\n",
        "    width=1400, height=700, title=\"JSON File Format Distribution\"\n",
        ")"
      ],
      "execution_count": 15,
      "outputs": [
        {
          "output_type": "execute_result",
          "data": {
            "text/html": [
              "\n",
              "<div id=\"altair-viz-39393d920dc04b228ac6012b75a445ba\"></div>\n",
              "<script type=\"text/javascript\">\n",
              "  var VEGA_DEBUG = (typeof VEGA_DEBUG == \"undefined\") ? {} : VEGA_DEBUG;\n",
              "  (function(spec, embedOpt){\n",
              "    let outputDiv = document.currentScript.previousElementSibling;\n",
              "    if (outputDiv.id !== \"altair-viz-39393d920dc04b228ac6012b75a445ba\") {\n",
              "      outputDiv = document.getElementById(\"altair-viz-39393d920dc04b228ac6012b75a445ba\");\n",
              "    }\n",
              "    const paths = {\n",
              "      \"vega\": \"https://cdn.jsdelivr.net/npm//vega@5?noext\",\n",
              "      \"vega-lib\": \"https://cdn.jsdelivr.net/npm//vega-lib?noext\",\n",
              "      \"vega-lite\": \"https://cdn.jsdelivr.net/npm//vega-lite@4.17.0?noext\",\n",
              "      \"vega-embed\": \"https://cdn.jsdelivr.net/npm//vega-embed@6?noext\",\n",
              "    };\n",
              "\n",
              "    function maybeLoadScript(lib, version) {\n",
              "      var key = `${lib.replace(\"-\", \"\")}_version`;\n",
              "      return (VEGA_DEBUG[key] == version) ?\n",
              "        Promise.resolve(paths[lib]) :\n",
              "        new Promise(function(resolve, reject) {\n",
              "          var s = document.createElement('script');\n",
              "          document.getElementsByTagName(\"head\")[0].appendChild(s);\n",
              "          s.async = true;\n",
              "          s.onload = () => {\n",
              "            VEGA_DEBUG[key] = version;\n",
              "            return resolve(paths[lib]);\n",
              "          };\n",
              "          s.onerror = () => reject(`Error loading script: ${paths[lib]}`);\n",
              "          s.src = paths[lib];\n",
              "        });\n",
              "    }\n",
              "\n",
              "    function showError(err) {\n",
              "      outputDiv.innerHTML = `<div class=\"error\" style=\"color:red;\">${err}</div>`;\n",
              "      throw err;\n",
              "    }\n",
              "\n",
              "    function displayChart(vegaEmbed) {\n",
              "      vegaEmbed(outputDiv, spec, embedOpt)\n",
              "        .catch(err => showError(`Javascript Error: ${err.message}<br>This usually means there's a typo in your chart specification. See the javascript console for the full traceback.`));\n",
              "    }\n",
              "\n",
              "    if(typeof define === \"function\" && define.amd) {\n",
              "      requirejs.config({paths});\n",
              "      require([\"vega-embed\"], displayChart, err => showError(`Error loading script: ${err.message}`));\n",
              "    } else {\n",
              "      maybeLoadScript(\"vega\", \"5\")\n",
              "        .then(() => maybeLoadScript(\"vega-lite\", \"4.17.0\"))\n",
              "        .then(() => maybeLoadScript(\"vega-embed\", \"6\"))\n",
              "        .catch(showError)\n",
              "        .then(() => displayChart(vegaEmbed));\n",
              "    }\n",
              "  })({\"config\": {\"view\": {\"continuousWidth\": 400, \"continuousHeight\": 300}}, \"layer\": [{\"mark\": \"bar\", \"encoding\": {\"x\": {\"field\": \"MIME Type\", \"sort\": \"-y\", \"type\": \"ordinal\"}, \"y\": {\"field\": \"Count\", \"type\": \"quantitative\"}}}, {\"mark\": {\"type\": \"rule\", \"color\": \"red\"}, \"encoding\": {\"y\": {\"aggregate\": \"mean\", \"field\": \"Count\", \"type\": \"quantitative\"}}}, {\"mark\": {\"type\": \"text\", \"align\": \"center\", \"baseline\": \"bottom\"}, \"encoding\": {\"text\": {\"field\": \"Count\", \"type\": \"quantitative\"}, \"x\": {\"field\": \"MIME Type\", \"sort\": \"-y\", \"type\": \"ordinal\"}, \"y\": {\"field\": \"Count\", \"type\": \"quantitative\"}}}], \"data\": {\"name\": \"data-d87ba73c0d328cd975c1818dc2e9d666\"}, \"height\": 700, \"title\": \"JSON File Format Distribution\", \"width\": 1400, \"$schema\": \"https://vega.github.io/schema/vega-lite/v4.17.0.json\", \"datasets\": {\"data-d87ba73c0d328cd975c1818dc2e9d666\": [{\"MIME Type\": \"text/plain\", \"Count\": 37670}, {\"MIME Type\": \"text/html\", \"Count\": 117}]}}, {\"mode\": \"vega-lite\"});\n",
              "</script>"
            ],
            "text/plain": [
              "alt.LayerChart(...)"
            ]
          },
          "metadata": {},
          "execution_count": 15
        }
      ]
    },
    {
      "cell_type": "markdown",
      "metadata": {
        "id": "QUJR-jjqNxCL"
      },
      "source": [
        "### How do I get the actual json?\n",
        "\n",
        "...or, how do I get to the actual binary files described by each file format information derivative?\n",
        "\n",
        "There are a few options!\n",
        "\n",
        "1. `wget` or `curl` from the live URL, or a replay URL\n",
        "  * Live web URL\n",
        "    * `wget` or `curl` the value of the `url` column\n",
        "  * Replay web URL\n",
        "    * `wget` or `curl` the value of the `crawl_date` and `url` column using the following pattern:\n",
        "      * `https://web.archive.org/web/` + `crawl_date` + `/` + `url`\n",
        "        * https://web.archive.org/web/20120119124734/http://www.archive.org/images/glogo.png\n",
        "      * `http://wayback.archive-it.org/14462/` + `crawl_date` + `/` + `url`\n",
        "        * https://wayback.archive-it.org/14462/20210524212740/https://ruebot.net/visualization/elxn42/featured_hu33a17dfb90e2c5ed77f783db14a6e53a_5126291_550x0_resize_q90_box_2.png\n",
        "2. Use a scripting language, such as Python\n",
        "  * Make use of the `url` and `filename` columns (and `crawl_date` if you want to use the replay URL)\n",
        "  * `import requests`\n",
        "  * `requests.get(url, allow_redirects=True)`\n",
        "  * `open('filename', 'wb').write(r.content)`\n",
        "3. Use the [Archives Unleashed Toolkit](https://aut.docs.archivesunleashed.org/docs/extract-binary) (if you have access to the W/ARC files)."
      ]
    },
    {
      "cell_type": "markdown",
      "source": [
        "If you wanted to download the json files using the replay URL, below a method for doing so.\n",
        "\n",
        "First, you'll want to setup a replay url base url. Here we'll use the Archive-It Wayback instance for the collection."
      ],
      "metadata": {
        "id": "8yoFE2xLAlwk"
      }
    },
    {
      "cell_type": "code",
      "source": [
        "wayback_url = 'http://wayback.archive-it.org/89/'"
      ],
      "metadata": {
        "id": "RxrOHn_2AicZ"
      },
      "execution_count": 16,
      "outputs": []
    },
    {
      "cell_type": "markdown",
      "source": [
        "Next we'll create a new column using a lambda function. If you're familiar with working in jsons, what we're doing here is basically concatenating some column values together and creating a new column."
      ],
      "metadata": {
        "id": "jCTmrEBGA-Yd"
      }
    },
    {
      "cell_type": "code",
      "source": [
        "json['replay_url'] = json.apply(lambda row: str(wayback_url + str(row['crawl_date']) + \"/\" + row['url']), axis=1)"
      ],
      "metadata": {
        "id": "p5HoWxkFA6C8"
      },
      "execution_count": 17,
      "outputs": []
    },
    {
      "cell_type": "markdown",
      "source": [
        "Then we can export that new column we created out to a file, so we can use it with `wget` to download all the json files!"
      ],
      "metadata": {
        "id": "q87tSYyIBIiZ"
      }
    },
    {
      "cell_type": "code",
      "source": [
        "json['replay_url'].head().to_csv('89_json_urls.txt', index=False, header=False)"
      ],
      "metadata": {
        "id": "wyhpsf9wBN1a"
      },
      "execution_count": 18,
      "outputs": []
    },
    {
      "cell_type": "markdown",
      "source": [
        "Finally, we can pass the file to `wget` to use as a download list. You can also speed this process up using `xargs` or `parallel`."
      ],
      "metadata": {
        "id": "81a3q7feu5Ji"
      }
    },
    {
      "cell_type": "code",
      "source": [
        "!wget --random-wait -i 89_json_urls.txt"
      ],
      "metadata": {
        "colab": {
          "base_uri": "https://localhost:8080/"
        },
        "id": "D_p4qGKoBRaZ",
        "outputId": "4aeb3d0f-70e2-4376-b442-8cfad0165406"
      },
      "execution_count": 19,
      "outputs": [
        {
          "output_type": "stream",
          "name": "stdout",
          "text": [
            "--2022-11-24 19:40:47--  http://wayback.archive-it.org/89/20200629191723/https://api.ualberta.cloud/news?feed=http%3A%2F%2Ffeeds.feedburner.com%2FUalbertaInTheQuadUalbertaOnMedium\n",
            "Resolving wayback.archive-it.org (wayback.archive-it.org)... 207.241.232.8, 207.241.225.8\n",
            "Connecting to wayback.archive-it.org (wayback.archive-it.org)|207.241.232.8|:80... connected.\n",
            "HTTP request sent, awaiting response... 200 OK\n",
            "Length: unspecified [text/html]\n",
            "Saving to: ‘news?feed=http:%2F%2Ffeeds.feedburner.com%2FUalbertaInTheQuadUalbertaOnMedium’\n",
            "\n",
            "news?feed=http:%2F%     [ <=>                ]   4.50K  --.-KB/s    in 0.001s  \n",
            "\n",
            "2022-11-24 19:40:47 (6.57 MB/s) - ‘news?feed=http:%2F%2Ffeeds.feedburner.com%2FUalbertaInTheQuadUalbertaOnMedium’ saved [4613]\n",
            "\n",
            "--2022-11-24 19:40:47--  http://wayback.archive-it.org/89/20200629191731/https://api.ualberta.cloud/news?feed=http%3A%2F%2Ffeeds.feedburner.com%2FUalbertaNoticesInTheQuadUalbertaOnMedium\n",
            "Reusing existing connection to wayback.archive-it.org:80.\n",
            "HTTP request sent, awaiting response... 200 OK\n",
            "Length: unspecified [text/html]\n",
            "Saving to: ‘news?feed=http:%2F%2Ffeeds.feedburner.com%2FUalbertaNoticesInTheQuadUalbertaOnMedium’\n",
            "\n",
            "news?feed=http:%2F%     [ <=>                ]   4.50K  --.-KB/s    in 0.001s  \n",
            "\n",
            "2022-11-24 19:40:47 (6.54 MB/s) - ‘news?feed=http:%2F%2Ffeeds.feedburner.com%2FUalbertaNoticesInTheQuadUalbertaOnMedium’ saved [4613]\n",
            "\n",
            "--2022-11-24 19:40:47--  http://wayback.archive-it.org/89/20200629191731/https://live.clive.cloud/page-views/162/visitors/ob0FLKiX9YzrKKgmYCTpAL6sa2E96oC4Qxhf2rnvc9tfBAW7XNUSZdBNdAWEZleO/register?t=University%20of%20Alberta\n",
            "Reusing existing connection to wayback.archive-it.org:80.\n",
            "HTTP request sent, awaiting response... 200 OK\n",
            "Length: unspecified [text/html]\n",
            "Saving to: ‘register?t=University of Alberta’\n",
            "\n",
            "register?t=Universi     [ <=>                ]   4.50K  --.-KB/s    in 0.001s  \n",
            "\n",
            "2022-11-24 19:40:48 (4.21 MB/s) - ‘register?t=University of Alberta’ saved [4613]\n",
            "\n",
            "--2022-11-24 19:40:48--  http://wayback.archive-it.org/89/20200629192519/https://www.ualberta.ca/_emergency/emergency-message.json?_=1593458209736\n",
            "Reusing existing connection to wayback.archive-it.org:80.\n",
            "HTTP request sent, awaiting response... 200 OK\n",
            "Length: unspecified [text/html]\n",
            "Saving to: ‘emergency-message.json?_=1593458209736’\n",
            "\n",
            "emergency-message.j     [ <=>                ]   4.50K  --.-KB/s    in 0.001s  \n",
            "\n",
            "2022-11-24 19:40:48 (4.16 MB/s) - ‘emergency-message.json?_=1593458209736’ saved [4613]\n",
            "\n",
            "--2022-11-24 19:40:48--  http://wayback.archive-it.org/89/20200629192600/https://www.ualberta.ca/api/twitter/ualberta?count=1\n",
            "Reusing existing connection to wayback.archive-it.org:80.\n",
            "HTTP request sent, awaiting response... 200 OK\n",
            "Length: unspecified [text/html]\n",
            "Saving to: ‘ualberta?count=1’\n",
            "\n",
            "ualberta?count=1        [ <=>                ]   4.50K  --.-KB/s    in 0.001s  \n",
            "\n",
            "2022-11-24 19:40:48 (3.29 MB/s) - ‘ualberta?count=1’ saved [4613]\n",
            "\n",
            "FINISHED --2022-11-24 19:40:48--\n",
            "Total wall clock time: 1.3s\n",
            "Downloaded: 5 files, 23K in 0.005s (4.60 MB/s)\n"
          ]
        }
      ]
    }
  ]
}