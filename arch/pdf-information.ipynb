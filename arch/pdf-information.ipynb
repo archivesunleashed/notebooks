{
  "nbformat": 4,
  "nbformat_minor": 0,
  "metadata": {
    "colab": {
      "provenance": [],
      "include_colab_link": true
    },
    "kernelspec": {
      "name": "python3",
      "display_name": "Python 3"
    },
    "language_info": {
      "name": "python"
    }
  },
  "cells": [
    {
      "cell_type": "markdown",
      "metadata": {
        "id": "view-in-github",
        "colab_type": "text"
      },
      "source": [
        "<a href=\"https://colab.research.google.com/github/archivesunleashed/notebooks/blob/main/arch/pdf-information.ipynb\" target=\"_parent\"><img src=\"https://colab.research.google.com/assets/colab-badge.svg\" alt=\"Open In Colab\"/></a>"
      ]
    },
    {
      "cell_type": "markdown",
      "source": [
        "# PDF Information Dataset Exploration\n",
        "\n",
        "We're going to take a look at a few examples of how we can explore the PDF Information dataset. \n",
        "\n",
        "The first thing we need to do is enter the URL for our PDF Information dataset in the cell below. You can get this by right clicking the Download icon, and selecting \"Copy Link\"."
      ],
      "metadata": {
        "id": "vAyuRQ2PJIdc"
      }
    },
    {
      "cell_type": "code",
      "source": [
        "dataset = 'https://webdata.archive-it.org/ait/files/download/ARCHIVEIT-03010/PdfInformationExtraction/pdf-information.csv.gz?access=OF7MAJJ7EVVG5AOLFTM7DIXSJD47LUEU' #@param {type:\"string\"}\n",
        "print(dataset)"
      ],
      "metadata": {
        "colab": {
          "base_uri": "https://localhost:8080/"
        },
        "cellView": "form",
        "id": "RfhJiesWVpAf",
        "outputId": "6b6cde86-4c0b-47d0-c8a1-323b8d531cdf"
      },
      "execution_count": 1,
      "outputs": [
        {
          "output_type": "stream",
          "name": "stdout",
          "text": [
            "https://webdata.archive-it.org/ait/files/download/ARCHIVEIT-03010/PdfInformationExtraction/pdf-information.csv.gz?access=OF7MAJJ7EVVG5AOLFTM7DIXSJD47LUEU\n"
          ]
        }
      ]
    },
    {
      "cell_type": "markdown",
      "source": [
        "## pandas\n",
        "\n",
        "Next, we'll setup our environment so we can load our PDF Information dataset into [pandas](https://pandas.pydata.org) DataFrames. If you're unfamiliar with DataFrames, but you've worked with spreadsheets before, you should feel comfortable pretty quick."
      ],
      "metadata": {
        "id": "Z14F2cIWJVW0"
      }
    },
    {
      "cell_type": "code",
      "execution_count": 2,
      "metadata": {
        "id": "Chh6tt3HHF1s"
      },
      "outputs": [],
      "source": [
        "import pandas as pd"
      ]
    },
    {
      "cell_type": "markdown",
      "source": [
        "## Data Table Display\n",
        "\n",
        "Colab includes an extension that renders pandas DataFrames into interactive displays that can be filtered, sorted, and explored dynamically. This can be very useful for taking a look at what each DataFrame provides, and doing some intital filtering!\n",
        "\n",
        "Data table display for pandas DataFrames can be enabled by running:\n",
        "```python\n",
        "%load_ext google.colab.data_table\n",
        "```\n",
        "and disabled by running\n",
        "```python\n",
        "%unload_ext google.colab.data_table\n",
        "```"
      ],
      "metadata": {
        "id": "sH81XCf3I3xY"
      }
    },
    {
      "cell_type": "code",
      "source": [
        "%load_ext google.colab.data_table"
      ],
      "metadata": {
        "id": "-qyCnbvBI7n6"
      },
      "execution_count": 3,
      "outputs": []
    },
    {
      "cell_type": "markdown",
      "source": [
        "## Loading our ARCH Dataset as a DataFrame\n",
        "\n",
        "---\n",
        "\n",
        "\n",
        "Next, we'll create pandas DataFrame from our dataset, and show a preview of it using the Data Table Display."
      ],
      "metadata": {
        "id": "6prR7j1zI_D5"
      }
    },
    {
      "cell_type": "code",
      "source": [
        "pdf = pd.read_csv(dataset, compression='gzip')\n",
        "pdf"
      ],
      "metadata": {
        "colab": {
          "base_uri": "https://localhost:8080/",
          "height": 620
        },
        "id": "YL0LQaUNHRKx",
        "outputId": "e5f286c2-62a3-490a-d27f-696599fccee3"
      },
      "execution_count": 4,
      "outputs": [
        {
          "output_type": "execute_result",
          "data": {
            "text/plain": [
              "    crawl_date                                                url  \\\n",
              "0     20120118  http://www.protectinnovation.com/downloads/let...   \n",
              "1     20120118  http://www.librarycopyrightalliance.org/bm~doc...   \n",
              "2     20120118  http://www.michaelgeist.ca/index2.php?option=c...   \n",
              "3     20120119  http://dq99alanzv66m.cloudfront.net/sopa/img/1...   \n",
              "4     20120118  https://static.googleusercontent.com/external_...   \n",
              "5     20120118  http://joshdsigns.com/pdf/curriculum_joshdsign...   \n",
              "6     20120119       http://oreilly.com/pdf/sample-newsletter.pdf   \n",
              "7     20120119  http://bikinicarwashorlando.com/wp-content/upl...   \n",
              "8     20120119  http://www.enriquedans.com/wp-content/uploads/...   \n",
              "9     20120119          http://chuda.org.ve/descargas/Columna.pdf   \n",
              "10    20120119  http://www.enriquedans.com/wp-content/uploads/...   \n",
              "11    20120118  http://www.mpaa.org/resources/995e11f5-135c-4f...   \n",
              "12    20120118  http://cnt.es/sites/default/files/preguntas_y_...   \n",
              "13    20120118  http://joshdsigns.com/pdf/curriculum_joshdsign...   \n",
              "14    20120118  http://www.gpo.gov/fdsys/pkg/BILLS-112s968rs/p...   \n",
              "15    20120118  http://www.gpo.gov/fdsys/pkg/BILLS-112hr3261ih...   \n",
              "\n",
              "                                             filename extension  \\\n",
              "0                                          letter.pdf       pdf   \n",
              "1                                 lca-sopa-8nov11.pdf       pdf   \n",
              "2                                          index2.php       pdf   \n",
              "3                                    12-14-letter.pdf       pdf   \n",
              "4                                      takeaction.pdf       pdf   \n",
              "5                      curriculum_joshdsigns_2011.pdf       pdf   \n",
              "6                               sample-newsletter.pdf       pdf   \n",
              "7                         Baywash-AD-package_0112.pdf       pdf   \n",
              "8                            sopatrampa-expansion.pdf       pdf   \n",
              "9                                         Columna.pdf       pdf   \n",
              "10                                        Lauer01.pdf       pdf   \n",
              "11           995e11f5-135c-4ff2-962a-1f41e32182df.pdf       pdf   \n",
              "12  preguntas_y_respuestas_sobre_el_laberinto_educ...       pdf   \n",
              "13                     curriculum_joshdsigns_2011.pdf       pdf   \n",
              "14                                BILLS-112s968rs.pdf       pdf   \n",
              "15                              BILLS-112hr3261ih.pdf       pdf   \n",
              "\n",
              "   mime_type_web_server   mime_type_tika                               md5  \\\n",
              "0       application/pdf  application/pdf  68eafb616ad4edafbafa3184e3e9ffe7   \n",
              "1       application/pdf  application/pdf  dd7763734b7ed46f8f11279622f70c26   \n",
              "2       application/pdf  application/pdf  ff0e39571c42504ff3f3d70e3e1f99e0   \n",
              "3       application/pdf  application/pdf  a25918f1a749bd1d44b2180789f0f484   \n",
              "4       application/pdf  application/pdf  430d2baddb31e29908e91242731cc8ae   \n",
              "5       application/pdf  application/pdf  2798bf57c37814b143343265cad46ae4   \n",
              "6       application/pdf  application/pdf  fe49ef12f61fdf4e53a3960a5c366d22   \n",
              "7       application/pdf  application/pdf  c425c03da46d0f2b8c3c7726021ddf05   \n",
              "8       application/pdf  application/pdf  98510120211733da59bc992f6d7f8da8   \n",
              "9       application/pdf  application/pdf  bc7125e4fa47cd2300b82ec705d105f9   \n",
              "10      application/pdf  application/pdf  92bae9751199600489cea00c2a120254   \n",
              "11      application/pdf  application/pdf  bf999f53f6f578c5507f988d6121fccd   \n",
              "12      application/pdf  application/pdf  036ccb1f982bd4c38b15533a7df18336   \n",
              "13      application/pdf  application/pdf  2798bf57c37814b143343265cad46ae4   \n",
              "14      application/pdf  application/pdf  5ad83ff03c9b42ac168b538e99f2b33d   \n",
              "15      application/pdf  application/pdf  9e812c0cbf740654f2115d36f708bf89   \n",
              "\n",
              "                                        sha1  \n",
              "0   5c5d548739834967762feb95791232261424b4af  \n",
              "1   80e5a5bc261a3a12e61e74323a2d3035ec5849b1  \n",
              "2   d5143c9740263909684b7245a67024711ef178a6  \n",
              "3   8b50cf974efd63898677e08289da7868e8e80847  \n",
              "4   22f390787b8ea07680e27ee9e317ea4615b2b41a  \n",
              "5   b2c6b20c6cb5c75806dd02db67cd47aa8b9830c1  \n",
              "6   50aae11ce602277ca1299f62890459e9308658ed  \n",
              "7   6ce5e8d0c954044e69e85f1a1a3797d0d6700e29  \n",
              "8   83f97ad66b6701db141a61aed8d61fd7ccf3b4a4  \n",
              "9   28295db2f81ad7fc6c14141d4d15d57a8702a2ce  \n",
              "10  44f8d61d3bce288166bfd3ac5c66657fa36a035f  \n",
              "11  fc415aa42010484a464f15a7587a3df11f9632e6  \n",
              "12  cd1ef70af799376b6602561c51bf36d8efd2d420  \n",
              "13  b2c6b20c6cb5c75806dd02db67cd47aa8b9830c1  \n",
              "14  37a2ce0322b8b0fce190ca204f9dda64faa4abd8  \n",
              "15  52cd1dd28b12be40bf74ddbaecdedeaa78b64b70  "
            ],
            "text/html": [
              "\n",
              "  <div id=\"df-aa1098a1-bdd7-4a91-91a8-eabe7552b5fd\">\n",
              "    <div class=\"colab-df-container\">\n",
              "      <div>\n",
              "<style scoped>\n",
              "    .dataframe tbody tr th:only-of-type {\n",
              "        vertical-align: middle;\n",
              "    }\n",
              "\n",
              "    .dataframe tbody tr th {\n",
              "        vertical-align: top;\n",
              "    }\n",
              "\n",
              "    .dataframe thead th {\n",
              "        text-align: right;\n",
              "    }\n",
              "</style>\n",
              "<table border=\"1\" class=\"dataframe\">\n",
              "  <thead>\n",
              "    <tr style=\"text-align: right;\">\n",
              "      <th></th>\n",
              "      <th>crawl_date</th>\n",
              "      <th>url</th>\n",
              "      <th>filename</th>\n",
              "      <th>extension</th>\n",
              "      <th>mime_type_web_server</th>\n",
              "      <th>mime_type_tika</th>\n",
              "      <th>md5</th>\n",
              "      <th>sha1</th>\n",
              "    </tr>\n",
              "  </thead>\n",
              "  <tbody>\n",
              "    <tr>\n",
              "      <th>0</th>\n",
              "      <td>20120118</td>\n",
              "      <td>http://www.protectinnovation.com/downloads/let...</td>\n",
              "      <td>letter.pdf</td>\n",
              "      <td>pdf</td>\n",
              "      <td>application/pdf</td>\n",
              "      <td>application/pdf</td>\n",
              "      <td>68eafb616ad4edafbafa3184e3e9ffe7</td>\n",
              "      <td>5c5d548739834967762feb95791232261424b4af</td>\n",
              "    </tr>\n",
              "    <tr>\n",
              "      <th>1</th>\n",
              "      <td>20120118</td>\n",
              "      <td>http://www.librarycopyrightalliance.org/bm~doc...</td>\n",
              "      <td>lca-sopa-8nov11.pdf</td>\n",
              "      <td>pdf</td>\n",
              "      <td>application/pdf</td>\n",
              "      <td>application/pdf</td>\n",
              "      <td>dd7763734b7ed46f8f11279622f70c26</td>\n",
              "      <td>80e5a5bc261a3a12e61e74323a2d3035ec5849b1</td>\n",
              "    </tr>\n",
              "    <tr>\n",
              "      <th>2</th>\n",
              "      <td>20120118</td>\n",
              "      <td>http://www.michaelgeist.ca/index2.php?option=c...</td>\n",
              "      <td>index2.php</td>\n",
              "      <td>pdf</td>\n",
              "      <td>application/pdf</td>\n",
              "      <td>application/pdf</td>\n",
              "      <td>ff0e39571c42504ff3f3d70e3e1f99e0</td>\n",
              "      <td>d5143c9740263909684b7245a67024711ef178a6</td>\n",
              "    </tr>\n",
              "    <tr>\n",
              "      <th>3</th>\n",
              "      <td>20120119</td>\n",
              "      <td>http://dq99alanzv66m.cloudfront.net/sopa/img/1...</td>\n",
              "      <td>12-14-letter.pdf</td>\n",
              "      <td>pdf</td>\n",
              "      <td>application/pdf</td>\n",
              "      <td>application/pdf</td>\n",
              "      <td>a25918f1a749bd1d44b2180789f0f484</td>\n",
              "      <td>8b50cf974efd63898677e08289da7868e8e80847</td>\n",
              "    </tr>\n",
              "    <tr>\n",
              "      <th>4</th>\n",
              "      <td>20120118</td>\n",
              "      <td>https://static.googleusercontent.com/external_...</td>\n",
              "      <td>takeaction.pdf</td>\n",
              "      <td>pdf</td>\n",
              "      <td>application/pdf</td>\n",
              "      <td>application/pdf</td>\n",
              "      <td>430d2baddb31e29908e91242731cc8ae</td>\n",
              "      <td>22f390787b8ea07680e27ee9e317ea4615b2b41a</td>\n",
              "    </tr>\n",
              "    <tr>\n",
              "      <th>5</th>\n",
              "      <td>20120118</td>\n",
              "      <td>http://joshdsigns.com/pdf/curriculum_joshdsign...</td>\n",
              "      <td>curriculum_joshdsigns_2011.pdf</td>\n",
              "      <td>pdf</td>\n",
              "      <td>application/pdf</td>\n",
              "      <td>application/pdf</td>\n",
              "      <td>2798bf57c37814b143343265cad46ae4</td>\n",
              "      <td>b2c6b20c6cb5c75806dd02db67cd47aa8b9830c1</td>\n",
              "    </tr>\n",
              "    <tr>\n",
              "      <th>6</th>\n",
              "      <td>20120119</td>\n",
              "      <td>http://oreilly.com/pdf/sample-newsletter.pdf</td>\n",
              "      <td>sample-newsletter.pdf</td>\n",
              "      <td>pdf</td>\n",
              "      <td>application/pdf</td>\n",
              "      <td>application/pdf</td>\n",
              "      <td>fe49ef12f61fdf4e53a3960a5c366d22</td>\n",
              "      <td>50aae11ce602277ca1299f62890459e9308658ed</td>\n",
              "    </tr>\n",
              "    <tr>\n",
              "      <th>7</th>\n",
              "      <td>20120119</td>\n",
              "      <td>http://bikinicarwashorlando.com/wp-content/upl...</td>\n",
              "      <td>Baywash-AD-package_0112.pdf</td>\n",
              "      <td>pdf</td>\n",
              "      <td>application/pdf</td>\n",
              "      <td>application/pdf</td>\n",
              "      <td>c425c03da46d0f2b8c3c7726021ddf05</td>\n",
              "      <td>6ce5e8d0c954044e69e85f1a1a3797d0d6700e29</td>\n",
              "    </tr>\n",
              "    <tr>\n",
              "      <th>8</th>\n",
              "      <td>20120119</td>\n",
              "      <td>http://www.enriquedans.com/wp-content/uploads/...</td>\n",
              "      <td>sopatrampa-expansion.pdf</td>\n",
              "      <td>pdf</td>\n",
              "      <td>application/pdf</td>\n",
              "      <td>application/pdf</td>\n",
              "      <td>98510120211733da59bc992f6d7f8da8</td>\n",
              "      <td>83f97ad66b6701db141a61aed8d61fd7ccf3b4a4</td>\n",
              "    </tr>\n",
              "    <tr>\n",
              "      <th>9</th>\n",
              "      <td>20120119</td>\n",
              "      <td>http://chuda.org.ve/descargas/Columna.pdf</td>\n",
              "      <td>Columna.pdf</td>\n",
              "      <td>pdf</td>\n",
              "      <td>application/pdf</td>\n",
              "      <td>application/pdf</td>\n",
              "      <td>bc7125e4fa47cd2300b82ec705d105f9</td>\n",
              "      <td>28295db2f81ad7fc6c14141d4d15d57a8702a2ce</td>\n",
              "    </tr>\n",
              "    <tr>\n",
              "      <th>10</th>\n",
              "      <td>20120119</td>\n",
              "      <td>http://www.enriquedans.com/wp-content/uploads/...</td>\n",
              "      <td>Lauer01.pdf</td>\n",
              "      <td>pdf</td>\n",
              "      <td>application/pdf</td>\n",
              "      <td>application/pdf</td>\n",
              "      <td>92bae9751199600489cea00c2a120254</td>\n",
              "      <td>44f8d61d3bce288166bfd3ac5c66657fa36a035f</td>\n",
              "    </tr>\n",
              "    <tr>\n",
              "      <th>11</th>\n",
              "      <td>20120118</td>\n",
              "      <td>http://www.mpaa.org/resources/995e11f5-135c-4f...</td>\n",
              "      <td>995e11f5-135c-4ff2-962a-1f41e32182df.pdf</td>\n",
              "      <td>pdf</td>\n",
              "      <td>application/pdf</td>\n",
              "      <td>application/pdf</td>\n",
              "      <td>bf999f53f6f578c5507f988d6121fccd</td>\n",
              "      <td>fc415aa42010484a464f15a7587a3df11f9632e6</td>\n",
              "    </tr>\n",
              "    <tr>\n",
              "      <th>12</th>\n",
              "      <td>20120118</td>\n",
              "      <td>http://cnt.es/sites/default/files/preguntas_y_...</td>\n",
              "      <td>preguntas_y_respuestas_sobre_el_laberinto_educ...</td>\n",
              "      <td>pdf</td>\n",
              "      <td>application/pdf</td>\n",
              "      <td>application/pdf</td>\n",
              "      <td>036ccb1f982bd4c38b15533a7df18336</td>\n",
              "      <td>cd1ef70af799376b6602561c51bf36d8efd2d420</td>\n",
              "    </tr>\n",
              "    <tr>\n",
              "      <th>13</th>\n",
              "      <td>20120118</td>\n",
              "      <td>http://joshdsigns.com/pdf/curriculum_joshdsign...</td>\n",
              "      <td>curriculum_joshdsigns_2011.pdf</td>\n",
              "      <td>pdf</td>\n",
              "      <td>application/pdf</td>\n",
              "      <td>application/pdf</td>\n",
              "      <td>2798bf57c37814b143343265cad46ae4</td>\n",
              "      <td>b2c6b20c6cb5c75806dd02db67cd47aa8b9830c1</td>\n",
              "    </tr>\n",
              "    <tr>\n",
              "      <th>14</th>\n",
              "      <td>20120118</td>\n",
              "      <td>http://www.gpo.gov/fdsys/pkg/BILLS-112s968rs/p...</td>\n",
              "      <td>BILLS-112s968rs.pdf</td>\n",
              "      <td>pdf</td>\n",
              "      <td>application/pdf</td>\n",
              "      <td>application/pdf</td>\n",
              "      <td>5ad83ff03c9b42ac168b538e99f2b33d</td>\n",
              "      <td>37a2ce0322b8b0fce190ca204f9dda64faa4abd8</td>\n",
              "    </tr>\n",
              "    <tr>\n",
              "      <th>15</th>\n",
              "      <td>20120118</td>\n",
              "      <td>http://www.gpo.gov/fdsys/pkg/BILLS-112hr3261ih...</td>\n",
              "      <td>BILLS-112hr3261ih.pdf</td>\n",
              "      <td>pdf</td>\n",
              "      <td>application/pdf</td>\n",
              "      <td>application/pdf</td>\n",
              "      <td>9e812c0cbf740654f2115d36f708bf89</td>\n",
              "      <td>52cd1dd28b12be40bf74ddbaecdedeaa78b64b70</td>\n",
              "    </tr>\n",
              "  </tbody>\n",
              "</table>\n",
              "</div>\n",
              "      <button class=\"colab-df-convert\" onclick=\"convertToInteractive('df-aa1098a1-bdd7-4a91-91a8-eabe7552b5fd')\"\n",
              "              title=\"Convert this dataframe to an interactive table.\"\n",
              "              style=\"display:none;\">\n",
              "        \n",
              "  <svg xmlns=\"http://www.w3.org/2000/svg\" height=\"24px\"viewBox=\"0 0 24 24\"\n",
              "       width=\"24px\">\n",
              "    <path d=\"M0 0h24v24H0V0z\" fill=\"none\"/>\n",
              "    <path d=\"M18.56 5.44l.94 2.06.94-2.06 2.06-.94-2.06-.94-.94-2.06-.94 2.06-2.06.94zm-11 1L8.5 8.5l.94-2.06 2.06-.94-2.06-.94L8.5 2.5l-.94 2.06-2.06.94zm10 10l.94 2.06.94-2.06 2.06-.94-2.06-.94-.94-2.06-.94 2.06-2.06.94z\"/><path d=\"M17.41 7.96l-1.37-1.37c-.4-.4-.92-.59-1.43-.59-.52 0-1.04.2-1.43.59L10.3 9.45l-7.72 7.72c-.78.78-.78 2.05 0 2.83L4 21.41c.39.39.9.59 1.41.59.51 0 1.02-.2 1.41-.59l7.78-7.78 2.81-2.81c.8-.78.8-2.07 0-2.86zM5.41 20L4 18.59l7.72-7.72 1.47 1.35L5.41 20z\"/>\n",
              "  </svg>\n",
              "      </button>\n",
              "      \n",
              "  <style>\n",
              "    .colab-df-container {\n",
              "      display:flex;\n",
              "      flex-wrap:wrap;\n",
              "      gap: 12px;\n",
              "    }\n",
              "\n",
              "    .colab-df-convert {\n",
              "      background-color: #E8F0FE;\n",
              "      border: none;\n",
              "      border-radius: 50%;\n",
              "      cursor: pointer;\n",
              "      display: none;\n",
              "      fill: #1967D2;\n",
              "      height: 32px;\n",
              "      padding: 0 0 0 0;\n",
              "      width: 32px;\n",
              "    }\n",
              "\n",
              "    .colab-df-convert:hover {\n",
              "      background-color: #E2EBFA;\n",
              "      box-shadow: 0px 1px 2px rgba(60, 64, 67, 0.3), 0px 1px 3px 1px rgba(60, 64, 67, 0.15);\n",
              "      fill: #174EA6;\n",
              "    }\n",
              "\n",
              "    [theme=dark] .colab-df-convert {\n",
              "      background-color: #3B4455;\n",
              "      fill: #D2E3FC;\n",
              "    }\n",
              "\n",
              "    [theme=dark] .colab-df-convert:hover {\n",
              "      background-color: #434B5C;\n",
              "      box-shadow: 0px 1px 3px 1px rgba(0, 0, 0, 0.15);\n",
              "      filter: drop-shadow(0px 1px 2px rgba(0, 0, 0, 0.3));\n",
              "      fill: #FFFFFF;\n",
              "    }\n",
              "  </style>\n",
              "\n",
              "      <script>\n",
              "        const buttonEl =\n",
              "          document.querySelector('#df-aa1098a1-bdd7-4a91-91a8-eabe7552b5fd button.colab-df-convert');\n",
              "        buttonEl.style.display =\n",
              "          google.colab.kernel.accessAllowed ? 'block' : 'none';\n",
              "\n",
              "        async function convertToInteractive(key) {\n",
              "          const element = document.querySelector('#df-aa1098a1-bdd7-4a91-91a8-eabe7552b5fd');\n",
              "          const dataTable =\n",
              "            await google.colab.kernel.invokeFunction('convertToInteractive',\n",
              "                                                     [key], {});\n",
              "          if (!dataTable) return;\n",
              "\n",
              "          const docLinkHtml = 'Like what you see? Visit the ' +\n",
              "            '<a target=\"_blank\" href=https://colab.research.google.com/notebooks/data_table.ipynb>data table notebook</a>'\n",
              "            + ' to learn more about interactive tables.';\n",
              "          element.innerHTML = '';\n",
              "          dataTable['output_type'] = 'display_data';\n",
              "          await google.colab.output.renderOutput(dataTable, element);\n",
              "          const docLink = document.createElement('div');\n",
              "          docLink.innerHTML = docLinkHtml;\n",
              "          element.appendChild(docLink);\n",
              "        }\n",
              "      </script>\n",
              "    </div>\n",
              "  </div>\n",
              "  "
            ],
            "application/vnd.google.colaboratory.module+javascript": "\n      import \"https://ssl.gstatic.com/colaboratory/data_table/a8bd4d5e58f96183/data_table.js\";\n\n      window.createDataTable({\n        data: [[{\n            'v': 0,\n            'f': \"0\",\n        },\n{\n            'v': 20120118,\n            'f': \"20120118\",\n        },\n\"http://www.protectinnovation.com/downloads/letter.pdf\",\n\"letter.pdf\",\n\"pdf\",\n\"application/pdf\",\n\"application/pdf\",\n\"68eafb616ad4edafbafa3184e3e9ffe7\",\n\"5c5d548739834967762feb95791232261424b4af\"],\n [{\n            'v': 1,\n            'f': \"1\",\n        },\n{\n            'v': 20120118,\n            'f': \"20120118\",\n        },\n\"http://www.librarycopyrightalliance.org/bm~doc/lca-sopa-8nov11.pdf\",\n\"lca-sopa-8nov11.pdf\",\n\"pdf\",\n\"application/pdf\",\n\"application/pdf\",\n\"dd7763734b7ed46f8f11279622f70c26\",\n\"80e5a5bc261a3a12e61e74323a2d3035ec5849b1\"],\n [{\n            'v': 2,\n            'f': \"2\",\n        },\n{\n            'v': 20120118,\n            'f': \"20120118\",\n        },\n\"http://www.michaelgeist.ca/index2.php?option=com_content&do_pdf=1&id=6134&task=view\",\n\"index2.php\",\n\"pdf\",\n\"application/pdf\",\n\"application/pdf\",\n\"ff0e39571c42504ff3f3d70e3e1f99e0\",\n\"d5143c9740263909684b7245a67024711ef178a6\"],\n [{\n            'v': 3,\n            'f': \"3\",\n        },\n{\n            'v': 20120119,\n            'f': \"20120119\",\n        },\n\"http://dq99alanzv66m.cloudfront.net/sopa/img/12-14-letter.pdf\",\n\"12-14-letter.pdf\",\n\"pdf\",\n\"application/pdf\",\n\"application/pdf\",\n\"a25918f1a749bd1d44b2180789f0f484\",\n\"8b50cf974efd63898677e08289da7868e8e80847\"],\n [{\n            'v': 4,\n            'f': \"4\",\n        },\n{\n            'v': 20120118,\n            'f': \"20120118\",\n        },\n\"https://static.googleusercontent.com/external_content/untrusted_dlcp/www.google.com/en/us/landing/takeaction/takeaction.pdf\",\n\"takeaction.pdf\",\n\"pdf\",\n\"application/pdf\",\n\"application/pdf\",\n\"430d2baddb31e29908e91242731cc8ae\",\n\"22f390787b8ea07680e27ee9e317ea4615b2b41a\"],\n [{\n            'v': 5,\n            'f': \"5\",\n        },\n{\n            'v': 20120118,\n            'f': \"20120118\",\n        },\n\"http://joshdsigns.com/pdf/curriculum_joshdsigns_2011.pdf\",\n\"curriculum_joshdsigns_2011.pdf\",\n\"pdf\",\n\"application/pdf\",\n\"application/pdf\",\n\"2798bf57c37814b143343265cad46ae4\",\n\"b2c6b20c6cb5c75806dd02db67cd47aa8b9830c1\"],\n [{\n            'v': 6,\n            'f': \"6\",\n        },\n{\n            'v': 20120119,\n            'f': \"20120119\",\n        },\n\"http://oreilly.com/pdf/sample-newsletter.pdf\",\n\"sample-newsletter.pdf\",\n\"pdf\",\n\"application/pdf\",\n\"application/pdf\",\n\"fe49ef12f61fdf4e53a3960a5c366d22\",\n\"50aae11ce602277ca1299f62890459e9308658ed\"],\n [{\n            'v': 7,\n            'f': \"7\",\n        },\n{\n            'v': 20120119,\n            'f': \"20120119\",\n        },\n\"http://bikinicarwashorlando.com/wp-content/uploads/2011/12/Baywash-AD-package_0112.pdf\",\n\"Baywash-AD-package_0112.pdf\",\n\"pdf\",\n\"application/pdf\",\n\"application/pdf\",\n\"c425c03da46d0f2b8c3c7726021ddf05\",\n\"6ce5e8d0c954044e69e85f1a1a3797d0d6700e29\"],\n [{\n            'v': 8,\n            'f': \"8\",\n        },\n{\n            'v': 20120119,\n            'f': \"20120119\",\n        },\n\"http://www.enriquedans.com/wp-content/uploads/2012/01/sopatrampa-expansion.pdf\",\n\"sopatrampa-expansion.pdf\",\n\"pdf\",\n\"application/pdf\",\n\"application/pdf\",\n\"98510120211733da59bc992f6d7f8da8\",\n\"83f97ad66b6701db141a61aed8d61fd7ccf3b4a4\"],\n [{\n            'v': 9,\n            'f': \"9\",\n        },\n{\n            'v': 20120119,\n            'f': \"20120119\",\n        },\n\"http://chuda.org.ve/descargas/Columna.pdf\",\n\"Columna.pdf\",\n\"pdf\",\n\"application/pdf\",\n\"application/pdf\",\n\"bc7125e4fa47cd2300b82ec705d105f9\",\n\"28295db2f81ad7fc6c14141d4d15d57a8702a2ce\"],\n [{\n            'v': 10,\n            'f': \"10\",\n        },\n{\n            'v': 20120119,\n            'f': \"20120119\",\n        },\n\"http://www.enriquedans.com/wp-content/uploads/2012/01/Lauer01.pdf\",\n\"Lauer01.pdf\",\n\"pdf\",\n\"application/pdf\",\n\"application/pdf\",\n\"92bae9751199600489cea00c2a120254\",\n\"44f8d61d3bce288166bfd3ac5c66657fa36a035f\"],\n [{\n            'v': 11,\n            'f': \"11\",\n        },\n{\n            'v': 20120118,\n            'f': \"20120118\",\n        },\n\"http://www.mpaa.org/resources/995e11f5-135c-4ff2-962a-1f41e32182df.pdf\",\n\"995e11f5-135c-4ff2-962a-1f41e32182df.pdf\",\n\"pdf\",\n\"application/pdf\",\n\"application/pdf\",\n\"bf999f53f6f578c5507f988d6121fccd\",\n\"fc415aa42010484a464f15a7587a3df11f9632e6\"],\n [{\n            'v': 12,\n            'f': \"12\",\n        },\n{\n            'v': 20120118,\n            'f': \"20120118\",\n        },\n\"http://cnt.es/sites/default/files/preguntas_y_respuestas_sobre_el_laberinto_educativo_0.pdf\",\n\"preguntas_y_respuestas_sobre_el_laberinto_educativo_0.pdf\",\n\"pdf\",\n\"application/pdf\",\n\"application/pdf\",\n\"036ccb1f982bd4c38b15533a7df18336\",\n\"cd1ef70af799376b6602561c51bf36d8efd2d420\"],\n [{\n            'v': 13,\n            'f': \"13\",\n        },\n{\n            'v': 20120118,\n            'f': \"20120118\",\n        },\n\"http://joshdsigns.com/pdf/curriculum_joshdsigns_2011.pdf\",\n\"curriculum_joshdsigns_2011.pdf\",\n\"pdf\",\n\"application/pdf\",\n\"application/pdf\",\n\"2798bf57c37814b143343265cad46ae4\",\n\"b2c6b20c6cb5c75806dd02db67cd47aa8b9830c1\"],\n [{\n            'v': 14,\n            'f': \"14\",\n        },\n{\n            'v': 20120118,\n            'f': \"20120118\",\n        },\n\"http://www.gpo.gov/fdsys/pkg/BILLS-112s968rs/pdf/BILLS-112s968rs.pdf\",\n\"BILLS-112s968rs.pdf\",\n\"pdf\",\n\"application/pdf\",\n\"application/pdf\",\n\"5ad83ff03c9b42ac168b538e99f2b33d\",\n\"37a2ce0322b8b0fce190ca204f9dda64faa4abd8\"],\n [{\n            'v': 15,\n            'f': \"15\",\n        },\n{\n            'v': 20120118,\n            'f': \"20120118\",\n        },\n\"http://www.gpo.gov/fdsys/pkg/BILLS-112hr3261ih/pdf/BILLS-112hr3261ih.pdf\",\n\"BILLS-112hr3261ih.pdf\",\n\"pdf\",\n\"application/pdf\",\n\"application/pdf\",\n\"9e812c0cbf740654f2115d36f708bf89\",\n\"52cd1dd28b12be40bf74ddbaecdedeaa78b64b70\"]],\n        columns: [[\"number\", \"index\"], [\"number\", \"crawl_date\"], [\"string\", \"url\"], [\"string\", \"filename\"], [\"string\", \"extension\"], [\"string\", \"mime_type_web_server\"], [\"string\", \"mime_type_tika\"], [\"string\", \"md5\"], [\"string\", \"sha1\"]],\n        columnOptions: [{\"width\": \"1px\", \"className\": \"index_column\"}],\n        rowsPerPage: 25,\n        helpUrl: \"https://colab.research.google.com/notebooks/data_table.ipynb\",\n        suppressOutputScrolling: true,\n        minimumWidth: undefined,\n      });\n    "
          },
          "metadata": {},
          "execution_count": 4
        }
      ]
    },
    {
      "cell_type": "markdown",
      "metadata": {
        "id": "3HPwOCNAvqMe"
      },
      "source": [
        "# Data Analysis\n",
        "\n",
        "Now that we have all of our datasets loaded up, we can begin to work with them!"
      ]
    },
    {
      "cell_type": "markdown",
      "metadata": {
        "id": "J6Pkg0prv3BE"
      },
      "source": [
        "## Counting total files, and unique files\n",
        "\n",
        "Let's take a quick look at how to count items in DataFrames, and use total and unique files as an example to work with.\n",
        "\n",
        "It's definitely work checking out the [pandas documentation](https://pandas.pydata.org/docs/index.html). There are a lot of good examples available, along with a robust [API reference](https://pandas.pydata.org/docs/reference/index.html#api)."
      ]
    },
    {
      "cell_type": "markdown",
      "metadata": {
        "id": "DFX4Gl3wv7bi"
      },
      "source": [
        "\n",
        "### How many PDF files are in this collection?\n",
        "\n",
        "We can take our `pdf` variable and try a couple of functions to get the same answer.\n",
        "\n",
        "1.   `len(pdf.index)`\n",
        "  * Get the length of the DataFrame's index.\n",
        "2.   `pdf.shape[0]`\n",
        "  * Get the shape or dimensionality of the DataFrame, and take the first item in the tuple.\n",
        "3.  `pdf.count()`\n",
        "  * Count the number of rows for each column.\n",
        "\n"
      ]
    },
    {
      "cell_type": "code",
      "metadata": {
        "colab": {
          "base_uri": "https://localhost:8080/"
        },
        "id": "HTv8Oet3jiTH",
        "outputId": "de7d81a0-28d3-4c18-9432-58bf7df2b31b"
      },
      "source": [
        "len(pdf.index)"
      ],
      "execution_count": 5,
      "outputs": [
        {
          "output_type": "execute_result",
          "data": {
            "text/plain": [
              "16"
            ]
          },
          "metadata": {},
          "execution_count": 5
        }
      ]
    },
    {
      "cell_type": "code",
      "metadata": {
        "colab": {
          "base_uri": "https://localhost:8080/"
        },
        "id": "6rYEERnTjifk",
        "outputId": "7daf7160-9cfa-4b6e-c9e8-23743ba4fbf5"
      },
      "source": [
        "pdf.shape[0]"
      ],
      "execution_count": 6,
      "outputs": [
        {
          "output_type": "execute_result",
          "data": {
            "text/plain": [
              "16"
            ]
          },
          "metadata": {},
          "execution_count": 6
        }
      ]
    },
    {
      "cell_type": "code",
      "metadata": {
        "colab": {
          "base_uri": "https://localhost:8080/"
        },
        "id": "bn-1v127aKIG",
        "outputId": "88b6e189-18c9-4d08-a81d-7dbb4dcec470"
      },
      "source": [
        "pdf.count()"
      ],
      "execution_count": 7,
      "outputs": [
        {
          "output_type": "execute_result",
          "data": {
            "text/plain": [
              "crawl_date              16\n",
              "url                     16\n",
              "filename                16\n",
              "extension               16\n",
              "mime_type_web_server    16\n",
              "mime_type_tika          16\n",
              "md5                     16\n",
              "sha1                    16\n",
              "dtype: int64"
            ]
          },
          "metadata": {},
          "execution_count": 7
        }
      ]
    },
    {
      "cell_type": "markdown",
      "metadata": {
        "id": "38veKiPhwKo4"
      },
      "source": [
        "### How many unique PDF files are in the collection?\n",
        "\n",
        " We can see if a PDF file is unique or not by computing an [MD5 hash](https://en.wikipedia.org/wiki/MD5#MD5_hashes) of it, and comparing them. The exact same PDF file might have a filename of `example.pdf` or `foo.pdf`. If the hash is computed for each, we can see that even with different file names, they are actually the same PDF file. So, since we have both a `MD5` and `SHA1` hash column available in our DataFrame, we can just find the unique values, and count them!\n",
        "\n",
        "\n"
      ]
    },
    {
      "cell_type": "code",
      "metadata": {
        "colab": {
          "base_uri": "https://localhost:8080/"
        },
        "id": "WesM3kQowM5B",
        "outputId": "b938fb80-98c3-43a6-ac17-a556772f4c22"
      },
      "source": [
        "len(pdf.md5.unique())"
      ],
      "execution_count": 8,
      "outputs": [
        {
          "output_type": "execute_result",
          "data": {
            "text/plain": [
              "15"
            ]
          },
          "metadata": {},
          "execution_count": 8
        }
      ]
    },
    {
      "cell_type": "markdown",
      "metadata": {
        "id": "ZIXkI0-1wWQf"
      },
      "source": [
        "### What are the top 10 most occurring pdf files in the collection?\n",
        "\n",
        "Here we can take advantage of [`value_counts()`](https://pandas.pydata.org/docs/reference/api/pandas.DataFrame.value_counts.html) to provide us with a list of MD5 hashes and their respective counts."
      ]
    },
    {
      "cell_type": "code",
      "metadata": {
        "colab": {
          "base_uri": "https://localhost:8080/"
        },
        "id": "8Ts03OFyjPIM",
        "outputId": "9bd5c60f-2ded-4ad9-e7c1-dbcd6dd2677d"
      },
      "source": [
        "pdf[\"md5\"].value_counts().head(10)"
      ],
      "execution_count": 9,
      "outputs": [
        {
          "output_type": "execute_result",
          "data": {
            "text/plain": [
              "2798bf57c37814b143343265cad46ae4    2\n",
              "68eafb616ad4edafbafa3184e3e9ffe7    1\n",
              "dd7763734b7ed46f8f11279622f70c26    1\n",
              "ff0e39571c42504ff3f3d70e3e1f99e0    1\n",
              "a25918f1a749bd1d44b2180789f0f484    1\n",
              "430d2baddb31e29908e91242731cc8ae    1\n",
              "fe49ef12f61fdf4e53a3960a5c366d22    1\n",
              "c425c03da46d0f2b8c3c7726021ddf05    1\n",
              "98510120211733da59bc992f6d7f8da8    1\n",
              "bc7125e4fa47cd2300b82ec705d105f9    1\n",
              "Name: md5, dtype: int64"
            ]
          },
          "metadata": {},
          "execution_count": 9
        }
      ]
    },
    {
      "cell_type": "markdown",
      "metadata": {
        "id": "FG7pGZUEwlaI"
      },
      "source": [
        "\n",
        "### What's the information around all of the occurances of `2798bf57c37814b143343265cad46ae4`?\n",
        "\n",
        "What, you mean you don't know what `2798bf57c37814b143343265cad46ae4` means? \n",
        "\n",
        "Let's find those pdf files in the DataFrame. We can here see some information about the files.\n"
      ]
    },
    {
      "cell_type": "code",
      "metadata": {
        "colab": {
          "base_uri": "https://localhost:8080/",
          "height": 137
        },
        "id": "msmmm65lkSIK",
        "outputId": "1420e289-b231-4541-af18-e6ce88c53e8d"
      },
      "source": [
        "pdf.loc[pdf[\"md5\"] == \"2798bf57c37814b143343265cad46ae4\"]"
      ],
      "execution_count": 12,
      "outputs": [
        {
          "output_type": "execute_result",
          "data": {
            "text/plain": [
              "    crawl_date                                                url  \\\n",
              "5     20120118  http://joshdsigns.com/pdf/curriculum_joshdsign...   \n",
              "13    20120118  http://joshdsigns.com/pdf/curriculum_joshdsign...   \n",
              "\n",
              "                          filename extension mime_type_web_server  \\\n",
              "5   curriculum_joshdsigns_2011.pdf       pdf      application/pdf   \n",
              "13  curriculum_joshdsigns_2011.pdf       pdf      application/pdf   \n",
              "\n",
              "     mime_type_tika                               md5  \\\n",
              "5   application/pdf  2798bf57c37814b143343265cad46ae4   \n",
              "13  application/pdf  2798bf57c37814b143343265cad46ae4   \n",
              "\n",
              "                                        sha1  \n",
              "5   b2c6b20c6cb5c75806dd02db67cd47aa8b9830c1  \n",
              "13  b2c6b20c6cb5c75806dd02db67cd47aa8b9830c1  "
            ],
            "text/html": [
              "\n",
              "  <div id=\"df-3af028a8-417b-45ac-8c84-58f5c206f44b\">\n",
              "    <div class=\"colab-df-container\">\n",
              "      <div>\n",
              "<style scoped>\n",
              "    .dataframe tbody tr th:only-of-type {\n",
              "        vertical-align: middle;\n",
              "    }\n",
              "\n",
              "    .dataframe tbody tr th {\n",
              "        vertical-align: top;\n",
              "    }\n",
              "\n",
              "    .dataframe thead th {\n",
              "        text-align: right;\n",
              "    }\n",
              "</style>\n",
              "<table border=\"1\" class=\"dataframe\">\n",
              "  <thead>\n",
              "    <tr style=\"text-align: right;\">\n",
              "      <th></th>\n",
              "      <th>crawl_date</th>\n",
              "      <th>url</th>\n",
              "      <th>filename</th>\n",
              "      <th>extension</th>\n",
              "      <th>mime_type_web_server</th>\n",
              "      <th>mime_type_tika</th>\n",
              "      <th>md5</th>\n",
              "      <th>sha1</th>\n",
              "    </tr>\n",
              "  </thead>\n",
              "  <tbody>\n",
              "    <tr>\n",
              "      <th>5</th>\n",
              "      <td>20120118</td>\n",
              "      <td>http://joshdsigns.com/pdf/curriculum_joshdsign...</td>\n",
              "      <td>curriculum_joshdsigns_2011.pdf</td>\n",
              "      <td>pdf</td>\n",
              "      <td>application/pdf</td>\n",
              "      <td>application/pdf</td>\n",
              "      <td>2798bf57c37814b143343265cad46ae4</td>\n",
              "      <td>b2c6b20c6cb5c75806dd02db67cd47aa8b9830c1</td>\n",
              "    </tr>\n",
              "    <tr>\n",
              "      <th>13</th>\n",
              "      <td>20120118</td>\n",
              "      <td>http://joshdsigns.com/pdf/curriculum_joshdsign...</td>\n",
              "      <td>curriculum_joshdsigns_2011.pdf</td>\n",
              "      <td>pdf</td>\n",
              "      <td>application/pdf</td>\n",
              "      <td>application/pdf</td>\n",
              "      <td>2798bf57c37814b143343265cad46ae4</td>\n",
              "      <td>b2c6b20c6cb5c75806dd02db67cd47aa8b9830c1</td>\n",
              "    </tr>\n",
              "  </tbody>\n",
              "</table>\n",
              "</div>\n",
              "      <button class=\"colab-df-convert\" onclick=\"convertToInteractive('df-3af028a8-417b-45ac-8c84-58f5c206f44b')\"\n",
              "              title=\"Convert this dataframe to an interactive table.\"\n",
              "              style=\"display:none;\">\n",
              "        \n",
              "  <svg xmlns=\"http://www.w3.org/2000/svg\" height=\"24px\"viewBox=\"0 0 24 24\"\n",
              "       width=\"24px\">\n",
              "    <path d=\"M0 0h24v24H0V0z\" fill=\"none\"/>\n",
              "    <path d=\"M18.56 5.44l.94 2.06.94-2.06 2.06-.94-2.06-.94-.94-2.06-.94 2.06-2.06.94zm-11 1L8.5 8.5l.94-2.06 2.06-.94-2.06-.94L8.5 2.5l-.94 2.06-2.06.94zm10 10l.94 2.06.94-2.06 2.06-.94-2.06-.94-.94-2.06-.94 2.06-2.06.94z\"/><path d=\"M17.41 7.96l-1.37-1.37c-.4-.4-.92-.59-1.43-.59-.52 0-1.04.2-1.43.59L10.3 9.45l-7.72 7.72c-.78.78-.78 2.05 0 2.83L4 21.41c.39.39.9.59 1.41.59.51 0 1.02-.2 1.41-.59l7.78-7.78 2.81-2.81c.8-.78.8-2.07 0-2.86zM5.41 20L4 18.59l7.72-7.72 1.47 1.35L5.41 20z\"/>\n",
              "  </svg>\n",
              "      </button>\n",
              "      \n",
              "  <style>\n",
              "    .colab-df-container {\n",
              "      display:flex;\n",
              "      flex-wrap:wrap;\n",
              "      gap: 12px;\n",
              "    }\n",
              "\n",
              "    .colab-df-convert {\n",
              "      background-color: #E8F0FE;\n",
              "      border: none;\n",
              "      border-radius: 50%;\n",
              "      cursor: pointer;\n",
              "      display: none;\n",
              "      fill: #1967D2;\n",
              "      height: 32px;\n",
              "      padding: 0 0 0 0;\n",
              "      width: 32px;\n",
              "    }\n",
              "\n",
              "    .colab-df-convert:hover {\n",
              "      background-color: #E2EBFA;\n",
              "      box-shadow: 0px 1px 2px rgba(60, 64, 67, 0.3), 0px 1px 3px 1px rgba(60, 64, 67, 0.15);\n",
              "      fill: #174EA6;\n",
              "    }\n",
              "\n",
              "    [theme=dark] .colab-df-convert {\n",
              "      background-color: #3B4455;\n",
              "      fill: #D2E3FC;\n",
              "    }\n",
              "\n",
              "    [theme=dark] .colab-df-convert:hover {\n",
              "      background-color: #434B5C;\n",
              "      box-shadow: 0px 1px 3px 1px rgba(0, 0, 0, 0.15);\n",
              "      filter: drop-shadow(0px 1px 2px rgba(0, 0, 0, 0.3));\n",
              "      fill: #FFFFFF;\n",
              "    }\n",
              "  </style>\n",
              "\n",
              "      <script>\n",
              "        const buttonEl =\n",
              "          document.querySelector('#df-3af028a8-417b-45ac-8c84-58f5c206f44b button.colab-df-convert');\n",
              "        buttonEl.style.display =\n",
              "          google.colab.kernel.accessAllowed ? 'block' : 'none';\n",
              "\n",
              "        async function convertToInteractive(key) {\n",
              "          const element = document.querySelector('#df-3af028a8-417b-45ac-8c84-58f5c206f44b');\n",
              "          const dataTable =\n",
              "            await google.colab.kernel.invokeFunction('convertToInteractive',\n",
              "                                                     [key], {});\n",
              "          if (!dataTable) return;\n",
              "\n",
              "          const docLinkHtml = 'Like what you see? Visit the ' +\n",
              "            '<a target=\"_blank\" href=https://colab.research.google.com/notebooks/data_table.ipynb>data table notebook</a>'\n",
              "            + ' to learn more about interactive tables.';\n",
              "          element.innerHTML = '';\n",
              "          dataTable['output_type'] = 'display_data';\n",
              "          await google.colab.output.renderOutput(dataTable, element);\n",
              "          const docLink = document.createElement('div');\n",
              "          docLink.innerHTML = docLinkHtml;\n",
              "          element.appendChild(docLink);\n",
              "        }\n",
              "      </script>\n",
              "    </div>\n",
              "  </div>\n",
              "  "
            ],
            "application/vnd.google.colaboratory.module+javascript": "\n      import \"https://ssl.gstatic.com/colaboratory/data_table/a8bd4d5e58f96183/data_table.js\";\n\n      window.createDataTable({\n        data: [[{\n            'v': 5,\n            'f': \"5\",\n        },\n{\n            'v': 20120118,\n            'f': \"20120118\",\n        },\n\"http://joshdsigns.com/pdf/curriculum_joshdsigns_2011.pdf\",\n\"curriculum_joshdsigns_2011.pdf\",\n\"pdf\",\n\"application/pdf\",\n\"application/pdf\",\n\"2798bf57c37814b143343265cad46ae4\",\n\"b2c6b20c6cb5c75806dd02db67cd47aa8b9830c1\"],\n [{\n            'v': 13,\n            'f': \"13\",\n        },\n{\n            'v': 20120118,\n            'f': \"20120118\",\n        },\n\"http://joshdsigns.com/pdf/curriculum_joshdsigns_2011.pdf\",\n\"curriculum_joshdsigns_2011.pdf\",\n\"pdf\",\n\"application/pdf\",\n\"application/pdf\",\n\"2798bf57c37814b143343265cad46ae4\",\n\"b2c6b20c6cb5c75806dd02db67cd47aa8b9830c1\"]],\n        columns: [[\"number\", \"index\"], [\"number\", \"crawl_date\"], [\"string\", \"url\"], [\"string\", \"filename\"], [\"string\", \"extension\"], [\"string\", \"mime_type_web_server\"], [\"string\", \"mime_type_tika\"], [\"string\", \"md5\"], [\"string\", \"sha1\"]],\n        columnOptions: [{\"width\": \"1px\", \"className\": \"index_column\"}],\n        rowsPerPage: 25,\n        helpUrl: \"https://colab.research.google.com/notebooks/data_table.ipynb\",\n        suppressOutputScrolling: true,\n        minimumWidth: undefined,\n      });\n    "
          },
          "metadata": {},
          "execution_count": 12
        }
      ]
    },
    {
      "cell_type": "markdown",
      "metadata": {
        "id": "GbLLZW2awzCv"
      },
      "source": [
        "### What are the top 10 most occuring filenames in the collection?\n",
        "\n",
        "Note that this is of course different than the MD5 results up above. Here we are focusing _just_ on filename. So `curriculum_joshdsigns_2011.pdf` for example, might actually be referring to different pdf files who happen to have the same name.\n",
        "\n",
        "Here we can use `value_counts()` again, but this time we'll create a variable for the top filenames so we can use it later.\n",
        "\n"
      ]
    },
    {
      "cell_type": "code",
      "metadata": {
        "colab": {
          "base_uri": "https://localhost:8080/"
        },
        "id": "pQaw54ACkwdZ",
        "outputId": "8359e51e-ab16-4820-de76-dfc9d7645f0e"
      },
      "source": [
        "top_filenames = pdf[\"filename\"].value_counts().head(10)\n",
        "top_filenames"
      ],
      "execution_count": 11,
      "outputs": [
        {
          "output_type": "execute_result",
          "data": {
            "text/plain": [
              "curriculum_joshdsigns_2011.pdf    2\n",
              "letter.pdf                        1\n",
              "lca-sopa-8nov11.pdf               1\n",
              "index2.php                        1\n",
              "12-14-letter.pdf                  1\n",
              "takeaction.pdf                    1\n",
              "sample-newsletter.pdf             1\n",
              "Baywash-AD-package_0112.pdf       1\n",
              "sopatrampa-expansion.pdf          1\n",
              "Columna.pdf                       1\n",
              "Name: filename, dtype: int64"
            ]
          },
          "metadata": {},
          "execution_count": 11
        }
      ]
    },
    {
      "cell_type": "markdown",
      "metadata": {
        "id": "Z7F3re20BQRI"
      },
      "source": [
        "### Let's create our first graph!\n",
        "\n",
        "We'll first plot the data with the pandas [plot](https://pandas.pydata.org/docs/reference/api/pandas.Series.plot.html) functionality, and then with [Altair](https://altair-viz.github.io/)."
      ]
    },
    {
      "cell_type": "code",
      "metadata": {
        "colab": {
          "base_uri": "https://localhost:8080/",
          "height": 805
        },
        "id": "sRvlstfsBWEZ",
        "outputId": "f4e92850-16ad-4e11-ca08-3f1f272a667a"
      },
      "source": [
        "top_filenames_chart = top_filenames.plot.bar(figsize=(25, 10))\n",
        "\n",
        "top_filenames_chart.set_title(\"Top Filenames\", fontsize=22)\n",
        "top_filenames_chart.set_xlabel(\"Filename\", fontsize=20)\n",
        "top_filenames_chart.set_ylabel(\"Count\", fontsize=20)"
      ],
      "execution_count": 13,
      "outputs": [
        {
          "output_type": "execute_result",
          "data": {
            "text/plain": [
              "Text(0, 0.5, 'Count')"
            ]
          },
          "metadata": {},
          "execution_count": 13
        },
        {
          "output_type": "display_data",
          "data": {
            "text/plain": [
              "<Figure size 1800x720 with 1 Axes>"
            ],
            "image/png": "[encoded data removed]"
          },
          "metadata": {
            "needs_background": "light"
          }
        }
      ]
    },
    {
      "cell_type": "markdown",
      "metadata": {
        "id": "pQgeOObvgLvK"
      },
      "source": [
        "Now let's setup [Altair](https://altair-viz.github.io/), and plot the data. Altair is useful for creating vizualizations since they can be easily exported as a PNG or SVG."
      ]
    },
    {
      "cell_type": "code",
      "metadata": {
        "id": "Q7Z4J6qjWaVM"
      },
      "source": [
        "import altair as alt"
      ],
      "execution_count": 14,
      "outputs": []
    },
    {
      "cell_type": "code",
      "metadata": {
        "colab": {
          "base_uri": "https://localhost:8080/",
          "height": 942
        },
        "id": "s0xwvILYWkgg",
        "outputId": "0ea1cf36-15e6-4336-c5d4-0fe8fc80399a"
      },
      "source": [
        "top_filenames_altair = (\n",
        "    pdf[\"filename\"]\n",
        "    .value_counts()\n",
        "    .head(10)\n",
        "    .rename_axis(\"Filename\")\n",
        "    .reset_index(name=\"Count\")\n",
        ")\n",
        "\n",
        "filenames_bar = (\n",
        "    alt.Chart(top_filenames_altair)\n",
        "    .mark_bar()\n",
        "    .encode(x=alt.X(\"Filename:O\", sort=\"-y\"), y=alt.Y(\"Count:Q\"))\n",
        ")\n",
        "\n",
        "filenames_rule = (\n",
        "    alt.Chart(top_filenames_altair).mark_rule(color=\"red\").encode(y=\"mean(Count):Q\")\n",
        ")\n",
        "\n",
        "\n",
        "filenames_text = filenames_bar.mark_text(align=\"center\", baseline=\"bottom\").encode(\n",
        "    text=\"Count:Q\"\n",
        ")\n",
        "\n",
        "(filenames_bar + filenames_rule + filenames_text).properties(\n",
        "    width=1400, height=700, title=\"Top Filenames\"\n",
        ")"
      ],
      "execution_count": 15,
      "outputs": [
        {
          "output_type": "execute_result",
          "data": {
            "text/html": [
              "\n",
              "<div id=\"altair-viz-1b321c20646b411a8f72458065179d86\"></div>\n",
              "<script type=\"text/javascript\">\n",
              "  var VEGA_DEBUG = (typeof VEGA_DEBUG == \"undefined\") ? {} : VEGA_DEBUG;\n",
              "  (function(spec, embedOpt){\n",
              "    let outputDiv = document.currentScript.previousElementSibling;\n",
              "    if (outputDiv.id !== \"altair-viz-1b321c20646b411a8f72458065179d86\") {\n",
              "      outputDiv = document.getElementById(\"altair-viz-1b321c20646b411a8f72458065179d86\");\n",
              "    }\n",
              "    const paths = {\n",
              "      \"vega\": \"https://cdn.jsdelivr.net/npm//vega@5?noext\",\n",
              "      \"vega-lib\": \"https://cdn.jsdelivr.net/npm//vega-lib?noext\",\n",
              "      \"vega-lite\": \"https://cdn.jsdelivr.net/npm//vega-lite@4.17.0?noext\",\n",
              "      \"vega-embed\": \"https://cdn.jsdelivr.net/npm//vega-embed@6?noext\",\n",
              "    };\n",
              "\n",
              "    function maybeLoadScript(lib, version) {\n",
              "      var key = `${lib.replace(\"-\", \"\")}_version`;\n",
              "      return (VEGA_DEBUG[key] == version) ?\n",
              "        Promise.resolve(paths[lib]) :\n",
              "        new Promise(function(resolve, reject) {\n",
              "          var s = document.createElement('script');\n",
              "          document.getElementsByTagName(\"head\")[0].appendChild(s);\n",
              "          s.async = true;\n",
              "          s.onload = () => {\n",
              "            VEGA_DEBUG[key] = version;\n",
              "            return resolve(paths[lib]);\n",
              "          };\n",
              "          s.onerror = () => reject(`Error loading script: ${paths[lib]}`);\n",
              "          s.src = paths[lib];\n",
              "        });\n",
              "    }\n",
              "\n",
              "    function showError(err) {\n",
              "      outputDiv.innerHTML = `<div class=\"error\" style=\"color:red;\">${err}</div>`;\n",
              "      throw err;\n",
              "    }\n",
              "\n",
              "    function displayChart(vegaEmbed) {\n",
              "      vegaEmbed(outputDiv, spec, embedOpt)\n",
              "        .catch(err => showError(`Javascript Error: ${err.message}<br>This usually means there's a typo in your chart specification. See the javascript console for the full traceback.`));\n",
              "    }\n",
              "\n",
              "    if(typeof define === \"function\" && define.amd) {\n",
              "      requirejs.config({paths});\n",
              "      require([\"vega-embed\"], displayChart, err => showError(`Error loading script: ${err.message}`));\n",
              "    } else {\n",
              "      maybeLoadScript(\"vega\", \"5\")\n",
              "        .then(() => maybeLoadScript(\"vega-lite\", \"4.17.0\"))\n",
              "        .then(() => maybeLoadScript(\"vega-embed\", \"6\"))\n",
              "        .catch(showError)\n",
              "        .then(() => displayChart(vegaEmbed));\n",
              "    }\n",
              "  })({\"config\": {\"view\": {\"continuousWidth\": 400, \"continuousHeight\": 300}}, \"layer\": [{\"mark\": \"bar\", \"encoding\": {\"x\": {\"field\": \"Filename\", \"sort\": \"-y\", \"type\": \"ordinal\"}, \"y\": {\"field\": \"Count\", \"type\": \"quantitative\"}}}, {\"mark\": {\"type\": \"rule\", \"color\": \"red\"}, \"encoding\": {\"y\": {\"aggregate\": \"mean\", \"field\": \"Count\", \"type\": \"quantitative\"}}}, {\"mark\": {\"type\": \"text\", \"align\": \"center\", \"baseline\": \"bottom\"}, \"encoding\": {\"text\": {\"field\": \"Count\", \"type\": \"quantitative\"}, \"x\": {\"field\": \"Filename\", \"sort\": \"-y\", \"type\": \"ordinal\"}, \"y\": {\"field\": \"Count\", \"type\": \"quantitative\"}}}], \"data\": {\"name\": \"data-db18569c561ee7e5b9f59a8fd0cdf79d\"}, \"height\": 700, \"title\": \"Top Filenames\", \"width\": 1400, \"$schema\": \"https://vega.github.io/schema/vega-lite/v4.17.0.json\", \"datasets\": {\"data-db18569c561ee7e5b9f59a8fd0cdf79d\": [{\"Filename\": \"curriculum_joshdsigns_2011.pdf\", \"Count\": 2}, {\"Filename\": \"letter.pdf\", \"Count\": 1}, {\"Filename\": \"lca-sopa-8nov11.pdf\", \"Count\": 1}, {\"Filename\": \"index2.php\", \"Count\": 1}, {\"Filename\": \"12-14-letter.pdf\", \"Count\": 1}, {\"Filename\": \"takeaction.pdf\", \"Count\": 1}, {\"Filename\": \"sample-newsletter.pdf\", \"Count\": 1}, {\"Filename\": \"Baywash-AD-package_0112.pdf\", \"Count\": 1}, {\"Filename\": \"sopatrampa-expansion.pdf\", \"Count\": 1}, {\"Filename\": \"Columna.pdf\", \"Count\": 1}]}}, {\"mode\": \"vega-lite\"});\n",
              "</script>"
            ],
            "text/plain": [
              "alt.LayerChart(...)"
            ]
          },
          "metadata": {},
          "execution_count": 15
        }
      ]
    },
    {
      "cell_type": "markdown",
      "metadata": {
        "id": "QUJR-jjqNxCL"
      },
      "source": [
        "### How do I get the actual pdf?\n",
        "\n",
        "...or, how do I get to the actual binary files described by each file format information derivative?\n",
        "\n",
        "There are a few options!\n",
        "\n",
        "1. `wget` or `curl` from the live URL, or a replay URL\n",
        "  * Live web URL\n",
        "    * `wget` or `curl` the value of the `url` column\n",
        "  * Replay web URL\n",
        "    * `wget` or `curl` the value of the `crawl_date` and `url` column using the following pattern:\n",
        "      * `https://web.archive.org/web/` + `crawl_date` + `/` + `url`\n",
        "        * https://web.archive.org/web/20120119124734/http://www.archive.org/images/glogo.png\n",
        "      * `http://wayback.archive-it.org/14462/` + `crawl_date` + `/` + `url`\n",
        "        * https://wayback.archive-it.org/14462/20210524212740/https://ruebot.net/visualization/elxn42/featured_hu33a17dfb90e2c5ed77f783db14a6e53a_5126291_550x0_resize_q90_box_2.png\n",
        "2. Use a scripting language, such as Python\n",
        "  * Make use of the `url` and `filename` columns (and `crawl_date` if you want to use the replay URL)\n",
        "  * `import requests`\n",
        "  * `requests.get(url, allow_redirects=True)`\n",
        "  * `open('filename', 'wb').write(r.content)`\n",
        "3. Use the [Archives Unleashed Toolkit](https://aut.docs.archivesunleashed.org/docs/extract-binary) (if you have access to the W/ARC files)."
      ]
    },
    {
      "cell_type": "markdown",
      "source": [
        "If you wanted to download the pdf files using the replay URL, below is a method for doing so.\n",
        "\n",
        "First, you'll want to setup a replay url base url. Here we'll use the Archive-It Wayback instance for the collection."
      ],
      "metadata": {
        "id": "8yoFE2xLAlwk"
      }
    },
    {
      "cell_type": "code",
      "source": [
        "wayback_url = 'http://wayback.archive-it.org/89/'"
      ],
      "metadata": {
        "id": "RxrOHn_2AicZ"
      },
      "execution_count": 17,
      "outputs": []
    },
    {
      "cell_type": "markdown",
      "source": [
        "Next we'll create a new column using a lambda function. If you're familiar with working in spreadsheets, what we're doing here is basically concatenating some column values together and creating a new column."
      ],
      "metadata": {
        "id": "jCTmrEBGA-Yd"
      }
    },
    {
      "cell_type": "code",
      "source": [
        "pdf['replay_url'] = pdf.apply(lambda row: str(wayback_url + str(row['crawl_date']) + \"/\" + row['url']), axis=1)"
      ],
      "metadata": {
        "id": "p5HoWxkFA6C8"
      },
      "execution_count": 18,
      "outputs": []
    },
    {
      "cell_type": "markdown",
      "source": [
        "Then we can export that new column we created out to a file, so we can use it with `wget` to download all the PDF files!"
      ],
      "metadata": {
        "id": "q87tSYyIBIiZ"
      }
    },
    {
      "cell_type": "code",
      "source": [
        "pdf['replay_url'].to_csv('89_pdf_urls.txt', index=False, header=False)"
      ],
      "metadata": {
        "id": "wyhpsf9wBN1a"
      },
      "execution_count": 19,
      "outputs": []
    },
    {
      "cell_type": "markdown",
      "source": [
        "Finally, we can pass the file to `wget` to use as a download list. You can also speed this process up using `xargs` or `parallel`."
      ],
      "metadata": {
        "id": "81a3q7feu5Ji"
      }
    },
    {
      "cell_type": "code",
      "source": [
        "!wget --random-wait -i 89_pdf_urls.txt"
      ],
      "metadata": {
        "colab": {
          "base_uri": "https://localhost:8080/"
        },
        "id": "D_p4qGKoBRaZ",
        "outputId": "fd9d6227-fd1c-4312-e158-d4c0dea58ae3"
      },
      "execution_count": 20,
      "outputs": [
        {
          "output_type": "stream",
          "name": "stdout",
          "text": [
            "--2022-11-24 12:56:25--  http://wayback.archive-it.org/89/20120118/http://www.protectinnovation.com/downloads/letter.pdf\n",
            "Resolving wayback.archive-it.org (wayback.archive-it.org)... 207.241.232.8, 207.241.225.8\n",
            "Connecting to wayback.archive-it.org (wayback.archive-it.org)|207.241.232.8|:80... connected.\n",
            "HTTP request sent, awaiting response... 200 OK\n",
            "Length: unspecified [text/html]\n",
            "Saving to: ‘letter.pdf’\n",
            "\n",
            "letter.pdf              [ <=>                ]   4.50K  --.-KB/s    in 0s      \n",
            "\n",
            "2022-11-24 12:56:25 (25.7 MB/s) - ‘letter.pdf’ saved [4613]\n",
            "\n",
            "--2022-11-24 12:56:25--  http://wayback.archive-it.org/89/20120118/http://www.librarycopyrightalliance.org/bm~doc/lca-sopa-8nov11.pdf\n",
            "Reusing existing connection to wayback.archive-it.org:80.\n",
            "HTTP request sent, awaiting response... 200 OK\n",
            "Length: unspecified [text/html]\n",
            "Saving to: ‘lca-sopa-8nov11.pdf’\n",
            "\n",
            "lca-sopa-8nov11.pdf     [ <=>                ]   4.50K  --.-KB/s    in 0s      \n",
            "\n",
            "2022-11-24 12:56:25 (14.2 MB/s) - ‘lca-sopa-8nov11.pdf’ saved [4613]\n",
            "\n",
            "--2022-11-24 12:56:25--  http://wayback.archive-it.org/89/20120118/http://www.michaelgeist.ca/index2.php?option=com_content&do_pdf=1&id=6134&task=view\n",
            "Reusing existing connection to wayback.archive-it.org:80.\n",
            "HTTP request sent, awaiting response... 200 OK\n",
            "Length: unspecified [text/html]\n",
            "Saving to: ‘index2.php?option=com_content&do_pdf=1&id=6134&task=view’\n",
            "\n",
            "index2.php?option=c     [ <=>                ]   4.50K  --.-KB/s    in 0.001s  \n",
            "\n",
            "2022-11-24 12:56:25 (4.23 MB/s) - ‘index2.php?option=com_content&do_pdf=1&id=6134&task=view’ saved [4613]\n",
            "\n",
            "--2022-11-24 12:56:25--  http://wayback.archive-it.org/89/20120119/http://dq99alanzv66m.cloudfront.net/sopa/img/12-14-letter.pdf\n",
            "Reusing existing connection to wayback.archive-it.org:80.\n",
            "HTTP request sent, awaiting response... 200 OK\n",
            "Length: unspecified [text/html]\n",
            "Saving to: ‘12-14-letter.pdf’\n",
            "\n",
            "12-14-letter.pdf        [ <=>                ]   4.50K  --.-KB/s    in 0s      \n",
            "\n",
            "2022-11-24 12:56:25 (9.76 MB/s) - ‘12-14-letter.pdf’ saved [4613]\n",
            "\n",
            "--2022-11-24 12:56:25--  http://wayback.archive-it.org/89/20120118/https://static.googleusercontent.com/external_content/untrusted_dlcp/www.google.com/en/us/landing/takeaction/takeaction.pdf\n",
            "Reusing existing connection to wayback.archive-it.org:80.\n",
            "HTTP request sent, awaiting response... 200 OK\n",
            "Length: unspecified [text/html]\n",
            "Saving to: ‘takeaction.pdf’\n",
            "\n",
            "takeaction.pdf          [ <=>                ]   4.50K  --.-KB/s    in 0s      \n",
            "\n",
            "2022-11-24 12:56:25 (17.0 MB/s) - ‘takeaction.pdf’ saved [4613]\n",
            "\n",
            "--2022-11-24 12:56:25--  http://wayback.archive-it.org/89/20120118/http://joshdsigns.com/pdf/curriculum_joshdsigns_2011.pdf\n",
            "Reusing existing connection to wayback.archive-it.org:80.\n",
            "HTTP request sent, awaiting response... 200 OK\n",
            "Length: unspecified [text/html]\n",
            "Saving to: ‘curriculum_joshdsigns_2011.pdf’\n",
            "\n",
            "curriculum_joshdsig     [ <=>                ]   4.50K  --.-KB/s    in 0s      \n",
            "\n",
            "2022-11-24 12:56:26 (15.3 MB/s) - ‘curriculum_joshdsigns_2011.pdf’ saved [4613]\n",
            "\n",
            "--2022-11-24 12:56:26--  http://wayback.archive-it.org/89/20120119/http://oreilly.com/pdf/sample-newsletter.pdf\n",
            "Reusing existing connection to wayback.archive-it.org:80.\n",
            "HTTP request sent, awaiting response... 200 OK\n",
            "Length: unspecified [text/html]\n",
            "Saving to: ‘sample-newsletter.pdf’\n",
            "\n",
            "sample-newsletter.p     [ <=>                ]   4.50K  --.-KB/s    in 0.001s  \n",
            "\n",
            "2022-11-24 12:56:26 (7.13 MB/s) - ‘sample-newsletter.pdf’ saved [4613]\n",
            "\n",
            "--2022-11-24 12:56:26--  http://wayback.archive-it.org/89/20120119/http://bikinicarwashorlando.com/wp-content/uploads/2011/12/Baywash-AD-package_0112.pdf\n",
            "Reusing existing connection to wayback.archive-it.org:80.\n",
            "HTTP request sent, awaiting response... 200 OK\n",
            "Length: unspecified [text/html]\n",
            "Saving to: ‘Baywash-AD-package_0112.pdf’\n",
            "\n",
            "Baywash-AD-package_     [ <=>                ]   4.50K  --.-KB/s    in 0s      \n",
            "\n",
            "2022-11-24 12:56:26 (12.9 MB/s) - ‘Baywash-AD-package_0112.pdf’ saved [4613]\n",
            "\n",
            "--2022-11-24 12:56:26--  http://wayback.archive-it.org/89/20120119/http://www.enriquedans.com/wp-content/uploads/2012/01/sopatrampa-expansion.pdf\n",
            "Reusing existing connection to wayback.archive-it.org:80.\n",
            "HTTP request sent, awaiting response... 200 OK\n",
            "Length: unspecified [text/html]\n",
            "Saving to: ‘sopatrampa-expansion.pdf’\n",
            "\n",
            "sopatrampa-expansio     [ <=>                ]   4.50K  --.-KB/s    in 0s      \n",
            "\n",
            "2022-11-24 12:56:26 (15.9 MB/s) - ‘sopatrampa-expansion.pdf’ saved [4613]\n",
            "\n",
            "--2022-11-24 12:56:26--  http://wayback.archive-it.org/89/20120119/http://chuda.org.ve/descargas/Columna.pdf\n",
            "Reusing existing connection to wayback.archive-it.org:80.\n",
            "HTTP request sent, awaiting response... 200 OK\n",
            "Length: unspecified [text/html]\n",
            "Saving to: ‘Columna.pdf’\n",
            "\n",
            "Columna.pdf             [ <=>                ]   4.50K  --.-KB/s    in 0s      \n",
            "\n",
            "2022-11-24 12:56:26 (24.8 MB/s) - ‘Columna.pdf’ saved [4613]\n",
            "\n",
            "--2022-11-24 12:56:26--  http://wayback.archive-it.org/89/20120119/http://www.enriquedans.com/wp-content/uploads/2012/01/Lauer01.pdf\n",
            "Reusing existing connection to wayback.archive-it.org:80.\n",
            "HTTP request sent, awaiting response... 200 OK\n",
            "Length: unspecified [text/html]\n",
            "Saving to: ‘Lauer01.pdf’\n",
            "\n",
            "Lauer01.pdf             [ <=>                ]   4.50K  --.-KB/s    in 0s      \n",
            "\n",
            "2022-11-24 12:56:26 (65.6 MB/s) - ‘Lauer01.pdf’ saved [4613]\n",
            "\n",
            "--2022-11-24 12:56:26--  http://wayback.archive-it.org/89/20120118/http://www.mpaa.org/resources/995e11f5-135c-4ff2-962a-1f41e32182df.pdf\n",
            "Reusing existing connection to wayback.archive-it.org:80.\n",
            "HTTP request sent, awaiting response... 200 OK\n",
            "Length: unspecified [text/html]\n",
            "Saving to: ‘995e11f5-135c-4ff2-962a-1f41e32182df.pdf’\n",
            "\n",
            "995e11f5-135c-4ff2-     [ <=>                ]   4.50K  --.-KB/s    in 0.001s  \n",
            "\n",
            "2022-11-24 12:56:26 (6.19 MB/s) - ‘995e11f5-135c-4ff2-962a-1f41e32182df.pdf’ saved [4613]\n",
            "\n",
            "--2022-11-24 12:56:26--  http://wayback.archive-it.org/89/20120118/http://cnt.es/sites/default/files/preguntas_y_respuestas_sobre_el_laberinto_educativo_0.pdf\n",
            "Reusing existing connection to wayback.archive-it.org:80.\n",
            "HTTP request sent, awaiting response... 200 OK\n",
            "Length: unspecified [text/html]\n",
            "Saving to: ‘preguntas_y_respuestas_sobre_el_laberinto_educativo_0.pdf’\n",
            "\n",
            "preguntas_y_respues     [ <=>                ]   4.50K  --.-KB/s    in 0s      \n",
            "\n",
            "2022-11-24 12:56:26 (19.8 MB/s) - ‘preguntas_y_respuestas_sobre_el_laberinto_educativo_0.pdf’ saved [4613]\n",
            "\n",
            "--2022-11-24 12:56:26--  http://wayback.archive-it.org/89/20120118/http://joshdsigns.com/pdf/curriculum_joshdsigns_2011.pdf\n",
            "Reusing existing connection to wayback.archive-it.org:80.\n",
            "HTTP request sent, awaiting response... 200 OK\n",
            "Length: unspecified [text/html]\n",
            "Saving to: ‘curriculum_joshdsigns_2011.pdf.1’\n",
            "\n",
            "curriculum_joshdsig     [ <=>                ]   4.50K  --.-KB/s    in 0.001s  \n",
            "\n",
            "2022-11-24 12:56:26 (4.85 MB/s) - ‘curriculum_joshdsigns_2011.pdf.1’ saved [4613]\n",
            "\n",
            "--2022-11-24 12:56:26--  http://wayback.archive-it.org/89/20120118/http://www.gpo.gov/fdsys/pkg/BILLS-112s968rs/pdf/BILLS-112s968rs.pdf\n",
            "Reusing existing connection to wayback.archive-it.org:80.\n",
            "HTTP request sent, awaiting response... 200 OK\n",
            "Length: unspecified [text/html]\n",
            "Saving to: ‘BILLS-112s968rs.pdf’\n",
            "\n",
            "BILLS-112s968rs.pdf     [ <=>                ]   4.50K  --.-KB/s    in 0.001s  \n",
            "\n",
            "2022-11-24 12:56:26 (6.31 MB/s) - ‘BILLS-112s968rs.pdf’ saved [4613]\n",
            "\n",
            "--2022-11-24 12:56:26--  http://wayback.archive-it.org/89/20120118/http://www.gpo.gov/fdsys/pkg/BILLS-112hr3261ih/pdf/BILLS-112hr3261ih.pdf\n",
            "Reusing existing connection to wayback.archive-it.org:80.\n",
            "HTTP request sent, awaiting response... 200 OK\n",
            "Length: unspecified [text/html]\n",
            "Saving to: ‘BILLS-112hr3261ih.pdf’\n",
            "\n",
            "BILLS-112hr3261ih.p     [ <=>                ]   4.50K  --.-KB/s    in 0s      \n",
            "\n",
            "2022-11-24 12:56:26 (10.0 MB/s) - ‘BILLS-112hr3261ih.pdf’ saved [4613]\n",
            "\n",
            "FINISHED --2022-11-24 12:56:26--\n",
            "Total wall clock time: 1.7s\n",
            "Downloaded: 16 files, 72K in 0.007s (10.1 MB/s)\n"
          ]
        }
      ]
    }
  ]
}