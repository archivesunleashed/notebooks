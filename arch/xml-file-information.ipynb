{
  "nbformat": 4,
  "nbformat_minor": 0,
  "metadata": {
    "colab": {
      "provenance": [],
      "include_colab_link": true
    },
    "kernelspec": {
      "name": "python3",
      "display_name": "Python 3"
    },
    "language_info": {
      "name": "python"
    }
  },
  "cells": [
    {
      "cell_type": "markdown",
      "metadata": {
        "id": "view-in-github",
        "colab_type": "text"
      },
      "source": [
        "<a href=\"https://colab.research.google.com/github/archivesunleashed/notebooks/blob/main/arch/xml-file-information.ipynb\" target=\"_parent\"><img src=\"https://colab.research.google.com/assets/colab-badge.svg\" alt=\"Open In Colab\"/></a>"
      ]
    },
    {
      "cell_type": "markdown",
      "source": [
        "# XML Information Dataset Exploration\n",
        "\n",
        "We're going to take a look at a few examples of how we can explore the XML Information dataset. \n",
        "\n",
        "The first thing we need to do is enter the URL for our XML Information dataset in the cell below. You can get this by right clicking the Download icon, and selecting \"Copy Link\"."
      ],
      "metadata": {
        "id": "vAyuRQ2PJIdc"
      }
    },
    {
      "cell_type": "code",
      "source": [
        "dataset = 'https://webdata.archive-it.org/ait/files/download/ARCHIVEIT-14489/TextFilesInformationExtraction/xml-file-information.csv.gz?access=7U3JSR2RB6MXKCDAT5SX56KD5CP7NJCL' #@param {type:\"string\"}\n",
        "print(dataset)"
      ],
      "metadata": {
        "colab": {
          "base_uri": "https://localhost:8080/"
        },
        "cellView": "form",
        "id": "RfhJiesWVpAf",
        "outputId": "4ef28459-f580-47ff-b1c4-2396891a69e8"
      },
      "execution_count": 1,
      "outputs": [
        {
          "output_type": "stream",
          "name": "stdout",
          "text": [
            "https://webdata.archive-it.org/ait/files/download/ARCHIVEIT-14489/TextFilesInformationExtraction/xml-file-information.csv.gz?access=7U3JSR2RB6MXKCDAT5SX56KD5CP7NJCL\n"
          ]
        }
      ]
    },
    {
      "cell_type": "markdown",
      "source": [
        "## pandas\n",
        "\n",
        "Next, we'll setup our environment so we can load our XML Information dataset into [pandas](https://pandas.pydata.org) DataFrames. If you're unfamiliar with DataFrames, but you've worked with XML before, you should feel comfortable pretty quick."
      ],
      "metadata": {
        "id": "Z14F2cIWJVW0"
      }
    },
    {
      "cell_type": "code",
      "execution_count": 2,
      "metadata": {
        "id": "Chh6tt3HHF1s"
      },
      "outputs": [],
      "source": [
        "import pandas as pd"
      ]
    },
    {
      "cell_type": "markdown",
      "source": [
        "## Data Table Display\n",
        "\n",
        "Colab includes an extension that renders pandas DataFrames into interactive displays that can be filtered, sorted, and explored dynamically. This can be very useful for taking a look at what each DataFrame provides, and doing some intital filtering!\n",
        "\n",
        "Data table display for pandas DataFrames can be enabled by running:\n",
        "```python\n",
        "%load_ext google.colab.data_table\n",
        "```\n",
        "and disabled by running\n",
        "```python\n",
        "%unload_ext google.colab.data_table\n",
        "```"
      ],
      "metadata": {
        "id": "sH81XCf3I3xY"
      }
    },
    {
      "cell_type": "code",
      "source": [
        "%load_ext google.colab.data_table"
      ],
      "metadata": {
        "id": "-qyCnbvBI7n6"
      },
      "execution_count": 3,
      "outputs": []
    },
    {
      "cell_type": "markdown",
      "source": [
        "## Loading our ARCH Dataset as a DataFrame\n",
        "\n",
        "---\n",
        "\n",
        "\n",
        "Next, we'll create pandas DataFrame from our dataset, and show a preview of it using the Data Table Display."
      ],
      "metadata": {
        "id": "6prR7j1zI_D5"
      }
    },
    {
      "cell_type": "code",
      "source": [
        "xml = pd.read_csv(dataset, compression='gzip')\n",
        "xml"
      ],
      "metadata": {
        "colab": {
          "base_uri": "https://localhost:8080/",
          "height": 939
        },
        "id": "YL0LQaUNHRKx",
        "outputId": "63d2e83d-f6a4-452f-a597-e8ff2adef136"
      },
      "execution_count": 4,
      "outputs": [
        {
          "output_type": "stream",
          "name": "stdout",
          "text": [
            "Warning: total number of rows (79836) exceeds max_rows (20000). Falling back to pandas display.\n"
          ]
        },
        {
          "output_type": "execute_result",
          "data": {
            "text/plain": [
              "           crawl_date                                                url  \\\n",
              "0      20200629191806  https://cloudfront.ualberta.ca/-/media/ualbert...   \n",
              "1      20200629191814  https://cloudfront.ualberta.ca/-/media/ualbert...   \n",
              "2      20200629191819  https://cloudfront.ualberta.ca/-/media/ualbert...   \n",
              "3      20200629191823  https://cloudfront.ualberta.ca/-/media/ualbert...   \n",
              "4      20200629191828  https://cloudfront.ualberta.ca/-/media/ualbert...   \n",
              "...               ...                                                ...   \n",
              "79831  20220701175627  https://www.uwo.ca/web_standards/img/social/sv...   \n",
              "79832  20220702044944  https://www.uwo.ca/web_standards/img/logos-cen...   \n",
              "79833  20220702060920  https://www.uwo.ca/web_standards/img/logos-fac...   \n",
              "79834  20220702071155  https://www.uwo.ca/web_standards/img/logos-fac...   \n",
              "79835  20220704014401  https://www.uwo.ca/web_standards/img/logos-cen...   \n",
              "\n",
              "                                      filename extension mime_type_web_server  \\\n",
              "0                         folio-logo-black.svg       svg        image/svg+xml   \n",
              "1                  aboriginal-buffalo-icon.svg       svg        image/svg+xml   \n",
              "2                 university-calendar-icon.svg       svg        image/svg+xml   \n",
              "3                           residence-icon.svg       svg        image/svg+xml   \n",
              "4                           bookstore-icon.svg       svg        image/svg+xml   \n",
              "...                                        ...       ...                  ...   \n",
              "79831                           twitter-lg.svg       svg        image/svg+xml   \n",
              "79832          CanadianCntrActivity_PMS268.svg       svg        image/svg+xml   \n",
              "79833  Western_Logo_F_S_ArtsHumanities_RGB.svg       svg        image/svg+xml   \n",
              "79834  Western_Logo_F_S_HealthSciences_RGB.svg       svg        image/svg+xml   \n",
              "79835                  CentreAudiology_RGB.svg       svg        image/svg+xml   \n",
              "\n",
              "      mime_type_tika                               md5  \\\n",
              "0      image/svg+xml  6a60ac715a6ba4c9e4a9035570218e81   \n",
              "1      image/svg+xml  e94d02e09b2471fba4881696878fd4aa   \n",
              "2      image/svg+xml  25544e8b53b66b8343709beb1541df3f   \n",
              "3      image/svg+xml  b4c2e3536cbf83af0cb080147fc74a01   \n",
              "4      image/svg+xml  2b3fc5f1197e8e6352eaea446a0c949b   \n",
              "...              ...                               ...   \n",
              "79831            NaN  d41d8cd98f00b204e9800998ecf8427e   \n",
              "79832            NaN  d41d8cd98f00b204e9800998ecf8427e   \n",
              "79833            NaN  d41d8cd98f00b204e9800998ecf8427e   \n",
              "79834            NaN  d41d8cd98f00b204e9800998ecf8427e   \n",
              "79835            NaN  d41d8cd98f00b204e9800998ecf8427e   \n",
              "\n",
              "                                           sha1  \\\n",
              "0      2a7d99f6736f627d7b210e74e3cf8accc60b04e9   \n",
              "1      cb236de6bbab973e966842cb5ba15aec43156740   \n",
              "2      870718bdc7b4ef4e1641a34fd9b7a10b262748c1   \n",
              "3      7a3bb6073707f07e7acfe73138a6100024797704   \n",
              "4      954a224b03f8600c01b6ecb3ce491221f3d1e13b   \n",
              "...                                         ...   \n",
              "79831  da39a3ee5e6b4b0d3255bfef95601890afd80709   \n",
              "79832  da39a3ee5e6b4b0d3255bfef95601890afd80709   \n",
              "79833  da39a3ee5e6b4b0d3255bfef95601890afd80709   \n",
              "79834  da39a3ee5e6b4b0d3255bfef95601890afd80709   \n",
              "79835  da39a3ee5e6b4b0d3255bfef95601890afd80709   \n",
              "\n",
              "                                                 content  \n",
              "0      <?xml version=\"1.0\" encoding=\"UTF-8\"?>\\n<svg w...  \n",
              "1      <?xml version=\"1.0\" encoding=\"UTF-8\"?>\\n<svg w...  \n",
              "2      <?xml version=\"1.0\" encoding=\"UTF-8\"?>\\n<svg w...  \n",
              "3      <?xml version=\"1.0\" encoding=\"UTF-8\"?>\\n<svg w...  \n",
              "4      <?xml version=\"1.0\" encoding=\"UTF-8\"?>\\n<svg w...  \n",
              "...                                                  ...  \n",
              "79831                                                NaN  \n",
              "79832                                                NaN  \n",
              "79833                                                NaN  \n",
              "79834                                                NaN  \n",
              "79835                                                NaN  \n",
              "\n",
              "[79836 rows x 9 columns]"
            ],
            "text/html": [
              "\n",
              "  <div id=\"df-6b955825-51c3-4268-a670-750449086c0b\">\n",
              "    <div class=\"colab-df-container\">\n",
              "      <div>\n",
              "<style scoped>\n",
              "    .dataframe tbody tr th:only-of-type {\n",
              "        vertical-align: middle;\n",
              "    }\n",
              "\n",
              "    .dataframe tbody tr th {\n",
              "        vertical-align: top;\n",
              "    }\n",
              "\n",
              "    .dataframe thead th {\n",
              "        text-align: right;\n",
              "    }\n",
              "</style>\n",
              "<table border=\"1\" class=\"dataframe\">\n",
              "  <thead>\n",
              "    <tr style=\"text-align: right;\">\n",
              "      <th></th>\n",
              "      <th>crawl_date</th>\n",
              "      <th>url</th>\n",
              "      <th>filename</th>\n",
              "      <th>extension</th>\n",
              "      <th>mime_type_web_server</th>\n",
              "      <th>mime_type_tika</th>\n",
              "      <th>md5</th>\n",
              "      <th>sha1</th>\n",
              "      <th>content</th>\n",
              "    </tr>\n",
              "  </thead>\n",
              "  <tbody>\n",
              "    <tr>\n",
              "      <th>0</th>\n",
              "      <td>20200629191806</td>\n",
              "      <td>https://cloudfront.ualberta.ca/-/media/ualbert...</td>\n",
              "      <td>folio-logo-black.svg</td>\n",
              "      <td>svg</td>\n",
              "      <td>image/svg+xml</td>\n",
              "      <td>image/svg+xml</td>\n",
              "      <td>6a60ac715a6ba4c9e4a9035570218e81</td>\n",
              "      <td>2a7d99f6736f627d7b210e74e3cf8accc60b04e9</td>\n",
              "      <td>&lt;?xml version=\"1.0\" encoding=\"UTF-8\"?&gt;\\n&lt;svg w...</td>\n",
              "    </tr>\n",
              "    <tr>\n",
              "      <th>1</th>\n",
              "      <td>20200629191814</td>\n",
              "      <td>https://cloudfront.ualberta.ca/-/media/ualbert...</td>\n",
              "      <td>aboriginal-buffalo-icon.svg</td>\n",
              "      <td>svg</td>\n",
              "      <td>image/svg+xml</td>\n",
              "      <td>image/svg+xml</td>\n",
              "      <td>e94d02e09b2471fba4881696878fd4aa</td>\n",
              "      <td>cb236de6bbab973e966842cb5ba15aec43156740</td>\n",
              "      <td>&lt;?xml version=\"1.0\" encoding=\"UTF-8\"?&gt;\\n&lt;svg w...</td>\n",
              "    </tr>\n",
              "    <tr>\n",
              "      <th>2</th>\n",
              "      <td>20200629191819</td>\n",
              "      <td>https://cloudfront.ualberta.ca/-/media/ualbert...</td>\n",
              "      <td>university-calendar-icon.svg</td>\n",
              "      <td>svg</td>\n",
              "      <td>image/svg+xml</td>\n",
              "      <td>image/svg+xml</td>\n",
              "      <td>25544e8b53b66b8343709beb1541df3f</td>\n",
              "      <td>870718bdc7b4ef4e1641a34fd9b7a10b262748c1</td>\n",
              "      <td>&lt;?xml version=\"1.0\" encoding=\"UTF-8\"?&gt;\\n&lt;svg w...</td>\n",
              "    </tr>\n",
              "    <tr>\n",
              "      <th>3</th>\n",
              "      <td>20200629191823</td>\n",
              "      <td>https://cloudfront.ualberta.ca/-/media/ualbert...</td>\n",
              "      <td>residence-icon.svg</td>\n",
              "      <td>svg</td>\n",
              "      <td>image/svg+xml</td>\n",
              "      <td>image/svg+xml</td>\n",
              "      <td>b4c2e3536cbf83af0cb080147fc74a01</td>\n",
              "      <td>7a3bb6073707f07e7acfe73138a6100024797704</td>\n",
              "      <td>&lt;?xml version=\"1.0\" encoding=\"UTF-8\"?&gt;\\n&lt;svg w...</td>\n",
              "    </tr>\n",
              "    <tr>\n",
              "      <th>4</th>\n",
              "      <td>20200629191828</td>\n",
              "      <td>https://cloudfront.ualberta.ca/-/media/ualbert...</td>\n",
              "      <td>bookstore-icon.svg</td>\n",
              "      <td>svg</td>\n",
              "      <td>image/svg+xml</td>\n",
              "      <td>image/svg+xml</td>\n",
              "      <td>2b3fc5f1197e8e6352eaea446a0c949b</td>\n",
              "      <td>954a224b03f8600c01b6ecb3ce491221f3d1e13b</td>\n",
              "      <td>&lt;?xml version=\"1.0\" encoding=\"UTF-8\"?&gt;\\n&lt;svg w...</td>\n",
              "    </tr>\n",
              "    <tr>\n",
              "      <th>...</th>\n",
              "      <td>...</td>\n",
              "      <td>...</td>\n",
              "      <td>...</td>\n",
              "      <td>...</td>\n",
              "      <td>...</td>\n",
              "      <td>...</td>\n",
              "      <td>...</td>\n",
              "      <td>...</td>\n",
              "      <td>...</td>\n",
              "    </tr>\n",
              "    <tr>\n",
              "      <th>79831</th>\n",
              "      <td>20220701175627</td>\n",
              "      <td>https://www.uwo.ca/web_standards/img/social/sv...</td>\n",
              "      <td>twitter-lg.svg</td>\n",
              "      <td>svg</td>\n",
              "      <td>image/svg+xml</td>\n",
              "      <td>NaN</td>\n",
              "      <td>d41d8cd98f00b204e9800998ecf8427e</td>\n",
              "      <td>da39a3ee5e6b4b0d3255bfef95601890afd80709</td>\n",
              "      <td>NaN</td>\n",
              "    </tr>\n",
              "    <tr>\n",
              "      <th>79832</th>\n",
              "      <td>20220702044944</td>\n",
              "      <td>https://www.uwo.ca/web_standards/img/logos-cen...</td>\n",
              "      <td>CanadianCntrActivity_PMS268.svg</td>\n",
              "      <td>svg</td>\n",
              "      <td>image/svg+xml</td>\n",
              "      <td>NaN</td>\n",
              "      <td>d41d8cd98f00b204e9800998ecf8427e</td>\n",
              "      <td>da39a3ee5e6b4b0d3255bfef95601890afd80709</td>\n",
              "      <td>NaN</td>\n",
              "    </tr>\n",
              "    <tr>\n",
              "      <th>79833</th>\n",
              "      <td>20220702060920</td>\n",
              "      <td>https://www.uwo.ca/web_standards/img/logos-fac...</td>\n",
              "      <td>Western_Logo_F_S_ArtsHumanities_RGB.svg</td>\n",
              "      <td>svg</td>\n",
              "      <td>image/svg+xml</td>\n",
              "      <td>NaN</td>\n",
              "      <td>d41d8cd98f00b204e9800998ecf8427e</td>\n",
              "      <td>da39a3ee5e6b4b0d3255bfef95601890afd80709</td>\n",
              "      <td>NaN</td>\n",
              "    </tr>\n",
              "    <tr>\n",
              "      <th>79834</th>\n",
              "      <td>20220702071155</td>\n",
              "      <td>https://www.uwo.ca/web_standards/img/logos-fac...</td>\n",
              "      <td>Western_Logo_F_S_HealthSciences_RGB.svg</td>\n",
              "      <td>svg</td>\n",
              "      <td>image/svg+xml</td>\n",
              "      <td>NaN</td>\n",
              "      <td>d41d8cd98f00b204e9800998ecf8427e</td>\n",
              "      <td>da39a3ee5e6b4b0d3255bfef95601890afd80709</td>\n",
              "      <td>NaN</td>\n",
              "    </tr>\n",
              "    <tr>\n",
              "      <th>79835</th>\n",
              "      <td>20220704014401</td>\n",
              "      <td>https://www.uwo.ca/web_standards/img/logos-cen...</td>\n",
              "      <td>CentreAudiology_RGB.svg</td>\n",
              "      <td>svg</td>\n",
              "      <td>image/svg+xml</td>\n",
              "      <td>NaN</td>\n",
              "      <td>d41d8cd98f00b204e9800998ecf8427e</td>\n",
              "      <td>da39a3ee5e6b4b0d3255bfef95601890afd80709</td>\n",
              "      <td>NaN</td>\n",
              "    </tr>\n",
              "  </tbody>\n",
              "</table>\n",
              "<p>79836 rows × 9 columns</p>\n",
              "</div>\n",
              "      <button class=\"colab-df-convert\" onclick=\"convertToInteractive('df-6b955825-51c3-4268-a670-750449086c0b')\"\n",
              "              title=\"Convert this dataframe to an interactive table.\"\n",
              "              style=\"display:none;\">\n",
              "        \n",
              "  <svg xmlns=\"http://www.w3.org/2000/svg\" height=\"24px\"viewBox=\"0 0 24 24\"\n",
              "       width=\"24px\">\n",
              "    <path d=\"M0 0h24v24H0V0z\" fill=\"none\"/>\n",
              "    <path d=\"M18.56 5.44l.94 2.06.94-2.06 2.06-.94-2.06-.94-.94-2.06-.94 2.06-2.06.94zm-11 1L8.5 8.5l.94-2.06 2.06-.94-2.06-.94L8.5 2.5l-.94 2.06-2.06.94zm10 10l.94 2.06.94-2.06 2.06-.94-2.06-.94-.94-2.06-.94 2.06-2.06.94z\"/><path d=\"M17.41 7.96l-1.37-1.37c-.4-.4-.92-.59-1.43-.59-.52 0-1.04.2-1.43.59L10.3 9.45l-7.72 7.72c-.78.78-.78 2.05 0 2.83L4 21.41c.39.39.9.59 1.41.59.51 0 1.02-.2 1.41-.59l7.78-7.78 2.81-2.81c.8-.78.8-2.07 0-2.86zM5.41 20L4 18.59l7.72-7.72 1.47 1.35L5.41 20z\"/>\n",
              "  </svg>\n",
              "      </button>\n",
              "      \n",
              "  <style>\n",
              "    .colab-df-container {\n",
              "      display:flex;\n",
              "      flex-wrap:wrap;\n",
              "      gap: 12px;\n",
              "    }\n",
              "\n",
              "    .colab-df-convert {\n",
              "      background-color: #E8F0FE;\n",
              "      border: none;\n",
              "      border-radius: 50%;\n",
              "      cursor: pointer;\n",
              "      display: none;\n",
              "      fill: #1967D2;\n",
              "      height: 32px;\n",
              "      padding: 0 0 0 0;\n",
              "      width: 32px;\n",
              "    }\n",
              "\n",
              "    .colab-df-convert:hover {\n",
              "      background-color: #E2EBFA;\n",
              "      box-shadow: 0px 1px 2px rgba(60, 64, 67, 0.3), 0px 1px 3px 1px rgba(60, 64, 67, 0.15);\n",
              "      fill: #174EA6;\n",
              "    }\n",
              "\n",
              "    [theme=dark] .colab-df-convert {\n",
              "      background-color: #3B4455;\n",
              "      fill: #D2E3FC;\n",
              "    }\n",
              "\n",
              "    [theme=dark] .colab-df-convert:hover {\n",
              "      background-color: #434B5C;\n",
              "      box-shadow: 0px 1px 3px 1px rgba(0, 0, 0, 0.15);\n",
              "      filter: drop-shadow(0px 1px 2px rgba(0, 0, 0, 0.3));\n",
              "      fill: #FFFFFF;\n",
              "    }\n",
              "  </style>\n",
              "\n",
              "      <script>\n",
              "        const buttonEl =\n",
              "          document.querySelector('#df-6b955825-51c3-4268-a670-750449086c0b button.colab-df-convert');\n",
              "        buttonEl.style.display =\n",
              "          google.colab.kernel.accessAllowed ? 'block' : 'none';\n",
              "\n",
              "        async function convertToInteractive(key) {\n",
              "          const element = document.querySelector('#df-6b955825-51c3-4268-a670-750449086c0b');\n",
              "          const dataTable =\n",
              "            await google.colab.kernel.invokeFunction('convertToInteractive',\n",
              "                                                     [key], {});\n",
              "          if (!dataTable) return;\n",
              "\n",
              "          const docLinkHtml = 'Like what you see? Visit the ' +\n",
              "            '<a target=\"_blank\" href=https://colab.research.google.com/notebooks/data_table.ipynb>data table notebook</a>'\n",
              "            + ' to learn more about interactive tables.';\n",
              "          element.innerHTML = '';\n",
              "          dataTable['output_type'] = 'display_data';\n",
              "          await google.colab.output.renderOutput(dataTable, element);\n",
              "          const docLink = document.createElement('div');\n",
              "          docLink.innerHTML = docLinkHtml;\n",
              "          element.appendChild(docLink);\n",
              "        }\n",
              "      </script>\n",
              "    </div>\n",
              "  </div>\n",
              "  "
            ]
          },
          "metadata": {},
          "execution_count": 4
        }
      ]
    },
    {
      "cell_type": "markdown",
      "metadata": {
        "id": "3HPwOCNAvqMe"
      },
      "source": [
        "# Data Analysis\n",
        "\n",
        "Now that we have all of our datasets loaded up, we can begin to work with them!"
      ]
    },
    {
      "cell_type": "markdown",
      "metadata": {
        "id": "J6Pkg0prv3BE"
      },
      "source": [
        "## Counting total files, and unique files\n",
        "\n",
        "Let's take a quick look at how to count items in DataFrames, and use total and unique files as an example to work with.\n",
        "\n",
        "It's definitely work checking out the [pandas documentation](https://pandas.pydata.org/docs/index.html). There are a lot of good examples available, along with a robust [API reference](https://pandas.pydata.org/docs/reference/index.html#api)."
      ]
    },
    {
      "cell_type": "markdown",
      "metadata": {
        "id": "DFX4Gl3wv7bi"
      },
      "source": [
        "\n",
        "### How many XML files are in this collection?\n",
        "\n",
        "We can take our `xml` variable and try a couple of functions to get the same answer.\n",
        "\n",
        "1.   `len(xml.index)`\n",
        "  * Get the length of the DataFrame's index.\n",
        "2.   `xml.shape[0]`\n",
        "  * Get the shape or dimensionality of the DataFrame, and take the first item in the tuple.\n",
        "3.  `xml.count()`\n",
        "  * Count the number of rows for each column.\n",
        "\n"
      ]
    },
    {
      "cell_type": "code",
      "metadata": {
        "colab": {
          "base_uri": "https://localhost:8080/"
        },
        "id": "HTv8Oet3jiTH",
        "outputId": "cdd6be3b-6eeb-4170-8345-248e54450e2f"
      },
      "source": [
        "len(xml.index)"
      ],
      "execution_count": 5,
      "outputs": [
        {
          "output_type": "execute_result",
          "data": {
            "text/plain": [
              "79836"
            ]
          },
          "metadata": {},
          "execution_count": 5
        }
      ]
    },
    {
      "cell_type": "code",
      "metadata": {
        "colab": {
          "base_uri": "https://localhost:8080/"
        },
        "id": "6rYEERnTjifk",
        "outputId": "80a7913c-50c0-4070-9d31-091b7fbb5008"
      },
      "source": [
        "xml.shape[0]"
      ],
      "execution_count": 6,
      "outputs": [
        {
          "output_type": "execute_result",
          "data": {
            "text/plain": [
              "79836"
            ]
          },
          "metadata": {},
          "execution_count": 6
        }
      ]
    },
    {
      "cell_type": "code",
      "metadata": {
        "colab": {
          "base_uri": "https://localhost:8080/"
        },
        "id": "bn-1v127aKIG",
        "outputId": "f71b9ef2-1a25-4d10-9c69-3fd1ca344668"
      },
      "source": [
        "xml.count()"
      ],
      "execution_count": 7,
      "outputs": [
        {
          "output_type": "execute_result",
          "data": {
            "text/plain": [
              "crawl_date              79836\n",
              "url                     79836\n",
              "filename                65738\n",
              "extension               79836\n",
              "mime_type_web_server    79836\n",
              "mime_type_tika          47512\n",
              "md5                     79836\n",
              "sha1                    79836\n",
              "content                 47512\n",
              "dtype: int64"
            ]
          },
          "metadata": {},
          "execution_count": 7
        }
      ]
    },
    {
      "cell_type": "markdown",
      "metadata": {
        "id": "38veKiPhwKo4"
      },
      "source": [
        "### How many unique XML files are in the collection?\n",
        "\n",
        " We can see if an XML file is unique or not by computing an [MD5 hash](https://en.wikipedia.org/wiki/MD5#MD5_hashes) of it, and comparing them. The exact same XML file might have a filename of `example.svg` or `foo.svg`. If the hash is computed for each, we can see that even with different file names, they are actually the same XML file. So, since we have both a `MD5` and `SHA1` hash column available in our DataFrame, we can just find the unique values, and count them!\n",
        "\n",
        "\n"
      ]
    },
    {
      "cell_type": "code",
      "metadata": {
        "colab": {
          "base_uri": "https://localhost:8080/"
        },
        "id": "WesM3kQowM5B",
        "outputId": "4b0d1459-4e89-4a2d-c424-d1e6b3a3ea8f"
      },
      "source": [
        "len(xml.md5.unique())"
      ],
      "execution_count": 8,
      "outputs": [
        {
          "output_type": "execute_result",
          "data": {
            "text/plain": [
              "46358"
            ]
          },
          "metadata": {},
          "execution_count": 8
        }
      ]
    },
    {
      "cell_type": "markdown",
      "metadata": {
        "id": "ZIXkI0-1wWQf"
      },
      "source": [
        "### What are the top 10 most occurring xml files in the collection?\n",
        "\n",
        "Here we can take advantage of [`value_counts()`](https://pandas.pydata.org/docs/reference/api/pandas.DataFrame.value_counts.html) to provide us with a list of MD5 hashes and their respective counts."
      ]
    },
    {
      "cell_type": "code",
      "metadata": {
        "colab": {
          "base_uri": "https://localhost:8080/"
        },
        "id": "8Ts03OFyjPIM",
        "outputId": "37226d80-5427-4882-f102-60405834763a"
      },
      "source": [
        "xml[\"md5\"].value_counts().head(10)"
      ],
      "execution_count": 9,
      "outputs": [
        {
          "output_type": "execute_result",
          "data": {
            "text/plain": [
              "d41d8cd98f00b204e9800998ecf8427e    32324\n",
              "dfd490b6f383ea02a269031ff05e8896        9\n",
              "10e8a5455c4522c48aa975eacd4f0023        6\n",
              "912ec66d7572ff821749319396470bde        4\n",
              "4b0df5692262275123f44751ec048524        4\n",
              "89889688147bd7575d6327160d64e760        4\n",
              "d7c639084f684d66a1bc66855d193ed8        4\n",
              "23a0fbed7233e6e335a31f7ba133d557        3\n",
              "b9d20f8756cf8752b514fee78971ffc3        3\n",
              "f41e42ad9457ceb7d61276098699f670        3\n",
              "Name: md5, dtype: int64"
            ]
          },
          "metadata": {},
          "execution_count": 9
        }
      ]
    },
    {
      "cell_type": "markdown",
      "metadata": {
        "id": "FG7pGZUEwlaI"
      },
      "source": [
        "\n",
        "### What's the information around all of the occurances of `d41d8cd98f00b204e9800998ecf8427e`?\n",
        "\n",
        "What, you mean you don't know what `d41d8cd98f00b204e9800998ecf8427e` means? \n",
        "\n",
        "Let's find those XML files in the DataFrame. We can here see some of the filenames used and information about the files.\n"
      ]
    },
    {
      "cell_type": "code",
      "metadata": {
        "colab": {
          "base_uri": "https://localhost:8080/",
          "height": 766
        },
        "id": "msmmm65lkSIK",
        "outputId": "598ca80f-2f92-40d1-e80c-c3120e61af9a"
      },
      "source": [
        "xml.loc[xml[\"md5\"] == \"d41d8cd98f00b204e9800998ecf8427e\"]"
      ],
      "execution_count": 10,
      "outputs": [
        {
          "output_type": "stream",
          "name": "stdout",
          "text": [
            "Warning: total number of rows (32324) exceeds max_rows (20000). Falling back to pandas display.\n"
          ]
        },
        {
          "output_type": "execute_result",
          "data": {
            "text/plain": [
              "           crawl_date                                                url  \\\n",
              "20     20200629202451  https://cloudfront.ualberta.ca/design/custom/m...   \n",
              "29     20200629204037  https://www.cms.ualberta.ca///api/events/event...   \n",
              "60     20200630230223  https://www.ualberta.ca/extension/english-lang...   \n",
              "62     20200701210947  https://www.ualberta.ca/api/events/eventfeed.x...   \n",
              "65     20200703075416  https://www.ualberta.ca/media-library/ualberta...   \n",
              "...               ...                                                ...   \n",
              "79831  20220701175627  https://www.uwo.ca/web_standards/img/social/sv...   \n",
              "79832  20220702044944  https://www.uwo.ca/web_standards/img/logos-cen...   \n",
              "79833  20220702060920  https://www.uwo.ca/web_standards/img/logos-fac...   \n",
              "79834  20220702071155  https://www.uwo.ca/web_standards/img/logos-fac...   \n",
              "79835  20220704014401  https://www.uwo.ca/web_standards/img/logos-cen...   \n",
              "\n",
              "                                      filename extension mime_type_web_server  \\\n",
              "20              university-of-alberta-logo.svg       svg        image/svg+xml   \n",
              "29                               eventfeed.xml       xml      application/xml   \n",
              "60       8f2a47aa82b8453689fa3ef1519a1aad.ashx      ashx        image/svg+xml   \n",
              "62                               eventfeed.xml       xml      application/xml   \n",
              "65                        folio-logo-black.svg       svg        image/svg+xml   \n",
              "...                                        ...       ...                  ...   \n",
              "79831                           twitter-lg.svg       svg        image/svg+xml   \n",
              "79832          CanadianCntrActivity_PMS268.svg       svg        image/svg+xml   \n",
              "79833  Western_Logo_F_S_ArtsHumanities_RGB.svg       svg        image/svg+xml   \n",
              "79834  Western_Logo_F_S_HealthSciences_RGB.svg       svg        image/svg+xml   \n",
              "79835                  CentreAudiology_RGB.svg       svg        image/svg+xml   \n",
              "\n",
              "      mime_type_tika                               md5  \\\n",
              "20               NaN  d41d8cd98f00b204e9800998ecf8427e   \n",
              "29               NaN  d41d8cd98f00b204e9800998ecf8427e   \n",
              "60               NaN  d41d8cd98f00b204e9800998ecf8427e   \n",
              "62               NaN  d41d8cd98f00b204e9800998ecf8427e   \n",
              "65               NaN  d41d8cd98f00b204e9800998ecf8427e   \n",
              "...              ...                               ...   \n",
              "79831            NaN  d41d8cd98f00b204e9800998ecf8427e   \n",
              "79832            NaN  d41d8cd98f00b204e9800998ecf8427e   \n",
              "79833            NaN  d41d8cd98f00b204e9800998ecf8427e   \n",
              "79834            NaN  d41d8cd98f00b204e9800998ecf8427e   \n",
              "79835            NaN  d41d8cd98f00b204e9800998ecf8427e   \n",
              "\n",
              "                                           sha1 content  \n",
              "20     da39a3ee5e6b4b0d3255bfef95601890afd80709     NaN  \n",
              "29     da39a3ee5e6b4b0d3255bfef95601890afd80709     NaN  \n",
              "60     da39a3ee5e6b4b0d3255bfef95601890afd80709     NaN  \n",
              "62     da39a3ee5e6b4b0d3255bfef95601890afd80709     NaN  \n",
              "65     da39a3ee5e6b4b0d3255bfef95601890afd80709     NaN  \n",
              "...                                         ...     ...  \n",
              "79831  da39a3ee5e6b4b0d3255bfef95601890afd80709     NaN  \n",
              "79832  da39a3ee5e6b4b0d3255bfef95601890afd80709     NaN  \n",
              "79833  da39a3ee5e6b4b0d3255bfef95601890afd80709     NaN  \n",
              "79834  da39a3ee5e6b4b0d3255bfef95601890afd80709     NaN  \n",
              "79835  da39a3ee5e6b4b0d3255bfef95601890afd80709     NaN  \n",
              "\n",
              "[32324 rows x 9 columns]"
            ],
            "text/html": [
              "\n",
              "  <div id=\"df-ce9be1bb-9555-49d2-8748-7b41f8774756\">\n",
              "    <div class=\"colab-df-container\">\n",
              "      <div>\n",
              "<style scoped>\n",
              "    .dataframe tbody tr th:only-of-type {\n",
              "        vertical-align: middle;\n",
              "    }\n",
              "\n",
              "    .dataframe tbody tr th {\n",
              "        vertical-align: top;\n",
              "    }\n",
              "\n",
              "    .dataframe thead th {\n",
              "        text-align: right;\n",
              "    }\n",
              "</style>\n",
              "<table border=\"1\" class=\"dataframe\">\n",
              "  <thead>\n",
              "    <tr style=\"text-align: right;\">\n",
              "      <th></th>\n",
              "      <th>crawl_date</th>\n",
              "      <th>url</th>\n",
              "      <th>filename</th>\n",
              "      <th>extension</th>\n",
              "      <th>mime_type_web_server</th>\n",
              "      <th>mime_type_tika</th>\n",
              "      <th>md5</th>\n",
              "      <th>sha1</th>\n",
              "      <th>content</th>\n",
              "    </tr>\n",
              "  </thead>\n",
              "  <tbody>\n",
              "    <tr>\n",
              "      <th>20</th>\n",
              "      <td>20200629202451</td>\n",
              "      <td>https://cloudfront.ualberta.ca/design/custom/m...</td>\n",
              "      <td>university-of-alberta-logo.svg</td>\n",
              "      <td>svg</td>\n",
              "      <td>image/svg+xml</td>\n",
              "      <td>NaN</td>\n",
              "      <td>d41d8cd98f00b204e9800998ecf8427e</td>\n",
              "      <td>da39a3ee5e6b4b0d3255bfef95601890afd80709</td>\n",
              "      <td>NaN</td>\n",
              "    </tr>\n",
              "    <tr>\n",
              "      <th>29</th>\n",
              "      <td>20200629204037</td>\n",
              "      <td>https://www.cms.ualberta.ca///api/events/event...</td>\n",
              "      <td>eventfeed.xml</td>\n",
              "      <td>xml</td>\n",
              "      <td>application/xml</td>\n",
              "      <td>NaN</td>\n",
              "      <td>d41d8cd98f00b204e9800998ecf8427e</td>\n",
              "      <td>da39a3ee5e6b4b0d3255bfef95601890afd80709</td>\n",
              "      <td>NaN</td>\n",
              "    </tr>\n",
              "    <tr>\n",
              "      <th>60</th>\n",
              "      <td>20200630230223</td>\n",
              "      <td>https://www.ualberta.ca/extension/english-lang...</td>\n",
              "      <td>8f2a47aa82b8453689fa3ef1519a1aad.ashx</td>\n",
              "      <td>ashx</td>\n",
              "      <td>image/svg+xml</td>\n",
              "      <td>NaN</td>\n",
              "      <td>d41d8cd98f00b204e9800998ecf8427e</td>\n",
              "      <td>da39a3ee5e6b4b0d3255bfef95601890afd80709</td>\n",
              "      <td>NaN</td>\n",
              "    </tr>\n",
              "    <tr>\n",
              "      <th>62</th>\n",
              "      <td>20200701210947</td>\n",
              "      <td>https://www.ualberta.ca/api/events/eventfeed.x...</td>\n",
              "      <td>eventfeed.xml</td>\n",
              "      <td>xml</td>\n",
              "      <td>application/xml</td>\n",
              "      <td>NaN</td>\n",
              "      <td>d41d8cd98f00b204e9800998ecf8427e</td>\n",
              "      <td>da39a3ee5e6b4b0d3255bfef95601890afd80709</td>\n",
              "      <td>NaN</td>\n",
              "    </tr>\n",
              "    <tr>\n",
              "      <th>65</th>\n",
              "      <td>20200703075416</td>\n",
              "      <td>https://www.ualberta.ca/media-library/ualberta...</td>\n",
              "      <td>folio-logo-black.svg</td>\n",
              "      <td>svg</td>\n",
              "      <td>image/svg+xml</td>\n",
              "      <td>NaN</td>\n",
              "      <td>d41d8cd98f00b204e9800998ecf8427e</td>\n",
              "      <td>da39a3ee5e6b4b0d3255bfef95601890afd80709</td>\n",
              "      <td>NaN</td>\n",
              "    </tr>\n",
              "    <tr>\n",
              "      <th>...</th>\n",
              "      <td>...</td>\n",
              "      <td>...</td>\n",
              "      <td>...</td>\n",
              "      <td>...</td>\n",
              "      <td>...</td>\n",
              "      <td>...</td>\n",
              "      <td>...</td>\n",
              "      <td>...</td>\n",
              "      <td>...</td>\n",
              "    </tr>\n",
              "    <tr>\n",
              "      <th>79831</th>\n",
              "      <td>20220701175627</td>\n",
              "      <td>https://www.uwo.ca/web_standards/img/social/sv...</td>\n",
              "      <td>twitter-lg.svg</td>\n",
              "      <td>svg</td>\n",
              "      <td>image/svg+xml</td>\n",
              "      <td>NaN</td>\n",
              "      <td>d41d8cd98f00b204e9800998ecf8427e</td>\n",
              "      <td>da39a3ee5e6b4b0d3255bfef95601890afd80709</td>\n",
              "      <td>NaN</td>\n",
              "    </tr>\n",
              "    <tr>\n",
              "      <th>79832</th>\n",
              "      <td>20220702044944</td>\n",
              "      <td>https://www.uwo.ca/web_standards/img/logos-cen...</td>\n",
              "      <td>CanadianCntrActivity_PMS268.svg</td>\n",
              "      <td>svg</td>\n",
              "      <td>image/svg+xml</td>\n",
              "      <td>NaN</td>\n",
              "      <td>d41d8cd98f00b204e9800998ecf8427e</td>\n",
              "      <td>da39a3ee5e6b4b0d3255bfef95601890afd80709</td>\n",
              "      <td>NaN</td>\n",
              "    </tr>\n",
              "    <tr>\n",
              "      <th>79833</th>\n",
              "      <td>20220702060920</td>\n",
              "      <td>https://www.uwo.ca/web_standards/img/logos-fac...</td>\n",
              "      <td>Western_Logo_F_S_ArtsHumanities_RGB.svg</td>\n",
              "      <td>svg</td>\n",
              "      <td>image/svg+xml</td>\n",
              "      <td>NaN</td>\n",
              "      <td>d41d8cd98f00b204e9800998ecf8427e</td>\n",
              "      <td>da39a3ee5e6b4b0d3255bfef95601890afd80709</td>\n",
              "      <td>NaN</td>\n",
              "    </tr>\n",
              "    <tr>\n",
              "      <th>79834</th>\n",
              "      <td>20220702071155</td>\n",
              "      <td>https://www.uwo.ca/web_standards/img/logos-fac...</td>\n",
              "      <td>Western_Logo_F_S_HealthSciences_RGB.svg</td>\n",
              "      <td>svg</td>\n",
              "      <td>image/svg+xml</td>\n",
              "      <td>NaN</td>\n",
              "      <td>d41d8cd98f00b204e9800998ecf8427e</td>\n",
              "      <td>da39a3ee5e6b4b0d3255bfef95601890afd80709</td>\n",
              "      <td>NaN</td>\n",
              "    </tr>\n",
              "    <tr>\n",
              "      <th>79835</th>\n",
              "      <td>20220704014401</td>\n",
              "      <td>https://www.uwo.ca/web_standards/img/logos-cen...</td>\n",
              "      <td>CentreAudiology_RGB.svg</td>\n",
              "      <td>svg</td>\n",
              "      <td>image/svg+xml</td>\n",
              "      <td>NaN</td>\n",
              "      <td>d41d8cd98f00b204e9800998ecf8427e</td>\n",
              "      <td>da39a3ee5e6b4b0d3255bfef95601890afd80709</td>\n",
              "      <td>NaN</td>\n",
              "    </tr>\n",
              "  </tbody>\n",
              "</table>\n",
              "<p>32324 rows × 9 columns</p>\n",
              "</div>\n",
              "      <button class=\"colab-df-convert\" onclick=\"convertToInteractive('df-ce9be1bb-9555-49d2-8748-7b41f8774756')\"\n",
              "              title=\"Convert this dataframe to an interactive table.\"\n",
              "              style=\"display:none;\">\n",
              "        \n",
              "  <svg xmlns=\"http://www.w3.org/2000/svg\" height=\"24px\"viewBox=\"0 0 24 24\"\n",
              "       width=\"24px\">\n",
              "    <path d=\"M0 0h24v24H0V0z\" fill=\"none\"/>\n",
              "    <path d=\"M18.56 5.44l.94 2.06.94-2.06 2.06-.94-2.06-.94-.94-2.06-.94 2.06-2.06.94zm-11 1L8.5 8.5l.94-2.06 2.06-.94-2.06-.94L8.5 2.5l-.94 2.06-2.06.94zm10 10l.94 2.06.94-2.06 2.06-.94-2.06-.94-.94-2.06-.94 2.06-2.06.94z\"/><path d=\"M17.41 7.96l-1.37-1.37c-.4-.4-.92-.59-1.43-.59-.52 0-1.04.2-1.43.59L10.3 9.45l-7.72 7.72c-.78.78-.78 2.05 0 2.83L4 21.41c.39.39.9.59 1.41.59.51 0 1.02-.2 1.41-.59l7.78-7.78 2.81-2.81c.8-.78.8-2.07 0-2.86zM5.41 20L4 18.59l7.72-7.72 1.47 1.35L5.41 20z\"/>\n",
              "  </svg>\n",
              "      </button>\n",
              "      \n",
              "  <style>\n",
              "    .colab-df-container {\n",
              "      display:flex;\n",
              "      flex-wrap:wrap;\n",
              "      gap: 12px;\n",
              "    }\n",
              "\n",
              "    .colab-df-convert {\n",
              "      background-color: #E8F0FE;\n",
              "      border: none;\n",
              "      border-radius: 50%;\n",
              "      cursor: pointer;\n",
              "      display: none;\n",
              "      fill: #1967D2;\n",
              "      height: 32px;\n",
              "      padding: 0 0 0 0;\n",
              "      width: 32px;\n",
              "    }\n",
              "\n",
              "    .colab-df-convert:hover {\n",
              "      background-color: #E2EBFA;\n",
              "      box-shadow: 0px 1px 2px rgba(60, 64, 67, 0.3), 0px 1px 3px 1px rgba(60, 64, 67, 0.15);\n",
              "      fill: #174EA6;\n",
              "    }\n",
              "\n",
              "    [theme=dark] .colab-df-convert {\n",
              "      background-color: #3B4455;\n",
              "      fill: #D2E3FC;\n",
              "    }\n",
              "\n",
              "    [theme=dark] .colab-df-convert:hover {\n",
              "      background-color: #434B5C;\n",
              "      box-shadow: 0px 1px 3px 1px rgba(0, 0, 0, 0.15);\n",
              "      filter: drop-shadow(0px 1px 2px rgba(0, 0, 0, 0.3));\n",
              "      fill: #FFFFFF;\n",
              "    }\n",
              "  </style>\n",
              "\n",
              "      <script>\n",
              "        const buttonEl =\n",
              "          document.querySelector('#df-ce9be1bb-9555-49d2-8748-7b41f8774756 button.colab-df-convert');\n",
              "        buttonEl.style.display =\n",
              "          google.colab.kernel.accessAllowed ? 'block' : 'none';\n",
              "\n",
              "        async function convertToInteractive(key) {\n",
              "          const element = document.querySelector('#df-ce9be1bb-9555-49d2-8748-7b41f8774756');\n",
              "          const dataTable =\n",
              "            await google.colab.kernel.invokeFunction('convertToInteractive',\n",
              "                                                     [key], {});\n",
              "          if (!dataTable) return;\n",
              "\n",
              "          const docLinkHtml = 'Like what you see? Visit the ' +\n",
              "            '<a target=\"_blank\" href=https://colab.research.google.com/notebooks/data_table.ipynb>data table notebook</a>'\n",
              "            + ' to learn more about interactive tables.';\n",
              "          element.innerHTML = '';\n",
              "          dataTable['output_type'] = 'display_data';\n",
              "          await google.colab.output.renderOutput(dataTable, element);\n",
              "          const docLink = document.createElement('div');\n",
              "          docLink.innerHTML = docLinkHtml;\n",
              "          element.appendChild(docLink);\n",
              "        }\n",
              "      </script>\n",
              "    </div>\n",
              "  </div>\n",
              "  "
            ]
          },
          "metadata": {},
          "execution_count": 10
        }
      ]
    },
    {
      "cell_type": "markdown",
      "metadata": {
        "id": "GbLLZW2awzCv"
      },
      "source": [
        "### What are the top 10 most occuring filenames in the collection?\n",
        "\n",
        "Note that this is of course different than the MD5 results up above. Here we are focusing _just_ on filename. So `embed` for example, might actually be referring to different xml files who happen to have the same name.\n",
        "\n",
        "Here we can use `value_counts()` again, but this time we'll create a variable for the top filenames so we can use it later.\n",
        "\n"
      ]
    },
    {
      "cell_type": "code",
      "metadata": {
        "colab": {
          "base_uri": "https://localhost:8080/"
        },
        "id": "pQaw54ACkwdZ",
        "outputId": "ebe38cd4-f192-4057-dad6-750a1e098aa2"
      },
      "source": [
        "top_filenames = xml[\"filename\"].value_counts().head(10)\n",
        "top_filenames"
      ],
      "execution_count": 11,
      "outputs": [
        {
          "output_type": "execute_result",
          "data": {
            "text/plain": [
              "embed                               17142\n",
              "browse                               6869\n",
              "index.php                            2496\n",
              "1                                    1081\n",
              "index.xml                             998\n",
              "feed                                  549\n",
              "issues.atom                           519\n",
              "filelist.xml                          501\n",
              "glyphicons-halflings-regular.svg      499\n",
              "wlwmanifest.xml                       417\n",
              "Name: filename, dtype: int64"
            ]
          },
          "metadata": {},
          "execution_count": 11
        }
      ]
    },
    {
      "cell_type": "markdown",
      "metadata": {
        "id": "Z7F3re20BQRI"
      },
      "source": [
        "### Let's create our first graph!\n",
        "\n",
        "We'll first plot the data with the pandas [plot](https://pandas.pydata.org/docs/reference/api/pandas.Series.plot.html) functionality, and then with [Altair](https://altair-viz.github.io/)."
      ]
    },
    {
      "cell_type": "code",
      "metadata": {
        "colab": {
          "base_uri": "https://localhost:8080/",
          "height": 803
        },
        "id": "sRvlstfsBWEZ",
        "outputId": "e0b7fc3c-a89b-4944-9b9e-6d195d270ccb"
      },
      "source": [
        "top_filenames_chart = top_filenames.plot.bar(figsize=(25, 10))\n",
        "\n",
        "top_filenames_chart.set_title(\"Top Filenames\", fontsize=22)\n",
        "top_filenames_chart.set_xlabel(\"Filename\", fontsize=20)\n",
        "top_filenames_chart.set_ylabel(\"Count\", fontsize=20)"
      ],
      "execution_count": 12,
      "outputs": [
        {
          "output_type": "execute_result",
          "data": {
            "text/plain": [
              "Text(0, 0.5, 'Count')"
            ]
          },
          "metadata": {},
          "execution_count": 12
        },
        {
          "output_type": "display_data",
          "data": {
            "text/plain": [
              "<Figure size 1800x720 with 1 Axes>"
            ],
            "image/png": "[encoded data removed]"
          },
          "metadata": {
            "needs_background": "light"
          }
        }
      ]
    },
    {
      "cell_type": "markdown",
      "metadata": {
        "id": "pQgeOObvgLvK"
      },
      "source": [
        "Now let's setup [Altair](https://altair-viz.github.io/), and plot the data. Altair is useful for creating vizualizations since they can be easily exported as a PNG or SVG."
      ]
    },
    {
      "cell_type": "code",
      "metadata": {
        "id": "Q7Z4J6qjWaVM"
      },
      "source": [
        "import altair as alt"
      ],
      "execution_count": 13,
      "outputs": []
    },
    {
      "cell_type": "code",
      "metadata": {
        "colab": {
          "base_uri": "https://localhost:8080/",
          "height": 934
        },
        "id": "s0xwvILYWkgg",
        "outputId": "5cd90aa0-0604-4ba8-e8cb-25ba323f6e35"
      },
      "source": [
        "top_filenames_altair = (\n",
        "    xml[\"filename\"]\n",
        "    .value_counts()\n",
        "    .head(10)\n",
        "    .rename_axis(\"Filename\")\n",
        "    .reset_index(name=\"Count\")\n",
        ")\n",
        "\n",
        "filenames_bar = (\n",
        "    alt.Chart(top_filenames_altair)\n",
        "    .mark_bar()\n",
        "    .encode(x=alt.X(\"Filename:O\", sort=\"-y\"), y=alt.Y(\"Count:Q\"))\n",
        ")\n",
        "\n",
        "filenames_rule = (\n",
        "    alt.Chart(top_filenames_altair).mark_rule(color=\"red\").encode(y=\"mean(Count):Q\")\n",
        ")\n",
        "\n",
        "\n",
        "filenames_text = filenames_bar.mark_text(align=\"center\", baseline=\"bottom\").encode(\n",
        "    text=\"Count:Q\"\n",
        ")\n",
        "\n",
        "(filenames_bar + filenames_rule + filenames_text).properties(\n",
        "    width=1400, height=700, title=\"Top Filenames\"\n",
        ")"
      ],
      "execution_count": 14,
      "outputs": [
        {
          "output_type": "execute_result",
          "data": {
            "text/html": [
              "\n",
              "<div id=\"altair-viz-f11fc70d1e7d4f0fab6aac89fc6743cc\"></div>\n",
              "<script type=\"text/javascript\">\n",
              "  var VEGA_DEBUG = (typeof VEGA_DEBUG == \"undefined\") ? {} : VEGA_DEBUG;\n",
              "  (function(spec, embedOpt){\n",
              "    let outputDiv = document.currentScript.previousElementSibling;\n",
              "    if (outputDiv.id !== \"altair-viz-f11fc70d1e7d4f0fab6aac89fc6743cc\") {\n",
              "      outputDiv = document.getElementById(\"altair-viz-f11fc70d1e7d4f0fab6aac89fc6743cc\");\n",
              "    }\n",
              "    const paths = {\n",
              "      \"vega\": \"https://cdn.jsdelivr.net/npm//vega@5?noext\",\n",
              "      \"vega-lib\": \"https://cdn.jsdelivr.net/npm//vega-lib?noext\",\n",
              "      \"vega-lite\": \"https://cdn.jsdelivr.net/npm//vega-lite@4.17.0?noext\",\n",
              "      \"vega-embed\": \"https://cdn.jsdelivr.net/npm//vega-embed@6?noext\",\n",
              "    };\n",
              "\n",
              "    function maybeLoadScript(lib, version) {\n",
              "      var key = `${lib.replace(\"-\", \"\")}_version`;\n",
              "      return (VEGA_DEBUG[key] == version) ?\n",
              "        Promise.resolve(paths[lib]) :\n",
              "        new Promise(function(resolve, reject) {\n",
              "          var s = document.createElement('script');\n",
              "          document.getElementsByTagName(\"head\")[0].appendChild(s);\n",
              "          s.async = true;\n",
              "          s.onload = () => {\n",
              "            VEGA_DEBUG[key] = version;\n",
              "            return resolve(paths[lib]);\n",
              "          };\n",
              "          s.onerror = () => reject(`Error loading script: ${paths[lib]}`);\n",
              "          s.src = paths[lib];\n",
              "        });\n",
              "    }\n",
              "\n",
              "    function showError(err) {\n",
              "      outputDiv.innerHTML = `<div class=\"error\" style=\"color:red;\">${err}</div>`;\n",
              "      throw err;\n",
              "    }\n",
              "\n",
              "    function displayChart(vegaEmbed) {\n",
              "      vegaEmbed(outputDiv, spec, embedOpt)\n",
              "        .catch(err => showError(`Javascript Error: ${err.message}<br>This usually means there's a typo in your chart specification. See the javascript console for the full traceback.`));\n",
              "    }\n",
              "\n",
              "    if(typeof define === \"function\" && define.amd) {\n",
              "      requirejs.config({paths});\n",
              "      require([\"vega-embed\"], displayChart, err => showError(`Error loading script: ${err.message}`));\n",
              "    } else {\n",
              "      maybeLoadScript(\"vega\", \"5\")\n",
              "        .then(() => maybeLoadScript(\"vega-lite\", \"4.17.0\"))\n",
              "        .then(() => maybeLoadScript(\"vega-embed\", \"6\"))\n",
              "        .catch(showError)\n",
              "        .then(() => displayChart(vegaEmbed));\n",
              "    }\n",
              "  })({\"config\": {\"view\": {\"continuousWidth\": 400, \"continuousHeight\": 300}}, \"layer\": [{\"mark\": \"bar\", \"encoding\": {\"x\": {\"field\": \"Filename\", \"sort\": \"-y\", \"type\": \"ordinal\"}, \"y\": {\"field\": \"Count\", \"type\": \"quantitative\"}}}, {\"mark\": {\"type\": \"rule\", \"color\": \"red\"}, \"encoding\": {\"y\": {\"aggregate\": \"mean\", \"field\": \"Count\", \"type\": \"quantitative\"}}}, {\"mark\": {\"type\": \"text\", \"align\": \"center\", \"baseline\": \"bottom\"}, \"encoding\": {\"text\": {\"field\": \"Count\", \"type\": \"quantitative\"}, \"x\": {\"field\": \"Filename\", \"sort\": \"-y\", \"type\": \"ordinal\"}, \"y\": {\"field\": \"Count\", \"type\": \"quantitative\"}}}], \"data\": {\"name\": \"data-70ec050bc86064115cb27fc8cd0b82d8\"}, \"height\": 700, \"title\": \"Top Filenames\", \"width\": 1400, \"$schema\": \"https://vega.github.io/schema/vega-lite/v4.17.0.json\", \"datasets\": {\"data-70ec050bc86064115cb27fc8cd0b82d8\": [{\"Filename\": \"embed\", \"Count\": 17142}, {\"Filename\": \"browse\", \"Count\": 6869}, {\"Filename\": \"index.php\", \"Count\": 2496}, {\"Filename\": \"1\", \"Count\": 1081}, {\"Filename\": \"index.xml\", \"Count\": 998}, {\"Filename\": \"feed\", \"Count\": 549}, {\"Filename\": \"issues.atom\", \"Count\": 519}, {\"Filename\": \"filelist.xml\", \"Count\": 501}, {\"Filename\": \"glyphicons-halflings-regular.svg\", \"Count\": 499}, {\"Filename\": \"wlwmanifest.xml\", \"Count\": 417}]}}, {\"mode\": \"vega-lite\"});\n",
              "</script>"
            ],
            "text/plain": [
              "alt.LayerChart(...)"
            ]
          },
          "metadata": {},
          "execution_count": 14
        }
      ]
    },
    {
      "cell_type": "markdown",
      "metadata": {
        "id": "BneaN9cgGoly"
      },
      "source": [
        "### How about a file format distribution?\n",
        "\n",
        "What _kind_ of XML files are present? We can discover this by checking their \"media type\", or [MIME type](https://en.wikipedia.org/wiki/Media_type). \n",
        "\n",
        "\n",
        "\n",
        "\n"
      ]
    },
    {
      "cell_type": "code",
      "metadata": {
        "colab": {
          "base_uri": "https://localhost:8080/",
          "height": 887
        },
        "id": "RDd-J8D-GwDk",
        "outputId": "3077731f-d9b8-42f2-a354-85c8db37ed3b"
      },
      "source": [
        "xml_mime_types = (\n",
        "    xml[\"mime_type_tika\"]\n",
        "    .value_counts()\n",
        "    .head(5)\n",
        "    .rename_axis(\"MIME Type\")\n",
        "    .reset_index(name=\"Count\")\n",
        ")\n",
        "\n",
        "xml_mimes_bar = (\n",
        "    alt.Chart(xml_mime_types)\n",
        "    .mark_bar()\n",
        "    .encode(x=alt.X(\"MIME Type:O\", sort=\"-y\"), y=alt.Y(\"Count:Q\"))\n",
        ")\n",
        "\n",
        "xml_mime_rule = (\n",
        "    alt.Chart(xml_mime_types).mark_rule(color=\"red\").encode(y=\"mean(Count):Q\")\n",
        ")\n",
        "\n",
        "xml_mime_text = xml_mimes_bar.mark_text(align=\"center\", baseline=\"bottom\").encode(\n",
        "    text=\"Count:Q\"\n",
        ")\n",
        "\n",
        "(xml_mimes_bar + xml_mime_rule + xml_mime_text).properties(\n",
        "    width=1400, height=700, title=\"XML File Format Distribution\"\n",
        ")"
      ],
      "execution_count": 15,
      "outputs": [
        {
          "output_type": "execute_result",
          "data": {
            "text/html": [
              "\n",
              "<div id=\"altair-viz-963cf6234f39492b943710f381ca64b2\"></div>\n",
              "<script type=\"text/javascript\">\n",
              "  var VEGA_DEBUG = (typeof VEGA_DEBUG == \"undefined\") ? {} : VEGA_DEBUG;\n",
              "  (function(spec, embedOpt){\n",
              "    let outputDiv = document.currentScript.previousElementSibling;\n",
              "    if (outputDiv.id !== \"altair-viz-963cf6234f39492b943710f381ca64b2\") {\n",
              "      outputDiv = document.getElementById(\"altair-viz-963cf6234f39492b943710f381ca64b2\");\n",
              "    }\n",
              "    const paths = {\n",
              "      \"vega\": \"https://cdn.jsdelivr.net/npm//vega@5?noext\",\n",
              "      \"vega-lib\": \"https://cdn.jsdelivr.net/npm//vega-lib?noext\",\n",
              "      \"vega-lite\": \"https://cdn.jsdelivr.net/npm//vega-lite@4.17.0?noext\",\n",
              "      \"vega-embed\": \"https://cdn.jsdelivr.net/npm//vega-embed@6?noext\",\n",
              "    };\n",
              "\n",
              "    function maybeLoadScript(lib, version) {\n",
              "      var key = `${lib.replace(\"-\", \"\")}_version`;\n",
              "      return (VEGA_DEBUG[key] == version) ?\n",
              "        Promise.resolve(paths[lib]) :\n",
              "        new Promise(function(resolve, reject) {\n",
              "          var s = document.createElement('script');\n",
              "          document.getElementsByTagName(\"head\")[0].appendChild(s);\n",
              "          s.async = true;\n",
              "          s.onload = () => {\n",
              "            VEGA_DEBUG[key] = version;\n",
              "            return resolve(paths[lib]);\n",
              "          };\n",
              "          s.onerror = () => reject(`Error loading script: ${paths[lib]}`);\n",
              "          s.src = paths[lib];\n",
              "        });\n",
              "    }\n",
              "\n",
              "    function showError(err) {\n",
              "      outputDiv.innerHTML = `<div class=\"error\" style=\"color:red;\">${err}</div>`;\n",
              "      throw err;\n",
              "    }\n",
              "\n",
              "    function displayChart(vegaEmbed) {\n",
              "      vegaEmbed(outputDiv, spec, embedOpt)\n",
              "        .catch(err => showError(`Javascript Error: ${err.message}<br>This usually means there's a typo in your chart specification. See the javascript console for the full traceback.`));\n",
              "    }\n",
              "\n",
              "    if(typeof define === \"function\" && define.amd) {\n",
              "      requirejs.config({paths});\n",
              "      require([\"vega-embed\"], displayChart, err => showError(`Error loading script: ${err.message}`));\n",
              "    } else {\n",
              "      maybeLoadScript(\"vega\", \"5\")\n",
              "        .then(() => maybeLoadScript(\"vega-lite\", \"4.17.0\"))\n",
              "        .then(() => maybeLoadScript(\"vega-embed\", \"6\"))\n",
              "        .catch(showError)\n",
              "        .then(() => displayChart(vegaEmbed));\n",
              "    }\n",
              "  })({\"config\": {\"view\": {\"continuousWidth\": 400, \"continuousHeight\": 300}}, \"layer\": [{\"mark\": \"bar\", \"encoding\": {\"x\": {\"field\": \"MIME Type\", \"sort\": \"-y\", \"type\": \"ordinal\"}, \"y\": {\"field\": \"Count\", \"type\": \"quantitative\"}}}, {\"mark\": {\"type\": \"rule\", \"color\": \"red\"}, \"encoding\": {\"y\": {\"aggregate\": \"mean\", \"field\": \"Count\", \"type\": \"quantitative\"}}}, {\"mark\": {\"type\": \"text\", \"align\": \"center\", \"baseline\": \"bottom\"}, \"encoding\": {\"text\": {\"field\": \"Count\", \"type\": \"quantitative\"}, \"x\": {\"field\": \"MIME Type\", \"sort\": \"-y\", \"type\": \"ordinal\"}, \"y\": {\"field\": \"Count\", \"type\": \"quantitative\"}}}], \"data\": {\"name\": \"data-1f11acf8f420a046fcf491bc63f72346\"}, \"height\": 700, \"title\": \"XML File Format Distribution\", \"width\": 1400, \"$schema\": \"https://vega.github.io/schema/vega-lite/v4.17.0.json\", \"datasets\": {\"data-1f11acf8f420a046fcf491bc63f72346\": [{\"MIME Type\": \"application/xml\", \"Count\": 17426}, {\"MIME Type\": \"application/rss+xml\", \"Count\": 17181}, {\"MIME Type\": \"application/atom+xml\", \"Count\": 6311}, {\"MIME Type\": \"image/svg+xml\", \"Count\": 1883}, {\"MIME Type\": \"text/plain\", \"Count\": 1727}]}}, {\"mode\": \"vega-lite\"});\n",
              "</script>"
            ],
            "text/plain": [
              "alt.LayerChart(...)"
            ]
          },
          "metadata": {},
          "execution_count": 15
        }
      ]
    },
    {
      "cell_type": "markdown",
      "metadata": {
        "id": "QUJR-jjqNxCL"
      },
      "source": [
        "### How do I get the actual XML files?\n",
        "\n",
        "...or, how do I get to the actual binary files described by each file format information derivative?\n",
        "\n",
        "There are a few options!\n",
        "\n",
        "1. `wget` or `curl` from the live URL, or a replay URL\n",
        "  * Live web URL\n",
        "    * `wget` or `curl` the value of the `url` column\n",
        "  * Replay web URL\n",
        "    * `wget` or `curl` the value of the `crawl_date` and `url` column using the following pattern:\n",
        "      * `https://web.archive.org/web/` + `crawl_date` + `/` + `url`\n",
        "        * https://web.archive.org/web/20120119124734/http://www.archive.org/images/glogo.png\n",
        "      * `http://wayback.archive-it.org/14462/` + `crawl_date` + `/` + `url`\n",
        "        * https://wayback.archive-it.org/14462/20210524212740/https://ruebot.net/visualization/elxn42/featured_hu33a17dfb90e2c5ed77f783db14a6e53a_5126291_550x0_resize_q90_box_2.png\n",
        "2. Use a scripting language, such as Python\n",
        "  * Make use of the `url` and `filename` columns (and `crawl_date` if you want to use the replay URL)\n",
        "  * `import requests`\n",
        "  * `requests.get(url, allow_redirects=True)`\n",
        "  * `open('filename', 'wb').write(r.content)`\n",
        "3. Use the [Archives Unleashed Toolkit](https://aut.docs.archivesunleashed.org/docs/extract-binary) (if you have access to the W/ARC files)."
      ]
    },
    {
      "cell_type": "markdown",
      "source": [
        "If you wanted to download the XML files using the replay URL, below is a method for doing so.\n",
        "\n",
        "First, you'll want to setup a replay url base url. Here we'll use the Archive-It Wayback instance for the collection."
      ],
      "metadata": {
        "id": "8yoFE2xLAlwk"
      }
    },
    {
      "cell_type": "code",
      "source": [
        "wayback_url = 'http://wayback.archive-it.org/89/'"
      ],
      "metadata": {
        "id": "RxrOHn_2AicZ"
      },
      "execution_count": 16,
      "outputs": []
    },
    {
      "cell_type": "markdown",
      "source": [
        "Next we'll create a new column using a lambda function. If you're familiar with working XML, what we're doing here is basically concatenating some column values together and creating a new column."
      ],
      "metadata": {
        "id": "jCTmrEBGA-Yd"
      }
    },
    {
      "cell_type": "code",
      "source": [
        "xml['replay_url'] = xml.apply(lambda row: str(wayback_url + str(row['crawl_date']) + \"/\" + row['url']), axis=1)"
      ],
      "metadata": {
        "id": "p5HoWxkFA6C8"
      },
      "execution_count": 17,
      "outputs": []
    },
    {
      "cell_type": "markdown",
      "source": [
        "Then we can export that new column we created out to a file, so we can use it with `wget` to download all the XML files!"
      ],
      "metadata": {
        "id": "q87tSYyIBIiZ"
      }
    },
    {
      "cell_type": "code",
      "source": [
        "xml['replay_url'].head().to_csv('89_xml_urls.txt', index=False, header=False)"
      ],
      "metadata": {
        "id": "wyhpsf9wBN1a"
      },
      "execution_count": 18,
      "outputs": []
    },
    {
      "cell_type": "markdown",
      "source": [
        "Finally, we can pass the file to `wget` to use as a download list. You can also speed this process up using `xargs` or `parallel`."
      ],
      "metadata": {
        "id": "81a3q7feu5Ji"
      }
    },
    {
      "cell_type": "code",
      "source": [
        "!wget --random-wait -i 89_xml_urls.txt"
      ],
      "metadata": {
        "colab": {
          "base_uri": "https://localhost:8080/"
        },
        "id": "D_p4qGKoBRaZ",
        "outputId": "27ded6c1-d9a5-4c00-cc0c-b543974c5c87"
      },
      "execution_count": 19,
      "outputs": [
        {
          "output_type": "stream",
          "name": "stdout",
          "text": [
            "--2022-11-24 19:28:37--  http://wayback.archive-it.org/89/20200629191806/https://cloudfront.ualberta.ca/-/media/ualberta/folio-logo-black.svg?w=480\n",
            "Resolving wayback.archive-it.org (wayback.archive-it.org)... 207.241.232.8, 207.241.225.8\n",
            "Connecting to wayback.archive-it.org (wayback.archive-it.org)|207.241.232.8|:80... connected.\n",
            "HTTP request sent, awaiting response... 200 OK\n",
            "Length: unspecified [text/html]\n",
            "Saving to: ‘folio-logo-black.svg?w=480’\n",
            "\n",
            "folio-logo-black.sv     [ <=>                ]   4.50K  --.-KB/s    in 0s      \n",
            "\n",
            "2022-11-24 19:28:37 (45.9 MB/s) - ‘folio-logo-black.svg?w=480’ saved [4613]\n",
            "\n",
            "--2022-11-24 19:28:37--  http://wayback.archive-it.org/89/20200629191814/https://cloudfront.ualberta.ca/-/media/ualberta/homepage/aboriginal-buffalo-icon.svg?w=480\n",
            "Reusing existing connection to wayback.archive-it.org:80.\n",
            "HTTP request sent, awaiting response... 200 OK\n",
            "Length: unspecified [text/html]\n",
            "Saving to: ‘aboriginal-buffalo-icon.svg?w=480’\n",
            "\n",
            "aboriginal-buffalo-     [ <=>                ]   4.50K  --.-KB/s    in 0s      \n",
            "\n",
            "2022-11-24 19:28:38 (70.8 MB/s) - ‘aboriginal-buffalo-icon.svg?w=480’ saved [4613]\n",
            "\n",
            "--2022-11-24 19:28:38--  http://wayback.archive-it.org/89/20200629191819/https://cloudfront.ualberta.ca/-/media/ualberta/homepage/university-calendar-icon.svg?w=480\n",
            "Reusing existing connection to wayback.archive-it.org:80.\n",
            "HTTP request sent, awaiting response... 200 OK\n",
            "Length: unspecified [text/html]\n",
            "Saving to: ‘university-calendar-icon.svg?w=480’\n",
            "\n",
            "university-calendar     [ <=>                ]   4.50K  --.-KB/s    in 0s      \n",
            "\n",
            "2022-11-24 19:28:38 (58.8 MB/s) - ‘university-calendar-icon.svg?w=480’ saved [4613]\n",
            "\n",
            "--2022-11-24 19:28:38--  http://wayback.archive-it.org/89/20200629191823/https://cloudfront.ualberta.ca/-/media/ualberta/homepage/residence-icon.svg?w=480\n",
            "Reusing existing connection to wayback.archive-it.org:80.\n",
            "HTTP request sent, awaiting response... 200 OK\n",
            "Length: unspecified [text/html]\n",
            "Saving to: ‘residence-icon.svg?w=480’\n",
            "\n",
            "residence-icon.svg?     [ <=>                ]   4.50K  --.-KB/s    in 0s      \n",
            "\n",
            "2022-11-24 19:28:38 (19.4 MB/s) - ‘residence-icon.svg?w=480’ saved [4613]\n",
            "\n",
            "--2022-11-24 19:28:38--  http://wayback.archive-it.org/89/20200629191828/https://cloudfront.ualberta.ca/-/media/ualberta/homepage/bookstore-icon.svg?w=480\n",
            "Reusing existing connection to wayback.archive-it.org:80.\n",
            "HTTP request sent, awaiting response... 200 OK\n",
            "Length: unspecified [text/html]\n",
            "Saving to: ‘bookstore-icon.svg?w=480’\n",
            "\n",
            "bookstore-icon.svg?     [ <=>                ]   4.50K  --.-KB/s    in 0s      \n",
            "\n",
            "2022-11-24 19:28:38 (38.6 MB/s) - ‘bookstore-icon.svg?w=480’ saved [4613]\n",
            "\n",
            "FINISHED --2022-11-24 19:28:38--\n",
            "Total wall clock time: 0.7s\n",
            "Downloaded: 5 files, 23K in 0.001s (38.4 MB/s)\n"
          ]
        }
      ]
    }
  ]
}