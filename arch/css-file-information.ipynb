{
  "nbformat": 4,
  "nbformat_minor": 0,
  "metadata": {
    "colab": {
      "provenance": [],
      "include_colab_link": true
    },
    "kernelspec": {
      "name": "python3",
      "display_name": "Python 3"
    },
    "language_info": {
      "name": "python"
    }
  },
  "cells": [
    {
      "cell_type": "markdown",
      "metadata": {
        "id": "view-in-github",
        "colab_type": "text"
      },
      "source": [
        "<a href=\"https://colab.research.google.com/github/archivesunleashed/notebooks/blob/main/css-file-information.ipynb\" target=\"_parent\"><img src=\"https://colab.research.google.com/assets/colab-badge.svg\" alt=\"Open In Colab\"/></a>"
      ]
    },
    {
      "cell_type": "markdown",
      "source": [
        "# CSS Information Dataset Exploration\n",
        "\n",
        "We're going to take a look at a few examples of how we can explore the CSS Information dataset. \n",
        "\n",
        "The first thing we need to do is enter the URL for our CSS Information dataset in the cell below. You can get this by right clicking the Download icon, and selecting \"Copy Link\"."
      ],
      "metadata": {
        "id": "vAyuRQ2PJIdc"
      }
    },
    {
      "cell_type": "code",
      "source": [
        "dataset = 'https://webdata.archive-it.org/ait/files/download/ARCHIVEIT-14489/TextFilesInformationExtraction/css-file-information.csv.gz?access=XW2XYZ64GNFSEQHOTCXP642EHRZOZF4P' #@param {type:\"string\"}\n",
        "print(dataset)"
      ],
      "metadata": {
        "colab": {
          "base_uri": "https://localhost:8080/"
        },
        "cellView": "form",
        "id": "RfhJiesWVpAf",
        "outputId": "2dcb4bb0-32d3-4bcc-936a-8e5ba60b1dc6"
      },
      "execution_count": 7,
      "outputs": [
        {
          "output_type": "stream",
          "name": "stdout",
          "text": [
            "https://webdata.archive-it.org/ait/files/download/ARCHIVEIT-14489/TextFilesInformationExtraction/css-file-information.csv.gz?access=XW2XYZ64GNFSEQHOTCXP642EHRZOZF4P\n"
          ]
        }
      ]
    },
    {
      "cell_type": "markdown",
      "source": [
        "## pandas\n",
        "\n",
        "Next, we'll set up our environment so we can load our CSS Information dataset into [pandas](https://pandas.pydata.org) DataFrames. If you're unfamiliar with DataFrames, but you've worked with spreadsheets before, you should feel comfortable pretty quick."
      ],
      "metadata": {
        "id": "Z14F2cIWJVW0"
      }
    },
    {
      "cell_type": "code",
      "execution_count": 2,
      "metadata": {
        "id": "Chh6tt3HHF1s"
      },
      "outputs": [],
      "source": [
        "import pandas as pd"
      ]
    },
    {
      "cell_type": "markdown",
      "source": [
        "## Data Table Display\n",
        "\n",
        "Colab includes an extension that renders pandas DataFrames into interactive displays that can be filtered, sorted, and explored dynamically. This can be very useful for taking a look at what each DataFrame provides, and doing some intital filtering!\n",
        "\n",
        "Data table display for pandas dataframes can be enabled by running:\n",
        "```python\n",
        "%load_ext google.colab.data_table\n",
        "```\n",
        "and disabled by running\n",
        "```python\n",
        "%unload_ext google.colab.data_table\n",
        "```"
      ],
      "metadata": {
        "id": "sH81XCf3I3xY"
      }
    },
    {
      "cell_type": "code",
      "source": [
        "%load_ext google.colab.data_table"
      ],
      "metadata": {
        "id": "-qyCnbvBI7n6"
      },
      "execution_count": 3,
      "outputs": []
    },
    {
      "cell_type": "markdown",
      "source": [
        "## Loading our ARCH Dataset as a DataFrame\n",
        "\n",
        "---\n",
        "\n",
        "\n",
        "Next, we'll create pandas DataFrame from our dataset, and show a preview of it using the Data Table Display."
      ],
      "metadata": {
        "id": "6prR7j1zI_D5"
      }
    },
    {
      "cell_type": "code",
      "source": [
        "css = pd.read_csv(dataset, compression='gzip', lineterminator='\\n')\n",
        "css"
      ],
      "metadata": {
        "colab": {
          "base_uri": "https://localhost:8080/",
          "height": 679
        },
        "id": "YL0LQaUNHRKx",
        "outputId": "3be28696-1713-4c00-9e57-43eff9e0aa3f"
      },
      "execution_count": 9,
      "outputs": [
        {
          "output_type": "stream",
          "name": "stdout",
          "text": [
            "Warning: total number of rows (88101) exceeds max_rows (20000). Falling back to pandas display.\n"
          ]
        },
        {
          "output_type": "execute_result",
          "data": {
            "text/plain": [
              "           crawl_date                                                url  \\\n",
              "0      20200629191708  https://www.ualberta.ca/_assets/css/framework.css   \n",
              "1      20200629191844  https://www.ualberta.ca/_assets/css/legacy-fra...   \n",
              "2      20200629192541      https://www.ualberta.ca/_assets/css/print.css   \n",
              "3      20200629193059  https://www.ualberta.ca/_assets/css/legacy-fra...   \n",
              "4      20200629202434  https://cdnjs.cloudflare.com/ajax/libs/twitter...   \n",
              "...               ...                                                ...   \n",
              "88096  20220704153616   https://www.uwo.ca/pridelib/_system/pridelib.css   \n",
              "88097  20220704154100  https://www.uwo.ca/pridelib/_system/blueprint/...   \n",
              "88098  20220704154201  https://www.uwo.ca/pridelib/_system/blueprint/...   \n",
              "88099  20220704154255  https://www.uwo.ca/pridelib/_system/superfish-...   \n",
              "88100  20220704155236  https://www.uwo.ca/pridelib/_system/fancybox/j...   \n",
              "\n",
              "                        filename extension mime_type_web_server  \\\n",
              "0                  framework.css       txt             text/css   \n",
              "1           legacy-framework.css       txt             text/css   \n",
              "2                      print.css       txt             text/css   \n",
              "3        legacy-framework-ie.css       txt             text/css   \n",
              "4              bootstrap.min.css       txt             text/css   \n",
              "...                          ...       ...                  ...   \n",
              "88096               pridelib.css       css             text/css   \n",
              "88097                 screen.css       css             text/css   \n",
              "88098                  print.css       css             text/css   \n",
              "88099              superfish.css       css             text/css   \n",
              "88100  jquery.fancybox-1.3.4.css       css             text/css   \n",
              "\n",
              "      mime_type_tika                               md5  \\\n",
              "0         text/plain  c4be5b34fa1931a9b66289a1f96c0a51   \n",
              "1         text/plain  5f51cd415d9fc150c94d8b48a6855b86   \n",
              "2         text/plain  e3c531635c6f818d199cb37db395ac79   \n",
              "3         text/plain  919b7288cf8fa9b79494096b661027cb   \n",
              "4         text/plain  ec3bb52a00e176a7181d454dffaea219   \n",
              "...              ...                               ...   \n",
              "88096            NaN  d41d8cd98f00b204e9800998ecf8427e   \n",
              "88097            NaN  d41d8cd98f00b204e9800998ecf8427e   \n",
              "88098            NaN  d41d8cd98f00b204e9800998ecf8427e   \n",
              "88099            NaN  d41d8cd98f00b204e9800998ecf8427e   \n",
              "88100            NaN  d41d8cd98f00b204e9800998ecf8427e   \n",
              "\n",
              "                                           sha1  \\\n",
              "0      134a403da8023665bf8fd2d1e44c284b3b155e45   \n",
              "1      74465ecc06005a8a4ada5365e7b0a4ee1efe736a   \n",
              "2      b1d70b3ddb97ce4310801274be463040942c2a45   \n",
              "3      1842b3e1394e93305229fdfff7ec23873a67e25b   \n",
              "4      6527d8bf3e1e9368bab8c7b60f56bc01fa3afd68   \n",
              "...                                         ...   \n",
              "88096  da39a3ee5e6b4b0d3255bfef95601890afd80709   \n",
              "88097  da39a3ee5e6b4b0d3255bfef95601890afd80709   \n",
              "88098  da39a3ee5e6b4b0d3255bfef95601890afd80709   \n",
              "88099  da39a3ee5e6b4b0d3255bfef95601890afd80709   \n",
              "88100  da39a3ee5e6b4b0d3255bfef95601890afd80709   \n",
              "\n",
              "                                                 content  \n",
              "0      /*!\\r\\n * Bootstrap v4.3.1 (https://getbootstr...  \n",
              "1      .clearfix{*zoom:1}.clearfix:after,.clearfix:be...  \n",
              "2      @media print{body{font:11pt Georgia,Times New ...  \n",
              "3      .clearfix{*zoom:1}.clearfix:after,.clearfix:be...  \n",
              "4      /*!\\n * Bootstrap v3.3.7 (http://getbootstrap....  \n",
              "...                                                  ...  \n",
              "88096                                                NaN  \n",
              "88097                                                NaN  \n",
              "88098                                                NaN  \n",
              "88099                                                NaN  \n",
              "88100                                                NaN  \n",
              "\n",
              "[88101 rows x 9 columns]"
            ],
            "text/html": [
              "\n",
              "  <div id=\"df-2e76666f-78e7-4207-a1a1-2b0d0f28338c\">\n",
              "    <div class=\"colab-df-container\">\n",
              "      <div>\n",
              "<style scoped>\n",
              "    .dataframe tbody tr th:only-of-type {\n",
              "        vertical-align: middle;\n",
              "    }\n",
              "\n",
              "    .dataframe tbody tr th {\n",
              "        vertical-align: top;\n",
              "    }\n",
              "\n",
              "    .dataframe thead th {\n",
              "        text-align: right;\n",
              "    }\n",
              "</style>\n",
              "<table border=\"1\" class=\"dataframe\">\n",
              "  <thead>\n",
              "    <tr style=\"text-align: right;\">\n",
              "      <th></th>\n",
              "      <th>crawl_date</th>\n",
              "      <th>url</th>\n",
              "      <th>filename</th>\n",
              "      <th>extension</th>\n",
              "      <th>mime_type_web_server</th>\n",
              "      <th>mime_type_tika</th>\n",
              "      <th>md5</th>\n",
              "      <th>sha1</th>\n",
              "      <th>content</th>\n",
              "    </tr>\n",
              "  </thead>\n",
              "  <tbody>\n",
              "    <tr>\n",
              "      <th>0</th>\n",
              "      <td>20200629191708</td>\n",
              "      <td>https://www.ualberta.ca/_assets/css/framework.css</td>\n",
              "      <td>framework.css</td>\n",
              "      <td>txt</td>\n",
              "      <td>text/css</td>\n",
              "      <td>text/plain</td>\n",
              "      <td>c4be5b34fa1931a9b66289a1f96c0a51</td>\n",
              "      <td>134a403da8023665bf8fd2d1e44c284b3b155e45</td>\n",
              "      <td>/*!\\r\\n * Bootstrap v4.3.1 (https://getbootstr...</td>\n",
              "    </tr>\n",
              "    <tr>\n",
              "      <th>1</th>\n",
              "      <td>20200629191844</td>\n",
              "      <td>https://www.ualberta.ca/_assets/css/legacy-fra...</td>\n",
              "      <td>legacy-framework.css</td>\n",
              "      <td>txt</td>\n",
              "      <td>text/css</td>\n",
              "      <td>text/plain</td>\n",
              "      <td>5f51cd415d9fc150c94d8b48a6855b86</td>\n",
              "      <td>74465ecc06005a8a4ada5365e7b0a4ee1efe736a</td>\n",
              "      <td>.clearfix{*zoom:1}.clearfix:after,.clearfix:be...</td>\n",
              "    </tr>\n",
              "    <tr>\n",
              "      <th>2</th>\n",
              "      <td>20200629192541</td>\n",
              "      <td>https://www.ualberta.ca/_assets/css/print.css</td>\n",
              "      <td>print.css</td>\n",
              "      <td>txt</td>\n",
              "      <td>text/css</td>\n",
              "      <td>text/plain</td>\n",
              "      <td>e3c531635c6f818d199cb37db395ac79</td>\n",
              "      <td>b1d70b3ddb97ce4310801274be463040942c2a45</td>\n",
              "      <td>@media print{body{font:11pt Georgia,Times New ...</td>\n",
              "    </tr>\n",
              "    <tr>\n",
              "      <th>3</th>\n",
              "      <td>20200629193059</td>\n",
              "      <td>https://www.ualberta.ca/_assets/css/legacy-fra...</td>\n",
              "      <td>legacy-framework-ie.css</td>\n",
              "      <td>txt</td>\n",
              "      <td>text/css</td>\n",
              "      <td>text/plain</td>\n",
              "      <td>919b7288cf8fa9b79494096b661027cb</td>\n",
              "      <td>1842b3e1394e93305229fdfff7ec23873a67e25b</td>\n",
              "      <td>.clearfix{*zoom:1}.clearfix:after,.clearfix:be...</td>\n",
              "    </tr>\n",
              "    <tr>\n",
              "      <th>4</th>\n",
              "      <td>20200629202434</td>\n",
              "      <td>https://cdnjs.cloudflare.com/ajax/libs/twitter...</td>\n",
              "      <td>bootstrap.min.css</td>\n",
              "      <td>txt</td>\n",
              "      <td>text/css</td>\n",
              "      <td>text/plain</td>\n",
              "      <td>ec3bb52a00e176a7181d454dffaea219</td>\n",
              "      <td>6527d8bf3e1e9368bab8c7b60f56bc01fa3afd68</td>\n",
              "      <td>/*!\\n * Bootstrap v3.3.7 (http://getbootstrap....</td>\n",
              "    </tr>\n",
              "    <tr>\n",
              "      <th>...</th>\n",
              "      <td>...</td>\n",
              "      <td>...</td>\n",
              "      <td>...</td>\n",
              "      <td>...</td>\n",
              "      <td>...</td>\n",
              "      <td>...</td>\n",
              "      <td>...</td>\n",
              "      <td>...</td>\n",
              "      <td>...</td>\n",
              "    </tr>\n",
              "    <tr>\n",
              "      <th>88096</th>\n",
              "      <td>20220704153616</td>\n",
              "      <td>https://www.uwo.ca/pridelib/_system/pridelib.css</td>\n",
              "      <td>pridelib.css</td>\n",
              "      <td>css</td>\n",
              "      <td>text/css</td>\n",
              "      <td>NaN</td>\n",
              "      <td>d41d8cd98f00b204e9800998ecf8427e</td>\n",
              "      <td>da39a3ee5e6b4b0d3255bfef95601890afd80709</td>\n",
              "      <td>NaN</td>\n",
              "    </tr>\n",
              "    <tr>\n",
              "      <th>88097</th>\n",
              "      <td>20220704154100</td>\n",
              "      <td>https://www.uwo.ca/pridelib/_system/blueprint/...</td>\n",
              "      <td>screen.css</td>\n",
              "      <td>css</td>\n",
              "      <td>text/css</td>\n",
              "      <td>NaN</td>\n",
              "      <td>d41d8cd98f00b204e9800998ecf8427e</td>\n",
              "      <td>da39a3ee5e6b4b0d3255bfef95601890afd80709</td>\n",
              "      <td>NaN</td>\n",
              "    </tr>\n",
              "    <tr>\n",
              "      <th>88098</th>\n",
              "      <td>20220704154201</td>\n",
              "      <td>https://www.uwo.ca/pridelib/_system/blueprint/...</td>\n",
              "      <td>print.css</td>\n",
              "      <td>css</td>\n",
              "      <td>text/css</td>\n",
              "      <td>NaN</td>\n",
              "      <td>d41d8cd98f00b204e9800998ecf8427e</td>\n",
              "      <td>da39a3ee5e6b4b0d3255bfef95601890afd80709</td>\n",
              "      <td>NaN</td>\n",
              "    </tr>\n",
              "    <tr>\n",
              "      <th>88099</th>\n",
              "      <td>20220704154255</td>\n",
              "      <td>https://www.uwo.ca/pridelib/_system/superfish-...</td>\n",
              "      <td>superfish.css</td>\n",
              "      <td>css</td>\n",
              "      <td>text/css</td>\n",
              "      <td>NaN</td>\n",
              "      <td>d41d8cd98f00b204e9800998ecf8427e</td>\n",
              "      <td>da39a3ee5e6b4b0d3255bfef95601890afd80709</td>\n",
              "      <td>NaN</td>\n",
              "    </tr>\n",
              "    <tr>\n",
              "      <th>88100</th>\n",
              "      <td>20220704155236</td>\n",
              "      <td>https://www.uwo.ca/pridelib/_system/fancybox/j...</td>\n",
              "      <td>jquery.fancybox-1.3.4.css</td>\n",
              "      <td>css</td>\n",
              "      <td>text/css</td>\n",
              "      <td>NaN</td>\n",
              "      <td>d41d8cd98f00b204e9800998ecf8427e</td>\n",
              "      <td>da39a3ee5e6b4b0d3255bfef95601890afd80709</td>\n",
              "      <td>NaN</td>\n",
              "    </tr>\n",
              "  </tbody>\n",
              "</table>\n",
              "<p>88101 rows × 9 columns</p>\n",
              "</div>\n",
              "      <button class=\"colab-df-convert\" onclick=\"convertToInteractive('df-2e76666f-78e7-4207-a1a1-2b0d0f28338c')\"\n",
              "              title=\"Convert this dataframe to an interactive table.\"\n",
              "              style=\"display:none;\">\n",
              "        \n",
              "  <svg xmlns=\"http://www.w3.org/2000/svg\" height=\"24px\"viewBox=\"0 0 24 24\"\n",
              "       width=\"24px\">\n",
              "    <path d=\"M0 0h24v24H0V0z\" fill=\"none\"/>\n",
              "    <path d=\"M18.56 5.44l.94 2.06.94-2.06 2.06-.94-2.06-.94-.94-2.06-.94 2.06-2.06.94zm-11 1L8.5 8.5l.94-2.06 2.06-.94-2.06-.94L8.5 2.5l-.94 2.06-2.06.94zm10 10l.94 2.06.94-2.06 2.06-.94-2.06-.94-.94-2.06-.94 2.06-2.06.94z\"/><path d=\"M17.41 7.96l-1.37-1.37c-.4-.4-.92-.59-1.43-.59-.52 0-1.04.2-1.43.59L10.3 9.45l-7.72 7.72c-.78.78-.78 2.05 0 2.83L4 21.41c.39.39.9.59 1.41.59.51 0 1.02-.2 1.41-.59l7.78-7.78 2.81-2.81c.8-.78.8-2.07 0-2.86zM5.41 20L4 18.59l7.72-7.72 1.47 1.35L5.41 20z\"/>\n",
              "  </svg>\n",
              "      </button>\n",
              "      \n",
              "  <style>\n",
              "    .colab-df-container {\n",
              "      display:flex;\n",
              "      flex-wrap:wrap;\n",
              "      gap: 12px;\n",
              "    }\n",
              "\n",
              "    .colab-df-convert {\n",
              "      background-color: #E8F0FE;\n",
              "      border: none;\n",
              "      border-radius: 50%;\n",
              "      cursor: pointer;\n",
              "      display: none;\n",
              "      fill: #1967D2;\n",
              "      height: 32px;\n",
              "      padding: 0 0 0 0;\n",
              "      width: 32px;\n",
              "    }\n",
              "\n",
              "    .colab-df-convert:hover {\n",
              "      background-color: #E2EBFA;\n",
              "      box-shadow: 0px 1px 2px rgba(60, 64, 67, 0.3), 0px 1px 3px 1px rgba(60, 64, 67, 0.15);\n",
              "      fill: #174EA6;\n",
              "    }\n",
              "\n",
              "    [theme=dark] .colab-df-convert {\n",
              "      background-color: #3B4455;\n",
              "      fill: #D2E3FC;\n",
              "    }\n",
              "\n",
              "    [theme=dark] .colab-df-convert:hover {\n",
              "      background-color: #434B5C;\n",
              "      box-shadow: 0px 1px 3px 1px rgba(0, 0, 0, 0.15);\n",
              "      filter: drop-shadow(0px 1px 2px rgba(0, 0, 0, 0.3));\n",
              "      fill: #FFFFFF;\n",
              "    }\n",
              "  </style>\n",
              "\n",
              "      <script>\n",
              "        const buttonEl =\n",
              "          document.querySelector('#df-2e76666f-78e7-4207-a1a1-2b0d0f28338c button.colab-df-convert');\n",
              "        buttonEl.style.display =\n",
              "          google.colab.kernel.accessAllowed ? 'block' : 'none';\n",
              "\n",
              "        async function convertToInteractive(key) {\n",
              "          const element = document.querySelector('#df-2e76666f-78e7-4207-a1a1-2b0d0f28338c');\n",
              "          const dataTable =\n",
              "            await google.colab.kernel.invokeFunction('convertToInteractive',\n",
              "                                                     [key], {});\n",
              "          if (!dataTable) return;\n",
              "\n",
              "          const docLinkHtml = 'Like what you see? Visit the ' +\n",
              "            '<a target=\"_blank\" href=https://colab.research.google.com/notebooks/data_table.ipynb>data table notebook</a>'\n",
              "            + ' to learn more about interactive tables.';\n",
              "          element.innerHTML = '';\n",
              "          dataTable['output_type'] = 'display_data';\n",
              "          await google.colab.output.renderOutput(dataTable, element);\n",
              "          const docLink = document.createElement('div');\n",
              "          docLink.innerHTML = docLinkHtml;\n",
              "          element.appendChild(docLink);\n",
              "        }\n",
              "      </script>\n",
              "    </div>\n",
              "  </div>\n",
              "  "
            ]
          },
          "metadata": {},
          "execution_count": 9
        }
      ]
    },
    {
      "cell_type": "markdown",
      "metadata": {
        "id": "3HPwOCNAvqMe"
      },
      "source": [
        "# Data Analysis\n",
        "\n",
        "Now that we have all of our datasets loaded up, we can begin to work with them!"
      ]
    },
    {
      "cell_type": "markdown",
      "metadata": {
        "id": "J6Pkg0prv3BE"
      },
      "source": [
        "## Counting total files, and unique files\n",
        "\n",
        "Let's take a quick look at how to count items in DataFrames, and use total and unique files as an example to work with.\n",
        "\n",
        "It's definitely work checking out the [pandas documentation](https://pandas.pydata.org/docs/index.html). There are a lot of good examples available, along with a robust [API reference](https://pandas.pydata.org/docs/reference/index.html#api)."
      ]
    },
    {
      "cell_type": "markdown",
      "metadata": {
        "id": "DFX4Gl3wv7bi"
      },
      "source": [
        "\n",
        "### How many css files are in this collection?\n",
        "\n",
        "We can take our `css` variable try a couple of functions to get the same answer.\n",
        "\n",
        "1.   `len(css.index)`\n",
        "  * Get the length of the DataFrame's index.\n",
        "2.   `css.shape[0]`\n",
        "  * Get the shape or dimensionality of the DataFrame, and take the first item in the tuple.\n",
        "3.  `css.count()`\n",
        "  * Count the number of rows for each column.\n",
        "\n"
      ]
    },
    {
      "cell_type": "code",
      "metadata": {
        "colab": {
          "base_uri": "https://localhost:8080/"
        },
        "id": "HTv8Oet3jiTH",
        "outputId": "d255b2b8-fefe-425d-c9ee-5e093f97181e"
      },
      "source": [
        "len(css.index)"
      ],
      "execution_count": 11,
      "outputs": [
        {
          "output_type": "execute_result",
          "data": {
            "text/plain": [
              "88101"
            ]
          },
          "metadata": {},
          "execution_count": 11
        }
      ]
    },
    {
      "cell_type": "code",
      "metadata": {
        "colab": {
          "base_uri": "https://localhost:8080/"
        },
        "id": "6rYEERnTjifk",
        "outputId": "2f3db764-b79c-4a03-ae03-726e0944ba05"
      },
      "source": [
        "css.shape[0]"
      ],
      "execution_count": 12,
      "outputs": [
        {
          "output_type": "execute_result",
          "data": {
            "text/plain": [
              "88101"
            ]
          },
          "metadata": {},
          "execution_count": 12
        }
      ]
    },
    {
      "cell_type": "code",
      "metadata": {
        "colab": {
          "base_uri": "https://localhost:8080/"
        },
        "id": "bn-1v127aKIG",
        "outputId": "a5f0d8af-202d-4753-d9b9-c113ae238eb4"
      },
      "source": [
        "css.count()"
      ],
      "execution_count": 13,
      "outputs": [
        {
          "output_type": "execute_result",
          "data": {
            "text/plain": [
              "crawl_date              88101\n",
              "url                     88101\n",
              "filename                88052\n",
              "extension               88101\n",
              "mime_type_web_server    88101\n",
              "mime_type_tika          18672\n",
              "md5                     88101\n",
              "sha1                    88101\n",
              "content                 18672\n",
              "dtype: int64"
            ]
          },
          "metadata": {},
          "execution_count": 13
        }
      ]
    },
    {
      "cell_type": "markdown",
      "metadata": {
        "id": "38veKiPhwKo4"
      },
      "source": [
        "### How many unique css files are in the collection?\n",
        "\n",
        " We can see if an css files is unique or not by computing an [MD5 hash](https://en.wikipedia.org/wiki/MD5#MD5_hashes) of it, and comparing them. The exact same css file might have a filename of `example.jpg` or `foo.jpg`. If the hash is computed for each, we can see that even with different file names, they are actually the same css file. So, since we have both a `MD5` and `SHA1` hash column available in our DataFrame, we can just find the unique values, and count them!\n",
        "\n",
        "\n"
      ]
    },
    {
      "cell_type": "code",
      "metadata": {
        "colab": {
          "base_uri": "https://localhost:8080/"
        },
        "id": "WesM3kQowM5B",
        "outputId": "636a9b8d-f038-489b-80af-0aef05eef97d"
      },
      "source": [
        "len(css.md5.unique())"
      ],
      "execution_count": 14,
      "outputs": [
        {
          "output_type": "execute_result",
          "data": {
            "text/plain": [
              "17237"
            ]
          },
          "metadata": {},
          "execution_count": 14
        }
      ]
    },
    {
      "cell_type": "markdown",
      "metadata": {
        "id": "ZIXkI0-1wWQf"
      },
      "source": [
        "### What are the top 10 most occurring css files in the collection?\n",
        "\n",
        "Here we can take advantage of [`value_counts()`](https://pandas.pydata.org/docs/reference/api/pandas.DataFrame.value_counts.html) to provide us with a list of MD5 hashes, and their respective counts."
      ]
    },
    {
      "cell_type": "code",
      "metadata": {
        "colab": {
          "base_uri": "https://localhost:8080/"
        },
        "id": "8Ts03OFyjPIM",
        "outputId": "d7e38b10-7a5f-4ad2-8628-3eccc3ae962a"
      },
      "source": [
        "css[\"md5\"].value_counts().head(10)"
      ],
      "execution_count": 15,
      "outputs": [
        {
          "output_type": "execute_result",
          "data": {
            "text/plain": [
              "d41d8cd98f00b204e9800998ecf8427e    69429\n",
              "0c78b9b65520315a2fb697db36bb453e       10\n",
              "da002e99593b2cd3c57c06da331b21cf       10\n",
              "ea5336b4064e6edb916b3da3c8f8a0be        9\n",
              "269550530cc127b6aa5a35925a7de6ce        9\n",
              "21d9d9df449caf1c50a6b24a7d37c8a6        8\n",
              "3fd6bf194fe0784421357bd19f77c161        8\n",
              "110caa93c3fff11bfabfe651d0135248        8\n",
              "1162bec186856e63a6ca207b04282816        8\n",
              "648ec873b4b9e80880653fbae1f5b235        8\n",
              "Name: md5, dtype: int64"
            ]
          },
          "metadata": {},
          "execution_count": 15
        }
      ]
    },
    {
      "cell_type": "markdown",
      "metadata": {
        "id": "FG7pGZUEwlaI"
      },
      "source": [
        "\n",
        "### What's the information around all of the occurances of `d41d8cd98f00b204e9800998ecf8427e`?\n",
        "\n",
        "What, you mean you don't know what `d41d8cd98f00b204e9800998ecf8427e` means? \n",
        "\n",
        "Let's find those css files in the DataFrame. We can here see some of the filenames used, its dimensions, and its URL.\n"
      ]
    },
    {
      "cell_type": "code",
      "metadata": {
        "colab": {
          "base_uri": "https://localhost:8080/",
          "height": 659
        },
        "id": "msmmm65lkSIK",
        "outputId": "25e65b6e-82a0-4f50-e49b-49614b924c0d"
      },
      "source": [
        "css.loc[css[\"md5\"] == \"d41d8cd98f00b204e9800998ecf8427e\"]"
      ],
      "execution_count": 16,
      "outputs": [
        {
          "output_type": "stream",
          "name": "stdout",
          "text": [
            "Warning: total number of rows (69429) exceeds max_rows (20000). Falling back to pandas display.\n"
          ]
        },
        {
          "output_type": "execute_result",
          "data": {
            "text/plain": [
              "           crawl_date                                                url  \\\n",
              "15     20200629235334  https://cloudfront.ualberta.ca/design/custom/m...   \n",
              "24     20200630021950  https://cloudfront.ualberta.ca/design/custom/g...   \n",
              "33     20200704160858  https://cloudfront.ualberta.ca/design/custom/c...   \n",
              "34     20200704193328  https://cloudfront.ualberta.ca/design/custom/e...   \n",
              "35     20200704193351  https://cloudfront.ualberta.ca/design/custom/b...   \n",
              "...               ...                                                ...   \n",
              "88096  20220704153616   https://www.uwo.ca/pridelib/_system/pridelib.css   \n",
              "88097  20220704154100  https://www.uwo.ca/pridelib/_system/blueprint/...   \n",
              "88098  20220704154201  https://www.uwo.ca/pridelib/_system/blueprint/...   \n",
              "88099  20220704154255  https://www.uwo.ca/pridelib/_system/superfish-...   \n",
              "88100  20220704155236  https://www.uwo.ca/pridelib/_system/fancybox/j...   \n",
              "\n",
              "                        filename extension mime_type_web_server  \\\n",
              "15                    custom.css       css             text/css   \n",
              "24                    custom.css       css             text/css   \n",
              "33                    custom.css       css             text/css   \n",
              "34                    custom.css       css             text/css   \n",
              "35                    custom.css       css             text/css   \n",
              "...                          ...       ...                  ...   \n",
              "88096               pridelib.css       css             text/css   \n",
              "88097                 screen.css       css             text/css   \n",
              "88098                  print.css       css             text/css   \n",
              "88099              superfish.css       css             text/css   \n",
              "88100  jquery.fancybox-1.3.4.css       css             text/css   \n",
              "\n",
              "      mime_type_tika                               md5  \\\n",
              "15               NaN  d41d8cd98f00b204e9800998ecf8427e   \n",
              "24               NaN  d41d8cd98f00b204e9800998ecf8427e   \n",
              "33               NaN  d41d8cd98f00b204e9800998ecf8427e   \n",
              "34               NaN  d41d8cd98f00b204e9800998ecf8427e   \n",
              "35               NaN  d41d8cd98f00b204e9800998ecf8427e   \n",
              "...              ...                               ...   \n",
              "88096            NaN  d41d8cd98f00b204e9800998ecf8427e   \n",
              "88097            NaN  d41d8cd98f00b204e9800998ecf8427e   \n",
              "88098            NaN  d41d8cd98f00b204e9800998ecf8427e   \n",
              "88099            NaN  d41d8cd98f00b204e9800998ecf8427e   \n",
              "88100            NaN  d41d8cd98f00b204e9800998ecf8427e   \n",
              "\n",
              "                                           sha1 content  \n",
              "15     da39a3ee5e6b4b0d3255bfef95601890afd80709     NaN  \n",
              "24     da39a3ee5e6b4b0d3255bfef95601890afd80709     NaN  \n",
              "33     da39a3ee5e6b4b0d3255bfef95601890afd80709     NaN  \n",
              "34     da39a3ee5e6b4b0d3255bfef95601890afd80709     NaN  \n",
              "35     da39a3ee5e6b4b0d3255bfef95601890afd80709     NaN  \n",
              "...                                         ...     ...  \n",
              "88096  da39a3ee5e6b4b0d3255bfef95601890afd80709     NaN  \n",
              "88097  da39a3ee5e6b4b0d3255bfef95601890afd80709     NaN  \n",
              "88098  da39a3ee5e6b4b0d3255bfef95601890afd80709     NaN  \n",
              "88099  da39a3ee5e6b4b0d3255bfef95601890afd80709     NaN  \n",
              "88100  da39a3ee5e6b4b0d3255bfef95601890afd80709     NaN  \n",
              "\n",
              "[69429 rows x 9 columns]"
            ],
            "text/html": [
              "\n",
              "  <div id=\"df-9b949f41-2063-46b5-9ac3-30447d1d8f62\">\n",
              "    <div class=\"colab-df-container\">\n",
              "      <div>\n",
              "<style scoped>\n",
              "    .dataframe tbody tr th:only-of-type {\n",
              "        vertical-align: middle;\n",
              "    }\n",
              "\n",
              "    .dataframe tbody tr th {\n",
              "        vertical-align: top;\n",
              "    }\n",
              "\n",
              "    .dataframe thead th {\n",
              "        text-align: right;\n",
              "    }\n",
              "</style>\n",
              "<table border=\"1\" class=\"dataframe\">\n",
              "  <thead>\n",
              "    <tr style=\"text-align: right;\">\n",
              "      <th></th>\n",
              "      <th>crawl_date</th>\n",
              "      <th>url</th>\n",
              "      <th>filename</th>\n",
              "      <th>extension</th>\n",
              "      <th>mime_type_web_server</th>\n",
              "      <th>mime_type_tika</th>\n",
              "      <th>md5</th>\n",
              "      <th>sha1</th>\n",
              "      <th>content</th>\n",
              "    </tr>\n",
              "  </thead>\n",
              "  <tbody>\n",
              "    <tr>\n",
              "      <th>15</th>\n",
              "      <td>20200629235334</td>\n",
              "      <td>https://cloudfront.ualberta.ca/design/custom/m...</td>\n",
              "      <td>custom.css</td>\n",
              "      <td>css</td>\n",
              "      <td>text/css</td>\n",
              "      <td>NaN</td>\n",
              "      <td>d41d8cd98f00b204e9800998ecf8427e</td>\n",
              "      <td>da39a3ee5e6b4b0d3255bfef95601890afd80709</td>\n",
              "      <td>NaN</td>\n",
              "    </tr>\n",
              "    <tr>\n",
              "      <th>24</th>\n",
              "      <td>20200630021950</td>\n",
              "      <td>https://cloudfront.ualberta.ca/design/custom/g...</td>\n",
              "      <td>custom.css</td>\n",
              "      <td>css</td>\n",
              "      <td>text/css</td>\n",
              "      <td>NaN</td>\n",
              "      <td>d41d8cd98f00b204e9800998ecf8427e</td>\n",
              "      <td>da39a3ee5e6b4b0d3255bfef95601890afd80709</td>\n",
              "      <td>NaN</td>\n",
              "    </tr>\n",
              "    <tr>\n",
              "      <th>33</th>\n",
              "      <td>20200704160858</td>\n",
              "      <td>https://cloudfront.ualberta.ca/design/custom/c...</td>\n",
              "      <td>custom.css</td>\n",
              "      <td>css</td>\n",
              "      <td>text/css</td>\n",
              "      <td>NaN</td>\n",
              "      <td>d41d8cd98f00b204e9800998ecf8427e</td>\n",
              "      <td>da39a3ee5e6b4b0d3255bfef95601890afd80709</td>\n",
              "      <td>NaN</td>\n",
              "    </tr>\n",
              "    <tr>\n",
              "      <th>34</th>\n",
              "      <td>20200704193328</td>\n",
              "      <td>https://cloudfront.ualberta.ca/design/custom/e...</td>\n",
              "      <td>custom.css</td>\n",
              "      <td>css</td>\n",
              "      <td>text/css</td>\n",
              "      <td>NaN</td>\n",
              "      <td>d41d8cd98f00b204e9800998ecf8427e</td>\n",
              "      <td>da39a3ee5e6b4b0d3255bfef95601890afd80709</td>\n",
              "      <td>NaN</td>\n",
              "    </tr>\n",
              "    <tr>\n",
              "      <th>35</th>\n",
              "      <td>20200704193351</td>\n",
              "      <td>https://cloudfront.ualberta.ca/design/custom/b...</td>\n",
              "      <td>custom.css</td>\n",
              "      <td>css</td>\n",
              "      <td>text/css</td>\n",
              "      <td>NaN</td>\n",
              "      <td>d41d8cd98f00b204e9800998ecf8427e</td>\n",
              "      <td>da39a3ee5e6b4b0d3255bfef95601890afd80709</td>\n",
              "      <td>NaN</td>\n",
              "    </tr>\n",
              "    <tr>\n",
              "      <th>...</th>\n",
              "      <td>...</td>\n",
              "      <td>...</td>\n",
              "      <td>...</td>\n",
              "      <td>...</td>\n",
              "      <td>...</td>\n",
              "      <td>...</td>\n",
              "      <td>...</td>\n",
              "      <td>...</td>\n",
              "      <td>...</td>\n",
              "    </tr>\n",
              "    <tr>\n",
              "      <th>88096</th>\n",
              "      <td>20220704153616</td>\n",
              "      <td>https://www.uwo.ca/pridelib/_system/pridelib.css</td>\n",
              "      <td>pridelib.css</td>\n",
              "      <td>css</td>\n",
              "      <td>text/css</td>\n",
              "      <td>NaN</td>\n",
              "      <td>d41d8cd98f00b204e9800998ecf8427e</td>\n",
              "      <td>da39a3ee5e6b4b0d3255bfef95601890afd80709</td>\n",
              "      <td>NaN</td>\n",
              "    </tr>\n",
              "    <tr>\n",
              "      <th>88097</th>\n",
              "      <td>20220704154100</td>\n",
              "      <td>https://www.uwo.ca/pridelib/_system/blueprint/...</td>\n",
              "      <td>screen.css</td>\n",
              "      <td>css</td>\n",
              "      <td>text/css</td>\n",
              "      <td>NaN</td>\n",
              "      <td>d41d8cd98f00b204e9800998ecf8427e</td>\n",
              "      <td>da39a3ee5e6b4b0d3255bfef95601890afd80709</td>\n",
              "      <td>NaN</td>\n",
              "    </tr>\n",
              "    <tr>\n",
              "      <th>88098</th>\n",
              "      <td>20220704154201</td>\n",
              "      <td>https://www.uwo.ca/pridelib/_system/blueprint/...</td>\n",
              "      <td>print.css</td>\n",
              "      <td>css</td>\n",
              "      <td>text/css</td>\n",
              "      <td>NaN</td>\n",
              "      <td>d41d8cd98f00b204e9800998ecf8427e</td>\n",
              "      <td>da39a3ee5e6b4b0d3255bfef95601890afd80709</td>\n",
              "      <td>NaN</td>\n",
              "    </tr>\n",
              "    <tr>\n",
              "      <th>88099</th>\n",
              "      <td>20220704154255</td>\n",
              "      <td>https://www.uwo.ca/pridelib/_system/superfish-...</td>\n",
              "      <td>superfish.css</td>\n",
              "      <td>css</td>\n",
              "      <td>text/css</td>\n",
              "      <td>NaN</td>\n",
              "      <td>d41d8cd98f00b204e9800998ecf8427e</td>\n",
              "      <td>da39a3ee5e6b4b0d3255bfef95601890afd80709</td>\n",
              "      <td>NaN</td>\n",
              "    </tr>\n",
              "    <tr>\n",
              "      <th>88100</th>\n",
              "      <td>20220704155236</td>\n",
              "      <td>https://www.uwo.ca/pridelib/_system/fancybox/j...</td>\n",
              "      <td>jquery.fancybox-1.3.4.css</td>\n",
              "      <td>css</td>\n",
              "      <td>text/css</td>\n",
              "      <td>NaN</td>\n",
              "      <td>d41d8cd98f00b204e9800998ecf8427e</td>\n",
              "      <td>da39a3ee5e6b4b0d3255bfef95601890afd80709</td>\n",
              "      <td>NaN</td>\n",
              "    </tr>\n",
              "  </tbody>\n",
              "</table>\n",
              "<p>69429 rows × 9 columns</p>\n",
              "</div>\n",
              "      <button class=\"colab-df-convert\" onclick=\"convertToInteractive('df-9b949f41-2063-46b5-9ac3-30447d1d8f62')\"\n",
              "              title=\"Convert this dataframe to an interactive table.\"\n",
              "              style=\"display:none;\">\n",
              "        \n",
              "  <svg xmlns=\"http://www.w3.org/2000/svg\" height=\"24px\"viewBox=\"0 0 24 24\"\n",
              "       width=\"24px\">\n",
              "    <path d=\"M0 0h24v24H0V0z\" fill=\"none\"/>\n",
              "    <path d=\"M18.56 5.44l.94 2.06.94-2.06 2.06-.94-2.06-.94-.94-2.06-.94 2.06-2.06.94zm-11 1L8.5 8.5l.94-2.06 2.06-.94-2.06-.94L8.5 2.5l-.94 2.06-2.06.94zm10 10l.94 2.06.94-2.06 2.06-.94-2.06-.94-.94-2.06-.94 2.06-2.06.94z\"/><path d=\"M17.41 7.96l-1.37-1.37c-.4-.4-.92-.59-1.43-.59-.52 0-1.04.2-1.43.59L10.3 9.45l-7.72 7.72c-.78.78-.78 2.05 0 2.83L4 21.41c.39.39.9.59 1.41.59.51 0 1.02-.2 1.41-.59l7.78-7.78 2.81-2.81c.8-.78.8-2.07 0-2.86zM5.41 20L4 18.59l7.72-7.72 1.47 1.35L5.41 20z\"/>\n",
              "  </svg>\n",
              "      </button>\n",
              "      \n",
              "  <style>\n",
              "    .colab-df-container {\n",
              "      display:flex;\n",
              "      flex-wrap:wrap;\n",
              "      gap: 12px;\n",
              "    }\n",
              "\n",
              "    .colab-df-convert {\n",
              "      background-color: #E8F0FE;\n",
              "      border: none;\n",
              "      border-radius: 50%;\n",
              "      cursor: pointer;\n",
              "      display: none;\n",
              "      fill: #1967D2;\n",
              "      height: 32px;\n",
              "      padding: 0 0 0 0;\n",
              "      width: 32px;\n",
              "    }\n",
              "\n",
              "    .colab-df-convert:hover {\n",
              "      background-color: #E2EBFA;\n",
              "      box-shadow: 0px 1px 2px rgba(60, 64, 67, 0.3), 0px 1px 3px 1px rgba(60, 64, 67, 0.15);\n",
              "      fill: #174EA6;\n",
              "    }\n",
              "\n",
              "    [theme=dark] .colab-df-convert {\n",
              "      background-color: #3B4455;\n",
              "      fill: #D2E3FC;\n",
              "    }\n",
              "\n",
              "    [theme=dark] .colab-df-convert:hover {\n",
              "      background-color: #434B5C;\n",
              "      box-shadow: 0px 1px 3px 1px rgba(0, 0, 0, 0.15);\n",
              "      filter: drop-shadow(0px 1px 2px rgba(0, 0, 0, 0.3));\n",
              "      fill: #FFFFFF;\n",
              "    }\n",
              "  </style>\n",
              "\n",
              "      <script>\n",
              "        const buttonEl =\n",
              "          document.querySelector('#df-9b949f41-2063-46b5-9ac3-30447d1d8f62 button.colab-df-convert');\n",
              "        buttonEl.style.display =\n",
              "          google.colab.kernel.accessAllowed ? 'block' : 'none';\n",
              "\n",
              "        async function convertToInteractive(key) {\n",
              "          const element = document.querySelector('#df-9b949f41-2063-46b5-9ac3-30447d1d8f62');\n",
              "          const dataTable =\n",
              "            await google.colab.kernel.invokeFunction('convertToInteractive',\n",
              "                                                     [key], {});\n",
              "          if (!dataTable) return;\n",
              "\n",
              "          const docLinkHtml = 'Like what you see? Visit the ' +\n",
              "            '<a target=\"_blank\" href=https://colab.research.google.com/notebooks/data_table.ipynb>data table notebook</a>'\n",
              "            + ' to learn more about interactive tables.';\n",
              "          element.innerHTML = '';\n",
              "          dataTable['output_type'] = 'display_data';\n",
              "          await google.colab.output.renderOutput(dataTable, element);\n",
              "          const docLink = document.createElement('div');\n",
              "          docLink.innerHTML = docLinkHtml;\n",
              "          element.appendChild(docLink);\n",
              "        }\n",
              "      </script>\n",
              "    </div>\n",
              "  </div>\n",
              "  "
            ]
          },
          "metadata": {},
          "execution_count": 16
        }
      ]
    },
    {
      "cell_type": "markdown",
      "metadata": {
        "id": "GbLLZW2awzCv"
      },
      "source": [
        "### What are the top 10 most occuring filenames in the collection?\n",
        "\n",
        "Note that this is of course different than the MD5 results up above. Here we are focusing _just_ on filename. So `styles.css for example, might actually be referring to different css files who happen to have the same name.\n",
        "\n",
        "Here we can use `value_counts()` again, but this time we'll create a variable for the top filenames so we can use it later.\n",
        "\n"
      ]
    },
    {
      "cell_type": "code",
      "metadata": {
        "colab": {
          "base_uri": "https://localhost:8080/"
        },
        "id": "pQaw54ACkwdZ",
        "outputId": "6f6c3468-8045-482e-8465-9d1c62e68848"
      },
      "source": [
        "top_filenames = css[\"filename\"].value_counts().head(10)\n",
        "top_filenames"
      ],
      "execution_count": 17,
      "outputs": [
        {
          "output_type": "execute_result",
          "data": {
            "text/plain": [
              "styles.css              3242\n",
              "style.css               1694\n",
              "css                     1226\n",
              "ctools.css               679\n",
              "views.css                602\n",
              "node.css                 590\n",
              "field.css                586\n",
              "user.css                 573\n",
              "font-awesome.min.css     565\n",
              "system.messages.css      553\n",
              "Name: filename, dtype: int64"
            ]
          },
          "metadata": {},
          "execution_count": 17
        }
      ]
    },
    {
      "cell_type": "markdown",
      "metadata": {
        "id": "Z7F3re20BQRI"
      },
      "source": [
        "### Let's create our first graph!\n",
        "\n",
        "We'll plot the data first with pandas [plot](https://pandas.pydata.org/docs/reference/api/pandas.Series.plot.html) functionality, and then plot the data with [Altair](https://altair-viz.github.io/)."
      ]
    },
    {
      "cell_type": "code",
      "metadata": {
        "colab": {
          "base_uri": "https://localhost:8080/",
          "height": 756
        },
        "id": "sRvlstfsBWEZ",
        "outputId": "d11d02f5-633b-4ca9-f6be-bed9f84b2ef5"
      },
      "source": [
        "top_filenames_chart = top_filenames.plot.bar(figsize=(25, 10))\n",
        "\n",
        "top_filenames_chart.set_title(\"Top Filenames\", fontsize=22)\n",
        "top_filenames_chart.set_xlabel(\"Filename\", fontsize=20)\n",
        "top_filenames_chart.set_ylabel(\"Count\", fontsize=20)"
      ],
      "execution_count": 18,
      "outputs": [
        {
          "output_type": "execute_result",
          "data": {
            "text/plain": [
              "Text(0, 0.5, 'Count')"
            ]
          },
          "metadata": {},
          "execution_count": 18
        },
        {
          "output_type": "display_data",
          "data": {
            "text/plain": [
              "<Figure size 1800x720 with 1 Axes>"
            ],
            "image/png": "[encoded data removed]"
          },
          "metadata": {
            "needs_background": "light"
          }
        }
      ]
    },
    {
      "cell_type": "markdown",
      "metadata": {
        "id": "pQgeOObvgLvK"
      },
      "source": [
        "Now let's setup [Altair](https://altair-viz.github.io/), and plot the data with Altair. Altair is useful for creating vizualizations since they can be easily exported as a PNG or SVG."
      ]
    },
    {
      "cell_type": "code",
      "metadata": {
        "id": "Q7Z4J6qjWaVM"
      },
      "source": [
        "import altair as alt"
      ],
      "execution_count": 19,
      "outputs": []
    },
    {
      "cell_type": "code",
      "metadata": {
        "colab": {
          "base_uri": "https://localhost:8080/",
          "height": 883
        },
        "id": "s0xwvILYWkgg",
        "outputId": "4a91682f-3e95-4aa3-8846-50eaea21e5bc"
      },
      "source": [
        "top_filenames_altair = (\n",
        "    css[\"filename\"]\n",
        "    .value_counts()\n",
        "    .head(10)\n",
        "    .rename_axis(\"Filename\")\n",
        "    .reset_index(name=\"Count\")\n",
        ")\n",
        "\n",
        "filenames_bar = (\n",
        "    alt.Chart(top_filenames_altair)\n",
        "    .mark_bar()\n",
        "    .encode(x=alt.X(\"Filename:O\", sort=\"-y\"), y=alt.Y(\"Count:Q\"))\n",
        ")\n",
        "\n",
        "filenames_rule = (\n",
        "    alt.Chart(top_filenames_altair).mark_rule(color=\"red\").encode(y=\"mean(Count):Q\")\n",
        ")\n",
        "\n",
        "\n",
        "filenames_text = filenames_bar.mark_text(align=\"center\", baseline=\"bottom\").encode(\n",
        "    text=\"Count:Q\"\n",
        ")\n",
        "\n",
        "(filenames_bar + filenames_rule + filenames_text).properties(\n",
        "    width=1400, height=700, title=\"Top Filenames\"\n",
        ")"
      ],
      "execution_count": 20,
      "outputs": [
        {
          "output_type": "execute_result",
          "data": {
            "text/html": [
              "\n",
              "<div id=\"altair-viz-561584967e2a400e99a140853a9965ba\"></div>\n",
              "<script type=\"text/javascript\">\n",
              "  var VEGA_DEBUG = (typeof VEGA_DEBUG == \"undefined\") ? {} : VEGA_DEBUG;\n",
              "  (function(spec, embedOpt){\n",
              "    let outputDiv = document.currentScript.previousElementSibling;\n",
              "    if (outputDiv.id !== \"altair-viz-561584967e2a400e99a140853a9965ba\") {\n",
              "      outputDiv = document.getElementById(\"altair-viz-561584967e2a400e99a140853a9965ba\");\n",
              "    }\n",
              "    const paths = {\n",
              "      \"vega\": \"https://cdn.jsdelivr.net/npm//vega@5?noext\",\n",
              "      \"vega-lib\": \"https://cdn.jsdelivr.net/npm//vega-lib?noext\",\n",
              "      \"vega-lite\": \"https://cdn.jsdelivr.net/npm//vega-lite@4.17.0?noext\",\n",
              "      \"vega-embed\": \"https://cdn.jsdelivr.net/npm//vega-embed@6?noext\",\n",
              "    };\n",
              "\n",
              "    function maybeLoadScript(lib, version) {\n",
              "      var key = `${lib.replace(\"-\", \"\")}_version`;\n",
              "      return (VEGA_DEBUG[key] == version) ?\n",
              "        Promise.resolve(paths[lib]) :\n",
              "        new Promise(function(resolve, reject) {\n",
              "          var s = document.createElement('script');\n",
              "          document.getElementsByTagName(\"head\")[0].appendChild(s);\n",
              "          s.async = true;\n",
              "          s.onload = () => {\n",
              "            VEGA_DEBUG[key] = version;\n",
              "            return resolve(paths[lib]);\n",
              "          };\n",
              "          s.onerror = () => reject(`Error loading script: ${paths[lib]}`);\n",
              "          s.src = paths[lib];\n",
              "        });\n",
              "    }\n",
              "\n",
              "    function showError(err) {\n",
              "      outputDiv.innerHTML = `<div class=\"error\" style=\"color:red;\">${err}</div>`;\n",
              "      throw err;\n",
              "    }\n",
              "\n",
              "    function displayChart(vegaEmbed) {\n",
              "      vegaEmbed(outputDiv, spec, embedOpt)\n",
              "        .catch(err => showError(`Javascript Error: ${err.message}<br>This usually means there's a typo in your chart specification. See the javascript console for the full traceback.`));\n",
              "    }\n",
              "\n",
              "    if(typeof define === \"function\" && define.amd) {\n",
              "      requirejs.config({paths});\n",
              "      require([\"vega-embed\"], displayChart, err => showError(`Error loading script: ${err.message}`));\n",
              "    } else {\n",
              "      maybeLoadScript(\"vega\", \"5\")\n",
              "        .then(() => maybeLoadScript(\"vega-lite\", \"4.17.0\"))\n",
              "        .then(() => maybeLoadScript(\"vega-embed\", \"6\"))\n",
              "        .catch(showError)\n",
              "        .then(() => displayChart(vegaEmbed));\n",
              "    }\n",
              "  })({\"config\": {\"view\": {\"continuousWidth\": 400, \"continuousHeight\": 300}}, \"layer\": [{\"mark\": \"bar\", \"encoding\": {\"x\": {\"field\": \"Filename\", \"sort\": \"-y\", \"type\": \"ordinal\"}, \"y\": {\"field\": \"Count\", \"type\": \"quantitative\"}}}, {\"mark\": {\"type\": \"rule\", \"color\": \"red\"}, \"encoding\": {\"y\": {\"aggregate\": \"mean\", \"field\": \"Count\", \"type\": \"quantitative\"}}}, {\"mark\": {\"type\": \"text\", \"align\": \"center\", \"baseline\": \"bottom\"}, \"encoding\": {\"text\": {\"field\": \"Count\", \"type\": \"quantitative\"}, \"x\": {\"field\": \"Filename\", \"sort\": \"-y\", \"type\": \"ordinal\"}, \"y\": {\"field\": \"Count\", \"type\": \"quantitative\"}}}], \"data\": {\"name\": \"data-65f2651e3dd6b0551535be3a62622cb5\"}, \"height\": 700, \"title\": \"Top Filenames\", \"width\": 1400, \"$schema\": \"https://vega.github.io/schema/vega-lite/v4.17.0.json\", \"datasets\": {\"data-65f2651e3dd6b0551535be3a62622cb5\": [{\"Filename\": \"styles.css\", \"Count\": 3242}, {\"Filename\": \"style.css\", \"Count\": 1694}, {\"Filename\": \"css\", \"Count\": 1226}, {\"Filename\": \"ctools.css\", \"Count\": 679}, {\"Filename\": \"views.css\", \"Count\": 602}, {\"Filename\": \"node.css\", \"Count\": 590}, {\"Filename\": \"field.css\", \"Count\": 586}, {\"Filename\": \"user.css\", \"Count\": 573}, {\"Filename\": \"font-awesome.min.css\", \"Count\": 565}, {\"Filename\": \"system.messages.css\", \"Count\": 553}]}}, {\"mode\": \"vega-lite\"});\n",
              "</script>"
            ],
            "text/plain": [
              "alt.LayerChart(...)"
            ]
          },
          "metadata": {},
          "execution_count": 20
        }
      ]
    },
    {
      "cell_type": "markdown",
      "metadata": {
        "id": "BneaN9cgGoly"
      },
      "source": [
        "### How about a file format distribution?\n",
        "\n",
        "What _kind_ of css files are present? We can discover this by checking their \"media type\", or [MIME type](https://en.wikipedia.org/wiki/Media_type). \n",
        "\n",
        "\n",
        "\n",
        "\n"
      ]
    },
    {
      "cell_type": "code",
      "metadata": {
        "colab": {
          "base_uri": "https://localhost:8080/",
          "height": 823
        },
        "id": "RDd-J8D-GwDk",
        "outputId": "aea9d9fb-8a53-49c9-acb3-8ca88f713a71"
      },
      "source": [
        "css_mime_types = (\n",
        "    css[\"mime_type_tika\"]\n",
        "    .value_counts()\n",
        "    .head(5)\n",
        "    .rename_axis(\"MIME Type\")\n",
        "    .reset_index(name=\"Count\")\n",
        ")\n",
        "\n",
        "css_mimes_bar = (\n",
        "    alt.Chart(css_mime_types)\n",
        "    .mark_bar()\n",
        "    .encode(x=alt.X(\"MIME Type:O\", sort=\"-y\"), y=alt.Y(\"Count:Q\"))\n",
        ")\n",
        "\n",
        "css_mime_rule = (\n",
        "    alt.Chart(css_mime_types).mark_rule(color=\"red\").encode(y=\"mean(Count):Q\")\n",
        ")\n",
        "\n",
        "css_mime_text = css_mimes_bar.mark_text(align=\"center\", baseline=\"bottom\").encode(\n",
        "    text=\"Count:Q\"\n",
        ")\n",
        "\n",
        "(css_mimes_bar + css_mime_rule + css_mime_text).properties(\n",
        "    width=1400, height=700, title=\"CSS File Format Distribution\"\n",
        ")"
      ],
      "execution_count": 21,
      "outputs": [
        {
          "output_type": "execute_result",
          "data": {
            "text/html": [
              "\n",
              "<div id=\"altair-viz-0c1c850d21114eb6aadbb3205f79d56e\"></div>\n",
              "<script type=\"text/javascript\">\n",
              "  var VEGA_DEBUG = (typeof VEGA_DEBUG == \"undefined\") ? {} : VEGA_DEBUG;\n",
              "  (function(spec, embedOpt){\n",
              "    let outputDiv = document.currentScript.previousElementSibling;\n",
              "    if (outputDiv.id !== \"altair-viz-0c1c850d21114eb6aadbb3205f79d56e\") {\n",
              "      outputDiv = document.getElementById(\"altair-viz-0c1c850d21114eb6aadbb3205f79d56e\");\n",
              "    }\n",
              "    const paths = {\n",
              "      \"vega\": \"https://cdn.jsdelivr.net/npm//vega@5?noext\",\n",
              "      \"vega-lib\": \"https://cdn.jsdelivr.net/npm//vega-lib?noext\",\n",
              "      \"vega-lite\": \"https://cdn.jsdelivr.net/npm//vega-lite@4.17.0?noext\",\n",
              "      \"vega-embed\": \"https://cdn.jsdelivr.net/npm//vega-embed@6?noext\",\n",
              "    };\n",
              "\n",
              "    function maybeLoadScript(lib, version) {\n",
              "      var key = `${lib.replace(\"-\", \"\")}_version`;\n",
              "      return (VEGA_DEBUG[key] == version) ?\n",
              "        Promise.resolve(paths[lib]) :\n",
              "        new Promise(function(resolve, reject) {\n",
              "          var s = document.createElement('script');\n",
              "          document.getElementsByTagName(\"head\")[0].appendChild(s);\n",
              "          s.async = true;\n",
              "          s.onload = () => {\n",
              "            VEGA_DEBUG[key] = version;\n",
              "            return resolve(paths[lib]);\n",
              "          };\n",
              "          s.onerror = () => reject(`Error loading script: ${paths[lib]}`);\n",
              "          s.src = paths[lib];\n",
              "        });\n",
              "    }\n",
              "\n",
              "    function showError(err) {\n",
              "      outputDiv.innerHTML = `<div class=\"error\" style=\"color:red;\">${err}</div>`;\n",
              "      throw err;\n",
              "    }\n",
              "\n",
              "    function displayChart(vegaEmbed) {\n",
              "      vegaEmbed(outputDiv, spec, embedOpt)\n",
              "        .catch(err => showError(`Javascript Error: ${err.message}<br>This usually means there's a typo in your chart specification. See the javascript console for the full traceback.`));\n",
              "    }\n",
              "\n",
              "    if(typeof define === \"function\" && define.amd) {\n",
              "      requirejs.config({paths});\n",
              "      require([\"vega-embed\"], displayChart, err => showError(`Error loading script: ${err.message}`));\n",
              "    } else {\n",
              "      maybeLoadScript(\"vega\", \"5\")\n",
              "        .then(() => maybeLoadScript(\"vega-lite\", \"4.17.0\"))\n",
              "        .then(() => maybeLoadScript(\"vega-embed\", \"6\"))\n",
              "        .catch(showError)\n",
              "        .then(() => displayChart(vegaEmbed));\n",
              "    }\n",
              "  })({\"config\": {\"view\": {\"continuousWidth\": 400, \"continuousHeight\": 300}}, \"layer\": [{\"mark\": \"bar\", \"encoding\": {\"x\": {\"field\": \"MIME Type\", \"sort\": \"-y\", \"type\": \"ordinal\"}, \"y\": {\"field\": \"Count\", \"type\": \"quantitative\"}}}, {\"mark\": {\"type\": \"rule\", \"color\": \"red\"}, \"encoding\": {\"y\": {\"aggregate\": \"mean\", \"field\": \"Count\", \"type\": \"quantitative\"}}}, {\"mark\": {\"type\": \"text\", \"align\": \"center\", \"baseline\": \"bottom\"}, \"encoding\": {\"text\": {\"field\": \"Count\", \"type\": \"quantitative\"}, \"x\": {\"field\": \"MIME Type\", \"sort\": \"-y\", \"type\": \"ordinal\"}, \"y\": {\"field\": \"Count\", \"type\": \"quantitative\"}}}], \"data\": {\"name\": \"data-eb2a1471829b9433a5500d2a52eedf3e\"}, \"height\": 700, \"title\": \"CSS File Format Distribution\", \"width\": 1400, \"$schema\": \"https://vega.github.io/schema/vega-lite/v4.17.0.json\", \"datasets\": {\"data-eb2a1471829b9433a5500d2a52eedf3e\": [{\"MIME Type\": \"text/plain\", \"Count\": 18671}, {\"MIME Type\": \"text/html\", \"Count\": 1}]}}, {\"mode\": \"vega-lite\"});\n",
              "</script>"
            ],
            "text/plain": [
              "alt.LayerChart(...)"
            ]
          },
          "metadata": {},
          "execution_count": 21
        }
      ]
    },
    {
      "cell_type": "markdown",
      "metadata": {
        "id": "QUJR-jjqNxCL"
      },
      "source": [
        "### How do I get the actual css?\n",
        "\n",
        "...or, how do I get to the actual binary files described by each file format information derivative?\n",
        "\n",
        "There are a few options!\n",
        "\n",
        "1. `wget` or `curl` from the live URL, or a replay URL\n",
        "  * Live web URL\n",
        "    * `wget` or `curl` the value of the `url` column\n",
        "  * Replay web URL\n",
        "    * `wget` or `curl` the value of the `crawl_date` and `url` column using the following pattern:\n",
        "      * `https://web.archive.org/web/` + `crawl_date` + `/` + `url`\n",
        "        * https://web.archive.org/web/20120119124734/http://www.archive.org/images/glogo.png\n",
        "      * `http://wayback.archive-it.org/14462/` + `crawl_date` + `/` + `url`\n",
        "        * https://wayback.archive-it.org/14462/20210524212740/https://ruebot.net/visualization/elxn42/featured_hu33a17dfb90e2c5ed77f783db14a6e53a_5126291_550x0_resize_q90_box_2.png\n",
        "2. Use a scripting language, such as Python\n",
        "  * Make use of the `url` and `filename` columns (and `crawl_date` if you want to use the replay URL)\n",
        "  * `import requests`\n",
        "  * `requests.get(url, allow_redirects=True)`\n",
        "  * `open('filename', 'wb').write(r.content)`\n",
        "3. Use the [Archives Unleashed Toolkit](https://aut.docs.archivesunleashed.org/docs/extract-binary) (if you have access to the W/ARC files)."
      ]
    },
    {
      "cell_type": "markdown",
      "source": [
        "If you wanted to download the css files using the replay URL, below a method for doing so.\n",
        "\n",
        "First, you'll want to setup a replay url base url. Here we'll use the Archive-It Wayback instance for the collection."
      ],
      "metadata": {
        "id": "8yoFE2xLAlwk"
      }
    },
    {
      "cell_type": "code",
      "source": [
        "wayback_url = 'http://wayback.archive-it.org/89/'"
      ],
      "metadata": {
        "id": "RxrOHn_2AicZ"
      },
      "execution_count": 22,
      "outputs": []
    },
    {
      "cell_type": "markdown",
      "source": [
        "Next we'll create a new column using a lambda function. If you're familiar working with spreadsheets, what we're doing here is basically concatenating some column values together and creating a new column."
      ],
      "metadata": {
        "id": "jCTmrEBGA-Yd"
      }
    },
    {
      "cell_type": "code",
      "source": [
        "css['replay_url'] = css.apply(lambda row: str(wayback_url + str(row['crawl_date']) + \"/\" + row['url']), axis=1)"
      ],
      "metadata": {
        "id": "p5HoWxkFA6C8"
      },
      "execution_count": 23,
      "outputs": []
    },
    {
      "cell_type": "markdown",
      "source": [
        "Then we can export that new column we created out to a file, so we can use it with `wget` to download all the css files!"
      ],
      "metadata": {
        "id": "q87tSYyIBIiZ"
      }
    },
    {
      "cell_type": "code",
      "source": [
        "css['replay_url'].head().to_csv('89_css_urls.txt', index=False, header=False)"
      ],
      "metadata": {
        "id": "wyhpsf9wBN1a"
      },
      "execution_count": 24,
      "outputs": []
    },
    {
      "cell_type": "markdown",
      "source": [
        "Finally, we can pass the file to `wget` to use as a download list. You can also speed this process up using `xargs` or `parallel`."
      ],
      "metadata": {
        "id": "81a3q7feu5Ji"
      }
    },
    {
      "cell_type": "code",
      "source": [
        "!wget --random-wait -i 89_css_urls.txt"
      ],
      "metadata": {
        "colab": {
          "base_uri": "https://localhost:8080/"
        },
        "id": "D_p4qGKoBRaZ",
        "outputId": "88009ea1-7e14-46d1-df68-ce5f98533f71"
      },
      "execution_count": 25,
      "outputs": [
        {
          "output_type": "stream",
          "name": "stdout",
          "text": [
            "--2022-11-24 19:47:59--  http://wayback.archive-it.org/89/20200629191708/https://www.ualberta.ca/_assets/css/framework.css\n",
            "Resolving wayback.archive-it.org (wayback.archive-it.org)... 207.241.232.8, 207.241.225.8\n",
            "Connecting to wayback.archive-it.org (wayback.archive-it.org)|207.241.232.8|:80... connected.\n",
            "HTTP request sent, awaiting response... 200 OK\n",
            "Length: unspecified [text/html]\n",
            "Saving to: ‘framework.css’\n",
            "\n",
            "framework.css           [ <=>                ]   4.50K  --.-KB/s    in 0s      \n",
            "\n",
            "2022-11-24 19:48:00 (27.9 MB/s) - ‘framework.css’ saved [4613]\n",
            "\n",
            "--2022-11-24 19:48:00--  http://wayback.archive-it.org/89/20200629191844/https://www.ualberta.ca/_assets/css/legacy-framework.css\n",
            "Reusing existing connection to wayback.archive-it.org:80.\n",
            "HTTP request sent, awaiting response... 200 OK\n",
            "Length: unspecified [text/html]\n",
            "Saving to: ‘legacy-framework.css’\n",
            "\n",
            "legacy-framework.cs     [ <=>                ]   4.50K  --.-KB/s    in 0s      \n",
            "\n",
            "2022-11-24 19:48:00 (34.7 MB/s) - ‘legacy-framework.css’ saved [4613]\n",
            "\n",
            "--2022-11-24 19:48:00--  http://wayback.archive-it.org/89/20200629192541/https://www.ualberta.ca/_assets/css/print.css\n",
            "Reusing existing connection to wayback.archive-it.org:80.\n",
            "HTTP request sent, awaiting response... 200 OK\n",
            "Length: unspecified [text/html]\n",
            "Saving to: ‘print.css’\n",
            "\n",
            "print.css               [ <=>                ]   4.50K  --.-KB/s    in 0s      \n",
            "\n",
            "2022-11-24 19:48:00 (24.1 MB/s) - ‘print.css’ saved [4613]\n",
            "\n",
            "--2022-11-24 19:48:00--  http://wayback.archive-it.org/89/20200629193059/https://www.ualberta.ca/_assets/css/legacy-framework-ie.css\n",
            "Reusing existing connection to wayback.archive-it.org:80.\n",
            "HTTP request sent, awaiting response... 200 OK\n",
            "Length: unspecified [text/html]\n",
            "Saving to: ‘legacy-framework-ie.css’\n",
            "\n",
            "legacy-framework-ie     [ <=>                ]   4.50K  --.-KB/s    in 0s      \n",
            "\n",
            "2022-11-24 19:48:00 (51.4 MB/s) - ‘legacy-framework-ie.css’ saved [4613]\n",
            "\n",
            "--2022-11-24 19:48:00--  http://wayback.archive-it.org/89/20200629202434/https://cdnjs.cloudflare.com/ajax/libs/twitter-bootstrap/3.3.7/css/bootstrap.min.css\n",
            "Reusing existing connection to wayback.archive-it.org:80.\n",
            "HTTP request sent, awaiting response... 200 OK\n",
            "Length: unspecified [text/html]\n",
            "Saving to: ‘bootstrap.min.css’\n",
            "\n",
            "bootstrap.min.css       [ <=>                ]   4.50K  --.-KB/s    in 0s      \n",
            "\n",
            "2022-11-24 19:48:00 (13.0 MB/s) - ‘bootstrap.min.css’ saved [4613]\n",
            "\n",
            "FINISHED --2022-11-24 19:48:00--\n",
            "Total wall clock time: 0.5s\n",
            "Downloaded: 5 files, 23K in 0.001s (24.7 MB/s)\n"
          ]
        }
      ]
    }
  ]
}
