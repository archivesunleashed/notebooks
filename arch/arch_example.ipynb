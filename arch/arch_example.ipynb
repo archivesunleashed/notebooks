{
 "cells": [
  {
   "cell_type": "markdown",
   "metadata": {
    "colab_type": "text",
    "id": "view-in-github"
   },
   "source": [
    "<a href=\"https://colab.research.google.com/github/archivesunleashed/notebooks/blob/main/arch/arch_example.ipynb\" target=\"_parent\"><img src=\"https://colab.research.google.com/assets/colab-badge.svg\" alt=\"Open In Colab\"/></a>"
   ]
  },
  {
   "cell_type": "markdown",
   "metadata": {
    "id": "EN0gajhr7pKd"
   },
   "source": [
    "# Working with ARCH Derivatives\n",
    "\n",
    "In this notebook we'll setup an environment and download some example derivatives from Archive-It's ARCH service to demostrate some examples of further exploring web archive derivative datasets.\n",
    "\n"
   ]
  },
  {
   "cell_type": "markdown",
   "metadata": {
    "id": "OctPUqrG-K2W"
   },
   "source": [
    "# Datasets\n",
    "\n",
    "First, we will need to download some derivative data from ARCH. In this notebook, we'll be taking a look at the image information and domain frequency output."
   ]
  },
  {
   "cell_type": "code",
   "execution_count": 1,
   "metadata": {
    "id": "m3FRzjAYyPid"
   },
   "outputs": [],
   "source": [
    "%%capture\n",
    "\n",
    "!mkdir data\n",
    "!curl -u ResearcherDL:somepassword \"https://webdata.archive-it.org/ait/75/research_services/download/ARCHIVEIT-13695/DomainFrequencyExtraction/domain-frequency.csv.gz\" --output data/domain-frequency.csv.gz\n",
    "!curl -u ResearcherDL:somepassword \"https://webdata.archive-it.org/ait/75/research_services/download/ARCHIVEIT-13695/ImageInformationExtraction/image-information.csv.gz\" --output data/image-information.csv.gz\n",
    "!gunzip data/*"
   ]
  },
  {
   "cell_type": "markdown",
   "metadata": {
    "id": "h3Nr_JCbsWx8"
   },
   "source": [
    "Let's make sure they've downloaded, and then we can proceed.\n"
   ]
  },
  {
   "cell_type": "code",
   "execution_count": 2,
   "metadata": {
    "colab": {
     "base_uri": "https://localhost:8080/"
    },
    "id": "2RK74TCSuIXE",
    "outputId": "3448c664-2f3b-4025-c93c-7368c0b5a825"
   },
   "outputs": [
    {
     "name": "stdout",
     "output_type": "stream",
     "text": [
      "domain-frequency.csv\r\n",
      "image-information.csv\r\n"
     ]
    }
   ],
   "source": [
    "!ls -1 data"
   ]
  },
  {
   "cell_type": "markdown",
   "metadata": {
    "id": "JS0T6i4xPTVx"
   },
   "source": [
    "# Environment\n",
    "\n",
    "Next, we'll setup our environment so we can work with the Parquet output with [Pandas](https://pandas.pydata.org)."
   ]
  },
  {
   "cell_type": "code",
   "execution_count": 3,
   "metadata": {
    "id": "n56-DeEFPTCq"
   },
   "outputs": [],
   "source": [
    "import numpy as np\n",
    "import pandas as pd"
   ]
  },
  {
   "cell_type": "markdown",
   "metadata": {
    "id": "oFAFb2X3_VJC"
   },
   "source": [
    "# Loading our Archives Unleashed Datasets as DataFrames\n",
    "\n",
    "Next, we'll load up our datasets to work with and show a preview of each. We'll load the network, domains, web graph, and images. \n",
    "\n",
    "The remainder of the binary datasets (audio, video, spreadsheets, etc.) will all follow the same pattern as the images dataset, except that they do not have the height and width columns. A useful exercise when trying to learn how to use this would be to swap out images for audio, for example, and see how you can explore these other file types.\n",
    "\n",
    "We've provided a [separate notebook](https://github.com/archivesunleashed/notebooks/blob/master/parquet_text_analyis.ipynb) to work with the pages dataset  because it tends to be resource intensive.\n"
   ]
  },
  {
   "cell_type": "markdown",
   "metadata": {
    "id": "SnEntLU0U2ox"
   },
   "source": [
    "## Images\n",
    "\n",
    "The following commands create a variable called `images` that contain a DataFrame with all of the image information from the web archive. \n",
    "\n",
    "**Reminder:** If you want to look at a differnt derivative, you can, for instance, replace out `images` for `audio`."
   ]
  },
  {
   "cell_type": "code",
   "execution_count": 5,
   "metadata": {
    "colab": {
     "base_uri": "https://localhost:8080/",
     "height": 424
    },
    "id": "GhE_Vhv8Awkx",
    "outputId": "3a180014-b3d5-4e46-dc1e-78f15de58670"
   },
   "outputs": [
    {
     "data": {
      "text/html": [
       "<div>\n",
       "<style scoped>\n",
       "    .dataframe tbody tr th:only-of-type {\n",
       "        vertical-align: middle;\n",
       "    }\n",
       "\n",
       "    .dataframe tbody tr th {\n",
       "        vertical-align: top;\n",
       "    }\n",
       "\n",
       "    .dataframe thead th {\n",
       "        text-align: right;\n",
       "    }\n",
       "</style>\n",
       "<table border=\"1\" class=\"dataframe\">\n",
       "  <thead>\n",
       "    <tr style=\"text-align: right;\">\n",
       "      <th></th>\n",
       "      <th>crawl_date</th>\n",
       "      <th>url</th>\n",
       "      <th>filename</th>\n",
       "      <th>extension</th>\n",
       "      <th>mime_type_web_server</th>\n",
       "      <th>mime_type_tika</th>\n",
       "      <th>width</th>\n",
       "      <th>height</th>\n",
       "      <th>md5</th>\n",
       "      <th>sha1</th>\n",
       "    </tr>\n",
       "  </thead>\n",
       "  <tbody>\n",
       "    <tr>\n",
       "      <th>0</th>\n",
       "      <td>20200629</td>\n",
       "      <td>https://hash.qualia.id/g.png?p=9a5f7968-45f9-4...</td>\n",
       "      <td>g.png</td>\n",
       "      <td>png</td>\n",
       "      <td>image/png</td>\n",
       "      <td>image/png</td>\n",
       "      <td>0</td>\n",
       "      <td>0</td>\n",
       "      <td>669afadfc836f36ab8169a1d70a5e46b</td>\n",
       "      <td>59870971e910944aa053c16f14de8af710da6f84</td>\n",
       "    </tr>\n",
       "    <tr>\n",
       "      <th>1</th>\n",
       "      <td>20200629</td>\n",
       "      <td>https://sb.freeskreen.com/t.gif?tm=1593433806&amp;...</td>\n",
       "      <td>t.gif</td>\n",
       "      <td>gif</td>\n",
       "      <td>image/gif</td>\n",
       "      <td>image/gif</td>\n",
       "      <td>0</td>\n",
       "      <td>0</td>\n",
       "      <td>07fff40b5dd495aca2ac4e1c3fbc60aa</td>\n",
       "      <td>e8ac224ba9ee97e87670ed6f3a2f0128b7af9fe4</td>\n",
       "    </tr>\n",
       "    <tr>\n",
       "      <th>2</th>\n",
       "      <td>20200629</td>\n",
       "      <td>https://tpc.googlesyndication.com/simgad/10728...</td>\n",
       "      <td>10728063185053876749</td>\n",
       "      <td>jpg</td>\n",
       "      <td>image/jpeg</td>\n",
       "      <td>image/jpeg</td>\n",
       "      <td>0</td>\n",
       "      <td>0</td>\n",
       "      <td>55383a7deb1cd757ef9d42d0a7dfe00f</td>\n",
       "      <td>e3d455ce13ea4b1ec2d70952f57d8cfcba9e908c</td>\n",
       "    </tr>\n",
       "    <tr>\n",
       "      <th>3</th>\n",
       "      <td>20200629</td>\n",
       "      <td>https://tpc.googlesyndication.com/simgad/81723...</td>\n",
       "      <td>8172337643687860486</td>\n",
       "      <td>jpg</td>\n",
       "      <td>image/jpeg</td>\n",
       "      <td>image/jpeg</td>\n",
       "      <td>0</td>\n",
       "      <td>0</td>\n",
       "      <td>df22c169abe29bbd33ec616582fb0bf9</td>\n",
       "      <td>88736be6e49eafed08602c370c501ad975b74778</td>\n",
       "    </tr>\n",
       "    <tr>\n",
       "      <th>4</th>\n",
       "      <td>20200629</td>\n",
       "      <td>https://tpc.googlesyndication.com/simgad/12415...</td>\n",
       "      <td>12415734370613421636</td>\n",
       "      <td>jpg</td>\n",
       "      <td>image/jpeg</td>\n",
       "      <td>image/jpeg</td>\n",
       "      <td>0</td>\n",
       "      <td>0</td>\n",
       "      <td>a5cf6978f443f239b4fa87a35d410b0e</td>\n",
       "      <td>7defdccd28fcf14b2418eeffff0c9f84f36228f6</td>\n",
       "    </tr>\n",
       "    <tr>\n",
       "      <th>...</th>\n",
       "      <td>...</td>\n",
       "      <td>...</td>\n",
       "      <td>...</td>\n",
       "      <td>...</td>\n",
       "      <td>...</td>\n",
       "      <td>...</td>\n",
       "      <td>...</td>\n",
       "      <td>...</td>\n",
       "      <td>...</td>\n",
       "      <td>...</td>\n",
       "    </tr>\n",
       "    <tr>\n",
       "      <th>2635884</th>\n",
       "      <td>20210627</td>\n",
       "      <td>https://www150.statcan.gc.ca/n1/pub/45-28-0001...</td>\n",
       "      <td>c-g02-eng.png</td>\n",
       "      <td>png</td>\n",
       "      <td>image/png</td>\n",
       "      <td>image/png</td>\n",
       "      <td>0</td>\n",
       "      <td>0</td>\n",
       "      <td>9d79fed1ebee2d4826259840e6c0b6e8</td>\n",
       "      <td>501cd927373f61c9c9c03e49365c819a619aaba9</td>\n",
       "    </tr>\n",
       "    <tr>\n",
       "      <th>2635885</th>\n",
       "      <td>20210627</td>\n",
       "      <td>https://www150.statcan.gc.ca/n1/pub/45-28-0001...</td>\n",
       "      <td>c-g03-eng.png</td>\n",
       "      <td>png</td>\n",
       "      <td>image/png</td>\n",
       "      <td>image/png</td>\n",
       "      <td>0</td>\n",
       "      <td>0</td>\n",
       "      <td>090feb816c90ac6445e9865e6f18f3e7</td>\n",
       "      <td>733ad08ba5e264c5a1f8c1ce24db974f22bb17e5</td>\n",
       "    </tr>\n",
       "    <tr>\n",
       "      <th>2635886</th>\n",
       "      <td>20210627</td>\n",
       "      <td>https://www150.statcan.gc.ca/n1/pub/45-28-0001...</td>\n",
       "      <td>c-g01-eng.png</td>\n",
       "      <td>png</td>\n",
       "      <td>image/png</td>\n",
       "      <td>image/png</td>\n",
       "      <td>0</td>\n",
       "      <td>0</td>\n",
       "      <td>29d066621a8a5946bb587e4b952b803f</td>\n",
       "      <td>1d5403b3c81826e0ccd7654e4c1360a05dba7521</td>\n",
       "    </tr>\n",
       "    <tr>\n",
       "      <th>2635887</th>\n",
       "      <td>20210627</td>\n",
       "      <td>https://pm.gc.ca/sites/pm/files/media/override...</td>\n",
       "      <td>20210528_PM_NR_LifeAffordable_EN.jpg</td>\n",
       "      <td>jpg</td>\n",
       "      <td>image/jpeg</td>\n",
       "      <td>image/jpeg</td>\n",
       "      <td>0</td>\n",
       "      <td>0</td>\n",
       "      <td>d5ddaef76b5f388a0b59f3eaf4855e61</td>\n",
       "      <td>bc912d3c27ee1a8a8c8c7263d178c65451954dba</td>\n",
       "    </tr>\n",
       "    <tr>\n",
       "      <th>2635888</th>\n",
       "      <td>20210627</td>\n",
       "      <td>https://pm.gc.ca/sites/pm/files/media/override...</td>\n",
       "      <td>NR_G7_WrapUp_210613_EN.png</td>\n",
       "      <td>png</td>\n",
       "      <td>image/png</td>\n",
       "      <td>image/png</td>\n",
       "      <td>0</td>\n",
       "      <td>0</td>\n",
       "      <td>57a1d72450b54e1bbd33e1b56e91487f</td>\n",
       "      <td>c28dcb2e21c1359440931690df0a8aad2d29c129</td>\n",
       "    </tr>\n",
       "  </tbody>\n",
       "</table>\n",
       "<p>2635889 rows × 10 columns</p>\n",
       "</div>"
      ],
      "text/plain": [
       "         crawl_date                                                url  \\\n",
       "0          20200629  https://hash.qualia.id/g.png?p=9a5f7968-45f9-4...   \n",
       "1          20200629  https://sb.freeskreen.com/t.gif?tm=1593433806&...   \n",
       "2          20200629  https://tpc.googlesyndication.com/simgad/10728...   \n",
       "3          20200629  https://tpc.googlesyndication.com/simgad/81723...   \n",
       "4          20200629  https://tpc.googlesyndication.com/simgad/12415...   \n",
       "...             ...                                                ...   \n",
       "2635884    20210627  https://www150.statcan.gc.ca/n1/pub/45-28-0001...   \n",
       "2635885    20210627  https://www150.statcan.gc.ca/n1/pub/45-28-0001...   \n",
       "2635886    20210627  https://www150.statcan.gc.ca/n1/pub/45-28-0001...   \n",
       "2635887    20210627  https://pm.gc.ca/sites/pm/files/media/override...   \n",
       "2635888    20210627  https://pm.gc.ca/sites/pm/files/media/override...   \n",
       "\n",
       "                                     filename extension mime_type_web_server  \\\n",
       "0                                       g.png       png            image/png   \n",
       "1                                       t.gif       gif            image/gif   \n",
       "2                        10728063185053876749       jpg           image/jpeg   \n",
       "3                         8172337643687860486       jpg           image/jpeg   \n",
       "4                        12415734370613421636       jpg           image/jpeg   \n",
       "...                                       ...       ...                  ...   \n",
       "2635884                         c-g02-eng.png       png            image/png   \n",
       "2635885                         c-g03-eng.png       png            image/png   \n",
       "2635886                         c-g01-eng.png       png            image/png   \n",
       "2635887  20210528_PM_NR_LifeAffordable_EN.jpg       jpg           image/jpeg   \n",
       "2635888            NR_G7_WrapUp_210613_EN.png       png            image/png   \n",
       "\n",
       "        mime_type_tika  width  height                               md5  \\\n",
       "0            image/png      0       0  669afadfc836f36ab8169a1d70a5e46b   \n",
       "1            image/gif      0       0  07fff40b5dd495aca2ac4e1c3fbc60aa   \n",
       "2           image/jpeg      0       0  55383a7deb1cd757ef9d42d0a7dfe00f   \n",
       "3           image/jpeg      0       0  df22c169abe29bbd33ec616582fb0bf9   \n",
       "4           image/jpeg      0       0  a5cf6978f443f239b4fa87a35d410b0e   \n",
       "...                ...    ...     ...                               ...   \n",
       "2635884      image/png      0       0  9d79fed1ebee2d4826259840e6c0b6e8   \n",
       "2635885      image/png      0       0  090feb816c90ac6445e9865e6f18f3e7   \n",
       "2635886      image/png      0       0  29d066621a8a5946bb587e4b952b803f   \n",
       "2635887     image/jpeg      0       0  d5ddaef76b5f388a0b59f3eaf4855e61   \n",
       "2635888      image/png      0       0  57a1d72450b54e1bbd33e1b56e91487f   \n",
       "\n",
       "                                             sha1  \n",
       "0        59870971e910944aa053c16f14de8af710da6f84  \n",
       "1        e8ac224ba9ee97e87670ed6f3a2f0128b7af9fe4  \n",
       "2        e3d455ce13ea4b1ec2d70952f57d8cfcba9e908c  \n",
       "3        88736be6e49eafed08602c370c501ad975b74778  \n",
       "4        7defdccd28fcf14b2418eeffff0c9f84f36228f6  \n",
       "...                                           ...  \n",
       "2635884  501cd927373f61c9c9c03e49365c819a619aaba9  \n",
       "2635885  733ad08ba5e264c5a1f8c1ce24db974f22bb17e5  \n",
       "2635886  1d5403b3c81826e0ccd7654e4c1360a05dba7521  \n",
       "2635887  bc912d3c27ee1a8a8c8c7263d178c65451954dba  \n",
       "2635888  c28dcb2e21c1359440931690df0a8aad2d29c129  \n",
       "\n",
       "[2635889 rows x 10 columns]"
      ]
     },
     "execution_count": 5,
     "metadata": {},
     "output_type": "execute_result"
    }
   ],
   "source": [
    "images = pd.read_csv('data/image-information.csv')\n",
    "images"
   ]
  },
  {
   "cell_type": "markdown",
   "metadata": {
    "id": "JgBtx0xFFv_i"
   },
   "source": [
    "# Data Table Display\n",
    "\n",
    "Colab includes an extension that renders pandas dataframes into interactive displays that can be filtered, sorted, and explored dynamically.\n",
    "\n",
    "Data table display for Pandas dataframes can be enabled by running:\n",
    "```python\n",
    "%load_ext google.colab.data_table\n",
    "```\n",
    "and disabled by running\n",
    "```python\n",
    "%unload_ext google.colab.data_table\n",
    "```\n",
    "\n",
    "Note: There appears to be a limit to how many rows can be used in the Data Table display. It doesn't work with all examples in this notebook.\n"
   ]
  },
  {
   "cell_type": "code",
   "execution_count": 5,
   "metadata": {
    "id": "8h2lJY2Z7xyt"
   },
   "outputs": [],
   "source": [
    "%load_ext google.colab.data_table"
   ]
  },
  {
   "cell_type": "markdown",
   "metadata": {
    "id": "ndZjsWKzUykd"
   },
   "source": [
    "## Domains\n",
    "\n",
    "This derivative contains basic information about what's been collected in the crawl. Specifically we can analyze how often pages from each domain appear.\n",
    "\n",
    "Note: You can also take of the Data Table extension to experiment with interacting with the DataFrame."
   ]
  },
  {
   "cell_type": "code",
   "execution_count": 8,
   "metadata": {
    "colab": {
     "base_uri": "https://localhost:8080/",
     "height": 637
    },
    "id": "xUebRBMHuoRs",
    "outputId": "991b0e2e-bf65-4803-d606-eccbbe07ec11"
   },
   "outputs": [
    {
     "data": {
      "text/html": [
       "<div>\n",
       "<style scoped>\n",
       "    .dataframe tbody tr th:only-of-type {\n",
       "        vertical-align: middle;\n",
       "    }\n",
       "\n",
       "    .dataframe tbody tr th {\n",
       "        vertical-align: top;\n",
       "    }\n",
       "\n",
       "    .dataframe thead th {\n",
       "        text-align: right;\n",
       "    }\n",
       "</style>\n",
       "<table border=\"1\" class=\"dataframe\">\n",
       "  <thead>\n",
       "    <tr style=\"text-align: right;\">\n",
       "      <th></th>\n",
       "      <th>domain</th>\n",
       "      <th>count</th>\n",
       "    </tr>\n",
       "  </thead>\n",
       "  <tbody>\n",
       "    <tr>\n",
       "      <th>0</th>\n",
       "      <td>news.ontario.ca</td>\n",
       "      <td>667067</td>\n",
       "    </tr>\n",
       "    <tr>\n",
       "      <th>1</th>\n",
       "      <td>twitter.com</td>\n",
       "      <td>263231</td>\n",
       "    </tr>\n",
       "    <tr>\n",
       "      <th>2</th>\n",
       "      <td>googleads.g.doubleclick.net</td>\n",
       "      <td>258230</td>\n",
       "    </tr>\n",
       "    <tr>\n",
       "      <th>3</th>\n",
       "      <td>data.ontario.ca</td>\n",
       "      <td>228838</td>\n",
       "    </tr>\n",
       "    <tr>\n",
       "      <th>4</th>\n",
       "      <td>ontario.ca</td>\n",
       "      <td>207518</td>\n",
       "    </tr>\n",
       "    <tr>\n",
       "      <th>...</th>\n",
       "      <td>...</td>\n",
       "      <td>...</td>\n",
       "    </tr>\n",
       "    <tr>\n",
       "      <th>49037</th>\n",
       "      <td>340dc4b6ce4a3baad39ad6ccfdaa179a.safeframe.goo...</td>\n",
       "      <td>1</td>\n",
       "    </tr>\n",
       "    <tr>\n",
       "      <th>49038</th>\n",
       "      <td>d1d730447b42200b84b5165d36c338fb.safeframe.goo...</td>\n",
       "      <td>1</td>\n",
       "    </tr>\n",
       "    <tr>\n",
       "      <th>49039</th>\n",
       "      <td>87847d95338d0e9e704e8fba20d5bee8.safeframe.goo...</td>\n",
       "      <td>1</td>\n",
       "    </tr>\n",
       "    <tr>\n",
       "      <th>49040</th>\n",
       "      <td>9de242284df0b079910cafb29d4836d1.safeframe.goo...</td>\n",
       "      <td>1</td>\n",
       "    </tr>\n",
       "    <tr>\n",
       "      <th>49041</th>\n",
       "      <td>a241063698690f3d971fde1b36ccbbab.safeframe.goo...</td>\n",
       "      <td>1</td>\n",
       "    </tr>\n",
       "  </tbody>\n",
       "</table>\n",
       "<p>49042 rows × 2 columns</p>\n",
       "</div>"
      ],
      "text/plain": [
       "                                                  domain   count\n",
       "0                                        news.ontario.ca  667067\n",
       "1                                            twitter.com  263231\n",
       "2                            googleads.g.doubleclick.net  258230\n",
       "3                                        data.ontario.ca  228838\n",
       "4                                             ontario.ca  207518\n",
       "...                                                  ...     ...\n",
       "49037  340dc4b6ce4a3baad39ad6ccfdaa179a.safeframe.goo...       1\n",
       "49038  d1d730447b42200b84b5165d36c338fb.safeframe.goo...       1\n",
       "49039  87847d95338d0e9e704e8fba20d5bee8.safeframe.goo...       1\n",
       "49040  9de242284df0b079910cafb29d4836d1.safeframe.goo...       1\n",
       "49041  a241063698690f3d971fde1b36ccbbab.safeframe.goo...       1\n",
       "\n",
       "[49042 rows x 2 columns]"
      ]
     },
     "execution_count": 8,
     "metadata": {},
     "output_type": "execute_result"
    }
   ],
   "source": [
    "domains = pd.read_csv('data/domain-frequency.csv')\n",
    "domains"
   ]
  },
  {
   "cell_type": "markdown",
   "metadata": {
    "id": "3HPwOCNAvqMe"
   },
   "source": [
    "# Data Analysis\n",
    "\n",
    "Now that we have all of our datasets loaded up, we can begin to work with them!"
   ]
  },
  {
   "cell_type": "markdown",
   "metadata": {
    "id": "J6Pkg0prv3BE"
   },
   "source": [
    "## Counting total files, and unique files\n"
   ]
  },
  {
   "cell_type": "markdown",
   "metadata": {
    "id": "DFX4Gl3wv7bi"
   },
   "source": [
    "\n",
    "#### Count number of rows (how many images are in the web archive collection).\n"
   ]
  },
  {
   "cell_type": "code",
   "execution_count": 9,
   "metadata": {
    "colab": {
     "base_uri": "https://localhost:8080/"
    },
    "id": "bn-1v127aKIG",
    "outputId": "c986ed1b-e9db-473e-ab7b-c3e372a3c72c"
   },
   "outputs": [
    {
     "data": {
      "text/plain": [
       "crawl_date              2635889\n",
       "url                     2635889\n",
       "filename                2629110\n",
       "extension               2635889\n",
       "mime_type_web_server    2635843\n",
       "mime_type_tika          2635889\n",
       "width                   2635889\n",
       "height                  2635889\n",
       "md5                     2635889\n",
       "sha1                    2635889\n",
       "dtype: int64"
      ]
     },
     "execution_count": 9,
     "metadata": {},
     "output_type": "execute_result"
    }
   ],
   "source": [
    "images.count()"
   ]
  },
  {
   "cell_type": "markdown",
   "metadata": {
    "id": "38veKiPhwKo4"
   },
   "source": [
    " #### How many unique images are in the collection?\n",
    "\n",
    " We can see if an image is unique or not by computing an [MD5 hash](https://en.wikipedia.org/wiki/MD5#MD5_hashes) of it. The exact same image might be called `example.jpg` and `foo.jpg` - by computing the hash, we can see that even with different file names, they are actually the same image!\n",
    "\n",
    "\n"
   ]
  },
  {
   "cell_type": "code",
   "execution_count": 10,
   "metadata": {
    "colab": {
     "base_uri": "https://localhost:8080/"
    },
    "id": "WesM3kQowM5B",
    "outputId": "12edf49f-bd3e-4a3e-cabf-1509540c283b"
   },
   "outputs": [
    {
     "data": {
      "text/plain": [
       "1736233"
      ]
     },
     "execution_count": 10,
     "metadata": {},
     "output_type": "execute_result"
    }
   ],
   "source": [
    "len(images.md5.unique())"
   ]
  },
  {
   "cell_type": "markdown",
   "metadata": {
    "id": "ZIXkI0-1wWQf"
   },
   "source": [
    "#### What are the top 10 most occurring images in the collection?\n",
    "\n",
    "Here we discover which image (or images) occur most frequently. "
   ]
  },
  {
   "cell_type": "code",
   "execution_count": 11,
   "metadata": {
    "colab": {
     "base_uri": "https://localhost:8080/"
    },
    "id": "8Ts03OFyjPIM",
    "outputId": "417f88f6-205c-4c36-fab4-ae0ede16e8c0"
   },
   "outputs": [
    {
     "data": {
      "text/plain": [
       "28d6814f309ea289f847c69cf91194c6    3999\n",
       "d89746888da2d9510b64a9f031eaecd5    2528\n",
       "9430fc14c5b042e3e239495358bbb09c    1311\n",
       "556cdbbf2f0bf9ebff23749b26b9928b    1306\n",
       "ad4b0f606e0f8465bc4c4c170b37e1a3     855\n",
       "d1af27fa69c64002a9c1b1c49bd333f7     654\n",
       "602b32edfe80692aeaed4538ce600d46     610\n",
       "09bd5b5426a668d935e28a5e7b667ac9     540\n",
       "b798f4ce7359fd815df4bdf76503b295     512\n",
       "e4d673a55c5656f19ef81563fb10884c     419\n",
       "Name: md5, dtype: int64"
      ]
     },
     "execution_count": 11,
     "metadata": {},
     "output_type": "execute_result"
    }
   ],
   "source": [
    "images['md5'].value_counts().head(10)"
   ]
  },
  {
   "cell_type": "markdown",
   "metadata": {
    "id": "FG7pGZUEwlaI"
   },
   "source": [
    "\n",
    "#### What's the information around all of the occurances of `b09dc3225d5e1377c52c06feddc33bfe`?\n",
    "\n",
    "What, you mean you don't know what `b09dc3225d5e1377c52c06feddc33bfe` means? Let's find those images in the DataFrame table - we can here see the real file name (`erosion.jpg`) and more importantly, its URL within the web archive.\n",
    "\n",
    "Note: You can also take of the Data Table extension to experiment with interacting with the DataFrame.\n"
   ]
  },
  {
   "cell_type": "code",
   "execution_count": 11,
   "metadata": {
    "colab": {
     "base_uri": "https://localhost:8080/",
     "height": 637
    },
    "id": "msmmm65lkSIK",
    "outputId": "751079ea-fe8f-42e4-aff2-29a0fbbed26a"
   },
   "outputs": [
    {
     "data": {
      "application/vnd.google.colaboratory.module+javascript": "\n      import \"https://ssl.gstatic.com/colaboratory/data_table/a6224c040fa35dcf/data_table.js\";\n\n      window.createDataTable({\n        data: [[{\n            'v': 46963,\n            'f': \"46963\",\n        },\n\"http://www.mddefp.gouv.qc.ca//poissons/st-charles/erosion.jpg\",\n\"erosion.jpg\",\n\"jpg\",\n\"image/jpeg\",\n\"image/jpeg\",\n{\n            'v': 310,\n            'f': \"310\",\n        },\n{\n            'v': 220,\n            'f': \"220\",\n        },\n\"b09dc3225d5e1377c52c06feddc33bfe\"],\n [{\n            'v': 46964,\n            'f': \"46964\",\n        },\n\"http://www.mddep.gouv.qc.ca/poissons/yamaska/erosion.jpg\",\n\"erosion.jpg\",\n\"jpg\",\n\"image/jpeg\",\n\"image/jpeg\",\n{\n            'v': 310,\n            'f': \"310\",\n        },\n{\n            'v': 220,\n            'f': \"220\",\n        },\n\"b09dc3225d5e1377c52c06feddc33bfe\"],\n [{\n            'v': 46965,\n            'f': \"46965\",\n        },\n\"http://mddefp.gouv.qc.ca/poissons/st-maurice/erosion.jpg\",\n\"erosion.jpg\",\n\"jpg\",\n\"image/jpeg\",\n\"image/jpeg\",\n{\n            'v': 310,\n            'f': \"310\",\n        },\n{\n            'v': 220,\n            'f': \"220\",\n        },\n\"b09dc3225d5e1377c52c06feddc33bfe\"],\n [{\n            'v': 46966,\n            'f': \"46966\",\n        },\n\"http://mddefp.gouv.qc.ca/poissons/st-francois/erosion.jpg\",\n\"erosion.jpg\",\n\"jpg\",\n\"image/jpeg\",\n\"image/jpeg\",\n{\n            'v': 310,\n            'f': \"310\",\n        },\n{\n            'v': 220,\n            'f': \"220\",\n        },\n\"b09dc3225d5e1377c52c06feddc33bfe\"],\n [{\n            'v': 46967,\n            'f': \"46967\",\n        },\n\"http://mddefp.gouv.qc.ca/poissons/chateauguay/erosion.jpg\",\n\"erosion.jpg\",\n\"jpg\",\n\"image/jpeg\",\n\"image/jpeg\",\n{\n            'v': 310,\n            'f': \"310\",\n        },\n{\n            'v': 220,\n            'f': \"220\",\n        },\n\"b09dc3225d5e1377c52c06feddc33bfe\"],\n [{\n            'v': 46968,\n            'f': \"46968\",\n        },\n\"http://mddefp.gouv.qc.ca/poissons/assomption/erosion.jpg\",\n\"erosion.jpg\",\n\"jpg\",\n\"image/jpeg\",\n\"image/jpeg\",\n{\n            'v': 310,\n            'f': \"310\",\n        },\n{\n            'v': 220,\n            'f': \"220\",\n        },\n\"b09dc3225d5e1377c52c06feddc33bfe\"],\n [{\n            'v': 46969,\n            'f': \"46969\",\n        },\n\"http://mddefp.gouv.qc.ca/poissons/richelieu/erosion.jpg\",\n\"erosion.jpg\",\n\"jpg\",\n\"image/jpeg\",\n\"image/jpeg\",\n{\n            'v': 310,\n            'f': \"310\",\n        },\n{\n            'v': 220,\n            'f': \"220\",\n        },\n\"b09dc3225d5e1377c52c06feddc33bfe\"],\n [{\n            'v': 46970,\n            'f': \"46970\",\n        },\n\"http://mddefp.gouv.qc.ca/poissons/yamaska/erosion.jpg\",\n\"erosion.jpg\",\n\"jpg\",\n\"image/jpeg\",\n\"image/jpeg\",\n{\n            'v': 310,\n            'f': \"310\",\n        },\n{\n            'v': 220,\n            'f': \"220\",\n        },\n\"b09dc3225d5e1377c52c06feddc33bfe\"],\n [{\n            'v': 46971,\n            'f': \"46971\",\n        },\n\"http://mddefp.gouv.qc.ca/poissons/chaudiere/erosion.jpg\",\n\"erosion.jpg\",\n\"jpg\",\n\"image/jpeg\",\n\"image/jpeg\",\n{\n            'v': 310,\n            'f': \"310\",\n        },\n{\n            'v': 220,\n            'f': \"220\",\n        },\n\"b09dc3225d5e1377c52c06feddc33bfe\"],\n [{\n            'v': 46972,\n            'f': \"46972\",\n        },\n\"http://mddefp.gouv.qc.ca/poissons/st-charles/erosion.jpg\",\n\"erosion.jpg\",\n\"jpg\",\n\"image/jpeg\",\n\"image/jpeg\",\n{\n            'v': 310,\n            'f': \"310\",\n        },\n{\n            'v': 220,\n            'f': \"220\",\n        },\n\"b09dc3225d5e1377c52c06feddc33bfe\"],\n [{\n            'v': 46973,\n            'f': \"46973\",\n        },\n\"http://www.mddep.gouv.qc.ca///poissons/chaudiere/erosion.jpg\",\n\"erosion.jpg\",\n\"jpg\",\n\"image/jpeg\",\n\"image/jpeg\",\n{\n            'v': 310,\n            'f': \"310\",\n        },\n{\n            'v': 220,\n            'f': \"220\",\n        },\n\"b09dc3225d5e1377c52c06feddc33bfe\"],\n [{\n            'v': 46974,\n            'f': \"46974\",\n        },\n\"http://www.mddep.gouv.qc.ca///poissons/st-maurice/erosion.jpg\",\n\"erosion.jpg\",\n\"jpg\",\n\"image/jpeg\",\n\"image/jpeg\",\n{\n            'v': 310,\n            'f': \"310\",\n        },\n{\n            'v': 220,\n            'f': \"220\",\n        },\n\"b09dc3225d5e1377c52c06feddc33bfe\"],\n [{\n            'v': 46975,\n            'f': \"46975\",\n        },\n\"http://www.mddefp.gouv.qc.ca///poissons/assomption/erosion.jpg\",\n\"erosion.jpg\",\n\"jpg\",\n\"image/jpeg\",\n\"image/jpeg\",\n{\n            'v': 310,\n            'f': \"310\",\n        },\n{\n            'v': 220,\n            'f': \"220\",\n        },\n\"b09dc3225d5e1377c52c06feddc33bfe\"],\n [{\n            'v': 46976,\n            'f': \"46976\",\n        },\n\"http://www.mddefp.gouv.qc.ca///poissons/richelieu/erosion.jpg\",\n\"erosion.jpg\",\n\"jpg\",\n\"image/jpeg\",\n\"image/jpeg\",\n{\n            'v': 310,\n            'f': \"310\",\n        },\n{\n            'v': 220,\n            'f': \"220\",\n        },\n\"b09dc3225d5e1377c52c06feddc33bfe\"],\n [{\n            'v': 46977,\n            'f': \"46977\",\n        },\n\"http://www.mddefp.gouv.qc.ca///poissons/yamaska/erosion.jpg\",\n\"erosion.jpg\",\n\"jpg\",\n\"image/jpeg\",\n\"image/jpeg\",\n{\n            'v': 310,\n            'f': \"310\",\n        },\n{\n            'v': 220,\n            'f': \"220\",\n        },\n\"b09dc3225d5e1377c52c06feddc33bfe\"],\n [{\n            'v': 46978,\n            'f': \"46978\",\n        },\n\"http://www.mddefp.gouv.qc.ca///poissons/st-francois/erosion.jpg\",\n\"erosion.jpg\",\n\"jpg\",\n\"image/jpeg\",\n\"image/jpeg\",\n{\n            'v': 310,\n            'f': \"310\",\n        },\n{\n            'v': 220,\n            'f': \"220\",\n        },\n\"b09dc3225d5e1377c52c06feddc33bfe\"],\n [{\n            'v': 46979,\n            'f': \"46979\",\n        },\n\"http://www.mddefp.gouv.qc.ca///poissons/st-maurice/erosion.jpg\",\n\"erosion.jpg\",\n\"jpg\",\n\"image/jpeg\",\n\"image/jpeg\",\n{\n            'v': 310,\n            'f': \"310\",\n        },\n{\n            'v': 220,\n            'f': \"220\",\n        },\n\"b09dc3225d5e1377c52c06feddc33bfe\"],\n [{\n            'v': 46980,\n            'f': \"46980\",\n        },\n\"http://www.mddefp.gouv.qc.ca//poissons/yamaska/erosion.jpg\",\n\"erosion.jpg\",\n\"jpg\",\n\"image/jpeg\",\n\"image/jpeg\",\n{\n            'v': 310,\n            'f': \"310\",\n        },\n{\n            'v': 220,\n            'f': \"220\",\n        },\n\"b09dc3225d5e1377c52c06feddc33bfe\"],\n [{\n            'v': 46981,\n            'f': \"46981\",\n        },\n\"http://www.mddefp.gouv.qc.ca//poissons/st-francois/erosion.jpg\",\n\"erosion.jpg\",\n\"jpg\",\n\"image/jpeg\",\n\"image/jpeg\",\n{\n            'v': 310,\n            'f': \"310\",\n        },\n{\n            'v': 220,\n            'f': \"220\",\n        },\n\"b09dc3225d5e1377c52c06feddc33bfe\"],\n [{\n            'v': 46982,\n            'f': \"46982\",\n        },\n\"http://www.mddefp.gouv.qc.ca////poissons/st-maurice/erosion.jpg\",\n\"erosion.jpg\",\n\"jpg\",\n\"image/jpeg\",\n\"image/jpeg\",\n{\n            'v': 310,\n            'f': \"310\",\n        },\n{\n            'v': 220,\n            'f': \"220\",\n        },\n\"b09dc3225d5e1377c52c06feddc33bfe\"],\n [{\n            'v': 46983,\n            'f': \"46983\",\n        },\n\"http://www.mddelcc.gouv.qc.ca//poissons/richelieu/erosion.jpg\",\n\"erosion.jpg\",\n\"jpg\",\n\"image/jpeg\",\n\"image/jpeg\",\n{\n            'v': 310,\n            'f': \"310\",\n        },\n{\n            'v': 220,\n            'f': \"220\",\n        },\n\"b09dc3225d5e1377c52c06feddc33bfe\"],\n [{\n            'v': 46984,\n            'f': \"46984\",\n        },\n\"http://www.mddep.gouv.qc.ca//poissons/assomption/erosion.jpg\",\n\"erosion.jpg\",\n\"jpg\",\n\"image/jpeg\",\n\"image/jpeg\",\n{\n            'v': 310,\n            'f': \"310\",\n        },\n{\n            'v': 220,\n            'f': \"220\",\n        },\n\"b09dc3225d5e1377c52c06feddc33bfe\"],\n [{\n            'v': 46985,\n            'f': \"46985\",\n        },\n\"http://www.mddelcc.gouv.qc.ca/poissons/chateauguay/erosion.jpg\",\n\"erosion.jpg\",\n\"jpg\",\n\"image/jpeg\",\n\"image/jpeg\",\n{\n            'v': 310,\n            'f': \"310\",\n        },\n{\n            'v': 220,\n            'f': \"220\",\n        },\n\"b09dc3225d5e1377c52c06feddc33bfe\"],\n [{\n            'v': 46986,\n            'f': \"46986\",\n        },\n\"http://mddep.gouv.qc.ca////poissons/richelieu/erosion.jpg\",\n\"erosion.jpg\",\n\"jpg\",\n\"image/jpeg\",\n\"image/jpeg\",\n{\n            'v': 310,\n            'f': \"310\",\n        },\n{\n            'v': 220,\n            'f': \"220\",\n        },\n\"b09dc3225d5e1377c52c06feddc33bfe\"],\n [{\n            'v': 46987,\n            'f': \"46987\",\n        },\n\"http://www.mddelcc.gouv.qc.ca//poissons/chaudiere/erosion.jpg\",\n\"erosion.jpg\",\n\"jpg\",\n\"image/jpeg\",\n\"image/jpeg\",\n{\n            'v': 310,\n            'f': \"310\",\n        },\n{\n            'v': 220,\n            'f': \"220\",\n        },\n\"b09dc3225d5e1377c52c06feddc33bfe\"],\n [{\n            'v': 46988,\n            'f': \"46988\",\n        },\n\"http://www.mddelcc.gouv.qc.ca//poissons/st-maurice/erosion.jpg\",\n\"erosion.jpg\",\n\"jpg\",\n\"image/jpeg\",\n\"image/jpeg\",\n{\n            'v': 310,\n            'f': \"310\",\n        },\n{\n            'v': 220,\n            'f': \"220\",\n        },\n\"b09dc3225d5e1377c52c06feddc33bfe\"],\n [{\n            'v': 46989,\n            'f': \"46989\",\n        },\n\"http://mddep.gouv.qc.ca///poissons/chaudiere/erosion.jpg\",\n\"erosion.jpg\",\n\"jpg\",\n\"image/jpeg\",\n\"image/jpeg\",\n{\n            'v': 310,\n            'f': \"310\",\n        },\n{\n            'v': 220,\n            'f': \"220\",\n        },\n\"b09dc3225d5e1377c52c06feddc33bfe\"],\n [{\n            'v': 46990,\n            'f': \"46990\",\n        },\n\"http://mddep.gouv.qc.ca///poissons/chateauguay/erosion.jpg\",\n\"erosion.jpg\",\n\"jpg\",\n\"image/jpeg\",\n\"image/jpeg\",\n{\n            'v': 310,\n            'f': \"310\",\n        },\n{\n            'v': 220,\n            'f': \"220\",\n        },\n\"b09dc3225d5e1377c52c06feddc33bfe\"],\n [{\n            'v': 46991,\n            'f': \"46991\",\n        },\n\"http://mddep.gouv.qc.ca//poissons/richelieu/erosion.jpg\",\n\"erosion.jpg\",\n\"jpg\",\n\"image/jpeg\",\n\"image/jpeg\",\n{\n            'v': 310,\n            'f': \"310\",\n        },\n{\n            'v': 220,\n            'f': \"220\",\n        },\n\"b09dc3225d5e1377c52c06feddc33bfe\"],\n [{\n            'v': 46992,\n            'f': \"46992\",\n        },\n\"http://www.mddep.gouv.qc.ca//poissons/st-francois/erosion.jpg\",\n\"erosion.jpg\",\n\"jpg\",\n\"image/jpeg\",\n\"image/jpeg\",\n{\n            'v': 310,\n            'f': \"310\",\n        },\n{\n            'v': 220,\n            'f': \"220\",\n        },\n\"b09dc3225d5e1377c52c06feddc33bfe\"],\n [{\n            'v': 46993,\n            'f': \"46993\",\n        },\n\"http://mddep.gouv.qc.ca////poissons/assomption/erosion.jpg\",\n\"erosion.jpg\",\n\"jpg\",\n\"image/jpeg\",\n\"image/jpeg\",\n{\n            'v': 310,\n            'f': \"310\",\n        },\n{\n            'v': 220,\n            'f': \"220\",\n        },\n\"b09dc3225d5e1377c52c06feddc33bfe\"],\n [{\n            'v': 46994,\n            'f': \"46994\",\n        },\n\"http://mddep.gouv.qc.ca////poissons/st-francois/erosion.jpg\",\n\"erosion.jpg\",\n\"jpg\",\n\"image/jpeg\",\n\"image/jpeg\",\n{\n            'v': 310,\n            'f': \"310\",\n        },\n{\n            'v': 220,\n            'f': \"220\",\n        },\n\"b09dc3225d5e1377c52c06feddc33bfe\"],\n [{\n            'v': 46995,\n            'f': \"46995\",\n        },\n\"http://mddep.gouv.qc.ca////poissons/yamaska/erosion.jpg\",\n\"erosion.jpg\",\n\"jpg\",\n\"image/jpeg\",\n\"image/jpeg\",\n{\n            'v': 310,\n            'f': \"310\",\n        },\n{\n            'v': 220,\n            'f': \"220\",\n        },\n\"b09dc3225d5e1377c52c06feddc33bfe\"],\n [{\n            'v': 46996,\n            'f': \"46996\",\n        },\n\"http://www.mddep.gouv.qc.ca/poissons/st-charles/erosion.jpg\",\n\"erosion.jpg\",\n\"jpg\",\n\"image/jpeg\",\n\"image/jpeg\",\n{\n            'v': 310,\n            'f': \"310\",\n        },\n{\n            'v': 220,\n            'f': \"220\",\n        },\n\"b09dc3225d5e1377c52c06feddc33bfe\"],\n [{\n            'v': 46997,\n            'f': \"46997\",\n        },\n\"http://www.mddep.gouv.qc.ca/poissons/chateauguay/erosion.jpg\",\n\"erosion.jpg\",\n\"jpg\",\n\"image/jpeg\",\n\"image/jpeg\",\n{\n            'v': 310,\n            'f': \"310\",\n        },\n{\n            'v': 220,\n            'f': \"220\",\n        },\n\"b09dc3225d5e1377c52c06feddc33bfe\"],\n [{\n            'v': 46998,\n            'f': \"46998\",\n        },\n\"http://www.mddep.gouv.qc.ca/poissons/st-maurice/erosion.jpg\",\n\"erosion.jpg\",\n\"jpg\",\n\"image/jpeg\",\n\"image/jpeg\",\n{\n            'v': 310,\n            'f': \"310\",\n        },\n{\n            'v': 220,\n            'f': \"220\",\n        },\n\"b09dc3225d5e1377c52c06feddc33bfe\"],\n [{\n            'v': 46999,\n            'f': \"46999\",\n        },\n\"http://www.mddep.gouv.qc.ca/poissons/st-francois/erosion.jpg\",\n\"erosion.jpg\",\n\"jpg\",\n\"image/jpeg\",\n\"image/jpeg\",\n{\n            'v': 310,\n            'f': \"310\",\n        },\n{\n            'v': 220,\n            'f': \"220\",\n        },\n\"b09dc3225d5e1377c52c06feddc33bfe\"],\n [{\n            'v': 47000,\n            'f': \"47000\",\n        },\n\"http://www.mddep.gouv.qc.ca/poissons/assomption/erosion.jpg\",\n\"erosion.jpg\",\n\"jpg\",\n\"image/jpeg\",\n\"image/jpeg\",\n{\n            'v': 310,\n            'f': \"310\",\n        },\n{\n            'v': 220,\n            'f': \"220\",\n        },\n\"b09dc3225d5e1377c52c06feddc33bfe\"],\n [{\n            'v': 47001,\n            'f': \"47001\",\n        },\n\"http://www.mddep.gouv.qc.ca/poissons/yamaska/erosion.jpg\",\n\"erosion.jpg\",\n\"jpg\",\n\"image/jpeg\",\n\"image/jpeg\",\n{\n            'v': 310,\n            'f': \"310\",\n        },\n{\n            'v': 220,\n            'f': \"220\",\n        },\n\"b09dc3225d5e1377c52c06feddc33bfe\"],\n [{\n            'v': 47002,\n            'f': \"47002\",\n        },\n\"http://www.mddep.gouv.qc.ca/poissons/richelieu/erosion.jpg\",\n\"erosion.jpg\",\n\"jpg\",\n\"image/jpeg\",\n\"image/jpeg\",\n{\n            'v': 310,\n            'f': \"310\",\n        },\n{\n            'v': 220,\n            'f': \"220\",\n        },\n\"b09dc3225d5e1377c52c06feddc33bfe\"],\n [{\n            'v': 47003,\n            'f': \"47003\",\n        },\n\"http://www.mddep.gouv.qc.ca///poissons/st-charles/erosion.jpg\",\n\"erosion.jpg\",\n\"jpg\",\n\"image/jpeg\",\n\"image/jpeg\",\n{\n            'v': 310,\n            'f': \"310\",\n        },\n{\n            'v': 220,\n            'f': \"220\",\n        },\n\"b09dc3225d5e1377c52c06feddc33bfe\"],\n [{\n            'v': 47004,\n            'f': \"47004\",\n        },\n\"http://www.mddefp.gouv.qc.ca//poissons/st-maurice/erosion.jpg\",\n\"erosion.jpg\",\n\"jpg\",\n\"image/jpeg\",\n\"image/jpeg\",\n{\n            'v': 310,\n            'f': \"310\",\n        },\n{\n            'v': 220,\n            'f': \"220\",\n        },\n\"b09dc3225d5e1377c52c06feddc33bfe\"],\n [{\n            'v': 47005,\n            'f': \"47005\",\n        },\n\"http://www.mddefp.gouv.qc.ca//poissons/chaudiere/erosion.jpg\",\n\"erosion.jpg\",\n\"jpg\",\n\"image/jpeg\",\n\"image/jpeg\",\n{\n            'v': 310,\n            'f': \"310\",\n        },\n{\n            'v': 220,\n            'f': \"220\",\n        },\n\"b09dc3225d5e1377c52c06feddc33bfe\"],\n [{\n            'v': 47006,\n            'f': \"47006\",\n        },\n\"http://www.mddefp.gouv.qc.ca////poissons/st-charles/erosion.jpg\",\n\"erosion.jpg\",\n\"jpg\",\n\"image/jpeg\",\n\"image/jpeg\",\n{\n            'v': 310,\n            'f': \"310\",\n        },\n{\n            'v': 220,\n            'f': \"220\",\n        },\n\"b09dc3225d5e1377c52c06feddc33bfe\"],\n [{\n            'v': 47007,\n            'f': \"47007\",\n        },\n\"http://www.mddefp.gouv.qc.ca////poissons/chaudiere/erosion.jpg\",\n\"erosion.jpg\",\n\"jpg\",\n\"image/jpeg\",\n\"image/jpeg\",\n{\n            'v': 310,\n            'f': \"310\",\n        },\n{\n            'v': 220,\n            'f': \"220\",\n        },\n\"b09dc3225d5e1377c52c06feddc33bfe\"],\n [{\n            'v': 47008,\n            'f': \"47008\",\n        },\n\"http://www.mddefp.gouv.qc.ca////poissons/chateauguay/erosion.jpg\",\n\"erosion.jpg\",\n\"jpg\",\n\"image/jpeg\",\n\"image/jpeg\",\n{\n            'v': 310,\n            'f': \"310\",\n        },\n{\n            'v': 220,\n            'f': \"220\",\n        },\n\"b09dc3225d5e1377c52c06feddc33bfe\"],\n [{\n            'v': 47009,\n            'f': \"47009\",\n        },\n\"http://www.mddefp.gouv.qc.ca////poissons/richelieu/erosion.jpg\",\n\"erosion.jpg\",\n\"jpg\",\n\"image/jpeg\",\n\"image/jpeg\",\n{\n            'v': 310,\n            'f': \"310\",\n        },\n{\n            'v': 220,\n            'f': \"220\",\n        },\n\"b09dc3225d5e1377c52c06feddc33bfe\"],\n [{\n            'v': 47010,\n            'f': \"47010\",\n        },\n\"http://www.mddefp.gouv.qc.ca//poissons/st-maurice/erosion.jpg\",\n\"erosion.jpg\",\n\"jpg\",\n\"image/jpeg\",\n\"image/jpeg\",\n{\n            'v': 310,\n            'f': \"310\",\n        },\n{\n            'v': 220,\n            'f': \"220\",\n        },\n\"b09dc3225d5e1377c52c06feddc33bfe\"],\n [{\n            'v': 47011,\n            'f': \"47011\",\n        },\n\"http://mddefp.gouv.qc.ca/poissons/st-charles/erosion.jpg\",\n\"erosion.jpg\",\n\"jpg\",\n\"image/jpeg\",\n\"image/jpeg\",\n{\n            'v': 310,\n            'f': \"310\",\n        },\n{\n            'v': 220,\n            'f': \"220\",\n        },\n\"b09dc3225d5e1377c52c06feddc33bfe\"],\n [{\n            'v': 47012,\n            'f': \"47012\",\n        },\n\"http://www.mddelcc.gouv.qc.ca/poissons/chaudiere/erosion.jpg\",\n\"erosion.jpg\",\n\"jpg\",\n\"image/jpeg\",\n\"image/jpeg\",\n{\n            'v': 310,\n            'f': \"310\",\n        },\n{\n            'v': 220,\n            'f': \"220\",\n        },\n\"b09dc3225d5e1377c52c06feddc33bfe\"],\n [{\n            'v': 47013,\n            'f': \"47013\",\n        },\n\"http://www.mddelcc.gouv.qc.ca//poissons/st-charles/erosion.jpg\",\n\"erosion.jpg\",\n\"jpg\",\n\"image/jpeg\",\n\"image/jpeg\",\n{\n            'v': 310,\n            'f': \"310\",\n        },\n{\n            'v': 220,\n            'f': \"220\",\n        },\n\"b09dc3225d5e1377c52c06feddc33bfe\"],\n [{\n            'v': 47014,\n            'f': \"47014\",\n        },\n\"http://www.mddefp.gouv.qc.ca///poissons/st-charles/erosion.jpg\",\n\"erosion.jpg\",\n\"jpg\",\n\"image/jpeg\",\n\"image/jpeg\",\n{\n            'v': 310,\n            'f': \"310\",\n        },\n{\n            'v': 220,\n            'f': \"220\",\n        },\n\"b09dc3225d5e1377c52c06feddc33bfe\"],\n [{\n            'v': 47015,\n            'f': \"47015\",\n        },\n\"http://www.mddefp.gouv.qc.ca///poissons/assomption/erosion.jpg\",\n\"erosion.jpg\",\n\"jpg\",\n\"image/jpeg\",\n\"image/jpeg\",\n{\n            'v': 310,\n            'f': \"310\",\n        },\n{\n            'v': 220,\n            'f': \"220\",\n        },\n\"b09dc3225d5e1377c52c06feddc33bfe\"],\n [{\n            'v': 47016,\n            'f': \"47016\",\n        },\n\"http://mddep.gouv.qc.ca///poissons/st-charles/erosion.jpg\",\n\"erosion.jpg\",\n\"jpg\",\n\"image/jpeg\",\n\"image/jpeg\",\n{\n            'v': 310,\n            'f': \"310\",\n        },\n{\n            'v': 220,\n            'f': \"220\",\n        },\n\"b09dc3225d5e1377c52c06feddc33bfe\"],\n [{\n            'v': 47017,\n            'f': \"47017\",\n        },\n\"http://mddep.gouv.qc.ca///poissons/st-maurice/erosion.jpg\",\n\"erosion.jpg\",\n\"jpg\",\n\"image/jpeg\",\n\"image/jpeg\",\n{\n            'v': 310,\n            'f': \"310\",\n        },\n{\n            'v': 220,\n            'f': \"220\",\n        },\n\"b09dc3225d5e1377c52c06feddc33bfe\"],\n [{\n            'v': 47018,\n            'f': \"47018\",\n        },\n\"http://mddep.gouv.qc.ca///poissons/richelieu/erosion.jpg\",\n\"erosion.jpg\",\n\"jpg\",\n\"image/jpeg\",\n\"image/jpeg\",\n{\n            'v': 310,\n            'f': \"310\",\n        },\n{\n            'v': 220,\n            'f': \"220\",\n        },\n\"b09dc3225d5e1377c52c06feddc33bfe\"],\n [{\n            'v': 47019,\n            'f': \"47019\",\n        },\n\"http://mddep.gouv.qc.ca///poissons/st-francois/erosion.jpg\",\n\"erosion.jpg\",\n\"jpg\",\n\"image/jpeg\",\n\"image/jpeg\",\n{\n            'v': 310,\n            'f': \"310\",\n        },\n{\n            'v': 220,\n            'f': \"220\",\n        },\n\"b09dc3225d5e1377c52c06feddc33bfe\"],\n [{\n            'v': 47020,\n            'f': \"47020\",\n        },\n\"http://www.mddefp.gouv.qc.ca/poissons/chaudiere/erosion.jpg\",\n\"erosion.jpg\",\n\"jpg\",\n\"image/jpeg\",\n\"image/jpeg\",\n{\n            'v': 310,\n            'f': \"310\",\n        },\n{\n            'v': 220,\n            'f': \"220\",\n        },\n\"b09dc3225d5e1377c52c06feddc33bfe\"],\n [{\n            'v': 47021,\n            'f': \"47021\",\n        },\n\"http://www.mddefp.gouv.qc.ca//poissons/st-francois/erosion.jpg\",\n\"erosion.jpg\",\n\"jpg\",\n\"image/jpeg\",\n\"image/jpeg\",\n{\n            'v': 310,\n            'f': \"310\",\n        },\n{\n            'v': 220,\n            'f': \"220\",\n        },\n\"b09dc3225d5e1377c52c06feddc33bfe\"],\n [{\n            'v': 47022,\n            'f': \"47022\",\n        },\n\"http://www.mddefp.gouv.qc.ca//poissons/richelieu/erosion.jpg\",\n\"erosion.jpg\",\n\"jpg\",\n\"image/jpeg\",\n\"image/jpeg\",\n{\n            'v': 310,\n            'f': \"310\",\n        },\n{\n            'v': 220,\n            'f': \"220\",\n        },\n\"b09dc3225d5e1377c52c06feddc33bfe\"],\n [{\n            'v': 47023,\n            'f': \"47023\",\n        },\n\"http://www.mddelcc.gouv.qc.ca/poissons/yamaska/erosion.jpg\",\n\"erosion.jpg\",\n\"jpg\",\n\"image/jpeg\",\n\"image/jpeg\",\n{\n            'v': 310,\n            'f': \"310\",\n        },\n{\n            'v': 220,\n            'f': \"220\",\n        },\n\"b09dc3225d5e1377c52c06feddc33bfe\"],\n [{\n            'v': 47024,\n            'f': \"47024\",\n        },\n\"http://www.mddelcc.gouv.qc.ca/poissons/st-charles/erosion.jpg\",\n\"erosion.jpg\",\n\"jpg\",\n\"image/jpeg\",\n\"image/jpeg\",\n{\n            'v': 310,\n            'f': \"310\",\n        },\n{\n            'v': 220,\n            'f': \"220\",\n        },\n\"b09dc3225d5e1377c52c06feddc33bfe\"],\n [{\n            'v': 47025,\n            'f': \"47025\",\n        },\n\"http://www.mddelcc.gouv.qc.ca/poissons/chateauguay/erosion.jpg\",\n\"erosion.jpg\",\n\"jpg\",\n\"image/jpeg\",\n\"image/jpeg\",\n{\n            'v': 310,\n            'f': \"310\",\n        },\n{\n            'v': 220,\n            'f': \"220\",\n        },\n\"b09dc3225d5e1377c52c06feddc33bfe\"],\n [{\n            'v': 47026,\n            'f': \"47026\",\n        },\n\"http://www.mddelcc.gouv.qc.ca/poissons/assomption/erosion.jpg\",\n\"erosion.jpg\",\n\"jpg\",\n\"image/jpeg\",\n\"image/jpeg\",\n{\n            'v': 310,\n            'f': \"310\",\n        },\n{\n            'v': 220,\n            'f': \"220\",\n        },\n\"b09dc3225d5e1377c52c06feddc33bfe\"],\n [{\n            'v': 47027,\n            'f': \"47027\",\n        },\n\"http://www.mddelcc.gouv.qc.ca/poissons/st-francois/erosion.jpg\",\n\"erosion.jpg\",\n\"jpg\",\n\"image/jpeg\",\n\"image/jpeg\",\n{\n            'v': 310,\n            'f': \"310\",\n        },\n{\n            'v': 220,\n            'f': \"220\",\n        },\n\"b09dc3225d5e1377c52c06feddc33bfe\"],\n [{\n            'v': 47028,\n            'f': \"47028\",\n        },\n\"http://www.mddelcc.gouv.qc.ca/poissons/chaudiere/erosion.jpg\",\n\"erosion.jpg\",\n\"jpg\",\n\"image/jpeg\",\n\"image/jpeg\",\n{\n            'v': 310,\n            'f': \"310\",\n        },\n{\n            'v': 220,\n            'f': \"220\",\n        },\n\"b09dc3225d5e1377c52c06feddc33bfe\"],\n [{\n            'v': 47029,\n            'f': \"47029\",\n        },\n\"http://www.mddelcc.gouv.qc.ca/poissons/st-maurice/erosion.jpg\",\n\"erosion.jpg\",\n\"jpg\",\n\"image/jpeg\",\n\"image/jpeg\",\n{\n            'v': 310,\n            'f': \"310\",\n        },\n{\n            'v': 220,\n            'f': \"220\",\n        },\n\"b09dc3225d5e1377c52c06feddc33bfe\"],\n [{\n            'v': 47030,\n            'f': \"47030\",\n        },\n\"http://www.mddelcc.gouv.qc.ca/poissons/richelieu/erosion.jpg\",\n\"erosion.jpg\",\n\"jpg\",\n\"image/jpeg\",\n\"image/jpeg\",\n{\n            'v': 310,\n            'f': \"310\",\n        },\n{\n            'v': 220,\n            'f': \"220\",\n        },\n\"b09dc3225d5e1377c52c06feddc33bfe\"],\n [{\n            'v': 47031,\n            'f': \"47031\",\n        },\n\"http://www.mddefp.gouv.qc.ca/poissons/st-maurice/erosion.jpg\",\n\"erosion.jpg\",\n\"jpg\",\n\"image/jpeg\",\n\"image/jpeg\",\n{\n            'v': 310,\n            'f': \"310\",\n        },\n{\n            'v': 220,\n            'f': \"220\",\n        },\n\"b09dc3225d5e1377c52c06feddc33bfe\"],\n [{\n            'v': 47032,\n            'f': \"47032\",\n        },\n\"http://www.mddefp.gouv.qc.ca////poissons/st-charles/erosion.jpg\",\n\"erosion.jpg\",\n\"jpg\",\n\"image/jpeg\",\n\"image/jpeg\",\n{\n            'v': 310,\n            'f': \"310\",\n        },\n{\n            'v': 220,\n            'f': \"220\",\n        },\n\"b09dc3225d5e1377c52c06feddc33bfe\"],\n [{\n            'v': 47033,\n            'f': \"47033\",\n        },\n\"http://www.mddefp.gouv.qc.ca////poissons/chaudiere/erosion.jpg\",\n\"erosion.jpg\",\n\"jpg\",\n\"image/jpeg\",\n\"image/jpeg\",\n{\n            'v': 310,\n            'f': \"310\",\n        },\n{\n            'v': 220,\n            'f': \"220\",\n        },\n\"b09dc3225d5e1377c52c06feddc33bfe\"],\n [{\n            'v': 47034,\n            'f': \"47034\",\n        },\n\"http://www.mddefp.gouv.qc.ca////poissons/chateauguay/erosion.jpg\",\n\"erosion.jpg\",\n\"jpg\",\n\"image/jpeg\",\n\"image/jpeg\",\n{\n            'v': 310,\n            'f': \"310\",\n        },\n{\n            'v': 220,\n            'f': \"220\",\n        },\n\"b09dc3225d5e1377c52c06feddc33bfe\"],\n [{\n            'v': 47035,\n            'f': \"47035\",\n        },\n\"http://www.mddefp.gouv.qc.ca////poissons/richelieu/erosion.jpg\",\n\"erosion.jpg\",\n\"jpg\",\n\"image/jpeg\",\n\"image/jpeg\",\n{\n            'v': 310,\n            'f': \"310\",\n        },\n{\n            'v': 220,\n            'f': \"220\",\n        },\n\"b09dc3225d5e1377c52c06feddc33bfe\"],\n [{\n            'v': 47036,\n            'f': \"47036\",\n        },\n\"http://www.mddep.gouv.qc.ca/poissons/richelieu/erosion.jpg\",\n\"erosion.jpg\",\n\"jpg\",\n\"image/jpeg\",\n\"image/jpeg\",\n{\n            'v': 310,\n            'f': \"310\",\n        },\n{\n            'v': 220,\n            'f': \"220\",\n        },\n\"b09dc3225d5e1377c52c06feddc33bfe\"],\n [{\n            'v': 47037,\n            'f': \"47037\",\n        },\n\"http://mddep.gouv.qc.ca///poissons/yamaska/erosion.jpg\",\n\"erosion.jpg\",\n\"jpg\",\n\"image/jpeg\",\n\"image/jpeg\",\n{\n            'v': 310,\n            'f': \"310\",\n        },\n{\n            'v': 220,\n            'f': \"220\",\n        },\n\"b09dc3225d5e1377c52c06feddc33bfe\"],\n [{\n            'v': 47038,\n            'f': \"47038\",\n        },\n\"http://mddep.gouv.qc.ca///poissons/assomption/erosion.jpg\",\n\"erosion.jpg\",\n\"jpg\",\n\"image/jpeg\",\n\"image/jpeg\",\n{\n            'v': 310,\n            'f': \"310\",\n        },\n{\n            'v': 220,\n            'f': \"220\",\n        },\n\"b09dc3225d5e1377c52c06feddc33bfe\"],\n [{\n            'v': 47039,\n            'f': \"47039\",\n        },\n\"http://www.mddep.gouv.qc.ca///poissons/st-francois/erosion.jpg\",\n\"erosion.jpg\",\n\"jpg\",\n\"image/jpeg\",\n\"image/jpeg\",\n{\n            'v': 310,\n            'f': \"310\",\n        },\n{\n            'v': 220,\n            'f': \"220\",\n        },\n\"b09dc3225d5e1377c52c06feddc33bfe\"],\n [{\n            'v': 47040,\n            'f': \"47040\",\n        },\n\"http://www.mddep.gouv.qc.ca///poissons/assomption/erosion.jpg\",\n\"erosion.jpg\",\n\"jpg\",\n\"image/jpeg\",\n\"image/jpeg\",\n{\n            'v': 310,\n            'f': \"310\",\n        },\n{\n            'v': 220,\n            'f': \"220\",\n        },\n\"b09dc3225d5e1377c52c06feddc33bfe\"],\n [{\n            'v': 47041,\n            'f': \"47041\",\n        },\n\"http://mddep.gouv.qc.ca////poissons/st-charles/erosion.jpg\",\n\"erosion.jpg\",\n\"jpg\",\n\"image/jpeg\",\n\"image/jpeg\",\n{\n            'v': 310,\n            'f': \"310\",\n        },\n{\n            'v': 220,\n            'f': \"220\",\n        },\n\"b09dc3225d5e1377c52c06feddc33bfe\"],\n [{\n            'v': 47042,\n            'f': \"47042\",\n        },\n\"http://www.mddep.gouv.qc.ca/poissons/st-maurice/erosion.jpg\",\n\"erosion.jpg\",\n\"jpg\",\n\"image/jpeg\",\n\"image/jpeg\",\n{\n            'v': 310,\n            'f': \"310\",\n        },\n{\n            'v': 220,\n            'f': \"220\",\n        },\n\"b09dc3225d5e1377c52c06feddc33bfe\"],\n [{\n            'v': 47043,\n            'f': \"47043\",\n        },\n\"http://www.mddep.gouv.qc.ca/poissons/st-francois/erosion.jpg\",\n\"erosion.jpg\",\n\"jpg\",\n\"image/jpeg\",\n\"image/jpeg\",\n{\n            'v': 310,\n            'f': \"310\",\n        },\n{\n            'v': 220,\n            'f': \"220\",\n        },\n\"b09dc3225d5e1377c52c06feddc33bfe\"],\n [{\n            'v': 47044,\n            'f': \"47044\",\n        },\n\"http://www.mddep.gouv.qc.ca/poissons/chaudiere/erosion.jpg\",\n\"erosion.jpg\",\n\"jpg\",\n\"image/jpeg\",\n\"image/jpeg\",\n{\n            'v': 310,\n            'f': \"310\",\n        },\n{\n            'v': 220,\n            'f': \"220\",\n        },\n\"b09dc3225d5e1377c52c06feddc33bfe\"],\n [{\n            'v': 47045,\n            'f': \"47045\",\n        },\n\"http://www.mddep.gouv.qc.ca/poissons/chateauguay/erosion.jpg\",\n\"erosion.jpg\",\n\"jpg\",\n\"image/jpeg\",\n\"image/jpeg\",\n{\n            'v': 310,\n            'f': \"310\",\n        },\n{\n            'v': 220,\n            'f': \"220\",\n        },\n\"b09dc3225d5e1377c52c06feddc33bfe\"],\n [{\n            'v': 47046,\n            'f': \"47046\",\n        },\n\"http://mddefp.gouv.qc.ca/poissons/st-francois/erosion.jpg\",\n\"erosion.jpg\",\n\"jpg\",\n\"image/jpeg\",\n\"image/jpeg\",\n{\n            'v': 310,\n            'f': \"310\",\n        },\n{\n            'v': 220,\n            'f': \"220\",\n        },\n\"b09dc3225d5e1377c52c06feddc33bfe\"],\n [{\n            'v': 47047,\n            'f': \"47047\",\n        },\n\"http://mddefp.gouv.qc.ca/poissons/yamaska/erosion.jpg\",\n\"erosion.jpg\",\n\"jpg\",\n\"image/jpeg\",\n\"image/jpeg\",\n{\n            'v': 310,\n            'f': \"310\",\n        },\n{\n            'v': 220,\n            'f': \"220\",\n        },\n\"b09dc3225d5e1377c52c06feddc33bfe\"],\n [{\n            'v': 47048,\n            'f': \"47048\",\n        },\n\"http://www.mddelcc.gouv.qc.ca/poissons/yamaska/erosion.jpg\",\n\"erosion.jpg\",\n\"jpg\",\n\"image/jpeg\",\n\"image/jpeg\",\n{\n            'v': 310,\n            'f': \"310\",\n        },\n{\n            'v': 220,\n            'f': \"220\",\n        },\n\"b09dc3225d5e1377c52c06feddc33bfe\"],\n [{\n            'v': 47049,\n            'f': \"47049\",\n        },\n\"http://mddep.gouv.qc.ca////poissons/chateauguay/erosion.jpg\",\n\"erosion.jpg\",\n\"jpg\",\n\"image/jpeg\",\n\"image/jpeg\",\n{\n            'v': 310,\n            'f': \"310\",\n        },\n{\n            'v': 220,\n            'f': \"220\",\n        },\n\"b09dc3225d5e1377c52c06feddc33bfe\"],\n [{\n            'v': 47050,\n            'f': \"47050\",\n        },\n\"http://www.mddelcc.gouv.qc.ca/poissons/st-charles/erosion.jpg\",\n\"erosion.jpg\",\n\"jpg\",\n\"image/jpeg\",\n\"image/jpeg\",\n{\n            'v': 310,\n            'f': \"310\",\n        },\n{\n            'v': 220,\n            'f': \"220\",\n        },\n\"b09dc3225d5e1377c52c06feddc33bfe\"],\n [{\n            'v': 47051,\n            'f': \"47051\",\n        },\n\"http://www.mddelcc.gouv.qc.ca//poissons/chateauguay/erosion.jpg\",\n\"erosion.jpg\",\n\"jpg\",\n\"image/jpeg\",\n\"image/jpeg\",\n{\n            'v': 310,\n            'f': \"310\",\n        },\n{\n            'v': 220,\n            'f': \"220\",\n        },\n\"b09dc3225d5e1377c52c06feddc33bfe\"],\n [{\n            'v': 47052,\n            'f': \"47052\",\n        },\n\"http://www.mddelcc.gouv.qc.ca/poissons/st-maurice/erosion.jpg\",\n\"erosion.jpg\",\n\"jpg\",\n\"image/jpeg\",\n\"image/jpeg\",\n{\n            'v': 310,\n            'f': \"310\",\n        },\n{\n            'v': 220,\n            'f': \"220\",\n        },\n\"b09dc3225d5e1377c52c06feddc33bfe\"],\n [{\n            'v': 47053,\n            'f': \"47053\",\n        },\n\"http://www.mddep.gouv.qc.ca//poissons/st-maurice/erosion.jpg\",\n\"erosion.jpg\",\n\"jpg\",\n\"image/jpeg\",\n\"image/jpeg\",\n{\n            'v': 310,\n            'f': \"310\",\n        },\n{\n            'v': 220,\n            'f': \"220\",\n        },\n\"b09dc3225d5e1377c52c06feddc33bfe\"],\n [{\n            'v': 47054,\n            'f': \"47054\",\n        },\n\"http://www.mddep.gouv.qc.ca////poissons/assomption/erosion.jpg\",\n\"erosion.jpg\",\n\"jpg\",\n\"image/jpeg\",\n\"image/jpeg\",\n{\n            'v': 310,\n            'f': \"310\",\n        },\n{\n            'v': 220,\n            'f': \"220\",\n        },\n\"b09dc3225d5e1377c52c06feddc33bfe\"],\n [{\n            'v': 47055,\n            'f': \"47055\",\n        },\n\"http://www.mddep.gouv.qc.ca////poissons/chaudiere/erosion.jpg\",\n\"erosion.jpg\",\n\"jpg\",\n\"image/jpeg\",\n\"image/jpeg\",\n{\n            'v': 310,\n            'f': \"310\",\n        },\n{\n            'v': 220,\n            'f': \"220\",\n        },\n\"b09dc3225d5e1377c52c06feddc33bfe\"],\n [{\n            'v': 47056,\n            'f': \"47056\",\n        },\n\"http://www.mddep.gouv.qc.ca////poissons/yamaska/erosion.jpg\",\n\"erosion.jpg\",\n\"jpg\",\n\"image/jpeg\",\n\"image/jpeg\",\n{\n            'v': 310,\n            'f': \"310\",\n        },\n{\n            'v': 220,\n            'f': \"220\",\n        },\n\"b09dc3225d5e1377c52c06feddc33bfe\"],\n [{\n            'v': 47057,\n            'f': \"47057\",\n        },\n\"http://www.mddep.gouv.qc.ca////poissons/st-francois/erosion.jpg\",\n\"erosion.jpg\",\n\"jpg\",\n\"image/jpeg\",\n\"image/jpeg\",\n{\n            'v': 310,\n            'f': \"310\",\n        },\n{\n            'v': 220,\n            'f': \"220\",\n        },\n\"b09dc3225d5e1377c52c06feddc33bfe\"],\n [{\n            'v': 47058,\n            'f': \"47058\",\n        },\n\"http://www.mddep.gouv.qc.ca////poissons/chateauguay/erosion.jpg\",\n\"erosion.jpg\",\n\"jpg\",\n\"image/jpeg\",\n\"image/jpeg\",\n{\n            'v': 310,\n            'f': \"310\",\n        },\n{\n            'v': 220,\n            'f': \"220\",\n        },\n\"b09dc3225d5e1377c52c06feddc33bfe\"],\n [{\n            'v': 47059,\n            'f': \"47059\",\n        },\n\"http://www.mddep.gouv.qc.ca////poissons/st-charles/erosion.jpg\",\n\"erosion.jpg\",\n\"jpg\",\n\"image/jpeg\",\n\"image/jpeg\",\n{\n            'v': 310,\n            'f': \"310\",\n        },\n{\n            'v': 220,\n            'f': \"220\",\n        },\n\"b09dc3225d5e1377c52c06feddc33bfe\"],\n [{\n            'v': 47060,\n            'f': \"47060\",\n        },\n\"http://mddep.gouv.qc.ca//poissons/st-francois/erosion.jpg\",\n\"erosion.jpg\",\n\"jpg\",\n\"image/jpeg\",\n\"image/jpeg\",\n{\n            'v': 310,\n            'f': \"310\",\n        },\n{\n            'v': 220,\n            'f': \"220\",\n        },\n\"b09dc3225d5e1377c52c06feddc33bfe\"],\n [{\n            'v': 47061,\n            'f': \"47061\",\n        },\n\"http://www.mddefp.gouv.qc.ca//poissons/richelieu/erosion.jpg\",\n\"erosion.jpg\",\n\"jpg\",\n\"image/jpeg\",\n\"image/jpeg\",\n{\n            'v': 310,\n            'f': \"310\",\n        },\n{\n            'v': 220,\n            'f': \"220\",\n        },\n\"b09dc3225d5e1377c52c06feddc33bfe\"],\n [{\n            'v': 47062,\n            'f': \"47062\",\n        },\n\"http://www.mddelcc.gouv.qc.ca/poissons/st-maurice/erosion.jpg\",\n\"erosion.jpg\",\n\"jpg\",\n\"image/jpeg\",\n\"image/jpeg\",\n{\n            'v': 310,\n            'f': \"310\",\n        },\n{\n            'v': 220,\n            'f': \"220\",\n        },\n\"b09dc3225d5e1377c52c06feddc33bfe\"],\n [{\n            'v': 47063,\n            'f': \"47063\",\n        },\n\"http://www.mddelcc.gouv.qc.ca/poissons/richelieu/erosion.jpg\",\n\"erosion.jpg\",\n\"jpg\",\n\"image/jpeg\",\n\"image/jpeg\",\n{\n            'v': 310,\n            'f': \"310\",\n        },\n{\n            'v': 220,\n            'f': \"220\",\n        },\n\"b09dc3225d5e1377c52c06feddc33bfe\"],\n [{\n            'v': 47064,\n            'f': \"47064\",\n        },\n\"http://www.mddelcc.gouv.qc.ca/poissons/st-francois/erosion.jpg\",\n\"erosion.jpg\",\n\"jpg\",\n\"image/jpeg\",\n\"image/jpeg\",\n{\n            'v': 310,\n            'f': \"310\",\n        },\n{\n            'v': 220,\n            'f': \"220\",\n        },\n\"b09dc3225d5e1377c52c06feddc33bfe\"],\n [{\n            'v': 47065,\n            'f': \"47065\",\n        },\n\"http://www.mddelcc.gouv.qc.ca/poissons/chaudiere/erosion.jpg\",\n\"erosion.jpg\",\n\"jpg\",\n\"image/jpeg\",\n\"image/jpeg\",\n{\n            'v': 310,\n            'f': \"310\",\n        },\n{\n            'v': 220,\n            'f': \"220\",\n        },\n\"b09dc3225d5e1377c52c06feddc33bfe\"],\n [{\n            'v': 47066,\n            'f': \"47066\",\n        },\n\"http://www.mddelcc.gouv.qc.ca/poissons/assomption/erosion.jpg\",\n\"erosion.jpg\",\n\"jpg\",\n\"image/jpeg\",\n\"image/jpeg\",\n{\n            'v': 310,\n            'f': \"310\",\n        },\n{\n            'v': 220,\n            'f': \"220\",\n        },\n\"b09dc3225d5e1377c52c06feddc33bfe\"],\n [{\n            'v': 47067,\n            'f': \"47067\",\n        },\n\"http://www.mddelcc.gouv.qc.ca/poissons/yamaska/erosion.jpg\",\n\"erosion.jpg\",\n\"jpg\",\n\"image/jpeg\",\n\"image/jpeg\",\n{\n            'v': 310,\n            'f': \"310\",\n        },\n{\n            'v': 220,\n            'f': \"220\",\n        },\n\"b09dc3225d5e1377c52c06feddc33bfe\"],\n [{\n            'v': 47068,\n            'f': \"47068\",\n        },\n\"http://www.mddelcc.gouv.qc.ca/poissons/st-charles/erosion.jpg\",\n\"erosion.jpg\",\n\"jpg\",\n\"image/jpeg\",\n\"image/jpeg\",\n{\n            'v': 310,\n            'f': \"310\",\n        },\n{\n            'v': 220,\n            'f': \"220\",\n        },\n\"b09dc3225d5e1377c52c06feddc33bfe\"],\n [{\n            'v': 47069,\n            'f': \"47069\",\n        },\n\"http://www.mddelcc.gouv.qc.ca/poissons/chateauguay/erosion.jpg\",\n\"erosion.jpg\",\n\"jpg\",\n\"image/jpeg\",\n\"image/jpeg\",\n{\n            'v': 310,\n            'f': \"310\",\n        },\n{\n            'v': 220,\n            'f': \"220\",\n        },\n\"b09dc3225d5e1377c52c06feddc33bfe\"],\n [{\n            'v': 47070,\n            'f': \"47070\",\n        },\n\"http://www.mddep.gouv.qc.ca/poissons/chaudiere/erosion.jpg\",\n\"erosion.jpg\",\n\"jpg\",\n\"image/jpeg\",\n\"image/jpeg\",\n{\n            'v': 310,\n            'f': \"310\",\n        },\n{\n            'v': 220,\n            'f': \"220\",\n        },\n\"b09dc3225d5e1377c52c06feddc33bfe\"],\n [{\n            'v': 47071,\n            'f': \"47071\",\n        },\n\"http://www.mddelcc.gouv.qc.ca/poissons/st-maurice/erosion.jpg\",\n\"erosion.jpg\",\n\"jpg\",\n\"image/jpeg\",\n\"image/jpeg\",\n{\n            'v': 310,\n            'f': \"310\",\n        },\n{\n            'v': 220,\n            'f': \"220\",\n        },\n\"b09dc3225d5e1377c52c06feddc33bfe\"],\n [{\n            'v': 47072,\n            'f': \"47072\",\n        },\n\"http://www.mddelcc.gouv.qc.ca/poissons/richelieu/erosion.jpg\",\n\"erosion.jpg\",\n\"jpg\",\n\"image/jpeg\",\n\"image/jpeg\",\n{\n            'v': 310,\n            'f': \"310\",\n        },\n{\n            'v': 220,\n            'f': \"220\",\n        },\n\"b09dc3225d5e1377c52c06feddc33bfe\"],\n [{\n            'v': 47073,\n            'f': \"47073\",\n        },\n\"http://www.mddelcc.gouv.qc.ca/poissons/st-francois/erosion.jpg\",\n\"erosion.jpg\",\n\"jpg\",\n\"image/jpeg\",\n\"image/jpeg\",\n{\n            'v': 310,\n            'f': \"310\",\n        },\n{\n            'v': 220,\n            'f': \"220\",\n        },\n\"b09dc3225d5e1377c52c06feddc33bfe\"],\n [{\n            'v': 47074,\n            'f': \"47074\",\n        },\n\"http://www.mddelcc.gouv.qc.ca/poissons/chaudiere/erosion.jpg\",\n\"erosion.jpg\",\n\"jpg\",\n\"image/jpeg\",\n\"image/jpeg\",\n{\n            'v': 310,\n            'f': \"310\",\n        },\n{\n            'v': 220,\n            'f': \"220\",\n        },\n\"b09dc3225d5e1377c52c06feddc33bfe\"],\n [{\n            'v': 47075,\n            'f': \"47075\",\n        },\n\"http://www.mddelcc.gouv.qc.ca/poissons/assomption/erosion.jpg\",\n\"erosion.jpg\",\n\"jpg\",\n\"image/jpeg\",\n\"image/jpeg\",\n{\n            'v': 310,\n            'f': \"310\",\n        },\n{\n            'v': 220,\n            'f': \"220\",\n        },\n\"b09dc3225d5e1377c52c06feddc33bfe\"],\n [{\n            'v': 47076,\n            'f': \"47076\",\n        },\n\"http://www.mddelcc.gouv.qc.ca/poissons/yamaska/erosion.jpg\",\n\"erosion.jpg\",\n\"jpg\",\n\"image/jpeg\",\n\"image/jpeg\",\n{\n            'v': 310,\n            'f': \"310\",\n        },\n{\n            'v': 220,\n            'f': \"220\",\n        },\n\"b09dc3225d5e1377c52c06feddc33bfe\"],\n [{\n            'v': 47077,\n            'f': \"47077\",\n        },\n\"http://www.mddelcc.gouv.qc.ca/poissons/st-charles/erosion.jpg\",\n\"erosion.jpg\",\n\"jpg\",\n\"image/jpeg\",\n\"image/jpeg\",\n{\n            'v': 310,\n            'f': \"310\",\n        },\n{\n            'v': 220,\n            'f': \"220\",\n        },\n\"b09dc3225d5e1377c52c06feddc33bfe\"],\n [{\n            'v': 47078,\n            'f': \"47078\",\n        },\n\"http://www.mddelcc.gouv.qc.ca/poissons/chateauguay/erosion.jpg\",\n\"erosion.jpg\",\n\"jpg\",\n\"image/jpeg\",\n\"image/jpeg\",\n{\n            'v': 310,\n            'f': \"310\",\n        },\n{\n            'v': 220,\n            'f': \"220\",\n        },\n\"b09dc3225d5e1377c52c06feddc33bfe\"],\n [{\n            'v': 47079,\n            'f': \"47079\",\n        },\n\"http://www.mddep.gouv.qc.ca/poissons/assomption/erosion.jpg\",\n\"erosion.jpg\",\n\"jpg\",\n\"image/jpeg\",\n\"image/jpeg\",\n{\n            'v': 310,\n            'f': \"310\",\n        },\n{\n            'v': 220,\n            'f': \"220\",\n        },\n\"b09dc3225d5e1377c52c06feddc33bfe\"],\n [{\n            'v': 47080,\n            'f': \"47080\",\n        },\n\"http://www.mddep.gouv.qc.ca/poissons/st-charles/erosion.jpg\",\n\"erosion.jpg\",\n\"jpg\",\n\"image/jpeg\",\n\"image/jpeg\",\n{\n            'v': 310,\n            'f': \"310\",\n        },\n{\n            'v': 220,\n            'f': \"220\",\n        },\n\"b09dc3225d5e1377c52c06feddc33bfe\"],\n [{\n            'v': 47081,\n            'f': \"47081\",\n        },\n\"http://mddefp.gouv.qc.ca/poissons/assomption/erosion.jpg\",\n\"erosion.jpg\",\n\"jpg\",\n\"image/jpeg\",\n\"image/jpeg\",\n{\n            'v': 310,\n            'f': \"310\",\n        },\n{\n            'v': 220,\n            'f': \"220\",\n        },\n\"b09dc3225d5e1377c52c06feddc33bfe\"],\n [{\n            'v': 47082,\n            'f': \"47082\",\n        },\n\"http://www.mddep.gouv.qc.ca/poissons/st-francois/erosion.jpg\",\n\"erosion.jpg\",\n\"jpg\",\n\"image/jpeg\",\n\"image/jpeg\",\n{\n            'v': 310,\n            'f': \"310\",\n        },\n{\n            'v': 220,\n            'f': \"220\",\n        },\n\"b09dc3225d5e1377c52c06feddc33bfe\"],\n [{\n            'v': 47083,\n            'f': \"47083\",\n        },\n\"http://www.mddep.gouv.qc.ca/poissons/chateauguay/erosion.jpg\",\n\"erosion.jpg\",\n\"jpg\",\n\"image/jpeg\",\n\"image/jpeg\",\n{\n            'v': 310,\n            'f': \"310\",\n        },\n{\n            'v': 220,\n            'f': \"220\",\n        },\n\"b09dc3225d5e1377c52c06feddc33bfe\"],\n [{\n            'v': 47084,\n            'f': \"47084\",\n        },\n\"http://www.mddep.gouv.qc.ca/poissons/assomption/erosion.jpg\",\n\"erosion.jpg\",\n\"jpg\",\n\"image/jpeg\",\n\"image/jpeg\",\n{\n            'v': 310,\n            'f': \"310\",\n        },\n{\n            'v': 220,\n            'f': \"220\",\n        },\n\"b09dc3225d5e1377c52c06feddc33bfe\"],\n [{\n            'v': 47085,\n            'f': \"47085\",\n        },\n\"http://mddep.gouv.qc.ca////poissons/st-maurice/erosion.jpg\",\n\"erosion.jpg\",\n\"jpg\",\n\"image/jpeg\",\n\"image/jpeg\",\n{\n            'v': 310,\n            'f': \"310\",\n        },\n{\n            'v': 220,\n            'f': \"220\",\n        },\n\"b09dc3225d5e1377c52c06feddc33bfe\"],\n [{\n            'v': 47086,\n            'f': \"47086\",\n        },\n\"http://mddep.gouv.qc.ca//poissons/yamaska/erosion.jpg\",\n\"erosion.jpg\",\n\"jpg\",\n\"image/jpeg\",\n\"image/jpeg\",\n{\n            'v': 310,\n            'f': \"310\",\n        },\n{\n            'v': 220,\n            'f': \"220\",\n        },\n\"b09dc3225d5e1377c52c06feddc33bfe\"],\n [{\n            'v': 47087,\n            'f': \"47087\",\n        },\n\"http://mddep.gouv.qc.ca//poissons/assomption/erosion.jpg\",\n\"erosion.jpg\",\n\"jpg\",\n\"image/jpeg\",\n\"image/jpeg\",\n{\n            'v': 310,\n            'f': \"310\",\n        },\n{\n            'v': 220,\n            'f': \"220\",\n        },\n\"b09dc3225d5e1377c52c06feddc33bfe\"],\n [{\n            'v': 47088,\n            'f': \"47088\",\n        },\n\"http://www.mddefp.gouv.qc.ca//poissons/st-charles/erosion.jpg\",\n\"erosion.jpg\",\n\"jpg\",\n\"image/jpeg\",\n\"image/jpeg\",\n{\n            'v': 310,\n            'f': \"310\",\n        },\n{\n            'v': 220,\n            'f': \"220\",\n        },\n\"b09dc3225d5e1377c52c06feddc33bfe\"],\n [{\n            'v': 47089,\n            'f': \"47089\",\n        },\n\"http://www.mddefp.gouv.qc.ca////poissons/st-francois/erosion.jpg\",\n\"erosion.jpg\",\n\"jpg\",\n\"image/jpeg\",\n\"image/jpeg\",\n{\n            'v': 310,\n            'f': \"310\",\n        },\n{\n            'v': 220,\n            'f': \"220\",\n        },\n\"b09dc3225d5e1377c52c06feddc33bfe\"],\n [{\n            'v': 47090,\n            'f': \"47090\",\n        },\n\"http://www.mddefp.gouv.qc.ca////poissons/yamaska/erosion.jpg\",\n\"erosion.jpg\",\n\"jpg\",\n\"image/jpeg\",\n\"image/jpeg\",\n{\n            'v': 310,\n            'f': \"310\",\n        },\n{\n            'v': 220,\n            'f': \"220\",\n        },\n\"b09dc3225d5e1377c52c06feddc33bfe\"],\n [{\n            'v': 47091,\n            'f': \"47091\",\n        },\n\"http://www.mddefp.gouv.qc.ca////poissons/st-maurice/erosion.jpg\",\n\"erosion.jpg\",\n\"jpg\",\n\"image/jpeg\",\n\"image/jpeg\",\n{\n            'v': 310,\n            'f': \"310\",\n        },\n{\n            'v': 220,\n            'f': \"220\",\n        },\n\"b09dc3225d5e1377c52c06feddc33bfe\"],\n [{\n            'v': 47092,\n            'f': \"47092\",\n        },\n\"http://mddefp.gouv.qc.ca/poissons/assomption/erosion.jpg\",\n\"erosion.jpg\",\n\"jpg\",\n\"image/jpeg\",\n\"image/jpeg\",\n{\n            'v': 310,\n            'f': \"310\",\n        },\n{\n            'v': 220,\n            'f': \"220\",\n        },\n\"b09dc3225d5e1377c52c06feddc33bfe\"],\n [{\n            'v': 47093,\n            'f': \"47093\",\n        },\n\"http://mddefp.gouv.qc.ca/poissons/chateauguay/erosion.jpg\",\n\"erosion.jpg\",\n\"jpg\",\n\"image/jpeg\",\n\"image/jpeg\",\n{\n            'v': 310,\n            'f': \"310\",\n        },\n{\n            'v': 220,\n            'f': \"220\",\n        },\n\"b09dc3225d5e1377c52c06feddc33bfe\"],\n [{\n            'v': 47094,\n            'f': \"47094\",\n        },\n\"http://mddefp.gouv.qc.ca/poissons/st-francois/erosion.jpg\",\n\"erosion.jpg\",\n\"jpg\",\n\"image/jpeg\",\n\"image/jpeg\",\n{\n            'v': 310,\n            'f': \"310\",\n        },\n{\n            'v': 220,\n            'f': \"220\",\n        },\n\"b09dc3225d5e1377c52c06feddc33bfe\"],\n [{\n            'v': 47095,\n            'f': \"47095\",\n        },\n\"http://mddefp.gouv.qc.ca/poissons/st-maurice/erosion.jpg\",\n\"erosion.jpg\",\n\"jpg\",\n\"image/jpeg\",\n\"image/jpeg\",\n{\n            'v': 310,\n            'f': \"310\",\n        },\n{\n            'v': 220,\n            'f': \"220\",\n        },\n\"b09dc3225d5e1377c52c06feddc33bfe\"],\n [{\n            'v': 47096,\n            'f': \"47096\",\n        },\n\"http://mddefp.gouv.qc.ca/poissons/richelieu/erosion.jpg\",\n\"erosion.jpg\",\n\"jpg\",\n\"image/jpeg\",\n\"image/jpeg\",\n{\n            'v': 310,\n            'f': \"310\",\n        },\n{\n            'v': 220,\n            'f': \"220\",\n        },\n\"b09dc3225d5e1377c52c06feddc33bfe\"],\n [{\n            'v': 47097,\n            'f': \"47097\",\n        },\n\"http://mddefp.gouv.qc.ca/poissons/yamaska/erosion.jpg\",\n\"erosion.jpg\",\n\"jpg\",\n\"image/jpeg\",\n\"image/jpeg\",\n{\n            'v': 310,\n            'f': \"310\",\n        },\n{\n            'v': 220,\n            'f': \"220\",\n        },\n\"b09dc3225d5e1377c52c06feddc33bfe\"],\n [{\n            'v': 47098,\n            'f': \"47098\",\n        },\n\"http://mddefp.gouv.qc.ca/poissons/chaudiere/erosion.jpg\",\n\"erosion.jpg\",\n\"jpg\",\n\"image/jpeg\",\n\"image/jpeg\",\n{\n            'v': 310,\n            'f': \"310\",\n        },\n{\n            'v': 220,\n            'f': \"220\",\n        },\n\"b09dc3225d5e1377c52c06feddc33bfe\"],\n [{\n            'v': 47099,\n            'f': \"47099\",\n        },\n\"http://www.mddep.gouv.qc.ca/poissons/st-maurice/erosion.jpg\",\n\"erosion.jpg\",\n\"jpg\",\n\"image/jpeg\",\n\"image/jpeg\",\n{\n            'v': 310,\n            'f': \"310\",\n        },\n{\n            'v': 220,\n            'f': \"220\",\n        },\n\"b09dc3225d5e1377c52c06feddc33bfe\"],\n [{\n            'v': 47100,\n            'f': \"47100\",\n        },\n\"http://www.mddep.gouv.qc.ca/poissons/chateauguay/erosion.jpg\",\n\"erosion.jpg\",\n\"jpg\",\n\"image/jpeg\",\n\"image/jpeg\",\n{\n            'v': 310,\n            'f': \"310\",\n        },\n{\n            'v': 220,\n            'f': \"220\",\n        },\n\"b09dc3225d5e1377c52c06feddc33bfe\"],\n [{\n            'v': 47101,\n            'f': \"47101\",\n        },\n\"http://www.mddep.gouv.qc.ca/poissons/chaudiere/erosion.jpg\",\n\"erosion.jpg\",\n\"jpg\",\n\"image/jpeg\",\n\"image/jpeg\",\n{\n            'v': 310,\n            'f': \"310\",\n        },\n{\n            'v': 220,\n            'f': \"220\",\n        },\n\"b09dc3225d5e1377c52c06feddc33bfe\"],\n [{\n            'v': 47102,\n            'f': \"47102\",\n        },\n\"http://www.mddefp.gouv.qc.ca///poissons/st-francois/erosion.jpg\",\n\"erosion.jpg\",\n\"jpg\",\n\"image/jpeg\",\n\"image/jpeg\",\n{\n            'v': 310,\n            'f': \"310\",\n        },\n{\n            'v': 220,\n            'f': \"220\",\n        },\n\"b09dc3225d5e1377c52c06feddc33bfe\"],\n [{\n            'v': 47103,\n            'f': \"47103\",\n        },\n\"http://www.mddefp.gouv.qc.ca///poissons/yamaska/erosion.jpg\",\n\"erosion.jpg\",\n\"jpg\",\n\"image/jpeg\",\n\"image/jpeg\",\n{\n            'v': 310,\n            'f': \"310\",\n        },\n{\n            'v': 220,\n            'f': \"220\",\n        },\n\"b09dc3225d5e1377c52c06feddc33bfe\"],\n [{\n            'v': 47104,\n            'f': \"47104\",\n        },\n\"http://www.mddefp.gouv.qc.ca///poissons/richelieu/erosion.jpg\",\n\"erosion.jpg\",\n\"jpg\",\n\"image/jpeg\",\n\"image/jpeg\",\n{\n            'v': 310,\n            'f': \"310\",\n        },\n{\n            'v': 220,\n            'f': \"220\",\n        },\n\"b09dc3225d5e1377c52c06feddc33bfe\"],\n [{\n            'v': 47105,\n            'f': \"47105\",\n        },\n\"http://www.mddefp.gouv.qc.ca///poissons/st-maurice/erosion.jpg\",\n\"erosion.jpg\",\n\"jpg\",\n\"image/jpeg\",\n\"image/jpeg\",\n{\n            'v': 310,\n            'f': \"310\",\n        },\n{\n            'v': 220,\n            'f': \"220\",\n        },\n\"b09dc3225d5e1377c52c06feddc33bfe\"],\n [{\n            'v': 47106,\n            'f': \"47106\",\n        },\n\"http://www.mddep.gouv.qc.ca///poissons/chateauguay/erosion.jpg\",\n\"erosion.jpg\",\n\"jpg\",\n\"image/jpeg\",\n\"image/jpeg\",\n{\n            'v': 310,\n            'f': \"310\",\n        },\n{\n            'v': 220,\n            'f': \"220\",\n        },\n\"b09dc3225d5e1377c52c06feddc33bfe\"],\n [{\n            'v': 47107,\n            'f': \"47107\",\n        },\n\"http://mddep.gouv.qc.ca//poissons/chaudiere/erosion.jpg\",\n\"erosion.jpg\",\n\"jpg\",\n\"image/jpeg\",\n\"image/jpeg\",\n{\n            'v': 310,\n            'f': \"310\",\n        },\n{\n            'v': 220,\n            'f': \"220\",\n        },\n\"b09dc3225d5e1377c52c06feddc33bfe\"],\n [{\n            'v': 47108,\n            'f': \"47108\",\n        },\n\"http://mddep.gouv.qc.ca//poissons/st-maurice/erosion.jpg\",\n\"erosion.jpg\",\n\"jpg\",\n\"image/jpeg\",\n\"image/jpeg\",\n{\n            'v': 310,\n            'f': \"310\",\n        },\n{\n            'v': 220,\n            'f': \"220\",\n        },\n\"b09dc3225d5e1377c52c06feddc33bfe\"],\n [{\n            'v': 47109,\n            'f': \"47109\",\n        },\n\"http://www.mddep.gouv.qc.ca///poissons/richelieu/erosion.jpg\",\n\"erosion.jpg\",\n\"jpg\",\n\"image/jpeg\",\n\"image/jpeg\",\n{\n            'v': 310,\n            'f': \"310\",\n        },\n{\n            'v': 220,\n            'f': \"220\",\n        },\n\"b09dc3225d5e1377c52c06feddc33bfe\"],\n [{\n            'v': 47110,\n            'f': \"47110\",\n        },\n\"http://www.mddefp.gouv.qc.ca//poissons/assomption/erosion.jpg\",\n\"erosion.jpg\",\n\"jpg\",\n\"image/jpeg\",\n\"image/jpeg\",\n{\n            'v': 310,\n            'f': \"310\",\n        },\n{\n            'v': 220,\n            'f': \"220\",\n        },\n\"b09dc3225d5e1377c52c06feddc33bfe\"],\n [{\n            'v': 47111,\n            'f': \"47111\",\n        },\n\"http://www.mddefp.gouv.qc.ca//poissons/yamaska/erosion.jpg\",\n\"erosion.jpg\",\n\"jpg\",\n\"image/jpeg\",\n\"image/jpeg\",\n{\n            'v': 310,\n            'f': \"310\",\n        },\n{\n            'v': 220,\n            'f': \"220\",\n        },\n\"b09dc3225d5e1377c52c06feddc33bfe\"],\n [{\n            'v': 47112,\n            'f': \"47112\",\n        },\n\"http://www.mddep.gouv.qc.ca/poissons/richelieu/erosion.jpg\",\n\"erosion.jpg\",\n\"jpg\",\n\"image/jpeg\",\n\"image/jpeg\",\n{\n            'v': 310,\n            'f': \"310\",\n        },\n{\n            'v': 220,\n            'f': \"220\",\n        },\n\"b09dc3225d5e1377c52c06feddc33bfe\"],\n [{\n            'v': 47113,\n            'f': \"47113\",\n        },\n\"http://www.mddep.gouv.qc.ca/poissons/yamaska/erosion.jpg\",\n\"erosion.jpg\",\n\"jpg\",\n\"image/jpeg\",\n\"image/jpeg\",\n{\n            'v': 310,\n            'f': \"310\",\n        },\n{\n            'v': 220,\n            'f': \"220\",\n        },\n\"b09dc3225d5e1377c52c06feddc33bfe\"],\n [{\n            'v': 47114,\n            'f': \"47114\",\n        },\n\"http://www.mddep.gouv.qc.ca///poissons/yamaska/erosion.jpg\",\n\"erosion.jpg\",\n\"jpg\",\n\"image/jpeg\",\n\"image/jpeg\",\n{\n            'v': 310,\n            'f': \"310\",\n        },\n{\n            'v': 220,\n            'f': \"220\",\n        },\n\"b09dc3225d5e1377c52c06feddc33bfe\"],\n [{\n            'v': 47115,\n            'f': \"47115\",\n        },\n\"http://www.mddefp.gouv.qc.ca//poissons/chateauguay/erosion.jpg\",\n\"erosion.jpg\",\n\"jpg\",\n\"image/jpeg\",\n\"image/jpeg\",\n{\n            'v': 310,\n            'f': \"310\",\n        },\n{\n            'v': 220,\n            'f': \"220\",\n        },\n\"b09dc3225d5e1377c52c06feddc33bfe\"],\n [{\n            'v': 47116,\n            'f': \"47116\",\n        },\n\"http://mddep.gouv.qc.ca//poissons/st-charles/erosion.jpg\",\n\"erosion.jpg\",\n\"jpg\",\n\"image/jpeg\",\n\"image/jpeg\",\n{\n            'v': 310,\n            'f': \"310\",\n        },\n{\n            'v': 220,\n            'f': \"220\",\n        },\n\"b09dc3225d5e1377c52c06feddc33bfe\"],\n [{\n            'v': 47117,\n            'f': \"47117\",\n        },\n\"http://www.mddep.gouv.qc.ca//poissons/richelieu/erosion.jpg\",\n\"erosion.jpg\",\n\"jpg\",\n\"image/jpeg\",\n\"image/jpeg\",\n{\n            'v': 310,\n            'f': \"310\",\n        },\n{\n            'v': 220,\n            'f': \"220\",\n        },\n\"b09dc3225d5e1377c52c06feddc33bfe\"],\n [{\n            'v': 47118,\n            'f': \"47118\",\n        },\n\"http://www.mddefp.gouv.qc.ca///poissons/st-charles/erosion.jpg\",\n\"erosion.jpg\",\n\"jpg\",\n\"image/jpeg\",\n\"image/jpeg\",\n{\n            'v': 310,\n            'f': \"310\",\n        },\n{\n            'v': 220,\n            'f': \"220\",\n        },\n\"b09dc3225d5e1377c52c06feddc33bfe\"],\n [{\n            'v': 47119,\n            'f': \"47119\",\n        },\n\"http://www.mddefp.gouv.qc.ca//poissons/assomption/erosion.jpg\",\n\"erosion.jpg\",\n\"jpg\",\n\"image/jpeg\",\n\"image/jpeg\",\n{\n            'v': 310,\n            'f': \"310\",\n        },\n{\n            'v': 220,\n            'f': \"220\",\n        },\n\"b09dc3225d5e1377c52c06feddc33bfe\"],\n [{\n            'v': 47120,\n            'f': \"47120\",\n        },\n\"http://www.mddep.gouv.qc.ca/poissons/st-charles/erosion.jpg\",\n\"erosion.jpg\",\n\"jpg\",\n\"image/jpeg\",\n\"image/jpeg\",\n{\n            'v': 310,\n            'f': \"310\",\n        },\n{\n            'v': 220,\n            'f': \"220\",\n        },\n\"b09dc3225d5e1377c52c06feddc33bfe\"],\n [{\n            'v': 47121,\n            'f': \"47121\",\n        },\n\"http://www.mddefp.gouv.qc.ca////poissons/assomption/erosion.jpg\",\n\"erosion.jpg\",\n\"jpg\",\n\"image/jpeg\",\n\"image/jpeg\",\n{\n            'v': 310,\n            'f': \"310\",\n        },\n{\n            'v': 220,\n            'f': \"220\",\n        },\n\"b09dc3225d5e1377c52c06feddc33bfe\"],\n [{\n            'v': 47122,\n            'f': \"47122\",\n        },\n\"http://www.mddep.gouv.qc.ca/poissons/st-maurice/erosion.jpg\",\n\"erosion.jpg\",\n\"jpg\",\n\"image/jpeg\",\n\"image/jpeg\",\n{\n            'v': 310,\n            'f': \"310\",\n        },\n{\n            'v': 220,\n            'f': \"220\",\n        },\n\"b09dc3225d5e1377c52c06feddc33bfe\"],\n [{\n            'v': 47123,\n            'f': \"47123\",\n        },\n\"http://www.mddep.gouv.qc.ca/poissons/chaudiere/erosion.jpg\",\n\"erosion.jpg\",\n\"jpg\",\n\"image/jpeg\",\n\"image/jpeg\",\n{\n            'v': 310,\n            'f': \"310\",\n        },\n{\n            'v': 220,\n            'f': \"220\",\n        },\n\"b09dc3225d5e1377c52c06feddc33bfe\"],\n [{\n            'v': 47124,\n            'f': \"47124\",\n        },\n\"http://mddep.gouv.qc.ca////poissons/chaudiere/erosion.jpg\",\n\"erosion.jpg\",\n\"jpg\",\n\"image/jpeg\",\n\"image/jpeg\",\n{\n            'v': 310,\n            'f': \"310\",\n        },\n{\n            'v': 220,\n            'f': \"220\",\n        },\n\"b09dc3225d5e1377c52c06feddc33bfe\"],\n [{\n            'v': 47125,\n            'f': \"47125\",\n        },\n\"http://www.mddep.gouv.qc.ca////poissons/richelieu/erosion.jpg\",\n\"erosion.jpg\",\n\"jpg\",\n\"image/jpeg\",\n\"image/jpeg\",\n{\n            'v': 310,\n            'f': \"310\",\n        },\n{\n            'v': 220,\n            'f': \"220\",\n        },\n\"b09dc3225d5e1377c52c06feddc33bfe\"],\n [{\n            'v': 47126,\n            'f': \"47126\",\n        },\n\"http://www.mddep.gouv.qc.ca////poissons/st-maurice/erosion.jpg\",\n\"erosion.jpg\",\n\"jpg\",\n\"image/jpeg\",\n\"image/jpeg\",\n{\n            'v': 310,\n            'f': \"310\",\n        },\n{\n            'v': 220,\n            'f': \"220\",\n        },\n\"b09dc3225d5e1377c52c06feddc33bfe\"],\n [{\n            'v': 47127,\n            'f': \"47127\",\n        },\n\"http://www.mddelcc.gouv.qc.ca/poissons/st-francois/erosion.jpg\",\n\"erosion.jpg\",\n\"jpg\",\n\"image/jpeg\",\n\"image/jpeg\",\n{\n            'v': 310,\n            'f': \"310\",\n        },\n{\n            'v': 220,\n            'f': \"220\",\n        },\n\"b09dc3225d5e1377c52c06feddc33bfe\"],\n [{\n            'v': 47128,\n            'f': \"47128\",\n        },\n\"http://www.mddelcc.gouv.qc.ca/poissons/richelieu/erosion.jpg\",\n\"erosion.jpg\",\n\"jpg\",\n\"image/jpeg\",\n\"image/jpeg\",\n{\n            'v': 310,\n            'f': \"310\",\n        },\n{\n            'v': 220,\n            'f': \"220\",\n        },\n\"b09dc3225d5e1377c52c06feddc33bfe\"],\n [{\n            'v': 47129,\n            'f': \"47129\",\n        },\n\"http://www.mddelcc.gouv.qc.ca/poissons/assomption/erosion.jpg\",\n\"erosion.jpg\",\n\"jpg\",\n\"image/jpeg\",\n\"image/jpeg\",\n{\n            'v': 310,\n            'f': \"310\",\n        },\n{\n            'v': 220,\n            'f': \"220\",\n        },\n\"b09dc3225d5e1377c52c06feddc33bfe\"],\n [{\n            'v': 47130,\n            'f': \"47130\",\n        },\n\"http://www.mddep.gouv.qc.ca//poissons/chateauguay/erosion.jpg\",\n\"erosion.jpg\",\n\"jpg\",\n\"image/jpeg\",\n\"image/jpeg\",\n{\n            'v': 310,\n            'f': \"310\",\n        },\n{\n            'v': 220,\n            'f': \"220\",\n        },\n\"b09dc3225d5e1377c52c06feddc33bfe\"],\n [{\n            'v': 47131,\n            'f': \"47131\",\n        },\n\"http://mddefp.gouv.qc.ca/poissons/richelieu/erosion.jpg\",\n\"erosion.jpg\",\n\"jpg\",\n\"image/jpeg\",\n\"image/jpeg\",\n{\n            'v': 310,\n            'f': \"310\",\n        },\n{\n            'v': 220,\n            'f': \"220\",\n        },\n\"b09dc3225d5e1377c52c06feddc33bfe\"],\n [{\n            'v': 47132,\n            'f': \"47132\",\n        },\n\"http://www.mddefp.gouv.qc.ca////poissons/assomption/erosion.jpg\",\n\"erosion.jpg\",\n\"jpg\",\n\"image/jpeg\",\n\"image/jpeg\",\n{\n            'v': 310,\n            'f': \"310\",\n        },\n{\n            'v': 220,\n            'f': \"220\",\n        },\n\"b09dc3225d5e1377c52c06feddc33bfe\"],\n [{\n            'v': 47133,\n            'f': \"47133\",\n        },\n\"http://www.mddefp.gouv.qc.ca////poissons/st-francois/erosion.jpg\",\n\"erosion.jpg\",\n\"jpg\",\n\"image/jpeg\",\n\"image/jpeg\",\n{\n            'v': 310,\n            'f': \"310\",\n        },\n{\n            'v': 220,\n            'f': \"220\",\n        },\n\"b09dc3225d5e1377c52c06feddc33bfe\"],\n [{\n            'v': 47134,\n            'f': \"47134\",\n        },\n\"http://www.mddefp.gouv.qc.ca////poissons/yamaska/erosion.jpg\",\n\"erosion.jpg\",\n\"jpg\",\n\"image/jpeg\",\n\"image/jpeg\",\n{\n            'v': 310,\n            'f': \"310\",\n        },\n{\n            'v': 220,\n            'f': \"220\",\n        },\n\"b09dc3225d5e1377c52c06feddc33bfe\"],\n [{\n            'v': 47135,\n            'f': \"47135\",\n        },\n\"http://mddep.gouv.qc.ca//poissons/chateauguay/erosion.jpg\",\n\"erosion.jpg\",\n\"jpg\",\n\"image/jpeg\",\n\"image/jpeg\",\n{\n            'v': 310,\n            'f': \"310\",\n        },\n{\n            'v': 220,\n            'f': \"220\",\n        },\n\"b09dc3225d5e1377c52c06feddc33bfe\"],\n [{\n            'v': 47136,\n            'f': \"47136\",\n        },\n\"http://www.mddefp.gouv.qc.ca//poissons/chateauguay/erosion.jpg\",\n\"erosion.jpg\",\n\"jpg\",\n\"image/jpeg\",\n\"image/jpeg\",\n{\n            'v': 310,\n            'f': \"310\",\n        },\n{\n            'v': 220,\n            'f': \"220\",\n        },\n\"b09dc3225d5e1377c52c06feddc33bfe\"],\n [{\n            'v': 47137,\n            'f': \"47137\",\n        },\n\"http://www.mddefp.gouv.qc.ca///poissons/chateauguay/erosion.jpg\",\n\"erosion.jpg\",\n\"jpg\",\n\"image/jpeg\",\n\"image/jpeg\",\n{\n            'v': 310,\n            'f': \"310\",\n        },\n{\n            'v': 220,\n            'f': \"220\",\n        },\n\"b09dc3225d5e1377c52c06feddc33bfe\"],\n [{\n            'v': 47138,\n            'f': \"47138\",\n        },\n\"http://www.mddefp.gouv.qc.ca///poissons/chaudiere/erosion.jpg\",\n\"erosion.jpg\",\n\"jpg\",\n\"image/jpeg\",\n\"image/jpeg\",\n{\n            'v': 310,\n            'f': \"310\",\n        },\n{\n            'v': 220,\n            'f': \"220\",\n        },\n\"b09dc3225d5e1377c52c06feddc33bfe\"],\n [{\n            'v': 47139,\n            'f': \"47139\",\n        },\n\"http://mddefp.gouv.qc.ca/poissons/st-charles/erosion.jpg\",\n\"erosion.jpg\",\n\"jpg\",\n\"image/jpeg\",\n\"image/jpeg\",\n{\n            'v': 310,\n            'f': \"310\",\n        },\n{\n            'v': 220,\n            'f': \"220\",\n        },\n\"b09dc3225d5e1377c52c06feddc33bfe\"],\n [{\n            'v': 47140,\n            'f': \"47140\",\n        },\n\"http://mddefp.gouv.qc.ca/poissons/chateauguay/erosion.jpg\",\n\"erosion.jpg\",\n\"jpg\",\n\"image/jpeg\",\n\"image/jpeg\",\n{\n            'v': 310,\n            'f': \"310\",\n        },\n{\n            'v': 220,\n            'f': \"220\",\n        },\n\"b09dc3225d5e1377c52c06feddc33bfe\"],\n [{\n            'v': 47141,\n            'f': \"47141\",\n        },\n\"http://www.mddep.gouv.qc.ca/poissons/assomption/erosion.jpg\",\n\"erosion.jpg\",\n\"jpg\",\n\"image/jpeg\",\n\"image/jpeg\",\n{\n            'v': 310,\n            'f': \"310\",\n        },\n{\n            'v': 220,\n            'f': \"220\",\n        },\n\"b09dc3225d5e1377c52c06feddc33bfe\"],\n [{\n            'v': 47142,\n            'f': \"47142\",\n        },\n\"http://www.mddep.gouv.qc.ca/poissons/st-charles/erosion.jpg\",\n\"erosion.jpg\",\n\"jpg\",\n\"image/jpeg\",\n\"image/jpeg\",\n{\n            'v': 310,\n            'f': \"310\",\n        },\n{\n            'v': 220,\n            'f': \"220\",\n        },\n\"b09dc3225d5e1377c52c06feddc33bfe\"],\n [{\n            'v': 47143,\n            'f': \"47143\",\n        },\n\"http://www.mddep.gouv.qc.ca//poissons/st-charles/erosion.jpg\",\n\"erosion.jpg\",\n\"jpg\",\n\"image/jpeg\",\n\"image/jpeg\",\n{\n            'v': 310,\n            'f': \"310\",\n        },\n{\n            'v': 220,\n            'f': \"220\",\n        },\n\"b09dc3225d5e1377c52c06feddc33bfe\"],\n [{\n            'v': 47144,\n            'f': \"47144\",\n        },\n\"http://www.mddefp.gouv.qc.ca//poissons/chaudiere/erosion.jpg\",\n\"erosion.jpg\",\n\"jpg\",\n\"image/jpeg\",\n\"image/jpeg\",\n{\n            'v': 310,\n            'f': \"310\",\n        },\n{\n            'v': 220,\n            'f': \"220\",\n        },\n\"b09dc3225d5e1377c52c06feddc33bfe\"],\n [{\n            'v': 47145,\n            'f': \"47145\",\n        },\n\"http://www.mddep.gouv.qc.ca/poissons/yamaska/erosion.jpg\",\n\"erosion.jpg\",\n\"jpg\",\n\"image/jpeg\",\n\"image/jpeg\",\n{\n            'v': 310,\n            'f': \"310\",\n        },\n{\n            'v': 220,\n            'f': \"220\",\n        },\n\"b09dc3225d5e1377c52c06feddc33bfe\"],\n [{\n            'v': 47146,\n            'f': \"47146\",\n        },\n\"http://www.mddefp.gouv.qc.ca///poissons/chateauguay/erosion.jpg\",\n\"erosion.jpg\",\n\"jpg\",\n\"image/jpeg\",\n\"image/jpeg\",\n{\n            'v': 310,\n            'f': \"310\",\n        },\n{\n            'v': 220,\n            'f': \"220\",\n        },\n\"b09dc3225d5e1377c52c06feddc33bfe\"],\n [{\n            'v': 47147,\n            'f': \"47147\",\n        },\n\"http://www.mddefp.gouv.qc.ca///poissons/chaudiere/erosion.jpg\",\n\"erosion.jpg\",\n\"jpg\",\n\"image/jpeg\",\n\"image/jpeg\",\n{\n            'v': 310,\n            'f': \"310\",\n        },\n{\n            'v': 220,\n            'f': \"220\",\n        },\n\"b09dc3225d5e1377c52c06feddc33bfe\"],\n [{\n            'v': 47148,\n            'f': \"47148\",\n        },\n\"http://www.mddep.gouv.qc.ca//poissons/chaudiere/erosion.jpg\",\n\"erosion.jpg\",\n\"jpg\",\n\"image/jpeg\",\n\"image/jpeg\",\n{\n            'v': 310,\n            'f': \"310\",\n        },\n{\n            'v': 220,\n            'f': \"220\",\n        },\n\"b09dc3225d5e1377c52c06feddc33bfe\"],\n [{\n            'v': 47149,\n            'f': \"47149\",\n        },\n\"http://www.mddep.gouv.qc.ca/poissons/richelieu/erosion.jpg\",\n\"erosion.jpg\",\n\"jpg\",\n\"image/jpeg\",\n\"image/jpeg\",\n{\n            'v': 310,\n            'f': \"310\",\n        },\n{\n            'v': 220,\n            'f': \"220\",\n        },\n\"b09dc3225d5e1377c52c06feddc33bfe\"],\n [{\n            'v': 47150,\n            'f': \"47150\",\n        },\n\"http://www.mddelcc.gouv.qc.ca//poissons/yamaska/erosion.jpg\",\n\"erosion.jpg\",\n\"jpg\",\n\"image/jpeg\",\n\"image/jpeg\",\n{\n            'v': 310,\n            'f': \"310\",\n        },\n{\n            'v': 220,\n            'f': \"220\",\n        },\n\"b09dc3225d5e1377c52c06feddc33bfe\"],\n [{\n            'v': 47151,\n            'f': \"47151\",\n        },\n\"http://www.mddelcc.gouv.qc.ca//poissons/assomption/erosion.jpg\",\n\"erosion.jpg\",\n\"jpg\",\n\"image/jpeg\",\n\"image/jpeg\",\n{\n            'v': 310,\n            'f': \"310\",\n        },\n{\n            'v': 220,\n            'f': \"220\",\n        },\n\"b09dc3225d5e1377c52c06feddc33bfe\"],\n [{\n            'v': 47152,\n            'f': \"47152\",\n        },\n\"http://www.mddelcc.gouv.qc.ca//poissons/st-francois/erosion.jpg\",\n\"erosion.jpg\",\n\"jpg\",\n\"image/jpeg\",\n\"image/jpeg\",\n{\n            'v': 310,\n            'f': \"310\",\n        },\n{\n            'v': 220,\n            'f': \"220\",\n        },\n\"b09dc3225d5e1377c52c06feddc33bfe\"],\n [{\n            'v': 47153,\n            'f': \"47153\",\n        },\n\"http://www.mddep.gouv.qc.ca/poissons/st-francois/erosion.jpg\",\n\"erosion.jpg\",\n\"jpg\",\n\"image/jpeg\",\n\"image/jpeg\",\n{\n            'v': 310,\n            'f': \"310\",\n        },\n{\n            'v': 220,\n            'f': \"220\",\n        },\n\"b09dc3225d5e1377c52c06feddc33bfe\"],\n [{\n            'v': 47154,\n            'f': \"47154\",\n        },\n\"http://www.mddep.gouv.qc.ca//poissons/yamaska/erosion.jpg\",\n\"erosion.jpg\",\n\"jpg\",\n\"image/jpeg\",\n\"image/jpeg\",\n{\n            'v': 310,\n            'f': \"310\",\n        },\n{\n            'v': 220,\n            'f': \"220\",\n        },\n\"b09dc3225d5e1377c52c06feddc33bfe\"]],\n        columns: [[\"number\", \"index\"], [\"string\", \"url\"], [\"string\", \"filename\"], [\"string\", \"extension\"], [\"string\", \"mime_type_web_server\"], [\"string\", \"mime_type_tika\"], [\"number\", \"width\"], [\"number\", \"height\"], [\"string\", \"md5\"]],\n        columnOptions: [{\"width\": \"1px\", \"className\": \"index_column\"}],\n        rowsPerPage: 25,\n        helpUrl: \"https://colab.research.google.com/notebooks/data_table.ipynb\",\n        suppressOutputScrolling: true,\n        minimumWidth: undefined,\n      });\n    ",
      "text/html": [
       "<div>\n",
       "<style scoped>\n",
       "    .dataframe tbody tr th:only-of-type {\n",
       "        vertical-align: middle;\n",
       "    }\n",
       "\n",
       "    .dataframe tbody tr th {\n",
       "        vertical-align: top;\n",
       "    }\n",
       "\n",
       "    .dataframe thead th {\n",
       "        text-align: right;\n",
       "    }\n",
       "</style>\n",
       "<table border=\"1\" class=\"dataframe\">\n",
       "  <thead>\n",
       "    <tr style=\"text-align: right;\">\n",
       "      <th></th>\n",
       "      <th>url</th>\n",
       "      <th>filename</th>\n",
       "      <th>extension</th>\n",
       "      <th>mime_type_web_server</th>\n",
       "      <th>mime_type_tika</th>\n",
       "      <th>width</th>\n",
       "      <th>height</th>\n",
       "      <th>md5</th>\n",
       "    </tr>\n",
       "  </thead>\n",
       "  <tbody>\n",
       "    <tr>\n",
       "      <th>46963</th>\n",
       "      <td>http://www.mddefp.gouv.qc.ca//poissons/st-char...</td>\n",
       "      <td>erosion.jpg</td>\n",
       "      <td>jpg</td>\n",
       "      <td>image/jpeg</td>\n",
       "      <td>image/jpeg</td>\n",
       "      <td>310</td>\n",
       "      <td>220</td>\n",
       "      <td>b09dc3225d5e1377c52c06feddc33bfe</td>\n",
       "    </tr>\n",
       "    <tr>\n",
       "      <th>46964</th>\n",
       "      <td>http://www.mddep.gouv.qc.ca/poissons/yamaska/e...</td>\n",
       "      <td>erosion.jpg</td>\n",
       "      <td>jpg</td>\n",
       "      <td>image/jpeg</td>\n",
       "      <td>image/jpeg</td>\n",
       "      <td>310</td>\n",
       "      <td>220</td>\n",
       "      <td>b09dc3225d5e1377c52c06feddc33bfe</td>\n",
       "    </tr>\n",
       "    <tr>\n",
       "      <th>46965</th>\n",
       "      <td>http://mddefp.gouv.qc.ca/poissons/st-maurice/e...</td>\n",
       "      <td>erosion.jpg</td>\n",
       "      <td>jpg</td>\n",
       "      <td>image/jpeg</td>\n",
       "      <td>image/jpeg</td>\n",
       "      <td>310</td>\n",
       "      <td>220</td>\n",
       "      <td>b09dc3225d5e1377c52c06feddc33bfe</td>\n",
       "    </tr>\n",
       "    <tr>\n",
       "      <th>46966</th>\n",
       "      <td>http://mddefp.gouv.qc.ca/poissons/st-francois/...</td>\n",
       "      <td>erosion.jpg</td>\n",
       "      <td>jpg</td>\n",
       "      <td>image/jpeg</td>\n",
       "      <td>image/jpeg</td>\n",
       "      <td>310</td>\n",
       "      <td>220</td>\n",
       "      <td>b09dc3225d5e1377c52c06feddc33bfe</td>\n",
       "    </tr>\n",
       "    <tr>\n",
       "      <th>46967</th>\n",
       "      <td>http://mddefp.gouv.qc.ca/poissons/chateauguay/...</td>\n",
       "      <td>erosion.jpg</td>\n",
       "      <td>jpg</td>\n",
       "      <td>image/jpeg</td>\n",
       "      <td>image/jpeg</td>\n",
       "      <td>310</td>\n",
       "      <td>220</td>\n",
       "      <td>b09dc3225d5e1377c52c06feddc33bfe</td>\n",
       "    </tr>\n",
       "    <tr>\n",
       "      <th>...</th>\n",
       "      <td>...</td>\n",
       "      <td>...</td>\n",
       "      <td>...</td>\n",
       "      <td>...</td>\n",
       "      <td>...</td>\n",
       "      <td>...</td>\n",
       "      <td>...</td>\n",
       "      <td>...</td>\n",
       "    </tr>\n",
       "    <tr>\n",
       "      <th>47150</th>\n",
       "      <td>http://www.mddelcc.gouv.qc.ca//poissons/yamask...</td>\n",
       "      <td>erosion.jpg</td>\n",
       "      <td>jpg</td>\n",
       "      <td>image/jpeg</td>\n",
       "      <td>image/jpeg</td>\n",
       "      <td>310</td>\n",
       "      <td>220</td>\n",
       "      <td>b09dc3225d5e1377c52c06feddc33bfe</td>\n",
       "    </tr>\n",
       "    <tr>\n",
       "      <th>47151</th>\n",
       "      <td>http://www.mddelcc.gouv.qc.ca//poissons/assomp...</td>\n",
       "      <td>erosion.jpg</td>\n",
       "      <td>jpg</td>\n",
       "      <td>image/jpeg</td>\n",
       "      <td>image/jpeg</td>\n",
       "      <td>310</td>\n",
       "      <td>220</td>\n",
       "      <td>b09dc3225d5e1377c52c06feddc33bfe</td>\n",
       "    </tr>\n",
       "    <tr>\n",
       "      <th>47152</th>\n",
       "      <td>http://www.mddelcc.gouv.qc.ca//poissons/st-fra...</td>\n",
       "      <td>erosion.jpg</td>\n",
       "      <td>jpg</td>\n",
       "      <td>image/jpeg</td>\n",
       "      <td>image/jpeg</td>\n",
       "      <td>310</td>\n",
       "      <td>220</td>\n",
       "      <td>b09dc3225d5e1377c52c06feddc33bfe</td>\n",
       "    </tr>\n",
       "    <tr>\n",
       "      <th>47153</th>\n",
       "      <td>http://www.mddep.gouv.qc.ca/poissons/st-franco...</td>\n",
       "      <td>erosion.jpg</td>\n",
       "      <td>jpg</td>\n",
       "      <td>image/jpeg</td>\n",
       "      <td>image/jpeg</td>\n",
       "      <td>310</td>\n",
       "      <td>220</td>\n",
       "      <td>b09dc3225d5e1377c52c06feddc33bfe</td>\n",
       "    </tr>\n",
       "    <tr>\n",
       "      <th>47154</th>\n",
       "      <td>http://www.mddep.gouv.qc.ca//poissons/yamaska/...</td>\n",
       "      <td>erosion.jpg</td>\n",
       "      <td>jpg</td>\n",
       "      <td>image/jpeg</td>\n",
       "      <td>image/jpeg</td>\n",
       "      <td>310</td>\n",
       "      <td>220</td>\n",
       "      <td>b09dc3225d5e1377c52c06feddc33bfe</td>\n",
       "    </tr>\n",
       "  </tbody>\n",
       "</table>\n",
       "<p>192 rows × 8 columns</p>\n",
       "</div>"
      ],
      "text/plain": [
       "                                                     url  ...                               md5\n",
       "46963  http://www.mddefp.gouv.qc.ca//poissons/st-char...  ...  b09dc3225d5e1377c52c06feddc33bfe\n",
       "46964  http://www.mddep.gouv.qc.ca/poissons/yamaska/e...  ...  b09dc3225d5e1377c52c06feddc33bfe\n",
       "46965  http://mddefp.gouv.qc.ca/poissons/st-maurice/e...  ...  b09dc3225d5e1377c52c06feddc33bfe\n",
       "46966  http://mddefp.gouv.qc.ca/poissons/st-francois/...  ...  b09dc3225d5e1377c52c06feddc33bfe\n",
       "46967  http://mddefp.gouv.qc.ca/poissons/chateauguay/...  ...  b09dc3225d5e1377c52c06feddc33bfe\n",
       "...                                                  ...  ...                               ...\n",
       "47150  http://www.mddelcc.gouv.qc.ca//poissons/yamask...  ...  b09dc3225d5e1377c52c06feddc33bfe\n",
       "47151  http://www.mddelcc.gouv.qc.ca//poissons/assomp...  ...  b09dc3225d5e1377c52c06feddc33bfe\n",
       "47152  http://www.mddelcc.gouv.qc.ca//poissons/st-fra...  ...  b09dc3225d5e1377c52c06feddc33bfe\n",
       "47153  http://www.mddep.gouv.qc.ca/poissons/st-franco...  ...  b09dc3225d5e1377c52c06feddc33bfe\n",
       "47154  http://www.mddep.gouv.qc.ca//poissons/yamaska/...  ...  b09dc3225d5e1377c52c06feddc33bfe\n",
       "\n",
       "[192 rows x 8 columns]"
      ]
     },
     "execution_count": 11,
     "metadata": {
      "tags": []
     },
     "output_type": "execute_result"
    }
   ],
   "source": [
    "images.loc[images['md5'] == 'b09dc3225d5e1377c52c06feddc33bfe']"
   ]
  },
  {
   "cell_type": "markdown",
   "metadata": {
    "id": "kE-8epARIG0-"
   },
   "source": [
    "### What does `b09dc3225d5e1377c52c06feddc33bfe` look like?\n",
    "\n",
    "We can extract the binary from the web archive using our [binary extraction functions](https://github.com/archivesunleashed/aut-docs-new/blob/master/current/image-analysis.md#scala-df).\n",
    "\n",
    "```scala\n",
    "import io.archivesunleashed._\n",
    "import io.archivesunleashed.df._\n",
    "\n",
    "val df = RecordLoader\n",
    "  .loadArchives(\"example.arc.gz\", sc)\n",
    "  .extractImageDetailsDF();\n",
    "\n",
    "df.select($\"bytes\", $\"extension\")\n",
    "  .saveToDisk(\"bytes\", \"/path/to/export/directory/your-preferred-filename-prefix\", $\"extension\")\n",
    "```\n",
    "\n",
    "**But**, since we don't have access to the WARC files here, just the Parquet derivatives, we can make do  by trying to display a live web version of the image or a replay URL. In this case, BANQ's replay service is available at [https://waext.banq.qc.ca](http://waext.banq.qc.ca)."
   ]
  },
  {
   "cell_type": "code",
   "execution_count": 12,
   "metadata": {
    "colab": {
     "base_uri": "https://localhost:8080/"
    },
    "id": "wB3VqcmgJQM0",
    "outputId": "6a84ff57-c7fa-4e52-9f7a-d8c333f1eea1"
   },
   "outputs": [
    {
     "data": {
      "text/plain": [
       "46963    http://www.mddefp.gouv.qc.ca//poissons/st-charles/erosion.jpg\n",
       "Name: url, dtype: object"
      ]
     },
     "execution_count": 12,
     "metadata": {
      "tags": []
     },
     "output_type": "execute_result"
    }
   ],
   "source": [
    "pd.options.display.max_colwidth = None\n",
    "one_image = images.loc[images['md5'] == 'b09dc3225d5e1377c52c06feddc33bfe'].head(1)\n",
    "one_image['url']"
   ]
  },
  {
   "cell_type": "markdown",
   "metadata": {
    "id": "5YV2u_8aLEJS"
   },
   "source": [
    "![fish](http://waext.banq.qc.ca/wayback/20121127103149/http://www.mddefp.gouv.qc.ca/poissons/st-charles/erosion.jpg)"
   ]
  },
  {
   "cell_type": "markdown",
   "metadata": {
    "id": "6YfsUGSRt1Ns"
   },
   "source": [
    "Unfortunately, while we can tell you this is such a popular image within the web archive, we can't tell you _why_. That's where the researcher comes in!"
   ]
  },
  {
   "cell_type": "markdown",
   "metadata": {
    "id": "GbLLZW2awzCv"
   },
   "source": [
    "#### What are the top 10 most occuring filenames in the collection?\n",
    "\n",
    "Note that this is of course different than the MD5 results up above. Here we are focusing _just_ on filename. So `carte-p.jpg` for example, might actually be referring to different images who happen to have the same name.\n"
   ]
  },
  {
   "cell_type": "code",
   "execution_count": 12,
   "metadata": {
    "colab": {
     "base_uri": "https://localhost:8080/"
    },
    "id": "pQaw54ACkwdZ",
    "outputId": "422d113f-c858-41ba-977f-e082360b28f9"
   },
   "outputs": [
    {
     "data": {
      "text/plain": [
       "chart               39431\n",
       "hqdefault.jpg       27845\n",
       "photo.php           13776\n",
       "favicon.ico          8271\n",
       "large_images.jpg     5811\n",
       "downsize_200k_v1     5445\n",
       "hover_images.jpg     4822\n",
       "collect              3745\n",
       "doug_ford.jpg        3555\n",
       "trudeau.jpg          3549\n",
       "Name: filename, dtype: int64"
      ]
     },
     "execution_count": 12,
     "metadata": {},
     "output_type": "execute_result"
    }
   ],
   "source": [
    "top_filenames = images['filename'].value_counts().head(10)\n",
    "top_filenames"
   ]
  },
  {
   "cell_type": "markdown",
   "metadata": {
    "id": "Z7F3re20BQRI"
   },
   "source": [
    "#### Let's plot it!\n",
    "\n",
    "We'll plot the data first with panadas plot functionality, and then plot the data with [Altair](https://altair-viz.github.io/)."
   ]
  },
  {
   "cell_type": "code",
   "execution_count": 14,
   "metadata": {
    "colab": {
     "base_uri": "https://localhost:8080/",
     "height": 715
    },
    "id": "sRvlstfsBWEZ",
    "outputId": "72de7352-2e76-4d35-fc99-fe77b153bdc7"
   },
   "outputs": [
    {
     "data": {
      "text/plain": [
       "Text(0, 0.5, 'Count')"
      ]
     },
     "execution_count": 14,
     "metadata": {},
     "output_type": "execute_result"
    },
    {
     "data": {
      "image/png": "[encoded data removed]",
      "text/plain": [
       "<Figure size 1800x720 with 1 Axes>"
      ]
     },
     "metadata": {
      "needs_background": "light"
     },
     "output_type": "display_data"
    }
   ],
   "source": [
    "top_filenames_chart = top_filenames.plot.bar(figsize=(25,10))\n",
    "top_filenames_chart.set_title(\"Top Filenames\", fontsize=22)\n",
    "top_filenames_chart.set_xlabel(\"Filename\", fontsize=20)\n",
    "top_filenames_chart.set_ylabel(\"Count\", fontsize=20)"
   ]
  },
  {
   "cell_type": "markdown",
   "metadata": {
    "id": "pQgeOObvgLvK"
   },
   "source": [
    "Now let's setup Altair, and plot the data with Altair. We'll use Altair for the remaining plots we create since the plots can be easily exported as a PNG or SVG."
   ]
  },
  {
   "cell_type": "code",
   "execution_count": 15,
   "metadata": {
    "id": "Q7Z4J6qjWaVM"
   },
   "outputs": [],
   "source": [
    "import altair as alt"
   ]
  },
  {
   "cell_type": "code",
   "execution_count": 16,
   "metadata": {
    "colab": {
     "base_uri": "https://localhost:8080/",
     "height": 849
    },
    "id": "s0xwvILYWkgg",
    "outputId": "24b54496-2c07-447b-b3bc-5bd3031299a8"
   },
   "outputs": [
    {
     "data": {
      "text/html": [
       "\n",
       "<div id=\"altair-viz-c9724e9f8dba410c8fde338ad6ddc4b1\"></div>\n",
       "<script type=\"text/javascript\">\n",
       "  (function(spec, embedOpt){\n",
       "    let outputDiv = document.currentScript.previousElementSibling;\n",
       "    if (outputDiv.id !== \"altair-viz-c9724e9f8dba410c8fde338ad6ddc4b1\") {\n",
       "      outputDiv = document.getElementById(\"altair-viz-c9724e9f8dba410c8fde338ad6ddc4b1\");\n",
       "    }\n",
       "    const paths = {\n",
       "      \"vega\": \"https://cdn.jsdelivr.net/npm//vega@5?noext\",\n",
       "      \"vega-lib\": \"https://cdn.jsdelivr.net/npm//vega-lib?noext\",\n",
       "      \"vega-lite\": \"https://cdn.jsdelivr.net/npm//vega-lite@4.8.1?noext\",\n",
       "      \"vega-embed\": \"https://cdn.jsdelivr.net/npm//vega-embed@6?noext\",\n",
       "    };\n",
       "\n",
       "    function loadScript(lib) {\n",
       "      return new Promise(function(resolve, reject) {\n",
       "        var s = document.createElement('script');\n",
       "        s.src = paths[lib];\n",
       "        s.async = true;\n",
       "        s.onload = () => resolve(paths[lib]);\n",
       "        s.onerror = () => reject(`Error loading script: ${paths[lib]}`);\n",
       "        document.getElementsByTagName(\"head\")[0].appendChild(s);\n",
       "      });\n",
       "    }\n",
       "\n",
       "    function showError(err) {\n",
       "      outputDiv.innerHTML = `<div class=\"error\" style=\"color:red;\">${err}</div>`;\n",
       "      throw err;\n",
       "    }\n",
       "\n",
       "    function displayChart(vegaEmbed) {\n",
       "      vegaEmbed(outputDiv, spec, embedOpt)\n",
       "        .catch(err => showError(`Javascript Error: ${err.message}<br>This usually means there's a typo in your chart specification. See the javascript console for the full traceback.`));\n",
       "    }\n",
       "\n",
       "    if(typeof define === \"function\" && define.amd) {\n",
       "      requirejs.config({paths});\n",
       "      require([\"vega-embed\"], displayChart, err => showError(`Error loading script: ${err.message}`));\n",
       "    } else if (typeof vegaEmbed === \"function\") {\n",
       "      displayChart(vegaEmbed);\n",
       "    } else {\n",
       "      loadScript(\"vega\")\n",
       "        .then(() => loadScript(\"vega-lite\"))\n",
       "        .then(() => loadScript(\"vega-embed\"))\n",
       "        .catch(showError)\n",
       "        .then(() => displayChart(vegaEmbed));\n",
       "    }\n",
       "  })({\"config\": {\"view\": {\"continuousWidth\": 400, \"continuousHeight\": 300}}, \"layer\": [{\"mark\": \"bar\", \"encoding\": {\"x\": {\"type\": \"ordinal\", \"field\": \"Filename\"}, \"y\": {\"type\": \"quantitative\", \"field\": \"Count\"}}}, {\"mark\": {\"type\": \"rule\", \"color\": \"red\"}, \"encoding\": {\"y\": {\"type\": \"quantitative\", \"aggregate\": \"mean\", \"field\": \"Count\"}}}, {\"mark\": {\"type\": \"text\", \"align\": \"center\", \"baseline\": \"bottom\"}, \"encoding\": {\"text\": {\"type\": \"quantitative\", \"field\": \"Count\"}, \"x\": {\"type\": \"ordinal\", \"field\": \"Filename\"}, \"y\": {\"type\": \"quantitative\", \"field\": \"Count\"}}}], \"data\": {\"name\": \"data-2dafc9be14e5fafda8972cd3428520bd\"}, \"height\": 700, \"title\": \"Top Filenames\", \"width\": 1400, \"$schema\": \"https://vega.github.io/schema/vega-lite/v4.8.1.json\", \"datasets\": {\"data-2dafc9be14e5fafda8972cd3428520bd\": [{\"Filename\": \"chart\", \"Count\": 39431}, {\"Filename\": \"hqdefault.jpg\", \"Count\": 27845}, {\"Filename\": \"photo.php\", \"Count\": 13776}, {\"Filename\": \"favicon.ico\", \"Count\": 8271}, {\"Filename\": \"large_images.jpg\", \"Count\": 5811}, {\"Filename\": \"downsize_200k_v1\", \"Count\": 5445}, {\"Filename\": \"hover_images.jpg\", \"Count\": 4822}, {\"Filename\": \"collect\", \"Count\": 3745}, {\"Filename\": \"doug_ford.jpg\", \"Count\": 3555}, {\"Filename\": \"trudeau.jpg\", \"Count\": 3549}]}}, {\"mode\": \"vega-lite\"});\n",
       "</script>"
      ],
      "text/plain": [
       "alt.LayerChart(...)"
      ]
     },
     "execution_count": 16,
     "metadata": {},
     "output_type": "execute_result"
    }
   ],
   "source": [
    "top_filenames_altair = images['filename'].value_counts().head(10).rename_axis('Filename').reset_index(name='Count')\n",
    "\n",
    "filenames_bar = alt.Chart(top_filenames_altair).mark_bar().encode(\n",
    "    x='Filename:O',\n",
    "    y='Count:Q'\n",
    ")\n",
    "\n",
    "filenames_rule = alt.Chart(top_filenames_altair).mark_rule(color='red').encode(\n",
    "    y='mean(Count):Q'\n",
    ")\n",
    "\n",
    "\n",
    "filenames_text = filenames_bar.mark_text(\n",
    "    align='center',\n",
    "    baseline='bottom'\n",
    ").encode(\n",
    "    text='Count:Q'\n",
    ")\n",
    "\n",
    "(filenames_bar + filenames_rule + filenames_text).properties(width=1400, height=700, title='Top Filenames')"
   ]
  },
  {
   "cell_type": "markdown",
   "metadata": {
    "id": "BneaN9cgGoly"
   },
   "source": [
    "#### How about a MIME type distribution?\n",
    "\n",
    "What _kind_ of image files are present? We can discover this by checking their \"media type\", or [MIME type](https://en.wikipedia.org/wiki/Media_type). \n",
    "\n",
    "\n",
    "\n",
    "\n"
   ]
  },
  {
   "cell_type": "code",
   "execution_count": 17,
   "metadata": {
    "colab": {
     "base_uri": "https://localhost:8080/",
     "height": 901
    },
    "id": "RDd-J8D-GwDk",
    "outputId": "841eecaf-ae53-4315-cdf8-ea7b6e77b59e"
   },
   "outputs": [
    {
     "data": {
      "text/html": [
       "\n",
       "<div id=\"altair-viz-60e90dd0ee2941779b621c653354ad9e\"></div>\n",
       "<script type=\"text/javascript\">\n",
       "  (function(spec, embedOpt){\n",
       "    let outputDiv = document.currentScript.previousElementSibling;\n",
       "    if (outputDiv.id !== \"altair-viz-60e90dd0ee2941779b621c653354ad9e\") {\n",
       "      outputDiv = document.getElementById(\"altair-viz-60e90dd0ee2941779b621c653354ad9e\");\n",
       "    }\n",
       "    const paths = {\n",
       "      \"vega\": \"https://cdn.jsdelivr.net/npm//vega@5?noext\",\n",
       "      \"vega-lib\": \"https://cdn.jsdelivr.net/npm//vega-lib?noext\",\n",
       "      \"vega-lite\": \"https://cdn.jsdelivr.net/npm//vega-lite@4.8.1?noext\",\n",
       "      \"vega-embed\": \"https://cdn.jsdelivr.net/npm//vega-embed@6?noext\",\n",
       "    };\n",
       "\n",
       "    function loadScript(lib) {\n",
       "      return new Promise(function(resolve, reject) {\n",
       "        var s = document.createElement('script');\n",
       "        s.src = paths[lib];\n",
       "        s.async = true;\n",
       "        s.onload = () => resolve(paths[lib]);\n",
       "        s.onerror = () => reject(`Error loading script: ${paths[lib]}`);\n",
       "        document.getElementsByTagName(\"head\")[0].appendChild(s);\n",
       "      });\n",
       "    }\n",
       "\n",
       "    function showError(err) {\n",
       "      outputDiv.innerHTML = `<div class=\"error\" style=\"color:red;\">${err}</div>`;\n",
       "      throw err;\n",
       "    }\n",
       "\n",
       "    function displayChart(vegaEmbed) {\n",
       "      vegaEmbed(outputDiv, spec, embedOpt)\n",
       "        .catch(err => showError(`Javascript Error: ${err.message}<br>This usually means there's a typo in your chart specification. See the javascript console for the full traceback.`));\n",
       "    }\n",
       "\n",
       "    if(typeof define === \"function\" && define.amd) {\n",
       "      requirejs.config({paths});\n",
       "      require([\"vega-embed\"], displayChart, err => showError(`Error loading script: ${err.message}`));\n",
       "    } else if (typeof vegaEmbed === \"function\") {\n",
       "      displayChart(vegaEmbed);\n",
       "    } else {\n",
       "      loadScript(\"vega\")\n",
       "        .then(() => loadScript(\"vega-lite\"))\n",
       "        .then(() => loadScript(\"vega-embed\"))\n",
       "        .catch(showError)\n",
       "        .then(() => displayChart(vegaEmbed));\n",
       "    }\n",
       "  })({\"config\": {\"view\": {\"continuousWidth\": 400, \"continuousHeight\": 300}}, \"layer\": [{\"mark\": \"bar\", \"encoding\": {\"x\": {\"type\": \"ordinal\", \"field\": \"MIME Type\"}, \"y\": {\"type\": \"quantitative\", \"field\": \"Count\"}}}, {\"mark\": {\"type\": \"rule\", \"color\": \"red\"}, \"encoding\": {\"y\": {\"type\": \"quantitative\", \"aggregate\": \"mean\", \"field\": \"Count\"}}}, {\"mark\": {\"type\": \"text\", \"align\": \"center\", \"baseline\": \"bottom\"}, \"encoding\": {\"text\": {\"type\": \"quantitative\", \"field\": \"Count\"}, \"x\": {\"type\": \"ordinal\", \"field\": \"MIME Type\"}, \"y\": {\"type\": \"quantitative\", \"field\": \"Count\"}}}], \"data\": {\"name\": \"data-aa09efefc5637f1c3a956e4c34e0c8a4\"}, \"height\": 700, \"title\": \"Images MIME Type Distribution\", \"width\": 1400, \"$schema\": \"https://vega.github.io/schema/vega-lite/v4.8.1.json\", \"datasets\": {\"data-aa09efefc5637f1c3a956e4c34e0c8a4\": [{\"MIME Type\": \"image/jpeg\", \"Count\": 2100920}, {\"MIME Type\": \"image/png\", \"Count\": 441490}, {\"MIME Type\": \"image/gif\", \"Count\": 35237}, {\"MIME Type\": \"image/svg+xml\", \"Count\": 30901}, {\"MIME Type\": \"image/webp\", \"Count\": 18924}]}}, {\"mode\": \"vega-lite\"});\n",
       "</script>"
      ],
      "text/plain": [
       "alt.LayerChart(...)"
      ]
     },
     "execution_count": 17,
     "metadata": {},
     "output_type": "execute_result"
    }
   ],
   "source": [
    "image_mime_types = images['mime_type_tika'].value_counts().head(5).rename_axis('MIME Type').reset_index(name='Count')\n",
    "\n",
    "image_mimes_bar = alt.Chart(image_mime_types).mark_bar().encode(\n",
    "    x='MIME Type:O',\n",
    "    y='Count:Q'\n",
    ")\n",
    "\n",
    "image_mime_rule = alt.Chart(image_mime_types).mark_rule(color='red').encode(\n",
    "    y='mean(Count):Q'\n",
    ")\n",
    "\n",
    "image_mime_text = image_mimes_bar.mark_text(\n",
    "    align='center',\n",
    "    baseline='bottom'\n",
    ").encode(\n",
    "    text='Count:Q'\n",
    ")\n",
    "\n",
    "(image_mimes_bar + image_mime_rule + image_mime_text).properties(width=1400, height=700, title='Images MIME Type Distribution')"
   ]
  },
  {
   "cell_type": "markdown",
   "metadata": {
    "id": "QGHnjGRQPzqV"
   },
   "source": [
    "#### How about the distribution of the top 10 domains?\n",
    "\n",
    "Here we can see which domains are the most frequent within the web archive."
   ]
  },
  {
   "cell_type": "code",
   "execution_count": 19,
   "metadata": {
    "colab": {
     "base_uri": "https://localhost:8080/",
     "height": 934
    },
    "id": "C_X_YSD4PyQi",
    "outputId": "7cee0761-d2b4-4401-af70-c88bdfeefcef"
   },
   "outputs": [
    {
     "data": {
      "text/html": [
       "\n",
       "<div id=\"altair-viz-561c1f101d004c00ae1d6b1bdeadabdc\"></div>\n",
       "<script type=\"text/javascript\">\n",
       "  (function(spec, embedOpt){\n",
       "    let outputDiv = document.currentScript.previousElementSibling;\n",
       "    if (outputDiv.id !== \"altair-viz-561c1f101d004c00ae1d6b1bdeadabdc\") {\n",
       "      outputDiv = document.getElementById(\"altair-viz-561c1f101d004c00ae1d6b1bdeadabdc\");\n",
       "    }\n",
       "    const paths = {\n",
       "      \"vega\": \"https://cdn.jsdelivr.net/npm//vega@5?noext\",\n",
       "      \"vega-lib\": \"https://cdn.jsdelivr.net/npm//vega-lib?noext\",\n",
       "      \"vega-lite\": \"https://cdn.jsdelivr.net/npm//vega-lite@4.8.1?noext\",\n",
       "      \"vega-embed\": \"https://cdn.jsdelivr.net/npm//vega-embed@6?noext\",\n",
       "    };\n",
       "\n",
       "    function loadScript(lib) {\n",
       "      return new Promise(function(resolve, reject) {\n",
       "        var s = document.createElement('script');\n",
       "        s.src = paths[lib];\n",
       "        s.async = true;\n",
       "        s.onload = () => resolve(paths[lib]);\n",
       "        s.onerror = () => reject(`Error loading script: ${paths[lib]}`);\n",
       "        document.getElementsByTagName(\"head\")[0].appendChild(s);\n",
       "      });\n",
       "    }\n",
       "\n",
       "    function showError(err) {\n",
       "      outputDiv.innerHTML = `<div class=\"error\" style=\"color:red;\">${err}</div>`;\n",
       "      throw err;\n",
       "    }\n",
       "\n",
       "    function displayChart(vegaEmbed) {\n",
       "      vegaEmbed(outputDiv, spec, embedOpt)\n",
       "        .catch(err => showError(`Javascript Error: ${err.message}<br>This usually means there's a typo in your chart specification. See the javascript console for the full traceback.`));\n",
       "    }\n",
       "\n",
       "    if(typeof define === \"function\" && define.amd) {\n",
       "      requirejs.config({paths});\n",
       "      require([\"vega-embed\"], displayChart, err => showError(`Error loading script: ${err.message}`));\n",
       "    } else if (typeof vegaEmbed === \"function\") {\n",
       "      displayChart(vegaEmbed);\n",
       "    } else {\n",
       "      loadScript(\"vega\")\n",
       "        .then(() => loadScript(\"vega-lite\"))\n",
       "        .then(() => loadScript(\"vega-embed\"))\n",
       "        .catch(showError)\n",
       "        .then(() => displayChart(vegaEmbed));\n",
       "    }\n",
       "  })({\"config\": {\"view\": {\"continuousWidth\": 400, \"continuousHeight\": 300}}, \"layer\": [{\"mark\": \"bar\", \"encoding\": {\"x\": {\"type\": \"ordinal\", \"field\": \"domain\", \"title\": \"Domain\"}, \"y\": {\"type\": \"quantitative\", \"field\": \"count\", \"title\": \"Count, Mean of Count\"}}}, {\"mark\": {\"type\": \"rule\", \"color\": \"red\"}, \"encoding\": {\"y\": {\"type\": \"quantitative\", \"aggregate\": \"mean\", \"field\": \"count\"}}}, {\"mark\": {\"type\": \"text\", \"align\": \"center\", \"baseline\": \"bottom\"}, \"encoding\": {\"text\": {\"type\": \"quantitative\", \"field\": \"count\"}, \"x\": {\"type\": \"ordinal\", \"field\": \"domain\", \"title\": \"Domain\"}, \"y\": {\"type\": \"quantitative\", \"field\": \"count\", \"title\": \"Count, Mean of Count\"}}}], \"data\": {\"name\": \"data-114ebe7f9a42656231da3aad6bb3f15b\"}, \"height\": 700, \"title\": \"Domains Distribution\", \"width\": 1400, \"$schema\": \"https://vega.github.io/schema/vega-lite/v4.8.1.json\", \"datasets\": {\"data-114ebe7f9a42656231da3aad6bb3f15b\": [{\"domain\": \"news.ontario.ca\", \"count\": 667067}, {\"domain\": \"twitter.com\", \"count\": 263231}, {\"domain\": \"googleads.g.doubleclick.net\", \"count\": 258230}, {\"domain\": \"data.ontario.ca\", \"count\": 228838}, {\"domain\": \"ontario.ca\", \"count\": 207518}, {\"domain\": \"thestar.com\", \"count\": 194704}, {\"domain\": \"torontosun.com\", \"count\": 169927}, {\"domain\": \"youtube.com\", \"count\": 166446}, {\"domain\": \"covid-19.ontario.ca\", \"count\": 156932}, {\"domain\": \"koreatimes.net\", \"count\": 150868}]}}, {\"mode\": \"vega-lite\"});\n",
       "</script>"
      ],
      "text/plain": [
       "alt.LayerChart(...)"
      ]
     },
     "execution_count": 19,
     "metadata": {},
     "output_type": "execute_result"
    }
   ],
   "source": [
    "top_domains = domains.sort_values('count', ascending=False).head(10)\n",
    "\n",
    "top_domains_bar = alt.Chart(top_domains).mark_bar().encode(\n",
    "    x=alt.X('domain:O', title='Domain'),\n",
    "    y=alt.Y('count:Q', title='Count, Mean of Count')\n",
    ")\n",
    "\n",
    "top_domains_rule = alt.Chart(top_domains).mark_rule(color='red').encode(\n",
    "    y='mean(count):Q'\n",
    ")\n",
    "\n",
    "top_domains_text = top_domains_bar.mark_text(\n",
    "    align='center',\n",
    "    baseline='bottom'\n",
    ").encode(\n",
    "    text='count:Q'\n",
    ")\n",
    "\n",
    "(top_domains_bar + top_domains_rule + top_domains_text).properties(width=1400, height=700, title='Domains Distribution')"
   ]
  },
  {
   "cell_type": "markdown",
   "metadata": {
    "id": "VDXDhqCcyyFj"
   },
   "source": [
    "### Top Level Domain Analysis\n",
    "Now let's create a new column, `tld`, which is based off an existing column, 'Domain'. This example should give you an idea of how you can expand these datasets to do further research and analysis. \n",
    "\n",
    "A [top-level domain](https://en.wikipedia.org/wiki/Top-level_domain) refers to the highest domain in an address - i.e. `.ca`, `.com`, `.org`, or yes, even `.pizza`.\n",
    "\n",
    "Things get a bit complicated, however, in some national TLDs. While `qc.ca` (the domain for Quebec) isn't really a top-level domain, it has many of the features of one as people can directly register under it. Below, we'll use the command `suffix` to include this. \n",
    "\n",
    "> You can learn more about suffixes at https://publicsuffix.org.\n",
    "\n",
    "We'll take the `Domain` column and extract the `tld` from it with [`tldextract`](https://github.com/john-kurkowski/tldextract).\n",
    "\n",
    "First we'll add the [`tldextract`](https://github.com/john-kurkowski/tldextract) library to the notebook. Then, we'll create the new column."
   ]
  },
  {
   "cell_type": "code",
   "execution_count": 19,
   "metadata": {
    "id": "clPJuQAe5mcg"
   },
   "outputs": [],
   "source": [
    "%%capture\n",
    "\n",
    "!pip install tldextract"
   ]
  },
  {
   "cell_type": "code",
   "execution_count": 22,
   "metadata": {
    "colab": {
     "base_uri": "https://localhost:8080/",
     "height": 637
    },
    "id": "mv7a-MLIx-3f",
    "outputId": "761d498c-158c-44d0-a1f0-e63c75d594e9"
   },
   "outputs": [
    {
     "data": {
      "text/html": [
       "<div>\n",
       "<style scoped>\n",
       "    .dataframe tbody tr th:only-of-type {\n",
       "        vertical-align: middle;\n",
       "    }\n",
       "\n",
       "    .dataframe tbody tr th {\n",
       "        vertical-align: top;\n",
       "    }\n",
       "\n",
       "    .dataframe thead th {\n",
       "        text-align: right;\n",
       "    }\n",
       "</style>\n",
       "<table border=\"1\" class=\"dataframe\">\n",
       "  <thead>\n",
       "    <tr style=\"text-align: right;\">\n",
       "      <th></th>\n",
       "      <th>domain</th>\n",
       "      <th>count</th>\n",
       "      <th>tld</th>\n",
       "    </tr>\n",
       "  </thead>\n",
       "  <tbody>\n",
       "    <tr>\n",
       "      <th>0</th>\n",
       "      <td>news.ontario.ca</td>\n",
       "      <td>667067</td>\n",
       "      <td>ca</td>\n",
       "    </tr>\n",
       "    <tr>\n",
       "      <th>1</th>\n",
       "      <td>twitter.com</td>\n",
       "      <td>263231</td>\n",
       "      <td>com</td>\n",
       "    </tr>\n",
       "    <tr>\n",
       "      <th>2</th>\n",
       "      <td>googleads.g.doubleclick.net</td>\n",
       "      <td>258230</td>\n",
       "      <td>net</td>\n",
       "    </tr>\n",
       "    <tr>\n",
       "      <th>3</th>\n",
       "      <td>data.ontario.ca</td>\n",
       "      <td>228838</td>\n",
       "      <td>ca</td>\n",
       "    </tr>\n",
       "    <tr>\n",
       "      <th>4</th>\n",
       "      <td>ontario.ca</td>\n",
       "      <td>207518</td>\n",
       "      <td>ca</td>\n",
       "    </tr>\n",
       "    <tr>\n",
       "      <th>...</th>\n",
       "      <td>...</td>\n",
       "      <td>...</td>\n",
       "      <td>...</td>\n",
       "    </tr>\n",
       "    <tr>\n",
       "      <th>49037</th>\n",
       "      <td>340dc4b6ce4a3baad39ad6ccfdaa179a.safeframe.goo...</td>\n",
       "      <td>1</td>\n",
       "      <td>com</td>\n",
       "    </tr>\n",
       "    <tr>\n",
       "      <th>49038</th>\n",
       "      <td>d1d730447b42200b84b5165d36c338fb.safeframe.goo...</td>\n",
       "      <td>1</td>\n",
       "      <td>com</td>\n",
       "    </tr>\n",
       "    <tr>\n",
       "      <th>49039</th>\n",
       "      <td>87847d95338d0e9e704e8fba20d5bee8.safeframe.goo...</td>\n",
       "      <td>1</td>\n",
       "      <td>com</td>\n",
       "    </tr>\n",
       "    <tr>\n",
       "      <th>49040</th>\n",
       "      <td>9de242284df0b079910cafb29d4836d1.safeframe.goo...</td>\n",
       "      <td>1</td>\n",
       "      <td>com</td>\n",
       "    </tr>\n",
       "    <tr>\n",
       "      <th>49041</th>\n",
       "      <td>a241063698690f3d971fde1b36ccbbab.safeframe.goo...</td>\n",
       "      <td>1</td>\n",
       "      <td>com</td>\n",
       "    </tr>\n",
       "  </tbody>\n",
       "</table>\n",
       "<p>49042 rows × 3 columns</p>\n",
       "</div>"
      ],
      "text/plain": [
       "                                                  domain   count  tld\n",
       "0                                        news.ontario.ca  667067   ca\n",
       "1                                            twitter.com  263231  com\n",
       "2                            googleads.g.doubleclick.net  258230  net\n",
       "3                                        data.ontario.ca  228838   ca\n",
       "4                                             ontario.ca  207518   ca\n",
       "...                                                  ...     ...  ...\n",
       "49037  340dc4b6ce4a3baad39ad6ccfdaa179a.safeframe.goo...       1  com\n",
       "49038  d1d730447b42200b84b5165d36c338fb.safeframe.goo...       1  com\n",
       "49039  87847d95338d0e9e704e8fba20d5bee8.safeframe.goo...       1  com\n",
       "49040  9de242284df0b079910cafb29d4836d1.safeframe.goo...       1  com\n",
       "49041  a241063698690f3d971fde1b36ccbbab.safeframe.goo...       1  com\n",
       "\n",
       "[49042 rows x 3 columns]"
      ]
     },
     "execution_count": 22,
     "metadata": {},
     "output_type": "execute_result"
    }
   ],
   "source": [
    "import tldextract\n",
    "\n",
    "domains['tld'] = domains.apply(lambda row: tldextract.extract(row.domain).suffix, axis=1)\n",
    "domains"
   ]
  },
  {
   "cell_type": "markdown",
   "metadata": {
    "id": "jdXFS2yu8XYG"
   },
   "source": [
    "#### Next, let's count the distict TLDs.\n"
   ]
  },
  {
   "cell_type": "code",
   "execution_count": 23,
   "metadata": {
    "colab": {
     "base_uri": "https://localhost:8080/"
    },
    "id": "1lViQIU48e-u",
    "outputId": "68fd98da-bfe6-4aa6-db29-e5144320f32e"
   },
   "outputs": [
    {
     "data": {
      "text/plain": [
       "com        41236\n",
       "ca          3565\n",
       "org         1272\n",
       "net          630\n",
       "on.ca        300\n",
       "           ...  \n",
       "nz             1\n",
       "gy             1\n",
       "re             1\n",
       "co.bw          1\n",
       "reviews        1\n",
       "Name: tld, Length: 318, dtype: int64"
      ]
     },
     "execution_count": 23,
     "metadata": {},
     "output_type": "execute_result"
    }
   ],
   "source": [
    "tld_count = domains['tld'].value_counts()\n",
    "tld_count"
   ]
  },
  {
   "cell_type": "markdown",
   "metadata": {
    "id": "xm_V_0PGzZut"
   },
   "source": [
    "#### Next, we'll plot the TLD count.\n"
   ]
  },
  {
   "cell_type": "code",
   "execution_count": 28,
   "metadata": {
    "colab": {
     "base_uri": "https://localhost:8080/",
     "height": 796
    },
    "id": "N8yNlOa-zmBD",
    "outputId": "e0ef784b-28cf-4758-efec-3f6b8e4b2331"
   },
   "outputs": [
    {
     "data": {
      "text/html": [
       "\n",
       "<div id=\"altair-viz-6d8b01c9604a430096ecaca3372bcbe0\"></div>\n",
       "<script type=\"text/javascript\">\n",
       "  (function(spec, embedOpt){\n",
       "    let outputDiv = document.currentScript.previousElementSibling;\n",
       "    if (outputDiv.id !== \"altair-viz-6d8b01c9604a430096ecaca3372bcbe0\") {\n",
       "      outputDiv = document.getElementById(\"altair-viz-6d8b01c9604a430096ecaca3372bcbe0\");\n",
       "    }\n",
       "    const paths = {\n",
       "      \"vega\": \"https://cdn.jsdelivr.net/npm//vega@5?noext\",\n",
       "      \"vega-lib\": \"https://cdn.jsdelivr.net/npm//vega-lib?noext\",\n",
       "      \"vega-lite\": \"https://cdn.jsdelivr.net/npm//vega-lite@4.8.1?noext\",\n",
       "      \"vega-embed\": \"https://cdn.jsdelivr.net/npm//vega-embed@6?noext\",\n",
       "    };\n",
       "\n",
       "    function loadScript(lib) {\n",
       "      return new Promise(function(resolve, reject) {\n",
       "        var s = document.createElement('script');\n",
       "        s.src = paths[lib];\n",
       "        s.async = true;\n",
       "        s.onload = () => resolve(paths[lib]);\n",
       "        s.onerror = () => reject(`Error loading script: ${paths[lib]}`);\n",
       "        document.getElementsByTagName(\"head\")[0].appendChild(s);\n",
       "      });\n",
       "    }\n",
       "\n",
       "    function showError(err) {\n",
       "      outputDiv.innerHTML = `<div class=\"error\" style=\"color:red;\">${err}</div>`;\n",
       "      throw err;\n",
       "    }\n",
       "\n",
       "    function displayChart(vegaEmbed) {\n",
       "      vegaEmbed(outputDiv, spec, embedOpt)\n",
       "        .catch(err => showError(`Javascript Error: ${err.message}<br>This usually means there's a typo in your chart specification. See the javascript console for the full traceback.`));\n",
       "    }\n",
       "\n",
       "    if(typeof define === \"function\" && define.amd) {\n",
       "      requirejs.config({paths});\n",
       "      require([\"vega-embed\"], displayChart, err => showError(`Error loading script: ${err.message}`));\n",
       "    } else if (typeof vegaEmbed === \"function\") {\n",
       "      displayChart(vegaEmbed);\n",
       "    } else {\n",
       "      loadScript(\"vega\")\n",
       "        .then(() => loadScript(\"vega-lite\"))\n",
       "        .then(() => loadScript(\"vega-embed\"))\n",
       "        .catch(showError)\n",
       "        .then(() => displayChart(vegaEmbed));\n",
       "    }\n",
       "  })({\"config\": {\"view\": {\"continuousWidth\": 400, \"continuousHeight\": 300}}, \"layer\": [{\"mark\": \"bar\", \"encoding\": {\"x\": {\"type\": \"ordinal\", \"field\": \"TLD\"}, \"y\": {\"type\": \"quantitative\", \"field\": \"Count\"}}}, {\"mark\": {\"type\": \"rule\", \"color\": \"red\"}, \"encoding\": {\"y\": {\"type\": \"quantitative\", \"aggregate\": \"mean\", \"field\": \"Count\"}}}, {\"mark\": {\"type\": \"text\", \"align\": \"center\", \"baseline\": \"bottom\"}, \"encoding\": {\"text\": {\"type\": \"quantitative\", \"field\": \"Count\"}, \"x\": {\"type\": \"ordinal\", \"field\": \"TLD\"}, \"y\": {\"type\": \"quantitative\", \"field\": \"Count\"}}}], \"data\": {\"name\": \"data-5c8ffa29297d2a4f24e23aab8b84588f\"}, \"height\": 700, \"title\": \"Top Level Domain Distribution\", \"width\": 1400, \"$schema\": \"https://vega.github.io/schema/vega-lite/v4.8.1.json\", \"datasets\": {\"data-5c8ffa29297d2a4f24e23aab8b84588f\": [{\"TLD\": \"com\", \"Count\": 41236}, {\"TLD\": \"ca\", \"Count\": 3565}, {\"TLD\": \"org\", \"Count\": 1272}, {\"TLD\": \"net\", \"Count\": 630}, {\"TLD\": \"on.ca\", \"Count\": 300}, {\"TLD\": \"io\", \"Count\": 131}, {\"TLD\": \"co\", \"Count\": 88}, {\"TLD\": \"ru\", \"Count\": 74}, {\"TLD\": \"gc.ca\", \"Count\": 72}, {\"TLD\": \"co.uk\", \"Count\": 58}]}}, {\"mode\": \"vega-lite\"});\n",
       "</script>"
      ],
      "text/plain": [
       "alt.LayerChart(...)"
      ]
     },
     "execution_count": 28,
     "metadata": {},
     "output_type": "execute_result"
    }
   ],
   "source": [
    "tld_count = domains['tld'].value_counts().rename_axis('TLD').reset_index(name='Count').sort_values('Count', ascending=False).head(10)\n",
    "\n",
    "tld_bar = alt.Chart(tld_count).mark_bar().encode(\n",
    "    x='TLD:O',\n",
    "    y='Count:Q'\n",
    ")\n",
    "\n",
    "tld_rule = alt.Chart(tld_count).mark_rule(color='red').encode(\n",
    "    y='mean(Count):Q'\n",
    ")\n",
    "\n",
    "tld_text = tld_bar.mark_text(\n",
    "    align='center',\n",
    "    baseline='bottom'\n",
    ").encode(\n",
    "    text='Count:Q'\n",
    ")\n",
    "\n",
    "(tld_bar + tld_rule + tld_text).properties(width=1400, height=700, title='Top Level Domain Distribution')"
   ]
  }
 ],
 "metadata": {
  "colab": {
   "include_colab_link": true,
   "machine_shape": "hm",
   "name": "arch-example.ipynb",
   "provenance": []
  },
  "kernelspec": {
   "display_name": "Python 3",
   "language": "python",
   "name": "python3"
  },
  "language_info": {
   "codemirror_mode": {
    "name": "ipython",
    "version": 3
   },
   "file_extension": ".py",
   "mimetype": "text/x-python",
   "name": "python",
   "nbconvert_exporter": "python",
   "pygments_lexer": "ipython3",
   "version": "3.8.5"
  }
 },
 "nbformat": 4,
 "nbformat_minor": 1
}
