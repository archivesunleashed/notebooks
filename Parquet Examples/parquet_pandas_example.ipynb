{
  "nbformat": 4,
  "nbformat_minor": 0,
  "metadata": {
    "colab": {
      "name": "parquet-pandas-example.ipynb",
      "provenance": [],
      "machine_shape": "hm",
      "include_colab_link": true
    },
    "kernelspec": {
      "display_name": "Python 3",
      "language": "python",
      "name": "python3"
    },
    "language_info": {
      "codemirror_mode": {
        "name": "ipython",
        "version": 3
      },
      "file_extension": ".py",
      "mimetype": "text/x-python",
      "name": "python",
      "nbconvert_exporter": "python",
      "pygments_lexer": "ipython3",
      "version": "3.7.3"
    }
  },
  "cells": [
    {
      "cell_type": "markdown",
      "metadata": {
        "id": "view-in-github",
        "colab_type": "text"
      },
      "source": [
        "<a href=\"https://colab.research.google.com/github/archivesunleashed/notebooks/blob/main/Parquet%20Examples/parquet_pandas_example.ipynb\" target=\"_parent\"><img src=\"https://colab.research.google.com/assets/colab-badge.svg\" alt=\"Open In Colab\"/></a>"
      ]
    },
    {
      "cell_type": "markdown",
      "metadata": {
        "id": "EN0gajhr7pKd"
      },
      "source": [
        "# Working with Archives Unleashed Parquet Derivatives\n",
        "\n",
        "In this notebook, we'll setup an environment, then download a dataset of web archive collection derivatives that were produced with the [Archives Unleashed Toolkit](https://github.com/archivesunleashed/aut/). These derivatives are in the [Apache Parquet](https://parquet.apache.org/) format, which is a [columnar storage](http://en.wikipedia.org/wiki/Column-oriented_DBMS) format. These derivatives are generally small enough to work with on your local machine, and can be easily converted to Pandas DataFrames as demonstrated below.\n",
        "\n",
        "This notebook is useful for exploring the following derivatives. \n",
        "\n",
        "**[Binary Analysis](https://github.com/archivesunleashed/aut-docs/blob/master/current/binary-analysis.md#binary-analysis)**\n",
        "- [Audio](https://github.com/archivesunleashed/aut-docs/blob/master/current/binary-analysis.md#extract-audio-information)\n",
        "- [Images](https://github.com/archivesunleashed/aut-docs/blob/master/current/binary-analysis.md#extract-image-information)\n",
        "- [PDFs](https://github.com/archivesunleashed/aut-docs/blob/master/current/binary-analysis.md#extract-pdf-information)\n",
        "- [Presentation program files](https://github.com/archivesunleashed/aut-docs/blob/master/current/binary-analysis.md#extract-presentation-program-files-information)\n",
        "- [Spreadsheets](https://github.com/archivesunleashed/aut-docs/blob/master/current/binary-analysis.md#extract-spreadsheet-information)\n",
        "- [Text files](https://github.com/archivesunleashed/aut-docs/blob/master/current/binary-analysis.md#extract-text-files-information)\n",
        "- [Videos](https://github.com/archivesunleashed/aut-docs/blob/master/current/binary-analysis.md#extract-video-information)\n",
        "- [Word processor files](https://github.com/archivesunleashed/aut-docs/blob/master/current/binary-analysis.md#extract-word-processor-files-information)\n",
        "\n",
        "**Web Pages**\n",
        "\n",
        "`.webpages().select($\"crawl_date\", $\"url\", $\"mime_type_web_server\", $\"mime_type_tika\", RemoveHTMLDF(RemoveHTTPHeaderDF(($\"content\"))).alias(\"content\"))` \n",
        "\n",
        "Produces a DataFrame with the following columns:\n",
        "  - `crawl_date`\n",
        "  - `url`\n",
        "  - `mime_type_web_server`\n",
        "  - `mime_type_tika`\n",
        "  - `content`\n",
        "\n",
        "As the `webpages` derivative is especially rich - it contains the full text of all webpages - we have a separate notebook for [text analysis](https://github.com/archivesunleashed/notebooks/blob/master/parquet_text_analyis.ipynb) here.\n",
        "\n",
        "**Web Graph**\n",
        "\n",
        "`.webgraph()` \n",
        "\n",
        "Produces a DataFrame with the following columns:\n",
        "  - `crawl_date`\n",
        "  - `src`\n",
        "  - `dest`\n",
        "  - `anchor`\n",
        "\n",
        "**Image Links**\n",
        "\n",
        "`.imageLinks()`\n",
        "\n",
        "Produces a DataFrame with the following columns:\n",
        "  - `src`\n",
        "  - `image_url`\n",
        "\n",
        "**Domains**\n",
        "\n",
        "`.webpages().groupBy(ExtractDomainDF($\"url\").alias(\"url\")).count().sort($\"count\".desc)`\n",
        "\n",
        "Produces a DataFrame with the following columns:\n",
        "- domain\n",
        "- count\n",
        "\n",
        "We recommend running through the notebook with the provided sample dataset. You may then want to substitute it with your own dataset."
      ]
    },
    {
      "cell_type": "markdown",
      "metadata": {
        "id": "OctPUqrG-K2W"
      },
      "source": [
        "# Dataset\n",
        "\n",
        "First, we will need a web archive dataset to work with.\n",
        "\n",
        "In this example notebook we use a dataset from [Bibliothèque et Archives nationales du Québec](https://www.banq.qc.ca/accueil/). It is a web archive collection of the Ministry of Environment of Québec (2011-2014), that has been  processed by the [Archives Unleashed Toolkit](https://github.com/archivesunleashed/aut/). Merci beaucoup BAnQ!\n",
        "\n",
        "[![DOI](https://zenodo.org/badge/DOI/10.5281/zenodo.3605525.svg)](https://doi.org/10.5281/zenodo.3605525)\n",
        "\n",
        "Curious about the size the derivative Parquet output compared to the size of the web archive collection?\n",
        "\n",
        "The total size of all 12 Parquet deriatives is 594M, with `webpages` being the largest (528M) since it has a column with full text (`content`).\n",
        "\n",
        "```\n",
        "2.5M\t./videos\n",
        "344K\t./domains\n",
        "1.7M\t./word-processor-files\n",
        "24K\t./presentation-program-files\n",
        "1.7M\t./spreadsheets\n",
        "880K\t./audio\n",
        "4.4M\t./images\n",
        "528M\t./webpages\n",
        "1.7M\t./text-files\n",
        "3.9M\t./pdfs\n",
        "29M\t./webgraph\n",
        "22M\t./imagelinks\n",
        "594M\t.\n",
        "```\n",
        "\n",
        "The total size of the web archive collection is 165G. The derivative file is thus a 99.68% decrease!\n",
        "\n",
        "The following command downloads all of the parquets file from the Zenodo data repository. To run a 'cell,' you can click the play button next to the cell or you can press your shift key and enter key at the same time.\n",
        "\n",
        "Whenever you see code snippets like this, you should do the same thing to run it.\n"
      ]
    },
    {
      "cell_type": "code",
      "metadata": {
        "id": "m3FRzjAYyPid"
      },
      "source": [
        "%%capture\n",
        "\n",
        "!curl -L \"https://zenodo.org/record/3598450/files/environnement-qc.tar.gz?download=1\" > environment-qc-parquet.tar.gz\n",
        "!tar -xzf environment-qc-parquet.tar.gz"
      ],
      "execution_count": 1,
      "outputs": []
    },
    {
      "cell_type": "markdown",
      "metadata": {
        "id": "h3Nr_JCbsWx8"
      },
      "source": [
        "The following command provides a list of all the downloaded parquet files. You should see a list of all the different derivatives here - note that they line up with the list provided at the beginning of this notebook.\n"
      ]
    },
    {
      "cell_type": "code",
      "metadata": {
        "colab": {
          "base_uri": "https://localhost:8080/"
        },
        "id": "2RK74TCSuIXE",
        "outputId": "3448c664-2f3b-4025-c93c-7368c0b5a825"
      },
      "source": [
        "!ls -1 parquet"
      ],
      "execution_count": 2,
      "outputs": [
        {
          "output_type": "stream",
          "text": [
            "audio\n",
            "domains\n",
            "imagelinks\n",
            "images\n",
            "pdfs\n",
            "presentation-program-files\n",
            "spreadsheets\n",
            "text-files\n",
            "videos\n",
            "webgraph\n",
            "webpages\n",
            "word-processor-files\n"
          ],
          "name": "stdout"
        }
      ]
    },
    {
      "cell_type": "markdown",
      "metadata": {
        "id": "JS0T6i4xPTVx"
      },
      "source": [
        "# Environment\n",
        "\n",
        "Next, we'll setup our environment so we can work with the Parquet output with [Pandas](https://pandas.pydata.org)."
      ]
    },
    {
      "cell_type": "code",
      "metadata": {
        "id": "n56-DeEFPTCq"
      },
      "source": [
        "import numpy as np\n",
        "import pandas as pd\n",
        "import pyarrow as pa\n",
        "import pyarrow.parquet as pq"
      ],
      "execution_count": 3,
      "outputs": []
    },
    {
      "cell_type": "markdown",
      "metadata": {
        "id": "oFAFb2X3_VJC"
      },
      "source": [
        "# Loading our Archives Unleashed Datasets as DataFrames\n",
        "\n",
        "Next, we'll load up our datasets to work with and show a preview of each. We'll load the network, domains, web graph, and images. \n",
        "\n",
        "The remainder of the binary datasets (audio, video, spreadsheets, etc.) will all follow the same pattern as the images dataset, except that they do not have the height and width columns. A useful exercise when trying to learn how to use this would be to swap out images for audio, for example, and see how you can explore these other file types.\n",
        "\n",
        "We've provided a [separate notebook](https://github.com/archivesunleashed/notebooks/blob/master/parquet_text_analyis.ipynb) to work with the pages dataset  because it tends to be resource intensive.\n"
      ]
    },
    {
      "cell_type": "markdown",
      "metadata": {
        "id": "SnEntLU0U2ox"
      },
      "source": [
        "## Images\n",
        "\n",
        "The following commands create a variable called `images` that contain a DataFrame with all of the image information from the web archive. \n",
        "\n",
        "**Reminder:** If you want to look at a differnt derivative, you can, for instance, replace out `images` for `audio`."
      ]
    },
    {
      "cell_type": "code",
      "metadata": {
        "colab": {
          "base_uri": "https://localhost:8080/",
          "height": 424
        },
        "id": "GhE_Vhv8Awkx",
        "outputId": "3a180014-b3d5-4e46-dc1e-78f15de58670"
      },
      "source": [
        "images_parquet = pq.read_table('parquet/images')\n",
        "images = images_parquet.to_pandas()\n",
        "images"
      ],
      "execution_count": 4,
      "outputs": [
        {
          "output_type": "execute_result",
          "data": {
            "text/html": [
              "<div>\n",
              "<style scoped>\n",
              "    .dataframe tbody tr th:only-of-type {\n",
              "        vertical-align: middle;\n",
              "    }\n",
              "\n",
              "    .dataframe tbody tr th {\n",
              "        vertical-align: top;\n",
              "    }\n",
              "\n",
              "    .dataframe thead th {\n",
              "        text-align: right;\n",
              "    }\n",
              "</style>\n",
              "<table border=\"1\" class=\"dataframe\">\n",
              "  <thead>\n",
              "    <tr style=\"text-align: right;\">\n",
              "      <th></th>\n",
              "      <th>url</th>\n",
              "      <th>filename</th>\n",
              "      <th>extension</th>\n",
              "      <th>mime_type_web_server</th>\n",
              "      <th>mime_type_tika</th>\n",
              "      <th>width</th>\n",
              "      <th>height</th>\n",
              "      <th>md5</th>\n",
              "    </tr>\n",
              "  </thead>\n",
              "  <tbody>\n",
              "    <tr>\n",
              "      <th>0</th>\n",
              "      <td>http://www.mddelcc.gouv.qc.ca/pesticides/jardi...</td>\n",
              "      <td>mille-clop-carabe.jpg</td>\n",
              "      <td>jpg</td>\n",
              "      <td>image/jpeg</td>\n",
              "      <td>image/jpeg</td>\n",
              "      <td>151</td>\n",
              "      <td>150</td>\n",
              "      <td>fff9b162031400d2dc96ec30284f580e</td>\n",
              "    </tr>\n",
              "    <tr>\n",
              "      <th>1</th>\n",
              "      <td>http://www.mddep.gouv.qc.ca//pesticides/jardin...</td>\n",
              "      <td>mille-clop-carabe.jpg</td>\n",
              "      <td>jpg</td>\n",
              "      <td>image/jpeg</td>\n",
              "      <td>image/jpeg</td>\n",
              "      <td>151</td>\n",
              "      <td>150</td>\n",
              "      <td>fff9b162031400d2dc96ec30284f580e</td>\n",
              "    </tr>\n",
              "    <tr>\n",
              "      <th>2</th>\n",
              "      <td>http://www.mddefp.gouv.qc.ca/pesticides/jardin...</td>\n",
              "      <td>mille-clop-carabe.jpg</td>\n",
              "      <td>jpg</td>\n",
              "      <td>image/jpeg</td>\n",
              "      <td>image/jpeg</td>\n",
              "      <td>151</td>\n",
              "      <td>150</td>\n",
              "      <td>fff9b162031400d2dc96ec30284f580e</td>\n",
              "    </tr>\n",
              "    <tr>\n",
              "      <th>3</th>\n",
              "      <td>http://www.mddefp.gouv.qc.ca////pesticides/jar...</td>\n",
              "      <td>mille-clop-carabe.jpg</td>\n",
              "      <td>jpg</td>\n",
              "      <td>image/jpeg</td>\n",
              "      <td>image/jpeg</td>\n",
              "      <td>151</td>\n",
              "      <td>150</td>\n",
              "      <td>fff9b162031400d2dc96ec30284f580e</td>\n",
              "    </tr>\n",
              "    <tr>\n",
              "      <th>4</th>\n",
              "      <td>http://www.mddefp.gouv.qc.ca////pesticides/jar...</td>\n",
              "      <td>mille-clop-carabe.jpg</td>\n",
              "      <td>jpg</td>\n",
              "      <td>image/jpeg</td>\n",
              "      <td>image/jpeg</td>\n",
              "      <td>151</td>\n",
              "      <td>150</td>\n",
              "      <td>fff9b162031400d2dc96ec30284f580e</td>\n",
              "    </tr>\n",
              "    <tr>\n",
              "      <th>...</th>\n",
              "      <td>...</td>\n",
              "      <td>...</td>\n",
              "      <td>...</td>\n",
              "      <td>...</td>\n",
              "      <td>...</td>\n",
              "      <td>...</td>\n",
              "      <td>...</td>\n",
              "      <td>...</td>\n",
              "    </tr>\n",
              "    <tr>\n",
              "      <th>156161</th>\n",
              "      <td>http://mddep.gouv.qc.ca///biodiversite/habitat...</td>\n",
              "      <td>image-ile-G.jpg</td>\n",
              "      <td>jpg</td>\n",
              "      <td>image/jpeg</td>\n",
              "      <td>image/jpeg</td>\n",
              "      <td>375</td>\n",
              "      <td>500</td>\n",
              "      <td>000175bcfb5be374c5f8da05bfe49dc8</td>\n",
              "    </tr>\n",
              "    <tr>\n",
              "      <th>156162</th>\n",
              "      <td>http://mddep.gouv.qc.ca//biodiversite/habitats...</td>\n",
              "      <td>image-ile-G.jpg</td>\n",
              "      <td>jpg</td>\n",
              "      <td>image/jpeg</td>\n",
              "      <td>image/jpeg</td>\n",
              "      <td>375</td>\n",
              "      <td>500</td>\n",
              "      <td>000175bcfb5be374c5f8da05bfe49dc8</td>\n",
              "    </tr>\n",
              "    <tr>\n",
              "      <th>156163</th>\n",
              "      <td>http://www.mddep.gouv.qc.ca/biodiversite/habit...</td>\n",
              "      <td>image-ile-G.jpg</td>\n",
              "      <td>jpg</td>\n",
              "      <td>image/jpeg</td>\n",
              "      <td>image/jpeg</td>\n",
              "      <td>375</td>\n",
              "      <td>500</td>\n",
              "      <td>000175bcfb5be374c5f8da05bfe49dc8</td>\n",
              "    </tr>\n",
              "    <tr>\n",
              "      <th>156164</th>\n",
              "      <td>http://mddep.gouv.qc.ca////biodiversite/habita...</td>\n",
              "      <td>image-ile-G.jpg</td>\n",
              "      <td>jpg</td>\n",
              "      <td>image/jpeg</td>\n",
              "      <td>image/jpeg</td>\n",
              "      <td>375</td>\n",
              "      <td>500</td>\n",
              "      <td>000175bcfb5be374c5f8da05bfe49dc8</td>\n",
              "    </tr>\n",
              "    <tr>\n",
              "      <th>156165</th>\n",
              "      <td>http://www.mddefp.gouv.qc.ca//biodiversite/hab...</td>\n",
              "      <td>image-ile-G.jpg</td>\n",
              "      <td>jpg</td>\n",
              "      <td>image/jpeg</td>\n",
              "      <td>image/jpeg</td>\n",
              "      <td>375</td>\n",
              "      <td>500</td>\n",
              "      <td>000175bcfb5be374c5f8da05bfe49dc8</td>\n",
              "    </tr>\n",
              "  </tbody>\n",
              "</table>\n",
              "<p>156166 rows × 8 columns</p>\n",
              "</div>"
            ],
            "text/plain": [
              "                                                      url  ...                               md5\n",
              "0       http://www.mddelcc.gouv.qc.ca/pesticides/jardi...  ...  fff9b162031400d2dc96ec30284f580e\n",
              "1       http://www.mddep.gouv.qc.ca//pesticides/jardin...  ...  fff9b162031400d2dc96ec30284f580e\n",
              "2       http://www.mddefp.gouv.qc.ca/pesticides/jardin...  ...  fff9b162031400d2dc96ec30284f580e\n",
              "3       http://www.mddefp.gouv.qc.ca////pesticides/jar...  ...  fff9b162031400d2dc96ec30284f580e\n",
              "4       http://www.mddefp.gouv.qc.ca////pesticides/jar...  ...  fff9b162031400d2dc96ec30284f580e\n",
              "...                                                   ...  ...                               ...\n",
              "156161  http://mddep.gouv.qc.ca///biodiversite/habitat...  ...  000175bcfb5be374c5f8da05bfe49dc8\n",
              "156162  http://mddep.gouv.qc.ca//biodiversite/habitats...  ...  000175bcfb5be374c5f8da05bfe49dc8\n",
              "156163  http://www.mddep.gouv.qc.ca/biodiversite/habit...  ...  000175bcfb5be374c5f8da05bfe49dc8\n",
              "156164  http://mddep.gouv.qc.ca////biodiversite/habita...  ...  000175bcfb5be374c5f8da05bfe49dc8\n",
              "156165  http://www.mddefp.gouv.qc.ca//biodiversite/hab...  ...  000175bcfb5be374c5f8da05bfe49dc8\n",
              "\n",
              "[156166 rows x 8 columns]"
            ]
          },
          "metadata": {
            "tags": []
          },
          "execution_count": 4
        }
      ]
    },
    {
      "cell_type": "markdown",
      "metadata": {
        "id": "JgBtx0xFFv_i"
      },
      "source": [
        "# Data Table Display\n",
        "\n",
        "Colab includes an extension that renders pandas dataframes into interactive displays that can be filtered, sorted, and explored dynamically.\n",
        "\n",
        "Data table display for Pandas dataframes can be enabled by running:\n",
        "```python\n",
        "%load_ext google.colab.data_table\n",
        "```\n",
        "and disabled by running\n",
        "```python\n",
        "%unload_ext google.colab.data_table\n",
        "```\n",
        "\n",
        "Note: There appears to be a limit to how many rows can be used in the Data Table display. It doesn't work with all examples in this notebook.\n"
      ]
    },
    {
      "cell_type": "code",
      "metadata": {
        "id": "8h2lJY2Z7xyt"
      },
      "source": [
        "%load_ext google.colab.data_table"
      ],
      "execution_count": 5,
      "outputs": []
    },
    {
      "cell_type": "markdown",
      "metadata": {
        "id": "y5CmfUPNVAQH"
      },
      "source": [
        "## Web Graph\n",
        "\n",
        "The next data that we will explore will be the \"web graph.\" This is a DataFrame containing all the hyperlinks within a collection - from `src` (or the page that _contains_ the link) to `dest` (or the page that the link is linking _to_). It also includes the date when this link was crawled, as well as the `anchor` text (what the user clicks on to visit)."
      ]
    },
    {
      "cell_type": "code",
      "metadata": {
        "colab": {
          "base_uri": "https://localhost:8080/",
          "height": 424
        },
        "id": "-YKUCY_izzT8",
        "outputId": "bb5d803c-16f0-472e-ea95-1a0052a0e5c5"
      },
      "source": [
        "webgraph_parquet = pq.read_table('parquet/webgraph')\n",
        "webgraph = webgraph_parquet.to_pandas()\n",
        "webgraph"
      ],
      "execution_count": 6,
      "outputs": [
        {
          "output_type": "execute_result",
          "data": {
            "text/html": [
              "<div>\n",
              "<style scoped>\n",
              "    .dataframe tbody tr th:only-of-type {\n",
              "        vertical-align: middle;\n",
              "    }\n",
              "\n",
              "    .dataframe tbody tr th {\n",
              "        vertical-align: top;\n",
              "    }\n",
              "\n",
              "    .dataframe thead th {\n",
              "        text-align: right;\n",
              "    }\n",
              "</style>\n",
              "<table border=\"1\" class=\"dataframe\">\n",
              "  <thead>\n",
              "    <tr style=\"text-align: right;\">\n",
              "      <th></th>\n",
              "      <th>crawl_date</th>\n",
              "      <th>src</th>\n",
              "      <th>dest</th>\n",
              "      <th>anchor</th>\n",
              "    </tr>\n",
              "  </thead>\n",
              "  <tbody>\n",
              "    <tr>\n",
              "      <th>0</th>\n",
              "      <td>20121218</td>\n",
              "      <td>http://www.mddefp.gouv.qc.ca/infuseur/communiq...</td>\n",
              "      <td>http://www.mddefp.gouv.qc.ca/changements/carbo...</td>\n",
              "      <td>modification r�glementaire</td>\n",
              "    </tr>\n",
              "    <tr>\n",
              "      <th>1</th>\n",
              "      <td>20121218</td>\n",
              "      <td>http://www.mddefp.gouv.qc.ca/infuseur/communiq...</td>\n",
              "      <td>http://recherched.gouv.qc.ca/internet/search.d...</td>\n",
              "      <td>Recherche</td>\n",
              "    </tr>\n",
              "    <tr>\n",
              "      <th>2</th>\n",
              "      <td>20121218</td>\n",
              "      <td>http://www.mddefp.gouv.qc.ca/infuseur/communiq...</td>\n",
              "      <td>http://www.gouv.qc.ca/</td>\n",
              "      <td></td>\n",
              "    </tr>\n",
              "    <tr>\n",
              "      <th>3</th>\n",
              "      <td>20121218</td>\n",
              "      <td>http://www.mddefp.gouv.qc.ca/infuseur/communiq...</td>\n",
              "      <td>http://www.droitauteur.gouv.qc.ca/copyright.php</td>\n",
              "      <td>� Gouvernement du Qu�bec, 2002</td>\n",
              "    </tr>\n",
              "    <tr>\n",
              "      <th>4</th>\n",
              "      <td>20121218</td>\n",
              "      <td>http://www.vehiculeselectriques.gouv.qc.ca/eng...</td>\n",
              "      <td>http://www.gouv.qc.ca/portail/quebec/pgs/commu...</td>\n",
              "      <td>Québec Portal</td>\n",
              "    </tr>\n",
              "    <tr>\n",
              "      <th>...</th>\n",
              "      <td>...</td>\n",
              "      <td>...</td>\n",
              "      <td>...</td>\n",
              "      <td>...</td>\n",
              "    </tr>\n",
              "    <tr>\n",
              "      <th>1439507</th>\n",
              "      <td>20121219</td>\n",
              "      <td>http://www.mddep.gouv.qc.ca/eau/guide/resultat...</td>\n",
              "      <td>http://www.gouv.qc.ca/</td>\n",
              "      <td></td>\n",
              "    </tr>\n",
              "    <tr>\n",
              "      <th>1439508</th>\n",
              "      <td>20121219</td>\n",
              "      <td>http://www.mddep.gouv.qc.ca/eau/guide/resultat...</td>\n",
              "      <td>http://www.droitauteur.gouv.qc.ca/copyright.php</td>\n",
              "      <td>� Gouvernement du Qu�bec, 2002</td>\n",
              "    </tr>\n",
              "    <tr>\n",
              "      <th>1439509</th>\n",
              "      <td>20121219</td>\n",
              "      <td>http://www.mddep.gouv.qc.ca/eau/guide/resultat...</td>\n",
              "      <td>http://recherched.gouv.qc.ca/internet/search.d...</td>\n",
              "      <td>Recherche</td>\n",
              "    </tr>\n",
              "    <tr>\n",
              "      <th>1439510</th>\n",
              "      <td>20121219</td>\n",
              "      <td>http://www.mddep.gouv.qc.ca/eau/guide/resultat...</td>\n",
              "      <td>http://www.gouv.qc.ca/</td>\n",
              "      <td></td>\n",
              "    </tr>\n",
              "    <tr>\n",
              "      <th>1439511</th>\n",
              "      <td>20121219</td>\n",
              "      <td>http://www.mddep.gouv.qc.ca/eau/guide/resultat...</td>\n",
              "      <td>http://www.droitauteur.gouv.qc.ca/copyright.php</td>\n",
              "      <td>� Gouvernement du Qu�bec, 2002</td>\n",
              "    </tr>\n",
              "  </tbody>\n",
              "</table>\n",
              "<p>1439512 rows × 4 columns</p>\n",
              "</div>"
            ],
            "text/plain": [
              "        crawl_date  ...                          anchor\n",
              "0         20121218  ...      modification r�glementaire\n",
              "1         20121218  ...                       Recherche\n",
              "2         20121218  ...                                \n",
              "3         20121218  ...  � Gouvernement du Qu�bec, 2002\n",
              "4         20121218  ...                   Québec Portal\n",
              "...            ...  ...                             ...\n",
              "1439507   20121219  ...                                \n",
              "1439508   20121219  ...  � Gouvernement du Qu�bec, 2002\n",
              "1439509   20121219  ...                       Recherche\n",
              "1439510   20121219  ...                                \n",
              "1439511   20121219  ...  � Gouvernement du Qu�bec, 2002\n",
              "\n",
              "[1439512 rows x 4 columns]"
            ]
          },
          "metadata": {
            "tags": []
          },
          "execution_count": 6
        }
      ]
    },
    {
      "cell_type": "markdown",
      "metadata": {
        "id": "ndZjsWKzUykd"
      },
      "source": [
        "## Domains\n",
        "\n",
        "This derivative contains basic information about what's been collected in the crawl. Specifically we can analyze how often pages from each domain appear.\n",
        "\n",
        "Note: You can also take of the Data Table extension to experiment with interacting with the DataFrame."
      ]
    },
    {
      "cell_type": "code",
      "metadata": {
        "colab": {
          "base_uri": "https://localhost:8080/",
          "height": 637
        },
        "id": "xUebRBMHuoRs",
        "outputId": "991b0e2e-bf65-4803-d606-eccbbe07ec11"
      },
      "source": [
        "domains_parquet = pq.read_table('parquet/domains')\n",
        "domains = domains_parquet.to_pandas()\n",
        "domains"
      ],
      "execution_count": 7,
      "outputs": [
        {
          "output_type": "execute_result",
          "data": {
            "application/vnd.google.colaboratory.module+javascript": "\n      import \"https://ssl.gstatic.com/colaboratory/data_table/a6224c040fa35dcf/data_table.js\";\n\n      window.createDataTable({\n        data: [[{\n            'v': 0,\n            'f': \"0\",\n        },\n\"www.mddefp.gouv.qc.ca\",\n{\n            'v': 108409,\n            'f': \"108409\",\n        }],\n [{\n            'v': 1,\n            'f': \"1\",\n        },\n\"www.mddep.gouv.qc.ca\",\n{\n            'v': 99854,\n            'f': \"99854\",\n        }],\n [{\n            'v': 2,\n            'f': \"2\",\n        },\n\"www.mddelcc.gouv.qc.ca\",\n{\n            'v': 83594,\n            'f': \"83594\",\n        }],\n [{\n            'v': 3,\n            'f': \"3\",\n        },\n\"mddep.gouv.qc.ca\",\n{\n            'v': 47392,\n            'f': \"47392\",\n        }],\n [{\n            'v': 4,\n            'f': \"4\",\n        },\n\"mddefp.gouv.qc.ca\",\n{\n            'v': 39783,\n            'f': \"39783\",\n        }],\n [{\n            'v': 5,\n            'f': \"5\",\n        },\n\"www.deficlimat.qc.ca\",\n{\n            'v': 6932,\n            'f': \"6932\",\n        }],\n [{\n            'v': 6,\n            'f': \"6\",\n        },\n\"www.cehq.gouv.qc.ca\",\n{\n            'v': 5774,\n            'f': \"5774\",\n        }],\n [{\n            'v': 7,\n            'f': \"7\",\n        },\n\"www.environnement.gouv.qc.ca\",\n{\n            'v': 3753,\n            'f': \"3753\",\n        }],\n [{\n            'v': 8,\n            'f': \"8\",\n        },\n\"deficlimat.qc.ca\",\n{\n            'v': 2388,\n            'f': \"2388\",\n        }],\n [{\n            'v': 9,\n            'f': \"9\",\n        },\n\"www.racj.gouv.qc.ca\",\n{\n            'v': 1574,\n            'f': \"1574\",\n        }],\n [{\n            'v': 10,\n            'f': \"10\",\n        },\n\"www.faisonslepoureux.gouv.qc.ca\",\n{\n            'v': 1105,\n            'f': \"1105\",\n        }],\n [{\n            'v': 11,\n            'f': \"11\",\n        },\n\"www.youtube.com\",\n{\n            'v': 1089,\n            'f': \"1089\",\n        }],\n [{\n            'v': 12,\n            'f': \"12\",\n        },\n\"www.iqa.mddefp.gouv.qc.ca\",\n{\n            'v': 455,\n            'f': \"455\",\n        }],\n [{\n            'v': 13,\n            'f': \"13\",\n        },\n\"www.cqlc.gouv.qc.ca\",\n{\n            'v': 455,\n            'f': \"455\",\n        }],\n [{\n            'v': 14,\n            'f': \"14\",\n        },\n\"ees-gazdeschiste.gouv.qc.ca\",\n{\n            'v': 220,\n            'f': \"220\",\n        }],\n [{\n            'v': 15,\n            'f': \"15\",\n        },\n\"www.ceaeq.gouv.qc.ca\",\n{\n            'v': 152,\n            'f': \"152\",\n        }],\n [{\n            'v': 16,\n            'f': \"16\",\n        },\n\"www.coroner.gouv.qc.ca\",\n{\n            'v': 148,\n            'f': \"148\",\n        }],\n [{\n            'v': 17,\n            'f': \"17\",\n        },\n\"publications.gc.ca\",\n{\n            'v': 143,\n            'f': \"143\",\n        }],\n [{\n            'v': 18,\n            'f': \"18\",\n        },\n\"www.letsdoitforthem.gouv.qc.ca\",\n{\n            'v': 139,\n            'f': \"139\",\n        }],\n [{\n            'v': 19,\n            'f': \"19\",\n        },\n\"www.rageduratonlaveur.gouv.qc.ca\",\n{\n            'v': 133,\n            'f': \"133\",\n        }],\n [{\n            'v': 20,\n            'f': \"20\",\n        },\n\"cdpnq.gouv.qc.ca\",\n{\n            'v': 128,\n            'f': \"128\",\n        }],\n [{\n            'v': 21,\n            'f': \"21\",\n        },\n\"www.cdpnq.gouv.qc.ca\",\n{\n            'v': 127,\n            'f': \"127\",\n        }],\n [{\n            'v': 22,\n            'f': \"22\",\n        },\n\"www.registres.mddep.gouv.qc.ca\",\n{\n            'v': 92,\n            'f': \"92\",\n        }],\n [{\n            'v': 23,\n            'f': \"23\",\n        },\n\"www.fetedelapeche.gouv.qc.ca\",\n{\n            'v': 82,\n            'f': \"82\",\n        }],\n [{\n            'v': 24,\n            'f': \"24\",\n        },\n\"rageduratonlaveur.gouv.qc.ca\",\n{\n            'v': 82,\n            'f': \"82\",\n        }],\n [{\n            'v': 25,\n            'f': \"25\",\n        },\n\"www.registres.mddefp.gouv.qc.ca\",\n{\n            'v': 67,\n            'f': \"67\",\n        }],\n [{\n            'v': 26,\n            'f': \"26\",\n        },\n\"www.iqa.mddep.gouv.qc.ca\",\n{\n            'v': 61,\n            'f': \"61\",\n        }],\n [{\n            'v': 27,\n            'f': \"27\",\n        },\n\"www.vehiculeselectriques.gouv.qc.ca\",\n{\n            'v': 60,\n            'f': \"60\",\n        }],\n [{\n            'v': 28,\n            'f': \"28\",\n        },\n\"www.ville.quebec.qc.ca\",\n{\n            'v': 58,\n            'f': \"58\",\n        }],\n [{\n            'v': 29,\n            'f': \"29\",\n        },\n\"vehiculeselectriques.gouv.qc.ca\",\n{\n            'v': 55,\n            'f': \"55\",\n        }],\n [{\n            'v': 30,\n            'f': \"30\",\n        },\n\"www.nosplansdeau.com\",\n{\n            'v': 45,\n            'f': \"45\",\n        }],\n [{\n            'v': 31,\n            'f': \"31\",\n        },\n\"nosplansdeau.com\",\n{\n            'v': 33,\n            'f': \"33\",\n        }],\n [{\n            'v': 32,\n            'f': \"32\",\n        },\n\"www.ramq.gouv.qc.ca\",\n{\n            'v': 25,\n            'f': \"25\",\n        }],\n [{\n            'v': 33,\n            'f': \"33\",\n        },\n\"www.hc-sc.gc.ca\",\n{\n            'v': 25,\n            'f': \"25\",\n        }],\n [{\n            'v': 34,\n            'f': \"34\",\n        },\n\"www.glf.dfo-mpo.gc.ca\",\n{\n            'v': 16,\n            'f': \"16\",\n        }],\n [{\n            'v': 35,\n            'f': \"35\",\n        },\n\"www.protegerlenord.mddep.gouv.qc.ca\",\n{\n            'v': 13,\n            'f': \"13\",\n        }],\n [{\n            'v': 36,\n            'f': \"36\",\n        },\n\"www.usherbrooke.ca\",\n{\n            'v': 12,\n            'f': \"12\",\n        }],\n [{\n            'v': 37,\n            'f': \"37\",\n        },\n\"www.protegeonsleau.gouv.qc.ca\",\n{\n            'v': 12,\n            'f': \"12\",\n        }],\n [{\n            'v': 38,\n            'f': \"38\",\n        },\n\"www.deontologie-policiere.gouv.qc.ca\",\n{\n            'v': 8,\n            'f': \"8\",\n        }],\n [{\n            'v': 39,\n            'f': \"39\",\n        },\n\"protegeonsleau.gouv.qc.ca\",\n{\n            'v': 8,\n            'f': \"8\",\n        }],\n [{\n            'v': 40,\n            'f': \"40\",\n        },\n\"www.facebook.com\",\n{\n            'v': 6,\n            'f': \"6\",\n        }],\n [{\n            'v': 41,\n            'f': \"41\",\n        },\n\"fetedelapeche.gouv.qc.ca\",\n{\n            'v': 6,\n            'f': \"6\",\n        }],\n [{\n            'v': 42,\n            'f': \"42\",\n        },\n\"maps.google.ca\",\n{\n            'v': 5,\n            'f': \"5\",\n        }],\n [{\n            'v': 43,\n            'f': \"43\",\n        },\n\"www.sih.mddep.gouv.qc.ca\",\n{\n            'v': 5,\n            'f': \"5\",\n        }],\n [{\n            'v': 44,\n            'f': \"44\",\n        },\n\"youtube.com\",\n{\n            'v': 4,\n            'f': \"4\",\n        }],\n [{\n            'v': 45,\n            'f': \"45\",\n        },\n\"tags.iminr.com\",\n{\n            'v': 4,\n            'f': \"4\",\n        }],\n [{\n            'v': 46,\n            'f': \"46\",\n        },\n\"maps.google.com\",\n{\n            'v': 3,\n            'f': \"3\",\n        }],\n [{\n            'v': 47,\n            'f': \"47\",\n        },\n\"www.google.com\",\n{\n            'v': 3,\n            'f': \"3\",\n        }],\n [{\n            'v': 48,\n            'f': \"48\",\n        },\n\"www.pmprovincesterritoires.ca\",\n{\n            'v': 3,\n            'f': \"3\",\n        }],\n [{\n            'v': 49,\n            'f': \"49\",\n        },\n\"www.apple.com\",\n{\n            'v': 3,\n            'f': \"3\",\n        }],\n [{\n            'v': 50,\n            'f': \"50\",\n        },\n\"www.quebec.ca\",\n{\n            'v': 2,\n            'f': \"2\",\n        }],\n [{\n            'v': 51,\n            'f': \"51\",\n        },\n\"events.pqm.net\",\n{\n            'v': 2,\n            'f': \"2\",\n        }],\n [{\n            'v': 52,\n            'f': \"52\",\n        },\n\"www.pieval.mddep.gouv.qc.ca\",\n{\n            'v': 2,\n            'f': \"2\",\n        }],\n [{\n            'v': 53,\n            'f': \"53\",\n        },\n\"www.stat.gouv.qc.ca\",\n{\n            'v': 2,\n            'f': \"2\",\n        }],\n [{\n            'v': 54,\n            'f': \"54\",\n        },\n\"liverpool.metapress.com\",\n{\n            'v': 2,\n            'f': \"2\",\n        }],\n [{\n            'v': 55,\n            'f': \"55\",\n        },\n\"deontologie-policiere.gouv.qc.ca\",\n{\n            'v': 2,\n            'f': \"2\",\n        }],\n [{\n            'v': 56,\n            'f': \"56\",\n        },\n\"www.addthis.com\",\n{\n            'v': 1,\n            'f': \"1\",\n        }],\n [{\n            'v': 57,\n            'f': \"57\",\n        },\n\"www.rechargeonslaplanete.com\",\n{\n            'v': 1,\n            'f': \"1\",\n        }],\n [{\n            'v': 58,\n            'f': \"58\",\n        },\n\"static.addinto.com\",\n{\n            'v': 1,\n            'f': \"1\",\n        }],\n [{\n            'v': 59,\n            'f': \"59\",\n        },\n\"code.google.com\",\n{\n            'v': 1,\n            'f': \"1\",\n        }],\n [{\n            'v': 60,\n            'f': \"60\",\n        },\n\"www.senv.mddep.gouv.qc.ca\",\n{\n            'v': 1,\n            'f': \"1\",\n        }],\n [{\n            'v': 61,\n            'f': \"61\",\n        },\n\"swdlp.apple.com\",\n{\n            'v': 1,\n            'f': \"1\",\n        }],\n [{\n            'v': 62,\n            'f': \"62\",\n        },\n\"www.google.ca\",\n{\n            'v': 1,\n            'f': \"1\",\n        }],\n [{\n            'v': 63,\n            'f': \"63\",\n        },\n\"get.adobe.com\",\n{\n            'v': 1,\n            'f': \"1\",\n        }],\n [{\n            'v': 64,\n            'f': \"64\",\n        },\n\"www.paiement.mddep.gouv.qc.ca\",\n{\n            'v': 1,\n            'f': \"1\",\n        }],\n [{\n            'v': 65,\n            'f': \"65\",\n        },\n\"support.pqm.net\",\n{\n            'v': 1,\n            'f': \"1\",\n        }],\n [{\n            'v': 66,\n            'f': \"66\",\n        },\n\"www.addinto.com\",\n{\n            'v': 1,\n            'f': \"1\",\n        }],\n [{\n            'v': 67,\n            'f': \"67\",\n        },\n\"feeds.iucnredlist.org\",\n{\n            'v': 1,\n            'f': \"1\",\n        }],\n [{\n            'v': 68,\n            'f': \"68\",\n        },\n\"www.cbcq.gouv.qc.ca\",\n{\n            'v': 1,\n            'f': \"1\",\n        }],\n [{\n            'v': 69,\n            'f': \"69\",\n        },\n\"www.undp.org\",\n{\n            'v': 1,\n            'f': \"1\",\n        }],\n [{\n            'v': 70,\n            'f': \"70\",\n        },\n\"l.addthiscdn.com\",\n{\n            'v': 1,\n            'f': \"1\",\n        }],\n [{\n            'v': 71,\n            'f': \"71\",\n        },\n\"fls.doubleclick.net\",\n{\n            'v': 1,\n            'f': \"1\",\n        }],\n [{\n            'v': 72,\n            'f': \"72\",\n        },\n\"twitter.com\",\n{\n            'v': 1,\n            'f': \"1\",\n        }],\n [{\n            'v': 73,\n            'f': \"73\",\n        },\n\"search.microsoft.com\",\n{\n            'v': 1,\n            'f': \"1\",\n        }],\n [{\n            'v': 74,\n            'f': \"74\",\n        },\n\"www.espacej.gouv.qc.ca\",\n{\n            'v': 1,\n            'f': \"1\",\n        }],\n [{\n            'v': 75,\n            'f': \"75\",\n        },\n\"webcasts.pqm.net\",\n{\n            'v': 1,\n            'f': \"1\",\n        }],\n [{\n            'v': 76,\n            'f': \"76\",\n        },\n\"www.mnba.qc.ca\",\n{\n            'v': 1,\n            'f': \"1\",\n        }],\n [{\n            'v': 77,\n            'f': \"77\",\n        },\n\"www.cbd.int\",\n{\n            'v': 1,\n            'f': \"1\",\n        }],\n [{\n            'v': 78,\n            'f': \"78\",\n        },\n\"s7.addthis.com\",\n{\n            'v': 1,\n            'f': \"1\",\n        }],\n [{\n            'v': 79,\n            'f': \"79\",\n        },\n\"www.longtailvideo.com\",\n{\n            'v': 1,\n            'f': \"1\",\n        }],\n [{\n            'v': 80,\n            'f': \"80\",\n        },\n\"www.pesticides.mddep.gouv.qc.ca\",\n{\n            'v': 1,\n            'f': \"1\",\n        }]],\n        columns: [[\"number\", \"index\"], [\"string\", \"url\"], [\"number\", \"count\"]],\n        columnOptions: [{\"width\": \"1px\", \"className\": \"index_column\"}],\n        rowsPerPage: 25,\n        helpUrl: \"https://colab.research.google.com/notebooks/data_table.ipynb\",\n        suppressOutputScrolling: true,\n        minimumWidth: undefined,\n      });\n    ",
            "text/html": [
              "<div>\n",
              "<style scoped>\n",
              "    .dataframe tbody tr th:only-of-type {\n",
              "        vertical-align: middle;\n",
              "    }\n",
              "\n",
              "    .dataframe tbody tr th {\n",
              "        vertical-align: top;\n",
              "    }\n",
              "\n",
              "    .dataframe thead th {\n",
              "        text-align: right;\n",
              "    }\n",
              "</style>\n",
              "<table border=\"1\" class=\"dataframe\">\n",
              "  <thead>\n",
              "    <tr style=\"text-align: right;\">\n",
              "      <th></th>\n",
              "      <th>url</th>\n",
              "      <th>count</th>\n",
              "    </tr>\n",
              "  </thead>\n",
              "  <tbody>\n",
              "    <tr>\n",
              "      <th>0</th>\n",
              "      <td>www.mddefp.gouv.qc.ca</td>\n",
              "      <td>108409</td>\n",
              "    </tr>\n",
              "    <tr>\n",
              "      <th>1</th>\n",
              "      <td>www.mddep.gouv.qc.ca</td>\n",
              "      <td>99854</td>\n",
              "    </tr>\n",
              "    <tr>\n",
              "      <th>2</th>\n",
              "      <td>www.mddelcc.gouv.qc.ca</td>\n",
              "      <td>83594</td>\n",
              "    </tr>\n",
              "    <tr>\n",
              "      <th>3</th>\n",
              "      <td>mddep.gouv.qc.ca</td>\n",
              "      <td>47392</td>\n",
              "    </tr>\n",
              "    <tr>\n",
              "      <th>4</th>\n",
              "      <td>mddefp.gouv.qc.ca</td>\n",
              "      <td>39783</td>\n",
              "    </tr>\n",
              "    <tr>\n",
              "      <th>...</th>\n",
              "      <td>...</td>\n",
              "      <td>...</td>\n",
              "    </tr>\n",
              "    <tr>\n",
              "      <th>76</th>\n",
              "      <td>www.mnba.qc.ca</td>\n",
              "      <td>1</td>\n",
              "    </tr>\n",
              "    <tr>\n",
              "      <th>77</th>\n",
              "      <td>www.cbd.int</td>\n",
              "      <td>1</td>\n",
              "    </tr>\n",
              "    <tr>\n",
              "      <th>78</th>\n",
              "      <td>s7.addthis.com</td>\n",
              "      <td>1</td>\n",
              "    </tr>\n",
              "    <tr>\n",
              "      <th>79</th>\n",
              "      <td>www.longtailvideo.com</td>\n",
              "      <td>1</td>\n",
              "    </tr>\n",
              "    <tr>\n",
              "      <th>80</th>\n",
              "      <td>www.pesticides.mddep.gouv.qc.ca</td>\n",
              "      <td>1</td>\n",
              "    </tr>\n",
              "  </tbody>\n",
              "</table>\n",
              "<p>81 rows × 2 columns</p>\n",
              "</div>"
            ],
            "text/plain": [
              "                                url   count\n",
              "0             www.mddefp.gouv.qc.ca  108409\n",
              "1              www.mddep.gouv.qc.ca   99854\n",
              "2            www.mddelcc.gouv.qc.ca   83594\n",
              "3                  mddep.gouv.qc.ca   47392\n",
              "4                 mddefp.gouv.qc.ca   39783\n",
              "..                              ...     ...\n",
              "76                   www.mnba.qc.ca       1\n",
              "77                      www.cbd.int       1\n",
              "78                   s7.addthis.com       1\n",
              "79            www.longtailvideo.com       1\n",
              "80  www.pesticides.mddep.gouv.qc.ca       1\n",
              "\n",
              "[81 rows x 2 columns]"
            ]
          },
          "metadata": {
            "tags": []
          },
          "execution_count": 7
        }
      ]
    },
    {
      "cell_type": "markdown",
      "metadata": {
        "id": "3HPwOCNAvqMe"
      },
      "source": [
        "# Data Analysis\n",
        "\n",
        "Now that we have all of our datasets loaded up, we can begin to work with them!"
      ]
    },
    {
      "cell_type": "markdown",
      "metadata": {
        "id": "J6Pkg0prv3BE"
      },
      "source": [
        "## Counting total files, and unique files\n"
      ]
    },
    {
      "cell_type": "markdown",
      "metadata": {
        "id": "DFX4Gl3wv7bi"
      },
      "source": [
        "\n",
        "#### Count number of rows (how many images are in the web archive collection).\n"
      ]
    },
    {
      "cell_type": "code",
      "metadata": {
        "colab": {
          "base_uri": "https://localhost:8080/"
        },
        "id": "bn-1v127aKIG",
        "outputId": "c986ed1b-e9db-473e-ab7b-c3e372a3c72c"
      },
      "source": [
        "images.count()"
      ],
      "execution_count": 8,
      "outputs": [
        {
          "output_type": "execute_result",
          "data": {
            "text/plain": [
              "url                     156166\n",
              "filename                156166\n",
              "extension               156166\n",
              "mime_type_web_server    156166\n",
              "mime_type_tika          156166\n",
              "width                   156166\n",
              "height                  156166\n",
              "md5                     156166\n",
              "dtype: int64"
            ]
          },
          "metadata": {
            "tags": []
          },
          "execution_count": 8
        }
      ]
    },
    {
      "cell_type": "markdown",
      "metadata": {
        "id": "38veKiPhwKo4"
      },
      "source": [
        " #### How many unique images are in the collection?\n",
        "\n",
        " We can see if an image is unique or not by computing an [MD5 hash](https://en.wikipedia.org/wiki/MD5#MD5_hashes) of it. The exact same image might be called `example.jpg` and `foo.jpg` - by computing the hash, we can see that even with different file names, they are actually the same image!\n",
        "\n",
        "\n"
      ]
    },
    {
      "cell_type": "code",
      "metadata": {
        "colab": {
          "base_uri": "https://localhost:8080/"
        },
        "id": "WesM3kQowM5B",
        "outputId": "12edf49f-bd3e-4a3e-cabf-1509540c283b"
      },
      "source": [
        "len(images.md5.unique())"
      ],
      "execution_count": 9,
      "outputs": [
        {
          "output_type": "execute_result",
          "data": {
            "text/plain": [
              "18287"
            ]
          },
          "metadata": {
            "tags": []
          },
          "execution_count": 9
        }
      ]
    },
    {
      "cell_type": "markdown",
      "metadata": {
        "id": "ZIXkI0-1wWQf"
      },
      "source": [
        "#### What are the top 10 most occurring images in the collection?\n",
        "\n",
        "Here we discover which image (or images) occur most frequently. "
      ]
    },
    {
      "cell_type": "code",
      "metadata": {
        "colab": {
          "base_uri": "https://localhost:8080/"
        },
        "id": "8Ts03OFyjPIM",
        "outputId": "417f88f6-205c-4c36-fab4-ae0ede16e8c0"
      },
      "source": [
        "images['md5'].value_counts().head(10)"
      ],
      "execution_count": 10,
      "outputs": [
        {
          "output_type": "execute_result",
          "data": {
            "text/plain": [
              "b09dc3225d5e1377c52c06feddc33bfe    192\n",
              "a4d3ddfb1a95e87650c624660d67765a    192\n",
              "5283d313972a24f0e71c47ae3c99958b    192\n",
              "e7d1f7750c16bc835bf1cfe1bf322d46    192\n",
              "89663337857f6d769fbcaed7278cc925     77\n",
              "497db34fffa0e278f57ae614b4b758a0     64\n",
              "58e5d8676dfcc4205551314d98fb2624     61\n",
              "100322cfd242ee75dd5a744526f08d6b     56\n",
              "7252e42a951b5e449ea02c517839ed6d     53\n",
              "b7fd236aca8435a65f31c6d67db0685f     53\n",
              "Name: md5, dtype: int64"
            ]
          },
          "metadata": {
            "tags": []
          },
          "execution_count": 10
        }
      ]
    },
    {
      "cell_type": "markdown",
      "metadata": {
        "id": "FG7pGZUEwlaI"
      },
      "source": [
        "\n",
        "#### What's the information around all of the occurances of `b09dc3225d5e1377c52c06feddc33bfe`?\n",
        "\n",
        "What, you mean you don't know what `b09dc3225d5e1377c52c06feddc33bfe` means? Let's find those images in the DataFrame table - we can here see the real file name (`erosion.jpg`) and more importantly, its URL within the web archive.\n",
        "\n",
        "Note: You can also take of the Data Table extension to experiment with interacting with the DataFrame.\n"
      ]
    },
    {
      "cell_type": "code",
      "metadata": {
        "colab": {
          "base_uri": "https://localhost:8080/",
          "height": 637
        },
        "id": "msmmm65lkSIK",
        "outputId": "751079ea-fe8f-42e4-aff2-29a0fbbed26a"
      },
      "source": [
        "images.loc[images['md5'] == 'b09dc3225d5e1377c52c06feddc33bfe']"
      ],
      "execution_count": 11,
      "outputs": [
        {
          "output_type": "execute_result",
          "data": {
            "application/vnd.google.colaboratory.module+javascript": "\n      import \"https://ssl.gstatic.com/colaboratory/data_table/a6224c040fa35dcf/data_table.js\";\n\n      window.createDataTable({\n        data: [[{\n            'v': 46963,\n            'f': \"46963\",\n        },\n\"http://www.mddefp.gouv.qc.ca//poissons/st-charles/erosion.jpg\",\n\"erosion.jpg\",\n\"jpg\",\n\"image/jpeg\",\n\"image/jpeg\",\n{\n            'v': 310,\n            'f': \"310\",\n        },\n{\n            'v': 220,\n            'f': \"220\",\n        },\n\"b09dc3225d5e1377c52c06feddc33bfe\"],\n [{\n            'v': 46964,\n            'f': \"46964\",\n        },\n\"http://www.mddep.gouv.qc.ca/poissons/yamaska/erosion.jpg\",\n\"erosion.jpg\",\n\"jpg\",\n\"image/jpeg\",\n\"image/jpeg\",\n{\n            'v': 310,\n            'f': \"310\",\n        },\n{\n            'v': 220,\n            'f': \"220\",\n        },\n\"b09dc3225d5e1377c52c06feddc33bfe\"],\n [{\n            'v': 46965,\n            'f': \"46965\",\n        },\n\"http://mddefp.gouv.qc.ca/poissons/st-maurice/erosion.jpg\",\n\"erosion.jpg\",\n\"jpg\",\n\"image/jpeg\",\n\"image/jpeg\",\n{\n            'v': 310,\n            'f': \"310\",\n        },\n{\n            'v': 220,\n            'f': \"220\",\n        },\n\"b09dc3225d5e1377c52c06feddc33bfe\"],\n [{\n            'v': 46966,\n            'f': \"46966\",\n        },\n\"http://mddefp.gouv.qc.ca/poissons/st-francois/erosion.jpg\",\n\"erosion.jpg\",\n\"jpg\",\n\"image/jpeg\",\n\"image/jpeg\",\n{\n            'v': 310,\n            'f': \"310\",\n        },\n{\n            'v': 220,\n            'f': \"220\",\n        },\n\"b09dc3225d5e1377c52c06feddc33bfe\"],\n [{\n            'v': 46967,\n            'f': \"46967\",\n        },\n\"http://mddefp.gouv.qc.ca/poissons/chateauguay/erosion.jpg\",\n\"erosion.jpg\",\n\"jpg\",\n\"image/jpeg\",\n\"image/jpeg\",\n{\n            'v': 310,\n            'f': \"310\",\n        },\n{\n            'v': 220,\n            'f': \"220\",\n        },\n\"b09dc3225d5e1377c52c06feddc33bfe\"],\n [{\n            'v': 46968,\n            'f': \"46968\",\n        },\n\"http://mddefp.gouv.qc.ca/poissons/assomption/erosion.jpg\",\n\"erosion.jpg\",\n\"jpg\",\n\"image/jpeg\",\n\"image/jpeg\",\n{\n            'v': 310,\n            'f': \"310\",\n        },\n{\n            'v': 220,\n            'f': \"220\",\n        },\n\"b09dc3225d5e1377c52c06feddc33bfe\"],\n [{\n            'v': 46969,\n            'f': \"46969\",\n        },\n\"http://mddefp.gouv.qc.ca/poissons/richelieu/erosion.jpg\",\n\"erosion.jpg\",\n\"jpg\",\n\"image/jpeg\",\n\"image/jpeg\",\n{\n            'v': 310,\n            'f': \"310\",\n        },\n{\n            'v': 220,\n            'f': \"220\",\n        },\n\"b09dc3225d5e1377c52c06feddc33bfe\"],\n [{\n            'v': 46970,\n            'f': \"46970\",\n        },\n\"http://mddefp.gouv.qc.ca/poissons/yamaska/erosion.jpg\",\n\"erosion.jpg\",\n\"jpg\",\n\"image/jpeg\",\n\"image/jpeg\",\n{\n            'v': 310,\n            'f': \"310\",\n        },\n{\n            'v': 220,\n            'f': \"220\",\n        },\n\"b09dc3225d5e1377c52c06feddc33bfe\"],\n [{\n            'v': 46971,\n            'f': \"46971\",\n        },\n\"http://mddefp.gouv.qc.ca/poissons/chaudiere/erosion.jpg\",\n\"erosion.jpg\",\n\"jpg\",\n\"image/jpeg\",\n\"image/jpeg\",\n{\n            'v': 310,\n            'f': \"310\",\n        },\n{\n            'v': 220,\n            'f': \"220\",\n        },\n\"b09dc3225d5e1377c52c06feddc33bfe\"],\n [{\n            'v': 46972,\n            'f': \"46972\",\n        },\n\"http://mddefp.gouv.qc.ca/poissons/st-charles/erosion.jpg\",\n\"erosion.jpg\",\n\"jpg\",\n\"image/jpeg\",\n\"image/jpeg\",\n{\n            'v': 310,\n            'f': \"310\",\n        },\n{\n            'v': 220,\n            'f': \"220\",\n        },\n\"b09dc3225d5e1377c52c06feddc33bfe\"],\n [{\n            'v': 46973,\n            'f': \"46973\",\n        },\n\"http://www.mddep.gouv.qc.ca///poissons/chaudiere/erosion.jpg\",\n\"erosion.jpg\",\n\"jpg\",\n\"image/jpeg\",\n\"image/jpeg\",\n{\n            'v': 310,\n            'f': \"310\",\n        },\n{\n            'v': 220,\n            'f': \"220\",\n        },\n\"b09dc3225d5e1377c52c06feddc33bfe\"],\n [{\n            'v': 46974,\n            'f': \"46974\",\n        },\n\"http://www.mddep.gouv.qc.ca///poissons/st-maurice/erosion.jpg\",\n\"erosion.jpg\",\n\"jpg\",\n\"image/jpeg\",\n\"image/jpeg\",\n{\n            'v': 310,\n            'f': \"310\",\n        },\n{\n            'v': 220,\n            'f': \"220\",\n        },\n\"b09dc3225d5e1377c52c06feddc33bfe\"],\n [{\n            'v': 46975,\n            'f': \"46975\",\n        },\n\"http://www.mddefp.gouv.qc.ca///poissons/assomption/erosion.jpg\",\n\"erosion.jpg\",\n\"jpg\",\n\"image/jpeg\",\n\"image/jpeg\",\n{\n            'v': 310,\n            'f': \"310\",\n        },\n{\n            'v': 220,\n            'f': \"220\",\n        },\n\"b09dc3225d5e1377c52c06feddc33bfe\"],\n [{\n            'v': 46976,\n            'f': \"46976\",\n        },\n\"http://www.mddefp.gouv.qc.ca///poissons/richelieu/erosion.jpg\",\n\"erosion.jpg\",\n\"jpg\",\n\"image/jpeg\",\n\"image/jpeg\",\n{\n            'v': 310,\n            'f': \"310\",\n        },\n{\n            'v': 220,\n            'f': \"220\",\n        },\n\"b09dc3225d5e1377c52c06feddc33bfe\"],\n [{\n            'v': 46977,\n            'f': \"46977\",\n        },\n\"http://www.mddefp.gouv.qc.ca///poissons/yamaska/erosion.jpg\",\n\"erosion.jpg\",\n\"jpg\",\n\"image/jpeg\",\n\"image/jpeg\",\n{\n            'v': 310,\n            'f': \"310\",\n        },\n{\n            'v': 220,\n            'f': \"220\",\n        },\n\"b09dc3225d5e1377c52c06feddc33bfe\"],\n [{\n            'v': 46978,\n            'f': \"46978\",\n        },\n\"http://www.mddefp.gouv.qc.ca///poissons/st-francois/erosion.jpg\",\n\"erosion.jpg\",\n\"jpg\",\n\"image/jpeg\",\n\"image/jpeg\",\n{\n            'v': 310,\n            'f': \"310\",\n        },\n{\n            'v': 220,\n            'f': \"220\",\n        },\n\"b09dc3225d5e1377c52c06feddc33bfe\"],\n [{\n            'v': 46979,\n            'f': \"46979\",\n        },\n\"http://www.mddefp.gouv.qc.ca///poissons/st-maurice/erosion.jpg\",\n\"erosion.jpg\",\n\"jpg\",\n\"image/jpeg\",\n\"image/jpeg\",\n{\n            'v': 310,\n            'f': \"310\",\n        },\n{\n            'v': 220,\n            'f': \"220\",\n        },\n\"b09dc3225d5e1377c52c06feddc33bfe\"],\n [{\n            'v': 46980,\n            'f': \"46980\",\n        },\n\"http://www.mddefp.gouv.qc.ca//poissons/yamaska/erosion.jpg\",\n\"erosion.jpg\",\n\"jpg\",\n\"image/jpeg\",\n\"image/jpeg\",\n{\n            'v': 310,\n            'f': \"310\",\n        },\n{\n            'v': 220,\n            'f': \"220\",\n        },\n\"b09dc3225d5e1377c52c06feddc33bfe\"],\n [{\n            'v': 46981,\n            'f': \"46981\",\n        },\n\"http://www.mddefp.gouv.qc.ca//poissons/st-francois/erosion.jpg\",\n\"erosion.jpg\",\n\"jpg\",\n\"image/jpeg\",\n\"image/jpeg\",\n{\n            'v': 310,\n            'f': \"310\",\n        },\n{\n            'v': 220,\n            'f': \"220\",\n        },\n\"b09dc3225d5e1377c52c06feddc33bfe\"],\n [{\n            'v': 46982,\n            'f': \"46982\",\n        },\n\"http://www.mddefp.gouv.qc.ca////poissons/st-maurice/erosion.jpg\",\n\"erosion.jpg\",\n\"jpg\",\n\"image/jpeg\",\n\"image/jpeg\",\n{\n            'v': 310,\n            'f': \"310\",\n        },\n{\n            'v': 220,\n            'f': \"220\",\n        },\n\"b09dc3225d5e1377c52c06feddc33bfe\"],\n [{\n            'v': 46983,\n            'f': \"46983\",\n        },\n\"http://www.mddelcc.gouv.qc.ca//poissons/richelieu/erosion.jpg\",\n\"erosion.jpg\",\n\"jpg\",\n\"image/jpeg\",\n\"image/jpeg\",\n{\n            'v': 310,\n            'f': \"310\",\n        },\n{\n            'v': 220,\n            'f': \"220\",\n        },\n\"b09dc3225d5e1377c52c06feddc33bfe\"],\n [{\n            'v': 46984,\n            'f': \"46984\",\n        },\n\"http://www.mddep.gouv.qc.ca//poissons/assomption/erosion.jpg\",\n\"erosion.jpg\",\n\"jpg\",\n\"image/jpeg\",\n\"image/jpeg\",\n{\n            'v': 310,\n            'f': \"310\",\n        },\n{\n            'v': 220,\n            'f': \"220\",\n        },\n\"b09dc3225d5e1377c52c06feddc33bfe\"],\n [{\n            'v': 46985,\n            'f': \"46985\",\n        },\n\"http://www.mddelcc.gouv.qc.ca/poissons/chateauguay/erosion.jpg\",\n\"erosion.jpg\",\n\"jpg\",\n\"image/jpeg\",\n\"image/jpeg\",\n{\n            'v': 310,\n            'f': \"310\",\n        },\n{\n            'v': 220,\n            'f': \"220\",\n        },\n\"b09dc3225d5e1377c52c06feddc33bfe\"],\n [{\n            'v': 46986,\n            'f': \"46986\",\n        },\n\"http://mddep.gouv.qc.ca////poissons/richelieu/erosion.jpg\",\n\"erosion.jpg\",\n\"jpg\",\n\"image/jpeg\",\n\"image/jpeg\",\n{\n            'v': 310,\n            'f': \"310\",\n        },\n{\n            'v': 220,\n            'f': \"220\",\n        },\n\"b09dc3225d5e1377c52c06feddc33bfe\"],\n [{\n            'v': 46987,\n            'f': \"46987\",\n        },\n\"http://www.mddelcc.gouv.qc.ca//poissons/chaudiere/erosion.jpg\",\n\"erosion.jpg\",\n\"jpg\",\n\"image/jpeg\",\n\"image/jpeg\",\n{\n            'v': 310,\n            'f': \"310\",\n        },\n{\n            'v': 220,\n            'f': \"220\",\n        },\n\"b09dc3225d5e1377c52c06feddc33bfe\"],\n [{\n            'v': 46988,\n            'f': \"46988\",\n        },\n\"http://www.mddelcc.gouv.qc.ca//poissons/st-maurice/erosion.jpg\",\n\"erosion.jpg\",\n\"jpg\",\n\"image/jpeg\",\n\"image/jpeg\",\n{\n            'v': 310,\n            'f': \"310\",\n        },\n{\n            'v': 220,\n            'f': \"220\",\n        },\n\"b09dc3225d5e1377c52c06feddc33bfe\"],\n [{\n            'v': 46989,\n            'f': \"46989\",\n        },\n\"http://mddep.gouv.qc.ca///poissons/chaudiere/erosion.jpg\",\n\"erosion.jpg\",\n\"jpg\",\n\"image/jpeg\",\n\"image/jpeg\",\n{\n            'v': 310,\n            'f': \"310\",\n        },\n{\n            'v': 220,\n            'f': \"220\",\n        },\n\"b09dc3225d5e1377c52c06feddc33bfe\"],\n [{\n            'v': 46990,\n            'f': \"46990\",\n        },\n\"http://mddep.gouv.qc.ca///poissons/chateauguay/erosion.jpg\",\n\"erosion.jpg\",\n\"jpg\",\n\"image/jpeg\",\n\"image/jpeg\",\n{\n            'v': 310,\n            'f': \"310\",\n        },\n{\n            'v': 220,\n            'f': \"220\",\n        },\n\"b09dc3225d5e1377c52c06feddc33bfe\"],\n [{\n            'v': 46991,\n            'f': \"46991\",\n        },\n\"http://mddep.gouv.qc.ca//poissons/richelieu/erosion.jpg\",\n\"erosion.jpg\",\n\"jpg\",\n\"image/jpeg\",\n\"image/jpeg\",\n{\n            'v': 310,\n            'f': \"310\",\n        },\n{\n            'v': 220,\n            'f': \"220\",\n        },\n\"b09dc3225d5e1377c52c06feddc33bfe\"],\n [{\n            'v': 46992,\n            'f': \"46992\",\n        },\n\"http://www.mddep.gouv.qc.ca//poissons/st-francois/erosion.jpg\",\n\"erosion.jpg\",\n\"jpg\",\n\"image/jpeg\",\n\"image/jpeg\",\n{\n            'v': 310,\n            'f': \"310\",\n        },\n{\n            'v': 220,\n            'f': \"220\",\n        },\n\"b09dc3225d5e1377c52c06feddc33bfe\"],\n [{\n            'v': 46993,\n            'f': \"46993\",\n        },\n\"http://mddep.gouv.qc.ca////poissons/assomption/erosion.jpg\",\n\"erosion.jpg\",\n\"jpg\",\n\"image/jpeg\",\n\"image/jpeg\",\n{\n            'v': 310,\n            'f': \"310\",\n        },\n{\n            'v': 220,\n            'f': \"220\",\n        },\n\"b09dc3225d5e1377c52c06feddc33bfe\"],\n [{\n            'v': 46994,\n            'f': \"46994\",\n        },\n\"http://mddep.gouv.qc.ca////poissons/st-francois/erosion.jpg\",\n\"erosion.jpg\",\n\"jpg\",\n\"image/jpeg\",\n\"image/jpeg\",\n{\n            'v': 310,\n            'f': \"310\",\n        },\n{\n            'v': 220,\n            'f': \"220\",\n        },\n\"b09dc3225d5e1377c52c06feddc33bfe\"],\n [{\n            'v': 46995,\n            'f': \"46995\",\n        },\n\"http://mddep.gouv.qc.ca////poissons/yamaska/erosion.jpg\",\n\"erosion.jpg\",\n\"jpg\",\n\"image/jpeg\",\n\"image/jpeg\",\n{\n            'v': 310,\n            'f': \"310\",\n        },\n{\n            'v': 220,\n            'f': \"220\",\n        },\n\"b09dc3225d5e1377c52c06feddc33bfe\"],\n [{\n            'v': 46996,\n            'f': \"46996\",\n        },\n\"http://www.mddep.gouv.qc.ca/poissons/st-charles/erosion.jpg\",\n\"erosion.jpg\",\n\"jpg\",\n\"image/jpeg\",\n\"image/jpeg\",\n{\n            'v': 310,\n            'f': \"310\",\n        },\n{\n            'v': 220,\n            'f': \"220\",\n        },\n\"b09dc3225d5e1377c52c06feddc33bfe\"],\n [{\n            'v': 46997,\n            'f': \"46997\",\n        },\n\"http://www.mddep.gouv.qc.ca/poissons/chateauguay/erosion.jpg\",\n\"erosion.jpg\",\n\"jpg\",\n\"image/jpeg\",\n\"image/jpeg\",\n{\n            'v': 310,\n            'f': \"310\",\n        },\n{\n            'v': 220,\n            'f': \"220\",\n        },\n\"b09dc3225d5e1377c52c06feddc33bfe\"],\n [{\n            'v': 46998,\n            'f': \"46998\",\n        },\n\"http://www.mddep.gouv.qc.ca/poissons/st-maurice/erosion.jpg\",\n\"erosion.jpg\",\n\"jpg\",\n\"image/jpeg\",\n\"image/jpeg\",\n{\n            'v': 310,\n            'f': \"310\",\n        },\n{\n            'v': 220,\n            'f': \"220\",\n        },\n\"b09dc3225d5e1377c52c06feddc33bfe\"],\n [{\n            'v': 46999,\n            'f': \"46999\",\n        },\n\"http://www.mddep.gouv.qc.ca/poissons/st-francois/erosion.jpg\",\n\"erosion.jpg\",\n\"jpg\",\n\"image/jpeg\",\n\"image/jpeg\",\n{\n            'v': 310,\n            'f': \"310\",\n        },\n{\n            'v': 220,\n            'f': \"220\",\n        },\n\"b09dc3225d5e1377c52c06feddc33bfe\"],\n [{\n            'v': 47000,\n            'f': \"47000\",\n        },\n\"http://www.mddep.gouv.qc.ca/poissons/assomption/erosion.jpg\",\n\"erosion.jpg\",\n\"jpg\",\n\"image/jpeg\",\n\"image/jpeg\",\n{\n            'v': 310,\n            'f': \"310\",\n        },\n{\n            'v': 220,\n            'f': \"220\",\n        },\n\"b09dc3225d5e1377c52c06feddc33bfe\"],\n [{\n            'v': 47001,\n            'f': \"47001\",\n        },\n\"http://www.mddep.gouv.qc.ca/poissons/yamaska/erosion.jpg\",\n\"erosion.jpg\",\n\"jpg\",\n\"image/jpeg\",\n\"image/jpeg\",\n{\n            'v': 310,\n            'f': \"310\",\n        },\n{\n            'v': 220,\n            'f': \"220\",\n        },\n\"b09dc3225d5e1377c52c06feddc33bfe\"],\n [{\n            'v': 47002,\n            'f': \"47002\",\n        },\n\"http://www.mddep.gouv.qc.ca/poissons/richelieu/erosion.jpg\",\n\"erosion.jpg\",\n\"jpg\",\n\"image/jpeg\",\n\"image/jpeg\",\n{\n            'v': 310,\n            'f': \"310\",\n        },\n{\n            'v': 220,\n            'f': \"220\",\n        },\n\"b09dc3225d5e1377c52c06feddc33bfe\"],\n [{\n            'v': 47003,\n            'f': \"47003\",\n        },\n\"http://www.mddep.gouv.qc.ca///poissons/st-charles/erosion.jpg\",\n\"erosion.jpg\",\n\"jpg\",\n\"image/jpeg\",\n\"image/jpeg\",\n{\n            'v': 310,\n            'f': \"310\",\n        },\n{\n            'v': 220,\n            'f': \"220\",\n        },\n\"b09dc3225d5e1377c52c06feddc33bfe\"],\n [{\n            'v': 47004,\n            'f': \"47004\",\n        },\n\"http://www.mddefp.gouv.qc.ca//poissons/st-maurice/erosion.jpg\",\n\"erosion.jpg\",\n\"jpg\",\n\"image/jpeg\",\n\"image/jpeg\",\n{\n            'v': 310,\n            'f': \"310\",\n        },\n{\n            'v': 220,\n            'f': \"220\",\n        },\n\"b09dc3225d5e1377c52c06feddc33bfe\"],\n [{\n            'v': 47005,\n            'f': \"47005\",\n        },\n\"http://www.mddefp.gouv.qc.ca//poissons/chaudiere/erosion.jpg\",\n\"erosion.jpg\",\n\"jpg\",\n\"image/jpeg\",\n\"image/jpeg\",\n{\n            'v': 310,\n            'f': \"310\",\n        },\n{\n            'v': 220,\n            'f': \"220\",\n        },\n\"b09dc3225d5e1377c52c06feddc33bfe\"],\n [{\n            'v': 47006,\n            'f': \"47006\",\n        },\n\"http://www.mddefp.gouv.qc.ca////poissons/st-charles/erosion.jpg\",\n\"erosion.jpg\",\n\"jpg\",\n\"image/jpeg\",\n\"image/jpeg\",\n{\n            'v': 310,\n            'f': \"310\",\n        },\n{\n            'v': 220,\n            'f': \"220\",\n        },\n\"b09dc3225d5e1377c52c06feddc33bfe\"],\n [{\n            'v': 47007,\n            'f': \"47007\",\n        },\n\"http://www.mddefp.gouv.qc.ca////poissons/chaudiere/erosion.jpg\",\n\"erosion.jpg\",\n\"jpg\",\n\"image/jpeg\",\n\"image/jpeg\",\n{\n            'v': 310,\n            'f': \"310\",\n        },\n{\n            'v': 220,\n            'f': \"220\",\n        },\n\"b09dc3225d5e1377c52c06feddc33bfe\"],\n [{\n            'v': 47008,\n            'f': \"47008\",\n        },\n\"http://www.mddefp.gouv.qc.ca////poissons/chateauguay/erosion.jpg\",\n\"erosion.jpg\",\n\"jpg\",\n\"image/jpeg\",\n\"image/jpeg\",\n{\n            'v': 310,\n            'f': \"310\",\n        },\n{\n            'v': 220,\n            'f': \"220\",\n        },\n\"b09dc3225d5e1377c52c06feddc33bfe\"],\n [{\n            'v': 47009,\n            'f': \"47009\",\n        },\n\"http://www.mddefp.gouv.qc.ca////poissons/richelieu/erosion.jpg\",\n\"erosion.jpg\",\n\"jpg\",\n\"image/jpeg\",\n\"image/jpeg\",\n{\n            'v': 310,\n            'f': \"310\",\n        },\n{\n            'v': 220,\n            'f': \"220\",\n        },\n\"b09dc3225d5e1377c52c06feddc33bfe\"],\n [{\n            'v': 47010,\n            'f': \"47010\",\n        },\n\"http://www.mddefp.gouv.qc.ca//poissons/st-maurice/erosion.jpg\",\n\"erosion.jpg\",\n\"jpg\",\n\"image/jpeg\",\n\"image/jpeg\",\n{\n            'v': 310,\n            'f': \"310\",\n        },\n{\n            'v': 220,\n            'f': \"220\",\n        },\n\"b09dc3225d5e1377c52c06feddc33bfe\"],\n [{\n            'v': 47011,\n            'f': \"47011\",\n        },\n\"http://mddefp.gouv.qc.ca/poissons/st-charles/erosion.jpg\",\n\"erosion.jpg\",\n\"jpg\",\n\"image/jpeg\",\n\"image/jpeg\",\n{\n            'v': 310,\n            'f': \"310\",\n        },\n{\n            'v': 220,\n            'f': \"220\",\n        },\n\"b09dc3225d5e1377c52c06feddc33bfe\"],\n [{\n            'v': 47012,\n            'f': \"47012\",\n        },\n\"http://www.mddelcc.gouv.qc.ca/poissons/chaudiere/erosion.jpg\",\n\"erosion.jpg\",\n\"jpg\",\n\"image/jpeg\",\n\"image/jpeg\",\n{\n            'v': 310,\n            'f': \"310\",\n        },\n{\n            'v': 220,\n            'f': \"220\",\n        },\n\"b09dc3225d5e1377c52c06feddc33bfe\"],\n [{\n            'v': 47013,\n            'f': \"47013\",\n        },\n\"http://www.mddelcc.gouv.qc.ca//poissons/st-charles/erosion.jpg\",\n\"erosion.jpg\",\n\"jpg\",\n\"image/jpeg\",\n\"image/jpeg\",\n{\n            'v': 310,\n            'f': \"310\",\n        },\n{\n            'v': 220,\n            'f': \"220\",\n        },\n\"b09dc3225d5e1377c52c06feddc33bfe\"],\n [{\n            'v': 47014,\n            'f': \"47014\",\n        },\n\"http://www.mddefp.gouv.qc.ca///poissons/st-charles/erosion.jpg\",\n\"erosion.jpg\",\n\"jpg\",\n\"image/jpeg\",\n\"image/jpeg\",\n{\n            'v': 310,\n            'f': \"310\",\n        },\n{\n            'v': 220,\n            'f': \"220\",\n        },\n\"b09dc3225d5e1377c52c06feddc33bfe\"],\n [{\n            'v': 47015,\n            'f': \"47015\",\n        },\n\"http://www.mddefp.gouv.qc.ca///poissons/assomption/erosion.jpg\",\n\"erosion.jpg\",\n\"jpg\",\n\"image/jpeg\",\n\"image/jpeg\",\n{\n            'v': 310,\n            'f': \"310\",\n        },\n{\n            'v': 220,\n            'f': \"220\",\n        },\n\"b09dc3225d5e1377c52c06feddc33bfe\"],\n [{\n            'v': 47016,\n            'f': \"47016\",\n        },\n\"http://mddep.gouv.qc.ca///poissons/st-charles/erosion.jpg\",\n\"erosion.jpg\",\n\"jpg\",\n\"image/jpeg\",\n\"image/jpeg\",\n{\n            'v': 310,\n            'f': \"310\",\n        },\n{\n            'v': 220,\n            'f': \"220\",\n        },\n\"b09dc3225d5e1377c52c06feddc33bfe\"],\n [{\n            'v': 47017,\n            'f': \"47017\",\n        },\n\"http://mddep.gouv.qc.ca///poissons/st-maurice/erosion.jpg\",\n\"erosion.jpg\",\n\"jpg\",\n\"image/jpeg\",\n\"image/jpeg\",\n{\n            'v': 310,\n            'f': \"310\",\n        },\n{\n            'v': 220,\n            'f': \"220\",\n        },\n\"b09dc3225d5e1377c52c06feddc33bfe\"],\n [{\n            'v': 47018,\n            'f': \"47018\",\n        },\n\"http://mddep.gouv.qc.ca///poissons/richelieu/erosion.jpg\",\n\"erosion.jpg\",\n\"jpg\",\n\"image/jpeg\",\n\"image/jpeg\",\n{\n            'v': 310,\n            'f': \"310\",\n        },\n{\n            'v': 220,\n            'f': \"220\",\n        },\n\"b09dc3225d5e1377c52c06feddc33bfe\"],\n [{\n            'v': 47019,\n            'f': \"47019\",\n        },\n\"http://mddep.gouv.qc.ca///poissons/st-francois/erosion.jpg\",\n\"erosion.jpg\",\n\"jpg\",\n\"image/jpeg\",\n\"image/jpeg\",\n{\n            'v': 310,\n            'f': \"310\",\n        },\n{\n            'v': 220,\n            'f': \"220\",\n        },\n\"b09dc3225d5e1377c52c06feddc33bfe\"],\n [{\n            'v': 47020,\n            'f': \"47020\",\n        },\n\"http://www.mddefp.gouv.qc.ca/poissons/chaudiere/erosion.jpg\",\n\"erosion.jpg\",\n\"jpg\",\n\"image/jpeg\",\n\"image/jpeg\",\n{\n            'v': 310,\n            'f': \"310\",\n        },\n{\n            'v': 220,\n            'f': \"220\",\n        },\n\"b09dc3225d5e1377c52c06feddc33bfe\"],\n [{\n            'v': 47021,\n            'f': \"47021\",\n        },\n\"http://www.mddefp.gouv.qc.ca//poissons/st-francois/erosion.jpg\",\n\"erosion.jpg\",\n\"jpg\",\n\"image/jpeg\",\n\"image/jpeg\",\n{\n            'v': 310,\n            'f': \"310\",\n        },\n{\n            'v': 220,\n            'f': \"220\",\n        },\n\"b09dc3225d5e1377c52c06feddc33bfe\"],\n [{\n            'v': 47022,\n            'f': \"47022\",\n        },\n\"http://www.mddefp.gouv.qc.ca//poissons/richelieu/erosion.jpg\",\n\"erosion.jpg\",\n\"jpg\",\n\"image/jpeg\",\n\"image/jpeg\",\n{\n            'v': 310,\n            'f': \"310\",\n        },\n{\n            'v': 220,\n            'f': \"220\",\n        },\n\"b09dc3225d5e1377c52c06feddc33bfe\"],\n [{\n            'v': 47023,\n            'f': \"47023\",\n        },\n\"http://www.mddelcc.gouv.qc.ca/poissons/yamaska/erosion.jpg\",\n\"erosion.jpg\",\n\"jpg\",\n\"image/jpeg\",\n\"image/jpeg\",\n{\n            'v': 310,\n            'f': \"310\",\n        },\n{\n            'v': 220,\n            'f': \"220\",\n        },\n\"b09dc3225d5e1377c52c06feddc33bfe\"],\n [{\n            'v': 47024,\n            'f': \"47024\",\n        },\n\"http://www.mddelcc.gouv.qc.ca/poissons/st-charles/erosion.jpg\",\n\"erosion.jpg\",\n\"jpg\",\n\"image/jpeg\",\n\"image/jpeg\",\n{\n            'v': 310,\n            'f': \"310\",\n        },\n{\n            'v': 220,\n            'f': \"220\",\n        },\n\"b09dc3225d5e1377c52c06feddc33bfe\"],\n [{\n            'v': 47025,\n            'f': \"47025\",\n        },\n\"http://www.mddelcc.gouv.qc.ca/poissons/chateauguay/erosion.jpg\",\n\"erosion.jpg\",\n\"jpg\",\n\"image/jpeg\",\n\"image/jpeg\",\n{\n            'v': 310,\n            'f': \"310\",\n        },\n{\n            'v': 220,\n            'f': \"220\",\n        },\n\"b09dc3225d5e1377c52c06feddc33bfe\"],\n [{\n            'v': 47026,\n            'f': \"47026\",\n        },\n\"http://www.mddelcc.gouv.qc.ca/poissons/assomption/erosion.jpg\",\n\"erosion.jpg\",\n\"jpg\",\n\"image/jpeg\",\n\"image/jpeg\",\n{\n            'v': 310,\n            'f': \"310\",\n        },\n{\n            'v': 220,\n            'f': \"220\",\n        },\n\"b09dc3225d5e1377c52c06feddc33bfe\"],\n [{\n            'v': 47027,\n            'f': \"47027\",\n        },\n\"http://www.mddelcc.gouv.qc.ca/poissons/st-francois/erosion.jpg\",\n\"erosion.jpg\",\n\"jpg\",\n\"image/jpeg\",\n\"image/jpeg\",\n{\n            'v': 310,\n            'f': \"310\",\n        },\n{\n            'v': 220,\n            'f': \"220\",\n        },\n\"b09dc3225d5e1377c52c06feddc33bfe\"],\n [{\n            'v': 47028,\n            'f': \"47028\",\n        },\n\"http://www.mddelcc.gouv.qc.ca/poissons/chaudiere/erosion.jpg\",\n\"erosion.jpg\",\n\"jpg\",\n\"image/jpeg\",\n\"image/jpeg\",\n{\n            'v': 310,\n            'f': \"310\",\n        },\n{\n            'v': 220,\n            'f': \"220\",\n        },\n\"b09dc3225d5e1377c52c06feddc33bfe\"],\n [{\n            'v': 47029,\n            'f': \"47029\",\n        },\n\"http://www.mddelcc.gouv.qc.ca/poissons/st-maurice/erosion.jpg\",\n\"erosion.jpg\",\n\"jpg\",\n\"image/jpeg\",\n\"image/jpeg\",\n{\n            'v': 310,\n            'f': \"310\",\n        },\n{\n            'v': 220,\n            'f': \"220\",\n        },\n\"b09dc3225d5e1377c52c06feddc33bfe\"],\n [{\n            'v': 47030,\n            'f': \"47030\",\n        },\n\"http://www.mddelcc.gouv.qc.ca/poissons/richelieu/erosion.jpg\",\n\"erosion.jpg\",\n\"jpg\",\n\"image/jpeg\",\n\"image/jpeg\",\n{\n            'v': 310,\n            'f': \"310\",\n        },\n{\n            'v': 220,\n            'f': \"220\",\n        },\n\"b09dc3225d5e1377c52c06feddc33bfe\"],\n [{\n            'v': 47031,\n            'f': \"47031\",\n        },\n\"http://www.mddefp.gouv.qc.ca/poissons/st-maurice/erosion.jpg\",\n\"erosion.jpg\",\n\"jpg\",\n\"image/jpeg\",\n\"image/jpeg\",\n{\n            'v': 310,\n            'f': \"310\",\n        },\n{\n            'v': 220,\n            'f': \"220\",\n        },\n\"b09dc3225d5e1377c52c06feddc33bfe\"],\n [{\n            'v': 47032,\n            'f': \"47032\",\n        },\n\"http://www.mddefp.gouv.qc.ca////poissons/st-charles/erosion.jpg\",\n\"erosion.jpg\",\n\"jpg\",\n\"image/jpeg\",\n\"image/jpeg\",\n{\n            'v': 310,\n            'f': \"310\",\n        },\n{\n            'v': 220,\n            'f': \"220\",\n        },\n\"b09dc3225d5e1377c52c06feddc33bfe\"],\n [{\n            'v': 47033,\n            'f': \"47033\",\n        },\n\"http://www.mddefp.gouv.qc.ca////poissons/chaudiere/erosion.jpg\",\n\"erosion.jpg\",\n\"jpg\",\n\"image/jpeg\",\n\"image/jpeg\",\n{\n            'v': 310,\n            'f': \"310\",\n        },\n{\n            'v': 220,\n            'f': \"220\",\n        },\n\"b09dc3225d5e1377c52c06feddc33bfe\"],\n [{\n            'v': 47034,\n            'f': \"47034\",\n        },\n\"http://www.mddefp.gouv.qc.ca////poissons/chateauguay/erosion.jpg\",\n\"erosion.jpg\",\n\"jpg\",\n\"image/jpeg\",\n\"image/jpeg\",\n{\n            'v': 310,\n            'f': \"310\",\n        },\n{\n            'v': 220,\n            'f': \"220\",\n        },\n\"b09dc3225d5e1377c52c06feddc33bfe\"],\n [{\n            'v': 47035,\n            'f': \"47035\",\n        },\n\"http://www.mddefp.gouv.qc.ca////poissons/richelieu/erosion.jpg\",\n\"erosion.jpg\",\n\"jpg\",\n\"image/jpeg\",\n\"image/jpeg\",\n{\n            'v': 310,\n            'f': \"310\",\n        },\n{\n            'v': 220,\n            'f': \"220\",\n        },\n\"b09dc3225d5e1377c52c06feddc33bfe\"],\n [{\n            'v': 47036,\n            'f': \"47036\",\n        },\n\"http://www.mddep.gouv.qc.ca/poissons/richelieu/erosion.jpg\",\n\"erosion.jpg\",\n\"jpg\",\n\"image/jpeg\",\n\"image/jpeg\",\n{\n            'v': 310,\n            'f': \"310\",\n        },\n{\n            'v': 220,\n            'f': \"220\",\n        },\n\"b09dc3225d5e1377c52c06feddc33bfe\"],\n [{\n            'v': 47037,\n            'f': \"47037\",\n        },\n\"http://mddep.gouv.qc.ca///poissons/yamaska/erosion.jpg\",\n\"erosion.jpg\",\n\"jpg\",\n\"image/jpeg\",\n\"image/jpeg\",\n{\n            'v': 310,\n            'f': \"310\",\n        },\n{\n            'v': 220,\n            'f': \"220\",\n        },\n\"b09dc3225d5e1377c52c06feddc33bfe\"],\n [{\n            'v': 47038,\n            'f': \"47038\",\n        },\n\"http://mddep.gouv.qc.ca///poissons/assomption/erosion.jpg\",\n\"erosion.jpg\",\n\"jpg\",\n\"image/jpeg\",\n\"image/jpeg\",\n{\n            'v': 310,\n            'f': \"310\",\n        },\n{\n            'v': 220,\n            'f': \"220\",\n        },\n\"b09dc3225d5e1377c52c06feddc33bfe\"],\n [{\n            'v': 47039,\n            'f': \"47039\",\n        },\n\"http://www.mddep.gouv.qc.ca///poissons/st-francois/erosion.jpg\",\n\"erosion.jpg\",\n\"jpg\",\n\"image/jpeg\",\n\"image/jpeg\",\n{\n            'v': 310,\n            'f': \"310\",\n        },\n{\n            'v': 220,\n            'f': \"220\",\n        },\n\"b09dc3225d5e1377c52c06feddc33bfe\"],\n [{\n            'v': 47040,\n            'f': \"47040\",\n        },\n\"http://www.mddep.gouv.qc.ca///poissons/assomption/erosion.jpg\",\n\"erosion.jpg\",\n\"jpg\",\n\"image/jpeg\",\n\"image/jpeg\",\n{\n            'v': 310,\n            'f': \"310\",\n        },\n{\n            'v': 220,\n            'f': \"220\",\n        },\n\"b09dc3225d5e1377c52c06feddc33bfe\"],\n [{\n            'v': 47041,\n            'f': \"47041\",\n        },\n\"http://mddep.gouv.qc.ca////poissons/st-charles/erosion.jpg\",\n\"erosion.jpg\",\n\"jpg\",\n\"image/jpeg\",\n\"image/jpeg\",\n{\n            'v': 310,\n            'f': \"310\",\n        },\n{\n            'v': 220,\n            'f': \"220\",\n        },\n\"b09dc3225d5e1377c52c06feddc33bfe\"],\n [{\n            'v': 47042,\n            'f': \"47042\",\n        },\n\"http://www.mddep.gouv.qc.ca/poissons/st-maurice/erosion.jpg\",\n\"erosion.jpg\",\n\"jpg\",\n\"image/jpeg\",\n\"image/jpeg\",\n{\n            'v': 310,\n            'f': \"310\",\n        },\n{\n            'v': 220,\n            'f': \"220\",\n        },\n\"b09dc3225d5e1377c52c06feddc33bfe\"],\n [{\n            'v': 47043,\n            'f': \"47043\",\n        },\n\"http://www.mddep.gouv.qc.ca/poissons/st-francois/erosion.jpg\",\n\"erosion.jpg\",\n\"jpg\",\n\"image/jpeg\",\n\"image/jpeg\",\n{\n            'v': 310,\n            'f': \"310\",\n        },\n{\n            'v': 220,\n            'f': \"220\",\n        },\n\"b09dc3225d5e1377c52c06feddc33bfe\"],\n [{\n            'v': 47044,\n            'f': \"47044\",\n        },\n\"http://www.mddep.gouv.qc.ca/poissons/chaudiere/erosion.jpg\",\n\"erosion.jpg\",\n\"jpg\",\n\"image/jpeg\",\n\"image/jpeg\",\n{\n            'v': 310,\n            'f': \"310\",\n        },\n{\n            'v': 220,\n            'f': \"220\",\n        },\n\"b09dc3225d5e1377c52c06feddc33bfe\"],\n [{\n            'v': 47045,\n            'f': \"47045\",\n        },\n\"http://www.mddep.gouv.qc.ca/poissons/chateauguay/erosion.jpg\",\n\"erosion.jpg\",\n\"jpg\",\n\"image/jpeg\",\n\"image/jpeg\",\n{\n            'v': 310,\n            'f': \"310\",\n        },\n{\n            'v': 220,\n            'f': \"220\",\n        },\n\"b09dc3225d5e1377c52c06feddc33bfe\"],\n [{\n            'v': 47046,\n            'f': \"47046\",\n        },\n\"http://mddefp.gouv.qc.ca/poissons/st-francois/erosion.jpg\",\n\"erosion.jpg\",\n\"jpg\",\n\"image/jpeg\",\n\"image/jpeg\",\n{\n            'v': 310,\n            'f': \"310\",\n        },\n{\n            'v': 220,\n            'f': \"220\",\n        },\n\"b09dc3225d5e1377c52c06feddc33bfe\"],\n [{\n            'v': 47047,\n            'f': \"47047\",\n        },\n\"http://mddefp.gouv.qc.ca/poissons/yamaska/erosion.jpg\",\n\"erosion.jpg\",\n\"jpg\",\n\"image/jpeg\",\n\"image/jpeg\",\n{\n            'v': 310,\n            'f': \"310\",\n        },\n{\n            'v': 220,\n            'f': \"220\",\n        },\n\"b09dc3225d5e1377c52c06feddc33bfe\"],\n [{\n            'v': 47048,\n            'f': \"47048\",\n        },\n\"http://www.mddelcc.gouv.qc.ca/poissons/yamaska/erosion.jpg\",\n\"erosion.jpg\",\n\"jpg\",\n\"image/jpeg\",\n\"image/jpeg\",\n{\n            'v': 310,\n            'f': \"310\",\n        },\n{\n            'v': 220,\n            'f': \"220\",\n        },\n\"b09dc3225d5e1377c52c06feddc33bfe\"],\n [{\n            'v': 47049,\n            'f': \"47049\",\n        },\n\"http://mddep.gouv.qc.ca////poissons/chateauguay/erosion.jpg\",\n\"erosion.jpg\",\n\"jpg\",\n\"image/jpeg\",\n\"image/jpeg\",\n{\n            'v': 310,\n            'f': \"310\",\n        },\n{\n            'v': 220,\n            'f': \"220\",\n        },\n\"b09dc3225d5e1377c52c06feddc33bfe\"],\n [{\n            'v': 47050,\n            'f': \"47050\",\n        },\n\"http://www.mddelcc.gouv.qc.ca/poissons/st-charles/erosion.jpg\",\n\"erosion.jpg\",\n\"jpg\",\n\"image/jpeg\",\n\"image/jpeg\",\n{\n            'v': 310,\n            'f': \"310\",\n        },\n{\n            'v': 220,\n            'f': \"220\",\n        },\n\"b09dc3225d5e1377c52c06feddc33bfe\"],\n [{\n            'v': 47051,\n            'f': \"47051\",\n        },\n\"http://www.mddelcc.gouv.qc.ca//poissons/chateauguay/erosion.jpg\",\n\"erosion.jpg\",\n\"jpg\",\n\"image/jpeg\",\n\"image/jpeg\",\n{\n            'v': 310,\n            'f': \"310\",\n        },\n{\n            'v': 220,\n            'f': \"220\",\n        },\n\"b09dc3225d5e1377c52c06feddc33bfe\"],\n [{\n            'v': 47052,\n            'f': \"47052\",\n        },\n\"http://www.mddelcc.gouv.qc.ca/poissons/st-maurice/erosion.jpg\",\n\"erosion.jpg\",\n\"jpg\",\n\"image/jpeg\",\n\"image/jpeg\",\n{\n            'v': 310,\n            'f': \"310\",\n        },\n{\n            'v': 220,\n            'f': \"220\",\n        },\n\"b09dc3225d5e1377c52c06feddc33bfe\"],\n [{\n            'v': 47053,\n            'f': \"47053\",\n        },\n\"http://www.mddep.gouv.qc.ca//poissons/st-maurice/erosion.jpg\",\n\"erosion.jpg\",\n\"jpg\",\n\"image/jpeg\",\n\"image/jpeg\",\n{\n            'v': 310,\n            'f': \"310\",\n        },\n{\n            'v': 220,\n            'f': \"220\",\n        },\n\"b09dc3225d5e1377c52c06feddc33bfe\"],\n [{\n            'v': 47054,\n            'f': \"47054\",\n        },\n\"http://www.mddep.gouv.qc.ca////poissons/assomption/erosion.jpg\",\n\"erosion.jpg\",\n\"jpg\",\n\"image/jpeg\",\n\"image/jpeg\",\n{\n            'v': 310,\n            'f': \"310\",\n        },\n{\n            'v': 220,\n            'f': \"220\",\n        },\n\"b09dc3225d5e1377c52c06feddc33bfe\"],\n [{\n            'v': 47055,\n            'f': \"47055\",\n        },\n\"http://www.mddep.gouv.qc.ca////poissons/chaudiere/erosion.jpg\",\n\"erosion.jpg\",\n\"jpg\",\n\"image/jpeg\",\n\"image/jpeg\",\n{\n            'v': 310,\n            'f': \"310\",\n        },\n{\n            'v': 220,\n            'f': \"220\",\n        },\n\"b09dc3225d5e1377c52c06feddc33bfe\"],\n [{\n            'v': 47056,\n            'f': \"47056\",\n        },\n\"http://www.mddep.gouv.qc.ca////poissons/yamaska/erosion.jpg\",\n\"erosion.jpg\",\n\"jpg\",\n\"image/jpeg\",\n\"image/jpeg\",\n{\n            'v': 310,\n            'f': \"310\",\n        },\n{\n            'v': 220,\n            'f': \"220\",\n        },\n\"b09dc3225d5e1377c52c06feddc33bfe\"],\n [{\n            'v': 47057,\n            'f': \"47057\",\n        },\n\"http://www.mddep.gouv.qc.ca////poissons/st-francois/erosion.jpg\",\n\"erosion.jpg\",\n\"jpg\",\n\"image/jpeg\",\n\"image/jpeg\",\n{\n            'v': 310,\n            'f': \"310\",\n        },\n{\n            'v': 220,\n            'f': \"220\",\n        },\n\"b09dc3225d5e1377c52c06feddc33bfe\"],\n [{\n            'v': 47058,\n            'f': \"47058\",\n        },\n\"http://www.mddep.gouv.qc.ca////poissons/chateauguay/erosion.jpg\",\n\"erosion.jpg\",\n\"jpg\",\n\"image/jpeg\",\n\"image/jpeg\",\n{\n            'v': 310,\n            'f': \"310\",\n        },\n{\n            'v': 220,\n            'f': \"220\",\n        },\n\"b09dc3225d5e1377c52c06feddc33bfe\"],\n [{\n            'v': 47059,\n            'f': \"47059\",\n        },\n\"http://www.mddep.gouv.qc.ca////poissons/st-charles/erosion.jpg\",\n\"erosion.jpg\",\n\"jpg\",\n\"image/jpeg\",\n\"image/jpeg\",\n{\n            'v': 310,\n            'f': \"310\",\n        },\n{\n            'v': 220,\n            'f': \"220\",\n        },\n\"b09dc3225d5e1377c52c06feddc33bfe\"],\n [{\n            'v': 47060,\n            'f': \"47060\",\n        },\n\"http://mddep.gouv.qc.ca//poissons/st-francois/erosion.jpg\",\n\"erosion.jpg\",\n\"jpg\",\n\"image/jpeg\",\n\"image/jpeg\",\n{\n            'v': 310,\n            'f': \"310\",\n        },\n{\n            'v': 220,\n            'f': \"220\",\n        },\n\"b09dc3225d5e1377c52c06feddc33bfe\"],\n [{\n            'v': 47061,\n            'f': \"47061\",\n        },\n\"http://www.mddefp.gouv.qc.ca//poissons/richelieu/erosion.jpg\",\n\"erosion.jpg\",\n\"jpg\",\n\"image/jpeg\",\n\"image/jpeg\",\n{\n            'v': 310,\n            'f': \"310\",\n        },\n{\n            'v': 220,\n            'f': \"220\",\n        },\n\"b09dc3225d5e1377c52c06feddc33bfe\"],\n [{\n            'v': 47062,\n            'f': \"47062\",\n        },\n\"http://www.mddelcc.gouv.qc.ca/poissons/st-maurice/erosion.jpg\",\n\"erosion.jpg\",\n\"jpg\",\n\"image/jpeg\",\n\"image/jpeg\",\n{\n            'v': 310,\n            'f': \"310\",\n        },\n{\n            'v': 220,\n            'f': \"220\",\n        },\n\"b09dc3225d5e1377c52c06feddc33bfe\"],\n [{\n            'v': 47063,\n            'f': \"47063\",\n        },\n\"http://www.mddelcc.gouv.qc.ca/poissons/richelieu/erosion.jpg\",\n\"erosion.jpg\",\n\"jpg\",\n\"image/jpeg\",\n\"image/jpeg\",\n{\n            'v': 310,\n            'f': \"310\",\n        },\n{\n            'v': 220,\n            'f': \"220\",\n        },\n\"b09dc3225d5e1377c52c06feddc33bfe\"],\n [{\n            'v': 47064,\n            'f': \"47064\",\n        },\n\"http://www.mddelcc.gouv.qc.ca/poissons/st-francois/erosion.jpg\",\n\"erosion.jpg\",\n\"jpg\",\n\"image/jpeg\",\n\"image/jpeg\",\n{\n            'v': 310,\n            'f': \"310\",\n        },\n{\n            'v': 220,\n            'f': \"220\",\n        },\n\"b09dc3225d5e1377c52c06feddc33bfe\"],\n [{\n            'v': 47065,\n            'f': \"47065\",\n        },\n\"http://www.mddelcc.gouv.qc.ca/poissons/chaudiere/erosion.jpg\",\n\"erosion.jpg\",\n\"jpg\",\n\"image/jpeg\",\n\"image/jpeg\",\n{\n            'v': 310,\n            'f': \"310\",\n        },\n{\n            'v': 220,\n            'f': \"220\",\n        },\n\"b09dc3225d5e1377c52c06feddc33bfe\"],\n [{\n            'v': 47066,\n            'f': \"47066\",\n        },\n\"http://www.mddelcc.gouv.qc.ca/poissons/assomption/erosion.jpg\",\n\"erosion.jpg\",\n\"jpg\",\n\"image/jpeg\",\n\"image/jpeg\",\n{\n            'v': 310,\n            'f': \"310\",\n        },\n{\n            'v': 220,\n            'f': \"220\",\n        },\n\"b09dc3225d5e1377c52c06feddc33bfe\"],\n [{\n            'v': 47067,\n            'f': \"47067\",\n        },\n\"http://www.mddelcc.gouv.qc.ca/poissons/yamaska/erosion.jpg\",\n\"erosion.jpg\",\n\"jpg\",\n\"image/jpeg\",\n\"image/jpeg\",\n{\n            'v': 310,\n            'f': \"310\",\n        },\n{\n            'v': 220,\n            'f': \"220\",\n        },\n\"b09dc3225d5e1377c52c06feddc33bfe\"],\n [{\n            'v': 47068,\n            'f': \"47068\",\n        },\n\"http://www.mddelcc.gouv.qc.ca/poissons/st-charles/erosion.jpg\",\n\"erosion.jpg\",\n\"jpg\",\n\"image/jpeg\",\n\"image/jpeg\",\n{\n            'v': 310,\n            'f': \"310\",\n        },\n{\n            'v': 220,\n            'f': \"220\",\n        },\n\"b09dc3225d5e1377c52c06feddc33bfe\"],\n [{\n            'v': 47069,\n            'f': \"47069\",\n        },\n\"http://www.mddelcc.gouv.qc.ca/poissons/chateauguay/erosion.jpg\",\n\"erosion.jpg\",\n\"jpg\",\n\"image/jpeg\",\n\"image/jpeg\",\n{\n            'v': 310,\n            'f': \"310\",\n        },\n{\n            'v': 220,\n            'f': \"220\",\n        },\n\"b09dc3225d5e1377c52c06feddc33bfe\"],\n [{\n            'v': 47070,\n            'f': \"47070\",\n        },\n\"http://www.mddep.gouv.qc.ca/poissons/chaudiere/erosion.jpg\",\n\"erosion.jpg\",\n\"jpg\",\n\"image/jpeg\",\n\"image/jpeg\",\n{\n            'v': 310,\n            'f': \"310\",\n        },\n{\n            'v': 220,\n            'f': \"220\",\n        },\n\"b09dc3225d5e1377c52c06feddc33bfe\"],\n [{\n            'v': 47071,\n            'f': \"47071\",\n        },\n\"http://www.mddelcc.gouv.qc.ca/poissons/st-maurice/erosion.jpg\",\n\"erosion.jpg\",\n\"jpg\",\n\"image/jpeg\",\n\"image/jpeg\",\n{\n            'v': 310,\n            'f': \"310\",\n        },\n{\n            'v': 220,\n            'f': \"220\",\n        },\n\"b09dc3225d5e1377c52c06feddc33bfe\"],\n [{\n            'v': 47072,\n            'f': \"47072\",\n        },\n\"http://www.mddelcc.gouv.qc.ca/poissons/richelieu/erosion.jpg\",\n\"erosion.jpg\",\n\"jpg\",\n\"image/jpeg\",\n\"image/jpeg\",\n{\n            'v': 310,\n            'f': \"310\",\n        },\n{\n            'v': 220,\n            'f': \"220\",\n        },\n\"b09dc3225d5e1377c52c06feddc33bfe\"],\n [{\n            'v': 47073,\n            'f': \"47073\",\n        },\n\"http://www.mddelcc.gouv.qc.ca/poissons/st-francois/erosion.jpg\",\n\"erosion.jpg\",\n\"jpg\",\n\"image/jpeg\",\n\"image/jpeg\",\n{\n            'v': 310,\n            'f': \"310\",\n        },\n{\n            'v': 220,\n            'f': \"220\",\n        },\n\"b09dc3225d5e1377c52c06feddc33bfe\"],\n [{\n            'v': 47074,\n            'f': \"47074\",\n        },\n\"http://www.mddelcc.gouv.qc.ca/poissons/chaudiere/erosion.jpg\",\n\"erosion.jpg\",\n\"jpg\",\n\"image/jpeg\",\n\"image/jpeg\",\n{\n            'v': 310,\n            'f': \"310\",\n        },\n{\n            'v': 220,\n            'f': \"220\",\n        },\n\"b09dc3225d5e1377c52c06feddc33bfe\"],\n [{\n            'v': 47075,\n            'f': \"47075\",\n        },\n\"http://www.mddelcc.gouv.qc.ca/poissons/assomption/erosion.jpg\",\n\"erosion.jpg\",\n\"jpg\",\n\"image/jpeg\",\n\"image/jpeg\",\n{\n            'v': 310,\n            'f': \"310\",\n        },\n{\n            'v': 220,\n            'f': \"220\",\n        },\n\"b09dc3225d5e1377c52c06feddc33bfe\"],\n [{\n            'v': 47076,\n            'f': \"47076\",\n        },\n\"http://www.mddelcc.gouv.qc.ca/poissons/yamaska/erosion.jpg\",\n\"erosion.jpg\",\n\"jpg\",\n\"image/jpeg\",\n\"image/jpeg\",\n{\n            'v': 310,\n            'f': \"310\",\n        },\n{\n            'v': 220,\n            'f': \"220\",\n        },\n\"b09dc3225d5e1377c52c06feddc33bfe\"],\n [{\n            'v': 47077,\n            'f': \"47077\",\n        },\n\"http://www.mddelcc.gouv.qc.ca/poissons/st-charles/erosion.jpg\",\n\"erosion.jpg\",\n\"jpg\",\n\"image/jpeg\",\n\"image/jpeg\",\n{\n            'v': 310,\n            'f': \"310\",\n        },\n{\n            'v': 220,\n            'f': \"220\",\n        },\n\"b09dc3225d5e1377c52c06feddc33bfe\"],\n [{\n            'v': 47078,\n            'f': \"47078\",\n        },\n\"http://www.mddelcc.gouv.qc.ca/poissons/chateauguay/erosion.jpg\",\n\"erosion.jpg\",\n\"jpg\",\n\"image/jpeg\",\n\"image/jpeg\",\n{\n            'v': 310,\n            'f': \"310\",\n        },\n{\n            'v': 220,\n            'f': \"220\",\n        },\n\"b09dc3225d5e1377c52c06feddc33bfe\"],\n [{\n            'v': 47079,\n            'f': \"47079\",\n        },\n\"http://www.mddep.gouv.qc.ca/poissons/assomption/erosion.jpg\",\n\"erosion.jpg\",\n\"jpg\",\n\"image/jpeg\",\n\"image/jpeg\",\n{\n            'v': 310,\n            'f': \"310\",\n        },\n{\n            'v': 220,\n            'f': \"220\",\n        },\n\"b09dc3225d5e1377c52c06feddc33bfe\"],\n [{\n            'v': 47080,\n            'f': \"47080\",\n        },\n\"http://www.mddep.gouv.qc.ca/poissons/st-charles/erosion.jpg\",\n\"erosion.jpg\",\n\"jpg\",\n\"image/jpeg\",\n\"image/jpeg\",\n{\n            'v': 310,\n            'f': \"310\",\n        },\n{\n            'v': 220,\n            'f': \"220\",\n        },\n\"b09dc3225d5e1377c52c06feddc33bfe\"],\n [{\n            'v': 47081,\n            'f': \"47081\",\n        },\n\"http://mddefp.gouv.qc.ca/poissons/assomption/erosion.jpg\",\n\"erosion.jpg\",\n\"jpg\",\n\"image/jpeg\",\n\"image/jpeg\",\n{\n            'v': 310,\n            'f': \"310\",\n        },\n{\n            'v': 220,\n            'f': \"220\",\n        },\n\"b09dc3225d5e1377c52c06feddc33bfe\"],\n [{\n            'v': 47082,\n            'f': \"47082\",\n        },\n\"http://www.mddep.gouv.qc.ca/poissons/st-francois/erosion.jpg\",\n\"erosion.jpg\",\n\"jpg\",\n\"image/jpeg\",\n\"image/jpeg\",\n{\n            'v': 310,\n            'f': \"310\",\n        },\n{\n            'v': 220,\n            'f': \"220\",\n        },\n\"b09dc3225d5e1377c52c06feddc33bfe\"],\n [{\n            'v': 47083,\n            'f': \"47083\",\n        },\n\"http://www.mddep.gouv.qc.ca/poissons/chateauguay/erosion.jpg\",\n\"erosion.jpg\",\n\"jpg\",\n\"image/jpeg\",\n\"image/jpeg\",\n{\n            'v': 310,\n            'f': \"310\",\n        },\n{\n            'v': 220,\n            'f': \"220\",\n        },\n\"b09dc3225d5e1377c52c06feddc33bfe\"],\n [{\n            'v': 47084,\n            'f': \"47084\",\n        },\n\"http://www.mddep.gouv.qc.ca/poissons/assomption/erosion.jpg\",\n\"erosion.jpg\",\n\"jpg\",\n\"image/jpeg\",\n\"image/jpeg\",\n{\n            'v': 310,\n            'f': \"310\",\n        },\n{\n            'v': 220,\n            'f': \"220\",\n        },\n\"b09dc3225d5e1377c52c06feddc33bfe\"],\n [{\n            'v': 47085,\n            'f': \"47085\",\n        },\n\"http://mddep.gouv.qc.ca////poissons/st-maurice/erosion.jpg\",\n\"erosion.jpg\",\n\"jpg\",\n\"image/jpeg\",\n\"image/jpeg\",\n{\n            'v': 310,\n            'f': \"310\",\n        },\n{\n            'v': 220,\n            'f': \"220\",\n        },\n\"b09dc3225d5e1377c52c06feddc33bfe\"],\n [{\n            'v': 47086,\n            'f': \"47086\",\n        },\n\"http://mddep.gouv.qc.ca//poissons/yamaska/erosion.jpg\",\n\"erosion.jpg\",\n\"jpg\",\n\"image/jpeg\",\n\"image/jpeg\",\n{\n            'v': 310,\n            'f': \"310\",\n        },\n{\n            'v': 220,\n            'f': \"220\",\n        },\n\"b09dc3225d5e1377c52c06feddc33bfe\"],\n [{\n            'v': 47087,\n            'f': \"47087\",\n        },\n\"http://mddep.gouv.qc.ca//poissons/assomption/erosion.jpg\",\n\"erosion.jpg\",\n\"jpg\",\n\"image/jpeg\",\n\"image/jpeg\",\n{\n            'v': 310,\n            'f': \"310\",\n        },\n{\n            'v': 220,\n            'f': \"220\",\n        },\n\"b09dc3225d5e1377c52c06feddc33bfe\"],\n [{\n            'v': 47088,\n            'f': \"47088\",\n        },\n\"http://www.mddefp.gouv.qc.ca//poissons/st-charles/erosion.jpg\",\n\"erosion.jpg\",\n\"jpg\",\n\"image/jpeg\",\n\"image/jpeg\",\n{\n            'v': 310,\n            'f': \"310\",\n        },\n{\n            'v': 220,\n            'f': \"220\",\n        },\n\"b09dc3225d5e1377c52c06feddc33bfe\"],\n [{\n            'v': 47089,\n            'f': \"47089\",\n        },\n\"http://www.mddefp.gouv.qc.ca////poissons/st-francois/erosion.jpg\",\n\"erosion.jpg\",\n\"jpg\",\n\"image/jpeg\",\n\"image/jpeg\",\n{\n            'v': 310,\n            'f': \"310\",\n        },\n{\n            'v': 220,\n            'f': \"220\",\n        },\n\"b09dc3225d5e1377c52c06feddc33bfe\"],\n [{\n            'v': 47090,\n            'f': \"47090\",\n        },\n\"http://www.mddefp.gouv.qc.ca////poissons/yamaska/erosion.jpg\",\n\"erosion.jpg\",\n\"jpg\",\n\"image/jpeg\",\n\"image/jpeg\",\n{\n            'v': 310,\n            'f': \"310\",\n        },\n{\n            'v': 220,\n            'f': \"220\",\n        },\n\"b09dc3225d5e1377c52c06feddc33bfe\"],\n [{\n            'v': 47091,\n            'f': \"47091\",\n        },\n\"http://www.mddefp.gouv.qc.ca////poissons/st-maurice/erosion.jpg\",\n\"erosion.jpg\",\n\"jpg\",\n\"image/jpeg\",\n\"image/jpeg\",\n{\n            'v': 310,\n            'f': \"310\",\n        },\n{\n            'v': 220,\n            'f': \"220\",\n        },\n\"b09dc3225d5e1377c52c06feddc33bfe\"],\n [{\n            'v': 47092,\n            'f': \"47092\",\n        },\n\"http://mddefp.gouv.qc.ca/poissons/assomption/erosion.jpg\",\n\"erosion.jpg\",\n\"jpg\",\n\"image/jpeg\",\n\"image/jpeg\",\n{\n            'v': 310,\n            'f': \"310\",\n        },\n{\n            'v': 220,\n            'f': \"220\",\n        },\n\"b09dc3225d5e1377c52c06feddc33bfe\"],\n [{\n            'v': 47093,\n            'f': \"47093\",\n        },\n\"http://mddefp.gouv.qc.ca/poissons/chateauguay/erosion.jpg\",\n\"erosion.jpg\",\n\"jpg\",\n\"image/jpeg\",\n\"image/jpeg\",\n{\n            'v': 310,\n            'f': \"310\",\n        },\n{\n            'v': 220,\n            'f': \"220\",\n        },\n\"b09dc3225d5e1377c52c06feddc33bfe\"],\n [{\n            'v': 47094,\n            'f': \"47094\",\n        },\n\"http://mddefp.gouv.qc.ca/poissons/st-francois/erosion.jpg\",\n\"erosion.jpg\",\n\"jpg\",\n\"image/jpeg\",\n\"image/jpeg\",\n{\n            'v': 310,\n            'f': \"310\",\n        },\n{\n            'v': 220,\n            'f': \"220\",\n        },\n\"b09dc3225d5e1377c52c06feddc33bfe\"],\n [{\n            'v': 47095,\n            'f': \"47095\",\n        },\n\"http://mddefp.gouv.qc.ca/poissons/st-maurice/erosion.jpg\",\n\"erosion.jpg\",\n\"jpg\",\n\"image/jpeg\",\n\"image/jpeg\",\n{\n            'v': 310,\n            'f': \"310\",\n        },\n{\n            'v': 220,\n            'f': \"220\",\n        },\n\"b09dc3225d5e1377c52c06feddc33bfe\"],\n [{\n            'v': 47096,\n            'f': \"47096\",\n        },\n\"http://mddefp.gouv.qc.ca/poissons/richelieu/erosion.jpg\",\n\"erosion.jpg\",\n\"jpg\",\n\"image/jpeg\",\n\"image/jpeg\",\n{\n            'v': 310,\n            'f': \"310\",\n        },\n{\n            'v': 220,\n            'f': \"220\",\n        },\n\"b09dc3225d5e1377c52c06feddc33bfe\"],\n [{\n            'v': 47097,\n            'f': \"47097\",\n        },\n\"http://mddefp.gouv.qc.ca/poissons/yamaska/erosion.jpg\",\n\"erosion.jpg\",\n\"jpg\",\n\"image/jpeg\",\n\"image/jpeg\",\n{\n            'v': 310,\n            'f': \"310\",\n        },\n{\n            'v': 220,\n            'f': \"220\",\n        },\n\"b09dc3225d5e1377c52c06feddc33bfe\"],\n [{\n            'v': 47098,\n            'f': \"47098\",\n        },\n\"http://mddefp.gouv.qc.ca/poissons/chaudiere/erosion.jpg\",\n\"erosion.jpg\",\n\"jpg\",\n\"image/jpeg\",\n\"image/jpeg\",\n{\n            'v': 310,\n            'f': \"310\",\n        },\n{\n            'v': 220,\n            'f': \"220\",\n        },\n\"b09dc3225d5e1377c52c06feddc33bfe\"],\n [{\n            'v': 47099,\n            'f': \"47099\",\n        },\n\"http://www.mddep.gouv.qc.ca/poissons/st-maurice/erosion.jpg\",\n\"erosion.jpg\",\n\"jpg\",\n\"image/jpeg\",\n\"image/jpeg\",\n{\n            'v': 310,\n            'f': \"310\",\n        },\n{\n            'v': 220,\n            'f': \"220\",\n        },\n\"b09dc3225d5e1377c52c06feddc33bfe\"],\n [{\n            'v': 47100,\n            'f': \"47100\",\n        },\n\"http://www.mddep.gouv.qc.ca/poissons/chateauguay/erosion.jpg\",\n\"erosion.jpg\",\n\"jpg\",\n\"image/jpeg\",\n\"image/jpeg\",\n{\n            'v': 310,\n            'f': \"310\",\n        },\n{\n            'v': 220,\n            'f': \"220\",\n        },\n\"b09dc3225d5e1377c52c06feddc33bfe\"],\n [{\n            'v': 47101,\n            'f': \"47101\",\n        },\n\"http://www.mddep.gouv.qc.ca/poissons/chaudiere/erosion.jpg\",\n\"erosion.jpg\",\n\"jpg\",\n\"image/jpeg\",\n\"image/jpeg\",\n{\n            'v': 310,\n            'f': \"310\",\n        },\n{\n            'v': 220,\n            'f': \"220\",\n        },\n\"b09dc3225d5e1377c52c06feddc33bfe\"],\n [{\n            'v': 47102,\n            'f': \"47102\",\n        },\n\"http://www.mddefp.gouv.qc.ca///poissons/st-francois/erosion.jpg\",\n\"erosion.jpg\",\n\"jpg\",\n\"image/jpeg\",\n\"image/jpeg\",\n{\n            'v': 310,\n            'f': \"310\",\n        },\n{\n            'v': 220,\n            'f': \"220\",\n        },\n\"b09dc3225d5e1377c52c06feddc33bfe\"],\n [{\n            'v': 47103,\n            'f': \"47103\",\n        },\n\"http://www.mddefp.gouv.qc.ca///poissons/yamaska/erosion.jpg\",\n\"erosion.jpg\",\n\"jpg\",\n\"image/jpeg\",\n\"image/jpeg\",\n{\n            'v': 310,\n            'f': \"310\",\n        },\n{\n            'v': 220,\n            'f': \"220\",\n        },\n\"b09dc3225d5e1377c52c06feddc33bfe\"],\n [{\n            'v': 47104,\n            'f': \"47104\",\n        },\n\"http://www.mddefp.gouv.qc.ca///poissons/richelieu/erosion.jpg\",\n\"erosion.jpg\",\n\"jpg\",\n\"image/jpeg\",\n\"image/jpeg\",\n{\n            'v': 310,\n            'f': \"310\",\n        },\n{\n            'v': 220,\n            'f': \"220\",\n        },\n\"b09dc3225d5e1377c52c06feddc33bfe\"],\n [{\n            'v': 47105,\n            'f': \"47105\",\n        },\n\"http://www.mddefp.gouv.qc.ca///poissons/st-maurice/erosion.jpg\",\n\"erosion.jpg\",\n\"jpg\",\n\"image/jpeg\",\n\"image/jpeg\",\n{\n            'v': 310,\n            'f': \"310\",\n        },\n{\n            'v': 220,\n            'f': \"220\",\n        },\n\"b09dc3225d5e1377c52c06feddc33bfe\"],\n [{\n            'v': 47106,\n            'f': \"47106\",\n        },\n\"http://www.mddep.gouv.qc.ca///poissons/chateauguay/erosion.jpg\",\n\"erosion.jpg\",\n\"jpg\",\n\"image/jpeg\",\n\"image/jpeg\",\n{\n            'v': 310,\n            'f': \"310\",\n        },\n{\n            'v': 220,\n            'f': \"220\",\n        },\n\"b09dc3225d5e1377c52c06feddc33bfe\"],\n [{\n            'v': 47107,\n            'f': \"47107\",\n        },\n\"http://mddep.gouv.qc.ca//poissons/chaudiere/erosion.jpg\",\n\"erosion.jpg\",\n\"jpg\",\n\"image/jpeg\",\n\"image/jpeg\",\n{\n            'v': 310,\n            'f': \"310\",\n        },\n{\n            'v': 220,\n            'f': \"220\",\n        },\n\"b09dc3225d5e1377c52c06feddc33bfe\"],\n [{\n            'v': 47108,\n            'f': \"47108\",\n        },\n\"http://mddep.gouv.qc.ca//poissons/st-maurice/erosion.jpg\",\n\"erosion.jpg\",\n\"jpg\",\n\"image/jpeg\",\n\"image/jpeg\",\n{\n            'v': 310,\n            'f': \"310\",\n        },\n{\n            'v': 220,\n            'f': \"220\",\n        },\n\"b09dc3225d5e1377c52c06feddc33bfe\"],\n [{\n            'v': 47109,\n            'f': \"47109\",\n        },\n\"http://www.mddep.gouv.qc.ca///poissons/richelieu/erosion.jpg\",\n\"erosion.jpg\",\n\"jpg\",\n\"image/jpeg\",\n\"image/jpeg\",\n{\n            'v': 310,\n            'f': \"310\",\n        },\n{\n            'v': 220,\n            'f': \"220\",\n        },\n\"b09dc3225d5e1377c52c06feddc33bfe\"],\n [{\n            'v': 47110,\n            'f': \"47110\",\n        },\n\"http://www.mddefp.gouv.qc.ca//poissons/assomption/erosion.jpg\",\n\"erosion.jpg\",\n\"jpg\",\n\"image/jpeg\",\n\"image/jpeg\",\n{\n            'v': 310,\n            'f': \"310\",\n        },\n{\n            'v': 220,\n            'f': \"220\",\n        },\n\"b09dc3225d5e1377c52c06feddc33bfe\"],\n [{\n            'v': 47111,\n            'f': \"47111\",\n        },\n\"http://www.mddefp.gouv.qc.ca//poissons/yamaska/erosion.jpg\",\n\"erosion.jpg\",\n\"jpg\",\n\"image/jpeg\",\n\"image/jpeg\",\n{\n            'v': 310,\n            'f': \"310\",\n        },\n{\n            'v': 220,\n            'f': \"220\",\n        },\n\"b09dc3225d5e1377c52c06feddc33bfe\"],\n [{\n            'v': 47112,\n            'f': \"47112\",\n        },\n\"http://www.mddep.gouv.qc.ca/poissons/richelieu/erosion.jpg\",\n\"erosion.jpg\",\n\"jpg\",\n\"image/jpeg\",\n\"image/jpeg\",\n{\n            'v': 310,\n            'f': \"310\",\n        },\n{\n            'v': 220,\n            'f': \"220\",\n        },\n\"b09dc3225d5e1377c52c06feddc33bfe\"],\n [{\n            'v': 47113,\n            'f': \"47113\",\n        },\n\"http://www.mddep.gouv.qc.ca/poissons/yamaska/erosion.jpg\",\n\"erosion.jpg\",\n\"jpg\",\n\"image/jpeg\",\n\"image/jpeg\",\n{\n            'v': 310,\n            'f': \"310\",\n        },\n{\n            'v': 220,\n            'f': \"220\",\n        },\n\"b09dc3225d5e1377c52c06feddc33bfe\"],\n [{\n            'v': 47114,\n            'f': \"47114\",\n        },\n\"http://www.mddep.gouv.qc.ca///poissons/yamaska/erosion.jpg\",\n\"erosion.jpg\",\n\"jpg\",\n\"image/jpeg\",\n\"image/jpeg\",\n{\n            'v': 310,\n            'f': \"310\",\n        },\n{\n            'v': 220,\n            'f': \"220\",\n        },\n\"b09dc3225d5e1377c52c06feddc33bfe\"],\n [{\n            'v': 47115,\n            'f': \"47115\",\n        },\n\"http://www.mddefp.gouv.qc.ca//poissons/chateauguay/erosion.jpg\",\n\"erosion.jpg\",\n\"jpg\",\n\"image/jpeg\",\n\"image/jpeg\",\n{\n            'v': 310,\n            'f': \"310\",\n        },\n{\n            'v': 220,\n            'f': \"220\",\n        },\n\"b09dc3225d5e1377c52c06feddc33bfe\"],\n [{\n            'v': 47116,\n            'f': \"47116\",\n        },\n\"http://mddep.gouv.qc.ca//poissons/st-charles/erosion.jpg\",\n\"erosion.jpg\",\n\"jpg\",\n\"image/jpeg\",\n\"image/jpeg\",\n{\n            'v': 310,\n            'f': \"310\",\n        },\n{\n            'v': 220,\n            'f': \"220\",\n        },\n\"b09dc3225d5e1377c52c06feddc33bfe\"],\n [{\n            'v': 47117,\n            'f': \"47117\",\n        },\n\"http://www.mddep.gouv.qc.ca//poissons/richelieu/erosion.jpg\",\n\"erosion.jpg\",\n\"jpg\",\n\"image/jpeg\",\n\"image/jpeg\",\n{\n            'v': 310,\n            'f': \"310\",\n        },\n{\n            'v': 220,\n            'f': \"220\",\n        },\n\"b09dc3225d5e1377c52c06feddc33bfe\"],\n [{\n            'v': 47118,\n            'f': \"47118\",\n        },\n\"http://www.mddefp.gouv.qc.ca///poissons/st-charles/erosion.jpg\",\n\"erosion.jpg\",\n\"jpg\",\n\"image/jpeg\",\n\"image/jpeg\",\n{\n            'v': 310,\n            'f': \"310\",\n        },\n{\n            'v': 220,\n            'f': \"220\",\n        },\n\"b09dc3225d5e1377c52c06feddc33bfe\"],\n [{\n            'v': 47119,\n            'f': \"47119\",\n        },\n\"http://www.mddefp.gouv.qc.ca//poissons/assomption/erosion.jpg\",\n\"erosion.jpg\",\n\"jpg\",\n\"image/jpeg\",\n\"image/jpeg\",\n{\n            'v': 310,\n            'f': \"310\",\n        },\n{\n            'v': 220,\n            'f': \"220\",\n        },\n\"b09dc3225d5e1377c52c06feddc33bfe\"],\n [{\n            'v': 47120,\n            'f': \"47120\",\n        },\n\"http://www.mddep.gouv.qc.ca/poissons/st-charles/erosion.jpg\",\n\"erosion.jpg\",\n\"jpg\",\n\"image/jpeg\",\n\"image/jpeg\",\n{\n            'v': 310,\n            'f': \"310\",\n        },\n{\n            'v': 220,\n            'f': \"220\",\n        },\n\"b09dc3225d5e1377c52c06feddc33bfe\"],\n [{\n            'v': 47121,\n            'f': \"47121\",\n        },\n\"http://www.mddefp.gouv.qc.ca////poissons/assomption/erosion.jpg\",\n\"erosion.jpg\",\n\"jpg\",\n\"image/jpeg\",\n\"image/jpeg\",\n{\n            'v': 310,\n            'f': \"310\",\n        },\n{\n            'v': 220,\n            'f': \"220\",\n        },\n\"b09dc3225d5e1377c52c06feddc33bfe\"],\n [{\n            'v': 47122,\n            'f': \"47122\",\n        },\n\"http://www.mddep.gouv.qc.ca/poissons/st-maurice/erosion.jpg\",\n\"erosion.jpg\",\n\"jpg\",\n\"image/jpeg\",\n\"image/jpeg\",\n{\n            'v': 310,\n            'f': \"310\",\n        },\n{\n            'v': 220,\n            'f': \"220\",\n        },\n\"b09dc3225d5e1377c52c06feddc33bfe\"],\n [{\n            'v': 47123,\n            'f': \"47123\",\n        },\n\"http://www.mddep.gouv.qc.ca/poissons/chaudiere/erosion.jpg\",\n\"erosion.jpg\",\n\"jpg\",\n\"image/jpeg\",\n\"image/jpeg\",\n{\n            'v': 310,\n            'f': \"310\",\n        },\n{\n            'v': 220,\n            'f': \"220\",\n        },\n\"b09dc3225d5e1377c52c06feddc33bfe\"],\n [{\n            'v': 47124,\n            'f': \"47124\",\n        },\n\"http://mddep.gouv.qc.ca////poissons/chaudiere/erosion.jpg\",\n\"erosion.jpg\",\n\"jpg\",\n\"image/jpeg\",\n\"image/jpeg\",\n{\n            'v': 310,\n            'f': \"310\",\n        },\n{\n            'v': 220,\n            'f': \"220\",\n        },\n\"b09dc3225d5e1377c52c06feddc33bfe\"],\n [{\n            'v': 47125,\n            'f': \"47125\",\n        },\n\"http://www.mddep.gouv.qc.ca////poissons/richelieu/erosion.jpg\",\n\"erosion.jpg\",\n\"jpg\",\n\"image/jpeg\",\n\"image/jpeg\",\n{\n            'v': 310,\n            'f': \"310\",\n        },\n{\n            'v': 220,\n            'f': \"220\",\n        },\n\"b09dc3225d5e1377c52c06feddc33bfe\"],\n [{\n            'v': 47126,\n            'f': \"47126\",\n        },\n\"http://www.mddep.gouv.qc.ca////poissons/st-maurice/erosion.jpg\",\n\"erosion.jpg\",\n\"jpg\",\n\"image/jpeg\",\n\"image/jpeg\",\n{\n            'v': 310,\n            'f': \"310\",\n        },\n{\n            'v': 220,\n            'f': \"220\",\n        },\n\"b09dc3225d5e1377c52c06feddc33bfe\"],\n [{\n            'v': 47127,\n            'f': \"47127\",\n        },\n\"http://www.mddelcc.gouv.qc.ca/poissons/st-francois/erosion.jpg\",\n\"erosion.jpg\",\n\"jpg\",\n\"image/jpeg\",\n\"image/jpeg\",\n{\n            'v': 310,\n            'f': \"310\",\n        },\n{\n            'v': 220,\n            'f': \"220\",\n        },\n\"b09dc3225d5e1377c52c06feddc33bfe\"],\n [{\n            'v': 47128,\n            'f': \"47128\",\n        },\n\"http://www.mddelcc.gouv.qc.ca/poissons/richelieu/erosion.jpg\",\n\"erosion.jpg\",\n\"jpg\",\n\"image/jpeg\",\n\"image/jpeg\",\n{\n            'v': 310,\n            'f': \"310\",\n        },\n{\n            'v': 220,\n            'f': \"220\",\n        },\n\"b09dc3225d5e1377c52c06feddc33bfe\"],\n [{\n            'v': 47129,\n            'f': \"47129\",\n        },\n\"http://www.mddelcc.gouv.qc.ca/poissons/assomption/erosion.jpg\",\n\"erosion.jpg\",\n\"jpg\",\n\"image/jpeg\",\n\"image/jpeg\",\n{\n            'v': 310,\n            'f': \"310\",\n        },\n{\n            'v': 220,\n            'f': \"220\",\n        },\n\"b09dc3225d5e1377c52c06feddc33bfe\"],\n [{\n            'v': 47130,\n            'f': \"47130\",\n        },\n\"http://www.mddep.gouv.qc.ca//poissons/chateauguay/erosion.jpg\",\n\"erosion.jpg\",\n\"jpg\",\n\"image/jpeg\",\n\"image/jpeg\",\n{\n            'v': 310,\n            'f': \"310\",\n        },\n{\n            'v': 220,\n            'f': \"220\",\n        },\n\"b09dc3225d5e1377c52c06feddc33bfe\"],\n [{\n            'v': 47131,\n            'f': \"47131\",\n        },\n\"http://mddefp.gouv.qc.ca/poissons/richelieu/erosion.jpg\",\n\"erosion.jpg\",\n\"jpg\",\n\"image/jpeg\",\n\"image/jpeg\",\n{\n            'v': 310,\n            'f': \"310\",\n        },\n{\n            'v': 220,\n            'f': \"220\",\n        },\n\"b09dc3225d5e1377c52c06feddc33bfe\"],\n [{\n            'v': 47132,\n            'f': \"47132\",\n        },\n\"http://www.mddefp.gouv.qc.ca////poissons/assomption/erosion.jpg\",\n\"erosion.jpg\",\n\"jpg\",\n\"image/jpeg\",\n\"image/jpeg\",\n{\n            'v': 310,\n            'f': \"310\",\n        },\n{\n            'v': 220,\n            'f': \"220\",\n        },\n\"b09dc3225d5e1377c52c06feddc33bfe\"],\n [{\n            'v': 47133,\n            'f': \"47133\",\n        },\n\"http://www.mddefp.gouv.qc.ca////poissons/st-francois/erosion.jpg\",\n\"erosion.jpg\",\n\"jpg\",\n\"image/jpeg\",\n\"image/jpeg\",\n{\n            'v': 310,\n            'f': \"310\",\n        },\n{\n            'v': 220,\n            'f': \"220\",\n        },\n\"b09dc3225d5e1377c52c06feddc33bfe\"],\n [{\n            'v': 47134,\n            'f': \"47134\",\n        },\n\"http://www.mddefp.gouv.qc.ca////poissons/yamaska/erosion.jpg\",\n\"erosion.jpg\",\n\"jpg\",\n\"image/jpeg\",\n\"image/jpeg\",\n{\n            'v': 310,\n            'f': \"310\",\n        },\n{\n            'v': 220,\n            'f': \"220\",\n        },\n\"b09dc3225d5e1377c52c06feddc33bfe\"],\n [{\n            'v': 47135,\n            'f': \"47135\",\n        },\n\"http://mddep.gouv.qc.ca//poissons/chateauguay/erosion.jpg\",\n\"erosion.jpg\",\n\"jpg\",\n\"image/jpeg\",\n\"image/jpeg\",\n{\n            'v': 310,\n            'f': \"310\",\n        },\n{\n            'v': 220,\n            'f': \"220\",\n        },\n\"b09dc3225d5e1377c52c06feddc33bfe\"],\n [{\n            'v': 47136,\n            'f': \"47136\",\n        },\n\"http://www.mddefp.gouv.qc.ca//poissons/chateauguay/erosion.jpg\",\n\"erosion.jpg\",\n\"jpg\",\n\"image/jpeg\",\n\"image/jpeg\",\n{\n            'v': 310,\n            'f': \"310\",\n        },\n{\n            'v': 220,\n            'f': \"220\",\n        },\n\"b09dc3225d5e1377c52c06feddc33bfe\"],\n [{\n            'v': 47137,\n            'f': \"47137\",\n        },\n\"http://www.mddefp.gouv.qc.ca///poissons/chateauguay/erosion.jpg\",\n\"erosion.jpg\",\n\"jpg\",\n\"image/jpeg\",\n\"image/jpeg\",\n{\n            'v': 310,\n            'f': \"310\",\n        },\n{\n            'v': 220,\n            'f': \"220\",\n        },\n\"b09dc3225d5e1377c52c06feddc33bfe\"],\n [{\n            'v': 47138,\n            'f': \"47138\",\n        },\n\"http://www.mddefp.gouv.qc.ca///poissons/chaudiere/erosion.jpg\",\n\"erosion.jpg\",\n\"jpg\",\n\"image/jpeg\",\n\"image/jpeg\",\n{\n            'v': 310,\n            'f': \"310\",\n        },\n{\n            'v': 220,\n            'f': \"220\",\n        },\n\"b09dc3225d5e1377c52c06feddc33bfe\"],\n [{\n            'v': 47139,\n            'f': \"47139\",\n        },\n\"http://mddefp.gouv.qc.ca/poissons/st-charles/erosion.jpg\",\n\"erosion.jpg\",\n\"jpg\",\n\"image/jpeg\",\n\"image/jpeg\",\n{\n            'v': 310,\n            'f': \"310\",\n        },\n{\n            'v': 220,\n            'f': \"220\",\n        },\n\"b09dc3225d5e1377c52c06feddc33bfe\"],\n [{\n            'v': 47140,\n            'f': \"47140\",\n        },\n\"http://mddefp.gouv.qc.ca/poissons/chateauguay/erosion.jpg\",\n\"erosion.jpg\",\n\"jpg\",\n\"image/jpeg\",\n\"image/jpeg\",\n{\n            'v': 310,\n            'f': \"310\",\n        },\n{\n            'v': 220,\n            'f': \"220\",\n        },\n\"b09dc3225d5e1377c52c06feddc33bfe\"],\n [{\n            'v': 47141,\n            'f': \"47141\",\n        },\n\"http://www.mddep.gouv.qc.ca/poissons/assomption/erosion.jpg\",\n\"erosion.jpg\",\n\"jpg\",\n\"image/jpeg\",\n\"image/jpeg\",\n{\n            'v': 310,\n            'f': \"310\",\n        },\n{\n            'v': 220,\n            'f': \"220\",\n        },\n\"b09dc3225d5e1377c52c06feddc33bfe\"],\n [{\n            'v': 47142,\n            'f': \"47142\",\n        },\n\"http://www.mddep.gouv.qc.ca/poissons/st-charles/erosion.jpg\",\n\"erosion.jpg\",\n\"jpg\",\n\"image/jpeg\",\n\"image/jpeg\",\n{\n            'v': 310,\n            'f': \"310\",\n        },\n{\n            'v': 220,\n            'f': \"220\",\n        },\n\"b09dc3225d5e1377c52c06feddc33bfe\"],\n [{\n            'v': 47143,\n            'f': \"47143\",\n        },\n\"http://www.mddep.gouv.qc.ca//poissons/st-charles/erosion.jpg\",\n\"erosion.jpg\",\n\"jpg\",\n\"image/jpeg\",\n\"image/jpeg\",\n{\n            'v': 310,\n            'f': \"310\",\n        },\n{\n            'v': 220,\n            'f': \"220\",\n        },\n\"b09dc3225d5e1377c52c06feddc33bfe\"],\n [{\n            'v': 47144,\n            'f': \"47144\",\n        },\n\"http://www.mddefp.gouv.qc.ca//poissons/chaudiere/erosion.jpg\",\n\"erosion.jpg\",\n\"jpg\",\n\"image/jpeg\",\n\"image/jpeg\",\n{\n            'v': 310,\n            'f': \"310\",\n        },\n{\n            'v': 220,\n            'f': \"220\",\n        },\n\"b09dc3225d5e1377c52c06feddc33bfe\"],\n [{\n            'v': 47145,\n            'f': \"47145\",\n        },\n\"http://www.mddep.gouv.qc.ca/poissons/yamaska/erosion.jpg\",\n\"erosion.jpg\",\n\"jpg\",\n\"image/jpeg\",\n\"image/jpeg\",\n{\n            'v': 310,\n            'f': \"310\",\n        },\n{\n            'v': 220,\n            'f': \"220\",\n        },\n\"b09dc3225d5e1377c52c06feddc33bfe\"],\n [{\n            'v': 47146,\n            'f': \"47146\",\n        },\n\"http://www.mddefp.gouv.qc.ca///poissons/chateauguay/erosion.jpg\",\n\"erosion.jpg\",\n\"jpg\",\n\"image/jpeg\",\n\"image/jpeg\",\n{\n            'v': 310,\n            'f': \"310\",\n        },\n{\n            'v': 220,\n            'f': \"220\",\n        },\n\"b09dc3225d5e1377c52c06feddc33bfe\"],\n [{\n            'v': 47147,\n            'f': \"47147\",\n        },\n\"http://www.mddefp.gouv.qc.ca///poissons/chaudiere/erosion.jpg\",\n\"erosion.jpg\",\n\"jpg\",\n\"image/jpeg\",\n\"image/jpeg\",\n{\n            'v': 310,\n            'f': \"310\",\n        },\n{\n            'v': 220,\n            'f': \"220\",\n        },\n\"b09dc3225d5e1377c52c06feddc33bfe\"],\n [{\n            'v': 47148,\n            'f': \"47148\",\n        },\n\"http://www.mddep.gouv.qc.ca//poissons/chaudiere/erosion.jpg\",\n\"erosion.jpg\",\n\"jpg\",\n\"image/jpeg\",\n\"image/jpeg\",\n{\n            'v': 310,\n            'f': \"310\",\n        },\n{\n            'v': 220,\n            'f': \"220\",\n        },\n\"b09dc3225d5e1377c52c06feddc33bfe\"],\n [{\n            'v': 47149,\n            'f': \"47149\",\n        },\n\"http://www.mddep.gouv.qc.ca/poissons/richelieu/erosion.jpg\",\n\"erosion.jpg\",\n\"jpg\",\n\"image/jpeg\",\n\"image/jpeg\",\n{\n            'v': 310,\n            'f': \"310\",\n        },\n{\n            'v': 220,\n            'f': \"220\",\n        },\n\"b09dc3225d5e1377c52c06feddc33bfe\"],\n [{\n            'v': 47150,\n            'f': \"47150\",\n        },\n\"http://www.mddelcc.gouv.qc.ca//poissons/yamaska/erosion.jpg\",\n\"erosion.jpg\",\n\"jpg\",\n\"image/jpeg\",\n\"image/jpeg\",\n{\n            'v': 310,\n            'f': \"310\",\n        },\n{\n            'v': 220,\n            'f': \"220\",\n        },\n\"b09dc3225d5e1377c52c06feddc33bfe\"],\n [{\n            'v': 47151,\n            'f': \"47151\",\n        },\n\"http://www.mddelcc.gouv.qc.ca//poissons/assomption/erosion.jpg\",\n\"erosion.jpg\",\n\"jpg\",\n\"image/jpeg\",\n\"image/jpeg\",\n{\n            'v': 310,\n            'f': \"310\",\n        },\n{\n            'v': 220,\n            'f': \"220\",\n        },\n\"b09dc3225d5e1377c52c06feddc33bfe\"],\n [{\n            'v': 47152,\n            'f': \"47152\",\n        },\n\"http://www.mddelcc.gouv.qc.ca//poissons/st-francois/erosion.jpg\",\n\"erosion.jpg\",\n\"jpg\",\n\"image/jpeg\",\n\"image/jpeg\",\n{\n            'v': 310,\n            'f': \"310\",\n        },\n{\n            'v': 220,\n            'f': \"220\",\n        },\n\"b09dc3225d5e1377c52c06feddc33bfe\"],\n [{\n            'v': 47153,\n            'f': \"47153\",\n        },\n\"http://www.mddep.gouv.qc.ca/poissons/st-francois/erosion.jpg\",\n\"erosion.jpg\",\n\"jpg\",\n\"image/jpeg\",\n\"image/jpeg\",\n{\n            'v': 310,\n            'f': \"310\",\n        },\n{\n            'v': 220,\n            'f': \"220\",\n        },\n\"b09dc3225d5e1377c52c06feddc33bfe\"],\n [{\n            'v': 47154,\n            'f': \"47154\",\n        },\n\"http://www.mddep.gouv.qc.ca//poissons/yamaska/erosion.jpg\",\n\"erosion.jpg\",\n\"jpg\",\n\"image/jpeg\",\n\"image/jpeg\",\n{\n            'v': 310,\n            'f': \"310\",\n        },\n{\n            'v': 220,\n            'f': \"220\",\n        },\n\"b09dc3225d5e1377c52c06feddc33bfe\"]],\n        columns: [[\"number\", \"index\"], [\"string\", \"url\"], [\"string\", \"filename\"], [\"string\", \"extension\"], [\"string\", \"mime_type_web_server\"], [\"string\", \"mime_type_tika\"], [\"number\", \"width\"], [\"number\", \"height\"], [\"string\", \"md5\"]],\n        columnOptions: [{\"width\": \"1px\", \"className\": \"index_column\"}],\n        rowsPerPage: 25,\n        helpUrl: \"https://colab.research.google.com/notebooks/data_table.ipynb\",\n        suppressOutputScrolling: true,\n        minimumWidth: undefined,\n      });\n    ",
            "text/html": [
              "<div>\n",
              "<style scoped>\n",
              "    .dataframe tbody tr th:only-of-type {\n",
              "        vertical-align: middle;\n",
              "    }\n",
              "\n",
              "    .dataframe tbody tr th {\n",
              "        vertical-align: top;\n",
              "    }\n",
              "\n",
              "    .dataframe thead th {\n",
              "        text-align: right;\n",
              "    }\n",
              "</style>\n",
              "<table border=\"1\" class=\"dataframe\">\n",
              "  <thead>\n",
              "    <tr style=\"text-align: right;\">\n",
              "      <th></th>\n",
              "      <th>url</th>\n",
              "      <th>filename</th>\n",
              "      <th>extension</th>\n",
              "      <th>mime_type_web_server</th>\n",
              "      <th>mime_type_tika</th>\n",
              "      <th>width</th>\n",
              "      <th>height</th>\n",
              "      <th>md5</th>\n",
              "    </tr>\n",
              "  </thead>\n",
              "  <tbody>\n",
              "    <tr>\n",
              "      <th>46963</th>\n",
              "      <td>http://www.mddefp.gouv.qc.ca//poissons/st-char...</td>\n",
              "      <td>erosion.jpg</td>\n",
              "      <td>jpg</td>\n",
              "      <td>image/jpeg</td>\n",
              "      <td>image/jpeg</td>\n",
              "      <td>310</td>\n",
              "      <td>220</td>\n",
              "      <td>b09dc3225d5e1377c52c06feddc33bfe</td>\n",
              "    </tr>\n",
              "    <tr>\n",
              "      <th>46964</th>\n",
              "      <td>http://www.mddep.gouv.qc.ca/poissons/yamaska/e...</td>\n",
              "      <td>erosion.jpg</td>\n",
              "      <td>jpg</td>\n",
              "      <td>image/jpeg</td>\n",
              "      <td>image/jpeg</td>\n",
              "      <td>310</td>\n",
              "      <td>220</td>\n",
              "      <td>b09dc3225d5e1377c52c06feddc33bfe</td>\n",
              "    </tr>\n",
              "    <tr>\n",
              "      <th>46965</th>\n",
              "      <td>http://mddefp.gouv.qc.ca/poissons/st-maurice/e...</td>\n",
              "      <td>erosion.jpg</td>\n",
              "      <td>jpg</td>\n",
              "      <td>image/jpeg</td>\n",
              "      <td>image/jpeg</td>\n",
              "      <td>310</td>\n",
              "      <td>220</td>\n",
              "      <td>b09dc3225d5e1377c52c06feddc33bfe</td>\n",
              "    </tr>\n",
              "    <tr>\n",
              "      <th>46966</th>\n",
              "      <td>http://mddefp.gouv.qc.ca/poissons/st-francois/...</td>\n",
              "      <td>erosion.jpg</td>\n",
              "      <td>jpg</td>\n",
              "      <td>image/jpeg</td>\n",
              "      <td>image/jpeg</td>\n",
              "      <td>310</td>\n",
              "      <td>220</td>\n",
              "      <td>b09dc3225d5e1377c52c06feddc33bfe</td>\n",
              "    </tr>\n",
              "    <tr>\n",
              "      <th>46967</th>\n",
              "      <td>http://mddefp.gouv.qc.ca/poissons/chateauguay/...</td>\n",
              "      <td>erosion.jpg</td>\n",
              "      <td>jpg</td>\n",
              "      <td>image/jpeg</td>\n",
              "      <td>image/jpeg</td>\n",
              "      <td>310</td>\n",
              "      <td>220</td>\n",
              "      <td>b09dc3225d5e1377c52c06feddc33bfe</td>\n",
              "    </tr>\n",
              "    <tr>\n",
              "      <th>...</th>\n",
              "      <td>...</td>\n",
              "      <td>...</td>\n",
              "      <td>...</td>\n",
              "      <td>...</td>\n",
              "      <td>...</td>\n",
              "      <td>...</td>\n",
              "      <td>...</td>\n",
              "      <td>...</td>\n",
              "    </tr>\n",
              "    <tr>\n",
              "      <th>47150</th>\n",
              "      <td>http://www.mddelcc.gouv.qc.ca//poissons/yamask...</td>\n",
              "      <td>erosion.jpg</td>\n",
              "      <td>jpg</td>\n",
              "      <td>image/jpeg</td>\n",
              "      <td>image/jpeg</td>\n",
              "      <td>310</td>\n",
              "      <td>220</td>\n",
              "      <td>b09dc3225d5e1377c52c06feddc33bfe</td>\n",
              "    </tr>\n",
              "    <tr>\n",
              "      <th>47151</th>\n",
              "      <td>http://www.mddelcc.gouv.qc.ca//poissons/assomp...</td>\n",
              "      <td>erosion.jpg</td>\n",
              "      <td>jpg</td>\n",
              "      <td>image/jpeg</td>\n",
              "      <td>image/jpeg</td>\n",
              "      <td>310</td>\n",
              "      <td>220</td>\n",
              "      <td>b09dc3225d5e1377c52c06feddc33bfe</td>\n",
              "    </tr>\n",
              "    <tr>\n",
              "      <th>47152</th>\n",
              "      <td>http://www.mddelcc.gouv.qc.ca//poissons/st-fra...</td>\n",
              "      <td>erosion.jpg</td>\n",
              "      <td>jpg</td>\n",
              "      <td>image/jpeg</td>\n",
              "      <td>image/jpeg</td>\n",
              "      <td>310</td>\n",
              "      <td>220</td>\n",
              "      <td>b09dc3225d5e1377c52c06feddc33bfe</td>\n",
              "    </tr>\n",
              "    <tr>\n",
              "      <th>47153</th>\n",
              "      <td>http://www.mddep.gouv.qc.ca/poissons/st-franco...</td>\n",
              "      <td>erosion.jpg</td>\n",
              "      <td>jpg</td>\n",
              "      <td>image/jpeg</td>\n",
              "      <td>image/jpeg</td>\n",
              "      <td>310</td>\n",
              "      <td>220</td>\n",
              "      <td>b09dc3225d5e1377c52c06feddc33bfe</td>\n",
              "    </tr>\n",
              "    <tr>\n",
              "      <th>47154</th>\n",
              "      <td>http://www.mddep.gouv.qc.ca//poissons/yamaska/...</td>\n",
              "      <td>erosion.jpg</td>\n",
              "      <td>jpg</td>\n",
              "      <td>image/jpeg</td>\n",
              "      <td>image/jpeg</td>\n",
              "      <td>310</td>\n",
              "      <td>220</td>\n",
              "      <td>b09dc3225d5e1377c52c06feddc33bfe</td>\n",
              "    </tr>\n",
              "  </tbody>\n",
              "</table>\n",
              "<p>192 rows × 8 columns</p>\n",
              "</div>"
            ],
            "text/plain": [
              "                                                     url  ...                               md5\n",
              "46963  http://www.mddefp.gouv.qc.ca//poissons/st-char...  ...  b09dc3225d5e1377c52c06feddc33bfe\n",
              "46964  http://www.mddep.gouv.qc.ca/poissons/yamaska/e...  ...  b09dc3225d5e1377c52c06feddc33bfe\n",
              "46965  http://mddefp.gouv.qc.ca/poissons/st-maurice/e...  ...  b09dc3225d5e1377c52c06feddc33bfe\n",
              "46966  http://mddefp.gouv.qc.ca/poissons/st-francois/...  ...  b09dc3225d5e1377c52c06feddc33bfe\n",
              "46967  http://mddefp.gouv.qc.ca/poissons/chateauguay/...  ...  b09dc3225d5e1377c52c06feddc33bfe\n",
              "...                                                  ...  ...                               ...\n",
              "47150  http://www.mddelcc.gouv.qc.ca//poissons/yamask...  ...  b09dc3225d5e1377c52c06feddc33bfe\n",
              "47151  http://www.mddelcc.gouv.qc.ca//poissons/assomp...  ...  b09dc3225d5e1377c52c06feddc33bfe\n",
              "47152  http://www.mddelcc.gouv.qc.ca//poissons/st-fra...  ...  b09dc3225d5e1377c52c06feddc33bfe\n",
              "47153  http://www.mddep.gouv.qc.ca/poissons/st-franco...  ...  b09dc3225d5e1377c52c06feddc33bfe\n",
              "47154  http://www.mddep.gouv.qc.ca//poissons/yamaska/...  ...  b09dc3225d5e1377c52c06feddc33bfe\n",
              "\n",
              "[192 rows x 8 columns]"
            ]
          },
          "metadata": {
            "tags": []
          },
          "execution_count": 11
        }
      ]
    },
    {
      "cell_type": "markdown",
      "metadata": {
        "id": "kE-8epARIG0-"
      },
      "source": [
        "### What does `b09dc3225d5e1377c52c06feddc33bfe` look like?\n",
        "\n",
        "We can extract the binary from the web archive using our [binary extraction functions](https://github.com/archivesunleashed/aut-docs-new/blob/master/current/image-analysis.md#scala-df).\n",
        "\n",
        "```scala\n",
        "import io.archivesunleashed._\n",
        "import io.archivesunleashed.df._\n",
        "\n",
        "val df = RecordLoader\n",
        "  .loadArchives(\"example.arc.gz\", sc)\n",
        "  .extractImageDetailsDF();\n",
        "\n",
        "df.select($\"bytes\", $\"extension\")\n",
        "  .saveToDisk(\"bytes\", \"/path/to/export/directory/your-preferred-filename-prefix\", $\"extension\")\n",
        "```\n",
        "\n",
        "**But**, since we don't have access to the WARC files here, just the Parquet derivatives, we can make do  by trying to display a live web version of the image or a replay URL. In this case, BANQ's replay service is available at [https://waext.banq.qc.ca](http://waext.banq.qc.ca)."
      ]
    },
    {
      "cell_type": "code",
      "metadata": {
        "colab": {
          "base_uri": "https://localhost:8080/"
        },
        "id": "wB3VqcmgJQM0",
        "outputId": "6a84ff57-c7fa-4e52-9f7a-d8c333f1eea1"
      },
      "source": [
        "pd.options.display.max_colwidth = None\n",
        "one_image = images.loc[images['md5'] == 'b09dc3225d5e1377c52c06feddc33bfe'].head(1)\n",
        "one_image['url']"
      ],
      "execution_count": 12,
      "outputs": [
        {
          "output_type": "execute_result",
          "data": {
            "text/plain": [
              "46963    http://www.mddefp.gouv.qc.ca//poissons/st-charles/erosion.jpg\n",
              "Name: url, dtype: object"
            ]
          },
          "metadata": {
            "tags": []
          },
          "execution_count": 12
        }
      ]
    },
    {
      "cell_type": "markdown",
      "metadata": {
        "id": "5YV2u_8aLEJS"
      },
      "source": [
        "![fish](http://waext.banq.qc.ca/wayback/20121127103149/http://www.mddefp.gouv.qc.ca/poissons/st-charles/erosion.jpg)"
      ]
    },
    {
      "cell_type": "markdown",
      "metadata": {
        "id": "6YfsUGSRt1Ns"
      },
      "source": [
        "Unfortunately, while we can tell you this is such a popular image within the web archive, we can't tell you _why_. That's where the researcher comes in!"
      ]
    },
    {
      "cell_type": "markdown",
      "metadata": {
        "id": "GbLLZW2awzCv"
      },
      "source": [
        "#### What are the top 10 most occuring filenames in the collection?\n",
        "\n",
        "Note that this is of course different than the MD5 results up above. Here we are focusing _just_ on filename. So `carte-p.jpg` for example, might actually be referring to different images who happen to have the same name.\n"
      ]
    },
    {
      "cell_type": "code",
      "metadata": {
        "colab": {
          "base_uri": "https://localhost:8080/"
        },
        "id": "pQaw54ACkwdZ",
        "outputId": "422d113f-c858-41ba-977f-e082360b28f9"
      },
      "source": [
        "top_filenames = images['filename'].value_counts().head(10)\n",
        "top_filenames"
      ],
      "execution_count": 13,
      "outputs": [
        {
          "output_type": "execute_result",
          "data": {
            "text/plain": [
              "carte-p.jpg      1196\n",
              "carte2.jpg        924\n",
              "carte1.jpg        875\n",
              "carte-g.jpg       660\n",
              "carte.jpg         576\n",
              "carte-an.jpg      575\n",
              "carte-qc.jpg      575\n",
              "carte-G.jpg       484\n",
              "carte_p.jpg       473\n",
              "carte_web.jpg     431\n",
              "Name: filename, dtype: int64"
            ]
          },
          "metadata": {
            "tags": []
          },
          "execution_count": 13
        }
      ]
    },
    {
      "cell_type": "markdown",
      "metadata": {
        "id": "Z7F3re20BQRI"
      },
      "source": [
        "#### Let's plot it!\n",
        "\n",
        "We'll plot the data first with panadas plot functionality, and then plot the data with [Altair](https://altair-viz.github.io/)."
      ]
    },
    {
      "cell_type": "code",
      "metadata": {
        "colab": {
          "base_uri": "https://localhost:8080/",
          "height": 715
        },
        "id": "sRvlstfsBWEZ",
        "outputId": "72de7352-2e76-4d35-fc99-fe77b153bdc7"
      },
      "source": [
        "top_filenames_chart = top_filenames.plot.bar(figsize=(25,10))\n",
        "top_filenames_chart.set_title(\"Top Filenames\", fontsize=22)\n",
        "top_filenames_chart.set_xlabel(\"Filename\", fontsize=20)\n",
        "top_filenames_chart.set_ylabel(\"Count\", fontsize=20)"
      ],
      "execution_count": 14,
      "outputs": [
        {
          "output_type": "execute_result",
          "data": {
            "text/plain": [
              "Text(0, 0.5, 'Count')"
            ]
          },
          "metadata": {
            "tags": []
          },
          "execution_count": 14
        },
        {
          "output_type": "display_data",
          "data": {
            "image/png": "[encoded data removed]",
            "text/plain": [
              "<Figure size 1800x720 with 1 Axes>"
            ]
          },
          "metadata": {
            "tags": [],
            "needs_background": "light"
          }
        }
      ]
    },
    {
      "cell_type": "markdown",
      "metadata": {
        "id": "pQgeOObvgLvK"
      },
      "source": [
        "Now let's setup Altair, and plot the data with Altair. We'll use Altair for the remaining plots we create since the plots can be easily exported as a PNG or SVG."
      ]
    },
    {
      "cell_type": "code",
      "metadata": {
        "id": "Q7Z4J6qjWaVM"
      },
      "source": [
        "import altair as alt"
      ],
      "execution_count": 15,
      "outputs": []
    },
    {
      "cell_type": "code",
      "metadata": {
        "colab": {
          "base_uri": "https://localhost:8080/",
          "height": 849
        },
        "id": "s0xwvILYWkgg",
        "outputId": "24b54496-2c07-447b-b3bc-5bd3031299a8"
      },
      "source": [
        "top_filenames_altair = images['filename'].value_counts().head(10).rename_axis('Filename').reset_index(name='Count')\n",
        "\n",
        "filenames_bar = alt.Chart(top_filenames_altair).mark_bar().encode(\n",
        "    x='Filename:O',\n",
        "    y='Count:Q'\n",
        ")\n",
        "\n",
        "filenames_rule = alt.Chart(top_filenames_altair).mark_rule(color='red').encode(\n",
        "    y='mean(Count):Q'\n",
        ")\n",
        "\n",
        "\n",
        "filenames_text = filenames_bar.mark_text(\n",
        "    align='center',\n",
        "    baseline='bottom'\n",
        ").encode(\n",
        "    text='Count:Q'\n",
        ")\n",
        "\n",
        "(filenames_bar + filenames_rule + filenames_text).properties(width=1400, height=700, title='Top Filenames')"
      ],
      "execution_count": 16,
      "outputs": [
        {
          "output_type": "execute_result",
          "data": {
            "text/plain": [
              "alt.LayerChart(...)"
            ],
            "text/html": [
              "\n",
              "<div id=\"altair-viz-a948bc555e4246cc82f60627343489fc\"></div>\n",
              "<script type=\"text/javascript\">\n",
              "  (function(spec, embedOpt){\n",
              "    let outputDiv = document.currentScript.previousElementSibling;\n",
              "    if (outputDiv.id !== \"altair-viz-a948bc555e4246cc82f60627343489fc\") {\n",
              "      outputDiv = document.getElementById(\"altair-viz-a948bc555e4246cc82f60627343489fc\");\n",
              "    }\n",
              "    const paths = {\n",
              "      \"vega\": \"https://cdn.jsdelivr.net/npm//vega@5?noext\",\n",
              "      \"vega-lib\": \"https://cdn.jsdelivr.net/npm//vega-lib?noext\",\n",
              "      \"vega-lite\": \"https://cdn.jsdelivr.net/npm//vega-lite@4.8.1?noext\",\n",
              "      \"vega-embed\": \"https://cdn.jsdelivr.net/npm//vega-embed@6?noext\",\n",
              "    };\n",
              "\n",
              "    function loadScript(lib) {\n",
              "      return new Promise(function(resolve, reject) {\n",
              "        var s = document.createElement('script');\n",
              "        s.src = paths[lib];\n",
              "        s.async = true;\n",
              "        s.onload = () => resolve(paths[lib]);\n",
              "        s.onerror = () => reject(`Error loading script: ${paths[lib]}`);\n",
              "        document.getElementsByTagName(\"head\")[0].appendChild(s);\n",
              "      });\n",
              "    }\n",
              "\n",
              "    function showError(err) {\n",
              "      outputDiv.innerHTML = `<div class=\"error\" style=\"color:red;\">${err}</div>`;\n",
              "      throw err;\n",
              "    }\n",
              "\n",
              "    function displayChart(vegaEmbed) {\n",
              "      vegaEmbed(outputDiv, spec, embedOpt)\n",
              "        .catch(err => showError(`Javascript Error: ${err.message}<br>This usually means there's a typo in your chart specification. See the javascript console for the full traceback.`));\n",
              "    }\n",
              "\n",
              "    if(typeof define === \"function\" && define.amd) {\n",
              "      requirejs.config({paths});\n",
              "      require([\"vega-embed\"], displayChart, err => showError(`Error loading script: ${err.message}`));\n",
              "    } else if (typeof vegaEmbed === \"function\") {\n",
              "      displayChart(vegaEmbed);\n",
              "    } else {\n",
              "      loadScript(\"vega\")\n",
              "        .then(() => loadScript(\"vega-lite\"))\n",
              "        .then(() => loadScript(\"vega-embed\"))\n",
              "        .catch(showError)\n",
              "        .then(() => displayChart(vegaEmbed));\n",
              "    }\n",
              "  })({\"config\": {\"view\": {\"continuousWidth\": 400, \"continuousHeight\": 300}}, \"layer\": [{\"mark\": \"bar\", \"encoding\": {\"x\": {\"type\": \"ordinal\", \"field\": \"Filename\"}, \"y\": {\"type\": \"quantitative\", \"field\": \"Count\"}}}, {\"mark\": {\"type\": \"rule\", \"color\": \"red\"}, \"encoding\": {\"y\": {\"type\": \"quantitative\", \"aggregate\": \"mean\", \"field\": \"Count\"}}}, {\"mark\": {\"type\": \"text\", \"align\": \"center\", \"baseline\": \"bottom\"}, \"encoding\": {\"text\": {\"type\": \"quantitative\", \"field\": \"Count\"}, \"x\": {\"type\": \"ordinal\", \"field\": \"Filename\"}, \"y\": {\"type\": \"quantitative\", \"field\": \"Count\"}}}], \"data\": {\"name\": \"data-792faf9cebf78477da1fa1201150b6ed\"}, \"height\": 700, \"title\": \"Top Filenames\", \"width\": 1400, \"$schema\": \"https://vega.github.io/schema/vega-lite/v4.8.1.json\", \"datasets\": {\"data-792faf9cebf78477da1fa1201150b6ed\": [{\"Filename\": \"carte-p.jpg\", \"Count\": 1196}, {\"Filename\": \"carte2.jpg\", \"Count\": 924}, {\"Filename\": \"carte1.jpg\", \"Count\": 875}, {\"Filename\": \"carte-g.jpg\", \"Count\": 660}, {\"Filename\": \"carte.jpg\", \"Count\": 576}, {\"Filename\": \"carte-an.jpg\", \"Count\": 575}, {\"Filename\": \"carte-qc.jpg\", \"Count\": 575}, {\"Filename\": \"carte-G.jpg\", \"Count\": 484}, {\"Filename\": \"carte_p.jpg\", \"Count\": 473}, {\"Filename\": \"carte_web.jpg\", \"Count\": 431}]}}, {\"mode\": \"vega-lite\"});\n",
              "</script>"
            ]
          },
          "metadata": {
            "tags": []
          },
          "execution_count": 16
        }
      ]
    },
    {
      "cell_type": "markdown",
      "metadata": {
        "id": "BneaN9cgGoly"
      },
      "source": [
        "#### How about a MIME type distribution?\n",
        "\n",
        "What _kind_ of image files are present? We can discover this by checking their \"media type\", or [MIME type](https://en.wikipedia.org/wiki/Media_type). \n",
        "\n",
        "\n",
        "\n",
        "\n"
      ]
    },
    {
      "cell_type": "code",
      "metadata": {
        "colab": {
          "base_uri": "https://localhost:8080/",
          "height": 901
        },
        "id": "RDd-J8D-GwDk",
        "outputId": "841eecaf-ae53-4315-cdf8-ea7b6e77b59e"
      },
      "source": [
        "image_mime_types = images['mime_type_tika'].value_counts().head(5).rename_axis('MIME Type').reset_index(name='Count')\n",
        "\n",
        "image_mimes_bar = alt.Chart(image_mime_types).mark_bar().encode(\n",
        "    x='MIME Type:O',\n",
        "    y='Count:Q'\n",
        ")\n",
        "\n",
        "image_mime_rule = alt.Chart(image_mime_types).mark_rule(color='red').encode(\n",
        "    y='mean(Count):Q'\n",
        ")\n",
        "\n",
        "image_mime_text = image_mimes_bar.mark_text(\n",
        "    align='center',\n",
        "    baseline='bottom'\n",
        ").encode(\n",
        "    text='Count:Q'\n",
        ")\n",
        "\n",
        "(image_mimes_bar + image_mime_rule + image_mime_text).properties(width=1400, height=700, title='Images MIME Type Distribution')"
      ],
      "execution_count": 17,
      "outputs": [
        {
          "output_type": "execute_result",
          "data": {
            "text/plain": [
              "alt.LayerChart(...)"
            ],
            "text/html": [
              "\n",
              "<div id=\"altair-viz-adfcd76da79c478faeb5d01f78ee7756\"></div>\n",
              "<script type=\"text/javascript\">\n",
              "  (function(spec, embedOpt){\n",
              "    let outputDiv = document.currentScript.previousElementSibling;\n",
              "    if (outputDiv.id !== \"altair-viz-adfcd76da79c478faeb5d01f78ee7756\") {\n",
              "      outputDiv = document.getElementById(\"altair-viz-adfcd76da79c478faeb5d01f78ee7756\");\n",
              "    }\n",
              "    const paths = {\n",
              "      \"vega\": \"https://cdn.jsdelivr.net/npm//vega@5?noext\",\n",
              "      \"vega-lib\": \"https://cdn.jsdelivr.net/npm//vega-lib?noext\",\n",
              "      \"vega-lite\": \"https://cdn.jsdelivr.net/npm//vega-lite@4.8.1?noext\",\n",
              "      \"vega-embed\": \"https://cdn.jsdelivr.net/npm//vega-embed@6?noext\",\n",
              "    };\n",
              "\n",
              "    function loadScript(lib) {\n",
              "      return new Promise(function(resolve, reject) {\n",
              "        var s = document.createElement('script');\n",
              "        s.src = paths[lib];\n",
              "        s.async = true;\n",
              "        s.onload = () => resolve(paths[lib]);\n",
              "        s.onerror = () => reject(`Error loading script: ${paths[lib]}`);\n",
              "        document.getElementsByTagName(\"head\")[0].appendChild(s);\n",
              "      });\n",
              "    }\n",
              "\n",
              "    function showError(err) {\n",
              "      outputDiv.innerHTML = `<div class=\"error\" style=\"color:red;\">${err}</div>`;\n",
              "      throw err;\n",
              "    }\n",
              "\n",
              "    function displayChart(vegaEmbed) {\n",
              "      vegaEmbed(outputDiv, spec, embedOpt)\n",
              "        .catch(err => showError(`Javascript Error: ${err.message}<br>This usually means there's a typo in your chart specification. See the javascript console for the full traceback.`));\n",
              "    }\n",
              "\n",
              "    if(typeof define === \"function\" && define.amd) {\n",
              "      requirejs.config({paths});\n",
              "      require([\"vega-embed\"], displayChart, err => showError(`Error loading script: ${err.message}`));\n",
              "    } else if (typeof vegaEmbed === \"function\") {\n",
              "      displayChart(vegaEmbed);\n",
              "    } else {\n",
              "      loadScript(\"vega\")\n",
              "        .then(() => loadScript(\"vega-lite\"))\n",
              "        .then(() => loadScript(\"vega-embed\"))\n",
              "        .catch(showError)\n",
              "        .then(() => displayChart(vegaEmbed));\n",
              "    }\n",
              "  })({\"config\": {\"view\": {\"continuousWidth\": 400, \"continuousHeight\": 300}}, \"layer\": [{\"mark\": \"bar\", \"encoding\": {\"x\": {\"type\": \"ordinal\", \"field\": \"MIME Type\"}, \"y\": {\"type\": \"quantitative\", \"field\": \"Count\"}}}, {\"mark\": {\"type\": \"rule\", \"color\": \"red\"}, \"encoding\": {\"y\": {\"type\": \"quantitative\", \"aggregate\": \"mean\", \"field\": \"Count\"}}}, {\"mark\": {\"type\": \"text\", \"align\": \"center\", \"baseline\": \"bottom\"}, \"encoding\": {\"text\": {\"type\": \"quantitative\", \"field\": \"Count\"}, \"x\": {\"type\": \"ordinal\", \"field\": \"MIME Type\"}, \"y\": {\"type\": \"quantitative\", \"field\": \"Count\"}}}], \"data\": {\"name\": \"data-4891539b74d323476db75ccdff3c9412\"}, \"height\": 700, \"title\": \"Images MIME Type Distribution\", \"width\": 1400, \"$schema\": \"https://vega.github.io/schema/vega-lite/v4.8.1.json\", \"datasets\": {\"data-4891539b74d323476db75ccdff3c9412\": [{\"MIME Type\": \"image/jpeg\", \"Count\": 107550}, {\"MIME Type\": \"image/gif\", \"Count\": 39392}, {\"MIME Type\": \"image/png\", \"Count\": 9076}, {\"MIME Type\": \"image/vnd.microsoft.icon\", \"Count\": 105}, {\"MIME Type\": \"image/svg+xml\", \"Count\": 38}]}}, {\"mode\": \"vega-lite\"});\n",
              "</script>"
            ]
          },
          "metadata": {
            "tags": []
          },
          "execution_count": 17
        }
      ]
    },
    {
      "cell_type": "markdown",
      "metadata": {
        "id": "QGHnjGRQPzqV"
      },
      "source": [
        "#### How about the distribution of the top 10 domains?\n",
        "\n",
        "Here we can see which domains are the most frequent within the web archive."
      ]
    },
    {
      "cell_type": "code",
      "metadata": {
        "colab": {
          "base_uri": "https://localhost:8080/",
          "height": 934
        },
        "id": "C_X_YSD4PyQi",
        "outputId": "7cee0761-d2b4-4401-af70-c88bdfeefcef"
      },
      "source": [
        "top_domains = domains.sort_values('count', ascending=False).head(10)\n",
        "\n",
        "top_domains_bar = alt.Chart(top_domains).mark_bar().encode(\n",
        "    x=alt.X('url:O', title='Domain'),\n",
        "    y=alt.Y('count:Q', title='Count, Mean of Count')\n",
        ")\n",
        "\n",
        "top_domains_rule = alt.Chart(top_domains).mark_rule(color='red').encode(\n",
        "    y='mean(count):Q'\n",
        ")\n",
        "\n",
        "top_domains_text = top_domains_bar.mark_text(\n",
        "    align='center',\n",
        "    baseline='bottom'\n",
        ").encode(\n",
        "    text='count:Q'\n",
        ")\n",
        "\n",
        "(top_domains_bar + top_domains_rule + top_domains_text).properties(width=1400, height=700, title='Domains Distribution')"
      ],
      "execution_count": 18,
      "outputs": [
        {
          "output_type": "execute_result",
          "data": {
            "text/plain": [
              "alt.LayerChart(...)"
            ],
            "text/html": [
              "\n",
              "<div id=\"altair-viz-df1a062858dd42f998fe361f80259edb\"></div>\n",
              "<script type=\"text/javascript\">\n",
              "  (function(spec, embedOpt){\n",
              "    let outputDiv = document.currentScript.previousElementSibling;\n",
              "    if (outputDiv.id !== \"altair-viz-df1a062858dd42f998fe361f80259edb\") {\n",
              "      outputDiv = document.getElementById(\"altair-viz-df1a062858dd42f998fe361f80259edb\");\n",
              "    }\n",
              "    const paths = {\n",
              "      \"vega\": \"https://cdn.jsdelivr.net/npm//vega@5?noext\",\n",
              "      \"vega-lib\": \"https://cdn.jsdelivr.net/npm//vega-lib?noext\",\n",
              "      \"vega-lite\": \"https://cdn.jsdelivr.net/npm//vega-lite@4.8.1?noext\",\n",
              "      \"vega-embed\": \"https://cdn.jsdelivr.net/npm//vega-embed@6?noext\",\n",
              "    };\n",
              "\n",
              "    function loadScript(lib) {\n",
              "      return new Promise(function(resolve, reject) {\n",
              "        var s = document.createElement('script');\n",
              "        s.src = paths[lib];\n",
              "        s.async = true;\n",
              "        s.onload = () => resolve(paths[lib]);\n",
              "        s.onerror = () => reject(`Error loading script: ${paths[lib]}`);\n",
              "        document.getElementsByTagName(\"head\")[0].appendChild(s);\n",
              "      });\n",
              "    }\n",
              "\n",
              "    function showError(err) {\n",
              "      outputDiv.innerHTML = `<div class=\"error\" style=\"color:red;\">${err}</div>`;\n",
              "      throw err;\n",
              "    }\n",
              "\n",
              "    function displayChart(vegaEmbed) {\n",
              "      vegaEmbed(outputDiv, spec, embedOpt)\n",
              "        .catch(err => showError(`Javascript Error: ${err.message}<br>This usually means there's a typo in your chart specification. See the javascript console for the full traceback.`));\n",
              "    }\n",
              "\n",
              "    if(typeof define === \"function\" && define.amd) {\n",
              "      requirejs.config({paths});\n",
              "      require([\"vega-embed\"], displayChart, err => showError(`Error loading script: ${err.message}`));\n",
              "    } else if (typeof vegaEmbed === \"function\") {\n",
              "      displayChart(vegaEmbed);\n",
              "    } else {\n",
              "      loadScript(\"vega\")\n",
              "        .then(() => loadScript(\"vega-lite\"))\n",
              "        .then(() => loadScript(\"vega-embed\"))\n",
              "        .catch(showError)\n",
              "        .then(() => displayChart(vegaEmbed));\n",
              "    }\n",
              "  })({\"config\": {\"view\": {\"continuousWidth\": 400, \"continuousHeight\": 300}}, \"layer\": [{\"mark\": \"bar\", \"encoding\": {\"x\": {\"type\": \"ordinal\", \"field\": \"url\", \"title\": \"Domain\"}, \"y\": {\"type\": \"quantitative\", \"field\": \"count\", \"title\": \"Count, Mean of Count\"}}}, {\"mark\": {\"type\": \"rule\", \"color\": \"red\"}, \"encoding\": {\"y\": {\"type\": \"quantitative\", \"aggregate\": \"mean\", \"field\": \"count\"}}}, {\"mark\": {\"type\": \"text\", \"align\": \"center\", \"baseline\": \"bottom\"}, \"encoding\": {\"text\": {\"type\": \"quantitative\", \"field\": \"count\"}, \"x\": {\"type\": \"ordinal\", \"field\": \"url\", \"title\": \"Domain\"}, \"y\": {\"type\": \"quantitative\", \"field\": \"count\", \"title\": \"Count, Mean of Count\"}}}], \"data\": {\"name\": \"data-183742ae6404317825e70f5eadaa9dc6\"}, \"height\": 700, \"title\": \"Domains Distribution\", \"width\": 1400, \"$schema\": \"https://vega.github.io/schema/vega-lite/v4.8.1.json\", \"datasets\": {\"data-183742ae6404317825e70f5eadaa9dc6\": [{\"url\": \"www.mddefp.gouv.qc.ca\", \"count\": 108409}, {\"url\": \"www.mddep.gouv.qc.ca\", \"count\": 99854}, {\"url\": \"www.mddelcc.gouv.qc.ca\", \"count\": 83594}, {\"url\": \"mddep.gouv.qc.ca\", \"count\": 47392}, {\"url\": \"mddefp.gouv.qc.ca\", \"count\": 39783}, {\"url\": \"www.deficlimat.qc.ca\", \"count\": 6932}, {\"url\": \"www.cehq.gouv.qc.ca\", \"count\": 5774}, {\"url\": \"www.environnement.gouv.qc.ca\", \"count\": 3753}, {\"url\": \"deficlimat.qc.ca\", \"count\": 2388}, {\"url\": \"www.racj.gouv.qc.ca\", \"count\": 1574}]}}, {\"mode\": \"vega-lite\"});\n",
              "</script>"
            ]
          },
          "metadata": {
            "tags": []
          },
          "execution_count": 18
        }
      ]
    },
    {
      "cell_type": "markdown",
      "metadata": {
        "id": "VDXDhqCcyyFj"
      },
      "source": [
        "### Top Level Domain Analysis\n",
        "Now let's create a new column, `tld`, which is based off an existing column, 'Domain'. This example should give you an idea of how you can expand these datasets to do further research and analysis. \n",
        "\n",
        "A [top-level domain](https://en.wikipedia.org/wiki/Top-level_domain) refers to the highest domain in an address - i.e. `.ca`, `.com`, `.org`, or yes, even `.pizza`.\n",
        "\n",
        "Things get a bit complicated, however, in some national TLDs. While `qc.ca` (the domain for Quebec) isn't really a top-level domain, it has many of the features of one as people can directly register under it. Below, we'll use the command `suffix` to include this. \n",
        "\n",
        "> You can learn more about suffixes at https://publicsuffix.org.\n",
        "\n",
        "We'll take the `Domain` column and extract the `tld` from it with [`tldextract`](https://github.com/john-kurkowski/tldextract).\n",
        "\n",
        "First we'll add the [`tldextract`](https://github.com/john-kurkowski/tldextract) library to the notebook. Then, we'll create the new column."
      ]
    },
    {
      "cell_type": "code",
      "metadata": {
        "id": "clPJuQAe5mcg"
      },
      "source": [
        "%%capture\n",
        "\n",
        "!pip install tldextract"
      ],
      "execution_count": 19,
      "outputs": []
    },
    {
      "cell_type": "code",
      "metadata": {
        "colab": {
          "base_uri": "https://localhost:8080/",
          "height": 637
        },
        "id": "mv7a-MLIx-3f",
        "outputId": "761d498c-158c-44d0-a1f0-e63c75d594e9"
      },
      "source": [
        "import tldextract\n",
        "\n",
        "domains['tld'] = domains.apply(lambda row: tldextract.extract(row.url).suffix, axis=1)\n",
        "domains"
      ],
      "execution_count": 20,
      "outputs": [
        {
          "output_type": "execute_result",
          "data": {
            "application/vnd.google.colaboratory.module+javascript": "\n      import \"https://ssl.gstatic.com/colaboratory/data_table/a6224c040fa35dcf/data_table.js\";\n\n      window.createDataTable({\n        data: [[{\n            'v': 0,\n            'f': \"0\",\n        },\n\"www.mddefp.gouv.qc.ca\",\n{\n            'v': 108409,\n            'f': \"108409\",\n        },\n\"qc.ca\"],\n [{\n            'v': 1,\n            'f': \"1\",\n        },\n\"www.mddep.gouv.qc.ca\",\n{\n            'v': 99854,\n            'f': \"99854\",\n        },\n\"qc.ca\"],\n [{\n            'v': 2,\n            'f': \"2\",\n        },\n\"www.mddelcc.gouv.qc.ca\",\n{\n            'v': 83594,\n            'f': \"83594\",\n        },\n\"qc.ca\"],\n [{\n            'v': 3,\n            'f': \"3\",\n        },\n\"mddep.gouv.qc.ca\",\n{\n            'v': 47392,\n            'f': \"47392\",\n        },\n\"qc.ca\"],\n [{\n            'v': 4,\n            'f': \"4\",\n        },\n\"mddefp.gouv.qc.ca\",\n{\n            'v': 39783,\n            'f': \"39783\",\n        },\n\"qc.ca\"],\n [{\n            'v': 5,\n            'f': \"5\",\n        },\n\"www.deficlimat.qc.ca\",\n{\n            'v': 6932,\n            'f': \"6932\",\n        },\n\"qc.ca\"],\n [{\n            'v': 6,\n            'f': \"6\",\n        },\n\"www.cehq.gouv.qc.ca\",\n{\n            'v': 5774,\n            'f': \"5774\",\n        },\n\"qc.ca\"],\n [{\n            'v': 7,\n            'f': \"7\",\n        },\n\"www.environnement.gouv.qc.ca\",\n{\n            'v': 3753,\n            'f': \"3753\",\n        },\n\"qc.ca\"],\n [{\n            'v': 8,\n            'f': \"8\",\n        },\n\"deficlimat.qc.ca\",\n{\n            'v': 2388,\n            'f': \"2388\",\n        },\n\"qc.ca\"],\n [{\n            'v': 9,\n            'f': \"9\",\n        },\n\"www.racj.gouv.qc.ca\",\n{\n            'v': 1574,\n            'f': \"1574\",\n        },\n\"qc.ca\"],\n [{\n            'v': 10,\n            'f': \"10\",\n        },\n\"www.faisonslepoureux.gouv.qc.ca\",\n{\n            'v': 1105,\n            'f': \"1105\",\n        },\n\"qc.ca\"],\n [{\n            'v': 11,\n            'f': \"11\",\n        },\n\"www.youtube.com\",\n{\n            'v': 1089,\n            'f': \"1089\",\n        },\n\"com\"],\n [{\n            'v': 12,\n            'f': \"12\",\n        },\n\"www.iqa.mddefp.gouv.qc.ca\",\n{\n            'v': 455,\n            'f': \"455\",\n        },\n\"qc.ca\"],\n [{\n            'v': 13,\n            'f': \"13\",\n        },\n\"www.cqlc.gouv.qc.ca\",\n{\n            'v': 455,\n            'f': \"455\",\n        },\n\"qc.ca\"],\n [{\n            'v': 14,\n            'f': \"14\",\n        },\n\"ees-gazdeschiste.gouv.qc.ca\",\n{\n            'v': 220,\n            'f': \"220\",\n        },\n\"qc.ca\"],\n [{\n            'v': 15,\n            'f': \"15\",\n        },\n\"www.ceaeq.gouv.qc.ca\",\n{\n            'v': 152,\n            'f': \"152\",\n        },\n\"qc.ca\"],\n [{\n            'v': 16,\n            'f': \"16\",\n        },\n\"www.coroner.gouv.qc.ca\",\n{\n            'v': 148,\n            'f': \"148\",\n        },\n\"qc.ca\"],\n [{\n            'v': 17,\n            'f': \"17\",\n        },\n\"publications.gc.ca\",\n{\n            'v': 143,\n            'f': \"143\",\n        },\n\"gc.ca\"],\n [{\n            'v': 18,\n            'f': \"18\",\n        },\n\"www.letsdoitforthem.gouv.qc.ca\",\n{\n            'v': 139,\n            'f': \"139\",\n        },\n\"qc.ca\"],\n [{\n            'v': 19,\n            'f': \"19\",\n        },\n\"www.rageduratonlaveur.gouv.qc.ca\",\n{\n            'v': 133,\n            'f': \"133\",\n        },\n\"qc.ca\"],\n [{\n            'v': 20,\n            'f': \"20\",\n        },\n\"cdpnq.gouv.qc.ca\",\n{\n            'v': 128,\n            'f': \"128\",\n        },\n\"qc.ca\"],\n [{\n            'v': 21,\n            'f': \"21\",\n        },\n\"www.cdpnq.gouv.qc.ca\",\n{\n            'v': 127,\n            'f': \"127\",\n        },\n\"qc.ca\"],\n [{\n            'v': 22,\n            'f': \"22\",\n        },\n\"www.registres.mddep.gouv.qc.ca\",\n{\n            'v': 92,\n            'f': \"92\",\n        },\n\"qc.ca\"],\n [{\n            'v': 23,\n            'f': \"23\",\n        },\n\"www.fetedelapeche.gouv.qc.ca\",\n{\n            'v': 82,\n            'f': \"82\",\n        },\n\"qc.ca\"],\n [{\n            'v': 24,\n            'f': \"24\",\n        },\n\"rageduratonlaveur.gouv.qc.ca\",\n{\n            'v': 82,\n            'f': \"82\",\n        },\n\"qc.ca\"],\n [{\n            'v': 25,\n            'f': \"25\",\n        },\n\"www.registres.mddefp.gouv.qc.ca\",\n{\n            'v': 67,\n            'f': \"67\",\n        },\n\"qc.ca\"],\n [{\n            'v': 26,\n            'f': \"26\",\n        },\n\"www.iqa.mddep.gouv.qc.ca\",\n{\n            'v': 61,\n            'f': \"61\",\n        },\n\"qc.ca\"],\n [{\n            'v': 27,\n            'f': \"27\",\n        },\n\"www.vehiculeselectriques.gouv.qc.ca\",\n{\n            'v': 60,\n            'f': \"60\",\n        },\n\"qc.ca\"],\n [{\n            'v': 28,\n            'f': \"28\",\n        },\n\"www.ville.quebec.qc.ca\",\n{\n            'v': 58,\n            'f': \"58\",\n        },\n\"qc.ca\"],\n [{\n            'v': 29,\n            'f': \"29\",\n        },\n\"vehiculeselectriques.gouv.qc.ca\",\n{\n            'v': 55,\n            'f': \"55\",\n        },\n\"qc.ca\"],\n [{\n            'v': 30,\n            'f': \"30\",\n        },\n\"www.nosplansdeau.com\",\n{\n            'v': 45,\n            'f': \"45\",\n        },\n\"com\"],\n [{\n            'v': 31,\n            'f': \"31\",\n        },\n\"nosplansdeau.com\",\n{\n            'v': 33,\n            'f': \"33\",\n        },\n\"com\"],\n [{\n            'v': 32,\n            'f': \"32\",\n        },\n\"www.ramq.gouv.qc.ca\",\n{\n            'v': 25,\n            'f': \"25\",\n        },\n\"qc.ca\"],\n [{\n            'v': 33,\n            'f': \"33\",\n        },\n\"www.hc-sc.gc.ca\",\n{\n            'v': 25,\n            'f': \"25\",\n        },\n\"gc.ca\"],\n [{\n            'v': 34,\n            'f': \"34\",\n        },\n\"www.glf.dfo-mpo.gc.ca\",\n{\n            'v': 16,\n            'f': \"16\",\n        },\n\"gc.ca\"],\n [{\n            'v': 35,\n            'f': \"35\",\n        },\n\"www.protegerlenord.mddep.gouv.qc.ca\",\n{\n            'v': 13,\n            'f': \"13\",\n        },\n\"qc.ca\"],\n [{\n            'v': 36,\n            'f': \"36\",\n        },\n\"www.usherbrooke.ca\",\n{\n            'v': 12,\n            'f': \"12\",\n        },\n\"ca\"],\n [{\n            'v': 37,\n            'f': \"37\",\n        },\n\"www.protegeonsleau.gouv.qc.ca\",\n{\n            'v': 12,\n            'f': \"12\",\n        },\n\"qc.ca\"],\n [{\n            'v': 38,\n            'f': \"38\",\n        },\n\"www.deontologie-policiere.gouv.qc.ca\",\n{\n            'v': 8,\n            'f': \"8\",\n        },\n\"qc.ca\"],\n [{\n            'v': 39,\n            'f': \"39\",\n        },\n\"protegeonsleau.gouv.qc.ca\",\n{\n            'v': 8,\n            'f': \"8\",\n        },\n\"qc.ca\"],\n [{\n            'v': 40,\n            'f': \"40\",\n        },\n\"www.facebook.com\",\n{\n            'v': 6,\n            'f': \"6\",\n        },\n\"com\"],\n [{\n            'v': 41,\n            'f': \"41\",\n        },\n\"fetedelapeche.gouv.qc.ca\",\n{\n            'v': 6,\n            'f': \"6\",\n        },\n\"qc.ca\"],\n [{\n            'v': 42,\n            'f': \"42\",\n        },\n\"maps.google.ca\",\n{\n            'v': 5,\n            'f': \"5\",\n        },\n\"ca\"],\n [{\n            'v': 43,\n            'f': \"43\",\n        },\n\"www.sih.mddep.gouv.qc.ca\",\n{\n            'v': 5,\n            'f': \"5\",\n        },\n\"qc.ca\"],\n [{\n            'v': 44,\n            'f': \"44\",\n        },\n\"youtube.com\",\n{\n            'v': 4,\n            'f': \"4\",\n        },\n\"com\"],\n [{\n            'v': 45,\n            'f': \"45\",\n        },\n\"tags.iminr.com\",\n{\n            'v': 4,\n            'f': \"4\",\n        },\n\"com\"],\n [{\n            'v': 46,\n            'f': \"46\",\n        },\n\"maps.google.com\",\n{\n            'v': 3,\n            'f': \"3\",\n        },\n\"com\"],\n [{\n            'v': 47,\n            'f': \"47\",\n        },\n\"www.google.com\",\n{\n            'v': 3,\n            'f': \"3\",\n        },\n\"com\"],\n [{\n            'v': 48,\n            'f': \"48\",\n        },\n\"www.pmprovincesterritoires.ca\",\n{\n            'v': 3,\n            'f': \"3\",\n        },\n\"ca\"],\n [{\n            'v': 49,\n            'f': \"49\",\n        },\n\"www.apple.com\",\n{\n            'v': 3,\n            'f': \"3\",\n        },\n\"com\"],\n [{\n            'v': 50,\n            'f': \"50\",\n        },\n\"www.quebec.ca\",\n{\n            'v': 2,\n            'f': \"2\",\n        },\n\"ca\"],\n [{\n            'v': 51,\n            'f': \"51\",\n        },\n\"events.pqm.net\",\n{\n            'v': 2,\n            'f': \"2\",\n        },\n\"net\"],\n [{\n            'v': 52,\n            'f': \"52\",\n        },\n\"www.pieval.mddep.gouv.qc.ca\",\n{\n            'v': 2,\n            'f': \"2\",\n        },\n\"qc.ca\"],\n [{\n            'v': 53,\n            'f': \"53\",\n        },\n\"www.stat.gouv.qc.ca\",\n{\n            'v': 2,\n            'f': \"2\",\n        },\n\"qc.ca\"],\n [{\n            'v': 54,\n            'f': \"54\",\n        },\n\"liverpool.metapress.com\",\n{\n            'v': 2,\n            'f': \"2\",\n        },\n\"com\"],\n [{\n            'v': 55,\n            'f': \"55\",\n        },\n\"deontologie-policiere.gouv.qc.ca\",\n{\n            'v': 2,\n            'f': \"2\",\n        },\n\"qc.ca\"],\n [{\n            'v': 56,\n            'f': \"56\",\n        },\n\"www.addthis.com\",\n{\n            'v': 1,\n            'f': \"1\",\n        },\n\"com\"],\n [{\n            'v': 57,\n            'f': \"57\",\n        },\n\"www.rechargeonslaplanete.com\",\n{\n            'v': 1,\n            'f': \"1\",\n        },\n\"com\"],\n [{\n            'v': 58,\n            'f': \"58\",\n        },\n\"static.addinto.com\",\n{\n            'v': 1,\n            'f': \"1\",\n        },\n\"com\"],\n [{\n            'v': 59,\n            'f': \"59\",\n        },\n\"code.google.com\",\n{\n            'v': 1,\n            'f': \"1\",\n        },\n\"com\"],\n [{\n            'v': 60,\n            'f': \"60\",\n        },\n\"www.senv.mddep.gouv.qc.ca\",\n{\n            'v': 1,\n            'f': \"1\",\n        },\n\"qc.ca\"],\n [{\n            'v': 61,\n            'f': \"61\",\n        },\n\"swdlp.apple.com\",\n{\n            'v': 1,\n            'f': \"1\",\n        },\n\"com\"],\n [{\n            'v': 62,\n            'f': \"62\",\n        },\n\"www.google.ca\",\n{\n            'v': 1,\n            'f': \"1\",\n        },\n\"ca\"],\n [{\n            'v': 63,\n            'f': \"63\",\n        },\n\"get.adobe.com\",\n{\n            'v': 1,\n            'f': \"1\",\n        },\n\"com\"],\n [{\n            'v': 64,\n            'f': \"64\",\n        },\n\"www.paiement.mddep.gouv.qc.ca\",\n{\n            'v': 1,\n            'f': \"1\",\n        },\n\"qc.ca\"],\n [{\n            'v': 65,\n            'f': \"65\",\n        },\n\"support.pqm.net\",\n{\n            'v': 1,\n            'f': \"1\",\n        },\n\"net\"],\n [{\n            'v': 66,\n            'f': \"66\",\n        },\n\"www.addinto.com\",\n{\n            'v': 1,\n            'f': \"1\",\n        },\n\"com\"],\n [{\n            'v': 67,\n            'f': \"67\",\n        },\n\"feeds.iucnredlist.org\",\n{\n            'v': 1,\n            'f': \"1\",\n        },\n\"org\"],\n [{\n            'v': 68,\n            'f': \"68\",\n        },\n\"www.cbcq.gouv.qc.ca\",\n{\n            'v': 1,\n            'f': \"1\",\n        },\n\"qc.ca\"],\n [{\n            'v': 69,\n            'f': \"69\",\n        },\n\"www.undp.org\",\n{\n            'v': 1,\n            'f': \"1\",\n        },\n\"org\"],\n [{\n            'v': 70,\n            'f': \"70\",\n        },\n\"l.addthiscdn.com\",\n{\n            'v': 1,\n            'f': \"1\",\n        },\n\"com\"],\n [{\n            'v': 71,\n            'f': \"71\",\n        },\n\"fls.doubleclick.net\",\n{\n            'v': 1,\n            'f': \"1\",\n        },\n\"net\"],\n [{\n            'v': 72,\n            'f': \"72\",\n        },\n\"twitter.com\",\n{\n            'v': 1,\n            'f': \"1\",\n        },\n\"com\"],\n [{\n            'v': 73,\n            'f': \"73\",\n        },\n\"search.microsoft.com\",\n{\n            'v': 1,\n            'f': \"1\",\n        },\n\"com\"],\n [{\n            'v': 74,\n            'f': \"74\",\n        },\n\"www.espacej.gouv.qc.ca\",\n{\n            'v': 1,\n            'f': \"1\",\n        },\n\"qc.ca\"],\n [{\n            'v': 75,\n            'f': \"75\",\n        },\n\"webcasts.pqm.net\",\n{\n            'v': 1,\n            'f': \"1\",\n        },\n\"net\"],\n [{\n            'v': 76,\n            'f': \"76\",\n        },\n\"www.mnba.qc.ca\",\n{\n            'v': 1,\n            'f': \"1\",\n        },\n\"qc.ca\"],\n [{\n            'v': 77,\n            'f': \"77\",\n        },\n\"www.cbd.int\",\n{\n            'v': 1,\n            'f': \"1\",\n        },\n\"int\"],\n [{\n            'v': 78,\n            'f': \"78\",\n        },\n\"s7.addthis.com\",\n{\n            'v': 1,\n            'f': \"1\",\n        },\n\"com\"],\n [{\n            'v': 79,\n            'f': \"79\",\n        },\n\"www.longtailvideo.com\",\n{\n            'v': 1,\n            'f': \"1\",\n        },\n\"com\"],\n [{\n            'v': 80,\n            'f': \"80\",\n        },\n\"www.pesticides.mddep.gouv.qc.ca\",\n{\n            'v': 1,\n            'f': \"1\",\n        },\n\"qc.ca\"]],\n        columns: [[\"number\", \"index\"], [\"string\", \"url\"], [\"number\", \"count\"], [\"string\", \"tld\"]],\n        columnOptions: [{\"width\": \"1px\", \"className\": \"index_column\"}],\n        rowsPerPage: 25,\n        helpUrl: \"https://colab.research.google.com/notebooks/data_table.ipynb\",\n        suppressOutputScrolling: true,\n        minimumWidth: undefined,\n      });\n    ",
            "text/html": [
              "<div>\n",
              "<style scoped>\n",
              "    .dataframe tbody tr th:only-of-type {\n",
              "        vertical-align: middle;\n",
              "    }\n",
              "\n",
              "    .dataframe tbody tr th {\n",
              "        vertical-align: top;\n",
              "    }\n",
              "\n",
              "    .dataframe thead th {\n",
              "        text-align: right;\n",
              "    }\n",
              "</style>\n",
              "<table border=\"1\" class=\"dataframe\">\n",
              "  <thead>\n",
              "    <tr style=\"text-align: right;\">\n",
              "      <th></th>\n",
              "      <th>url</th>\n",
              "      <th>count</th>\n",
              "      <th>tld</th>\n",
              "    </tr>\n",
              "  </thead>\n",
              "  <tbody>\n",
              "    <tr>\n",
              "      <th>0</th>\n",
              "      <td>www.mddefp.gouv.qc.ca</td>\n",
              "      <td>108409</td>\n",
              "      <td>qc.ca</td>\n",
              "    </tr>\n",
              "    <tr>\n",
              "      <th>1</th>\n",
              "      <td>www.mddep.gouv.qc.ca</td>\n",
              "      <td>99854</td>\n",
              "      <td>qc.ca</td>\n",
              "    </tr>\n",
              "    <tr>\n",
              "      <th>2</th>\n",
              "      <td>www.mddelcc.gouv.qc.ca</td>\n",
              "      <td>83594</td>\n",
              "      <td>qc.ca</td>\n",
              "    </tr>\n",
              "    <tr>\n",
              "      <th>3</th>\n",
              "      <td>mddep.gouv.qc.ca</td>\n",
              "      <td>47392</td>\n",
              "      <td>qc.ca</td>\n",
              "    </tr>\n",
              "    <tr>\n",
              "      <th>4</th>\n",
              "      <td>mddefp.gouv.qc.ca</td>\n",
              "      <td>39783</td>\n",
              "      <td>qc.ca</td>\n",
              "    </tr>\n",
              "    <tr>\n",
              "      <th>...</th>\n",
              "      <td>...</td>\n",
              "      <td>...</td>\n",
              "      <td>...</td>\n",
              "    </tr>\n",
              "    <tr>\n",
              "      <th>76</th>\n",
              "      <td>www.mnba.qc.ca</td>\n",
              "      <td>1</td>\n",
              "      <td>qc.ca</td>\n",
              "    </tr>\n",
              "    <tr>\n",
              "      <th>77</th>\n",
              "      <td>www.cbd.int</td>\n",
              "      <td>1</td>\n",
              "      <td>int</td>\n",
              "    </tr>\n",
              "    <tr>\n",
              "      <th>78</th>\n",
              "      <td>s7.addthis.com</td>\n",
              "      <td>1</td>\n",
              "      <td>com</td>\n",
              "    </tr>\n",
              "    <tr>\n",
              "      <th>79</th>\n",
              "      <td>www.longtailvideo.com</td>\n",
              "      <td>1</td>\n",
              "      <td>com</td>\n",
              "    </tr>\n",
              "    <tr>\n",
              "      <th>80</th>\n",
              "      <td>www.pesticides.mddep.gouv.qc.ca</td>\n",
              "      <td>1</td>\n",
              "      <td>qc.ca</td>\n",
              "    </tr>\n",
              "  </tbody>\n",
              "</table>\n",
              "<p>81 rows × 3 columns</p>\n",
              "</div>"
            ],
            "text/plain": [
              "                                url   count    tld\n",
              "0             www.mddefp.gouv.qc.ca  108409  qc.ca\n",
              "1              www.mddep.gouv.qc.ca   99854  qc.ca\n",
              "2            www.mddelcc.gouv.qc.ca   83594  qc.ca\n",
              "3                  mddep.gouv.qc.ca   47392  qc.ca\n",
              "4                 mddefp.gouv.qc.ca   39783  qc.ca\n",
              "..                              ...     ...    ...\n",
              "76                   www.mnba.qc.ca       1  qc.ca\n",
              "77                      www.cbd.int       1    int\n",
              "78                   s7.addthis.com       1    com\n",
              "79            www.longtailvideo.com       1    com\n",
              "80  www.pesticides.mddep.gouv.qc.ca       1  qc.ca\n",
              "\n",
              "[81 rows x 3 columns]"
            ]
          },
          "metadata": {
            "tags": []
          },
          "execution_count": 20
        }
      ]
    },
    {
      "cell_type": "markdown",
      "metadata": {
        "id": "jdXFS2yu8XYG"
      },
      "source": [
        "#### Next, let's count the distict TLDs.\n"
      ]
    },
    {
      "cell_type": "code",
      "metadata": {
        "colab": {
          "base_uri": "https://localhost:8080/"
        },
        "id": "1lViQIU48e-u",
        "outputId": "68fd98da-bfe6-4aa6-db29-e5144320f32e"
      },
      "source": [
        "tld_count = domains['tld'].value_counts()\n",
        "tld_count"
      ],
      "execution_count": 21,
      "outputs": [
        {
          "output_type": "execute_result",
          "data": {
            "text/plain": [
              "qc.ca    44\n",
              "com      22\n",
              "ca        5\n",
              "net       4\n",
              "gc.ca     3\n",
              "org       2\n",
              "int       1\n",
              "Name: tld, dtype: int64"
            ]
          },
          "metadata": {
            "tags": []
          },
          "execution_count": 21
        }
      ]
    },
    {
      "cell_type": "markdown",
      "metadata": {
        "id": "xm_V_0PGzZut"
      },
      "source": [
        "#### Next, we'll plot the TLD count.\n"
      ]
    },
    {
      "cell_type": "code",
      "metadata": {
        "colab": {
          "base_uri": "https://localhost:8080/",
          "height": 796
        },
        "id": "N8yNlOa-zmBD",
        "outputId": "e0ef784b-28cf-4758-efec-3f6b8e4b2331"
      },
      "source": [
        "tld_count = domains['tld'].value_counts().rename_axis('TLD').reset_index(name='Count')\n",
        "\n",
        "tld_bar = alt.Chart(tld_count).mark_bar().encode(\n",
        "    x='TLD:O',\n",
        "    y='Count:Q'\n",
        ")\n",
        "\n",
        "tld_rule = alt.Chart(tld_count).mark_rule(color='red').encode(\n",
        "    y='mean(Count):Q'\n",
        ")\n",
        "\n",
        "tld_text = tld_bar.mark_text(\n",
        "    align='center',\n",
        "    baseline='bottom'\n",
        ").encode(\n",
        "    text='Count:Q'\n",
        ")\n",
        "\n",
        "(tld_bar + tld_rule + tld_text).properties(width=1400, height=700, title='Top Level Domain Distribution')"
      ],
      "execution_count": 22,
      "outputs": [
        {
          "output_type": "execute_result",
          "data": {
            "text/plain": [
              "alt.LayerChart(...)"
            ],
            "text/html": [
              "\n",
              "<div id=\"altair-viz-def55aa0dda64586a1fd9a1da9cbeafd\"></div>\n",
              "<script type=\"text/javascript\">\n",
              "  (function(spec, embedOpt){\n",
              "    let outputDiv = document.currentScript.previousElementSibling;\n",
              "    if (outputDiv.id !== \"altair-viz-def55aa0dda64586a1fd9a1da9cbeafd\") {\n",
              "      outputDiv = document.getElementById(\"altair-viz-def55aa0dda64586a1fd9a1da9cbeafd\");\n",
              "    }\n",
              "    const paths = {\n",
              "      \"vega\": \"https://cdn.jsdelivr.net/npm//vega@5?noext\",\n",
              "      \"vega-lib\": \"https://cdn.jsdelivr.net/npm//vega-lib?noext\",\n",
              "      \"vega-lite\": \"https://cdn.jsdelivr.net/npm//vega-lite@4.8.1?noext\",\n",
              "      \"vega-embed\": \"https://cdn.jsdelivr.net/npm//vega-embed@6?noext\",\n",
              "    };\n",
              "\n",
              "    function loadScript(lib) {\n",
              "      return new Promise(function(resolve, reject) {\n",
              "        var s = document.createElement('script');\n",
              "        s.src = paths[lib];\n",
              "        s.async = true;\n",
              "        s.onload = () => resolve(paths[lib]);\n",
              "        s.onerror = () => reject(`Error loading script: ${paths[lib]}`);\n",
              "        document.getElementsByTagName(\"head\")[0].appendChild(s);\n",
              "      });\n",
              "    }\n",
              "\n",
              "    function showError(err) {\n",
              "      outputDiv.innerHTML = `<div class=\"error\" style=\"color:red;\">${err}</div>`;\n",
              "      throw err;\n",
              "    }\n",
              "\n",
              "    function displayChart(vegaEmbed) {\n",
              "      vegaEmbed(outputDiv, spec, embedOpt)\n",
              "        .catch(err => showError(`Javascript Error: ${err.message}<br>This usually means there's a typo in your chart specification. See the javascript console for the full traceback.`));\n",
              "    }\n",
              "\n",
              "    if(typeof define === \"function\" && define.amd) {\n",
              "      requirejs.config({paths});\n",
              "      require([\"vega-embed\"], displayChart, err => showError(`Error loading script: ${err.message}`));\n",
              "    } else if (typeof vegaEmbed === \"function\") {\n",
              "      displayChart(vegaEmbed);\n",
              "    } else {\n",
              "      loadScript(\"vega\")\n",
              "        .then(() => loadScript(\"vega-lite\"))\n",
              "        .then(() => loadScript(\"vega-embed\"))\n",
              "        .catch(showError)\n",
              "        .then(() => displayChart(vegaEmbed));\n",
              "    }\n",
              "  })({\"config\": {\"view\": {\"continuousWidth\": 400, \"continuousHeight\": 300}}, \"layer\": [{\"mark\": \"bar\", \"encoding\": {\"x\": {\"type\": \"ordinal\", \"field\": \"TLD\"}, \"y\": {\"type\": \"quantitative\", \"field\": \"Count\"}}}, {\"mark\": {\"type\": \"rule\", \"color\": \"red\"}, \"encoding\": {\"y\": {\"type\": \"quantitative\", \"aggregate\": \"mean\", \"field\": \"Count\"}}}, {\"mark\": {\"type\": \"text\", \"align\": \"center\", \"baseline\": \"bottom\"}, \"encoding\": {\"text\": {\"type\": \"quantitative\", \"field\": \"Count\"}, \"x\": {\"type\": \"ordinal\", \"field\": \"TLD\"}, \"y\": {\"type\": \"quantitative\", \"field\": \"Count\"}}}], \"data\": {\"name\": \"data-1d08ac52670965598ec85a263f1caef3\"}, \"height\": 700, \"title\": \"Top Level Domain Distribution\", \"width\": 1400, \"$schema\": \"https://vega.github.io/schema/vega-lite/v4.8.1.json\", \"datasets\": {\"data-1d08ac52670965598ec85a263f1caef3\": [{\"TLD\": \"qc.ca\", \"Count\": 44}, {\"TLD\": \"com\", \"Count\": 22}, {\"TLD\": \"ca\", \"Count\": 5}, {\"TLD\": \"net\", \"Count\": 4}, {\"TLD\": \"gc.ca\", \"Count\": 3}, {\"TLD\": \"org\", \"Count\": 2}, {\"TLD\": \"int\", \"Count\": 1}]}}, {\"mode\": \"vega-lite\"});\n",
              "</script>"
            ]
          },
          "metadata": {
            "tags": []
          },
          "execution_count": 22
        }
      ]
    },
    {
      "cell_type": "markdown",
      "metadata": {
        "id": "DWq4hkhoAXNm"
      },
      "source": [
        "## Examining the Web Graph"
      ]
    },
    {
      "cell_type": "markdown",
      "metadata": {
        "id": "tdCH8zAPAa2M"
      },
      "source": [
        "Remember the hyperlink web graph? Let's look at the web graph columns again.\n",
        "\n"
      ]
    },
    {
      "cell_type": "code",
      "metadata": {
        "colab": {
          "base_uri": "https://localhost:8080/",
          "height": 545
        },
        "id": "-MFkAOcLAWy5",
        "outputId": "52182e80-77f3-427d-b99d-c9ae4ac91705"
      },
      "source": [
        "webgraph"
      ],
      "execution_count": 23,
      "outputs": [
        {
          "output_type": "execute_result",
          "data": {
            "text/html": [
              "<div>\n",
              "<style scoped>\n",
              "    .dataframe tbody tr th:only-of-type {\n",
              "        vertical-align: middle;\n",
              "    }\n",
              "\n",
              "    .dataframe tbody tr th {\n",
              "        vertical-align: top;\n",
              "    }\n",
              "\n",
              "    .dataframe thead th {\n",
              "        text-align: right;\n",
              "    }\n",
              "</style>\n",
              "<table border=\"1\" class=\"dataframe\">\n",
              "  <thead>\n",
              "    <tr style=\"text-align: right;\">\n",
              "      <th></th>\n",
              "      <th>crawl_date</th>\n",
              "      <th>src</th>\n",
              "      <th>dest</th>\n",
              "      <th>anchor</th>\n",
              "    </tr>\n",
              "  </thead>\n",
              "  <tbody>\n",
              "    <tr>\n",
              "      <th>0</th>\n",
              "      <td>20121218</td>\n",
              "      <td>http://www.mddefp.gouv.qc.ca/infuseur/communique.asp?no=2301</td>\n",
              "      <td>http://www.mddefp.gouv.qc.ca/changements/carbone/reg-mod-reg-spede.pdf</td>\n",
              "      <td>modification r�glementaire</td>\n",
              "    </tr>\n",
              "    <tr>\n",
              "      <th>1</th>\n",
              "      <td>20121218</td>\n",
              "      <td>http://www.mddefp.gouv.qc.ca/infuseur/communique.asp?no=2301</td>\n",
              "      <td>http://recherched.gouv.qc.ca/internet/search.do?query=&amp;searchIn=menv&amp;charSet=ISO-8859-1&amp;includesDir=http://www.mddefp.gouv.qc.ca/recherche/&amp;includesExt=asp&amp;displayLang=fr&amp;searchLang=fr&amp;source=IQA&amp;hitsPerPage=10&amp;leftMenu=false&amp;template=default&amp;pageWidth=760px&amp;horizontalAlign=center&amp;headerHeight=140px&amp;bottomHeight=60px&amp;leftMenuWidth=0px &amp;dev=true</td>\n",
              "      <td>Recherche</td>\n",
              "    </tr>\n",
              "    <tr>\n",
              "      <th>2</th>\n",
              "      <td>20121218</td>\n",
              "      <td>http://www.mddefp.gouv.qc.ca/infuseur/communique.asp?no=2301</td>\n",
              "      <td>http://www.gouv.qc.ca/</td>\n",
              "      <td></td>\n",
              "    </tr>\n",
              "    <tr>\n",
              "      <th>3</th>\n",
              "      <td>20121218</td>\n",
              "      <td>http://www.mddefp.gouv.qc.ca/infuseur/communique.asp?no=2301</td>\n",
              "      <td>http://www.droitauteur.gouv.qc.ca/copyright.php</td>\n",
              "      <td>� Gouvernement du Qu�bec, 2002</td>\n",
              "    </tr>\n",
              "    <tr>\n",
              "      <th>4</th>\n",
              "      <td>20121218</td>\n",
              "      <td>http://www.vehiculeselectriques.gouv.qc.ca/english/nous-joindre.asp</td>\n",
              "      <td>http://www.gouv.qc.ca/portail/quebec/pgs/commun/?lang=fr</td>\n",
              "      <td>Québec Portal</td>\n",
              "    </tr>\n",
              "    <tr>\n",
              "      <th>...</th>\n",
              "      <td>...</td>\n",
              "      <td>...</td>\n",
              "      <td>...</td>\n",
              "      <td>...</td>\n",
              "    </tr>\n",
              "    <tr>\n",
              "      <th>1439507</th>\n",
              "      <td>20121219</td>\n",
              "      <td>http://www.mddep.gouv.qc.ca/eau/guide/resultat.asp?site=090380001&amp;methode=c</td>\n",
              "      <td>http://www.gouv.qc.ca/</td>\n",
              "      <td></td>\n",
              "    </tr>\n",
              "    <tr>\n",
              "      <th>1439508</th>\n",
              "      <td>20121219</td>\n",
              "      <td>http://www.mddep.gouv.qc.ca/eau/guide/resultat.asp?site=090380001&amp;methode=c</td>\n",
              "      <td>http://www.droitauteur.gouv.qc.ca/copyright.php</td>\n",
              "      <td>� Gouvernement du Qu�bec, 2002</td>\n",
              "    </tr>\n",
              "    <tr>\n",
              "      <th>1439509</th>\n",
              "      <td>20121219</td>\n",
              "      <td>http://www.mddep.gouv.qc.ca/eau/guide/resultat.asp?site=090500006</td>\n",
              "      <td>http://recherched.gouv.qc.ca/internet/search.do?query=&amp;searchIn=menv&amp;charSet=ISO-8859-1&amp;includesDir=http://www.mddefp.gouv.qc.ca/recherche/&amp;includesExt=asp&amp;displayLang=fr&amp;searchLang=fr&amp;source=IQA&amp;hitsPerPage=10&amp;leftMenu=false&amp;template=default&amp;pageWidth=760px&amp;horizontalAlign=center&amp;headerHeight=140px&amp;bottomHeight=60px&amp;leftMenuWidth=0px &amp;dev=true</td>\n",
              "      <td>Recherche</td>\n",
              "    </tr>\n",
              "    <tr>\n",
              "      <th>1439510</th>\n",
              "      <td>20121219</td>\n",
              "      <td>http://www.mddep.gouv.qc.ca/eau/guide/resultat.asp?site=090500006</td>\n",
              "      <td>http://www.gouv.qc.ca/</td>\n",
              "      <td></td>\n",
              "    </tr>\n",
              "    <tr>\n",
              "      <th>1439511</th>\n",
              "      <td>20121219</td>\n",
              "      <td>http://www.mddep.gouv.qc.ca/eau/guide/resultat.asp?site=090500006</td>\n",
              "      <td>http://www.droitauteur.gouv.qc.ca/copyright.php</td>\n",
              "      <td>� Gouvernement du Qu�bec, 2002</td>\n",
              "    </tr>\n",
              "  </tbody>\n",
              "</table>\n",
              "<p>1439512 rows × 4 columns</p>\n",
              "</div>"
            ],
            "text/plain": [
              "        crawl_date  ...                          anchor\n",
              "0         20121218  ...      modification r�glementaire\n",
              "1         20121218  ...                       Recherche\n",
              "2         20121218  ...                                \n",
              "3         20121218  ...  � Gouvernement du Qu�bec, 2002\n",
              "4         20121218  ...                   Québec Portal\n",
              "...            ...  ...                             ...\n",
              "1439507   20121219  ...                                \n",
              "1439508   20121219  ...  � Gouvernement du Qu�bec, 2002\n",
              "1439509   20121219  ...                       Recherche\n",
              "1439510   20121219  ...                                \n",
              "1439511   20121219  ...  � Gouvernement du Qu�bec, 2002\n",
              "\n",
              "[1439512 rows x 4 columns]"
            ]
          },
          "metadata": {
            "tags": []
          },
          "execution_count": 23
        }
      ]
    },
    {
      "cell_type": "markdown",
      "metadata": {
        "id": "BFaebkzWAp-R"
      },
      "source": [
        "### What are the most frequent crawl dates?\n"
      ]
    },
    {
      "cell_type": "code",
      "metadata": {
        "colab": {
          "base_uri": "https://localhost:8080/",
          "height": 825
        },
        "id": "kJNT3vqkAxqj",
        "outputId": "8bc4f8e4-dc33-4ee4-f06e-47ef35cef743"
      },
      "source": [
        "crawl_dates = webgraph['crawl_date'].value_counts().rename_axis('Crawl Dates').reset_index(name='Count')\n",
        "\n",
        "area = alt.Chart(crawl_dates).mark_area(\n",
        "    color=\"lightgreen\",\n",
        "    line=True\n",
        ").encode(\n",
        "    x='Crawl Dates:O',\n",
        "    y='Count:Q',\n",
        ")\n",
        "\n",
        "count_mean = alt.Chart(crawl_dates).mark_rule(color='red').encode(\n",
        "    y='mean(Count):Q'\n",
        ")\n",
        "\n",
        "(area + count_mean).properties(width=1400, height=700, title='Crawl Date Frequency')\n"
      ],
      "execution_count": 24,
      "outputs": [
        {
          "output_type": "execute_result",
          "data": {
            "text/plain": [
              "alt.LayerChart(...)"
            ],
            "text/html": [
              "\n",
              "<div id=\"altair-viz-06ab980a671e46a8bb70ff8e539be1d2\"></div>\n",
              "<script type=\"text/javascript\">\n",
              "  (function(spec, embedOpt){\n",
              "    let outputDiv = document.currentScript.previousElementSibling;\n",
              "    if (outputDiv.id !== \"altair-viz-06ab980a671e46a8bb70ff8e539be1d2\") {\n",
              "      outputDiv = document.getElementById(\"altair-viz-06ab980a671e46a8bb70ff8e539be1d2\");\n",
              "    }\n",
              "    const paths = {\n",
              "      \"vega\": \"https://cdn.jsdelivr.net/npm//vega@5?noext\",\n",
              "      \"vega-lib\": \"https://cdn.jsdelivr.net/npm//vega-lib?noext\",\n",
              "      \"vega-lite\": \"https://cdn.jsdelivr.net/npm//vega-lite@4.8.1?noext\",\n",
              "      \"vega-embed\": \"https://cdn.jsdelivr.net/npm//vega-embed@6?noext\",\n",
              "    };\n",
              "\n",
              "    function loadScript(lib) {\n",
              "      return new Promise(function(resolve, reject) {\n",
              "        var s = document.createElement('script');\n",
              "        s.src = paths[lib];\n",
              "        s.async = true;\n",
              "        s.onload = () => resolve(paths[lib]);\n",
              "        s.onerror = () => reject(`Error loading script: ${paths[lib]}`);\n",
              "        document.getElementsByTagName(\"head\")[0].appendChild(s);\n",
              "      });\n",
              "    }\n",
              "\n",
              "    function showError(err) {\n",
              "      outputDiv.innerHTML = `<div class=\"error\" style=\"color:red;\">${err}</div>`;\n",
              "      throw err;\n",
              "    }\n",
              "\n",
              "    function displayChart(vegaEmbed) {\n",
              "      vegaEmbed(outputDiv, spec, embedOpt)\n",
              "        .catch(err => showError(`Javascript Error: ${err.message}<br>This usually means there's a typo in your chart specification. See the javascript console for the full traceback.`));\n",
              "    }\n",
              "\n",
              "    if(typeof define === \"function\" && define.amd) {\n",
              "      requirejs.config({paths});\n",
              "      require([\"vega-embed\"], displayChart, err => showError(`Error loading script: ${err.message}`));\n",
              "    } else if (typeof vegaEmbed === \"function\") {\n",
              "      displayChart(vegaEmbed);\n",
              "    } else {\n",
              "      loadScript(\"vega\")\n",
              "        .then(() => loadScript(\"vega-lite\"))\n",
              "        .then(() => loadScript(\"vega-embed\"))\n",
              "        .catch(showError)\n",
              "        .then(() => displayChart(vegaEmbed));\n",
              "    }\n",
              "  })({\"config\": {\"view\": {\"continuousWidth\": 400, \"continuousHeight\": 300}}, \"layer\": [{\"mark\": {\"type\": \"area\", \"color\": \"lightgreen\", \"line\": true}, \"encoding\": {\"x\": {\"type\": \"ordinal\", \"field\": \"Crawl Dates\"}, \"y\": {\"type\": \"quantitative\", \"field\": \"Count\"}}}, {\"mark\": {\"type\": \"rule\", \"color\": \"red\"}, \"encoding\": {\"y\": {\"type\": \"quantitative\", \"aggregate\": \"mean\", \"field\": \"Count\"}}}], \"data\": {\"name\": \"data-489af3e4abc06923bd369e9a3f859c1d\"}, \"height\": 700, \"title\": \"Crawl Date Frequency\", \"width\": 1400, \"$schema\": \"https://vega.github.io/schema/vega-lite/v4.8.1.json\", \"datasets\": {\"data-489af3e4abc06923bd369e9a3f859c1d\": [{\"Crawl Dates\": \"20140507\", \"Count\": 132807}, {\"Crawl Dates\": \"20140508\", \"Count\": 124398}, {\"Crawl Dates\": \"20140120\", \"Count\": 123178}, {\"Crawl Dates\": \"20140121\", \"Count\": 120806}, {\"Crawl Dates\": \"20140509\", \"Count\": 109400}, {\"Crawl Dates\": \"20140122\", \"Count\": 98520}, {\"Crawl Dates\": \"20140123\", \"Count\": 79520}, {\"Crawl Dates\": \"20121219\", \"Count\": 65145}, {\"Crawl Dates\": \"20140510\", \"Count\": 61574}, {\"Crawl Dates\": \"20121218\", \"Count\": 55982}, {\"Crawl Dates\": \"20190502\", \"Count\": 55275}, {\"Crawl Dates\": \"20150224\", \"Count\": 54571}, {\"Crawl Dates\": \"20110412\", \"Count\": 48355}, {\"Crawl Dates\": \"20151117\", \"Count\": 47948}, {\"Crawl Dates\": \"20160420\", \"Count\": 41106}, {\"Crawl Dates\": \"20190430\", \"Count\": 40340}, {\"Crawl Dates\": \"20150225\", \"Count\": 37323}, {\"Crawl Dates\": \"20151212\", \"Count\": 27947}, {\"Crawl Dates\": \"20140506\", \"Count\": 21378}, {\"Crawl Dates\": \"20151211\", \"Count\": 20366}, {\"Crawl Dates\": \"20110411\", \"Count\": 14045}, {\"Crawl Dates\": \"20110413\", \"Count\": 12298}, {\"Crawl Dates\": \"20190501\", \"Count\": 11517}, {\"Crawl Dates\": \"20110414\", \"Count\": 9497}, {\"Crawl Dates\": \"20150223\", \"Count\": 9334}, {\"Crawl Dates\": \"20160419\", \"Count\": 9162}, {\"Crawl Dates\": \"20160901\", \"Count\": 5187}, {\"Crawl Dates\": \"20190503\", \"Count\": 2533}]}}, {\"mode\": \"vega-lite\"});\n",
              "</script>"
            ]
          },
          "metadata": {
            "tags": []
          },
          "execution_count": 24
        }
      ]
    }
  ]
}