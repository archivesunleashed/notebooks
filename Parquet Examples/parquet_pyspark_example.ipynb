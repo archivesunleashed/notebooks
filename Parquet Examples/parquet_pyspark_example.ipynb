{
  "nbformat": 4,
  "nbformat_minor": 0,
  "metadata": {
    "colab": {
      "name": "parquet_pyspark_example.ipynb",
      "provenance": [],
      "include_colab_link": true
    },
    "kernelspec": {
      "name": "python3",
      "display_name": "Python 3"
    }
  },
  "cells": [
    {
      "cell_type": "markdown",
      "metadata": {
        "id": "view-in-github",
        "colab_type": "text"
      },
      "source": [
        "<a href=\"https://colab.research.google.com/github/archivesunleashed/notebooks/blob/colab-tweak/Parquet%20Examples/parquet_pyspark_example.ipynb\" target=\"_parent\"><img src=\"https://colab.research.google.com/assets/colab-badge.svg\" alt=\"Open In Colab\"/></a>"
      ]
    },
    {
      "cell_type": "markdown",
      "metadata": {
        "id": "EN0gajhr7pKd",
        "colab_type": "text"
      },
      "source": [
        "# Working with Archives Unleashed Parquet Derivatives\n",
        "\n",
        "In this notebook, we'll setup an enviroment, then download a dataset of web archive collection derivatives that were produced with the [Archives Unleashed Toolkit](https://github.com/archivesunleashed/aut/). These derivatives are in the [Apache Parquet](https://parquet.apache.org/) format, which is a [columnar storage](http://en.wikipedia.org/wiki/Column-oriented_DBMS) format. These derivatives and generally small enough to work with on your local machine, and can be easily converted to Pandas DataFrames as demostrated below.\n",
        "\n",
        "**[Binary Analysis](https://github.com/archivesunleashed/aut-docs/blob/master/current/binary-analysis.md#binary-analysis)**\n",
        "- [Audio](https://github.com/archivesunleashed/aut-docs/blob/master/current/binary-analysis.md#extract-audio-information)\n",
        "- [Images](https://github.com/archivesunleashed/aut-docs/blob/master/current/binary-analysis.md#extract-image-information)\n",
        "- [PDFs](https://github.com/archivesunleashed/aut-docs/blob/master/current/binary-analysis.md#extract-pdf-information)\n",
        "- [Presentation program files](https://github.com/archivesunleashed/aut-docs/blob/master/current/binary-analysis.md#extract-presentation-program-files-information)\n",
        "- [Spreadsheets](https://github.com/archivesunleashed/aut-docs/blob/master/current/binary-analysis.md#extract-spreadsheet-information)\n",
        "- [Text files](https://github.com/archivesunleashed/aut-docs/blob/master/current/binary-analysis.md#extract-text-files-information)\n",
        "- [Videos](https://github.com/archivesunleashed/aut-docs/blob/master/current/binary-analysis.md#extract-video-information)\n",
        "- [Word processor files](https://github.com/archivesunleashed/aut-docs/blob/master/current/binary-analysis.md#extract-word-processor-files-information)\n",
        "\n",
        "**Web Pages**\n",
        "\n",
        "`.webpages()` \n",
        "\n",
        "Produces a DataFrame with the following columns:\n",
        "  - `crawl_date`\n",
        "  - `url`\n",
        "  - `mime_type_web_server`\n",
        "  - `mime_type_tika`\n",
        "  - `content`\n",
        "\n",
        "**Web Graph**\n",
        "\n",
        "`.webgraph()` \n",
        "\n",
        "Produces a DataFrame with the following columns:\n",
        "  - `crawl_date`\n",
        "  - `src`\n",
        "  - `dest`\n",
        "  - `anchor`\n",
        "\n",
        "**Image Links**\n",
        "\n",
        "`.imageLinks()`\n",
        "\n",
        "Produces a DataFrame with the following columns:\n",
        "  - `src`\n",
        "  - `image_url`\n",
        "\n",
        "**Domaisn**\n",
        "\n",
        "`.webpages().groupBy(ExtractDomainDF($\"url\").alias(\"url\")).count().sort($\"count\".desc)`\n",
        "\n",
        "Produces a DataFrame with the following columns:\n",
        "- domain\n",
        "- count"
      ]
    },
    {
      "cell_type": "markdown",
      "metadata": {
        "id": "Xe60G-E4wpVQ",
        "colab_type": "text"
      },
      "source": [
        "# Setup Dependencies\n",
        "\n",
        "First we'll need to setup Java, Apache Spark, and PySpark bindings"
      ]
    },
    {
      "cell_type": "code",
      "metadata": {
        "id": "tH4OBlJuwoPT",
        "colab_type": "code",
        "colab": {}
      },
      "source": [
        "%%capture\n",
        "\n",
        "!apt-get update\n",
        "!apt-get install -y openjdk-8-jdk-headless -qq \n",
        "!apt-get install maven -qq\n",
        "\n",
        "!curl -L \"https://archive.apache.org/dist/spark/spark-2.4.5/spark-2.4.5-bin-hadoop2.7.tgz\" > spark-2.4.5-bin-hadoop2.7.tgz\n",
        "!tar -xvf spark-2.4.5-bin-hadoop2.7.tgz\n",
        "!pip install -q findspark"
      ],
      "execution_count": 0,
      "outputs": []
    },
    {
      "cell_type": "markdown",
      "metadata": {
        "id": "OctPUqrG-K2W",
        "colab_type": "text"
      },
      "source": [
        "# Dataset\n",
        "\n",
        "We will need a web archive dataset to work with.\n",
        "\n",
        "The one we'll use in this example notebook comes from [Bibliothèque et Archives nationales du Québec](https://www.banq.qc.ca/accueil/). It is a web archive collection of the Ministry of Environment of Québec (2011-2014), that has been  processed by the [Archives Unleashed Toolkit](https://github.com/archivesunleashed/aut/). Merci beaucoup banq!\n",
        "\n",
        "[![DOI](https://zenodo.org/badge/DOI/10.5281/zenodo.3599771.svg)](https://doi.org/10.5281/zenodo.3599771)\n",
        "\n",
        "Curious about the size the derivative Parquet output compared to the size of the web archive collection?\n",
        "\n",
        "The total size of all 12 Parquet deriatives is 594M, with `webpages` being the largest (528M) since it has a column with full text (`content`).\n",
        "\n",
        "```\n",
        "2.5M\t./videos\n",
        "344K\t./domains\n",
        "1.7M\t./word-processor-files\n",
        "24K\t./presentation-program-files\n",
        "1.7M\t./spreadsheets\n",
        "880K\t./audio\n",
        "4.4M\t./images\n",
        "528M\t./webpages\n",
        "1.7M\t./text-files\n",
        "3.9M\t./pdfs\n",
        "29M\t./webgraph\n",
        "22M\t./imagelinks\n",
        "594M\t.\n",
        "```\n",
        "\n",
        "The total size of the web archive collection is 165G."
      ]
    },
    {
      "cell_type": "code",
      "metadata": {
        "id": "m3FRzjAYyPid",
        "colab_type": "code",
        "colab": {}
      },
      "source": [
        "%%capture\n",
        "\n",
        "!curl -L \"https://zenodo.org/record/3598450/files/environnement-qc.tar.gz?download=1\" > environment-qc-parquet.tar.gz\n",
        "!tar -xzf environment-qc-parquet.tar.gz"
      ],
      "execution_count": 0,
      "outputs": []
    },
    {
      "cell_type": "code",
      "metadata": {
        "id": "Aduw0ZgmLNLv",
        "colab_type": "code",
        "outputId": "3fadf730-9136-4ed5-f81c-63bd052b2c69",
        "colab": {
          "base_uri": "https://localhost:8080/",
          "height": 234
        }
      },
      "source": [
        "!ls -1 parquet"
      ],
      "execution_count": 3,
      "outputs": [
        {
          "output_type": "stream",
          "text": [
            "audio\n",
            "domains\n",
            "imagelinks\n",
            "images\n",
            "pdfs\n",
            "presentation-program-files\n",
            "spreadsheets\n",
            "text-files\n",
            "videos\n",
            "webgraph\n",
            "webpages\n",
            "word-processor-files\n"
          ],
          "name": "stdout"
        }
      ]
    },
    {
      "cell_type": "markdown",
      "metadata": {
        "id": "mBY44Iq8_ABQ",
        "colab_type": "text"
      },
      "source": [
        "# Environment\n",
        "\n",
        "Next, we'll setup our environment so we can work with the Parquet output in PySpark."
      ]
    },
    {
      "cell_type": "code",
      "metadata": {
        "id": "VADCvbw40GcB",
        "colab_type": "code",
        "colab": {}
      },
      "source": [
        "import os\n",
        "os.environ[\"JAVA_HOME\"] = \"/usr/lib/jvm/java-8-openjdk-amd64\"\n",
        "os.environ[\"SPARK_HOME\"] = \"/content/spark-2.4.5-bin-hadoop2.7\""
      ],
      "execution_count": 0,
      "outputs": []
    },
    {
      "cell_type": "code",
      "metadata": {
        "id": "iIVq4Ii70PRZ",
        "colab_type": "code",
        "colab": {}
      },
      "source": [
        "import findspark\n",
        "findspark.init()\n",
        "from pyspark.sql import SparkSession\n",
        "spark = SparkSession.builder.master(\"local[*]\").getOrCreate()"
      ],
      "execution_count": 0,
      "outputs": []
    },
    {
      "cell_type": "markdown",
      "metadata": {
        "id": "oFAFb2X3_VJC",
        "colab_type": "text"
      },
      "source": [
        "# Loading our Archives Unleashed Datasets as DataFrames\n",
        "\n",
        "Next, we'll load up our datasets to work with, and show a preview of each."
      ]
    },
    {
      "cell_type": "code",
      "metadata": {
        "id": "GhE_Vhv8Awkx",
        "colab_type": "code",
        "outputId": "4f326534-d879-4be8-c844-ff48653bf2bc",
        "colab": {
          "base_uri": "https://localhost:8080/",
          "height": 488
        }
      },
      "source": [
        "audio = spark.read.parquet(\"parquet/audio\")\n",
        "audio.show()"
      ],
      "execution_count": 6,
      "outputs": [
        {
          "output_type": "stream",
          "text": [
            "+--------------------+--------------------+---------+--------------------+--------------+--------------------+\n",
            "|                 url|            filename|extension|mime_type_web_server|mime_type_tika|                 md5|\n",
            "+--------------------+--------------------+---------+--------------------+--------------+--------------------+\n",
            "|http://www.mddep....|connaissances-eau...|      mp3|          audio/mpeg|    audio/mpeg|f1f9bd2570b2eef6b...|\n",
            "|http://www.ragedu...| operation-raton.wmv|      wma|      video/x-ms-wmv|audio/x-ms-wma|4e5763994a906b6aa...|\n",
            "|http://www.ragedu...| operation-raton.wmv|      wma|      video/x-ms-wmv|audio/x-ms-wma|4e5763994a906b6aa...|\n",
            "|http://www.ragedu...| operation-raton.wmv|      wma|      video/x-ms-wmv|audio/x-ms-wma|4e5763994a906b6aa...|\n",
            "|http://www.ragedu...| operation-raton.wmv|      wma|      video/x-ms-wmv|audio/x-ms-wma|4e5763994a906b6aa...|\n",
            "|http://www.deficl...|110314%20Steven%2...|      mp3|          audio/mpeg|    audio/mpeg|b6722993460210738...|\n",
            "|http://mddefp.gou...|         sound10.mp3|      mp3|          audio/mpeg|    audio/mpeg|aaf15e8806b3eeaca...|\n",
            "|http://mddefp.gou...|         sound12.mp3|      mp3|          audio/mpeg|    audio/mpeg|ba98a036d4cd5247c...|\n",
            "|http://mddefp.gou...|          sound2.mp3|      mp3|          audio/mpeg|    audio/mpeg|da46cf8d0365356fb...|\n",
            "|http://mddefp.gou...|          sound5.mp3|      mp3|          audio/mpeg|    audio/mpeg|6d2b4d1d053f44821...|\n",
            "|http://mddefp.gou...|          sound8.mp3|      mp3|          audio/mpeg|    audio/mpeg|532ad8f4844c30eda...|\n",
            "|http://mddefp.gou...|          sound7.mp3|      mp3|          audio/mpeg|    audio/mpeg|5e26dff0e6845e9eb...|\n",
            "|http://mddefp.gou...|          sound6.mp3|      mp3|          audio/mpeg|    audio/mpeg|f5cf3398ad215d07f...|\n",
            "|http://mddefp.gou...|          sound4.mp3|      mp3|          audio/mpeg|    audio/mpeg|7b2c7534bbcd88f0e...|\n",
            "|http://mddefp.gou...|          sound1.mp3|      mp3|          audio/mpeg|    audio/mpeg|1bf52c90d08205fc2...|\n",
            "|http://mddefp.gou...|          sound3.mp3|      mp3|          audio/mpeg|    audio/mpeg|969fe73c8ab88f460...|\n",
            "|http://mddefp.gou...|          sound9.mp3|      mp3|          audio/mpeg|    audio/mpeg|d6553b89ea0bf6f1b...|\n",
            "|http://mddefp.gou...|         sound39.mp3|      mp3|          audio/mpeg|    audio/mpeg|0250cdcc884cd4dad...|\n",
            "|http://mddefp.gou...|         sound11.mp3|      mp3|          audio/mpeg|    audio/mpeg|8d1f56a57156cb6e4...|\n",
            "|http://mddefp.gou...|         sound26.mp3|      mp3|          audio/mpeg|    audio/mpeg|b3ab2a2447019a130...|\n",
            "+--------------------+--------------------+---------+--------------------+--------------+--------------------+\n",
            "only showing top 20 rows\n",
            "\n"
          ],
          "name": "stdout"
        }
      ]
    },
    {
      "cell_type": "code",
      "metadata": {
        "id": "391wgSogBErB",
        "colab_type": "code",
        "outputId": "1b9ab45d-e7e4-4dd5-dd5c-02c4ac2f5b8e",
        "colab": {
          "base_uri": "https://localhost:8080/",
          "height": 488
        }
      },
      "source": [
        "domains =  spark.read.parquet(\"parquet/domains\")\n",
        "domains.show()"
      ],
      "execution_count": 7,
      "outputs": [
        {
          "output_type": "stream",
          "text": [
            "+--------------------+-----+\n",
            "|                 url|count|\n",
            "+--------------------+-----+\n",
            "|     www.addthis.com|    1|\n",
            "|www.rechargeonsla...|    1|\n",
            "|  static.addinto.com|    1|\n",
            "|     code.google.com|    1|\n",
            "|www.senv.mddep.go...|    1|\n",
            "|     swdlp.apple.com|    1|\n",
            "|       www.google.ca|    1|\n",
            "|       get.adobe.com|    1|\n",
            "|www.paiement.mdde...|    1|\n",
            "|     support.pqm.net|    1|\n",
            "|     www.addinto.com|    1|\n",
            "|feeds.iucnredlist...|    1|\n",
            "| www.cbcq.gouv.qc.ca|    1|\n",
            "|        www.undp.org|    1|\n",
            "|    l.addthiscdn.com|    1|\n",
            "| fls.doubleclick.net|    1|\n",
            "|         twitter.com|    1|\n",
            "|search.microsoft.com|    1|\n",
            "|www.espacej.gouv....|    1|\n",
            "|    webcasts.pqm.net|    1|\n",
            "+--------------------+-----+\n",
            "only showing top 20 rows\n",
            "\n"
          ],
          "name": "stdout"
        }
      ]
    },
    {
      "cell_type": "code",
      "metadata": {
        "id": "9AyNdmNoAk4z",
        "colab_type": "code",
        "outputId": "a2c3fdcd-9515-4740-c827-a6bce0bbfcb0",
        "colab": {
          "base_uri": "https://localhost:8080/",
          "height": 488
        }
      },
      "source": [
        "images = spark.read.parquet(\"parquet/images\")\n",
        "images.show()"
      ],
      "execution_count": 9,
      "outputs": [
        {
          "output_type": "stream",
          "text": [
            "+--------------------+--------------------+---------+--------------------+--------------+-----+------+--------------------+\n",
            "|                 url|            filename|extension|mime_type_web_server|mime_type_tika|width|height|                 md5|\n",
            "+--------------------+--------------------+---------+--------------------+--------------+-----+------+--------------------+\n",
            "|http://www.mddep....|rencontre-chasseu...|      jpg|          image/jpeg|    image/jpeg|  200|   150|1f2b23e9a20f5c4bb...|\n",
            "|http://www.mddep....|rencontre-chasseu...|      jpg|          image/jpeg|    image/jpeg|  200|   150|1f2b23e9a20f5c4bb...|\n",
            "|http://mddep.gouv...|rencontre-chasseu...|      jpg|          image/jpeg|    image/jpeg|  200|   150|1f2b23e9a20f5c4bb...|\n",
            "|http://www.mddefp...|rencontre-chasseu...|      jpg|          image/jpeg|    image/jpeg|  200|   150|1f2b23e9a20f5c4bb...|\n",
            "|http://www.mddep....|rencontre-chasseu...|      jpg|          image/jpeg|    image/jpeg|  200|   150|1f2b23e9a20f5c4bb...|\n",
            "|http://www.mddep....|rencontre-chasseu...|      jpg|          image/jpeg|    image/jpeg|  200|   150|1f2b23e9a20f5c4bb...|\n",
            "|http://www.mddefp...|rencontre-chasseu...|      jpg|          image/jpeg|    image/jpeg|  200|   150|1f2b23e9a20f5c4bb...|\n",
            "|http://www.mddefp...|rencontre-chasseu...|      jpg|          image/jpeg|    image/jpeg|  200|   150|1f2b23e9a20f5c4bb...|\n",
            "|http://mddefp.gou...|rencontre-chasseu...|      jpg|          image/jpeg|    image/jpeg|  200|   150|1f2b23e9a20f5c4bb...|\n",
            "|http://www.mddefp...|rencontre-chasseu...|      jpg|          image/jpeg|    image/jpeg|  200|   150|1f2b23e9a20f5c4bb...|\n",
            "|http://mddefp.gou...|rencontre-chasseu...|      jpg|          image/jpeg|    image/jpeg|  200|   150|1f2b23e9a20f5c4bb...|\n",
            "|http://mddep.gouv...|rencontre-chasseu...|      jpg|          image/jpeg|    image/jpeg|  200|   150|1f2b23e9a20f5c4bb...|\n",
            "|http://mddep.gouv...|rencontre-chasseu...|      jpg|          image/jpeg|    image/jpeg|  200|   150|1f2b23e9a20f5c4bb...|\n",
            "|http://www.mddefp...|rencontre-chasseu...|      jpg|          image/jpeg|    image/jpeg|  200|   150|1f2b23e9a20f5c4bb...|\n",
            "|http://mddep.gouv...|rencontre-chasseu...|      jpg|          image/jpeg|    image/jpeg|  200|   150|1f2b23e9a20f5c4bb...|\n",
            "|http://www.mddefp...|rencontre-chasseu...|      jpg|          image/jpeg|    image/jpeg|  200|   150|1f2b23e9a20f5c4bb...|\n",
            "|http://www.cehq.g...|        X0005206.jpg|      jpg|          image/jpeg|    image/jpeg|  300|   200|1f28d59a50d14343c...|\n",
            "|http://www.cehq.g...|        X0004925.jpg|      jpg|          image/jpeg|    image/jpeg|  300|   200|1f2604341d425785f...|\n",
            "|http://www.mddelc...|0804-poissons-jeu...|      jpg|          image/jpeg|    image/jpeg|  309|   170|1f24effb93eabf138...|\n",
            "|http://mddep.gouv...|0804-poissons-jeu...|      jpg|          image/jpeg|    image/jpeg|  309|   170|1f24effb93eabf138...|\n",
            "+--------------------+--------------------+---------+--------------------+--------------+-----+------+--------------------+\n",
            "only showing top 20 rows\n",
            "\n"
          ],
          "name": "stdout"
        }
      ]
    },
    {
      "cell_type": "code",
      "metadata": {
        "id": "hL5Qg_N6BMgZ",
        "colab_type": "code",
        "outputId": "b02437f0-4818-4ef7-8400-f92bf6f8a36a",
        "colab": {
          "base_uri": "https://localhost:8080/",
          "height": 488
        }
      },
      "source": [
        "network = spark.read.parquet(\"parquet/webgraph\")\n",
        "network.show()"
      ],
      "execution_count": 10,
      "outputs": [
        {
          "output_type": "stream",
          "text": [
            "+----------+--------------------+--------------------+--------------------+\n",
            "|crawl_date|                 src|                dest|              anchor|\n",
            "+----------+--------------------+--------------------+--------------------+\n",
            "|  20190502|http://mddefp.gou...|https://www.quebe...|            Ministre|\n",
            "|  20190502|http://mddefp.gou...|https://geoinonda...|Geoinondations.go...|\n",
            "|  20190502|http://mddefp.gou...|https://cse.googl...|           Recherche|\n",
            "|  20190502|http://mddefp.gou...|http://www.quebec...|                    |\n",
            "|  20190502|http://mddefp.gou...|http://www.droita...|� Gouvernement du...|\n",
            "|  20190502|http://mddefp.gou...|https://www.quebe...|            Ministre|\n",
            "|  20190502|http://mddefp.gou...|http://www.mddelc...|l'affiche officielle|\n",
            "|  20190502|http://mddefp.gou...|http://www.mddelc...|    bonnes pratiques|\n",
            "|  20190502|http://mddefp.gou...|http://www.mddelc...|programme Environ...|\n",
            "|  20190502|http://mddefp.gou...|https://cse.googl...|           Recherche|\n",
            "|  20190502|http://mddefp.gou...|http://www.quebec...|                    |\n",
            "|  20190502|http://mddefp.gou...|http://www.droita...|� Gouvernement du...|\n",
            "|  20190502|http://mddefp.gou...|https://www.quebe...|            Ministre|\n",
            "|  20190502|http://mddefp.gou...|http://www.mddelc...|www.mddelcc.gouv....|\n",
            "|  20190502|http://mddefp.gou...|https://cse.googl...|           Recherche|\n",
            "|  20190502|http://mddefp.gou...|http://www.quebec...|                    |\n",
            "|  20190502|http://mddefp.gou...|http://www.droita...|� Gouvernement du...|\n",
            "|  20190502|http://mddefp.gou...|https://www.quebe...|            Ministre|\n",
            "|  20190502|http://mddefp.gou...|http://www.mddelc...|www.mddelcc.gouv....|\n",
            "|  20190502|http://mddefp.gou...|http://www.mddelc...|www.mddelcc.gouv....|\n",
            "+----------+--------------------+--------------------+--------------------+\n",
            "only showing top 20 rows\n",
            "\n"
          ],
          "name": "stdout"
        }
      ]
    },
    {
      "cell_type": "code",
      "metadata": {
        "id": "72HXIj_rBuEL",
        "colab_type": "code",
        "outputId": "8dd81a33-9d32-4367-814e-4b3480f90eae",
        "colab": {
          "base_uri": "https://localhost:8080/",
          "height": 488
        }
      },
      "source": [
        "pdfs = spark.read.parquet(\"parquet/pdfs\")\n",
        "pdfs.show()"
      ],
      "execution_count": 12,
      "outputs": [
        {
          "output_type": "stream",
          "text": [
            "+--------------------+------------------+---------+--------------------+---------------+--------------------+\n",
            "|                 url|          filename|extension|mime_type_web_server| mime_type_tika|                 md5|\n",
            "+--------------------+------------------+---------+--------------------+---------------+--------------------+\n",
            "|http://mddefp.gou...|   Map-Zone-26.pdf|      pdf|     application/pdf|application/pdf|34eb18168e9ca934c...|\n",
            "|http://www.mddefp...|   Map-Zone-26.pdf|      pdf|     application/pdf|application/pdf|34eb18168e9ca934c...|\n",
            "|http://www.mddep....|   Map-Zone-26.pdf|      pdf|     application/pdf|application/pdf|34eb18168e9ca934c...|\n",
            "|http://mddep.gouv...|   Map-Zone-26.pdf|      pdf|     application/pdf|application/pdf|34eb18168e9ca934c...|\n",
            "|http://www.mddep....|   Map-Zone-26.pdf|      pdf|     application/pdf|application/pdf|34eb18168e9ca934c...|\n",
            "|http://mddefp.gou...|   Map-Zone-26.pdf|      pdf|     application/pdf|application/pdf|34eb18168e9ca934c...|\n",
            "|http://www.mddep....|   Map-Zone-26.pdf|      pdf|     application/pdf|application/pdf|34eb18168e9ca934c...|\n",
            "|http://www.mddep....|   Map-Zone-26.pdf|      pdf|     application/pdf|application/pdf|34eb18168e9ca934c...|\n",
            "|http://www.mddep....|   Map-Zone-26.pdf|      pdf|     application/pdf|application/pdf|34eb18168e9ca934c...|\n",
            "|http://www.mddefp...|   Map-Zone-26.pdf|      pdf|     application/pdf|application/pdf|34eb18168e9ca934c...|\n",
            "|http://www.mddefp...|   Map-Zone-26.pdf|      pdf|     application/pdf|application/pdf|34eb18168e9ca934c...|\n",
            "|http://www.mddep....|   Map-Zone-26.pdf|      pdf|     application/pdf|application/pdf|34eb18168e9ca934c...|\n",
            "|http://mddefp.gou...|   Map-Zone-26.pdf|      pdf|     application/pdf|application/pdf|34eb18168e9ca934c...|\n",
            "|http://www.mddefp...|   Map-Zone-26.pdf|      pdf|     application/pdf|application/pdf|34eb18168e9ca934c...|\n",
            "|http://mddep.gouv...|   Map-Zone-26.pdf|      pdf|     application/pdf|application/pdf|34eb18168e9ca934c...|\n",
            "|http://www.mddefp...|   Map-Zone-26.pdf|      pdf|     application/pdf|application/pdf|34eb18168e9ca934c...|\n",
            "|http://www.mddep....|   Map-Zone-26.pdf|      pdf|     application/pdf|application/pdf|34eb18168e9ca934c...|\n",
            "|http://mddefp.gou...|   Map-Zone-26.pdf|      pdf|     application/pdf|application/pdf|34eb18168e9ca934c...|\n",
            "|http://www.mddep....|Carte_080225_F.pdf|      pdf|     application/pdf|application/pdf|34e69530e43d37a8c...|\n",
            "|http://www.mddefp...|Carte_080225_F.pdf|      pdf|     application/pdf|application/pdf|34e69530e43d37a8c...|\n",
            "+--------------------+------------------+---------+--------------------+---------------+--------------------+\n",
            "only showing top 20 rows\n",
            "\n"
          ],
          "name": "stdout"
        }
      ]
    },
    {
      "cell_type": "code",
      "metadata": {
        "id": "tbiJTSeLBu-1",
        "colab_type": "code",
        "outputId": "8c3389a7-6206-4d1c-fece-be47f446b178",
        "colab": {
          "base_uri": "https://localhost:8080/",
          "height": 488
        }
      },
      "source": [
        "presentation_program = spark.read.parquet(\"parquet/presentation-program-files\")\n",
        "presentation_program.show()"
      ],
      "execution_count": 13,
      "outputs": [
        {
          "output_type": "stream",
          "text": [
            "+--------------------+--------------------+---------+--------------------+--------------------+--------------------+\n",
            "|                 url|            filename|extension|mime_type_web_server|      mime_type_tika|                 md5|\n",
            "+--------------------+--------------------+---------+--------------------+--------------------+--------------------+\n",
            "|http://www.enviro...|           JEAP.pptx|     pptx|application/vnd.o...|application/vnd.o...|c3cf8193a17007d48...|\n",
            "|http://mddep.gouv...|phosphore-abitibi...|      ppt|application/vnd.m...|application/vnd.m...|f355c8d364bbd7c69...|\n",
            "|http://mddefp.gou...|phosphore-abitibi...|      ppt|application/vnd.m...|application/vnd.m...|f355c8d364bbd7c69...|\n",
            "|http://www.mddep....|phosphore-abitibi...|      ppt|application/vnd.m...|application/vnd.m...|f355c8d364bbd7c69...|\n",
            "|http://mddep.gouv...|phosphore-abitibi...|      ppt|application/vnd.m...|application/vnd.m...|f355c8d364bbd7c69...|\n",
            "|http://www.mddelc...|phosphore-abitibi...|      ppt|application/vnd.m...|application/vnd.m...|f355c8d364bbd7c69...|\n",
            "|http://www.mddep....|phosphore-abitibi...|      ppt|application/vnd.m...|application/vnd.m...|f355c8d364bbd7c69...|\n",
            "|http://mddep.gouv...|phosphore-abitibi...|      ppt|application/vnd.m...|application/vnd.m...|f355c8d364bbd7c69...|\n",
            "|http://www.mddelc...|phosphore-abitibi...|      ppt|application/vnd.m...|application/vnd.m...|f355c8d364bbd7c69...|\n",
            "|http://www.mddelc...|phosphore-abitibi...|      ppt|application/vnd.m...|application/vnd.m...|f355c8d364bbd7c69...|\n",
            "|http://www.mddefp...|phosphore-abitibi...|      ppt|application/vnd.m...|application/vnd.m...|f355c8d364bbd7c69...|\n",
            "|http://www.mddep....|phosphore-abitibi...|      ppt|application/vnd.m...|application/vnd.m...|f355c8d364bbd7c69...|\n",
            "|http://www.mddep....|phosphore-abitibi...|      ppt|application/vnd.m...|application/vnd.m...|f355c8d364bbd7c69...|\n",
            "|http://www.mddep....|phosphore-abitibi...|      ppt|application/vnd.m...|application/vnd.m...|f355c8d364bbd7c69...|\n",
            "|http://www.mddefp...|phosphore-abitibi...|      ppt|application/vnd.m...|application/vnd.m...|f355c8d364bbd7c69...|\n",
            "|http://www.mddelc...|phosphore-abitibi...|      ppt|application/vnd.m...|application/vnd.m...|f355c8d364bbd7c69...|\n",
            "|http://www.mddefp...|phosphore-abitibi...|      ppt|application/vnd.m...|application/vnd.m...|f355c8d364bbd7c69...|\n",
            "|http://www.mddefp...|phosphore-abitibi...|      ppt|application/vnd.m...|application/vnd.m...|f355c8d364bbd7c69...|\n",
            "|http://www.mddep....|phosphore-abitibi...|      ppt|application/vnd.m...|application/vnd.m...|f355c8d364bbd7c69...|\n",
            "|http://mddefp.gou...|phosphore-abitibi...|      ppt|application/vnd.m...|application/vnd.m...|f355c8d364bbd7c69...|\n",
            "+--------------------+--------------------+---------+--------------------+--------------------+--------------------+\n",
            "only showing top 20 rows\n",
            "\n"
          ],
          "name": "stdout"
        }
      ]
    },
    {
      "cell_type": "code",
      "metadata": {
        "id": "SF0ncrhbBxND",
        "colab_type": "code",
        "outputId": "25c0ffae-31cd-4306-a149-79dcb6ffa4cd",
        "colab": {
          "base_uri": "https://localhost:8080/",
          "height": 488
        }
      },
      "source": [
        "spreadsheets = spark.read.parquet(\"parquet/spreadsheets\")\n",
        "spreadsheets.show()"
      ],
      "execution_count": 14,
      "outputs": [
        {
          "output_type": "stream",
          "text": [
            "+--------------------+--------------------+---------+--------------------+--------------------+--------------------+\n",
            "|                 url|            filename|extension|mime_type_web_server|      mime_type_tika|                 md5|\n",
            "+--------------------+--------------------+---------+--------------------+--------------------+--------------------+\n",
            "|http://mddefp.gou...|liste-etablisseme...|     xlsx|application/vnd.o...|application/vnd.o...|2aa0b7c4f741a13ac...|\n",
            "|http://mddefp.gou...|30-3-2-adaptation...|     xlsm|application/vnd.m...|application/vnd.m...|b962130c2b1c169fe...|\n",
            "|http://mddefp.gou...|17-1-ecocamionnag...|     xlsx|application/vnd.o...|application/vnd.o...|5dc7c1910bcd8af6c...|\n",
            "|http://mddefp.gou...|9-3-financement-m...|     xlsm|application/vnd.m...|application/vnd.m...|35259010efa4b4a7d...|\n",
            "|http://mddefp.gou...|    14-7-PIEVAL.xlsm|     xlsm|application/vnd.m...|application/vnd.m...|3520b8cdafd7c500e...|\n",
            "|http://mddefp.gou...|ge-4-gestion-inte...|     xlsm|application/vnd.m...|application/vnd.m...|339bd9671929cff3c...|\n",
            "|http://mddefp.gou...|26-3-reduction-im...|     xlsm|application/vnd.m...|application/vnd.m...|32b6032882818ac99...|\n",
            "|http://www.mddep....|Qualit%C3%A9Eau_0...|      xls|application/vnd.m...|application/vnd.m...|32a45676f882ea9a0...|\n",
            "|http://mddefp.gou...|14-1-roulez-elect...|     xlsm|application/vnd.m...|application/vnd.m...|3276e161c1338d194...|\n",
            "|http://mddefp.gou...|fichier-calcul-me...|     xlsx|application/vnd.o...|application/vnd.o...|32649e87138053a19...|\n",
            "|http://www.mddep....|donn%C3%A9es_0401...|      xls|application/vnd.m...|application/vnd.m...|324df39765feb5b5f...|\n",
            "|http://mddefp.gou...|23-4-responsabili...|     xlsm|application/vnd.m...|application/vnd.m...|30dd6a14e1eff5c89...|\n",
            "|http://www.mddefp...|Donnees_contamina...|      xls|application/vnd.m...|application/vnd.m...|30cab5f24afe0cbc4...|\n",
            "|http://mddep.gouv...|Donnees_contamina...|      xls|application/vnd.m...|application/vnd.m...|30cab5f24afe0cbc4...|\n",
            "|http://www.mddefp...|Donnees_contamina...|      xls|application/vnd.m...|application/vnd.m...|30cab5f24afe0cbc4...|\n",
            "|http://mddep.gouv...|Donnees_contamina...|      xls|application/vnd.m...|application/vnd.m...|30cab5f24afe0cbc4...|\n",
            "|http://mddep.gouv...|Donnees_contamina...|      xls|application/vnd.m...|application/vnd.m...|30cab5f24afe0cbc4...|\n",
            "|http://www.mddefp...|Donnees_contamina...|      xls|application/vnd.m...|application/vnd.m...|30cab5f24afe0cbc4...|\n",
            "|http://mddep.gouv...|Donnees_contamina...|      xls|application/vnd.m...|application/vnd.m...|30cab5f24afe0cbc4...|\n",
            "|http://www.mddefp...|Donnees_contamina...|      xls|application/vnd.m...|application/vnd.m...|30cab5f24afe0cbc4...|\n",
            "+--------------------+--------------------+---------+--------------------+--------------------+--------------------+\n",
            "only showing top 20 rows\n",
            "\n"
          ],
          "name": "stdout"
        }
      ]
    },
    {
      "cell_type": "code",
      "metadata": {
        "id": "3L5Yj0hFBymu",
        "colab_type": "code",
        "outputId": "8856399f-09c9-4d2f-cc93-ad01dbdd6329",
        "colab": {
          "base_uri": "https://localhost:8080/",
          "height": 488
        }
      },
      "source": [
        "videos = spark.read.parquet(\"parquet/videos\")\n",
        "videos.show()"
      ],
      "execution_count": 15,
      "outputs": [
        {
          "output_type": "stream",
          "text": [
            "+--------------------+-------------+---------+--------------------+--------------+--------------------+\n",
            "|                 url|     filename|extension|mime_type_web_server|mime_type_tika|                 md5|\n",
            "+--------------------+-------------+---------+--------------------+--------------+--------------------+\n",
            "|http://r2---sn-9p...|videoplayback|      mp4|           video/mp4|     video/mp4|d628294e7df1c7b12...|\n",
            "|https://r5---sn-t...|videoplayback|      mp4|           video/mp4|     video/mp4|d610d5763cc3d1a5a...|\n",
            "|http://r1---sn-9p...|videoplayback|      mp4|           video/mp4|     video/mp4|d5e37c1c79441e40b...|\n",
            "|http://r2---sn-9p...|videoplayback|      mp4|           video/mp4|     video/mp4|d5a21cd8ee5bccc31...|\n",
            "|http://r2---sn-9p...|videoplayback|      mp4|           video/mp4|     video/mp4|d5559807a134ff6f4...|\n",
            "|http://r3---sn-9p...|videoplayback|      mp4|           video/mp4|     video/mp4|d499c661c34549771...|\n",
            "|http://r3---sn-hu...|videoplayback|      mp4|           video/mp4|     video/mp4|d4443e4878a838a4d...|\n",
            "|http://r3---sn-hu...|videoplayback|      mp4|           video/mp4|     video/mp4|d4443e4878a838a4d...|\n",
            "|http://r2---sn-9p...|videoplayback|      mp4|           video/mp4|     video/mp4|e3fd70b9eda9fc41b...|\n",
            "|http://r2---sn-9p...|videoplayback|      mp4|           video/mp4|     video/mp4|ec4d124adaf1cb851...|\n",
            "|http://r2---sn-9p...|videoplayback|      mp4|           video/mp4|     video/mp4|da030ec8fb5c51da5...|\n",
            "|http://r3---sn-9p...|videoplayback|      mp4|           video/mp4|     video/mp4|aa1d0c368a47e01da...|\n",
            "|http://r3---sn-9p...|videoplayback|      mp4|           video/mp4|     video/mp4|4eeef205aa667236a...|\n",
            "|http://r1---sn-9p...|videoplayback|      mp4|           video/mp4|     video/mp4|e4da474d5dfb421d2...|\n",
            "|http://r2---sn-9p...|videoplayback|      mp4|           video/mp4|     video/mp4|8b0b9d13f97bc8a70...|\n",
            "|http://r3---sn-9p...|videoplayback|      mp4|           video/mp4|     video/mp4|4f37ff17c476199df...|\n",
            "|http://r3---sn-9p...|videoplayback|      mp4|           video/mp4|     video/mp4|c8cbb276bd6d84031...|\n",
            "|http://r2---sn-9p...|videoplayback|      mp4|           video/mp4|     video/mp4|f5080a88800a56e38...|\n",
            "|http://r1---sn-9p...|videoplayback|      mp4|           video/mp4|     video/mp4|8a62377ca5b5e2294...|\n",
            "|http://r1---sn-9p...|videoplayback|      mp4|           video/mp4|     video/mp4|91a9e71a46f796a5e...|\n",
            "+--------------------+-------------+---------+--------------------+--------------+--------------------+\n",
            "only showing top 20 rows\n",
            "\n"
          ],
          "name": "stdout"
        }
      ]
    },
    {
      "cell_type": "code",
      "metadata": {
        "id": "uGx-phLmB3Ku",
        "colab_type": "code",
        "outputId": "30430f4b-3b1a-41f8-b482-c6f31a5079da",
        "colab": {
          "base_uri": "https://localhost:8080/",
          "height": 488
        }
      },
      "source": [
        "word_processor = spark.read.parquet(\"parquet/word-processor-files\")\n",
        "word_processor.show()"
      ],
      "execution_count": 16,
      "outputs": [
        {
          "output_type": "stream",
          "text": [
            "+--------------------+--------------------+---------+--------------------+--------------------+--------------------+\n",
            "|                 url|            filename|extension|mime_type_web_server|      mime_type_tika|                 md5|\n",
            "+--------------------+--------------------+---------+--------------------+--------------------+--------------------+\n",
            "|http://mddefp.gou...|     formulaire.docx|     docx|application/vnd.o...|application/vnd.o...|49437b65e78fc8d07...|\n",
            "|http://www.mddep....|3-aide_particulie...|      doc|  application/msword|  application/msword|4943475a254e3b927...|\n",
            "|http://www.mddep....|         annexe5.doc|      doc|  application/msword|  application/msword|491bdb25f3ee1358b...|\n",
            "|http://www.mddefp...|         annexe5.doc|      doc|  application/msword|  application/msword|491bdb25f3ee1358b...|\n",
            "|http://mddefp.gou...|Attestation-perso...|      doc|  application/msword|  application/msword|4868aa8e259881533...|\n",
            "|http://www.mddep....|Attestation-perso...|      doc|  application/msword|  application/msword|4868aa8e259881533...|\n",
            "|http://www.mddelc...|Demande-autorisat...|      doc|  application/msword|  application/msword|478c860a9d6aea1e0...|\n",
            "|http://mddefp.gou...|attestation-grand...|     docx|application/vnd.o...|application/vnd.o...|46465a7425b290d0a...|\n",
            "|http://mddefp.gou...| PAMD_Formulaire.doc|      doc|  application/msword|  application/msword|45d5e57e719c6f875...|\n",
            "|http://mddefp.gou...|registres_permis_...|      doc|  application/msword|  application/msword|45aa80be3c3e28d4d...|\n",
            "|http://mddefp.gou...|  liste-associes.doc|      doc|  application/msword|  application/msword|44def2dd4389b6423...|\n",
            "|http://www.ceaeq....|FO120103_form_ren...|      doc|  application/msword|  application/msword|44cfb9e54a248d965...|\n",
            "|http://www.ceaeq....|FO120103_form_ren...|      doc|  application/msword|  application/msword|44cfb9e54a248d965...|\n",
            "|http://mddep.gouv...|collecteur-vhumid...|      doc|  application/msword|  application/msword|44229f60b2f645086...|\n",
            "|http://www.mddep....|collecteur-vhumid...|      doc|  application/msword|  application/msword|44229f60b2f645086...|\n",
            "|http://www.mddefp...|collecteur-vhumid...|      doc|  application/msword|  application/msword|44229f60b2f645086...|\n",
            "|http://mddep.gouv...|collecteur-vhumid...|      doc|  application/msword|  application/msword|44229f60b2f645086...|\n",
            "|http://www.mddep....|collecteur-vhumid...|      doc|  application/msword|  application/msword|44229f60b2f645086...|\n",
            "|http://mddep.gouv...|collecteur-vhumid...|      doc|  application/msword|  application/msword|44229f60b2f645086...|\n",
            "|http://www.mddefp...|collecteur-vhumid...|      doc|  application/msword|  application/msword|44229f60b2f645086...|\n",
            "+--------------------+--------------------+---------+--------------------+--------------------+--------------------+\n",
            "only showing top 20 rows\n",
            "\n"
          ],
          "name": "stdout"
        }
      ]
    },
    {
      "cell_type": "code",
      "metadata": {
        "id": "Eht_v-Kc2mAK",
        "colab_type": "code",
        "outputId": "833355fc-8326-4d2a-9a78-b6ef645b6c8a",
        "colab": {
          "base_uri": "https://localhost:8080/",
          "height": 488
        }
      },
      "source": [
        "text_files = spark.read.parquet(\"parquet/text-files\")\n",
        "text_files.show()"
      ],
      "execution_count": 17,
      "outputs": [
        {
          "output_type": "stream",
          "text": [
            "+--------------------+--------------------+---------+--------------------+--------------+--------------------+\n",
            "|                 url|            filename|extension|mime_type_web_server|mime_type_tika|                 md5|\n",
            "+--------------------+--------------------+---------+--------------------+--------------+--------------------+\n",
            "|http://r1---sn-9p...|       videoplayback|         |          text/plain|           N/A|d41d8cd98f00b204e...|\n",
            "|http://whqlibdoc....|       repository.pl|       pl|          text/plain|           N/A|d41d8cd98f00b204e...|\n",
            "|http://r1---sn-9p...|       videoplayback|         |          text/plain|           N/A|d41d8cd98f00b204e...|\n",
            "|https://r5---sn-t...|       videoplayback|         |          text/plain|           N/A|d41d8cd98f00b204e...|\n",
            "|https://r4---sn-t...|       videoplayback|         |          text/plain|           N/A|d41d8cd98f00b204e...|\n",
            "|https://r1---sn-t...|       videoplayback|         |          text/plain|           N/A|d41d8cd98f00b204e...|\n",
            "|https://r5---sn-t...|       videoplayback|         |          text/plain|           N/A|d41d8cd98f00b204e...|\n",
            "|http://whqlibdoc....|       repository.pl|       pl|          text/plain|           N/A|d41d8cd98f00b204e...|\n",
            "|http://whqlibdoc....|       repository.pl|       pl|          text/plain|           N/A|d41d8cd98f00b204e...|\n",
            "|https://r4---sn-t...|       videoplayback|         |          text/plain|           N/A|d41d8cd98f00b204e...|\n",
            "|http://r2---sn-hu...|       videoplayback|         |          text/plain|           N/A|d41d8cd98f00b204e...|\n",
            "|https://r4---sn-t...|       videoplayback|         |          text/plain|           N/A|d41d8cd98f00b204e...|\n",
            "|https://r3---sn-t...|       videoplayback|         |          text/plain|           N/A|d41d8cd98f00b204e...|\n",
            "|http://whqlibdoc....|       repository.pl|       pl|          text/plain|           N/A|d41d8cd98f00b204e...|\n",
            "|https://r4---sn-t...|       videoplayback|         |          text/plain|           N/A|d41d8cd98f00b204e...|\n",
            "|http://s7.addthis...|custom-twitter-ad...|      png|          text/plain|           N/A|d41d8cd98f00b204e...|\n",
            "|http://s7.addthis...|custom-email-addt...|      png|          text/plain|           N/A|d41d8cd98f00b204e...|\n",
            "|http://s7.addthis...|cq5dam.web.60.80.png|      png|          text/plain|           N/A|d41d8cd98f00b204e...|\n",
            "|http://s7.addthis...|custom-print-addt...|      png|          text/plain|           N/A|d41d8cd98f00b204e...|\n",
            "|http://s7.addthis...|       logo-undp.png|      png|          text/plain|           N/A|d41d8cd98f00b204e...|\n",
            "+--------------------+--------------------+---------+--------------------+--------------+--------------------+\n",
            "only showing top 20 rows\n",
            "\n"
          ],
          "name": "stdout"
        }
      ]
    },
    {
      "cell_type": "markdown",
      "metadata": {
        "id": "2wWDNwX3_oia",
        "colab_type": "text"
      },
      "source": [
        "# Data Analysis\n",
        "\n",
        "Now that we have all of our datasets loaded up, we can begin to work with it!\n"
      ]
    },
    {
      "cell_type": "markdown",
      "metadata": {
        "id": "Yl5ZFzwT_6VZ",
        "colab_type": "text"
      },
      "source": [
        "## Counting total files, and unique files"
      ]
    },
    {
      "cell_type": "markdown",
      "metadata": {
        "id": "Mh6UidNlMK4_",
        "colab_type": "text"
      },
      "source": [
        "Count number of rows (how many images are in the web archive collection)."
      ]
    },
    {
      "cell_type": "code",
      "metadata": {
        "id": "pjjUatxe_z3t",
        "colab_type": "code",
        "outputId": "b368e38d-eee5-4ecb-93d6-1c02f8007d01",
        "colab": {
          "base_uri": "https://localhost:8080/",
          "height": 35
        }
      },
      "source": [
        "images.count()"
      ],
      "execution_count": 18,
      "outputs": [
        {
          "output_type": "execute_result",
          "data": {
            "text/plain": [
              "156166"
            ]
          },
          "metadata": {
            "tags": []
          },
          "execution_count": 18
        }
      ]
    },
    {
      "cell_type": "markdown",
      "metadata": {
        "id": "oiYOFnHpMTu-",
        "colab_type": "text"
      },
      "source": [
        "How many unique images are in the collection?"
      ]
    },
    {
      "cell_type": "code",
      "metadata": {
        "id": "-KLFNm_H_566",
        "colab_type": "code",
        "outputId": "4394e133-ad94-4f10-e437-af805cb4ac1c",
        "colab": {
          "base_uri": "https://localhost:8080/",
          "height": 126
        }
      },
      "source": [
        "from pyspark.sql.functions import countDistinct\n",
        "images.select(countDistinct(\"md5\")).show()"
      ],
      "execution_count": 19,
      "outputs": [
        {
          "output_type": "stream",
          "text": [
            "+-------------------+\n",
            "|count(DISTINCT md5)|\n",
            "+-------------------+\n",
            "|              18287|\n",
            "+-------------------+\n",
            "\n"
          ],
          "name": "stdout"
        }
      ]
    },
    {
      "cell_type": "markdown",
      "metadata": {
        "id": "k2DN8QcdMcHt",
        "colab_type": "text"
      },
      "source": [
        "What are the top 10 most occuring filenames in the collection?"
      ]
    },
    {
      "cell_type": "code",
      "metadata": {
        "id": "j58L2WFEExId",
        "colab_type": "code",
        "outputId": "461371f4-d8f9-49ce-c5f4-73d906efe925",
        "colab": {
          "base_uri": "https://localhost:8080/",
          "height": 307
        }
      },
      "source": [
        "import pyspark.sql.functions as func\n",
        "images.groupBy('filename').count().orderBy('count', ascending=False).show(10)"
      ],
      "execution_count": 20,
      "outputs": [
        {
          "output_type": "stream",
          "text": [
            "+-------------+-----+\n",
            "|     filename|count|\n",
            "+-------------+-----+\n",
            "|  carte-p.jpg| 1196|\n",
            "|   carte2.jpg|  924|\n",
            "|   carte1.jpg|  875|\n",
            "|  carte-g.jpg|  660|\n",
            "|    carte.jpg|  576|\n",
            "| carte-qc.jpg|  575|\n",
            "| carte-an.jpg|  575|\n",
            "|  carte-G.jpg|  484|\n",
            "|  carte_p.jpg|  473|\n",
            "|carte_web.jpg|  431|\n",
            "+-------------+-----+\n",
            "only showing top 10 rows\n",
            "\n"
          ],
          "name": "stdout"
        }
      ]
    },
    {
      "cell_type": "markdown",
      "metadata": {
        "id": "lMV5p7OoMjsL",
        "colab_type": "text"
      },
      "source": [
        "What are the top 10 most occuring images in the collection?"
      ]
    },
    {
      "cell_type": "code",
      "metadata": {
        "id": "Y4Hw1FvcGMQi",
        "colab_type": "code",
        "outputId": "d621a7bd-57e9-4b1e-fccf-63565a33c295",
        "colab": {
          "base_uri": "https://localhost:8080/",
          "height": 307
        }
      },
      "source": [
        "import pyspark.sql.functions as func\n",
        "images.groupBy('md5').count().orderBy('count', ascending=False).show(10, False)"
      ],
      "execution_count": 21,
      "outputs": [
        {
          "output_type": "stream",
          "text": [
            "+--------------------------------+-----+\n",
            "|md5                             |count|\n",
            "+--------------------------------+-----+\n",
            "|5283d313972a24f0e71c47ae3c99958b|192  |\n",
            "|a4d3ddfb1a95e87650c624660d67765a|192  |\n",
            "|b09dc3225d5e1377c52c06feddc33bfe|192  |\n",
            "|e7d1f7750c16bc835bf1cfe1bf322d46|192  |\n",
            "|89663337857f6d769fbcaed7278cc925|77   |\n",
            "|497db34fffa0e278f57ae614b4b758a0|64   |\n",
            "|58e5d8676dfcc4205551314d98fb2624|61   |\n",
            "|100322cfd242ee75dd5a744526f08d6b|56   |\n",
            "|7252e42a951b5e449ea02c517839ed6d|53   |\n",
            "|65274f9eaa4c585b7c35193ebb04e0d7|53   |\n",
            "+--------------------------------+-----+\n",
            "only showing top 10 rows\n",
            "\n"
          ],
          "name": "stdout"
        }
      ]
    },
    {
      "cell_type": "markdown",
      "metadata": {
        "id": "0nOELgqTMn1F",
        "colab_type": "text"
      },
      "source": [
        "What's the information around all of the occurances of `5283d313972a24f0e71c47ae3c99958b`?"
      ]
    },
    {
      "cell_type": "code",
      "metadata": {
        "id": "oDwnH8RJGiUc",
        "colab_type": "code",
        "outputId": "991c4f88-5394-42cb-e8d0-1edc85c3b942",
        "colab": {
          "base_uri": "https://localhost:8080/",
          "height": 1000
        }
      },
      "source": [
        "images.filter(\"md5 = '5283d313972a24f0e71c47ae3c99958b'\").show(192, False)"
      ],
      "execution_count": 22,
      "outputs": [
        {
          "output_type": "stream",
          "text": [
            "+---------------------------------------------------------------+----------+---------+--------------------+--------------+-----+------+--------------------------------+\n",
            "|url                                                            |filename  |extension|mime_type_web_server|mime_type_tika|width|height|md5                             |\n",
            "+---------------------------------------------------------------+----------+---------+--------------------+--------------+-----+------+--------------------------------+\n",
            "|http://www.mddefp.gouv.qc.ca//poissons/st-charles/tumeur.jpg   |tumeur.jpg|jpg      |image/jpeg          |image/jpeg    |310  |220   |5283d313972a24f0e71c47ae3c99958b|\n",
            "|http://www.mddep.gouv.qc.ca/poissons/yamaska/tumeur.jpg        |tumeur.jpg|jpg      |image/jpeg          |image/jpeg    |310  |220   |5283d313972a24f0e71c47ae3c99958b|\n",
            "|http://mddefp.gouv.qc.ca/poissons/st-maurice/tumeur.jpg        |tumeur.jpg|jpg      |image/jpeg          |image/jpeg    |310  |220   |5283d313972a24f0e71c47ae3c99958b|\n",
            "|http://mddefp.gouv.qc.ca/poissons/st-francois/tumeur.jpg       |tumeur.jpg|jpg      |image/jpeg          |image/jpeg    |310  |220   |5283d313972a24f0e71c47ae3c99958b|\n",
            "|http://mddefp.gouv.qc.ca/poissons/chateauguay/tumeur.jpg       |tumeur.jpg|jpg      |image/jpeg          |image/jpeg    |310  |220   |5283d313972a24f0e71c47ae3c99958b|\n",
            "|http://mddefp.gouv.qc.ca/poissons/assomption/tumeur.jpg        |tumeur.jpg|jpg      |image/jpeg          |image/jpeg    |310  |220   |5283d313972a24f0e71c47ae3c99958b|\n",
            "|http://mddefp.gouv.qc.ca/poissons/richelieu/tumeur.jpg         |tumeur.jpg|jpg      |image/jpeg          |image/jpeg    |310  |220   |5283d313972a24f0e71c47ae3c99958b|\n",
            "|http://mddefp.gouv.qc.ca/poissons/yamaska/tumeur.jpg           |tumeur.jpg|jpg      |image/jpeg          |image/jpeg    |310  |220   |5283d313972a24f0e71c47ae3c99958b|\n",
            "|http://mddefp.gouv.qc.ca/poissons/chaudiere/tumeur.jpg         |tumeur.jpg|jpg      |image/jpeg          |image/jpeg    |310  |220   |5283d313972a24f0e71c47ae3c99958b|\n",
            "|http://mddefp.gouv.qc.ca/poissons/st-charles/tumeur.jpg        |tumeur.jpg|jpg      |image/jpeg          |image/jpeg    |310  |220   |5283d313972a24f0e71c47ae3c99958b|\n",
            "|http://www.mddep.gouv.qc.ca///poissons/chaudiere/tumeur.jpg    |tumeur.jpg|jpg      |image/jpeg          |image/jpeg    |310  |220   |5283d313972a24f0e71c47ae3c99958b|\n",
            "|http://www.mddep.gouv.qc.ca///poissons/st-maurice/tumeur.jpg   |tumeur.jpg|jpg      |image/jpeg          |image/jpeg    |310  |220   |5283d313972a24f0e71c47ae3c99958b|\n",
            "|http://www.mddefp.gouv.qc.ca///poissons/assomption/tumeur.jpg  |tumeur.jpg|jpg      |image/jpeg          |image/jpeg    |310  |220   |5283d313972a24f0e71c47ae3c99958b|\n",
            "|http://www.mddefp.gouv.qc.ca///poissons/richelieu/tumeur.jpg   |tumeur.jpg|jpg      |image/jpeg          |image/jpeg    |310  |220   |5283d313972a24f0e71c47ae3c99958b|\n",
            "|http://www.mddefp.gouv.qc.ca///poissons/yamaska/tumeur.jpg     |tumeur.jpg|jpg      |image/jpeg          |image/jpeg    |310  |220   |5283d313972a24f0e71c47ae3c99958b|\n",
            "|http://www.mddefp.gouv.qc.ca///poissons/st-francois/tumeur.jpg |tumeur.jpg|jpg      |image/jpeg          |image/jpeg    |310  |220   |5283d313972a24f0e71c47ae3c99958b|\n",
            "|http://www.mddefp.gouv.qc.ca///poissons/st-maurice/tumeur.jpg  |tumeur.jpg|jpg      |image/jpeg          |image/jpeg    |310  |220   |5283d313972a24f0e71c47ae3c99958b|\n",
            "|http://www.mddefp.gouv.qc.ca//poissons/yamaska/tumeur.jpg      |tumeur.jpg|jpg      |image/jpeg          |image/jpeg    |310  |220   |5283d313972a24f0e71c47ae3c99958b|\n",
            "|http://www.mddefp.gouv.qc.ca//poissons/st-francois/tumeur.jpg  |tumeur.jpg|jpg      |image/jpeg          |image/jpeg    |310  |220   |5283d313972a24f0e71c47ae3c99958b|\n",
            "|http://www.mddefp.gouv.qc.ca////poissons/st-maurice/tumeur.jpg |tumeur.jpg|jpg      |image/jpeg          |image/jpeg    |310  |220   |5283d313972a24f0e71c47ae3c99958b|\n",
            "|http://www.mddelcc.gouv.qc.ca//poissons/richelieu/tumeur.jpg   |tumeur.jpg|jpg      |image/jpeg          |image/jpeg    |310  |220   |5283d313972a24f0e71c47ae3c99958b|\n",
            "|http://www.mddefp.gouv.qc.ca/poissons/chaudiere/tumeur.jpg     |tumeur.jpg|jpg      |image/jpeg          |image/jpeg    |310  |220   |5283d313972a24f0e71c47ae3c99958b|\n",
            "|http://www.mddep.gouv.qc.ca//poissons/assomption/tumeur.jpg    |tumeur.jpg|jpg      |image/jpeg          |image/jpeg    |310  |220   |5283d313972a24f0e71c47ae3c99958b|\n",
            "|http://www.mddelcc.gouv.qc.ca/poissons/chateauguay/tumeur.jpg  |tumeur.jpg|jpg      |image/jpeg          |image/jpeg    |310  |220   |5283d313972a24f0e71c47ae3c99958b|\n",
            "|http://mddep.gouv.qc.ca////poissons/richelieu/tumeur.jpg       |tumeur.jpg|jpg      |image/jpeg          |image/jpeg    |310  |220   |5283d313972a24f0e71c47ae3c99958b|\n",
            "|http://www.mddelcc.gouv.qc.ca//poissons/chaudiere/tumeur.jpg   |tumeur.jpg|jpg      |image/jpeg          |image/jpeg    |310  |220   |5283d313972a24f0e71c47ae3c99958b|\n",
            "|http://www.mddelcc.gouv.qc.ca//poissons/st-maurice/tumeur.jpg  |tumeur.jpg|jpg      |image/jpeg          |image/jpeg    |310  |220   |5283d313972a24f0e71c47ae3c99958b|\n",
            "|http://mddep.gouv.qc.ca///poissons/chaudiere/tumeur.jpg        |tumeur.jpg|jpg      |image/jpeg          |image/jpeg    |310  |220   |5283d313972a24f0e71c47ae3c99958b|\n",
            "|http://mddep.gouv.qc.ca///poissons/chateauguay/tumeur.jpg      |tumeur.jpg|jpg      |image/jpeg          |image/jpeg    |310  |220   |5283d313972a24f0e71c47ae3c99958b|\n",
            "|http://mddep.gouv.qc.ca//poissons/richelieu/tumeur.jpg         |tumeur.jpg|jpg      |image/jpeg          |image/jpeg    |310  |220   |5283d313972a24f0e71c47ae3c99958b|\n",
            "|http://www.mddep.gouv.qc.ca//poissons/st-francois/tumeur.jpg   |tumeur.jpg|jpg      |image/jpeg          |image/jpeg    |310  |220   |5283d313972a24f0e71c47ae3c99958b|\n",
            "|http://mddep.gouv.qc.ca////poissons/assomption/tumeur.jpg      |tumeur.jpg|jpg      |image/jpeg          |image/jpeg    |310  |220   |5283d313972a24f0e71c47ae3c99958b|\n",
            "|http://mddep.gouv.qc.ca////poissons/st-francois/tumeur.jpg     |tumeur.jpg|jpg      |image/jpeg          |image/jpeg    |310  |220   |5283d313972a24f0e71c47ae3c99958b|\n",
            "|http://mddep.gouv.qc.ca////poissons/yamaska/tumeur.jpg         |tumeur.jpg|jpg      |image/jpeg          |image/jpeg    |310  |220   |5283d313972a24f0e71c47ae3c99958b|\n",
            "|http://www.mddep.gouv.qc.ca/poissons/st-charles/tumeur.jpg     |tumeur.jpg|jpg      |image/jpeg          |image/jpeg    |310  |220   |5283d313972a24f0e71c47ae3c99958b|\n",
            "|http://www.mddep.gouv.qc.ca/poissons/chateauguay/tumeur.jpg    |tumeur.jpg|jpg      |image/jpeg          |image/jpeg    |310  |220   |5283d313972a24f0e71c47ae3c99958b|\n",
            "|http://www.mddep.gouv.qc.ca/poissons/st-maurice/tumeur.jpg     |tumeur.jpg|jpg      |image/jpeg          |image/jpeg    |310  |220   |5283d313972a24f0e71c47ae3c99958b|\n",
            "|http://www.mddep.gouv.qc.ca/poissons/st-francois/tumeur.jpg    |tumeur.jpg|jpg      |image/jpeg          |image/jpeg    |310  |220   |5283d313972a24f0e71c47ae3c99958b|\n",
            "|http://www.mddep.gouv.qc.ca/poissons/assomption/tumeur.jpg     |tumeur.jpg|jpg      |image/jpeg          |image/jpeg    |310  |220   |5283d313972a24f0e71c47ae3c99958b|\n",
            "|http://www.mddep.gouv.qc.ca/poissons/yamaska/tumeur.jpg        |tumeur.jpg|jpg      |image/jpeg          |image/jpeg    |310  |220   |5283d313972a24f0e71c47ae3c99958b|\n",
            "|http://www.mddep.gouv.qc.ca/poissons/richelieu/tumeur.jpg      |tumeur.jpg|jpg      |image/jpeg          |image/jpeg    |310  |220   |5283d313972a24f0e71c47ae3c99958b|\n",
            "|http://www.mddep.gouv.qc.ca///poissons/st-charles/tumeur.jpg   |tumeur.jpg|jpg      |image/jpeg          |image/jpeg    |310  |220   |5283d313972a24f0e71c47ae3c99958b|\n",
            "|http://www.mddefp.gouv.qc.ca//poissons/st-maurice/tumeur.jpg   |tumeur.jpg|jpg      |image/jpeg          |image/jpeg    |310  |220   |5283d313972a24f0e71c47ae3c99958b|\n",
            "|http://www.mddefp.gouv.qc.ca//poissons/chaudiere/tumeur.jpg    |tumeur.jpg|jpg      |image/jpeg          |image/jpeg    |310  |220   |5283d313972a24f0e71c47ae3c99958b|\n",
            "|http://www.mddefp.gouv.qc.ca////poissons/st-charles/tumeur.jpg |tumeur.jpg|jpg      |image/jpeg          |image/jpeg    |310  |220   |5283d313972a24f0e71c47ae3c99958b|\n",
            "|http://www.mddefp.gouv.qc.ca////poissons/chaudiere/tumeur.jpg  |tumeur.jpg|jpg      |image/jpeg          |image/jpeg    |310  |220   |5283d313972a24f0e71c47ae3c99958b|\n",
            "|http://www.mddefp.gouv.qc.ca////poissons/chateauguay/tumeur.jpg|tumeur.jpg|jpg      |image/jpeg          |image/jpeg    |310  |220   |5283d313972a24f0e71c47ae3c99958b|\n",
            "|http://www.mddefp.gouv.qc.ca////poissons/richelieu/tumeur.jpg  |tumeur.jpg|jpg      |image/jpeg          |image/jpeg    |310  |220   |5283d313972a24f0e71c47ae3c99958b|\n",
            "|http://www.mddefp.gouv.qc.ca//poissons/st-maurice/tumeur.jpg   |tumeur.jpg|jpg      |image/jpeg          |image/jpeg    |310  |220   |5283d313972a24f0e71c47ae3c99958b|\n",
            "|http://mddefp.gouv.qc.ca/poissons/st-charles/tumeur.jpg        |tumeur.jpg|jpg      |image/jpeg          |image/jpeg    |310  |220   |5283d313972a24f0e71c47ae3c99958b|\n",
            "|http://www.mddelcc.gouv.qc.ca/poissons/chaudiere/tumeur.jpg    |tumeur.jpg|jpg      |image/jpeg          |image/jpeg    |310  |220   |5283d313972a24f0e71c47ae3c99958b|\n",
            "|http://www.mddelcc.gouv.qc.ca//poissons/st-charles/tumeur.jpg  |tumeur.jpg|jpg      |image/jpeg          |image/jpeg    |310  |220   |5283d313972a24f0e71c47ae3c99958b|\n",
            "|http://www.mddefp.gouv.qc.ca///poissons/st-charles/tumeur.jpg  |tumeur.jpg|jpg      |image/jpeg          |image/jpeg    |310  |220   |5283d313972a24f0e71c47ae3c99958b|\n",
            "|http://www.mddefp.gouv.qc.ca///poissons/assomption/tumeur.jpg  |tumeur.jpg|jpg      |image/jpeg          |image/jpeg    |310  |220   |5283d313972a24f0e71c47ae3c99958b|\n",
            "|http://mddep.gouv.qc.ca///poissons/st-charles/tumeur.jpg       |tumeur.jpg|jpg      |image/jpeg          |image/jpeg    |310  |220   |5283d313972a24f0e71c47ae3c99958b|\n",
            "|http://mddep.gouv.qc.ca///poissons/st-maurice/tumeur.jpg       |tumeur.jpg|jpg      |image/jpeg          |image/jpeg    |310  |220   |5283d313972a24f0e71c47ae3c99958b|\n",
            "|http://mddep.gouv.qc.ca///poissons/richelieu/tumeur.jpg        |tumeur.jpg|jpg      |image/jpeg          |image/jpeg    |310  |220   |5283d313972a24f0e71c47ae3c99958b|\n",
            "|http://mddep.gouv.qc.ca///poissons/st-francois/tumeur.jpg      |tumeur.jpg|jpg      |image/jpeg          |image/jpeg    |310  |220   |5283d313972a24f0e71c47ae3c99958b|\n",
            "|http://www.mddep.gouv.qc.ca/poissons/chaudiere/tumeur.jpg      |tumeur.jpg|jpg      |image/jpeg          |image/jpeg    |310  |220   |5283d313972a24f0e71c47ae3c99958b|\n",
            "|http://www.mddep.gouv.qc.ca/poissons/assomption/tumeur.jpg     |tumeur.jpg|jpg      |image/jpeg          |image/jpeg    |310  |220   |5283d313972a24f0e71c47ae3c99958b|\n",
            "|http://www.mddefp.gouv.qc.ca//poissons/st-francois/tumeur.jpg  |tumeur.jpg|jpg      |image/jpeg          |image/jpeg    |310  |220   |5283d313972a24f0e71c47ae3c99958b|\n",
            "|http://www.mddefp.gouv.qc.ca//poissons/richelieu/tumeur.jpg    |tumeur.jpg|jpg      |image/jpeg          |image/jpeg    |310  |220   |5283d313972a24f0e71c47ae3c99958b|\n",
            "|http://www.mddelcc.gouv.qc.ca/poissons/yamaska/tumeur.jpg      |tumeur.jpg|jpg      |image/jpeg          |image/jpeg    |310  |220   |5283d313972a24f0e71c47ae3c99958b|\n",
            "|http://www.mddelcc.gouv.qc.ca/poissons/st-charles/tumeur.jpg   |tumeur.jpg|jpg      |image/jpeg          |image/jpeg    |310  |220   |5283d313972a24f0e71c47ae3c99958b|\n",
            "|http://www.mddelcc.gouv.qc.ca/poissons/chateauguay/tumeur.jpg  |tumeur.jpg|jpg      |image/jpeg          |image/jpeg    |310  |220   |5283d313972a24f0e71c47ae3c99958b|\n",
            "|http://www.mddelcc.gouv.qc.ca/poissons/assomption/tumeur.jpg   |tumeur.jpg|jpg      |image/jpeg          |image/jpeg    |310  |220   |5283d313972a24f0e71c47ae3c99958b|\n",
            "|http://www.mddelcc.gouv.qc.ca/poissons/st-francois/tumeur.jpg  |tumeur.jpg|jpg      |image/jpeg          |image/jpeg    |310  |220   |5283d313972a24f0e71c47ae3c99958b|\n",
            "|http://www.mddelcc.gouv.qc.ca/poissons/chaudiere/tumeur.jpg    |tumeur.jpg|jpg      |image/jpeg          |image/jpeg    |310  |220   |5283d313972a24f0e71c47ae3c99958b|\n",
            "|http://www.mddelcc.gouv.qc.ca/poissons/st-maurice/tumeur.jpg   |tumeur.jpg|jpg      |image/jpeg          |image/jpeg    |310  |220   |5283d313972a24f0e71c47ae3c99958b|\n",
            "|http://www.mddelcc.gouv.qc.ca/poissons/richelieu/tumeur.jpg    |tumeur.jpg|jpg      |image/jpeg          |image/jpeg    |310  |220   |5283d313972a24f0e71c47ae3c99958b|\n",
            "|http://www.mddefp.gouv.qc.ca////poissons/st-charles/tumeur.jpg |tumeur.jpg|jpg      |image/jpeg          |image/jpeg    |310  |220   |5283d313972a24f0e71c47ae3c99958b|\n",
            "|http://www.mddefp.gouv.qc.ca////poissons/chaudiere/tumeur.jpg  |tumeur.jpg|jpg      |image/jpeg          |image/jpeg    |310  |220   |5283d313972a24f0e71c47ae3c99958b|\n",
            "|http://www.mddefp.gouv.qc.ca////poissons/chateauguay/tumeur.jpg|tumeur.jpg|jpg      |image/jpeg          |image/jpeg    |310  |220   |5283d313972a24f0e71c47ae3c99958b|\n",
            "|http://www.mddefp.gouv.qc.ca////poissons/richelieu/tumeur.jpg  |tumeur.jpg|jpg      |image/jpeg          |image/jpeg    |310  |220   |5283d313972a24f0e71c47ae3c99958b|\n",
            "|http://www.mddep.gouv.qc.ca/poissons/st-francois/tumeur.jpg    |tumeur.jpg|jpg      |image/jpeg          |image/jpeg    |310  |220   |5283d313972a24f0e71c47ae3c99958b|\n",
            "|http://mddep.gouv.qc.ca///poissons/yamaska/tumeur.jpg          |tumeur.jpg|jpg      |image/jpeg          |image/jpeg    |310  |220   |5283d313972a24f0e71c47ae3c99958b|\n",
            "|http://mddep.gouv.qc.ca///poissons/assomption/tumeur.jpg       |tumeur.jpg|jpg      |image/jpeg          |image/jpeg    |310  |220   |5283d313972a24f0e71c47ae3c99958b|\n",
            "|http://www.mddep.gouv.qc.ca///poissons/st-francois/tumeur.jpg  |tumeur.jpg|jpg      |image/jpeg          |image/jpeg    |310  |220   |5283d313972a24f0e71c47ae3c99958b|\n",
            "|http://www.mddep.gouv.qc.ca///poissons/assomption/tumeur.jpg   |tumeur.jpg|jpg      |image/jpeg          |image/jpeg    |310  |220   |5283d313972a24f0e71c47ae3c99958b|\n",
            "|http://www.mddefp.gouv.qc.ca/poissons/st-maurice/tumeur.jpg    |tumeur.jpg|jpg      |image/jpeg          |image/jpeg    |310  |220   |5283d313972a24f0e71c47ae3c99958b|\n",
            "|http://mddep.gouv.qc.ca////poissons/st-charles/tumeur.jpg      |tumeur.jpg|jpg      |image/jpeg          |image/jpeg    |310  |220   |5283d313972a24f0e71c47ae3c99958b|\n",
            "|http://mddefp.gouv.qc.ca/poissons/assomption/tumeur.jpg        |tumeur.jpg|jpg      |image/jpeg          |image/jpeg    |310  |220   |5283d313972a24f0e71c47ae3c99958b|\n",
            "|http://mddefp.gouv.qc.ca/poissons/richelieu/tumeur.jpg         |tumeur.jpg|jpg      |image/jpeg          |image/jpeg    |310  |220   |5283d313972a24f0e71c47ae3c99958b|\n",
            "|http://www.mddelcc.gouv.qc.ca/poissons/yamaska/tumeur.jpg      |tumeur.jpg|jpg      |image/jpeg          |image/jpeg    |310  |220   |5283d313972a24f0e71c47ae3c99958b|\n",
            "|http://mddep.gouv.qc.ca////poissons/chateauguay/tumeur.jpg     |tumeur.jpg|jpg      |image/jpeg          |image/jpeg    |310  |220   |5283d313972a24f0e71c47ae3c99958b|\n",
            "|http://www.mddelcc.gouv.qc.ca/poissons/st-charles/tumeur.jpg   |tumeur.jpg|jpg      |image/jpeg          |image/jpeg    |310  |220   |5283d313972a24f0e71c47ae3c99958b|\n",
            "|http://www.mddelcc.gouv.qc.ca//poissons/chateauguay/tumeur.jpg |tumeur.jpg|jpg      |image/jpeg          |image/jpeg    |310  |220   |5283d313972a24f0e71c47ae3c99958b|\n",
            "|http://www.mddelcc.gouv.qc.ca/poissons/st-maurice/tumeur.jpg   |tumeur.jpg|jpg      |image/jpeg          |image/jpeg    |310  |220   |5283d313972a24f0e71c47ae3c99958b|\n",
            "|http://www.mddep.gouv.qc.ca//poissons/st-maurice/tumeur.jpg    |tumeur.jpg|jpg      |image/jpeg          |image/jpeg    |310  |220   |5283d313972a24f0e71c47ae3c99958b|\n",
            "|http://www.mddep.gouv.qc.ca////poissons/assomption/tumeur.jpg  |tumeur.jpg|jpg      |image/jpeg          |image/jpeg    |310  |220   |5283d313972a24f0e71c47ae3c99958b|\n",
            "|http://www.mddep.gouv.qc.ca////poissons/chaudiere/tumeur.jpg   |tumeur.jpg|jpg      |image/jpeg          |image/jpeg    |310  |220   |5283d313972a24f0e71c47ae3c99958b|\n",
            "|http://www.mddep.gouv.qc.ca////poissons/yamaska/tumeur.jpg     |tumeur.jpg|jpg      |image/jpeg          |image/jpeg    |310  |220   |5283d313972a24f0e71c47ae3c99958b|\n",
            "|http://www.mddep.gouv.qc.ca////poissons/st-francois/tumeur.jpg |tumeur.jpg|jpg      |image/jpeg          |image/jpeg    |310  |220   |5283d313972a24f0e71c47ae3c99958b|\n",
            "|http://www.mddep.gouv.qc.ca////poissons/chateauguay/tumeur.jpg |tumeur.jpg|jpg      |image/jpeg          |image/jpeg    |310  |220   |5283d313972a24f0e71c47ae3c99958b|\n",
            "|http://www.mddep.gouv.qc.ca////poissons/st-charles/tumeur.jpg  |tumeur.jpg|jpg      |image/jpeg          |image/jpeg    |310  |220   |5283d313972a24f0e71c47ae3c99958b|\n",
            "|http://mddep.gouv.qc.ca//poissons/st-francois/tumeur.jpg       |tumeur.jpg|jpg      |image/jpeg          |image/jpeg    |310  |220   |5283d313972a24f0e71c47ae3c99958b|\n",
            "|http://www.mddefp.gouv.qc.ca//poissons/richelieu/tumeur.jpg    |tumeur.jpg|jpg      |image/jpeg          |image/jpeg    |310  |220   |5283d313972a24f0e71c47ae3c99958b|\n",
            "|http://www.mddelcc.gouv.qc.ca/poissons/st-maurice/tumeur.jpg   |tumeur.jpg|jpg      |image/jpeg          |image/jpeg    |310  |220   |5283d313972a24f0e71c47ae3c99958b|\n",
            "|http://www.mddelcc.gouv.qc.ca/poissons/richelieu/tumeur.jpg    |tumeur.jpg|jpg      |image/jpeg          |image/jpeg    |310  |220   |5283d313972a24f0e71c47ae3c99958b|\n",
            "|http://www.mddelcc.gouv.qc.ca/poissons/st-francois/tumeur.jpg  |tumeur.jpg|jpg      |image/jpeg          |image/jpeg    |310  |220   |5283d313972a24f0e71c47ae3c99958b|\n",
            "|http://www.mddelcc.gouv.qc.ca/poissons/chaudiere/tumeur.jpg    |tumeur.jpg|jpg      |image/jpeg          |image/jpeg    |310  |220   |5283d313972a24f0e71c47ae3c99958b|\n",
            "|http://www.mddelcc.gouv.qc.ca/poissons/assomption/tumeur.jpg   |tumeur.jpg|jpg      |image/jpeg          |image/jpeg    |310  |220   |5283d313972a24f0e71c47ae3c99958b|\n",
            "|http://www.mddelcc.gouv.qc.ca/poissons/yamaska/tumeur.jpg      |tumeur.jpg|jpg      |image/jpeg          |image/jpeg    |310  |220   |5283d313972a24f0e71c47ae3c99958b|\n",
            "|http://www.mddelcc.gouv.qc.ca/poissons/st-charles/tumeur.jpg   |tumeur.jpg|jpg      |image/jpeg          |image/jpeg    |310  |220   |5283d313972a24f0e71c47ae3c99958b|\n",
            "|http://www.mddelcc.gouv.qc.ca/poissons/chateauguay/tumeur.jpg  |tumeur.jpg|jpg      |image/jpeg          |image/jpeg    |310  |220   |5283d313972a24f0e71c47ae3c99958b|\n",
            "|http://www.mddep.gouv.qc.ca/poissons/chaudiere/tumeur.jpg      |tumeur.jpg|jpg      |image/jpeg          |image/jpeg    |310  |220   |5283d313972a24f0e71c47ae3c99958b|\n",
            "|http://www.mddelcc.gouv.qc.ca/poissons/st-maurice/tumeur.jpg   |tumeur.jpg|jpg      |image/jpeg          |image/jpeg    |310  |220   |5283d313972a24f0e71c47ae3c99958b|\n",
            "|http://www.mddelcc.gouv.qc.ca/poissons/richelieu/tumeur.jpg    |tumeur.jpg|jpg      |image/jpeg          |image/jpeg    |310  |220   |5283d313972a24f0e71c47ae3c99958b|\n",
            "|http://www.mddelcc.gouv.qc.ca/poissons/st-francois/tumeur.jpg  |tumeur.jpg|jpg      |image/jpeg          |image/jpeg    |310  |220   |5283d313972a24f0e71c47ae3c99958b|\n",
            "|http://www.mddelcc.gouv.qc.ca/poissons/chaudiere/tumeur.jpg    |tumeur.jpg|jpg      |image/jpeg          |image/jpeg    |310  |220   |5283d313972a24f0e71c47ae3c99958b|\n",
            "|http://www.mddelcc.gouv.qc.ca/poissons/assomption/tumeur.jpg   |tumeur.jpg|jpg      |image/jpeg          |image/jpeg    |310  |220   |5283d313972a24f0e71c47ae3c99958b|\n",
            "|http://www.mddelcc.gouv.qc.ca/poissons/yamaska/tumeur.jpg      |tumeur.jpg|jpg      |image/jpeg          |image/jpeg    |310  |220   |5283d313972a24f0e71c47ae3c99958b|\n",
            "|http://www.mddelcc.gouv.qc.ca/poissons/st-charles/tumeur.jpg   |tumeur.jpg|jpg      |image/jpeg          |image/jpeg    |310  |220   |5283d313972a24f0e71c47ae3c99958b|\n",
            "|http://www.mddelcc.gouv.qc.ca/poissons/chateauguay/tumeur.jpg  |tumeur.jpg|jpg      |image/jpeg          |image/jpeg    |310  |220   |5283d313972a24f0e71c47ae3c99958b|\n",
            "|http://www.mddep.gouv.qc.ca/poissons/st-charles/tumeur.jpg     |tumeur.jpg|jpg      |image/jpeg          |image/jpeg    |310  |220   |5283d313972a24f0e71c47ae3c99958b|\n",
            "|http://www.mddep.gouv.qc.ca/poissons/yamaska/tumeur.jpg        |tumeur.jpg|jpg      |image/jpeg          |image/jpeg    |310  |220   |5283d313972a24f0e71c47ae3c99958b|\n",
            "|http://mddefp.gouv.qc.ca/poissons/st-charles/tumeur.jpg        |tumeur.jpg|jpg      |image/jpeg          |image/jpeg    |310  |220   |5283d313972a24f0e71c47ae3c99958b|\n",
            "|http://mddefp.gouv.qc.ca/poissons/chateauguay/tumeur.jpg       |tumeur.jpg|jpg      |image/jpeg          |image/jpeg    |310  |220   |5283d313972a24f0e71c47ae3c99958b|\n",
            "|http://mddep.gouv.qc.ca////poissons/st-maurice/tumeur.jpg      |tumeur.jpg|jpg      |image/jpeg          |image/jpeg    |310  |220   |5283d313972a24f0e71c47ae3c99958b|\n",
            "|http://mddep.gouv.qc.ca//poissons/yamaska/tumeur.jpg           |tumeur.jpg|jpg      |image/jpeg          |image/jpeg    |310  |220   |5283d313972a24f0e71c47ae3c99958b|\n",
            "|http://mddep.gouv.qc.ca//poissons/assomption/tumeur.jpg        |tumeur.jpg|jpg      |image/jpeg          |image/jpeg    |310  |220   |5283d313972a24f0e71c47ae3c99958b|\n",
            "|http://www.mddefp.gouv.qc.ca//poissons/st-charles/tumeur.jpg   |tumeur.jpg|jpg      |image/jpeg          |image/jpeg    |310  |220   |5283d313972a24f0e71c47ae3c99958b|\n",
            "|http://www.mddefp.gouv.qc.ca////poissons/st-francois/tumeur.jpg|tumeur.jpg|jpg      |image/jpeg          |image/jpeg    |310  |220   |5283d313972a24f0e71c47ae3c99958b|\n",
            "|http://www.mddefp.gouv.qc.ca////poissons/yamaska/tumeur.jpg    |tumeur.jpg|jpg      |image/jpeg          |image/jpeg    |310  |220   |5283d313972a24f0e71c47ae3c99958b|\n",
            "|http://www.mddefp.gouv.qc.ca////poissons/st-maurice/tumeur.jpg |tumeur.jpg|jpg      |image/jpeg          |image/jpeg    |310  |220   |5283d313972a24f0e71c47ae3c99958b|\n",
            "|http://mddefp.gouv.qc.ca/poissons/assomption/tumeur.jpg        |tumeur.jpg|jpg      |image/jpeg          |image/jpeg    |310  |220   |5283d313972a24f0e71c47ae3c99958b|\n",
            "|http://mddefp.gouv.qc.ca/poissons/chateauguay/tumeur.jpg       |tumeur.jpg|jpg      |image/jpeg          |image/jpeg    |310  |220   |5283d313972a24f0e71c47ae3c99958b|\n",
            "|http://mddefp.gouv.qc.ca/poissons/st-francois/tumeur.jpg       |tumeur.jpg|jpg      |image/jpeg          |image/jpeg    |310  |220   |5283d313972a24f0e71c47ae3c99958b|\n",
            "|http://mddefp.gouv.qc.ca/poissons/st-maurice/tumeur.jpg        |tumeur.jpg|jpg      |image/jpeg          |image/jpeg    |310  |220   |5283d313972a24f0e71c47ae3c99958b|\n",
            "|http://mddefp.gouv.qc.ca/poissons/richelieu/tumeur.jpg         |tumeur.jpg|jpg      |image/jpeg          |image/jpeg    |310  |220   |5283d313972a24f0e71c47ae3c99958b|\n",
            "|http://mddefp.gouv.qc.ca/poissons/yamaska/tumeur.jpg           |tumeur.jpg|jpg      |image/jpeg          |image/jpeg    |310  |220   |5283d313972a24f0e71c47ae3c99958b|\n",
            "|http://mddefp.gouv.qc.ca/poissons/chaudiere/tumeur.jpg         |tumeur.jpg|jpg      |image/jpeg          |image/jpeg    |310  |220   |5283d313972a24f0e71c47ae3c99958b|\n",
            "|http://www.mddep.gouv.qc.ca/poissons/st-maurice/tumeur.jpg     |tumeur.jpg|jpg      |image/jpeg          |image/jpeg    |310  |220   |5283d313972a24f0e71c47ae3c99958b|\n",
            "|http://www.mddep.gouv.qc.ca/poissons/chateauguay/tumeur.jpg    |tumeur.jpg|jpg      |image/jpeg          |image/jpeg    |310  |220   |5283d313972a24f0e71c47ae3c99958b|\n",
            "|http://www.mddep.gouv.qc.ca/poissons/chaudiere/tumeur.jpg      |tumeur.jpg|jpg      |image/jpeg          |image/jpeg    |310  |220   |5283d313972a24f0e71c47ae3c99958b|\n",
            "|http://www.mddefp.gouv.qc.ca///poissons/st-francois/tumeur.jpg |tumeur.jpg|jpg      |image/jpeg          |image/jpeg    |310  |220   |5283d313972a24f0e71c47ae3c99958b|\n",
            "|http://www.mddefp.gouv.qc.ca///poissons/yamaska/tumeur.jpg     |tumeur.jpg|jpg      |image/jpeg          |image/jpeg    |310  |220   |5283d313972a24f0e71c47ae3c99958b|\n",
            "|http://www.mddefp.gouv.qc.ca///poissons/richelieu/tumeur.jpg   |tumeur.jpg|jpg      |image/jpeg          |image/jpeg    |310  |220   |5283d313972a24f0e71c47ae3c99958b|\n",
            "|http://www.mddefp.gouv.qc.ca///poissons/st-maurice/tumeur.jpg  |tumeur.jpg|jpg      |image/jpeg          |image/jpeg    |310  |220   |5283d313972a24f0e71c47ae3c99958b|\n",
            "|http://www.mddep.gouv.qc.ca///poissons/chateauguay/tumeur.jpg  |tumeur.jpg|jpg      |image/jpeg          |image/jpeg    |310  |220   |5283d313972a24f0e71c47ae3c99958b|\n",
            "|http://mddep.gouv.qc.ca//poissons/chaudiere/tumeur.jpg         |tumeur.jpg|jpg      |image/jpeg          |image/jpeg    |310  |220   |5283d313972a24f0e71c47ae3c99958b|\n",
            "|http://mddep.gouv.qc.ca//poissons/st-maurice/tumeur.jpg        |tumeur.jpg|jpg      |image/jpeg          |image/jpeg    |310  |220   |5283d313972a24f0e71c47ae3c99958b|\n",
            "|http://www.mddep.gouv.qc.ca///poissons/richelieu/tumeur.jpg    |tumeur.jpg|jpg      |image/jpeg          |image/jpeg    |310  |220   |5283d313972a24f0e71c47ae3c99958b|\n",
            "|http://www.mddefp.gouv.qc.ca//poissons/assomption/tumeur.jpg   |tumeur.jpg|jpg      |image/jpeg          |image/jpeg    |310  |220   |5283d313972a24f0e71c47ae3c99958b|\n",
            "|http://www.mddefp.gouv.qc.ca//poissons/yamaska/tumeur.jpg      |tumeur.jpg|jpg      |image/jpeg          |image/jpeg    |310  |220   |5283d313972a24f0e71c47ae3c99958b|\n",
            "|http://www.mddep.gouv.qc.ca///poissons/yamaska/tumeur.jpg      |tumeur.jpg|jpg      |image/jpeg          |image/jpeg    |310  |220   |5283d313972a24f0e71c47ae3c99958b|\n",
            "|http://www.mddefp.gouv.qc.ca//poissons/chateauguay/tumeur.jpg  |tumeur.jpg|jpg      |image/jpeg          |image/jpeg    |310  |220   |5283d313972a24f0e71c47ae3c99958b|\n",
            "|http://mddep.gouv.qc.ca//poissons/st-charles/tumeur.jpg        |tumeur.jpg|jpg      |image/jpeg          |image/jpeg    |310  |220   |5283d313972a24f0e71c47ae3c99958b|\n",
            "|http://www.mddep.gouv.qc.ca//poissons/richelieu/tumeur.jpg     |tumeur.jpg|jpg      |image/jpeg          |image/jpeg    |310  |220   |5283d313972a24f0e71c47ae3c99958b|\n",
            "|http://www.mddefp.gouv.qc.ca///poissons/st-charles/tumeur.jpg  |tumeur.jpg|jpg      |image/jpeg          |image/jpeg    |310  |220   |5283d313972a24f0e71c47ae3c99958b|\n",
            "|http://www.mddefp.gouv.qc.ca//poissons/assomption/tumeur.jpg   |tumeur.jpg|jpg      |image/jpeg          |image/jpeg    |310  |220   |5283d313972a24f0e71c47ae3c99958b|\n",
            "|http://www.mddep.gouv.qc.ca/poissons/richelieu/tumeur.jpg      |tumeur.jpg|jpg      |image/jpeg          |image/jpeg    |310  |220   |5283d313972a24f0e71c47ae3c99958b|\n",
            "|http://www.mddep.gouv.qc.ca/poissons/st-maurice/tumeur.jpg     |tumeur.jpg|jpg      |image/jpeg          |image/jpeg    |310  |220   |5283d313972a24f0e71c47ae3c99958b|\n",
            "|http://www.mddep.gouv.qc.ca/poissons/st-francois/tumeur.jpg    |tumeur.jpg|jpg      |image/jpeg          |image/jpeg    |310  |220   |5283d313972a24f0e71c47ae3c99958b|\n",
            "|http://www.mddep.gouv.qc.ca/poissons/chaudiere/tumeur.jpg      |tumeur.jpg|jpg      |image/jpeg          |image/jpeg    |310  |220   |5283d313972a24f0e71c47ae3c99958b|\n",
            "|http://www.mddep.gouv.qc.ca/poissons/yamaska/tumeur.jpg        |tumeur.jpg|jpg      |image/jpeg          |image/jpeg    |310  |220   |5283d313972a24f0e71c47ae3c99958b|\n",
            "|http://www.mddefp.gouv.qc.ca////poissons/assomption/tumeur.jpg |tumeur.jpg|jpg      |image/jpeg          |image/jpeg    |310  |220   |5283d313972a24f0e71c47ae3c99958b|\n",
            "|http://www.mddep.gouv.qc.ca/poissons/chateauguay/tumeur.jpg    |tumeur.jpg|jpg      |image/jpeg          |image/jpeg    |310  |220   |5283d313972a24f0e71c47ae3c99958b|\n",
            "|http://www.mddep.gouv.qc.ca/poissons/assomption/tumeur.jpg     |tumeur.jpg|jpg      |image/jpeg          |image/jpeg    |310  |220   |5283d313972a24f0e71c47ae3c99958b|\n",
            "|http://www.mddep.gouv.qc.ca/poissons/st-charles/tumeur.jpg     |tumeur.jpg|jpg      |image/jpeg          |image/jpeg    |310  |220   |5283d313972a24f0e71c47ae3c99958b|\n",
            "|http://mddep.gouv.qc.ca////poissons/chaudiere/tumeur.jpg       |tumeur.jpg|jpg      |image/jpeg          |image/jpeg    |310  |220   |5283d313972a24f0e71c47ae3c99958b|\n",
            "|http://www.mddep.gouv.qc.ca////poissons/richelieu/tumeur.jpg   |tumeur.jpg|jpg      |image/jpeg          |image/jpeg    |310  |220   |5283d313972a24f0e71c47ae3c99958b|\n",
            "|http://www.mddep.gouv.qc.ca////poissons/st-maurice/tumeur.jpg  |tumeur.jpg|jpg      |image/jpeg          |image/jpeg    |310  |220   |5283d313972a24f0e71c47ae3c99958b|\n",
            "|http://www.mddelcc.gouv.qc.ca/poissons/st-francois/tumeur.jpg  |tumeur.jpg|jpg      |image/jpeg          |image/jpeg    |310  |220   |5283d313972a24f0e71c47ae3c99958b|\n",
            "|http://www.mddelcc.gouv.qc.ca/poissons/richelieu/tumeur.jpg    |tumeur.jpg|jpg      |image/jpeg          |image/jpeg    |310  |220   |5283d313972a24f0e71c47ae3c99958b|\n",
            "|http://www.mddelcc.gouv.qc.ca/poissons/assomption/tumeur.jpg   |tumeur.jpg|jpg      |image/jpeg          |image/jpeg    |310  |220   |5283d313972a24f0e71c47ae3c99958b|\n",
            "|http://www.mddep.gouv.qc.ca//poissons/chateauguay/tumeur.jpg   |tumeur.jpg|jpg      |image/jpeg          |image/jpeg    |310  |220   |5283d313972a24f0e71c47ae3c99958b|\n",
            "|http://mddefp.gouv.qc.ca/poissons/yamaska/tumeur.jpg           |tumeur.jpg|jpg      |image/jpeg          |image/jpeg    |310  |220   |5283d313972a24f0e71c47ae3c99958b|\n",
            "|http://www.mddefp.gouv.qc.ca////poissons/assomption/tumeur.jpg |tumeur.jpg|jpg      |image/jpeg          |image/jpeg    |310  |220   |5283d313972a24f0e71c47ae3c99958b|\n",
            "|http://www.mddefp.gouv.qc.ca////poissons/st-francois/tumeur.jpg|tumeur.jpg|jpg      |image/jpeg          |image/jpeg    |310  |220   |5283d313972a24f0e71c47ae3c99958b|\n",
            "|http://www.mddefp.gouv.qc.ca////poissons/yamaska/tumeur.jpg    |tumeur.jpg|jpg      |image/jpeg          |image/jpeg    |310  |220   |5283d313972a24f0e71c47ae3c99958b|\n",
            "|http://mddep.gouv.qc.ca//poissons/chateauguay/tumeur.jpg       |tumeur.jpg|jpg      |image/jpeg          |image/jpeg    |310  |220   |5283d313972a24f0e71c47ae3c99958b|\n",
            "|http://www.mddefp.gouv.qc.ca//poissons/chateauguay/tumeur.jpg  |tumeur.jpg|jpg      |image/jpeg          |image/jpeg    |310  |220   |5283d313972a24f0e71c47ae3c99958b|\n",
            "|http://www.mddefp.gouv.qc.ca///poissons/chateauguay/tumeur.jpg |tumeur.jpg|jpg      |image/jpeg          |image/jpeg    |310  |220   |5283d313972a24f0e71c47ae3c99958b|\n",
            "|http://www.mddefp.gouv.qc.ca///poissons/chaudiere/tumeur.jpg   |tumeur.jpg|jpg      |image/jpeg          |image/jpeg    |310  |220   |5283d313972a24f0e71c47ae3c99958b|\n",
            "|http://mddefp.gouv.qc.ca/poissons/st-francois/tumeur.jpg       |tumeur.jpg|jpg      |image/jpeg          |image/jpeg    |310  |220   |5283d313972a24f0e71c47ae3c99958b|\n",
            "|http://www.mddep.gouv.qc.ca/poissons/assomption/tumeur.jpg     |tumeur.jpg|jpg      |image/jpeg          |image/jpeg    |310  |220   |5283d313972a24f0e71c47ae3c99958b|\n",
            "|http://www.mddep.gouv.qc.ca/poissons/st-charles/tumeur.jpg     |tumeur.jpg|jpg      |image/jpeg          |image/jpeg    |310  |220   |5283d313972a24f0e71c47ae3c99958b|\n",
            "|http://www.mddep.gouv.qc.ca//poissons/st-charles/tumeur.jpg    |tumeur.jpg|jpg      |image/jpeg          |image/jpeg    |310  |220   |5283d313972a24f0e71c47ae3c99958b|\n",
            "|http://www.mddefp.gouv.qc.ca//poissons/chaudiere/tumeur.jpg    |tumeur.jpg|jpg      |image/jpeg          |image/jpeg    |310  |220   |5283d313972a24f0e71c47ae3c99958b|\n",
            "|http://www.mddefp.gouv.qc.ca///poissons/chateauguay/tumeur.jpg |tumeur.jpg|jpg      |image/jpeg          |image/jpeg    |310  |220   |5283d313972a24f0e71c47ae3c99958b|\n",
            "|http://www.mddefp.gouv.qc.ca///poissons/chaudiere/tumeur.jpg   |tumeur.jpg|jpg      |image/jpeg          |image/jpeg    |310  |220   |5283d313972a24f0e71c47ae3c99958b|\n",
            "|http://www.mddep.gouv.qc.ca//poissons/chaudiere/tumeur.jpg     |tumeur.jpg|jpg      |image/jpeg          |image/jpeg    |310  |220   |5283d313972a24f0e71c47ae3c99958b|\n",
            "|http://www.mddep.gouv.qc.ca/poissons/richelieu/tumeur.jpg      |tumeur.jpg|jpg      |image/jpeg          |image/jpeg    |310  |220   |5283d313972a24f0e71c47ae3c99958b|\n",
            "|http://www.mddelcc.gouv.qc.ca//poissons/yamaska/tumeur.jpg     |tumeur.jpg|jpg      |image/jpeg          |image/jpeg    |310  |220   |5283d313972a24f0e71c47ae3c99958b|\n",
            "|http://www.mddelcc.gouv.qc.ca//poissons/assomption/tumeur.jpg  |tumeur.jpg|jpg      |image/jpeg          |image/jpeg    |310  |220   |5283d313972a24f0e71c47ae3c99958b|\n",
            "|http://www.mddelcc.gouv.qc.ca//poissons/st-francois/tumeur.jpg |tumeur.jpg|jpg      |image/jpeg          |image/jpeg    |310  |220   |5283d313972a24f0e71c47ae3c99958b|\n",
            "|http://www.mddep.gouv.qc.ca/poissons/st-francois/tumeur.jpg    |tumeur.jpg|jpg      |image/jpeg          |image/jpeg    |310  |220   |5283d313972a24f0e71c47ae3c99958b|\n",
            "|http://www.mddep.gouv.qc.ca/poissons/st-maurice/tumeur.jpg     |tumeur.jpg|jpg      |image/jpeg          |image/jpeg    |310  |220   |5283d313972a24f0e71c47ae3c99958b|\n",
            "|http://www.mddep.gouv.qc.ca/poissons/chateauguay/tumeur.jpg    |tumeur.jpg|jpg      |image/jpeg          |image/jpeg    |310  |220   |5283d313972a24f0e71c47ae3c99958b|\n",
            "|http://www.mddep.gouv.qc.ca/poissons/richelieu/tumeur.jpg      |tumeur.jpg|jpg      |image/jpeg          |image/jpeg    |310  |220   |5283d313972a24f0e71c47ae3c99958b|\n",
            "|http://www.mddep.gouv.qc.ca//poissons/yamaska/tumeur.jpg       |tumeur.jpg|jpg      |image/jpeg          |image/jpeg    |310  |220   |5283d313972a24f0e71c47ae3c99958b|\n",
            "+---------------------------------------------------------------+----------+---------+--------------------+--------------+-----+------+--------------------------------+\n",
            "\n"
          ],
          "name": "stdout"
        }
      ]
    }
  ]
}
